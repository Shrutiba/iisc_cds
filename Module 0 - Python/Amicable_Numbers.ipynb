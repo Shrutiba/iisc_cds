{
 "cells": [
  {
   "cell_type": "markdown",
   "id": "e47cfa01-49b4-48e3-8e7e-424bca379f54",
   "metadata": {},
   "source": [
    "Euler Problem 21\n",
    "Let d(n) be defined as the sum of proper divisors of n (numbers less than n\n",
    "which divide evenly into n). If d(a) = b and d(b) = a, where a 6= b, then a and\n",
    "b are an amicable pair and each of a and b are called amicable numbers.\n",
    "For example, the proper divisors of 220 are 1, 2, 4, 5, 10, 11, 20, 22, 44, 55\n",
    "and 110; therefore d(220) = 284. The proper divisors of 284 are 1, 2, 4, 71 and\n",
    "142; so d(284) = 220.\n",
    "Evaluate the sum of all the amicable numbers under 10000."
   ]
  },
  {
   "cell_type": "code",
   "execution_count": 5,
   "id": "52707d25-064c-4211-8629-c076ce15c676",
   "metadata": {},
   "outputs": [],
   "source": [
    "import math\n",
    "\n",
    "def get_proper_divisors(number: int) -> list[int]:\n",
    "\n",
    "    proper_divisors = [1]  # 1 is allways a divisor\n",
    "    \n",
    "    for i in range(2, math.isqrt(number)):\n",
    "        if number % i == 0:\n",
    "            proper_divisors.append(i)\n",
    "            proper_divisors.append(number // i)\n",
    "\n",
    "    return proper_divisors"
   ]
  },
  {
   "cell_type": "code",
   "execution_count": 44,
   "id": "dd8fb269-73be-4e81-af1c-0caf032f7985",
   "metadata": {},
   "outputs": [
    {
     "name": "stdout",
     "output_type": "stream",
     "text": [
      "[1, 2, 110, 4, 55, 5, 44, 10, 22, 11, 20]\n"
     ]
    }
   ],
   "source": [
    "# Test\n",
    "print(get_proper_divisors(220))"
   ]
  },
  {
   "cell_type": "code",
   "execution_count": 32,
   "id": "a1156861-f002-4c82-bcc3-49b7ac424557",
   "metadata": {},
   "outputs": [],
   "source": [
    "def amicable_numbers(number_limit: int):\n",
    "\n",
    "    amicable_numbers = []\n",
    "    validated_numbers = []\n",
    "\n",
    "    for i in range(12,number_limit):\n",
    "\n",
    "        if i in validated_numbers:\n",
    "            continue\n",
    "        \n",
    "        number_sum = sum(get_proper_divisors(i))\n",
    "        if number_sum > i and sum(get_proper_divisors(number_sum)) == i: # check only if it is not checked yet\n",
    "            amicable_numbers.append([i,number_sum])\n",
    "\n",
    "        if number_sum > i:\n",
    "            validated_numbers.append(number_sum)\n",
    "        \n",
    "    #print(validated_numbers)\n",
    "\n",
    "    return validated_numbers, amicable_numbers"
   ]
  },
  {
   "cell_type": "code",
   "execution_count": 35,
   "id": "6dd2576f-d1d4-49b0-a0a5-ee6315d22172",
   "metadata": {},
   "outputs": [],
   "source": [
    "def amicable_numbers2(number_limit: int):\n",
    "\n",
    "    amicable_numbers = []\n",
    "    validated_numbers = []\n",
    "\n",
    "    for i in range(12,number_limit):\n",
    "\n",
    "        if i in validated_numbers:\n",
    "            continue\n",
    "        \n",
    "        number_sum = sum(get_proper_divisors(i))\n",
    "        if number_sum != 1 and number_sum != i and sum(get_proper_divisors(number_sum)) == i:\n",
    "            amicable_numbers.append([i,number_sum])\n",
    "\n",
    "        if number_sum > i:\n",
    "            validated_numbers.append(number_sum)\n",
    "        \n",
    "    #print(validated_numbers)\n",
    "\n",
    "    return validated_numbers, amicable_numbers"
   ]
  },
  {
   "cell_type": "code",
   "execution_count": 42,
   "id": "bce1d64d-d7f6-4453-ab70-7f1bc3cd6a59",
   "metadata": {},
   "outputs": [
    {
     "name": "stdout",
     "output_type": "stream",
     "text": [
      "CPU times: user 118 ms, sys: 3.75 ms, total: 122 ms\n",
      "Wall time: 121 ms\n",
      "[[220, 284], [1184, 1210], [2620, 2924], [5020, 5564], [6232, 6368]]\n"
     ]
    }
   ],
   "source": [
    "%time val_num, amic_num = amicable_numbers(10000)\n",
    "print(amic_num)"
   ]
  },
  {
   "cell_type": "code",
   "execution_count": 43,
   "id": "9817cba8-7f92-4229-9920-0cbb4bfe6e54",
   "metadata": {},
   "outputs": [
    {
     "name": "stdout",
     "output_type": "stream",
     "text": [
      "CPU times: user 128 ms, sys: 4.71 ms, total: 133 ms\n",
      "Wall time: 133 ms\n",
      "[[220, 284], [1184, 1210], [2620, 2924], [5020, 5564], [6232, 6368]]\n"
     ]
    }
   ],
   "source": [
    "%time val_num, amic_num = amicable_numbers2(10000)\n",
    "print(amic_num)"
   ]
  },
  {
   "cell_type": "code",
   "execution_count": null,
   "id": "6a211e22-3654-46fa-a997-686a8c2f2593",
   "metadata": {},
   "outputs": [],
   "source": []
  }
 ],
 "metadata": {
  "kernelspec": {
   "display_name": "Python 3 (ipykernel)",
   "language": "python",
   "name": "python3"
  },
  "language_info": {
   "codemirror_mode": {
    "name": "ipython",
    "version": 3
   },
   "file_extension": ".py",
   "mimetype": "text/x-python",
   "name": "python",
   "nbconvert_exporter": "python",
   "pygments_lexer": "ipython3",
   "version": "3.10.0"
  }
 },
 "nbformat": 4,
 "nbformat_minor": 5
}
