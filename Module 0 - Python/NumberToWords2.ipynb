{
 "cells": [
  {
   "cell_type": "code",
   "execution_count": 62,
   "id": "0238cff7-4eff-45ac-aaf3-0aa1262c856f",
   "metadata": {},
   "outputs": [],
   "source": [
    "def lessThanThousandToWord(n: int) -> str:\n",
    "    \n",
    "    upToNineteen = ['', 'One ', 'Two ', 'Three ', 'Four ', 'Five ', 'Six ', 'Seven ', 'Eight ', 'Nine ', 'Ten ', 'Eleven ', 'Twelve ', 'Thirteen ', \n",
    "                    'Fourteen ', 'Fifteen ', 'Sixteen ', 'Seventeen ', 'Eighteen ', 'Nineteen ']\n",
    "\n",
    "\n",
    "    tens = { 20: 'Twenty ', 30: 'Thirty ', 40: 'Forty ', 50: 'Fifty ', 60: 'Sixty ', 70: 'Seventy ', 80: 'Eighty ', 90: 'Ninety ' }\n",
    "\n",
    "    inWords = ''\n",
    "\n",
    "    if n > 99:\n",
    "        divisor = n // 100\n",
    "        inWords = upToNineteen[divisor] + 'Hundred '\n",
    "        n %= 100\n",
    "        \n",
    "    if n <= 19:\n",
    "        inWords += upToNineteen[n]\n",
    "    else:\n",
    "\n",
    "     for x in sorted(tens.keys(), reverse=True):\n",
    "        divisor = n // x\n",
    "        if divisor == 1:\n",
    "            inWords += tens[x] + upToNineteen[n%x]\n",
    "            break\n",
    "\n",
    "    return inWords\n",
    "    "
   ]
  },
  {
   "cell_type": "code",
   "execution_count": 63,
   "id": "194c55c1-3aba-40dc-9d3c-1aa5822589a6",
   "metadata": {},
   "outputs": [],
   "source": [
    "def numberToWord(number: int, nomen: str) -> str:\n",
    "\n",
    "    toWords = { \"I\" : {1000: 'Thousand ', 100000:  \"Lakh \",10000000:  \"Crore \"},\n",
    "                \"W\" : {1000: 'Thousand ', 1000000: \"Million \", 1000000000: \"Billion \"}\n",
    "              }\n",
    "\n",
    "    inWords = ''\n",
    "\n",
    "    word_dict = toWords[nomen]\n",
    "    for x in sorted(word_dict.keys(), reverse=True):\n",
    "        divisor = number // x\n",
    "        if divisor != 0:\n",
    "            inWords += lessThanThousandToWord(divisor) + word_dict[x]\n",
    "        number %= x\n",
    "\n",
    "    inWords += lessThanThousandToWord(number)  \n",
    "    return inWords\n"
   ]
  },
  {
   "cell_type": "code",
   "execution_count": 34,
   "id": "8a624372-4884-41b0-bcde-48895cdc4621",
   "metadata": {},
   "outputs": [
    {
     "name": "stdout",
     "output_type": "stream",
     "text": [
      "One Hundered One Million One Hundered Twenty One Thousand One Hundered One \n"
     ]
    }
   ],
   "source": [
    "print(numberToWord(101121101,'W'))\n",
    "\n",
    "# 100000000 + 0 + 1000000 + 100000 + 0 + + 1000 + 100 + 10 + 1 "
   ]
  },
  {
   "cell_type": "code",
   "execution_count": 69,
   "id": "1575220c-719c-4916-b0c2-41acd27f9882",
   "metadata": {},
   "outputs": [
    {
     "name": "stdout",
     "output_type": "stream",
     "text": [
      "One Billion Eleven Million Two Hundred Eleven Thousand One Hundred Twenty \n"
     ]
    }
   ],
   "source": [
    "print(numberToWord(1011211120,'W'))"
   ]
  },
  {
   "cell_type": "code",
   "execution_count": 70,
   "id": "3bb29c81-59f4-41ec-afcf-1dc25f654f7e",
   "metadata": {},
   "outputs": [
    {
     "name": "stdout",
     "output_type": "stream",
     "text": [
      "One Hundred One Crore Twelve Lakh Eleven Thousand One Hundred Twenty \n"
     ]
    }
   ],
   "source": [
    "print(numberToWord(1011211120,'I'))"
   ]
  },
  {
   "cell_type": "code",
   "execution_count": 36,
   "id": "ef649afe-24c1-44db-89d4-0478d006f376",
   "metadata": {},
   "outputs": [
    {
     "name": "stdout",
     "output_type": "stream",
     "text": [
      "Nine Crore Eighty One Lakh Twenty One Thousand One Hundered One \n"
     ]
    }
   ],
   "source": [
    "print(numberToWord(98121101,'I'))"
   ]
  },
  {
   "cell_type": "code",
   "execution_count": 37,
   "id": "6e8e6d66-0f16-448d-9496-755d43b25a3e",
   "metadata": {},
   "outputs": [
    {
     "name": "stdout",
     "output_type": "stream",
     "text": [
      "Nine Crore Eighty One Lakh Twenty One Thousand One Hundered One \n"
     ]
    }
   ],
   "source": [
    "print(numberToWord(98121101,'I'))"
   ]
  },
  {
   "cell_type": "code",
   "execution_count": 61,
   "id": "81583c87-8358-4371-b8eb-f60b94b6597a",
   "metadata": {},
   "outputs": [
    {
     "name": "stdout",
     "output_type": "stream",
     "text": [
      "Nine Crore Eleven Lakh Twenty Two Thousand Ten \n"
     ]
    }
   ],
   "source": [
    "print(numberToWord(91122010,'I'))"
   ]
  },
  {
   "cell_type": "code",
   "execution_count": 59,
   "id": "eef61138-6ad0-497f-b3f0-90bc55758d8a",
   "metadata": {},
   "outputs": [
    {
     "name": "stdout",
     "output_type": "stream",
     "text": [
      "Ninety Million Ninety Nine Thousand Ten \n"
     ]
    }
   ],
   "source": [
    "print(numberToWord(90099010,'W'))"
   ]
  },
  {
   "cell_type": "code",
   "execution_count": 65,
   "id": "36383caf-4440-4b68-8e26-3b264aed5c6f",
   "metadata": {},
   "outputs": [
    {
     "name": "stdout",
     "output_type": "stream",
     "text": [
      "Twelve Billion Three Hundred Forty Five Million Six Hundred Seventy Eight Thousand Nine Hundred Nine \n"
     ]
    }
   ],
   "source": [
    "print(numberToWord(12345678909,'W'))"
   ]
  },
  {
   "cell_type": "code",
   "execution_count": 66,
   "id": "790795ce-0b39-4272-bd13-60aa73ede14e",
   "metadata": {},
   "outputs": [
    {
     "name": "stdout",
     "output_type": "stream",
     "text": [
      "Twelve Hundred Thirty Four Crore Fifty Six Lakh Seventy Eight Thousand Nine Hundred Nine \n"
     ]
    }
   ],
   "source": [
    "print(numberToWord(12345678909,'I'))"
   ]
  },
  {
   "cell_type": "code",
   "execution_count": null,
   "id": "4a43fa13-f235-4fc9-bf7b-dce4219b79c7",
   "metadata": {},
   "outputs": [],
   "source": []
  }
 ],
 "metadata": {
  "kernelspec": {
   "display_name": "Python 3 (ipykernel)",
   "language": "python",
   "name": "python3"
  },
  "language_info": {
   "codemirror_mode": {
    "name": "ipython",
    "version": 3
   },
   "file_extension": ".py",
   "mimetype": "text/x-python",
   "name": "python",
   "nbconvert_exporter": "python",
   "pygments_lexer": "ipython3",
   "version": "3.10.0"
  }
 },
 "nbformat": 4,
 "nbformat_minor": 5
}
