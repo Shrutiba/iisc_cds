{
 "cells": [
  {
   "cell_type": "raw",
   "id": "8419bec4",
   "metadata": {},
   "source": [
    "Write a program to calculate the electricity bill according to the following criteria:\n",
    "(accept number of unit from user)\n",
    "\n",
    "Unit\t\t    | Price\n",
    "First 100 units\t| no charge\n",
    "Next 100 units\t| 5Rs per unit\n",
    "After 200 units\t| 10Rs per unit\n",
    "\n",
    "[For example: if input is 350 than total bill amount is 2000)\n",
    "210 units | 100*5 | 10*10 | 500+100=600"
   ]
  },
  {
   "cell_type": "code",
   "execution_count": 1,
   "id": "54f9c5a9",
   "metadata": {},
   "outputs": [
    {
     "name": "stdin",
     "output_type": "stream",
     "text": [
      "No. of Units Consumed: 450\n"
     ]
    },
    {
     "name": "stdout",
     "output_type": "stream",
     "text": [
      "3000\n"
     ]
    }
   ],
   "source": [
    "no_of_units = int(input('No. of Units Consumed:'))\n",
    "\n",
    "if no_of_units <= 100:\n",
    "    bill = 0\n",
    "elif no_of_units > 100 and no_of_units < 200:\n",
    "    bill = (no_of_units - 100)*5 \n",
    "else:\n",
    "    bill = 100*0 + 100*5 + (no_of_units-200)*10\n",
    "\n",
    "print(bill)"
   ]
  },
  {
   "cell_type": "raw",
   "id": "a851d734",
   "metadata": {},
   "source": [
    "# WAP to print the first n elements of fibbonacci series\n",
    "'''\n",
    "Sample Output:\n",
    "How many elements u want in the series: 10\n",
    "[0, 1, 1, 2, 3, 5, 8, 13, 21, 34]\n",
    "'''"
   ]
  },
  {
   "cell_type": "code",
   "execution_count": 3,
   "id": "a1901d61",
   "metadata": {},
   "outputs": [
    {
     "name": "stdin",
     "output_type": "stream",
     "text": [
      "No. of elements: 10\n"
     ]
    },
    {
     "name": "stdout",
     "output_type": "stream",
     "text": [
      "[0, 1, 1, 2, 3, 5, 8, 13, 21, 34]\n"
     ]
    }
   ],
   "source": [
    "no_of_elements = int(input('No. of elements:'))\n",
    "\n",
    "list = []\n",
    "\n",
    "for i in range(no_of_elements):\n",
    "\n",
    "    if i == 0:\n",
    "        list.append(i)\n",
    "    elif i == 1:\n",
    "        list.append(list[i-1]+i)\n",
    "    else:\n",
    "        list.append(list[i-2]+list[i-1])\n",
    "\n",
    "print(list)\n"
   ]
  },
  {
   "cell_type": "raw",
   "id": "fc8b4f50",
   "metadata": {},
   "source": [
    "Count the number of digits in a given number ( hint: use len(), str() functions )"
   ]
  },
  {
   "cell_type": "code",
   "execution_count": 4,
   "id": "080db072",
   "metadata": {},
   "outputs": [
    {
     "name": "stdin",
     "output_type": "stream",
     "text": [
      "No of digits: 1234456788768769\n"
     ]
    },
    {
     "name": "stdout",
     "output_type": "stream",
     "text": [
      "16\n"
     ]
    }
   ],
   "source": [
    "number = input('No of digits:')\n",
    "print(len(number))"
   ]
  },
  {
   "cell_type": "raw",
   "id": "7c2a4d47",
   "metadata": {},
   "source": [
    "Write a program to  print all the numbers between 5 and 15 except 10."
   ]
  },
  {
   "cell_type": "code",
   "execution_count": 6,
   "id": "e6e4b0f9",
   "metadata": {},
   "outputs": [
    {
     "name": "stdout",
     "output_type": "stream",
     "text": [
      "5\n",
      "6\n",
      "7\n",
      "8\n",
      "9\n",
      "11\n",
      "12\n",
      "13\n",
      "14\n"
     ]
    }
   ],
   "source": [
    " for i in range(5,15):\n",
    "     if i != 10:\n",
    "        print(i)\n",
    "    "
   ]
  },
  {
   "cell_type": "raw",
   "id": "3bfee35e",
   "metadata": {},
   "source": [
    "# Guess a number game\n",
    "# User and computer will guess a number between 1 to 10\n",
    "# Find if both guess the same number\n",
    "# If they do, user wins\n",
    "# Else give another chance to the user\n",
    "# Only 4 chances are given\n",
    "# Finally if user couldn't guess, \n",
    "# display the correct guess and guesses taken\n"
   ]
  },
  {
   "cell_type": "code",
   "execution_count": 2,
   "id": "819bcafb",
   "metadata": {},
   "outputs": [
    {
     "name": "stdin",
     "output_type": "stream",
     "text": [
      "Guess an integer between 1 to 100: 30\n"
     ]
    },
    {
     "name": "stdout",
     "output_type": "stream",
     "text": [
      "You have 3 left\n"
     ]
    },
    {
     "name": "stdin",
     "output_type": "stream",
     "text": [
      "Guess an integer between 1 to 100: 20\n"
     ]
    },
    {
     "name": "stdout",
     "output_type": "stream",
     "text": [
      "You have 2 left\n"
     ]
    },
    {
     "name": "stdin",
     "output_type": "stream",
     "text": [
      "Guess an integer between 1 to 100: 11\n"
     ]
    },
    {
     "name": "stdout",
     "output_type": "stream",
     "text": [
      "You have 1 left\n"
     ]
    },
    {
     "name": "stdin",
     "output_type": "stream",
     "text": [
      "Guess an integer between 1 to 100: 70\n"
     ]
    },
    {
     "name": "stdout",
     "output_type": "stream",
     "text": [
      "You have 0 left\n",
      "No Guessed by Computer 95\n",
      "\n"
     ]
    }
   ],
   "source": [
    "import random\n",
    "\n",
    "computer_no = random.randint(1,100)\n",
    "i=1\n",
    "Status = 'User Lost'\n",
    "\n",
    "while i<=4:\n",
    "    guess_no = int(input('Guess an integer between 1 to 100:'))\n",
    "    if guess_no == computer_no:\n",
    "        Status = 'User Win'\n",
    "        print(f'Hurry!! You Win, You took {i} changes')\n",
    "        break\n",
    "    else:\n",
    "        print(f'You have {4-i} left')\n",
    "        i = i + 1\n",
    "\n",
    "if Status == 'User Lost':\n",
    "    print(f'No Guessed by Computer {computer_no}')\n",
    "    print()\n",
    "\n",
    "        \n"
   ]
  },
  {
   "cell_type": "raw",
   "id": "e765f0e3",
   "metadata": {},
   "source": [
    "Display common elements from both the list objects\n",
    "\n",
    "l1 = [4,2,3,6]\n",
    "l2 = [8,2,6,9,1,5]\n",
    "print(l1^l2)\n"
   ]
  },
  {
   "cell_type": "code",
   "execution_count": 6,
   "id": "3e094d07",
   "metadata": {},
   "outputs": [
    {
     "name": "stdout",
     "output_type": "stream",
     "text": [
      "{2, 6}\n"
     ]
    }
   ],
   "source": [
    "l1 = [4,2,3,6]\n",
    "l2 = [8,2,6,9,1,5]\n",
    "print(set(l1)&set(l2))"
   ]
  },
  {
   "cell_type": "raw",
   "id": "c9eebc3a",
   "metadata": {},
   "source": [
    "WAP to print all the integers and their squares. User should provide\n",
    "\n",
    "The number to start the series from\n",
    "What should be the max value to stop (Squared value should not be more than the max value).\n",
    "\n",
    "Sample Output:\n",
    "\n",
    "Enter a number to start the square series:21\n",
    "Enter the number after/on which the squared values are not required: 899\n",
    "21 : 441\n",
    "22 : 484\n",
    "23 : 529\n",
    "24 : 576\n",
    "25 : 625\n",
    "26 : 676\n",
    "27 : 729\n",
    "28 : 784\n",
    "29 : 841\n",
    "Have a nice day!\n"
   ]
  },
  {
   "cell_type": "code",
   "execution_count": 11,
   "id": "cdb483f6",
   "metadata": {},
   "outputs": [
    {
     "name": "stdin",
     "output_type": "stream",
     "text": [
      "Enter No. to start series: 10\n",
      "Number after/on which the squared values are not required: 2000\n"
     ]
    },
    {
     "name": "stdout",
     "output_type": "stream",
     "text": [
      "{10: 100, 11: 121, 12: 144, 13: 169, 14: 196, 15: 225, 16: 256, 17: 289, 18: 324, 19: 361, 20: 400, 21: 441, 22: 484, 23: 529, 24: 576, 25: 625, 26: 676, 27: 729, 28: 784, 29: 841, 30: 900, 31: 961, 32: 1024, 33: 1089, 34: 1156, 35: 1225, 36: 1296, 37: 1369, 38: 1444, 39: 1521, 40: 1600, 41: 1681, 42: 1764, 43: 1849, 44: 1936}\n"
     ]
    }
   ],
   "source": [
    "import math\n",
    "\n",
    "series = int(input('Enter No. to start series:'))\n",
    "end_series = int(input('Number after/on which the squared values are not required:'))\n",
    "dic = {}\n",
    "\n",
    "while 1<2:\n",
    "    if pow(series,2) >= end_series:\n",
    "        break\n",
    "    dic[series] = pow(series,2)  \n",
    "    series = series + 1\n",
    "\n",
    "print(dic)\n"
   ]
  },
  {
   "cell_type": "raw",
   "id": "d630b979",
   "metadata": {},
   "source": [
    "Write a Python function that combines multiple dictionaries, with the values from latter dictionaries overwriting the previous ones in case of key collisions."
   ]
  },
  {
   "cell_type": "code",
   "execution_count": null,
   "id": "28c28474",
   "metadata": {},
   "outputs": [],
   "source": [
    "def combine_dictionaries(*dicts):\n",
    "    combined_dict = {}\n",
    "    for dictionary in dicts:\n",
    "        combined_dict.update(dictionary)  # Updates the dictionary, overwriting previous values\n",
    "    return combined_dict\n"
   ]
  },
  {
   "cell_type": "raw",
   "id": "f65e59d6",
   "metadata": {},
   "source": [
    "Count the number and its occurrences of a list and store in a dictionary as a key-value pair.\n",
    "\n",
    "Sample output:\n",
    "mylist = [1, 2, 3, 2, 4, 2, 1, 5, 3, 2]\n",
    "\n",
    "{1: 2, 2: 4, 3: 2, 4: 1, 5: 1}\n"
   ]
  },
  {
   "cell_type": "code",
   "execution_count": 19,
   "id": "cf77fea9",
   "metadata": {},
   "outputs": [
    {
     "name": "stdout",
     "output_type": "stream",
     "text": [
      "{1: 2, 2: 4, 3: 2, 4: 1, 5: 1}\n"
     ]
    }
   ],
   "source": [
    "mylist = [1, 2, 3, 2, 4, 2, 1, 5, 3, 2]\n",
    "dic = {}\n",
    "\n",
    "for i in mylist:\n",
    "    if i in dic.keys():\n",
    "        dic[i] = dic[i] + 1\n",
    "    else:\n",
    "        dic[i] = 1\n",
    "\n",
    "print(dic)\n"
   ]
  },
  {
   "cell_type": "code",
   "execution_count": null,
   "id": "18e25058",
   "metadata": {},
   "outputs": [],
   "source": []
  }
 ],
 "metadata": {
  "kernelspec": {
   "display_name": "Python 3 (ipykernel)",
   "language": "python",
   "name": "python3"
  },
  "language_info": {
   "codemirror_mode": {
    "name": "ipython",
    "version": 3
   },
   "file_extension": ".py",
   "mimetype": "text/x-python",
   "name": "python",
   "nbconvert_exporter": "python",
   "pygments_lexer": "ipython3",
   "version": "3.10.0"
  }
 },
 "nbformat": 4,
 "nbformat_minor": 5
}
