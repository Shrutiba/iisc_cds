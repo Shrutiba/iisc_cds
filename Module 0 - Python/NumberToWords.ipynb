{
 "cells": [
  {
   "cell_type": "markdown",
   "id": "1dbe73c6-365c-4c61-945b-b28721c89379",
   "metadata": {},
   "source": [
    "# Number into Words"
   ]
  },
  {
   "cell_type": "code",
   "execution_count": null,
   "id": "ee45ee9f-954f-4866-8590-5097ddd53402",
   "metadata": {},
   "outputs": [],
   "source": [
    "def digit_to_word(index: int, number: int, nomen: str) -> str:\n",
    "\n",
    "    ones = ['','one', 'two', 'three', 'four', 'five', 'six', 'seven', 'eight', 'nine','ten','eleven','tweleve','thirteen','fourteen','fiftieen','sixteen','seventeen','eighteen','nineteen']\n",
    "    tens = ['','', 'twenty ', 'thirty ', 'forty ', 'fifty ', 'sixty ', 'seventy ', 'eighty ', 'ninety ']\n",
    "    indian  = [None,None,' hundered ',' thousand ',None,' lakh ',None,' crore ']\n",
    "    western = [None,None,' hundered ',' thousand ',None,'hundered','million ',None,' billion ']\n",
    "    \n",
    "    # Handle the conversion logic based on nomenclature and number type\n",
    "    if nomen == 'I' and index <= 2 and number == 0:\n",
    "        return ' '\n",
    "    elif nomen == 'W' and index <= 3 and number == 0:\n",
    "        return ' '\n",
    "    elif index == 0:\n",
    "        return ones[number]\n",
    "    elif index == 1:\n",
    "        return tens[number]\n",
    "    else:\n",
    "        if nomen == 'I':\n",
    "            return ones[number] + ' ' + (indian[index] if indian[index] is not None else tens[number])\n",
    "        else:\n",
    "            return ones[number] + ' ' + (western[index] if western[index] is not None else tens[number])\n",
    "    "
   ]
  },
  {
   "cell_type": "code",
   "execution_count": 2,
   "id": "b96c9297-bb29-4c09-ab93-9f8732a00a98",
   "metadata": {},
   "outputs": [],
   "source": [
    "def num_to_digits_in_reverse2(n: int) -> list[int]:\n",
    "    numlist = [int(ch) for ch in str(n)]\n",
    "    numlist.reverse()\n",
    "    return numlist"
   ]
  },
  {
   "cell_type": "code",
   "execution_count": 3,
   "id": "4bff033a-8abc-43ae-9e9b-8ea975174df5",
   "metadata": {},
   "outputs": [],
   "source": [
    "def digit_to_word(index: int, number: int, nomen: str) -> str:\n",
    "\n",
    "    ones = ['','one', 'two', 'three', 'four', 'five', 'six', 'seven', 'eight', 'nine','ten','eleven','tweleve','thirteen','fourteen','fiftieen','sixteen','seventeen','eighteen','nineteen']\n",
    "    tens = ['','ten', 'twenty ', 'thirty ', 'forty ', 'fifty ', 'sixty ', 'seventy ', 'eighty ', 'ninety ']\n",
    "    indian  = [None,None,' hundered ',' thousand ',None,' lakh ',None,' crore ']\n",
    "    western = [None,None,' hundered ',' thousand ',None,' hundered ',' million ',None,' billion ']\n",
    "    \n",
    "    return (lambda index, number, nomen: (\n",
    "        ' ' if (nomen == 'I' and number == 0) else\n",
    "        ' ' if (nomen == 'W' and index <= 3 and number == 0) else\n",
    "        ones[number] if index == 0 else\n",
    "        tens[number] if index == 1 else\n",
    "        (ones[number] + ' ' + indian[index]  if indian[index]  is not None else ' ' + tens[number])  if nomen == 'I' else\n",
    "        (ones[number] + ' ' + western[index] if western[index] is not None else ' ' + tens[number])\n",
    "    ))(index, number, nomen)\n",
    "\n",
    "    "
   ]
  },
  {
   "cell_type": "code",
   "execution_count": 4,
   "id": "5e320651-2143-483e-97f2-a7a73dd753c0",
   "metadata": {},
   "outputs": [],
   "source": [
    "def toWords2(number: int, nomenclature: str) -> str:\n",
    "\n",
    "    i = 0\n",
    "    index = 0\n",
    "    numberInWords = ''\n",
    "    length = len(str(number))\n",
    "    numberlist = num_to_digits_in_reverse2(number)\n",
    "\n",
    "    print(length)\n",
    "    while i in range(length):  \n",
    "        if i > 2 and i % 2 != 0 and i != length-1 and numberlist[i+1] == 1: # Take into consideration 11 - 19 number\n",
    "           num = int(str(numberlist[i+1])+str(numberlist[i]))\n",
    "           index = i\n",
    "           i += 2 \n",
    "        else:\n",
    "           num = numberlist[i]\n",
    "           index = i \n",
    "           i += 1 \n",
    "         # Convert the digit to words and append to the final string\n",
    "        numberInWords = digit_to_word(index, num, nomenclature) + numberInWords\n",
    "        \n",
    "\n",
    "    return numberInWords.strip()"
   ]
  },
  {
   "cell_type": "code",
   "execution_count": 5,
   "id": "2bf6c700-0fd6-405f-a78c-3419b6d645e5",
   "metadata": {},
   "outputs": [
    {
     "ename": "TypeError",
     "evalue": "'str' object is not callable",
     "output_type": "error",
     "traceback": [
      "\u001b[0;31m---------------------------------------------------------------------------\u001b[0m",
      "\u001b[0;31mTypeError\u001b[0m                                 Traceback (most recent call last)",
      "Cell \u001b[0;32mIn[5], line 1\u001b[0m\n\u001b[0;32m----> 1\u001b[0m \u001b[38;5;28mprint\u001b[39m(\u001b[43mtoWords2\u001b[49m\u001b[43m(\u001b[49m\u001b[38;5;241;43m10110110\u001b[39;49m\u001b[43m,\u001b[49m\u001b[38;5;124;43m'\u001b[39;49m\u001b[38;5;124;43mW\u001b[39;49m\u001b[38;5;124;43m'\u001b[39;49m\u001b[43m)\u001b[49m)\n",
      "Cell \u001b[0;32mIn[4], line 6\u001b[0m, in \u001b[0;36mtoWords2\u001b[0;34m(number, nomenclature)\u001b[0m\n\u001b[1;32m      4\u001b[0m index \u001b[38;5;241m=\u001b[39m \u001b[38;5;241m0\u001b[39m\n\u001b[1;32m      5\u001b[0m numberInWords \u001b[38;5;241m=\u001b[39m \u001b[38;5;124m'\u001b[39m\u001b[38;5;124m'\u001b[39m\n\u001b[0;32m----> 6\u001b[0m length \u001b[38;5;241m=\u001b[39m \u001b[38;5;28mlen\u001b[39m(\u001b[38;5;28;43mstr\u001b[39;49m\u001b[43m(\u001b[49m\u001b[43mnumber\u001b[49m\u001b[43m)\u001b[49m)\n\u001b[1;32m      7\u001b[0m numberlist \u001b[38;5;241m=\u001b[39m num_to_digits_in_reverse2(number)\n\u001b[1;32m      9\u001b[0m \u001b[38;5;28mprint\u001b[39m(length)\n",
      "\u001b[0;31mTypeError\u001b[0m: 'str' object is not callable"
     ]
    }
   ],
   "source": [
    "print(toWords2(10110110,'W'))"
   ]
  },
  {
   "cell_type": "code",
   "execution_count": null,
   "id": "365650f5-48e9-4c64-9c0e-c85da7cae2d9",
   "metadata": {},
   "outputs": [],
   "source": []
  }
 ],
 "metadata": {
  "kernelspec": {
   "display_name": "Python 3 (ipykernel)",
   "language": "python",
   "name": "python3"
  },
  "language_info": {
   "codemirror_mode": {
    "name": "ipython",
    "version": 3
   },
   "file_extension": ".py",
   "mimetype": "text/x-python",
   "name": "python",
   "nbconvert_exporter": "python",
   "pygments_lexer": "ipython3",
   "version": "3.10.0"
  }
 },
 "nbformat": 4,
 "nbformat_minor": 5
}
