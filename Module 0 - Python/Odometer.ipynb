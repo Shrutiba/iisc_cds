{
 "cells": [
  {
   "cell_type": "markdown",
   "id": "e85545e5-db3f-46cb-8f3d-493e5f11832e",
   "metadata": {},
   "source": [
    "<span style=\"font-size: 24px;\">What is Odometer</span>\n",
    "\n",
    "The classical mechanical odometer is a geared device that displays the distance traveled by vehicles. Typically it is positioned at the centre of the speedometer.\n",
    "\n",
    "It works by a simple set of wheels. Each digit is handled by a wheel with the num-bers on the circumference. When a wheel\n",
    "\n",
    "completes one circle (that is goes from 0 to 9) the notch on that wheel pushes the notch on the next wheel, thus moving the second wheel by one. BY such a cascading set of notches each wheel pushes the next digit by1 when it completes 10.\n",
    "\n",
    "When leftmost wheel turns a full-circuit, the reading resets to 000000 – as many as the size. Of course, the first wheel has to be driven by some arrangement with the vehicle itself to usefully measure the distance correctly.\n",
    "\n",
    "2 Assignment\n",
    "We are not interested in the mechanics of the odometer of course. In fact our odometer, which is just code, differs significantly from the one described above.\n",
    "\n",
    "• The readings of the odometer cannot have the digit 0\n",
    "– That is only digits 1-9 are allowed\n",
    "– Again just 1-9\n",
    "\n",
    "• The digits of the reading must be in ascending order. \n",
    "\n",
    "2.1 Examples\n",
    "\n",
    "• The (numerically) smallest reading for a 3-digit odometer is 123.\n",
    "\n",
    "• The largest reading for a 3-digit odometer is 789.\n",
    "\n",
    "• For 4 and 5-digit odometers these are (1234, 6789) and (12345, 56789) respectively.\n",
    "\n",
    "• For a 4-digit odometer, the six readings after 2467 are: 2468, 2469,2478, 2479, 2489, 2567.\n",
    "\n",
    "• For a 3-digit odometer, the ten readings prior to 347 are: 346, 345,289, 279, 278, 269, 268, 267, 259, 258.\n",
    "\n",
    "• The smallest reading is the next reading of the largest and the largestis the previous of the smallest.\n",
    "\n",
    "\n",
    "3 Coding tasks\n",
    "Write a set of functions so that a programmer who needs an odometer, with the above characteristics, can use those functions to implement the same. At the minimum, the following functions need to be written:\n",
    "\n",
    "• next reading() to find the next reading for a given reading. Shouldreturn 2468 for 2467 and 2567 for 2489.\n",
    "\n",
    "• prev reading() to find the previous reading for a given reading.Should return 328 for 329 and 239 for 345.\n",
    "\n",
    "• nth reading after() Instead of the next reading, return the readingthat occurs after n rotations. The next reading can be thought of asa special case: n = 1\n",
    "\n",
    "• nth reading before() Similar to above.\n",
    "\n",
    "• distance() Given two readings find the number of readings betweenthem. Note that just subtracting the readings will be wrong often.You also need to handle the fact that the distance from 789 to 123 is 1, while the distance from 123 to 789 is different.\n"
   ]
  },
  {
   "cell_type": "code",
   "execution_count": 1,
   "id": "13173c02-de12-48e0-8064-de42ca4bddc0",
   "metadata": {},
   "outputs": [],
   "source": [
    "def num_to_digits_in_reverse(n: int) -> list[int]:\n",
    "     digits = [int(ch) for ch in str(n)]\n",
    "     digits.reverse()\n",
    "     return digits"
   ]
  },
  {
   "cell_type": "code",
   "execution_count": 2,
   "id": "cdfd337e-3861-47b8-ba82-95efa83874ac",
   "metadata": {},
   "outputs": [
    {
     "name": "stdout",
     "output_type": "stream",
     "text": [
      "[3, 2, 1]\n"
     ]
    }
   ],
   "source": [
    "#Test\n",
    "print(num_to_digits_in_reverse(123))"
   ]
  },
  {
   "cell_type": "code",
   "execution_count": 2,
   "id": "c7bb3206-e491-45a0-a96b-1ca2f6900589",
   "metadata": {},
   "outputs": [],
   "source": [
    "def get_next_digit(num_length: int, position: int, digit: int ) -> int:\n",
    "    \n",
    "    max_possible_digit = [9,8,7,6,5,4,3,2,1]\n",
    "    if max_possible_digit[position] == digit:\n",
    "        if position+1 == num_length : # It is the first digit\n",
    "            return 1 # Reset to initial number\n",
    "        else:\n",
    "            return digit # Cannot be incremented\n",
    "    else:\n",
    "        return digit+1\n",
    "    "
   ]
  },
  {
   "cell_type": "code",
   "execution_count": 6,
   "id": "880830f4-defb-40cc-a7f7-2a296700a772",
   "metadata": {},
   "outputs": [
    {
     "name": "stdout",
     "output_type": "stream",
     "text": [
      "1\n"
     ]
    }
   ],
   "source": [
    "#Test\n",
    "print(get_next_digit(4,3,6))"
   ]
  },
  {
   "cell_type": "code",
   "execution_count": 3,
   "id": "1c8ff238-74b8-492a-80d8-a78638f25d96",
   "metadata": {},
   "outputs": [],
   "source": [
    "def get_min_possible_num(digit_list: list, num_length: int) -> list[int]:\n",
    "\n",
    "    for index in range(0,num_length):\n",
    "        if digit_list[index] == 0:\n",
    "            digit_list[index] = digit_list[index-1] + 1 #Take the previous digit and add 1\n",
    "\n",
    "    return digit_list"
   ]
  },
  {
   "cell_type": "code",
   "execution_count": 4,
   "id": "9c230993-40d9-4c33-ab7b-63cb02711820",
   "metadata": {},
   "outputs": [],
   "source": [
    "def get_next_number(number: int) -> int:\n",
    "\n",
    "    num_length = len(str(number))\n",
    "    num_in_digits_reverse = num_to_digits_in_reverse(number)\n",
    "    reading_num = num_in_digits_reverse\n",
    "    i = 0\n",
    "    result = 0\n",
    "\n",
    "    for index, digit in enumerate(num_in_digits_reverse):\n",
    "        result = get_next_digit(num_length,index,digit)\n",
    "        if result == digit:\n",
    "            reading_num[index] = 0  #Discard the number\n",
    "            continue\n",
    "        else:\n",
    "            reading_num[index] = result\n",
    "            reading_num.reverse()   # Take the actual number sequence and complete the number\n",
    "            reading_num = get_min_possible_num(reading_num, num_length)\n",
    "            break\n",
    "\n",
    "    return int(''.join(map(str, reading_num)))\n",
    "    "
   ]
  },
  {
   "cell_type": "code",
   "execution_count": 5,
   "id": "21daaaa6-91b6-4a90-adf2-44ed4eb3854c",
   "metadata": {},
   "outputs": [],
   "source": [
    "def reading_after(no_of_readings: int, number: int) -> list[int]:\n",
    "\n",
    "    list_of_numbers = []\n",
    "    new_number = number\n",
    "    \n",
    "    for i in range(no_of_readings):\n",
    "        new_number = get_next_number(new_number)\n",
    "        list_of_numbers.append(new_number)\n",
    "\n",
    "    return list_of_numbers\n",
    "            "
   ]
  },
  {
   "cell_type": "code",
   "execution_count": 6,
   "id": "3932cb5a-0cd8-41eb-9100-6075983a06db",
   "metadata": {},
   "outputs": [],
   "source": [
    "def get_previous_digit(num_length: int, position: int, digit: int ) -> int:\n",
    "    \n",
    "    max_possible_digit = [9,8,7,6,5,4,3,2,1]\n",
    "    index_for_min_possible_calc = [8,7,6,5,4,3,2,1,0]\n",
    "\n",
    "    min_possible_digit = max_possible_digit[position] - index_for_min_possible_calc[num_length-1]\n",
    "    \n",
    "    if min_possible_digit == digit:\n",
    "        if position+1 == num_length : # It is the first digit:\n",
    "            return index_for_min_possible_calc[num_length-1]+1  # Reset to max possible number\n",
    "        else:\n",
    "            return digit # Cannot be decremented\n",
    "    else:\n",
    "        return digit-1\n",
    "    "
   ]
  },
  {
   "cell_type": "code",
   "execution_count": 32,
   "id": "fa516734-fc40-47f2-bc8a-c0d2e2e2a304",
   "metadata": {},
   "outputs": [
    {
     "name": "stdout",
     "output_type": "stream",
     "text": [
      "6\n"
     ]
    }
   ],
   "source": [
    "#Test\n",
    "print(get_previous_digit(4,2,7))"
   ]
  },
  {
   "cell_type": "code",
   "execution_count": 7,
   "id": "ae2497f4-fc6e-4a60-b983-ae0f48baf2dd",
   "metadata": {},
   "outputs": [],
   "source": [
    "def get_max_possible_num(digit_list: list, num_length: int) -> list[int]:\n",
    "\n",
    "    number = 9\n",
    "    for index in range(0,num_length):\n",
    "        if digit_list[index] == 0:\n",
    "            digit_list[index] = number  # Start from 9 and go backwards\n",
    "            number = number - 1\n",
    "            \n",
    "    return digit_list"
   ]
  },
  {
   "cell_type": "code",
   "execution_count": 11,
   "id": "0f44be03-402a-4bf5-8951-30f4be1237e7",
   "metadata": {},
   "outputs": [
    {
     "name": "stdout",
     "output_type": "stream",
     "text": [
      "[1, 2, 3]\n"
     ]
    }
   ],
   "source": [
    "# Test\n",
    "print(get_max_possible_num([1,2,None],3))"
   ]
  },
  {
   "cell_type": "code",
   "execution_count": 8,
   "id": "bbab43ce-013d-453a-9685-cf00ed6bbe92",
   "metadata": {},
   "outputs": [],
   "source": [
    "def get_previous_number(number: int) -> int:\n",
    "\n",
    "    num_length = len(str(number))\n",
    "    num_in_digits_reverse = num_to_digits_in_reverse(number)\n",
    "    reading_num = num_in_digits_reverse\n",
    "    i = 0\n",
    "    result = 0\n",
    "\n",
    "    for index, digit in enumerate(num_in_digits_reverse):\n",
    "        \n",
    "        result = get_previous_digit(num_length,index,digit)\n",
    "        if result == digit or result == reading_num[index+1 if index != num_length-1 else num_length-1]:  #If same as previous digit:\n",
    "            reading_num[index] = 0  #Discard the digit\n",
    "            continue\n",
    "        else:\n",
    "            reading_num[index] = result\n",
    "            reading_num = get_max_possible_num(reading_num, num_length)\n",
    "            break\n",
    "\n",
    "    reading_num.reverse()   # Make the number normal\n",
    "    return int(''.join(map(str, reading_num)))\n",
    "    "
   ]
  },
  {
   "cell_type": "code",
   "execution_count": 9,
   "id": "164e185e-3639-4674-bee6-7fa8a7313378",
   "metadata": {},
   "outputs": [],
   "source": [
    "def reading_before(no_of_readings: int, number: int) -> list[int]:\n",
    "\n",
    "    list_of_numbers = []\n",
    "    new_number = number\n",
    "    \n",
    "    for i in range(no_of_readings):\n",
    "        new_number = get_previous_number(new_number)\n",
    "        list_of_numbers.append(new_number)\n",
    "\n",
    "    return list_of_numbers\n",
    "    "
   ]
  },
  {
   "cell_type": "code",
   "execution_count": 10,
   "id": "2b18b590-16e2-4606-84cf-118399149d4e",
   "metadata": {},
   "outputs": [],
   "source": [
    "def distance(first_num: int, last_num: int) -> int:\n",
    "\n",
    "    numbers_in_between = []\n",
    "    \n",
    "    next_number = first_num \n",
    "    while next_number != last_num:\n",
    "        \n",
    "        next_number = reading_after(1,next_number)[0]\n",
    "        numbers_in_between.append(next_number)\n",
    "\n",
    "    numbers_in_between.pop(-1) # Discard last element as it is be >= last_num\n",
    "    return len(numbers_in_between)"
   ]
  },
  {
   "cell_type": "code",
   "execution_count": 15,
   "id": "7b097c81-47df-41ef-85e5-a9d36969de08",
   "metadata": {},
   "outputs": [
    {
     "name": "stdout",
     "output_type": "stream",
     "text": [
      "[579, 589, 678, 679]\n"
     ]
    }
   ],
   "source": [
    "print(reading_after(4,578))"
   ]
  },
  {
   "cell_type": "code",
   "execution_count": 14,
   "id": "1c5d2980-d392-47de-95ec-ad5ce2617f40",
   "metadata": {},
   "outputs": [
    {
     "name": "stdout",
     "output_type": "stream",
     "text": [
      "[678, 589, 579, 578]\n"
     ]
    }
   ],
   "source": [
    "print(reading_before(4,679))"
   ]
  },
  {
   "cell_type": "code",
   "execution_count": 16,
   "id": "5ca1810a-e82e-418c-92a6-bed9e13607f0",
   "metadata": {},
   "outputs": [
    {
     "name": "stdout",
     "output_type": "stream",
     "text": [
      "[123, 124, 125, 126, 127, 128, 129, 134, 135, 136, 137, 138, 139, 145, 146, 147, 148, 149, 156, 157, 158, 159, 167, 168, 169, 178, 179, 189, 234, 235, 236, 237, 238, 239, 245, 246, 247, 248, 249, 256, 257, 258, 259, 267, 268, 269, 278, 279, 289, 345]\n"
     ]
    }
   ],
   "source": [
    "print(reading_after(50,789))"
   ]
  },
  {
   "cell_type": "code",
   "execution_count": 141,
   "id": "7a33506c-ff82-4f83-847a-df94668e1e17",
   "metadata": {},
   "outputs": [
    {
     "name": "stdout",
     "output_type": "stream",
     "text": [
      "(13, 14, 15, 16, 17, 18, 19, 23, 24, 25, 26, 27, 28, 29, 34, 35, 36, 37, 38, 39, 45, 46, 47, 48, 49, 56, 57, 58, 59, 67, 68, 69, 78, 79, 89, 12, 13, 14, 15, 16, 17, 18, 19, 23, 24, 25, 26, 27, 28, 29, 34, 35, 36, 37, 38, 39, 45, 46, 47, 48)\n"
     ]
    }
   ],
   "source": [
    "print(reading_after(60,12))"
   ]
  },
  {
   "cell_type": "code",
   "execution_count": 89,
   "id": "6c093eea-a91d-4368-9f76-09f7a82c99d9",
   "metadata": {},
   "outputs": [
    {
     "name": "stdout",
     "output_type": "stream",
     "text": [
      "[789, 689, 679]\n"
     ]
    }
   ],
   "source": [
    "print(reading_before(3,123))"
   ]
  },
  {
   "cell_type": "code",
   "execution_count": 168,
   "id": "47f3826e-6d8e-4af9-8613-f6fc019b167f",
   "metadata": {},
   "outputs": [
    {
     "name": "stdout",
     "output_type": "stream",
     "text": [
      "80\n",
      "CPU times: user 1.3 ms, sys: 667 µs, total: 1.97 ms\n",
      "Wall time: 1.43 ms\n"
     ]
    }
   ],
   "source": [
    "%time print(distance(123,679))"
   ]
  },
  {
   "cell_type": "code",
   "execution_count": null,
   "id": "78e64df9-dcbe-41ad-92fb-2a52614c4763",
   "metadata": {},
   "outputs": [],
   "source": []
  }
 ],
 "metadata": {
  "kernelspec": {
   "display_name": "Python 3 (ipykernel)",
   "language": "python",
   "name": "python3"
  },
  "language_info": {
   "codemirror_mode": {
    "name": "ipython",
    "version": 3
   },
   "file_extension": ".py",
   "mimetype": "text/x-python",
   "name": "python",
   "nbconvert_exporter": "python",
   "pygments_lexer": "ipython3",
   "version": "3.10.0"
  }
 },
 "nbformat": 4,
 "nbformat_minor": 5
}
