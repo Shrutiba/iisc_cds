{
 "cells": [
  {
   "cell_type": "code",
   "execution_count": 1,
   "id": "f5869b78-c2a3-4ffc-8710-5edc216d218e",
   "metadata": {},
   "outputs": [
    {
     "name": "stdout",
     "output_type": "stream",
     "text": [
      "Happy \"Diwali\"\n"
     ]
    }
   ],
   "source": [
    "print('Happy \"Diwali\"')"
   ]
  },
  {
   "cell_type": "code",
   "execution_count": 2,
   "id": "bc9ef6bf-8c54-4311-8df4-f0a01b2e6bf5",
   "metadata": {},
   "outputs": [
    {
     "name": "stdout",
     "output_type": "stream",
     "text": [
      "Happy \"Diwali\"\n"
     ]
    }
   ],
   "source": [
    "# Escape Sequence\n",
    "print(\"Happy \\\"Diwali\\\"\")"
   ]
  },
  {
   "cell_type": "code",
   "execution_count": 3,
   "id": "06fbbf99-49b5-4304-ab37-3d5bbb7d351f",
   "metadata": {},
   "outputs": [
    {
     "name": "stdout",
     "output_type": "stream",
     "text": [
      "Happy\n",
      "Japan Canada\n"
     ]
    }
   ],
   "source": [
    "print(\"Happy\\nJapan Canada\")"
   ]
  },
  {
   "cell_type": "code",
   "execution_count": 4,
   "id": "5b283ddd-c93a-489c-8230-a12457161c09",
   "metadata": {},
   "outputs": [
    {
     "name": "stdout",
     "output_type": "stream",
     "text": [
      "Happy\n",
      "Japan\tCanada\n"
     ]
    }
   ],
   "source": [
    "print(\"Happy\\nJapan\\tCanada\")"
   ]
  },
  {
   "cell_type": "code",
   "execution_count": 5,
   "id": "87c7ca63-5b05-448a-b9e5-89edd479dd99",
   "metadata": {},
   "outputs": [
    {
     "name": "stdout",
     "output_type": "stream",
     "text": [
      "Happy\\nJapan\tCanada\n"
     ]
    }
   ],
   "source": [
    "print(\"Happy\\\\nJapan\\tCanada\")"
   ]
  },
  {
   "cell_type": "code",
   "execution_count": 6,
   "id": "cee1e593-b1d6-4ce1-a552-17cd0ea1cc47",
   "metadata": {},
   "outputs": [
    {
     "name": "stdout",
     "output_type": "stream",
     "text": [
      "Happy\\nJapan\\tCanada\n"
     ]
    }
   ],
   "source": [
    "# Raw String\n",
    "print(r\"Happy\\nJapan\\tCanada\")"
   ]
  },
  {
   "cell_type": "code",
   "execution_count": 7,
   "id": "aa1754fb-e8cb-4608-94d2-380857e03d20",
   "metadata": {},
   "outputs": [
    {
     "name": "stdout",
     "output_type": "stream",
     "text": [
      "Happy\\nJapan\\tCanada\n"
     ]
    }
   ],
   "source": [
    "# Raw String\n",
    "print(R\"Happy\\nJapan\\tCanada\")"
   ]
  },
  {
   "cell_type": "code",
   "execution_count": 7,
   "id": "73d8edcc-cf60-4461-9dd1-c69827c242f7",
   "metadata": {},
   "outputs": [
    {
     "name": "stdout",
     "output_type": "stream",
     "text": [
      "Happy\\nJapan\\tCanada\n"
     ]
    }
   ],
   "source": [
    "# Raw String\n",
    "print(R\"Happy\\nJapan\\tCanada\")"
   ]
  },
  {
   "cell_type": "code",
   "execution_count": 9,
   "id": "c32913ca-596e-4acc-9334-0a02ee888fe7",
   "metadata": {},
   "outputs": [
    {
     "name": "stdout",
     "output_type": "stream",
     "text": [
      "100 10.89\n",
      "<class 'int'> <class 'float'>\n"
     ]
    }
   ],
   "source": [
    "# Raw String\n",
    "num1 = 100\n",
    "num2 = 10.89\n",
    "print( num1, num2)\n",
    "print(type(num1), type(num2))"
   ]
  },
  {
   "cell_type": "code",
   "execution_count": 11,
   "id": "3dcb8996-0023-4714-9db4-99b1f17fbc7e",
   "metadata": {},
   "outputs": [
    {
     "name": "stdout",
     "output_type": "stream",
     "text": [
      "100 10.89\n"
     ]
    },
    {
     "ename": "TypeError",
     "evalue": "type() takes 1 or 3 arguments",
     "output_type": "error",
     "traceback": [
      "\u001b[0;31m---------------------------------------------------------------------------\u001b[0m",
      "\u001b[0;31mTypeError\u001b[0m                                 Traceback (most recent call last)",
      "Cell \u001b[0;32mIn[11], line 5\u001b[0m\n\u001b[1;32m      3\u001b[0m num2 \u001b[38;5;241m=\u001b[39m \u001b[38;5;241m10.89\u001b[39m\n\u001b[1;32m      4\u001b[0m \u001b[38;5;28mprint\u001b[39m( num1, num2)\n\u001b[0;32m----> 5\u001b[0m \u001b[38;5;28mprint\u001b[39m(\u001b[38;5;28;43mtype\u001b[39;49m\u001b[43m(\u001b[49m\u001b[43mnum1\u001b[49m\u001b[43m,\u001b[49m\u001b[43mnum2\u001b[49m\u001b[43m)\u001b[49m)\n",
      "\u001b[0;31mTypeError\u001b[0m: type() takes 1 or 3 arguments"
     ]
    }
   ],
   "source": [
    "# Raw String\n",
    "num1 = 100\n",
    "num2 = 10.89\n",
    "print( num1, num2)\n",
    "print(type(num1,num2))"
   ]
  },
  {
   "cell_type": "code",
   "execution_count": 13,
   "id": "4c684f42-9361-456c-803f-5277ccb11011",
   "metadata": {},
   "outputs": [],
   "source": [
    "# Python is supposed to work with big data it can support integer size which your OS supports\n",
    "#Complex Datatype\n",
    "c1 = 10+5j\n",
    "c2 = 60+10j"
   ]
  },
  {
   "cell_type": "code",
   "execution_count": 14,
   "id": "5a316eb3-0f60-4664-975c-d6207ce59f51",
   "metadata": {},
   "outputs": [
    {
     "name": "stdout",
     "output_type": "stream",
     "text": [
      "(70+15j)\n"
     ]
    }
   ],
   "source": [
    "print(c1+c2)"
   ]
  },
  {
   "cell_type": "code",
   "execution_count": 15,
   "id": "0c0fe597-9d89-49a7-9914-f8f1365ae3d9",
   "metadata": {},
   "outputs": [
    {
     "data": {
      "text/plain": [
       "'Shruti Bansal'"
      ]
     },
     "execution_count": 15,
     "metadata": {},
     "output_type": "execute_result"
    }
   ],
   "source": [
    "#Python does not have a character data type\n",
    "String = \"Shruti Bansal\"\n",
    "String"
   ]
  },
  {
   "cell_type": "code",
   "execution_count": 18,
   "id": "af55099c-e35d-41d6-a301-42c525ff394d",
   "metadata": {},
   "outputs": [
    {
     "name": "stdout",
     "output_type": "stream",
     "text": [
      "45 51 98\n",
      "98 51 45\n"
     ]
    }
   ],
   "source": [
    "a,b,c = 45,51,98\n",
    "print(a,b,c)\n",
    "a,b,c = c,b,a\n",
    "print(a,b,c)"
   ]
  },
  {
   "cell_type": "code",
   "execution_count": 21,
   "id": "56dde4ef-9e9a-44c4-bf01-088ca382339c",
   "metadata": {},
   "outputs": [
    {
     "name": "stdout",
     "output_type": "stream",
     "text": [
      "['__all__', '__builtins__', '__cached__', '__doc__', '__file__', '__loader__', '__name__', '__package__', '__spec__', 'iskeyword', 'issoftkeyword', 'kwlist', 'softkwlist']\n"
     ]
    }
   ],
   "source": [
    "import keyword\n",
    "print(dir(keyword))"
   ]
  },
  {
   "cell_type": "code",
   "execution_count": 22,
   "id": "3e9a0533-7c37-4ed4-acd1-fe73eaf55733",
   "metadata": {},
   "outputs": [
    {
     "data": {
      "text/plain": [
       "['False',\n",
       " 'None',\n",
       " 'True',\n",
       " 'and',\n",
       " 'as',\n",
       " 'assert',\n",
       " 'async',\n",
       " 'await',\n",
       " 'break',\n",
       " 'class',\n",
       " 'continue',\n",
       " 'def',\n",
       " 'del',\n",
       " 'elif',\n",
       " 'else',\n",
       " 'except',\n",
       " 'finally',\n",
       " 'for',\n",
       " 'from',\n",
       " 'global',\n",
       " 'if',\n",
       " 'import',\n",
       " 'in',\n",
       " 'is',\n",
       " 'lambda',\n",
       " 'nonlocal',\n",
       " 'not',\n",
       " 'or',\n",
       " 'pass',\n",
       " 'raise',\n",
       " 'return',\n",
       " 'try',\n",
       " 'while',\n",
       " 'with',\n",
       " 'yield']"
      ]
     },
     "execution_count": 22,
     "metadata": {},
     "output_type": "execute_result"
    }
   ],
   "source": [
    "keyword.kwlist"
   ]
  },
  {
   "cell_type": "code",
   "execution_count": 23,
   "id": "960a6a1f-6b98-4812-ae4d-4ac0b875ec35",
   "metadata": {},
   "outputs": [
    {
     "data": {
      "text/plain": [
       "35"
      ]
     },
     "execution_count": 23,
     "metadata": {},
     "output_type": "execute_result"
    }
   ],
   "source": [
    "len(keyword.kwlist)"
   ]
  },
  {
   "cell_type": "code",
   "execution_count": 27,
   "id": "2769e2fe-9fe8-46c8-83df-aa6f2683b0fb",
   "metadata": {},
   "outputs": [],
   "source": [
    "str1= 'John'\n",
    "\n",
    "# num1 = int(str1)  # Value should be compatible\n",
    "\n",
    "str2 = '1000'\n",
    "num2 = int(str2)"
   ]
  },
  {
   "cell_type": "code",
   "execution_count": 29,
   "id": "802764e3-2da3-4c6f-93f5-750abb5d1705",
   "metadata": {},
   "outputs": [
    {
     "name": "stdout",
     "output_type": "stream",
     "text": [
      "1001\n"
     ]
    },
    {
     "data": {
      "text/plain": [
       "'1001'"
      ]
     },
     "execution_count": 29,
     "metadata": {},
     "output_type": "execute_result"
    }
   ],
   "source": [
    "str1= 'John'\n",
    "\n",
    "# num1 = int(str1)  # Value should be compatible\n",
    "\n",
    "str2 = '1000'\n",
    "num2 = int(str2)\n",
    "\n",
    "num = 1001\n",
    "print(str(num))\n",
    "\n",
    "str3 = str(num)\n",
    "str3"
   ]
  },
  {
   "cell_type": "code",
   "execution_count": 37,
   "id": "4fb50667-e0b0-47e3-85a4-2a90a8b08ec7",
   "metadata": {},
   "outputs": [
    {
     "name": "stdout",
     "output_type": "stream",
     "text": [
      "78700\n"
     ]
    },
    {
     "data": {
      "text/plain": [
       "'78,700'"
      ]
     },
     "execution_count": 37,
     "metadata": {},
     "output_type": "execute_result"
    }
   ],
   "source": [
    "s1 = '78,700'\n",
    "print(s1.replace(',',''))  # String is immutable, not changable\n",
    "s1"
   ]
  },
  {
   "cell_type": "code",
   "execution_count": 32,
   "id": "b71f50b9-81cd-4f12-80bd-a36c45a72539",
   "metadata": {},
   "outputs": [
    {
     "data": {
      "text/plain": [
       "[1, 2, 3, 4, 5, 6]"
      ]
     },
     "execution_count": 32,
     "metadata": {},
     "output_type": "execute_result"
    }
   ],
   "source": [
    "#List\n",
    "nums = [1,2,3,4,5,6]\n",
    "nums"
   ]
  },
  {
   "cell_type": "code",
   "execution_count": 35,
   "id": "61a204e9-fd3d-47c7-aca9-e634be9cf33a",
   "metadata": {},
   "outputs": [
    {
     "data": {
      "text/plain": [
       "['Shruti', 'Shipra', 'Anshuk']"
      ]
     },
     "execution_count": 35,
     "metadata": {},
     "output_type": "execute_result"
    }
   ],
   "source": [
    "name = \"Shruti,Shipra,Anshuk\"\n",
    "name.split(',') # Will Return a List, Default Space is the separator"
   ]
  },
  {
   "cell_type": "code",
   "execution_count": 36,
   "id": "c20a558e-38ad-4884-9a80-4bb9fab54311",
   "metadata": {},
   "outputs": [
    {
     "data": {
      "text/plain": [
       "'Shruti,Shipra,Anshuk'"
      ]
     },
     "execution_count": 36,
     "metadata": {},
     "output_type": "execute_result"
    }
   ],
   "source": [
    "name"
   ]
  },
  {
   "cell_type": "code",
   "execution_count": 38,
   "id": "f28821f8-bf09-45d9-bfdc-8fe20bc0f5ab",
   "metadata": {},
   "outputs": [
    {
     "name": "stdout",
     "output_type": "stream",
     "text": [
      "Amit Rakesh Sharma\n"
     ]
    }
   ],
   "source": [
    "# store all names in a list - using split()\n",
    "\n",
    "name = \"Amit Rakesh Sharma\"\n",
    "\n",
    "fname,mname,lname = name.split()\n",
    "\n",
    "print(fname,mname,lname)"
   ]
  },
  {
   "cell_type": "code",
   "execution_count": 40,
   "id": "b9bb1d57-6566-47ba-8d75-66a67453458d",
   "metadata": {},
   "outputs": [
    {
     "name": "stdin",
     "output_type": "stream",
     "text": [
      "Enter your name:  Saanvi\n"
     ]
    },
    {
     "name": "stdout",
     "output_type": "stream",
     "text": [
      "Saanvi\n"
     ]
    }
   ],
   "source": [
    "# input()\n",
    "\n",
    "name = input('Enter your name: ')\n",
    "print(name)"
   ]
  },
  {
   "cell_type": "raw",
   "id": "ed44d5df-4b94-4159-9a1e-875ec6685a83",
   "metadata": {},
   "source": [
    "# name, hobby = input('Enter ur name and hobby: ').split()\n",
    "print(name, 'likes', hobby)"
   ]
  },
  {
   "cell_type": "code",
   "execution_count": 43,
   "id": "203ce0fa-317e-4721-9edd-b17c1fb6a30a",
   "metadata": {},
   "outputs": [
    {
     "name": "stdin",
     "output_type": "stream",
     "text": [
      "Enter a number:  40000000000\n"
     ]
    },
    {
     "data": {
      "text/plain": [
       "40000000100"
      ]
     },
     "execution_count": 43,
     "metadata": {},
     "output_type": "execute_result"
    }
   ],
   "source": [
    "n1 = int(input('Enter a number: '))\n",
    "n1+100"
   ]
  },
  {
   "cell_type": "markdown",
   "id": "a896e0a7-4abe-4134-b62d-cd8efbdbbb61",
   "metadata": {},
   "source": [
    "## name, age = input('Enter name and age: ').split()\n",
    "print(name, 'is' , age , 'years old')\n",
    "print(int(age)+10)"
   ]
  },
  {
   "cell_type": "code",
   "execution_count": 46,
   "id": "b786e995-3ec8-468b-8152-a6b6c31010cb",
   "metadata": {},
   "outputs": [
    {
     "name": "stdin",
     "output_type": "stream",
     "text": [
      "Enter 3 numbers:  2 3 4 \n"
     ]
    },
    {
     "data": {
      "text/plain": [
       "9"
      ]
     },
     "execution_count": 46,
     "metadata": {},
     "output_type": "execute_result"
    }
   ],
   "source": [
    "n1,n2,n3 = map( int ,input('Enter 3 numbers: ').split()) #Map syntax - Function, Sequence\n",
    "n1+n2+n3"
   ]
  },
  {
   "cell_type": "code",
   "execution_count": 49,
   "id": "f5a1d150-abe6-43fb-b992-17286de90d81",
   "metadata": {},
   "outputs": [
    {
     "name": "stdin",
     "output_type": "stream",
     "text": [
      "Enter 3 numbers:  2 3 4\n"
     ]
    },
    {
     "name": "stdout",
     "output_type": "stream",
     "text": [
      "[2, 3, 4]\n"
     ]
    }
   ],
   "source": [
    "n1 = map( int ,input('Enter 3 numbers: ').split()) #Map syntax - Function, Sequence\n",
    "n1\n",
    "print(list(n1))"
   ]
  },
  {
   "cell_type": "code",
   "execution_count": 51,
   "id": "df2702b3-a6bd-47fc-98d6-46c6ce9b238a",
   "metadata": {},
   "outputs": [
    {
     "name": "stdout",
     "output_type": "stream",
     "text": [
      "My name is Shruti. My code is I032294. I have 20 yrs of exp.\n"
     ]
    }
   ],
   "source": [
    "#Placeholder\n",
    "name = 'Shruti'\n",
    "code = 'I032294'\n",
    "doj = '10-9-2024'\n",
    "exp = 20\n",
    "\n",
    "message = 'My name is {}. My code is {}. I have {} yrs of exp.'\n",
    "print(message.format(name, code, exp))"
   ]
  },
  {
   "cell_type": "code",
   "execution_count": 55,
   "id": "97358c14-050a-4c9d-92b4-8541eb1c35d9",
   "metadata": {},
   "outputs": [
    {
     "name": "stdout",
     "output_type": "stream",
     "text": [
      "My name is Shruti. My code is I032294. I have 20 yrs of exp.\n"
     ]
    }
   ],
   "source": [
    "#Placeholder\n",
    "name = 'Shruti'\n",
    "code = 'I032294'\n",
    "doj = '10-9-2024'\n",
    "exp = 20\n",
    "\n",
    "print(f'My name is {name}. My code is {code}. I have {exp} yrs of exp.')"
   ]
  },
  {
   "cell_type": "code",
   "execution_count": 56,
   "id": "07892ac2-5298-455b-92c7-ac35e7841b88",
   "metadata": {},
   "outputs": [
    {
     "name": "stdout",
     "output_type": "stream",
     "text": [
      "4.25\n",
      "4\n"
     ]
    }
   ],
   "source": [
    "print(17/4)\n",
    "print(17//4)"
   ]
  },
  {
   "cell_type": "code",
   "execution_count": 58,
   "id": "63bd41f6-3b95-4881-a82c-8c47ccf3f662",
   "metadata": {},
   "outputs": [
    {
     "data": {
      "text/plain": [
       "False"
      ]
     },
     "execution_count": 58,
     "metadata": {},
     "output_type": "execute_result"
    }
   ],
   "source": [
    "#In and not In\n",
    "\"I\" in \"India\"  #After the in operator there should be a collection\n",
    "\"I\" in [\"P\",\"N\",\"D\",\"Q\",\"A\"]"
   ]
  },
  {
   "cell_type": "code",
   "execution_count": 59,
   "id": "23c0a331-e1ab-448f-8f25-bdbf677e7686",
   "metadata": {},
   "outputs": [
    {
     "data": {
      "text/plain": [
       "True"
      ]
     },
     "execution_count": 59,
     "metadata": {},
     "output_type": "execute_result"
    }
   ],
   "source": [
    "#In and not In\n",
    "\"I\" in \"India\"  #After the in operator there should be a collection\n",
    "\"I\" not in [\"P\",\"N\",\"D\",\"Q\",\"A\"]"
   ]
  },
  {
   "cell_type": "code",
   "execution_count": 60,
   "id": "0427942c-7c88-4126-9517-d7f6b17813d5",
   "metadata": {},
   "outputs": [
    {
     "data": {
      "text/plain": [
       "False"
      ]
     },
     "execution_count": 60,
     "metadata": {},
     "output_type": "execute_result"
    }
   ],
   "source": [
    "#Indentity Operator\n",
    "a,b,c = 10,20,10\n",
    "a is b"
   ]
  },
  {
   "cell_type": "code",
   "execution_count": 61,
   "id": "a5774f54-550c-4f76-bd8a-0ef9c65978f5",
   "metadata": {},
   "outputs": [
    {
     "data": {
      "text/plain": [
       "True"
      ]
     },
     "execution_count": 61,
     "metadata": {},
     "output_type": "execute_result"
    }
   ],
   "source": [
    "#Indentity Operator\n",
    "a,b,c = 10,20,10\n",
    "a is c # is checks the memory address (identity) and not value"
   ]
  },
  {
   "cell_type": "code",
   "execution_count": 65,
   "id": "538aef14-0df1-4a99-992c-da590b0e21a1",
   "metadata": {},
   "outputs": [
    {
     "name": "stdout",
     "output_type": "stream",
     "text": [
      "4581357216\n",
      "<class 'NoneType'>\n"
     ]
    },
    {
     "data": {
      "text/plain": [
       "True"
      ]
     },
     "execution_count": 65,
     "metadata": {},
     "output_type": "execute_result"
    }
   ],
   "source": [
    "a = None\n",
    "b = None\n",
    "print(id(a))\n",
    "print(type(a))\n",
    "a is b"
   ]
  },
  {
   "cell_type": "code",
   "execution_count": 66,
   "id": "752cc62e-889c-4937-bd84-729af252b815",
   "metadata": {},
   "outputs": [
    {
     "name": "stdout",
     "output_type": "stream",
     "text": [
      "4581357216\n"
     ]
    }
   ],
   "source": [
    "print(id(None))"
   ]
  },
  {
   "cell_type": "code",
   "execution_count": 69,
   "id": "3d92a6c4-0a93-4f7b-bc74-c910420e71e3",
   "metadata": {},
   "outputs": [
    {
     "name": "stdin",
     "output_type": "stream",
     "text": [
      "Enter divident:  3000\n",
      "Enter Divisor:  30\n"
     ]
    },
    {
     "name": "stdout",
     "output_type": "stream",
     "text": [
      "100\n"
     ]
    }
   ],
   "source": [
    "divident = input(\"Enter divident: \")\n",
    "divisor = input(\"Enter Divisor: \")\n",
    "quotient = int(int(divident)/int(divisor))\n",
    "print(quotient)\n"
   ]
  },
  {
   "cell_type": "code",
   "execution_count": 70,
   "id": "2a9002bf-2c4f-421b-bc7b-d186607ab432",
   "metadata": {},
   "outputs": [
    {
     "name": "stdout",
     "output_type": "stream",
     "text": [
      "Hello\n",
      "John\n"
     ]
    }
   ],
   "source": [
    "print('Hello')\n",
    "print('John')"
   ]
  },
  {
   "cell_type": "code",
   "execution_count": 71,
   "id": "9da9b452-eb94-4010-a000-dbb2faa8c421",
   "metadata": {},
   "outputs": [
    {
     "name": "stdout",
     "output_type": "stream",
     "text": [
      "Hello*John\n"
     ]
    }
   ],
   "source": [
    "print('Hello', end='*')\n",
    "print('John')"
   ]
  },
  {
   "cell_type": "code",
   "execution_count": 74,
   "id": "3a98ef39-f50f-4b9f-9b46-afba69d25815",
   "metadata": {},
   "outputs": [
    {
     "name": "stdout",
     "output_type": "stream",
     "text": [
      "4,3,5,6\n"
     ]
    }
   ],
   "source": [
    "a,b,c,d = 4,3,5,6\n",
    "print(a,b,c,d, sep=',')"
   ]
  },
  {
   "cell_type": "code",
   "execution_count": 76,
   "id": "fea21a2a-cbc4-4471-9f17-df5755a70ab4",
   "metadata": {},
   "outputs": [
    {
     "name": "stdin",
     "output_type": "stream",
     "text": [
      "Enter a number:  -1\n"
     ]
    },
    {
     "name": "stdout",
     "output_type": "stream",
     "text": [
      "End of code\n"
     ]
    }
   ],
   "source": [
    "# Conditional operator >,<, >=,<=, ==, !=\n",
    "# condition will be True or False\n",
    "\n",
    "num = int(input('Enter a number: '))\n",
    "\n",
    "if num>0:\n",
    "    print(f'{num} is positive')\n",
    "print('End of code')"
   ]
  },
  {
   "cell_type": "code",
   "execution_count": 77,
   "id": "a3e780ac-3d90-4536-a3f4-ca8f11031fef",
   "metadata": {},
   "outputs": [
    {
     "name": "stdin",
     "output_type": "stream",
     "text": [
      "Enter a number:  -1\n"
     ]
    },
    {
     "name": "stdout",
     "output_type": "stream",
     "text": [
      "-1 is negative\n",
      "End of code\n"
     ]
    }
   ],
   "source": [
    "# Conditional operator >,<, >=,<=, ==, !=\n",
    "# condition will be True or False\n",
    "\n",
    "num = int(input('Enter a number: '))\n",
    "\n",
    "if num>0:\n",
    "    print(f'{num} is positive')\n",
    "else:\n",
    "    print(f'{num} is negative')\n",
    "print('End of code')"
   ]
  },
  {
   "cell_type": "code",
   "execution_count": 79,
   "id": "40e31daf-8f24-4728-9c45-769838db4384",
   "metadata": {},
   "outputs": [
    {
     "name": "stdin",
     "output_type": "stream",
     "text": [
      "Enter Number ( Enter 0 to stop ):  121\n"
     ]
    },
    {
     "name": "stdout",
     "output_type": "stream",
     "text": [
      "It's a palindrome\n"
     ]
    },
    {
     "name": "stdin",
     "output_type": "stream",
     "text": [
      "Enter Number ( Enter 0 to stop ):  12233221\n"
     ]
    },
    {
     "name": "stdout",
     "output_type": "stream",
     "text": [
      "It's a palindrome\n"
     ]
    },
    {
     "name": "stdin",
     "output_type": "stream",
     "text": [
      "Enter Number ( Enter 0 to stop ):  0\n"
     ]
    }
   ],
   "source": [
    "while True:\n",
    "    num = int(input('Enter Number ( Enter 0 to stop ): '))\n",
    "    snum = str(num)\n",
    "    if num == 0:\n",
    "        break\n",
    "    elif str(num) == snum[::-1]: # String split\n",
    "        print('It\\'s a palindrome')\n",
    "    else:\n",
    "        print('It\\'s not a palindrome')\n",
    "        "
   ]
  },
  {
   "cell_type": "code",
   "execution_count": 89,
   "id": "fd27bbcf-9f9a-4465-8f0e-ae09a9d3236c",
   "metadata": {},
   "outputs": [
    {
     "name": "stdin",
     "output_type": "stream",
     "text": [
      "Enter age: 4.5\n"
     ]
    },
    {
     "name": "stdout",
     "output_type": "stream",
     "text": [
      "Age is invalid\n",
      "invalid literal for int() with base 10: '4.5'\n"
     ]
    },
    {
     "name": "stdin",
     "output_type": "stream",
     "text": [
      "Enter age: -4\n"
     ]
    },
    {
     "name": "stdout",
     "output_type": "stream",
     "text": [
      "Age is invalid\n",
      "\n"
     ]
    },
    {
     "name": "stdin",
     "output_type": "stream",
     "text": [
      "Enter age: 4\n"
     ]
    }
   ],
   "source": [
    "#Enter age of a person\n",
    "#Raise an exception if the entered age is negative\n",
    "\n",
    "while True:\n",
    "    try:\n",
    "        age = int(input('Enter age:'))\n",
    "        if age<=0: #or type(age) != int:\n",
    "            raise ValueError\n",
    "        break\n",
    "    except ValueError as err:\n",
    "        print('Age is invalid')\n",
    "        print(err)"
   ]
  },
  {
   "cell_type": "code",
   "execution_count": 90,
   "id": "76ddceb3-46a2-4605-8642-e92640b7751b",
   "metadata": {},
   "outputs": [
    {
     "name": "stdin",
     "output_type": "stream",
     "text": [
      "Enter age: -3.5\n"
     ]
    },
    {
     "ename": "ValueError",
     "evalue": "invalid literal for int() with base 10: '-3.5'",
     "output_type": "error",
     "traceback": [
      "\u001b[0;31m---------------------------------------------------------------------------\u001b[0m",
      "\u001b[0;31mValueError\u001b[0m                                Traceback (most recent call last)",
      "Cell \u001b[0;32mIn[90], line 1\u001b[0m\n\u001b[0;32m----> 1\u001b[0m age \u001b[38;5;241m=\u001b[39m \u001b[38;5;28;43mint\u001b[39;49m\u001b[43m(\u001b[49m\u001b[38;5;28;43minput\u001b[39;49m\u001b[43m(\u001b[49m\u001b[38;5;124;43m'\u001b[39;49m\u001b[38;5;124;43mEnter age:\u001b[39;49m\u001b[38;5;124;43m'\u001b[39;49m\u001b[43m)\u001b[49m\u001b[43m)\u001b[49m\n",
      "\u001b[0;31mValueError\u001b[0m: invalid literal for int() with base 10: '-3.5'"
     ]
    }
   ],
   "source": [
    " age = int(input('Enter age:'))"
   ]
  },
  {
   "cell_type": "code",
   "execution_count": 93,
   "id": "7dc09b7d-d326-4b35-8833-d2c70cfa611d",
   "metadata": {},
   "outputs": [
    {
     "data": {
      "text/plain": [
       "'H'"
      ]
     },
     "execution_count": 93,
     "metadata": {},
     "output_type": "execute_result"
    }
   ],
   "source": [
    "mystring = 'HelloWorld'\n",
    "# Postiive and Negative index number\n",
    "mystring\n",
    "mystring[-10]\n",
    "#mystring[0]\n"
   ]
  },
  {
   "cell_type": "code",
   "execution_count": 96,
   "id": "f19a69bf-395c-4bf0-91ad-14abb632eaa9",
   "metadata": {},
   "outputs": [
    {
     "data": {
      "text/plain": [
       "'HelloWo'"
      ]
     },
     "execution_count": 96,
     "metadata": {},
     "output_type": "execute_result"
    }
   ],
   "source": [
    "mystring = 'HelloWorld'\n",
    "# Postiive and Negative index number\n",
    "mystring\n",
    "mystring[-10:-3:1]  #Start Stop Index\n",
    "#mystring[0]\n"
   ]
  },
  {
   "cell_type": "code",
   "execution_count": 100,
   "id": "88e83270-7112-4fd6-b513-2e190fb4deb4",
   "metadata": {},
   "outputs": [
    {
     "data": {
      "text/plain": [
       "'drW'"
      ]
     },
     "execution_count": 100,
     "metadata": {},
     "output_type": "execute_result"
    }
   ],
   "source": [
    "mystring = 'HelloWorld'\n",
    "# Postiive and Negative index number\n",
    "mystring\n",
    "mystring[9:3:-2]  #Start Stop Index\n",
    "#mystring[0]\n"
   ]
  },
  {
   "cell_type": "code",
   "execution_count": 101,
   "id": "4c6c8482-8009-42ce-9db9-3083700d4b0f",
   "metadata": {},
   "outputs": [
    {
     "data": {
      "text/plain": [
       "'newzeland'"
      ]
     },
     "execution_count": 101,
     "metadata": {},
     "output_type": "execute_result"
    }
   ],
   "source": [
    "words = ['india', 'canada', 'japan', 'newzeland']\n",
    "words[-1]"
   ]
  },
  {
   "cell_type": "code",
   "execution_count": 102,
   "id": "25899224-b41a-4e4c-8c24-be6fc5542628",
   "metadata": {},
   "outputs": [
    {
     "data": {
      "text/plain": [
       "'dnalezwen'"
      ]
     },
     "execution_count": 102,
     "metadata": {},
     "output_type": "execute_result"
    }
   ],
   "source": [
    "words[-1][::-1]"
   ]
  },
  {
   "cell_type": "code",
   "execution_count": 105,
   "id": "33ef5e44-56f8-4cf0-8bb4-499843696863",
   "metadata": {},
   "outputs": [
    {
     "data": {
      "text/plain": [
       "'india/canada/japan/newzeland'"
      ]
     },
     "execution_count": 105,
     "metadata": {},
     "output_type": "execute_result"
    }
   ],
   "source": [
    "words[::-1][::-1]\n",
    "'/'.join(words)"
   ]
  },
  {
   "cell_type": "code",
   "execution_count": 106,
   "id": "8525b7db-4a57-477d-bf39-c18d905ea8c5",
   "metadata": {},
   "outputs": [
    {
     "data": {
      "text/plain": [
       "'my india'"
      ]
     },
     "execution_count": 106,
     "metadata": {},
     "output_type": "execute_result"
    }
   ],
   "source": [
    "sentence = 'i love my india'\n",
    "sentence2 = sentence[7:]\n",
    "sentence2"
   ]
  },
  {
   "cell_type": "code",
   "execution_count": 108,
   "id": "308fad2e-2309-40b4-a1ad-049f0d26ac05",
   "metadata": {},
   "outputs": [
    {
     "data": {
      "text/plain": [
       "'SHRUTI BANSAL'"
      ]
     },
     "execution_count": 108,
     "metadata": {},
     "output_type": "execute_result"
    }
   ],
   "source": [
    "name = 'Shruti BanSal'\n",
    "name.upper()\n",
    "#name.capitalize()"
   ]
  },
  {
   "cell_type": "code",
   "execution_count": 110,
   "id": "9ff6a95b-b394-4098-ba3d-15ce5e3c0956",
   "metadata": {},
   "outputs": [
    {
     "name": "stdout",
     "output_type": "stream",
     "text": [
      "HelloHelloHelloHello   WorldWorld\n"
     ]
    }
   ],
   "source": [
    "h = 'Hello'\n",
    "w = 'World'\n",
    "h4s3w2 = 4 * h + \" \" * 3 + w * 2\n",
    "print(h4s3w2)"
   ]
  },
  {
   "cell_type": "code",
   "execution_count": null,
   "id": "2b1f837b-52cf-4bbd-9113-f43d6346ebc3",
   "metadata": {},
   "outputs": [],
   "source": []
  }
 ],
 "metadata": {
  "kernelspec": {
   "display_name": "Python 3 (ipykernel)",
   "language": "python",
   "name": "python3"
  },
  "language_info": {
   "codemirror_mode": {
    "name": "ipython",
    "version": 3
   },
   "file_extension": ".py",
   "mimetype": "text/x-python",
   "name": "python",
   "nbconvert_exporter": "python",
   "pygments_lexer": "ipython3",
   "version": "3.10.0"
  }
 },
 "nbformat": 4,
 "nbformat_minor": 5
}
