{
 "cells": [
  {
   "cell_type": "code",
   "execution_count": 1,
   "id": "ed361196-2f91-4a34-a2ac-02cbe59770f5",
   "metadata": {},
   "outputs": [
    {
     "name": "stdout",
     "output_type": "stream",
     "text": [
      "Looking in indexes: https://pypi.org/simple, https://int.repositories.cloud.sap/artifactory/api/pypi/deploy-releases-pypi/simple, https://int.repositories.cloud.sap/artifactory/api/pypi/deploy-releases-hyperspace-pypi/simple\n",
      "Requirement already satisfied: numpy in /Library/Frameworks/Python.framework/Versions/3.10/lib/python3.10/site-packages (1.26.0)\n",
      "\n",
      "\u001b[1m[\u001b[0m\u001b[34;49mnotice\u001b[0m\u001b[1;39;49m]\u001b[0m\u001b[39;49m A new release of pip is available: \u001b[0m\u001b[31;49m24.0\u001b[0m\u001b[39;49m -> \u001b[0m\u001b[32;49m24.3.1\u001b[0m\n",
      "\u001b[1m[\u001b[0m\u001b[34;49mnotice\u001b[0m\u001b[1;39;49m]\u001b[0m\u001b[39;49m To update, run: \u001b[0m\u001b[32;49mpip install --upgrade pip\u001b[0m\n"
     ]
    }
   ],
   "source": [
    "!pip install numpy"
   ]
  },
  {
   "cell_type": "code",
   "execution_count": 2,
   "id": "9235b908-254b-43cc-b9d2-71192154bc9e",
   "metadata": {},
   "outputs": [],
   "source": [
    "import numpy as np"
   ]
  },
  {
   "cell_type": "code",
   "execution_count": 3,
   "id": "af8b696e-1b3a-491d-baff-48e9c5dadd88",
   "metadata": {},
   "outputs": [
    {
     "data": {
      "text/plain": [
       "array([1, 2, 3, 4])"
      ]
     },
     "execution_count": 3,
     "metadata": {},
     "output_type": "execute_result"
    }
   ],
   "source": [
    "# 1-D Array\n",
    "ar = np.array([1,2,3,4])\n",
    "ar"
   ]
  },
  {
   "cell_type": "code",
   "execution_count": 5,
   "id": "c7df51c7-1e65-4c49-a6a6-667df3d49779",
   "metadata": {},
   "outputs": [
    {
     "data": {
      "text/plain": [
       "dtype('int64')"
      ]
     },
     "execution_count": 5,
     "metadata": {},
     "output_type": "execute_result"
    }
   ],
   "source": [
    "ar.dtype"
   ]
  },
  {
   "cell_type": "code",
   "execution_count": 9,
   "id": "9d1d2e5c-abce-4c45-a458-1fa429bc5fb4",
   "metadata": {},
   "outputs": [
    {
     "data": {
      "text/plain": [
       "dtype('float64')"
      ]
     },
     "execution_count": 9,
     "metadata": {},
     "output_type": "execute_result"
    }
   ],
   "source": [
    "tuple = (1,3,4.5,6.5,7)\n",
    "ar = np.array(tuple)\n",
    "ar\n",
    "ar.dtype"
   ]
  },
  {
   "cell_type": "code",
   "execution_count": 11,
   "id": "0ca1694e-6312-47b2-a005-f2ad8aea3b14",
   "metadata": {},
   "outputs": [
    {
     "data": {
      "text/plain": [
       "array(['1', 'a4534werwerwrwrtewrttqq3sffsgdg', 'b', '4', '5'],\n",
       "      dtype='<U31')"
      ]
     },
     "execution_count": 11,
     "metadata": {},
     "output_type": "execute_result"
    }
   ],
   "source": [
    "tuple2 = (1,'a4534werwerwrwrtewrttqq3sffsgdg','b',4,5)\n",
    "\n",
    "ar3 = np.array(tuple2)\n",
    "ar3"
   ]
  },
  {
   "cell_type": "code",
   "execution_count": 15,
   "id": "b7c7add7-cffc-410f-9492-2b621acbc0c5",
   "metadata": {},
   "outputs": [
    {
     "data": {
      "text/plain": [
       "array(['1', 'abc', 'b23', '4', '5'], dtype='<U3')"
      ]
     },
     "execution_count": 15,
     "metadata": {},
     "output_type": "execute_result"
    }
   ],
   "source": [
    "tuple2 = (1,'abc','b2324324',4,5)\n",
    "\n",
    "ar3 = np.array(tuple2,dtype = 'U3')\n",
    "ar3"
   ]
  },
  {
   "cell_type": "code",
   "execution_count": 19,
   "id": "21d01f79-ff45-4137-97ae-e33ee90b1ce5",
   "metadata": {},
   "outputs": [
    {
     "data": {
      "text/plain": [
       "array([[4. , 2. , 3. , 4. ],\n",
       "       [5. , 6.5, 7. , 8. ]])"
      ]
     },
     "execution_count": 19,
     "metadata": {},
     "output_type": "execute_result"
    }
   ],
   "source": [
    "# Create 2-D array\n",
    "ar2D = np.array([[4,2,3,4],[5,6.5,7,8]])\n",
    "ar2D"
   ]
  },
  {
   "cell_type": "code",
   "execution_count": 20,
   "id": "e0ccd255-9d4f-434c-8050-2b3ec322b5b1",
   "metadata": {},
   "outputs": [
    {
     "data": {
      "text/plain": [
       "2"
      ]
     },
     "execution_count": 20,
     "metadata": {},
     "output_type": "execute_result"
    }
   ],
   "source": [
    "ar2D.ndim"
   ]
  },
  {
   "cell_type": "code",
   "execution_count": 21,
   "id": "10bf8efa-fe17-471e-aa3f-7150b2bfed87",
   "metadata": {},
   "outputs": [
    {
     "data": {
      "text/plain": [
       "8"
      ]
     },
     "execution_count": 21,
     "metadata": {},
     "output_type": "execute_result"
    }
   ],
   "source": [
    "ar2D.size"
   ]
  },
  {
   "cell_type": "code",
   "execution_count": 22,
   "id": "a52eddab-9240-403d-a512-ac009da8bc6b",
   "metadata": {},
   "outputs": [
    {
     "data": {
      "text/plain": [
       "(2, 4)"
      ]
     },
     "execution_count": 22,
     "metadata": {},
     "output_type": "execute_result"
    }
   ],
   "source": [
    "ar2D.shape"
   ]
  },
  {
   "cell_type": "code",
   "execution_count": 23,
   "id": "0bc62685-89bd-480a-88fa-86f17f2911fb",
   "metadata": {},
   "outputs": [
    {
     "data": {
      "text/plain": [
       "array([[[1, 2, 3],\n",
       "        [4, 5, 6],\n",
       "        [7, 8, 9],\n",
       "        [1, 1, 1]],\n",
       "\n",
       "       [[5, 5, 5],\n",
       "        [5, 5, 5],\n",
       "        [5, 5, 5],\n",
       "        [5, 5, 5]]])"
      ]
     },
     "execution_count": 23,
     "metadata": {},
     "output_type": "execute_result"
    }
   ],
   "source": [
    "array2 = np.array([[[1,2,3],\n",
    "                    [4,5,6],\n",
    "                    [7,8,9],\n",
    "                    [1,1,1]],\n",
    "                   [[5,5,5],\n",
    "                    [5,5,5],\n",
    "                    [5,5,5],\n",
    "                    [5,5,5]]])\n",
    "array2"
   ]
  },
  {
   "cell_type": "code",
   "execution_count": 24,
   "id": "3030ca6f-f8e8-48f9-bc13-6461f7a13c25",
   "metadata": {},
   "outputs": [
    {
     "data": {
      "text/plain": [
       "24"
      ]
     },
     "execution_count": 24,
     "metadata": {},
     "output_type": "execute_result"
    }
   ],
   "source": [
    "array2.size"
   ]
  },
  {
   "cell_type": "code",
   "execution_count": 25,
   "id": "a7f662f4-28c3-442a-b194-3bcaf69fd081",
   "metadata": {},
   "outputs": [
    {
     "data": {
      "text/plain": [
       "(2, 4, 3)"
      ]
     },
     "execution_count": 25,
     "metadata": {},
     "output_type": "execute_result"
    }
   ],
   "source": [
    "array2.shape"
   ]
  },
  {
   "cell_type": "code",
   "execution_count": 26,
   "id": "4934e857-9c81-4809-9cf7-59a07c5fd706",
   "metadata": {},
   "outputs": [
    {
     "name": "stdout",
     "output_type": "stream",
     "text": [
      "[[1 2 3]\n",
      " [4 5 6]\n",
      " [7 8 9]]\n",
      "2\n",
      "int64\n",
      "9\n",
      "(3, 3)\n",
      "8\n"
     ]
    }
   ],
   "source": [
    "a = np.array([[1,2,3],[4,5,6],[7,8,9]])\n",
    "print(a)\n",
    "print(a.ndim)\n",
    "print(a.dtype)\n",
    "print(a.size)\n",
    "print(a.shape)\n",
    "print(a.itemsize)"
   ]
  },
  {
   "cell_type": "code",
   "execution_count": 27,
   "id": "85175687-74f7-4f25-aabb-f0f3ff20083b",
   "metadata": {},
   "outputs": [
    {
     "data": {
      "text/plain": [
       "array([ 0,  1,  2,  3,  4,  5,  6,  7,  8,  9, 10])"
      ]
     },
     "execution_count": 27,
     "metadata": {},
     "output_type": "execute_result"
    }
   ],
   "source": [
    "ar4 = np.arange(0,11,1)\n",
    "ar4"
   ]
  },
  {
   "cell_type": "code",
   "execution_count": 28,
   "id": "734a1cc0-dc9f-4ae8-89f6-6dfc0f111b4a",
   "metadata": {},
   "outputs": [
    {
     "data": {
      "text/plain": [
       "array([[[ 0,  2,  4,  6,  8, 10]],\n",
       "\n",
       "       [[10, 12, 14, 16, 18, 20]]])"
      ]
     },
     "execution_count": 28,
     "metadata": {},
     "output_type": "execute_result"
    }
   ],
   "source": [
    "ar5 = np.array([[np.arange(0,11,2)],[np.arange(10,21,2)]])\n",
    "ar5"
   ]
  },
  {
   "cell_type": "code",
   "execution_count": 32,
   "id": "1182b23f-5203-40f7-835a-33c7d701439b",
   "metadata": {},
   "outputs": [
    {
     "data": {
      "text/plain": [
       "array([[ 0,  2],\n",
       "       [ 4,  6],\n",
       "       [ 8, 10]])"
      ]
     },
     "execution_count": 32,
     "metadata": {},
     "output_type": "execute_result"
    }
   ],
   "source": [
    "ar6 = np.arange(0,12,2).reshape(3,2)\n",
    "ar6"
   ]
  },
  {
   "cell_type": "code",
   "execution_count": null,
   "id": "b68a2bbe-08f1-4317-91b2-2daddbe1ecf4",
   "metadata": {},
   "outputs": [],
   "source": []
  }
 ],
 "metadata": {
  "kernelspec": {
   "display_name": "Python 3 (ipykernel)",
   "language": "python",
   "name": "python3"
  },
  "language_info": {
   "codemirror_mode": {
    "name": "ipython",
    "version": 3
   },
   "file_extension": ".py",
   "mimetype": "text/x-python",
   "name": "python",
   "nbconvert_exporter": "python",
   "pygments_lexer": "ipython3",
   "version": "3.10.0"
  }
 },
 "nbformat": 4,
 "nbformat_minor": 5
}
