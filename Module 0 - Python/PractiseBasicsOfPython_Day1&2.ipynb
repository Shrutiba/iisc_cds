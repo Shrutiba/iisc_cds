{
 "cells": [
  {
   "cell_type": "code",
   "execution_count": 2,
   "id": "2f8b6b7c-53b4-44c2-b794-b1d4c669c236",
   "metadata": {},
   "outputs": [
    {
     "name": "stdout",
     "output_type": "stream",
     "text": [
      "[12.9, 34.0, 10.8, 77.0, 45.87]\n"
     ]
    }
   ],
   "source": [
    "# Given a list of numbers, \n",
    "# remove floats from the list\n",
    "\n",
    "list1 = [12.9,10,34.0,67,87,10.8,34,77.0,60,45.87,18]\n",
    "\n",
    "list2 = [ i  for i in list1 if int(i) !=i or str(i).split('.')[0] != str(i)]\n",
    "print(list2)"
   ]
  },
  {
   "cell_type": "code",
   "execution_count": 3,
   "id": "d7a8eea2-29b1-4d7d-bc85-7755da42879c",
   "metadata": {},
   "outputs": [
    {
     "name": "stdout",
     "output_type": "stream",
     "text": [
      "[12.9, 34.0, 10.8, 77.0, 45.87]\n"
     ]
    }
   ],
   "source": [
    "# Given a list of numbers, \n",
    "# remove floats from the list\n",
    "\n",
    "list1 = [12.9,10,34.0,67,87,10.8,34,77.0,60,45.87,18]\n",
    "\n",
    "list2 = [ i  for i in list1 if isinstance(i,float)]\n",
    "print(list2)"
   ]
  },
  {
   "cell_type": "code",
   "execution_count": 4,
   "id": "ecc9cda6-d6a8-4866-ae6e-010d768084c1",
   "metadata": {},
   "outputs": [
    {
     "name": "stdout",
     "output_type": "stream",
     "text": [
      "[8, 9, 10, 55]\n",
      "[8, 9, 10, 55, 6, 7, 8]\n"
     ]
    },
    {
     "data": {
      "text/plain": [
       "(8, 9, 10, 55, 6, 7, 8)"
      ]
     },
     "execution_count": 4,
     "metadata": {},
     "output_type": "execute_result"
    }
   ],
   "source": [
    "#tuple\n",
    "#tuple is immutable\n",
    "tup1 = (8,9,10)\n",
    "tup1 = list(tup1)\n",
    "tup1.append(55)\n",
    "print(tup1)\n",
    "tup1.extend([6,7,8])\n",
    "print(tup1)\n",
    "\n",
    "tup1 = tuple(tup1)\n",
    "tup1"
   ]
  },
  {
   "cell_type": "code",
   "execution_count": 5,
   "id": "f23e925b-ccfe-4eff-b6d7-eae3ecf8e0e2",
   "metadata": {},
   "outputs": [
    {
     "name": "stdout",
     "output_type": "stream",
     "text": [
      "2 3 4\n"
     ]
    }
   ],
   "source": [
    "#Cannot do sort,append,remove with tuple\n",
    "tup2 = (2,3,4)\n",
    "a,b,c = tup2\n",
    "print(a,b,c)"
   ]
  },
  {
   "cell_type": "code",
   "execution_count": 6,
   "id": "1035ce13-e7b7-4da0-b703-ce2971a9509d",
   "metadata": {},
   "outputs": [
    {
     "data": {
      "text/plain": [
       "True"
      ]
     },
     "execution_count": 6,
     "metadata": {},
     "output_type": "execute_result"
    }
   ],
   "source": [
    "#tuple comparing\n",
    "#if the first item is equal then the next element is checked\n",
    "#Compare of string is unicode comparision\n",
    "tup1 = (1,2,3)\n",
    "tup2 = (1,3,3)\n",
    "tup1 < tup2"
   ]
  },
  {
   "cell_type": "code",
   "execution_count": 7,
   "id": "047faf7a-df73-4c2c-82a5-c5b8d338e2c6",
   "metadata": {},
   "outputs": [
    {
     "data": {
      "text/plain": [
       "{'1', '2', '3', '4'}"
      ]
     },
     "execution_count": 7,
     "metadata": {},
     "output_type": "execute_result"
    }
   ],
   "source": [
    "# Sets\n",
    "set1 = {'1','2','3','4'}\n",
    "set2 = {'2','2','3','3'}\n",
    "set1|set2"
   ]
  },
  {
   "cell_type": "code",
   "execution_count": 10,
   "id": "43b89826-b261-45a1-bcca-ca00545aa431",
   "metadata": {},
   "outputs": [
    {
     "data": {
      "text/plain": [
       "{1, 2, 3, 4, 5}"
      ]
     },
     "execution_count": 10,
     "metadata": {},
     "output_type": "execute_result"
    }
   ],
   "source": [
    "list1 =[1,2,3,4]\n",
    "list2 =[2,3,3,5]\n",
    "set(list1)|set(list2)"
   ]
  },
  {
   "cell_type": "code",
   "execution_count": 11,
   "id": "4c143da0-d5ea-48f2-99e3-5562d818d1a5",
   "metadata": {},
   "outputs": [
    {
     "data": {
      "text/plain": [
       "{2, 3}"
      ]
     },
     "execution_count": 11,
     "metadata": {},
     "output_type": "execute_result"
    }
   ],
   "source": [
    "set(list1).intersection(set(list2))"
   ]
  },
  {
   "cell_type": "code",
   "execution_count": 12,
   "id": "3a40c9f7-8ba8-4ae1-aa7d-d698e113d4aa",
   "metadata": {},
   "outputs": [
    {
     "data": {
      "text/plain": [
       "{'John': 'Reading', 'Henry': 'hiking'}"
      ]
     },
     "execution_count": 12,
     "metadata": {},
     "output_type": "execute_result"
    }
   ],
   "source": [
    "#dictionary\n",
    "mydict = {'John':'trekking',\n",
    "          'Henry':'hiking',\n",
    "        'John':'Reading'\n",
    "         }\n",
    "mydict\n",
    "# If duplicate keys it takes the latest one"
   ]
  },
  {
   "cell_type": "code",
   "execution_count": 15,
   "id": "0aa0c24b-7a7e-4d41-94a6-d26465f0f3a3",
   "metadata": {},
   "outputs": [
    {
     "data": {
      "text/plain": [
       "('Henry', 'hiking')"
      ]
     },
     "execution_count": 15,
     "metadata": {},
     "output_type": "execute_result"
    }
   ],
   "source": [
    "mydict.popitem()"
   ]
  },
  {
   "cell_type": "code",
   "execution_count": 16,
   "id": "df2d419c-c5f3-4877-bd00-006d0ba9a5c0",
   "metadata": {},
   "outputs": [
    {
     "data": {
      "text/plain": [
       "{'John': 'Reading'}"
      ]
     },
     "execution_count": 16,
     "metadata": {},
     "output_type": "execute_result"
    }
   ],
   "source": [
    "mydict"
   ]
  },
  {
   "cell_type": "code",
   "execution_count": 14,
   "id": "ed14bb8d-2e40-4a7f-a65d-b7beedd88732",
   "metadata": {},
   "outputs": [
    {
     "name": "stdout",
     "output_type": "stream",
     "text": [
      "A232\n"
     ]
    }
   ],
   "source": [
    "mydict = {'John': 'Reading',\n",
    "          'Henry': 'hiking',\n",
    "          101 : 'A232',\n",
    "          'code': 'A232',\n",
    "          'Kelly': 'Reading',\n",
    "          'John': 'Music',\n",
    "         }\n",
    "#print(mydict.values())\n",
    "c = None\n",
    "for j in mydict.values():\n",
    "    if c == j:\n",
    "        print(j)\n",
    "    c = j"
   ]
  },
  {
   "cell_type": "code",
   "execution_count": 15,
   "id": "ae8d4716-d3ca-42c1-b62e-c4290e24afd5",
   "metadata": {},
   "outputs": [
    {
     "data": {
      "text/plain": [
       "bool"
      ]
     },
     "execution_count": 15,
     "metadata": {},
     "output_type": "execute_result"
    }
   ],
   "source": [
    "result = False\n",
    "type(result)"
   ]
  },
  {
   "cell_type": "code",
   "execution_count": 17,
   "id": "7a5762a6-5c95-45b0-8e71-ecf5d9a6c539",
   "metadata": {},
   "outputs": [
    {
     "name": "stdout",
     "output_type": "stream",
     "text": [
      "<class 'int'>\n",
      "<class 'float'>\n",
      "<class 'bool'>\n"
     ]
    }
   ],
   "source": [
    "#Implicite Type Conversion\n",
    "x = 10\n",
    "print(type(x))\n",
    "x= 3.5\n",
    "print(type(x))\n",
    "x=True\n",
    "print(type(x))"
   ]
  },
  {
   "cell_type": "code",
   "execution_count": 18,
   "id": "e08a2e11-2ab0-4791-8d31-91cc8ed45fff",
   "metadata": {},
   "outputs": [
    {
     "name": "stdout",
     "output_type": "stream",
     "text": [
      "10\n",
      "10.456\n"
     ]
    }
   ],
   "source": [
    "#Explicite Type Conversion\n",
    "#Possibility of Data Loss\n",
    "y = 10.456\n",
    "print(int(y))\n",
    "print(str(y))"
   ]
  },
  {
   "cell_type": "code",
   "execution_count": 19,
   "id": "d8f1f17f-f7d3-4398-a892-758529bc4ef3",
   "metadata": {},
   "outputs": [
    {
     "data": {
      "text/plain": [
       "list"
      ]
     },
     "execution_count": 19,
     "metadata": {},
     "output_type": "execute_result"
    }
   ],
   "source": [
    "nums = [23,54,77,89,65,101]   # nums is a list\n",
    "\n",
    "type(nums)"
   ]
  },
  {
   "cell_type": "code",
   "execution_count": 26,
   "id": "b19b6d2d-01ac-4b54-86e2-c901e73276c8",
   "metadata": {},
   "outputs": [
    {
     "name": "stdout",
     "output_type": "stream",
     "text": [
      "['Amit', 'Rakesh', 'Sharma']\n",
      "<class 'list'>\n"
     ]
    }
   ],
   "source": [
    "# working of split()\n",
    "\n",
    "name = \"Amit,Rakesh,Sharma\"\n",
    "\n",
    "type(name.split(','))\n",
    "name2 = name.split(',')\n",
    "print(name2)\n",
    "print(type(name2))"
   ]
  },
  {
   "cell_type": "code",
   "execution_count": 30,
   "id": "cf884dde-2d9d-4fc4-ad98-b3573066ebff",
   "metadata": {},
   "outputs": [
    {
     "name": "stdout",
     "output_type": "stream",
     "text": [
      "Amit-Rakesh-Sharma*<class 'str'>\n"
     ]
    }
   ],
   "source": [
    "# working of split()\n",
    "\n",
    "name = \"Amit,Rakesh,Sharma\"\n",
    "\n",
    "type(name.split(','))\n",
    "name2,name3,name4 = name.split(',')\n",
    "print(name2,name3,name4, sep='-', end='*')\n",
    "print(type(name2))"
   ]
  },
  {
   "cell_type": "code",
   "execution_count": 28,
   "id": "343cae34-4917-4b4c-9008-2931f82820ab",
   "metadata": {},
   "outputs": [
    {
     "name": "stdout",
     "output_type": "stream",
     "text": [
      "4, 2, 3, 7\n"
     ]
    }
   ],
   "source": [
    "a,b,c,d = 4,2,3,7\n",
    "\n",
    "print(a,b,c,d, sep=', ')"
   ]
  },
  {
   "cell_type": "code",
   "execution_count": 31,
   "id": "5e93d123-3b55-4d02-b160-fcf7263bead3",
   "metadata": {},
   "outputs": [
    {
     "name": "stdin",
     "output_type": "stream",
     "text": [
      "enter divident:  3456\n",
      "enter divisor:  34\n"
     ]
    },
    {
     "ename": "TypeError",
     "evalue": "unsupported operand type(s) for /: 'str' and 'str'",
     "output_type": "error",
     "traceback": [
      "\u001b[0;31m---------------------------------------------------------------------------\u001b[0m",
      "\u001b[0;31mTypeError\u001b[0m                                 Traceback (most recent call last)",
      "Cell \u001b[0;32mIn[31], line 7\u001b[0m\n\u001b[1;32m      3\u001b[0m divident \u001b[38;5;241m=\u001b[39m \u001b[38;5;28minput\u001b[39m(\u001b[38;5;124m\"\u001b[39m\u001b[38;5;124menter divident: \u001b[39m\u001b[38;5;124m\"\u001b[39m)   \n\u001b[1;32m      5\u001b[0m divisor \u001b[38;5;241m=\u001b[39m \u001b[38;5;28minput\u001b[39m(\u001b[38;5;124m\"\u001b[39m\u001b[38;5;124menter divisor: \u001b[39m\u001b[38;5;124m\"\u001b[39m)     \n\u001b[0;32m----> 7\u001b[0m Quoteint \u001b[38;5;241m=\u001b[39m \u001b[38;5;28mint\u001b[39m(\u001b[43mdivident\u001b[49m\u001b[38;5;241;43m/\u001b[39;49m\u001b[43mdivisor\u001b[49m) \n\u001b[1;32m      9\u001b[0m \u001b[38;5;28mprint\u001b[39m(Quoteint)\n",
      "\u001b[0;31mTypeError\u001b[0m: unsupported operand type(s) for /: 'str' and 'str'"
     ]
    }
   ],
   "source": [
    "# Example: Why this won't work\n",
    "\n",
    "divident = input(\"enter divident: \")   \n",
    "\n",
    "divisor = input(\"enter divisor: \")     \n",
    "\n",
    "Quoteint = int(divident/divisor) \n",
    "\n",
    "print(Quoteint)\n"
   ]
  },
  {
   "cell_type": "code",
   "execution_count": 32,
   "id": "ae66c404-276f-4919-937f-e9dd8390c042",
   "metadata": {},
   "outputs": [
    {
     "name": "stdin",
     "output_type": "stream",
     "text": [
      "enter divident:  3456\n",
      "enter divisor:  34\n"
     ]
    },
    {
     "name": "stdout",
     "output_type": "stream",
     "text": [
      "101.6470588235294\n"
     ]
    }
   ],
   "source": [
    "# Example: Why this won't work\n",
    "\n",
    "divident = input(\"enter divident: \")   \n",
    "\n",
    "divisor = input(\"enter divisor: \")     \n",
    "\n",
    "Quoteint = int(divident)/int(divisor) \n",
    "\n",
    "print(Quoteint)\n"
   ]
  },
  {
   "cell_type": "code",
   "execution_count": 34,
   "id": "0de7812b-1218-41c5-96eb-339a35ae4ac7",
   "metadata": {},
   "outputs": [
    {
     "name": "stdout",
     "output_type": "stream",
     "text": [
      "Net Salary: 7500\n"
     ]
    }
   ],
   "source": [
    "# Write the above program Using--------One line if else statement\n",
    "'''\n",
    "Employee's Salary is given. \n",
    "WAP to calculate bonus and display net salary.\n",
    "\n",
    "Salary Bonus\n",
    ">5000  50% of salary\n",
    "Others 25% of salary\n",
    "'''\n",
    "\n",
    "salary=5000\n",
    "\n",
    "bonus = salary*(50/100) if salary >=5000 else salary*(25/100)\n",
    "print(f'Net Salary: {int(salary+bonus)}')\n"
   ]
  },
  {
   "cell_type": "code",
   "execution_count": 39,
   "id": "9477c09a-1758-4a79-9af5-e59c79725b14",
   "metadata": {},
   "outputs": [
    {
     "name": "stdin",
     "output_type": "stream",
     "text": [
      "Driver is married/unmarried [m/u]? u\n",
      "Male/Female [m/f]? f\n",
      "Age: 20\n"
     ]
    },
    {
     "name": "stdout",
     "output_type": "stream",
     "text": [
      "Driver is not insured\n"
     ]
    }
   ],
   "source": [
    "'''\n",
    "# A company gives insurance to its drivers in the following conditions,\n",
    "\n",
    "- Driver is married.\n",
    "- Driver is an unmarried male above 30 years of age.\n",
    "- Driver is an unmarried female above 25 years of age.\n",
    "\n",
    "In all the above cases display s message ‘Driver is insured’.\n",
    "In all other conditions display ‘Driver is not insured’.\n",
    "\n",
    "Sample Output:\n",
    "\n",
    "Driver is married/unmarried [m/u]? u\n",
    "Male/Female [m/f]? m\n",
    "Age: 24\n",
    "Driver is not insured\n",
    "'''\n",
    "\n",
    "Married = input('Driver is married/unmarried [m/u]?')\n",
    "Gender = input('Male/Female [m/f]?')\n",
    "Age = input('Age:')\n",
    "\n",
    "Insurance_Status = 'Driver is insured' if Married == 'm' or (Gender == 'm' and (int(Age) >= 30)) or (Gender == 'f' and (int(Age) >= 25)) else 'Driver is not insured'\n",
    "print(Insurance_Status) \n"
   ]
  },
  {
   "cell_type": "code",
   "execution_count": 43,
   "id": "13dd2b6d-edc6-4260-a97d-c3680ceaecb2",
   "metadata": {},
   "outputs": [
    {
     "name": "stdout",
     "output_type": "stream",
     "text": [
      "Error: invalid literal for int() with base 10: 'Hello This Is Fun'\n",
      "Could not convert data to an integer.\n"
     ]
    }
   ],
   "source": [
    "import sys\n",
    "\n",
    "try:\n",
    "    f = open('myfile.txt')\n",
    "    s = f.readline()\n",
    "    i = int(s.strip())\n",
    "    print('No error so far')\n",
    "except OSError as err:\n",
    "    print(\"OS error:\", err)\n",
    "except ValueError as ve:\n",
    "    print('Error:', ve)\n",
    "    print(\"Could not convert data to an integer.\")\n",
    "except Exception as err:\n",
    "    print(f\"Unexpected {err=}, {type(err)=}\")\n",
    "    raise"
   ]
  },
  {
   "cell_type": "code",
   "execution_count": 44,
   "id": "f2662fcc-7360-40e7-8a6d-477a131438ac",
   "metadata": {},
   "outputs": [
    {
     "name": "stdout",
     "output_type": "stream",
     "text": [
      "0\n",
      "1\n",
      "2\n",
      "3\n",
      "4\n",
      "5\n",
      "6\n",
      "7\n",
      "8\n",
      "9\n"
     ]
    }
   ],
   "source": [
    "# Print numbers from 0 to 9\n",
    "# range(start, stop, step)\n",
    "\n",
    "for i in range(10):    # range(0,10,1)\n",
    "    print(i)\n"
   ]
  },
  {
   "cell_type": "code",
   "execution_count": 45,
   "id": "10d78ab3-5e80-47ea-a43e-1cc4951b3ff4",
   "metadata": {},
   "outputs": [
    {
     "name": "stdout",
     "output_type": "stream",
     "text": [
      "53\n",
      "12\n",
      "45\n",
      "660\n",
      "80\n",
      "18\n",
      "91\n",
      "70\n",
      "25\n",
      "53\n",
      "12\n",
      "45\n",
      "660\n",
      "80\n",
      "18\n",
      "91\n",
      "70\n",
      "25\n"
     ]
    }
   ],
   "source": [
    "mylist = [53,12,45,660,80,18,91,70,25]\n",
    "\n",
    "for i in range(len(mylist)):\n",
    "    print(mylist[i])\n",
    "\n",
    "for j in mylist:\n",
    "    print(j)"
   ]
  },
  {
   "cell_type": "code",
   "execution_count": 56,
   "id": "a4d58052-fac8-4c8d-8431-b2ab37e9f717",
   "metadata": {},
   "outputs": [
    {
     "name": "stdout",
     "output_type": "stream",
     "text": [
      "910\n"
     ]
    }
   ],
   "source": [
    "# find largest number from the list\n",
    "\n",
    "#         0   1  2  3  .....        index numbers\n",
    "mylist = [53,12,45,660,80,18,910,70,25]\n",
    "\n",
    "c = -1\n",
    "for i in range(len(mylist)):\n",
    "    if c > mylist[i]:\n",
    "        continue\n",
    "    c = mylist[i]\n",
    "\n",
    "print(c)"
   ]
  },
  {
   "cell_type": "code",
   "execution_count": 60,
   "id": "a85eafef-b649-4607-830d-3aa1e888ed6b",
   "metadata": {},
   "outputs": [
    {
     "name": "stdin",
     "output_type": "stream",
     "text": [
      "Enter a Number: 153\n"
     ]
    },
    {
     "name": "stdout",
     "output_type": "stream",
     "text": [
      "Armstrong Number\n"
     ]
    }
   ],
   "source": [
    "# find if the entered number is armstrong\n",
    "# Sample output:\n",
    "# Enter a number: 153\n",
    "# 153 is an armstrong number!\n",
    "\n",
    "# digits = 3\n",
    "# 153 = 1^3 + 5^3 + 3^3 = 153\n",
    "\n",
    "import math\n",
    "\n",
    "\n",
    "num = int(input('Enter a Number:'))\n",
    "length = len(str(num))\n",
    "sums = 0\n",
    "\n",
    "for digit in str(num):\n",
    "    digit = int(digit)\n",
    "    sums += pow(digit, length)\n",
    "\n",
    "Result = 'Armstrong Number' if sums == int(num) else 'Not Armstrong Number'\n",
    "print(Result)\n",
    "    \n"
   ]
  },
  {
   "cell_type": "code",
   "execution_count": 61,
   "id": "c928e357-38cd-487c-a6b2-f45babbc3f70",
   "metadata": {},
   "outputs": [
    {
     "name": "stdin",
     "output_type": "stream",
     "text": [
      "Enter a number [enter 0 to stop]:  121\n"
     ]
    },
    {
     "name": "stdout",
     "output_type": "stream",
     "text": [
      "It's a palindrome\n"
     ]
    },
    {
     "name": "stdin",
     "output_type": "stream",
     "text": [
      "Enter a number [enter 0 to stop]:  122332211\n"
     ]
    },
    {
     "name": "stdout",
     "output_type": "stream",
     "text": [
      "It's not a palindrome\n"
     ]
    },
    {
     "name": "stdin",
     "output_type": "stream",
     "text": [
      "Enter a number [enter 0 to stop]:  0\n"
     ]
    }
   ],
   "source": [
    "# Accept a number till the user wants\n",
    "# Find if it's palindrome or not:  12321, 4554, 101, NITIN\n",
    "\n",
    "while True:\n",
    "    num = int(input('Enter a number [enter 0 to stop]: '))\n",
    "    s1 = str(num)\n",
    "    if num == 0:\n",
    "        break\n",
    "    elif s1[::-1] == s1:    # This command reverses the sequence This is part of string slicing\n",
    "        print(\"It's a palindrome\")\n",
    "    else:\n",
    "        print(\"It's not a palindrome\")\n"
   ]
  },
  {
   "cell_type": "code",
   "execution_count": 62,
   "id": "aa50a44f-cd36-40c9-862c-c06f95c28c95",
   "metadata": {},
   "outputs": [
    {
     "data": {
      "text/plain": [
       "['india', 'canada', 'japan', 'newzeland']"
      ]
     },
     "execution_count": 62,
     "metadata": {},
     "output_type": "execute_result"
    }
   ],
   "source": [
    "# List of strings\n",
    "\n",
    "words = ['india',\n",
    "         'canada',\n",
    "         'japan',\n",
    "         'newzeland']\n",
    "\n",
    "words"
   ]
  },
  {
   "cell_type": "code",
   "execution_count": 63,
   "id": "114746d4-8cbd-428d-8474-e6bd6507a6cf",
   "metadata": {},
   "outputs": [
    {
     "data": {
      "text/plain": [
       "'newzeland'"
      ]
     },
     "execution_count": 63,
     "metadata": {},
     "output_type": "execute_result"
    }
   ],
   "source": [
    "words[-1]"
   ]
  },
  {
   "cell_type": "code",
   "execution_count": 64,
   "id": "dda214df-7013-405b-b528-27060988c8b1",
   "metadata": {},
   "outputs": [
    {
     "data": {
      "text/plain": [
       "'dnalezwen'"
      ]
     },
     "execution_count": 64,
     "metadata": {},
     "output_type": "execute_result"
    }
   ],
   "source": [
    "words[-1][::-1]"
   ]
  },
  {
   "cell_type": "code",
   "execution_count": 65,
   "id": "9f4b9fad-5f33-451a-818e-f3587d5089a3",
   "metadata": {},
   "outputs": [
    {
     "data": {
      "text/plain": [
       "'12/20/2023'"
      ]
     },
     "execution_count": 65,
     "metadata": {},
     "output_type": "execute_result"
    }
   ],
   "source": [
    "dateList = ['12','20','2023']\n",
    "\n",
    "'/'.join(dateList)"
   ]
  },
  {
   "cell_type": "code",
   "execution_count": 66,
   "id": "e0607a42-cc14-4f0c-bae4-860e9b04f4cd",
   "metadata": {},
   "outputs": [
    {
     "name": "stdout",
     "output_type": "stream",
     "text": [
      "12500\n"
     ]
    }
   ],
   "source": [
    "# Replace comma with nothing\n",
    "\n",
    "Number = '12,500'\n",
    "print(Number.replace(',',''))\n"
   ]
  },
  {
   "cell_type": "code",
   "execution_count": 67,
   "id": "41122862-178e-420c-a13c-1a9d2cf55dd9",
   "metadata": {},
   "outputs": [
    {
     "name": "stdout",
     "output_type": "stream",
     "text": [
      "Try again\n"
     ]
    }
   ],
   "source": [
    "# What will be the output of the code\n",
    "\n",
    "my_string = ''    # empty string is always False\n",
    "\n",
    "if my_string:\n",
    "    print(\"Good work\")\n",
    "else:\n",
    "    print(\"Try again\")\n"
   ]
  },
  {
   "cell_type": "code",
   "execution_count": 68,
   "id": "acae2267-133e-41bb-9520-d0c63b9ca797",
   "metadata": {},
   "outputs": [
    {
     "name": "stdout",
     "output_type": "stream",
     "text": [
      "['Joseph', 'Glenn', 'Sally']\n"
     ]
    }
   ],
   "source": [
    "# remove all the occurances of 'John'\n",
    "\n",
    "friends = ['John', 'John', 'Joseph', 'John', 'John', 'Glenn', 'Sally', 'John']\n",
    "\n",
    "remName = 'John'\n",
    "newList = []\n",
    "\n",
    "for i in friends:\n",
    "    if remName != i:\n",
    "        newList.append(i)\n",
    "\n",
    "print(newList)"
   ]
  },
  {
   "cell_type": "code",
   "execution_count": 69,
   "id": "c9acffbd-f1d9-46cf-9b2b-f5bc1a012dca",
   "metadata": {},
   "outputs": [
    {
     "data": {
      "text/plain": [
       "[75, 90, 76, 32]"
      ]
     },
     "execution_count": 69,
     "metadata": {},
     "output_type": "execute_result"
    }
   ],
   "source": [
    "# Create a new list having elements more than 20\n",
    "\n",
    "list1 = [3, 15, 75, 4, 2, 90, 76, 32, 19]\n",
    "\n",
    "# listObj = [expression   for loop   if condition]\n",
    "\n",
    "list2 = [i  for i in list1  if i>20]\n",
    "\n",
    "list2\n"
   ]
  },
  {
   "cell_type": "code",
   "execution_count": 70,
   "id": "84574d88-0ac7-40fa-80c9-dade92056c37",
   "metadata": {},
   "outputs": [
    {
     "name": "stdout",
     "output_type": "stream",
     "text": [
      "(7, 6, 5, 4, 3)\n"
     ]
    }
   ],
   "source": [
    "# Difference between list and tupple is that tupple is immutable\n",
    "tup1 = (3,4,5,6,7)\n",
    "print(tup1[::-1])"
   ]
  },
  {
   "cell_type": "code",
   "execution_count": 71,
   "id": "27ff46b3-f8e3-4e6d-acec-5e4f51c4310a",
   "metadata": {},
   "outputs": [
    {
     "data": {
      "text/plain": [
       "{1, 2, 3, 4, 5, 6, 7}"
      ]
     },
     "execution_count": 71,
     "metadata": {},
     "output_type": "execute_result"
    }
   ],
   "source": [
    "set1 = {1,2,3,4,5,6,7}\n",
    "set1"
   ]
  },
  {
   "cell_type": "code",
   "execution_count": 72,
   "id": "d98b25e5-2f60-4f27-b0a8-1883c7318aeb",
   "metadata": {},
   "outputs": [
    {
     "data": {
      "text/plain": [
       "dict"
      ]
     },
     "execution_count": 72,
     "metadata": {},
     "output_type": "execute_result"
    }
   ],
   "source": [
    "myset = {}\n",
    "type(myset)"
   ]
  },
  {
   "cell_type": "code",
   "execution_count": 74,
   "id": "2e7528f3-32ba-4510-acf7-77c7bfaf00d2",
   "metadata": {},
   "outputs": [
    {
     "data": {
      "text/plain": [
       "set"
      ]
     },
     "execution_count": 74,
     "metadata": {},
     "output_type": "execute_result"
    }
   ],
   "source": [
    "myset = set()\n",
    "type(myset)"
   ]
  },
  {
   "cell_type": "code",
   "execution_count": 75,
   "id": "f211eed9-3381-42d9-9612-1f53aa440f27",
   "metadata": {},
   "outputs": [
    {
     "data": {
      "text/plain": [
       "{1, 2, 3, 4, 5, 6}"
      ]
     },
     "execution_count": 75,
     "metadata": {},
     "output_type": "execute_result"
    }
   ],
   "source": [
    "mylist = [1,1,2,2,3,3,4,4,4,5,6]\n",
    "myset = set(mylist)\n",
    "myset"
   ]
  },
  {
   "cell_type": "code",
   "execution_count": 76,
   "id": "58753060-f4c2-4e25-aa72-6576ced542cf",
   "metadata": {},
   "outputs": [
    {
     "data": {
      "text/plain": [
       "[1, 2, 3, 4, 5, 6]"
      ]
     },
     "execution_count": 76,
     "metadata": {},
     "output_type": "execute_result"
    }
   ],
   "source": [
    "mylist = list(myset)\n",
    "mylist"
   ]
  },
  {
   "cell_type": "code",
   "execution_count": 77,
   "id": "5ef60d85-ea43-48cb-be0c-6b36a33d9491",
   "metadata": {},
   "outputs": [
    {
     "data": {
      "text/plain": [
       "{1}"
      ]
     },
     "execution_count": 77,
     "metadata": {},
     "output_type": "execute_result"
    }
   ],
   "source": [
    "set1 = {1,1,1,1}\n",
    "set1"
   ]
  },
  {
   "cell_type": "code",
   "execution_count": 78,
   "id": "c6afc79c-9f19-4384-86b3-c1cc6e8bad52",
   "metadata": {},
   "outputs": [
    {
     "data": {
      "text/plain": [
       "{1, 2, 3, 4, 5}"
      ]
     },
     "execution_count": 78,
     "metadata": {},
     "output_type": "execute_result"
    }
   ],
   "source": [
    "set1.update([2,3,4,5,4,1])\n",
    "set1"
   ]
  },
  {
   "cell_type": "code",
   "execution_count": 79,
   "id": "75c15cdd-7a62-4035-8b57-ec5390f51e53",
   "metadata": {},
   "outputs": [
    {
     "data": {
      "text/plain": [
       "{1, 2, 3, 4, 5, 'India'}"
      ]
     },
     "execution_count": 79,
     "metadata": {},
     "output_type": "execute_result"
    }
   ],
   "source": [
    "set1.add('India')\n",
    "set1"
   ]
  },
  {
   "cell_type": "code",
   "execution_count": 80,
   "id": "86c5e9d6-b9de-48be-8087-28e9634ec330",
   "metadata": {},
   "outputs": [
    {
     "ename": "KeyError",
     "evalue": "'Shruti'",
     "output_type": "error",
     "traceback": [
      "\u001b[0;31m---------------------------------------------------------------------------\u001b[0m",
      "\u001b[0;31mKeyError\u001b[0m                                  Traceback (most recent call last)",
      "Cell \u001b[0;32mIn[80], line 1\u001b[0m\n\u001b[0;32m----> 1\u001b[0m \u001b[43mset1\u001b[49m\u001b[38;5;241;43m.\u001b[39;49m\u001b[43mremove\u001b[49m\u001b[43m(\u001b[49m\u001b[38;5;124;43m'\u001b[39;49m\u001b[38;5;124;43mShruti\u001b[39;49m\u001b[38;5;124;43m'\u001b[39;49m\u001b[43m)\u001b[49m\n",
      "\u001b[0;31mKeyError\u001b[0m: 'Shruti'"
     ]
    }
   ],
   "source": [
    "set1.remove('Shruti')"
   ]
  },
  {
   "cell_type": "code",
   "execution_count": 83,
   "id": "23bf067b-70dd-4f70-946f-cb59ccae0c5f",
   "metadata": {},
   "outputs": [
    {
     "ename": "KeyError",
     "evalue": "'India'",
     "output_type": "error",
     "traceback": [
      "\u001b[0;31m---------------------------------------------------------------------------\u001b[0m",
      "\u001b[0;31mKeyError\u001b[0m                                  Traceback (most recent call last)",
      "Cell \u001b[0;32mIn[83], line 1\u001b[0m\n\u001b[0;32m----> 1\u001b[0m \u001b[43mset1\u001b[49m\u001b[38;5;241;43m.\u001b[39;49m\u001b[43mremove\u001b[49m\u001b[43m(\u001b[49m\u001b[38;5;124;43m'\u001b[39;49m\u001b[38;5;124;43mIndia\u001b[39;49m\u001b[38;5;124;43m'\u001b[39;49m\u001b[43m)\u001b[49m\n\u001b[1;32m      2\u001b[0m set1\n",
      "\u001b[0;31mKeyError\u001b[0m: 'India'"
     ]
    }
   ],
   "source": [
    "set1.remove('India')\n",
    "set1"
   ]
  },
  {
   "cell_type": "code",
   "execution_count": 82,
   "id": "f76e63e7-c09b-4561-b0bd-2b2d5036ec7f",
   "metadata": {},
   "outputs": [
    {
     "data": {
      "text/plain": [
       "{1, 2, 3, 4, 5}"
      ]
     },
     "execution_count": 82,
     "metadata": {},
     "output_type": "execute_result"
    }
   ],
   "source": [
    "set1.discard('India')\n",
    "set1"
   ]
  },
  {
   "cell_type": "code",
   "execution_count": 87,
   "id": "2cf7acda-4729-4edd-864f-de92cbe124c3",
   "metadata": {},
   "outputs": [
    {
     "name": "stdout",
     "output_type": "stream",
     "text": [
      "{1, 2, 6}\n",
      "{0, 3, 5, 8, 9}\n",
      "{0, 1, 2, 3, 5, 6, 8, 9}\n",
      "{8, 3, 5}\n"
     ]
    }
   ],
   "source": [
    "# Two lists are given\n",
    "# Find common and uncommon elements from the list\n",
    "\n",
    "list1 = [5,2,3,8,6,1]\n",
    "list2 = [1,6,2,9,0]\n",
    "\n",
    "set1 = set(list1)\n",
    "set2 = set(list2)\n",
    "print(set1&set2)\n",
    "print(set1^set2)\n",
    "print(set1|set2)\n",
    "print(set1-set2)"
   ]
  },
  {
   "cell_type": "code",
   "execution_count": 88,
   "id": "93cb38d8-196d-43d9-9b29-d7d3e6f0192f",
   "metadata": {},
   "outputs": [
    {
     "data": {
      "text/plain": [
       "{'Py': {'year': 1991, 'creator': 'G. van Rossum'},\n",
       " 'Java': {'year': 1995, 'creator': 'J. Gosling'},\n",
       " 'C#': {'year': 2000, 'creator': 'Microsoft'}}"
      ]
     },
     "execution_count": 88,
     "metadata": {},
     "output_type": "execute_result"
    }
   ],
   "source": [
    "#Dictionary\n",
    "progLang = {\n",
    "    \"Py\": {\n",
    "        \"year\": 1991,\n",
    "        \"creator\": \"G. van Rossum\",\n",
    "    },\n",
    "    \"Java\": {\n",
    "        \"year\": 1995,\n",
    "        \"creator\": \"J. Gosling\",\n",
    "    },\n",
    "    \"C#\": {\n",
    "        \"year\": 2000,\n",
    "        \"creator\": \"Microsoft\",\n",
    "    }\n",
    "}\n",
    "progLang"
   ]
  },
  {
   "cell_type": "code",
   "execution_count": 99,
   "id": "f8541397-2002-406f-a53b-8cf6b180b256",
   "metadata": {},
   "outputs": [
    {
     "name": "stdout",
     "output_type": "stream",
     "text": [
      "year - 1991\n"
     ]
    }
   ],
   "source": [
    "for k,v in progLang.items():\n",
    "    for kk in progLang[k].keys():\n",
    "        if progLang[k][kk] == 1991:\n",
    "         print(kk,'-',progLang[k][kk]),\n",
    "        #print(kk)"
   ]
  },
  {
   "cell_type": "code",
   "execution_count": 108,
   "id": "57c22d01-1f26-4c0a-a351-4b42eb5cb40a",
   "metadata": {},
   "outputs": [
    {
     "name": "stdout",
     "output_type": "stream",
     "text": [
      "{'Apple': 4, 'Guava': 5, 'Leechi': 6, 'PineApple': 5, 'Pear': 6, 'Banana': 4}\n"
     ]
    }
   ],
   "source": [
    "# Accept a text file\n",
    "# Count the words and it's occurance \n",
    "# And store it in a dictionary\n",
    "\n",
    "filepointer = open(r'fruits.txt','r') \n",
    "\n",
    "list = {}\n",
    "\n",
    "for line in filepointer:\n",
    "    words = line.split(',')\n",
    "    for word in words:\n",
    "        if word in list.keys():\n",
    "            list[word] += 1\n",
    "        else:\n",
    "            list[word] = 1\n",
    "\n",
    "filepointer.close()\n",
    "\n",
    "print(list)\n",
    "\n",
    "\n"
   ]
  },
  {
   "cell_type": "code",
   "execution_count": 109,
   "id": "1a9f3f11-67ef-4a4a-8c70-8f962a89f8c9",
   "metadata": {},
   "outputs": [
    {
     "data": {
      "text/plain": [
       "{'Book': 15, 'Pen': 42, 'Ruler': 20, 'Box': 23, 'Bag': 19}"
      ]
     },
     "execution_count": 109,
     "metadata": {},
     "output_type": "execute_result"
    }
   ],
   "source": [
    "product = ['Book','Pen','Ruler','Box','Bag']\n",
    "stock = [15,42,20,23,19]\n",
    "\n",
    "# Create a dictionary using the product and stock list\n",
    "\n",
    "mydict = {k:v  for k,v in zip(product,stock)}\n",
    "mydict"
   ]
  },
  {
   "cell_type": "code",
   "execution_count": 111,
   "id": "96eb0fb7-cfce-4d69-a395-acafc2dde545",
   "metadata": {},
   "outputs": [
    {
     "data": {
      "text/plain": [
       "{'city': 'delhi', 'dept': 'IT', 'area': 'West'}"
      ]
     },
     "execution_count": 111,
     "metadata": {},
     "output_type": "execute_result"
    }
   ],
   "source": [
    "my_dict={'name': 'John', \n",
    "         'code': 4001, \n",
    "         'city': 'delhi', \n",
    "         'dept': 'IT',\n",
    "         'exp': 5,\n",
    "         'area': 'West',\n",
    "        }\n",
    "\n",
    "list = ['name','code','exp']\n",
    "mydict2 = {k:v for k,v in my_dict.items() if k not in list}\n",
    "mydict2"
   ]
  },
  {
   "cell_type": "code",
   "execution_count": 114,
   "id": "543f12fb-9fca-43e3-a3cd-ba7df1733b06",
   "metadata": {},
   "outputs": [
    {
     "name": "stdin",
     "output_type": "stream",
     "text": [
      "Give 2 numbers: 23 45\n"
     ]
    },
    {
     "name": "stdout",
     "output_type": "stream",
     "text": [
      "68\n"
     ]
    }
   ],
   "source": [
    "# accept 2 numbers and display sum -  without parameters\n",
    "def sums():\n",
    "    n1,n2 = map(int,(input('Give 2 numbers:').split()))\n",
    "    return n1+n2\n",
    "\n",
    "print(sums())\n"
   ]
  },
  {
   "cell_type": "code",
   "execution_count": 123,
   "id": "9c2bf3a9-31be-43e8-af9a-5fa3fb107c4b",
   "metadata": {},
   "outputs": [
    {
     "name": "stdout",
     "output_type": "stream",
     "text": [
      "{1: 1, 2: 4, 3: 9, 4: 16, 5: 25, 6: 36}\n",
      "21\n"
     ]
    }
   ],
   "source": [
    "# function having list as an argument and return a dictionary\n",
    "\n",
    "# function to add elements of the list\n",
    "\n",
    "def list2dict(list):\n",
    "    return {k:k*k for k in list}\n",
    "\n",
    "def sumList(list):\n",
    "    j = 0\n",
    "    for i in list:\n",
    "        j = j+int(i)\n",
    "    return j\n",
    "\n",
    "list = [1,2,3,4,5,6]\n",
    "print(list2dict(list))\n",
    "print(sumList(list))\n"
   ]
  },
  {
   "cell_type": "code",
   "execution_count": null,
   "id": "43bd5785-f39e-4db8-9217-88c386a12c7f",
   "metadata": {},
   "outputs": [],
   "source": []
  }
 ],
 "metadata": {
  "kernelspec": {
   "display_name": "Python 3 (ipykernel)",
   "language": "python",
   "name": "python3"
  },
  "language_info": {
   "codemirror_mode": {
    "name": "ipython",
    "version": 3
   },
   "file_extension": ".py",
   "mimetype": "text/x-python",
   "name": "python",
   "nbconvert_exporter": "python",
   "pygments_lexer": "ipython3",
   "version": "3.10.0"
  }
 },
 "nbformat": 4,
 "nbformat_minor": 5
}
