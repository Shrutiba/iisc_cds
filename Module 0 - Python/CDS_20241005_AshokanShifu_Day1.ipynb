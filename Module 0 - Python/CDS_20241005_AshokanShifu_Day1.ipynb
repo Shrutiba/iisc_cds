{
 "cells": [
  {
   "cell_type": "markdown",
   "metadata": {
    "id": "XNKPo_t9uM_9"
   },
   "source": [
    "# Problem 1\n",
    "## Euler 1\n",
    "\n",
    "<p>If we list all the natural numbers below $10$ that are multiples of $3$ or $5$, we get $3, 5, 6$ and $9$. The sum of these multiples is $23$.</p>\n",
    "\n",
    "<p>Find the sum of all the multiples of $3$ or $5$ below $1000$.</p>"
   ]
  },
  {
   "cell_type": "code",
   "execution_count": null,
   "metadata": {
    "id": "-FrNQzmZy1S_"
   },
   "outputs": [],
   "source": [
    "def euler001_A(limit: int) -> int:\n",
    "    total, i = 0, 1\n",
    "    while i < limit:\n",
    "        if i % 3 == 0 or i % 5 == 0:\n",
    "            total += i\n",
    "        i += 1\n",
    "    return total"
   ]
  },
  {
   "cell_type": "code",
   "execution_count": null,
   "metadata": {
    "id": "4pqJY4gf1GoD"
   },
   "outputs": [],
   "source": [
    "print(euler001_A(10))"
   ]
  },
  {
   "cell_type": "code",
   "execution_count": null,
   "metadata": {
    "id": "juOUji-p1Ixw"
   },
   "outputs": [],
   "source": [
    "print(euler001_A(1000))"
   ]
  },
  {
   "cell_type": "code",
   "execution_count": null,
   "metadata": {
    "id": "zU3hruxa1Qrc"
   },
   "outputs": [],
   "source": [
    "def euler001_B(limit: int) -> int:\n",
    "    total = 0\n",
    "    for i in range(1, limit):\n",
    "        if i % 3 == 0 or i % 5 == 0:\n",
    "            total += i\n",
    "    return total"
   ]
  },
  {
   "cell_type": "code",
   "execution_count": null,
   "metadata": {
    "id": "NMCRWr2n1g2c"
   },
   "outputs": [],
   "source": [
    "print(euler001_B(1000))"
   ]
  },
  {
   "cell_type": "code",
   "execution_count": null,
   "metadata": {
    "id": "IWGeODrH1vmE"
   },
   "outputs": [],
   "source": [
    "def euler001_C(limit: int) -> int:\n",
    "    return sum(range(3, limit, 3)) + sum(range(5, limit, 5)) - sum(range(15, limit, 15))"
   ]
  },
  {
   "cell_type": "code",
   "execution_count": null,
   "metadata": {
    "id": "eyYS6nNN3OTL"
   },
   "outputs": [],
   "source": [
    "print(euler001_C(1000))"
   ]
  },
  {
   "cell_type": "code",
   "execution_count": null,
   "metadata": {
    "id": "0EV-qjL53RF4"
   },
   "outputs": [],
   "source": [
    "def euler001_D(limit: int) -> int:\n",
    "    return sum(set(range(3, limit, 3)) | set(range(5, limit, 5)))"
   ]
  },
  {
   "cell_type": "code",
   "execution_count": null,
   "metadata": {
    "id": "0_xFzjZT3ne9"
   },
   "outputs": [],
   "source": [
    "print(euler001_D(1000))"
   ]
  },
  {
   "cell_type": "code",
   "execution_count": null,
   "metadata": {
    "id": "3eO5ExLn3qVL"
   },
   "outputs": [],
   "source": [
    "def select(n: int) -> bool:\n",
    "    return n % 3 == 0 or n % 5 == 0"
   ]
  },
  {
   "cell_type": "code",
   "execution_count": null,
   "metadata": {
    "id": "put1pB6_6GjH"
   },
   "outputs": [],
   "source": [
    "def euler001_E(limit: int) -> int:\n",
    "    return sum(filter(select, range(1, limit)))"
   ]
  },
  {
   "cell_type": "code",
   "execution_count": null,
   "metadata": {
    "id": "sa5LbQvd6O5G"
   },
   "outputs": [],
   "source": [
    "print(euler001_E(1000))"
   ]
  },
  {
   "cell_type": "code",
   "execution_count": null,
   "metadata": {
    "id": "R6nVAZpr6ROa"
   },
   "outputs": [],
   "source": [
    "def euler001_F1(limit: int) -> int:\n",
    "    return sum([i for i in range(1, limit) if select(i)])"
   ]
  },
  {
   "cell_type": "code",
   "execution_count": null,
   "metadata": {
    "id": "xQXLI0X16aRl"
   },
   "outputs": [],
   "source": [
    "def euler001_F2(limit: int) -> int:\n",
    "    return sum([i for i in range(1, limit) if i % 3 == 0 or i % 5 == 0])"
   ]
  },
  {
   "cell_type": "code",
   "execution_count": null,
   "metadata": {
    "id": "EFhIQRTm6jK-"
   },
   "outputs": [],
   "source": [
    "print(euler001_F1(1000))\n",
    "print(euler001_F2(1000))"
   ]
  },
  {
   "cell_type": "code",
   "execution_count": null,
   "metadata": {
    "id": "5fugKZTo6nUJ"
   },
   "outputs": [],
   "source": [
    "!python --version"
   ]
  },
  {
   "cell_type": "markdown",
   "metadata": {
    "id": "nw9tHitc7ZNz"
   },
   "source": [
    "# Functional Programming\n",
    "## Higher Order Functions\n",
    "### MAP, FILTER, $\\ldots$ $\\Rightarrow$ List Comprehension"
   ]
  },
  {
   "cell_type": "code",
   "execution_count": null,
   "metadata": {
    "id": "u3VQSVll9miu"
   },
   "outputs": [],
   "source": [
    "select(6)"
   ]
  },
  {
   "cell_type": "code",
   "execution_count": null,
   "metadata": {
    "id": "yNVrllWv-WQ6"
   },
   "outputs": [],
   "source": [
    "select(100)"
   ]
  },
  {
   "cell_type": "code",
   "execution_count": null,
   "metadata": {
    "id": "0KP7WiRB-ZYY"
   },
   "outputs": [],
   "source": [
    "select(7)"
   ]
  },
  {
   "cell_type": "code",
   "execution_count": null,
   "metadata": {
    "id": "8oSVDGUV-aUw"
   },
   "outputs": [],
   "source": [
    "pick = select"
   ]
  },
  {
   "cell_type": "code",
   "execution_count": null,
   "metadata": {
    "id": "LiOCPWxV-cmn"
   },
   "outputs": [],
   "source": [
    "pick(9)"
   ]
  },
  {
   "cell_type": "markdown",
   "metadata": {
    "id": "PrOjavFC-d1s"
   },
   "source": [
    "# filter(f, S) $\\equiv$ {s $\\in$ S, f(s)}"
   ]
  },
  {
   "cell_type": "code",
   "execution_count": null,
   "metadata": {
    "id": "9YP2ppUE_6Uw"
   },
   "outputs": [],
   "source": [
    "print(filter(select, [3, 7, 10, 12, 91]))"
   ]
  },
  {
   "cell_type": "code",
   "execution_count": null,
   "metadata": {
    "id": "VAnhgKSjAM9-"
   },
   "outputs": [],
   "source": [
    "print(list(filter(select, [3, 7, 10, 12, 91])))"
   ]
  },
  {
   "cell_type": "code",
   "execution_count": null,
   "metadata": {
    "id": "77sOnFU3AU_3"
   },
   "outputs": [],
   "source": [
    "def even(n: int) -> bool:\n",
    "    return n % 2 == 0"
   ]
  },
  {
   "cell_type": "code",
   "execution_count": null,
   "metadata": {
    "id": "Bi9VHgVoApSF"
   },
   "outputs": [],
   "source": [
    "print(list(filter(even, [3, 7, 10, 12, 91])))"
   ]
  },
  {
   "cell_type": "markdown",
   "metadata": {
    "id": "GOGwgeTHAtxy"
   },
   "source": [
    "# map(f, S) $\\equiv$ $[f(s_0), f(s_1), \\ldots]$"
   ]
  },
  {
   "cell_type": "code",
   "execution_count": null,
   "metadata": {
    "id": "-vg_GnEOBa55"
   },
   "outputs": [],
   "source": [
    "def alpha(n: int) -> int:\n",
    "    if n % 2 == 0:\n",
    "        return n // 2\n",
    "    else:\n",
    "        return 5 * n - 1"
   ]
  },
  {
   "cell_type": "code",
   "execution_count": null,
   "metadata": {
    "id": "EqZD5vH1BwEk"
   },
   "outputs": [],
   "source": [
    "print(list(map(alpha, [3, 7, 10, 12, 91])))"
   ]
  },
  {
   "cell_type": "code",
   "execution_count": null,
   "metadata": {
    "id": "k5_XgQRFB2A3"
   },
   "outputs": [],
   "source": [
    "print(list(map(even, [3, 7, 10, 12, 91])))"
   ]
  },
  {
   "cell_type": "code",
   "execution_count": null,
   "metadata": {
    "id": "z0KNHT0gB-Ze"
   },
   "outputs": [],
   "source": [
    "def my_map(f, S):\n",
    "    mapS = []\n",
    "    for s in S:\n",
    "        mapS.append(f(s))\n",
    "    return mapS"
   ]
  },
  {
   "cell_type": "code",
   "execution_count": null,
   "metadata": {
    "id": "ZV32mjkxDflB"
   },
   "outputs": [],
   "source": [
    "def my_filter(f, S):\n",
    "    filtered = []\n",
    "    for s in S:\n",
    "        if f(s):\n",
    "            filtered.append(s)\n",
    "    return filtered"
   ]
  },
  {
   "cell_type": "markdown",
   "metadata": {
    "id": "EdoxfRsiF0Ij"
   },
   "source": [
    "# lc $\\equiv$ map + filter"
   ]
  },
  {
   "cell_type": "markdown",
   "metadata": {
    "id": "18WhDtw6GFOR"
   },
   "source": [
    "# [f(x) for x in S if g(x)] $\\equiv$ map(f, filter(g, S))"
   ]
  },
  {
   "cell_type": "markdown",
   "metadata": {
    "id": "YvIpb0PtGLgB"
   },
   "source": [
    "# lc Filter\n",
    "\n",
    "## filter(f, S) $\\equiv$ [x for x in S if f(x)]"
   ]
  },
  {
   "cell_type": "markdown",
   "metadata": {
    "id": "PEz5c2wDGrvE"
   },
   "source": [
    "# lc Map\n",
    "\n",
    "## map(f, S) $\\equiv$ [f(x) for x in S]"
   ]
  },
  {
   "cell_type": "markdown",
   "metadata": {
    "id": "nu19bgTLHwqF"
   },
   "source": [
    "# lc in code\n",
    "\n",
    "\n"
   ]
  },
  {
   "cell_type": "code",
   "execution_count": null,
   "metadata": {
    "id": "QAY0ryB9IlaK"
   },
   "outputs": [],
   "source": [
    "def mylc(f, g, S):\n",
    "    newS = []\n",
    "    for s in S:\n",
    "        if g(s):\n",
    "            newS.append(f(s))\n",
    "    return newS"
   ]
  },
  {
   "cell_type": "markdown",
   "metadata": {
    "id": "esRrCo4sIuic"
   },
   "source": [
    "# Dictionary comprehensions\n",
    "## {a:b for a, b in ?}"
   ]
  },
  {
   "cell_type": "code",
   "execution_count": null,
   "metadata": {
    "id": "-_yrATkQMRqT"
   },
   "outputs": [],
   "source": [
    "{i: i * i for i in range(7)}"
   ]
  },
  {
   "cell_type": "code",
   "execution_count": null,
   "metadata": {
    "id": "SujgsiyvM7zp"
   },
   "outputs": [],
   "source": [
    "d = {i: i * i for i in range(7)}"
   ]
  },
  {
   "cell_type": "code",
   "execution_count": null,
   "metadata": {
    "id": "JDQ4mKkdNAWQ"
   },
   "outputs": [],
   "source": [
    "type(d)"
   ]
  },
  {
   "cell_type": "markdown",
   "metadata": {
    "id": "Jcn3_bC7MXnW"
   },
   "source": [
    "# Set comprehensions"
   ]
  },
  {
   "cell_type": "code",
   "execution_count": null,
   "metadata": {
    "id": "GzepBytnMn79"
   },
   "outputs": [],
   "source": [
    "{i for i in range(7)}"
   ]
  },
  {
   "cell_type": "code",
   "execution_count": null,
   "metadata": {
    "id": "LpZNhbzDMzPs"
   },
   "outputs": [],
   "source": [
    "r7 = {i for i in range(7)}"
   ]
  },
  {
   "cell_type": "code",
   "execution_count": null,
   "metadata": {
    "id": "oq9RCKNPM3gc"
   },
   "outputs": [],
   "source": [
    "type(r7)"
   ]
  },
  {
   "cell_type": "code",
   "execution_count": null,
   "metadata": {
    "id": "lJ686JyrM5SR"
   },
   "outputs": [],
   "source": [
    "def is_prime(n: int) -> bool:\n",
    "    if n < 2:\n",
    "        return False\n",
    "    if n in {2, 3, 5, 7}:\n",
    "        return True\n",
    "    if n % 2 == 0:\n",
    "        return False\n",
    "    r = 3\n",
    "    while r * r <= n:\n",
    "        if n % r == 0:\n",
    "            return False\n",
    "        r += 2\n",
    "    return True"
   ]
  },
  {
   "cell_type": "code",
   "execution_count": null,
   "metadata": {
    "id": "HG8oZhQXS_95"
   },
   "outputs": [],
   "source": [
    "def euler010(limit: int) -> int:\n",
    "    def is_prime(k: int) -> bool:\n",
    "        factor = 3\n",
    "        while factor * factor <= k:\n",
    "            if k % factor == 0:\n",
    "                return False\n",
    "            factor += 2\n",
    "        return True\n",
    "\n",
    "    return 2 + sum([p for p in range(3, limit, 2) if is_prime(p)])"
   ]
  },
  {
   "cell_type": "code",
   "execution_count": null,
   "metadata": {
    "id": "P3X8Nh4vVnBg"
   },
   "outputs": [],
   "source": [
    "print(euler010(2000000))"
   ]
  },
  {
   "cell_type": "code",
   "execution_count": null,
   "metadata": {
    "id": "8G9gEgbeV4Ru"
   },
   "outputs": [],
   "source": [
    "%time print(euler010(2000000))"
   ]
  },
  {
   "cell_type": "code",
   "execution_count": null,
   "metadata": {
    "id": "ERSbXF99WZ2K"
   },
   "outputs": [],
   "source": [
    "N = 600851475143"
   ]
  },
  {
   "cell_type": "code",
   "execution_count": null,
   "metadata": {
    "id": "H8xCR_NdZXeZ"
   },
   "outputs": [],
   "source": [
    "def factorize(n: int) -> list[int]:\n",
    "    factors = []\n",
    "    while n % 2 == 0:\n",
    "        factors.append(2)\n",
    "        n //= 2\n",
    "    r = 3\n",
    "    while r * r <= n:\n",
    "        while n % r == 0:\n",
    "            factors.append(r)\n",
    "            n //= r\n",
    "        r += 2\n",
    "    factors.append(n)\n",
    "    return factors"
   ]
  },
  {
   "cell_type": "code",
   "execution_count": null,
   "metadata": {
    "id": "o-HbYSdDZ0-n"
   },
   "outputs": [],
   "source": [
    "factorize(13195)"
   ]
  },
  {
   "cell_type": "code",
   "execution_count": null,
   "metadata": {
    "id": "csnFrJZQZ6Xf"
   },
   "outputs": [],
   "source": [
    "%time factorize(N)"
   ]
  },
  {
   "cell_type": "code",
   "execution_count": null,
   "metadata": {
    "id": "WMIuVKStaGJv"
   },
   "outputs": [],
   "source": [
    "def euler003(n: int) -> int:\n",
    "    return factorize(n)[-1]"
   ]
  },
  {
   "cell_type": "code",
   "execution_count": null,
   "metadata": {
    "id": "KiWrb1ctafDe"
   },
   "outputs": [],
   "source": [
    "%time euler003(N)"
   ]
  },
  {
   "cell_type": "code",
   "execution_count": null,
   "metadata": {
    "id": "Ju0N1Nvsc3A7"
   },
   "outputs": [],
   "source": [
    "euler8 = \"\"\"\n",
    "73167176531330624919225119674426574742355349194934<br>\n",
    "96983520312774506326239578318016984801869478851843<br>\n",
    "85861560789112949495459501737958331952853208805511<br>\n",
    "12540698747158523863050715693290963295227443043557<br>\n",
    "66896648950445244523161731856403098711121722383113<br>\n",
    "62229893423380308135336276614282806444486645238749<br>\n",
    "30358907296290491560440772390713810515859307960866<br>\n",
    "70172427121883998797908792274921901699720888093776<br>\n",
    "65727333001053367881220235421809751254540594752243<br>\n",
    "52584907711670556013604839586446706324415722155397<br>\n",
    "53697817977846174064955149290862569321978468622482<br>\n",
    "83972241375657056057490261407972968652414535100474<br>\n",
    "82166370484403199890008895243450658541227588666881<br>\n",
    "16427171479924442928230863465674813919123162824586<br>\n",
    "17866458359124566529476545682848912883142607690042<br>\n",
    "24219022671055626321111109370544217506941658960408<br>\n",
    "07198403850962455444362981230987879927244284909188<br>\n",
    "84580156166097919133875499200524063689912560717606<br>\n",
    "05886116467109405077541002256983155200055935729725<br>\n",
    "71636269561882670428252483600823257530420752963450<br></p>\"\"\""
   ]
  },
  {
   "cell_type": "code",
   "execution_count": null,
   "metadata": {
    "id": "1BFeN3B8c7WN"
   },
   "outputs": [],
   "source": [
    "def product(s: list[str]) -> int:\n",
    "    if '0' in s:\n",
    "        return 0\n",
    "    product = 1\n",
    "    for digit in s:\n",
    "        product *= int(digit)\n",
    "    return product"
   ]
  },
  {
   "cell_type": "code",
   "execution_count": null,
   "metadata": {
    "id": "dXtZOohjdOCC"
   },
   "outputs": [],
   "source": [
    "def euler008(number: str, size: int) -> tuple[int, int]:\n",
    "    cleaned_number = [d for d in number if '0' <= d <= '9']\n",
    "    start, window_len = 0, size\n",
    "    FULL = len(cleaned_number)\n",
    "    max_product, location = 0, -1\n",
    "    while start + window_len <= FULL:\n",
    "        window = cleaned_number[start:start+window_len]\n",
    "        p = product(window)\n",
    "        if p > max_product:\n",
    "            location = start\n",
    "            max_product = p\n",
    "        start += 1\n",
    "    return location, max_product"
   ]
  },
  {
   "cell_type": "code",
   "execution_count": null,
   "metadata": {
    "id": "r5pf007Eyd25"
   },
   "outputs": [],
   "source": [
    "euler008(\"123456\", 3)"
   ]
  },
  {
   "cell_type": "markdown",
   "metadata": {
    "id": "AOznJaWsfk0R"
   },
   "source": [
    "# Kaprekar\n"
   ]
  },
  {
   "cell_type": "code",
   "execution_count": null,
   "metadata": {
    "id": "nSJg-I9szXbD"
   },
   "outputs": [],
   "source": [
    "def num_to_digits(n: int) -> list[int]:\n",
    "    return [int(ch) for ch in str(n)]"
   ]
  },
  {
   "cell_type": "code",
   "execution_count": null,
   "metadata": {
    "id": "YZ4AsouR0Bd0"
   },
   "outputs": [],
   "source": [
    "def digits_to_num(ds: list[int]) -> int:\n",
    "    if len(ds) == 1:\n",
    "        return ds[-1]\n",
    "    return 10 * digits_to_num(ds[:-1]) + ds[-1]"
   ]
  },
  {
   "cell_type": "code",
   "execution_count": null,
   "metadata": {
    "id": "wafkcb0n02BY"
   },
   "outputs": [],
   "source": [
    "def largest(n: int) -> int:\n",
    "    return digits_to_num(sorted(num_to_digits(n), reverse=True))"
   ]
  },
  {
   "cell_type": "code",
   "execution_count": null,
   "metadata": {
    "id": "kt2Roopb1CRH"
   },
   "outputs": [],
   "source": [
    "def smallest(n: int) -> int:\n",
    "    return digits_to_num(sorted(num_to_digits(n)))"
   ]
  },
  {
   "cell_type": "code",
   "execution_count": null,
   "metadata": {
    "id": "Ddp7pDqo1H9m"
   },
   "outputs": [],
   "source": [
    "def next_kaprekar(n: int) -> int:\n",
    "    return largest(n) - smallest(n)"
   ]
  },
  {
   "cell_type": "code",
   "execution_count": null,
   "metadata": {
    "id": "IHhz32QG1Oag"
   },
   "outputs": [],
   "source": [
    "def kap_sequence(n: int) -> list[int]:\n",
    "    seq = []\n",
    "    while n not in seq:\n",
    "        seq.append(n)\n",
    "        n = next_kaprekar(n)\n",
    "    return seq"
   ]
  },
  {
   "cell_type": "code",
   "execution_count": null,
   "metadata": {
    "id": "Xk_gDoCt1cld"
   },
   "outputs": [],
   "source": [
    "kap_sequence(1729)"
   ]
  },
  {
   "cell_type": "markdown",
   "metadata": {
    "id": "pAS-s-Z23c_z"
   },
   "source": [
    "# FizzBuzz"
   ]
  },
  {
   "cell_type": "code",
   "execution_count": null,
   "metadata": {
    "id": "eYMLYWHA3ySZ"
   },
   "outputs": [],
   "source": [
    "def make_fizzbuzz(upto: int, fizzbuzz) -> list[str]:\n",
    "    return [fizzbuzz(i) for i in range(1, upto)]"
   ]
  },
  {
   "cell_type": "code",
   "execution_count": null,
   "metadata": {
    "id": "o0xTUwDK4rhg"
   },
   "outputs": [],
   "source": [
    "def fizzbuzz_1(n: int) -> str:\n",
    "    if n % 15 == 0:\n",
    "        return 'FizzBuzz'\n",
    "    elif n % 5 == 0:\n",
    "        return 'Buzz'\n",
    "    elif n % 3 == 0:\n",
    "        return 'Fizz'\n",
    "    else:\n",
    "        return str(n)"
   ]
  },
  {
   "cell_type": "code",
   "execution_count": null,
   "metadata": {
    "id": "ZtXmFsQw5OX-"
   },
   "outputs": [],
   "source": [
    "print(make_fizzbuzz(20, fizzbuzz_1))"
   ]
  },
  {
   "cell_type": "code",
   "execution_count": null,
   "metadata": {
    "id": "B2IRgY3x5Q1g"
   },
   "outputs": [],
   "source": [
    "def fizzbuzz_2(n: int) -> str:\n",
    "    fb = ''\n",
    "    if n % 3 == 0:\n",
    "        fb += 'Fizz'\n",
    "    if n % 5 == 0:\n",
    "        fb += 'Buzz'\n",
    "    return fb or str(n)"
   ]
  },
  {
   "cell_type": "code",
   "execution_count": null,
   "metadata": {
    "id": "3yJ4ePzW6IEp"
   },
   "outputs": [],
   "source": [
    "print(make_fizzbuzz(20, fizzbuzz_2))"
   ]
  },
  {
   "cell_type": "markdown",
   "metadata": {
    "id": "uxc2fWZz_EgJ"
   },
   "source": []
  },
  {
   "cell_type": "markdown",
   "metadata": {
    "id": "hZUyFjo8_EcH"
   },
   "source": []
  },
  {
   "cell_type": "code",
   "execution_count": null,
   "metadata": {
    "id": "0mhYHZ8W6V4H"
   },
   "outputs": [],
   "source": [
    "'a' or str(15)"
   ]
  },
  {
   "cell_type": "code",
   "execution_count": null,
   "metadata": {
    "id": "c5UdFuaD70Gf"
   },
   "outputs": [],
   "source": [
    "'' or 4 + 7"
   ]
  },
  {
   "cell_type": "code",
   "execution_count": null,
   "metadata": {
    "id": "kRFLFC5T73AM"
   },
   "outputs": [],
   "source": [
    "def fizzbuzz_3(n: int) -> str:\n",
    "    fbs = ['Fizzbuzz', '', '', 'Fizz', '', 'Buzz', 'Fizz', '', '', 'Fizz', 'Buzz', '', 'Fizz', '', '']\n",
    "    return fbs[n % 15] or str(n)"
   ]
  },
  {
   "cell_type": "code",
   "execution_count": null,
   "metadata": {
    "id": "5ZDc_NM8_p2z"
   },
   "outputs": [],
   "source": [
    "print(make_fizzbuzz(31, fizzbuzz_3))"
   ]
  },
  {
   "cell_type": "markdown",
   "metadata": {
    "id": "J5du43x4A03n"
   },
   "source": [
    "# $x~~mod~~3 \\equiv (x~~mod~~15)~~mod~~3$"
   ]
  },
  {
   "cell_type": "code",
   "execution_count": null,
   "metadata": {
    "id": "_2S8fAfaBNVb"
   },
   "outputs": [],
   "source": [
    "def fizzbuzz_4(n: int) -> str:\n",
    "    fbs = {(True, True):   \"FizzBuzz\",\n",
    "           (True, False):  \"Buzz\",\n",
    "           (False, True):  \"Fizz\",\n",
    "           (False, False): str(n)}\n",
    "    return fbs[(n % 5 == 0, n % 3 == 0)]"
   ]
  },
  {
   "cell_type": "code",
   "execution_count": null,
   "metadata": {
    "id": "PHpOH2uVC3N4"
   },
   "outputs": [],
   "source": [
    "print(make_fizzbuzz(31, fizzbuzz_4))"
   ]
  },
  {
   "cell_type": "code",
   "execution_count": null,
   "metadata": {
    "id": "F5zTMEKiDzKg"
   },
   "outputs": [],
   "source": [
    "def pick(n: int) -> int:\n",
    "    return 2 * int(n % 5 == 0) + int(n % 3 == 0)\n",
    "\n",
    "def fizzbuzz_5(n: int) -> str:\n",
    "    fbs = [str(n), \"Fizz\", \"Buzz\", \"FizzBuzz\"]\n",
    "    return fbs[pick(n)]"
   ]
  },
  {
   "cell_type": "code",
   "execution_count": null,
   "metadata": {
    "id": "BFX9gGQHENmw"
   },
   "outputs": [],
   "source": [
    "print(make_fizzbuzz(31, fizzbuzz_5))"
   ]
  },
  {
   "cell_type": "code",
   "execution_count": null,
   "metadata": {
    "id": "lQyrYne2EleJ"
   },
   "outputs": [],
   "source": [
    "def gen_fizzbuzz(upto: int) -> list[str]:\n",
    "    fbs = [str(n) for n in range(upto)]\n",
    "    fbs[3::3] = ['Fizz'] * len(fbs[3::3])\n",
    "    fbs[5::5] = ['Buzz'] * len(fbs[5::5])\n",
    "    fbs[15::15] = ['FizzBuzz'] * len(fbs[15::15])\n",
    "    return fbs[1:]"
   ]
  },
  {
   "cell_type": "code",
   "execution_count": null,
   "metadata": {
    "id": "cARzFu49Hx3J"
   },
   "outputs": [],
   "source": [
    "print(gen_fizzbuzz(31))"
   ]
  },
  {
   "cell_type": "code",
   "execution_count": null,
   "metadata": {
    "id": "4qTlqzhcHz3H"
   },
   "outputs": [],
   "source": [
    "\"Hello\" * 4"
   ]
  },
  {
   "cell_type": "code",
   "execution_count": null,
   "metadata": {
    "id": "gN1NELouJP6s"
   },
   "outputs": [],
   "source": [
    "[3] * 7"
   ]
  },
  {
   "cell_type": "code",
   "execution_count": null,
   "metadata": {
    "id": "WL7s8w65JRka"
   },
   "outputs": [],
   "source": [
    "print([str(n) for n in range(31)])"
   ]
  },
  {
   "cell_type": "markdown",
   "metadata": {
    "id": "BX3aE-LWKEu_"
   },
   "source": [
    "# ADPVX\n",
    "\n",
    "#A string is termed ascending and denoted by \"A\" if the characters in that string are in *strict* ascending order. Example: \"best\"\n",
    "\n",
    "# A string is termed descending and denoted by \"D\" if the charatcters in the string are in *strict* descending order. Example: \"yoke\"\n",
    "\n",
    "# If the first part of a string is ascending and the remaining is descending, it is termed a peak and denoted by \"P\". The number of characters in the two parts need not be the same. But together the two parts must contain all the chanracters. Example \"13789640\"\n",
    "\n",
    "# Similarly we use the term valley, denoted by \"V\" for a string whose characters descend and then ascend. \"yogam\"\n",
    "\n",
    "# We denote the strings that do not come under these as \"X\".\n",
    "\n",
    "## Write a set of fuctions to classify a given string"
   ]
  },
  {
   "cell_type": "code",
   "execution_count": null,
   "metadata": {
    "id": "k6MzEYZHO-hE"
   },
   "outputs": [],
   "source": [
    "# def is_ascending(s: str) -> bool:\n",
    "#    return all(a < b for a, b in zip(s, s[1:]))"
   ]
  },
  {
   "cell_type": "code",
   "execution_count": null,
   "metadata": {
    "id": "k47ybDusWj92"
   },
   "outputs": [],
   "source": [
    "UP, DN, EQ = 'A', 'D', 'E'"
   ]
  },
  {
   "cell_type": "code",
   "execution_count": null,
   "metadata": {
    "id": "tgjVF67IV7fK"
   },
   "outputs": [],
   "source": [
    "def relation(a: str, b: str) -> str:\n",
    "    if a < b:\n",
    "        return UP\n",
    "    elif a == b:\n",
    "        return EQ\n",
    "    else:\n",
    "        return DN"
   ]
  },
  {
   "cell_type": "code",
   "execution_count": null,
   "metadata": {
    "id": "H2TllufxW2PJ"
   },
   "outputs": [],
   "source": [
    "def transform(s: str) -> str:\n",
    "    return ''.join([relation(x, y) for x, y in zip(s, s[1:])])"
   ]
  },
  {
   "cell_type": "code",
   "execution_count": null,
   "metadata": {
    "id": "U0nNmIbgXH67"
   },
   "outputs": [],
   "source": [
    "def squeeze(s: str) -> str:\n",
    "    if len(s) == 1:\n",
    "        return s\n",
    "    elif s[0] == s[1]:\n",
    "        return squeeze(s[1:])\n",
    "    else:\n",
    "        return s[0] + squeeze(s[1:])"
   ]
  },
  {
   "cell_type": "code",
   "execution_count": null,
   "metadata": {
    "id": "CehtV1ETXxwG"
   },
   "outputs": [],
   "source": [
    "def classify(s: str) -> str:\n",
    "    sig = squeeze(transform(s))\n",
    "    if sig == UP:\n",
    "        return 'A'\n",
    "    elif sig == DN:\n",
    "        return 'D'\n",
    "    elif sig ==  UP + DN:\n",
    "        return 'P'\n",
    "    elif sig == DN + UP:\n",
    "        return 'V'\n",
    "    else:\n",
    "        return 'X'"
   ]
  },
  {
   "cell_type": "code",
   "execution_count": null,
   "metadata": {
    "id": "ES45jWf0YTAk"
   },
   "outputs": [],
   "source": [
    "for s in [\"1234\", \"yogam\", \"yoke\", \"zone\", \"hello\", \"12378530\"]:\n",
    "    print(s, transform(s))"
   ]
  },
  {
   "cell_type": "code",
   "execution_count": null,
   "metadata": {
    "id": "wpDt_fwdZHvW"
   },
   "outputs": [],
   "source": []
  }
 ],
 "metadata": {
  "colab": {
   "private_outputs": true,
   "provenance": []
  },
  "kernelspec": {
   "display_name": "Python 3 (ipykernel)",
   "language": "python",
   "name": "python3"
  },
  "language_info": {
   "codemirror_mode": {
    "name": "ipython",
    "version": 3
   },
   "file_extension": ".py",
   "mimetype": "text/x-python",
   "name": "python",
   "nbconvert_exporter": "python",
   "pygments_lexer": "ipython3",
   "version": "3.10.0"
  }
 },
 "nbformat": 4,
 "nbformat_minor": 4
}
