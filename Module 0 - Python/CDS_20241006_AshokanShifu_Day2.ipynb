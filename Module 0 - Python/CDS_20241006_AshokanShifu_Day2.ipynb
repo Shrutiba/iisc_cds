{
 "cells": [
  {
   "cell_type": "markdown",
   "metadata": {
    "id": "rpId58y53n2R"
   },
   "source": [
    "# Todays plan\n",
    "## Will flex!\n",
    "# More Euler\n",
    "# Anagrams\n",
    "# Date strings\n",
    "# Roman $\\Leftrightarrow$ Arabic\n",
    "# Figures to words"
   ]
  },
  {
   "cell_type": "markdown",
   "metadata": {
    "id": "-XrU3aZp8ngR"
   },
   "source": [
    "# Amicable pairs"
   ]
  },
  {
   "cell_type": "code",
   "execution_count": null,
   "metadata": {
    "id": "iqdg7-xt4TmI"
   },
   "outputs": [],
   "source": [
    "# Find all factors < sqrt(n)\n",
    "# Compute n // factor for each\n",
    "# Add them together\n",
    "\n",
    "def sum_of_factors(n: int) -> int:\n",
    "    aliquot = 1\n",
    "    r = 2\n",
    "    while r * r < n:\n",
    "        if n % r == 0:\n",
    "            aliquot += r\n",
    "            aliquot += (n // r)\n",
    "        r += 1\n",
    "    if r * r == n:\n",
    "        aliquot += r\n",
    "    return aliquot"
   ]
  },
  {
   "cell_type": "code",
   "execution_count": null,
   "metadata": {
    "id": "Uot-eZGv9KbA"
   },
   "outputs": [],
   "source": [
    "# Avoid double counting amicable pairs\n",
    "# (220, 284) is an amicable pair and so is (284, 220)\n",
    "# By checking for pairs in increasing order (line 8)\n",
    "# We avoid it\n",
    "def euler021(limit: int) -> int:\n",
    "    amicable_sum = 0\n",
    "    for n in range(1, limit):\n",
    "        aliq = sum_of_factors(n)\n",
    "        if n < aliq:\n",
    "            if n == sum_of_factors(aliq)\n",
    "                amicable_sum += (aliq + n)\n",
    "    return amicable_sum"
   ]
  },
  {
   "cell_type": "code",
   "execution_count": null,
   "metadata": {
    "id": "_ug-qhNdEgln"
   },
   "outputs": [],
   "source": [
    "n = 220"
   ]
  },
  {
   "cell_type": "code",
   "execution_count": null,
   "metadata": {
    "id": "fMTNeR5JEjoP"
   },
   "outputs": [],
   "source": [
    "aliq = sum_of_factors(n)"
   ]
  },
  {
   "cell_type": "code",
   "execution_count": null,
   "metadata": {
    "id": "0WGgh4eXEnnz"
   },
   "outputs": [],
   "source": [
    "print(aliq)"
   ]
  },
  {
   "cell_type": "code",
   "execution_count": null,
   "metadata": {
    "id": "b85B3mqGEo3D"
   },
   "outputs": [],
   "source": [
    "a = sum_of_factors(aliq)"
   ]
  },
  {
   "cell_type": "code",
   "execution_count": null,
   "metadata": {
    "id": "TcnBFYYaEsD3"
   },
   "outputs": [],
   "source": [
    "print(a)"
   ]
  },
  {
   "cell_type": "code",
   "execution_count": null,
   "metadata": {
    "id": "KAhtlPnUEtPn"
   },
   "outputs": [],
   "source": [
    "a == n"
   ]
  },
  {
   "cell_type": "code",
   "execution_count": null,
   "metadata": {
    "id": "_l6xXQpuEuJf"
   },
   "outputs": [],
   "source": [
    "sum_of_factors(5)"
   ]
  },
  {
   "cell_type": "markdown",
   "metadata": {
    "id": "vUxlH4ggLQuz"
   },
   "source": [
    "# Euler 5\n",
    " 2520 is the smallest number that can be divided by each of the numbers from 1 to 10 without any remainder.\n",
    "\n",
    "What is the smallest positive number that is evenly divisible by all of the numbers from 1\n",
    "to 20?"
   ]
  },
  {
   "cell_type": "code",
   "execution_count": null,
   "metadata": {
    "id": "noSjyXVgGYLa"
   },
   "outputs": [],
   "source": [
    "import math"
   ]
  },
  {
   "cell_type": "code",
   "execution_count": null,
   "metadata": {
    "id": "66oXY2wEI-uT"
   },
   "outputs": [],
   "source": [
    "math.lcm?"
   ]
  },
  {
   "cell_type": "code",
   "execution_count": null,
   "metadata": {
    "id": "JmjrIBMNJI0e"
   },
   "outputs": [],
   "source": [
    "math.lcm(26, 65)"
   ]
  },
  {
   "cell_type": "code",
   "execution_count": null,
   "metadata": {
    "id": "3NQSWz5PJOOU"
   },
   "outputs": [],
   "source": [
    "nums = list(range(1, 21))"
   ]
  },
  {
   "cell_type": "code",
   "execution_count": null,
   "metadata": {
    "id": "cstQkdWXJi6z"
   },
   "outputs": [],
   "source": [
    "math.lcm(nums)"
   ]
  },
  {
   "cell_type": "code",
   "execution_count": null,
   "metadata": {
    "id": "jNcQYD6PJlOG"
   },
   "outputs": [],
   "source": [
    "math.lcm(*nums)"
   ]
  },
  {
   "cell_type": "code",
   "execution_count": null,
   "metadata": {
    "id": "Ea0FVUkXJtxN"
   },
   "outputs": [],
   "source": [
    "*nums"
   ]
  },
  {
   "cell_type": "code",
   "execution_count": null,
   "metadata": {
    "id": "0OdQ0h_aKLQx"
   },
   "outputs": [],
   "source": [
    "print(nums)"
   ]
  },
  {
   "cell_type": "code",
   "execution_count": null,
   "metadata": {
    "id": "XUMPsVAZKZrO"
   },
   "outputs": [],
   "source": [
    "print(*nums)"
   ]
  },
  {
   "cell_type": "code",
   "execution_count": null,
   "metadata": {
    "id": "3HNFhlMQKbgB"
   },
   "outputs": [],
   "source": [
    "math.lcm(12, 20)"
   ]
  },
  {
   "cell_type": "code",
   "execution_count": null,
   "metadata": {
    "id": "nLSY4r-cK2hS"
   },
   "outputs": [],
   "source": [
    "import functools"
   ]
  },
  {
   "cell_type": "code",
   "execution_count": null,
   "metadata": {
    "id": "WF-61IdaLGdB"
   },
   "outputs": [],
   "source": [
    "functools.reduce?"
   ]
  },
  {
   "cell_type": "code",
   "execution_count": null,
   "metadata": {
    "id": "5Gvk2PVdLJTR"
   },
   "outputs": [],
   "source": [
    "functools.reduce(math.lcm, range(1, 21))"
   ]
  },
  {
   "cell_type": "markdown",
   "metadata": {
    "id": "XBHETV1cLv1y"
   },
   "source": []
  },
  {
   "cell_type": "code",
   "execution_count": null,
   "metadata": {
    "id": "4epdXenpTyBa"
   },
   "outputs": [],
   "source": [
    "def fold(f, a):\n",
    "    '''This is a pseudocode-like implementation\n",
    "    of reduce. It does not have all the features of reduce'''\n",
    "    if len(a) == 1:\n",
    "        return a[0]\n",
    "    elif len(a) == 2:\n",
    "        return f(a[0, a[1]])\n",
    "    else:\n",
    "        a = [f(a[0], a[1])] + a[2:]\n",
    "        return fold(f, a)"
   ]
  },
  {
   "cell_type": "code",
   "execution_count": null,
   "metadata": {
    "id": "tIQ6Cd8iMycf"
   },
   "outputs": [],
   "source": [
    "# reduce(f, S) -> reduce(f, [f(S[0], S[1]), S[2] ...])\n",
    "\n",
    "# Assume we do not have reduce\n",
    "# Assume we have a function lcm2() that finds the lcm of two numbers\n",
    "# We can custome build an lcm that takes any number of arguments\n",
    "# ==> reduce, like below\n",
    "\n",
    "def lcm(nums: list[int]) -> int:\n",
    "    if len(nums) == 1:\n",
    "        return nums[0]\n",
    "    elif len(nums) == 2:\n",
    "        return lcm2(nums[0], nums[1])\n",
    "    else:\n",
    "        return lcm([lcm2(nums[0], nums[1])] + nums[2:])"
   ]
  },
  {
   "cell_type": "code",
   "execution_count": null,
   "metadata": {
    "id": "IlIBl32VQzln"
   },
   "outputs": [],
   "source": [
    "fold?"
   ]
  },
  {
   "cell_type": "code",
   "execution_count": null,
   "metadata": {
    "id": "evD47U5mU2JV"
   },
   "outputs": [],
   "source": [
    "fold??"
   ]
  },
  {
   "cell_type": "markdown",
   "metadata": {
    "id": "2l0SXYJFNJTx"
   },
   "source": [
    "# String manipulation\n",
    "\n",
    "Two words are called anagrams of each other if they are both consisting of the same letters:\n",
    "\n",
    "steps, pests\n",
    "spare, reaps\n",
    "\n",
    "There can be many words which are anagrams of each other\n",
    "\n",
    "spare, reaps, pears, spear...\n",
    "\n"
   ]
  },
  {
   "cell_type": "code",
   "execution_count": null,
   "metadata": {
    "id": "7RV_KsVMU6Ll"
   },
   "outputs": [],
   "source": [
    "def is_anagram_old(a: str, b: str) -> bool:\n",
    "    '''Checks if the two strings given\n",
    "    are anagrams of each other. Case sensitive'''\n",
    "    return sorted(a) == sorted(b)"
   ]
  },
  {
   "cell_type": "code",
   "execution_count": null,
   "metadata": {
    "id": "Z3dlM7ASbnRF"
   },
   "outputs": [],
   "source": [
    "def is_anagram(a: str, b: str, case_sensitive=True) -> bool:\n",
    "    '''Checks if the two strings given\n",
    "    are anagrams of each other.'''\n",
    "    if case_sensitive:\n",
    "        return sorted(a) == sorted(b)\n",
    "    else:\n",
    "        return sorted(a.lower()) == sorted(b.lower())"
   ]
  },
  {
   "cell_type": "code",
   "execution_count": null,
   "metadata": {
    "id": "btObBjkDcgkV"
   },
   "outputs": [],
   "source": [
    "print(is_anagram(\"opts\", \"spot\"))\n",
    "print(is_anagram(\"opts\", \"Spot\"))\n",
    "print(is_anagram(\"opts\", \"Spot\", case_sensitive=False))\n",
    "print(is_anagram(\"opts\", \"spot\", case_sensitive=True))"
   ]
  },
  {
   "cell_type": "markdown",
   "metadata": {
    "id": "nmfdrOu0crjN"
   },
   "source": [
    "# sort vs sorted"
   ]
  },
  {
   "cell_type": "code",
   "execution_count": null,
   "metadata": {
    "id": "SX1MCOh8eT1Y"
   },
   "outputs": [],
   "source": [
    "a = \"world\"\n",
    "b = \"prime\""
   ]
  },
  {
   "cell_type": "code",
   "execution_count": null,
   "metadata": {
    "id": "ZjuFiJ6CebwY"
   },
   "outputs": [],
   "source": [
    "print(sorted(a))"
   ]
  },
  {
   "cell_type": "code",
   "execution_count": null,
   "metadata": {
    "id": "BkXxfpsWeedZ"
   },
   "outputs": [],
   "source": [
    "print(a)"
   ]
  },
  {
   "cell_type": "code",
   "execution_count": null,
   "metadata": {
    "id": "RzLdzX7Seg8G"
   },
   "outputs": [],
   "source": [
    "a.sort()"
   ]
  },
  {
   "cell_type": "code",
   "execution_count": null,
   "metadata": {
    "id": "JzSTHab-elvG"
   },
   "outputs": [],
   "source": [
    "c = ['w', 'o', 'r', 'l', 'd']"
   ]
  },
  {
   "cell_type": "code",
   "execution_count": null,
   "metadata": {
    "id": "EM_7_LoIetF2"
   },
   "outputs": [],
   "source": [
    "c.sort()"
   ]
  },
  {
   "cell_type": "code",
   "execution_count": null,
   "metadata": {
    "id": "tFvMAMTvevZN"
   },
   "outputs": [],
   "source": [
    "c"
   ]
  },
  {
   "cell_type": "code",
   "execution_count": null,
   "metadata": {
    "id": "oVK6gEWtewHi"
   },
   "outputs": [],
   "source": [
    "list(a).sort()"
   ]
  },
  {
   "cell_type": "code",
   "execution_count": null,
   "metadata": {
    "id": "Em7AKcQUfOQm"
   },
   "outputs": [],
   "source": [
    "a"
   ]
  },
  {
   "cell_type": "code",
   "execution_count": null,
   "metadata": {
    "id": "TQ5Trm2TfQf-"
   },
   "outputs": [],
   "source": [
    "d = list(a).sort()"
   ]
  },
  {
   "cell_type": "code",
   "execution_count": null,
   "metadata": {
    "id": "YN4xsHoGfZEU"
   },
   "outputs": [],
   "source": [
    "d"
   ]
  },
  {
   "cell_type": "code",
   "execution_count": null,
   "metadata": {
    "id": "8MThV97efZs-"
   },
   "outputs": [],
   "source": [
    "x = x.sort() # effectively empties x"
   ]
  },
  {
   "cell_type": "code",
   "execution_count": null,
   "metadata": {
    "id": "5PGlYpnwfo2o"
   },
   "outputs": [],
   "source": [
    "# eXISTING\n",
    "# def is_vowel(s: str) -> bool:\n",
    "#    return s in 'aeiouAEIOU'"
   ]
  },
  {
   "cell_type": "code",
   "execution_count": null,
   "metadata": {
    "id": "TGm50ew0f8Wb"
   },
   "outputs": [],
   "source": [
    "def is_vowel(s: str, include_y=False) -> bool:\n",
    "    if include_y:\n",
    "        return s in 'aeiouyAEIOUY'\n",
    "    else:\n",
    "        return s in 'aeiouAEIOU'"
   ]
  },
  {
   "cell_type": "code",
   "execution_count": null,
   "metadata": {
    "id": "M3pps7m_iqlw"
   },
   "outputs": [],
   "source": [
    "def isvowel(s: str, extras=\"\") -> bool:\n",
    "    return s in 'aeiouAEIOU' + extras"
   ]
  },
  {
   "cell_type": "code",
   "execution_count": null,
   "metadata": {
    "id": "_F2dAKWhgZyz"
   },
   "outputs": [],
   "source": [
    "for i in range(10):\n",
    "    print(i, i * i)"
   ]
  },
  {
   "cell_type": "code",
   "execution_count": null,
   "metadata": {
    "id": "zj7X7sYRhdfS"
   },
   "outputs": [],
   "source": [
    "for i in range(10):\n",
    "    print(i, i * i, sep=\";\")"
   ]
  },
  {
   "cell_type": "code",
   "execution_count": null,
   "metadata": {
    "id": "o7TbDWvNh-UB"
   },
   "outputs": [],
   "source": [
    "for i in range(10):\n",
    "    print(i, i * i, end=\"::\")"
   ]
  },
  {
   "cell_type": "code",
   "execution_count": null,
   "metadata": {
    "id": "9v2TFEduiGtD"
   },
   "outputs": [],
   "source": [
    "for i in range(10):\n",
    "    print(i, i * i, sep=\";\", end=\" :: \")"
   ]
  },
  {
   "cell_type": "code",
   "execution_count": null,
   "metadata": {
    "id": "GmitQtUyiPzl"
   },
   "outputs": [],
   "source": [
    "for i in range(10):\n",
    "    print(i, i * i, end=\" :: \", sep=\";\")"
   ]
  },
  {
   "cell_type": "markdown",
   "metadata": {
    "id": "M_M4n4WkiW4N"
   },
   "source": [
    "# Date String\n",
    "## given a string of the form dd SEP month SEP yyyy\n",
    "## return the seven digit integer yyyyddd\n",
    "\n",
    "## SEP can be comma or space or comma plus space\n",
    "## the two SEPs can be dfferent\n",
    "\n",
    "\"12 Jan 1999\" $\\Rightarrow$ 1999012\n",
    "\n",
    "\"14 february,2015\" $\\Rightarrow$ 2015045\n",
    "\n",
    "\"2,Nov, 2020\" $\\Rightarrow$ 2020307\n",
    "\n",
    "## ddd is often called the Julian date"
   ]
  },
  {
   "cell_type": "code",
   "execution_count": null,
   "metadata": {
    "id": "FzEaEPRMkhTG"
   },
   "outputs": [],
   "source": [
    "def is_leap(y: int) -> bool:\n",
    "    if y % 100 == 0:\n",
    "        return y % 400 == 0\n",
    "    else:\n",
    "        return y % 4 == 0\n",
    "\n",
    "def clean(s: str) -> str:\n",
    "    COMMA, SPACE = ',', ' '\n",
    "    return s.replace(COMMA, SPACE)\n",
    "\n",
    "def parse(s: str) -> tuple[int, str, int]:\n",
    "    d, mon, y = clean(s).split()\n",
    "    return int(d), mon.lower()[:3], int(y)"
   ]
  },
  {
   "cell_type": "code",
   "execution_count": null,
   "metadata": {
    "id": "Cvsb0nWszn9I"
   },
   "outputs": [],
   "source": [
    "# 31, 28, 31, 30, 31, 30, 31, 31, 30, 31, 30, 31\n",
    "# 0,  31, 59, 90,120,151,181,212,243,273,304,334\n",
    "\n",
    "def julian(s: str) -> int:\n",
    "    non_leap = {'jan': 0, 'feb': 31, 'mar': 59, 'apr': 90, 'may': 120, 'jun': 151,\n",
    "                'jul': 181, 'aug': 212, 'sep': 243, 'oct': 273, 'nov': 304, 'dec': 334}\n",
    "    leap     = {'jan': 0, 'feb': 31, 'mar': 60, 'apr': 91, 'may': 121, 'jun': 152,\n",
    "                'jul': 182, 'aug': 213, 'sep': 244, 'oct': 274, 'nov': 305, 'dec': 335}\n",
    "    dd, mon, yyyy = parse(s)\n",
    "    days_upto = leap if is_leap(yyyy) else non_leap\n",
    "    return yyyy * 1000 + days_upto[mon] + dd"
   ]
  },
  {
   "cell_type": "code",
   "execution_count": null,
   "metadata": {
    "id": "oqe3BKjR7htL"
   },
   "outputs": [],
   "source": [
    "for data in [\"12, Jan 1999\", \"14 february,2014\", \"2,nov 2020\"]:\n",
    "    print(f'{data:20} => {julian(data)}')"
   ]
  },
  {
   "cell_type": "code",
   "execution_count": null,
   "metadata": {
    "id": "_d1eThgX7xXs"
   },
   "outputs": [],
   "source": [
    "def julian2(s: str) -> int:\n",
    "    days_upto = {'jan': 0, 'feb': 31, 'mar': 59, 'apr': 90, 'may': 120, 'jun': 151,\n",
    "                'jul': 181, 'aug': 212, 'sep': 243, 'oct': 273, 'nov': 304, 'dec': 334}\n",
    "    dd, mon, yyyy = parse(s)\n",
    "    leap_adjustment = 1 if is_leap(yyyy) and mon not in ['jan', 'feb'] else 0\n",
    "    return yyyy * 1000 + days_upto[mon] + dd + leap_adjustment"
   ]
  },
  {
   "cell_type": "code",
   "execution_count": null,
   "metadata": {
    "id": "6hR0IeOyIKhe"
   },
   "outputs": [],
   "source": [
    "def cleanup(s: str) -> str:\n",
    "    SPACE = ' '\n",
    "    def only_alnum(ch: str) -> str:\n",
    "        if ch.isalnum():\n",
    "            return ch\n",
    "        else:\n",
    "            return SPACE\n",
    "    return ''.join([only_alnum(ch) for ch in s])"
   ]
  },
  {
   "cell_type": "markdown",
   "metadata": {
    "id": "J_CaBa9IIo2H"
   },
   "source": [
    "# Roman $⇔$ Arabic"
   ]
  },
  {
   "cell_type": "code",
   "execution_count": null,
   "metadata": {
    "id": "rwgj8TCNK8ZZ"
   },
   "outputs": [],
   "source": [
    "def to_roman(n: int) -> str:\n",
    "    roman_table = {1000: 'M', 900: 'CM', 500: 'D', 400: 'CD', 100: 'C', 90: 'XC',\n",
    "                      50: 'L', 40: 'XL', 10: 'X', 9: 'IX', 5: 'V', 4: 'IV', 1: 'I'}\n",
    "\n",
    "    roman = ''\n",
    "    for numeral in sorted(roman_table.keys(), reverse=True):\n",
    "        roman += (n // numeral) * roman_table[numeral]\n",
    "        n %= numeral\n",
    "    return roman"
   ]
  },
  {
   "cell_type": "code",
   "execution_count": null,
   "metadata": {
    "id": "Q4SQ3EKsPE8U"
   },
   "outputs": [],
   "source": [
    "for n in [1278, 989, 67, 2900]:\n",
    "    print(n, to_roman(n))"
   ]
  },
  {
   "cell_type": "code",
   "execution_count": null,
   "metadata": {
    "id": "i1mxq6T1PGLF"
   },
   "outputs": [],
   "source": [
    "def from_roman(s: str) -> int:\n",
    "    roman_table = {'M': 1000, 'D': 500, 'C': 100, 'L': 50, 'X': 10, 'V': 5, 'I': 1}\n",
    "\n",
    "    s = s.replace(\"CM\", \"DCCCC\").replace(\"CD\", \"CCCC\")\n",
    "    s = s.replace(\"XC\", \"LXXXX\").replace(\"XL\", \"XXXX\")\n",
    "    s = s.replace('IX', \"VIIII\").replace(\"IV\", \"IIII\")\n",
    "    return sum([roman_table[ch] for ch in s])"
   ]
  },
  {
   "cell_type": "code",
   "execution_count": null,
   "metadata": {
    "id": "k4jkzZrmTCGs"
   },
   "outputs": [],
   "source": [
    "for data in [\"XXIV\", \"DCXV\", \"CML\", \"VI\", \"CMVI\", \"CCVI\"]:\n",
    "    print(f'{data:10} => {from_roman(data)}')"
   ]
  },
  {
   "cell_type": "markdown",
   "metadata": {
    "id": "U23yHEE_TFTz"
   },
   "source": [
    "# Sort on a key"
   ]
  },
  {
   "cell_type": "code",
   "execution_count": null,
   "metadata": {
    "id": "U6YO6NwOjT1a"
   },
   "outputs": [],
   "source": [
    "words = [\"hello\", \"pots\", \"post\",\"spear\", \"stop\", \"opts\", \"spare\", \"could\", \"spot\", \"cloud\", \"cdef\"]"
   ]
  },
  {
   "cell_type": "code",
   "execution_count": null,
   "metadata": {
    "id": "CN-0XnQNj6md"
   },
   "outputs": [],
   "source": [
    "[[\"could\", \"cloud\"], [\"stop\", \"pots\", \"post\", \"opts\", \"spot\"], [\"spare\", \"spear\"]]"
   ]
  },
  {
   "cell_type": "code",
   "execution_count": null,
   "metadata": {
    "id": "djtlBRxykbF-"
   },
   "outputs": [],
   "source": [
    "print(sorted(words))"
   ]
  },
  {
   "cell_type": "code",
   "execution_count": null,
   "metadata": {
    "id": "fGvOkooClI6f"
   },
   "outputs": [],
   "source": [
    "sorted?"
   ]
  },
  {
   "cell_type": "code",
   "execution_count": null,
   "metadata": {
    "id": "McIIYkv8lYDv"
   },
   "outputs": [],
   "source": [
    "print(sorted(words, key=sorted))"
   ]
  },
  {
   "cell_type": "code",
   "execution_count": null,
   "metadata": {
    "id": "yAcqAKp-leIP"
   },
   "outputs": [],
   "source": [
    "sorted('spear')"
   ]
  },
  {
   "cell_type": "code",
   "execution_count": null,
   "metadata": {
    "id": "ARfnjWRJmz_C"
   },
   "outputs": [],
   "source": [
    "sorted('spare')"
   ]
  },
  {
   "cell_type": "code",
   "execution_count": null,
   "metadata": {
    "id": "q6pIA-bQm5y7"
   },
   "outputs": [],
   "source": [
    "sorted('cloud')"
   ]
  },
  {
   "cell_type": "code",
   "execution_count": null,
   "metadata": {
    "id": "2CpMXH5Im83g"
   },
   "outputs": [],
   "source": [
    "print(sorted(words, key=len))"
   ]
  },
  {
   "cell_type": "code",
   "execution_count": null,
   "metadata": {
    "id": "LHa9ZrECpFGY"
   },
   "outputs": [],
   "source": []
  }
 ],
 "metadata": {
  "colab": {
   "private_outputs": true,
   "provenance": []
  },
  "kernelspec": {
   "display_name": "Python 3 (ipykernel)",
   "language": "python",
   "name": "python3"
  },
  "language_info": {
   "codemirror_mode": {
    "name": "ipython",
    "version": 3
   },
   "file_extension": ".py",
   "mimetype": "text/x-python",
   "name": "python",
   "nbconvert_exporter": "python",
   "pygments_lexer": "ipython3",
   "version": "3.10.0"
  }
 },
 "nbformat": 4,
 "nbformat_minor": 4
}
