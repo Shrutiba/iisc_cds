{
 "cells": [
  {
   "cell_type": "code",
   "execution_count": 3,
   "id": "89817dbc-12fd-423b-81b1-c7d89d730d06",
   "metadata": {},
   "outputs": [],
   "source": [
    "def euler001_A(limit : int) -> int:\n",
    "    total, i = 0, 1\n",
    "    while i < limit:\n",
    "        if i % 3 == 0 or i % 5 == 0:\n",
    "            total += i\n",
    "        i = i + 1  # increment i to avoid infinite loop\n",
    "    return total\n"
   ]
  },
  {
   "cell_type": "code",
   "execution_count": 4,
   "id": "ad01709a-6065-43fa-8a8a-1ed6aad8c4d4",
   "metadata": {},
   "outputs": [
    {
     "name": "stdout",
     "output_type": "stream",
     "text": [
      "233168\n"
     ]
    }
   ],
   "source": [
    "total = euler001_A(1000)\n",
    "print(total)"
   ]
  },
  {
   "cell_type": "code",
   "execution_count": 1,
   "id": "a9dad96d-10d4-4736-b1b9-273c21159934",
   "metadata": {},
   "outputs": [
    {
     "name": "stdout",
     "output_type": "stream",
     "text": [
      "Hello\n"
     ]
    }
   ],
   "source": [
    "print('Hello')"
   ]
  },
  {
   "cell_type": "code",
   "execution_count": 5,
   "id": "b2b0c756-61db-4b79-b02b-66a35b492207",
   "metadata": {},
   "outputs": [
    {
     "name": "stdout",
     "output_type": "stream",
     "text": [
      "zsh:1: command not found: python\n"
     ]
    }
   ],
   "source": [
    "!python --version"
   ]
  },
  {
   "cell_type": "code",
   "execution_count": 7,
   "id": "fc21141d-aa02-47d7-9c77-fe8c8b904920",
   "metadata": {},
   "outputs": [],
   "source": [
    "total = euler001_A"
   ]
  },
  {
   "cell_type": "code",
   "execution_count": 8,
   "id": "e8402da1-b940-4187-ad09-d72dd19ac5c6",
   "metadata": {},
   "outputs": [
    {
     "data": {
      "text/plain": [
       "233168"
      ]
     },
     "execution_count": 8,
     "metadata": {},
     "output_type": "execute_result"
    }
   ],
   "source": [
    "total(1000)"
   ]
  },
  {
   "cell_type": "markdown",
   "id": "e2f8c37a-de6f-4460-b01d-bcc79d6f8477",
   "metadata": {},
   "source": [
    "# filter(f,s) $\\equiv$ {s \\in S, f(s)}"
   ]
  },
  {
   "cell_type": "code",
   "execution_count": 9,
   "id": "0bc1fbbc-b9b5-4bfa-b452-06f0cdcb6718",
   "metadata": {},
   "outputs": [],
   "source": [
    "def select(n: int) -> bool:\n",
    "    return n % 3 == 0 or n % 5 == 0"
   ]
  },
  {
   "cell_type": "code",
   "execution_count": 10,
   "id": "8ada8032-241f-43c5-8208-e330eed91a7d",
   "metadata": {},
   "outputs": [
    {
     "name": "stdout",
     "output_type": "stream",
     "text": [
      "<filter object at 0x111ef0f10>\n"
     ]
    }
   ],
   "source": [
    "print(filter(select, [3,7,10,12,9]))"
   ]
  },
  {
   "cell_type": "code",
   "execution_count": 11,
   "id": "65d56a7b-dea8-41fc-9e9e-aa629c1c60c6",
   "metadata": {},
   "outputs": [
    {
     "name": "stdout",
     "output_type": "stream",
     "text": [
      "[3, 10, 12, 9]\n"
     ]
    }
   ],
   "source": [
    "print(list(filter(select, [3,7,10,12,9])))"
   ]
  },
  {
   "cell_type": "markdown",
   "id": "4a05a338-aeb5-44f7-941c-402c626681d1",
   "metadata": {},
   "source": [
    "# map(f,S) $\\equiv$ $[f(s_0), f(s_1), \\ldots]$"
   ]
  },
  {
   "cell_type": "code",
   "execution_count": 12,
   "id": "614a75cd-fe29-41c0-80af-f7099c62ee95",
   "metadata": {},
   "outputs": [],
   "source": [
    "def alpha(n: int) -> int:\n",
    "    if n % 2 == 0:\n",
    "        return n // 2\n",
    "    else:\n",
    "        return 5 * n - 1"
   ]
  },
  {
   "cell_type": "code",
   "execution_count": 13,
   "id": "f36cbe35-3457-457a-bb85-24e064ec8b0a",
   "metadata": {
    "scrolled": true
   },
   "outputs": [
    {
     "name": "stdout",
     "output_type": "stream",
     "text": [
      "[14, 34, 5, 6, 454]\n"
     ]
    }
   ],
   "source": [
    "print(list(map(alpha, [3,7,10,12,91])))"
   ]
  },
  {
   "cell_type": "code",
   "execution_count": 14,
   "id": "d0ad9b13-5a71-4460-9c32-95fa86bc8ae4",
   "metadata": {},
   "outputs": [],
   "source": [
    "def even(n: int) -> bool:\n",
    "    return n % 2 == 0"
   ]
  },
  {
   "cell_type": "code",
   "execution_count": 15,
   "id": "56a0c69a-9685-4a5a-9fe2-3e360e4b4d1b",
   "metadata": {},
   "outputs": [
    {
     "name": "stdout",
     "output_type": "stream",
     "text": [
      "[False, False, True, True, False]\n"
     ]
    }
   ],
   "source": [
    "print(list(map(even, [3, 7, 10, 12, 91])))"
   ]
  },
  {
   "cell_type": "code",
   "execution_count": null,
   "id": "f8881d8e-898a-4a78-adfe-f88c5c83d78d",
   "metadata": {},
   "outputs": [],
   "source": [
    "def my_map(f, S):\n",
    "    maps = []\n",
    "    for s in S:\n",
    "        mapS.append(f(s))\n",
    "    return mapS"
   ]
  },
  {
   "cell_type": "code",
   "execution_count": 16,
   "id": "35e8ed88-5b85-4196-9c8b-d32ddd0ac683",
   "metadata": {},
   "outputs": [
    {
     "data": {
      "text/plain": [
       "type"
      ]
     },
     "execution_count": 16,
     "metadata": {},
     "output_type": "execute_result"
    }
   ],
   "source": [
    "type(filter)"
   ]
  },
  {
   "cell_type": "code",
   "execution_count": 17,
   "id": "67627065-0c9d-4d35-8d10-c7a66593fbde",
   "metadata": {},
   "outputs": [
    {
     "name": "stdout",
     "output_type": "stream",
     "text": [
      "zsh:1: command not found: python\n"
     ]
    }
   ],
   "source": [
    "!python --version"
   ]
  },
  {
   "cell_type": "code",
   "execution_count": 18,
   "id": "79eb8f97-29fe-4d20-8508-53d817ceab38",
   "metadata": {},
   "outputs": [
    {
     "name": "stdout",
     "output_type": "stream",
     "text": [
      "Python 3.10.0\n"
     ]
    }
   ],
   "source": [
    "!python3 --version"
   ]
  },
  {
   "cell_type": "markdown",
   "id": "2333d639-74a8-4cb7-b227-3e624061d336",
   "metadata": {},
   "source": [
    "# lc $\\equiv$ map + filter\n",
    "# [f(x) for x in S if g(x)] $\\equiv$ map(f,filter(g,S))"
   ]
  },
  {
   "cell_type": "code",
   "execution_count": 19,
   "id": "9ef5a102-58a9-4992-9521-b0bd39e47200",
   "metadata": {},
   "outputs": [
    {
     "data": {
      "text/plain": [
       "{0: 0, 1: 1, 2: 4, 3: 9, 4: 16, 5: 25, 6: 36}"
      ]
     },
     "execution_count": 19,
     "metadata": {},
     "output_type": "execute_result"
    }
   ],
   "source": [
    "# List Comprehension\n",
    "# Use list comprehension is recommended\n",
    "{i:i*i for i in range(7)}"
   ]
  },
  {
   "cell_type": "code",
   "execution_count": 20,
   "id": "9c5ff6e6-9ff4-4c2f-9fba-c28c08398167",
   "metadata": {},
   "outputs": [],
   "source": [
    "d = {i: i*i for i in range(7)}"
   ]
  },
  {
   "cell_type": "code",
   "execution_count": 21,
   "id": "44d20cc2-09c1-4ae8-9cc0-27417b59f9cc",
   "metadata": {},
   "outputs": [
    {
     "data": {
      "text/plain": [
       "dict"
      ]
     },
     "execution_count": 21,
     "metadata": {},
     "output_type": "execute_result"
    }
   ],
   "source": [
    "type(d)"
   ]
  },
  {
   "cell_type": "code",
   "execution_count": 22,
   "id": "5ab1134e-3550-43a2-bdf3-40b8d5023caa",
   "metadata": {},
   "outputs": [
    {
     "data": {
      "text/plain": [
       "{0, 1, 2, 3, 4, 5, 6}"
      ]
     },
     "execution_count": 22,
     "metadata": {},
     "output_type": "execute_result"
    }
   ],
   "source": [
    "{i for i in range(7)}"
   ]
  },
  {
   "cell_type": "code",
   "execution_count": 23,
   "id": "1d585992-21e0-4068-beb3-e302e3c30754",
   "metadata": {},
   "outputs": [],
   "source": [
    "r7 = {i for i in range(7)}"
   ]
  },
  {
   "cell_type": "code",
   "execution_count": 24,
   "id": "f0560763-a24d-4c84-ab64-2bad81482a7a",
   "metadata": {},
   "outputs": [
    {
     "data": {
      "text/plain": [
       "set"
      ]
     },
     "execution_count": 24,
     "metadata": {},
     "output_type": "execute_result"
    }
   ],
   "source": [
    "type(r7)"
   ]
  },
  {
   "cell_type": "markdown",
   "id": "044f1538-1832-4026-aeda-019e3552d774",
   "metadata": {},
   "source": [
    "Euler Problem 10\n",
    "The sum of the primes below 10 is 2 + 3 + 5 + 7 = 17.\n",
    "Find the sum of all the primes below two million."
   ]
  },
  {
   "cell_type": "code",
   "execution_count": 26,
   "id": "3c6bbe54-c01c-48f7-8223-8a67b22565d1",
   "metadata": {},
   "outputs": [],
   "source": [
    "def euler010(limit: int) -> int:\n",
    "    def is_prime(k: int) -> bool:\n",
    "        factor = 3\n",
    "        while factor * factor <= k:\n",
    "            if k % factor == 0:\n",
    "                return False\n",
    "            factor += 2\n",
    "        return True\n",
    "\n",
    "    return 2 + sum([p for p in range(3, limit, 2) if is_prime(p)])"
   ]
  },
  {
   "cell_type": "code",
   "execution_count": 27,
   "id": "d23c3791-6e50-40a3-9c69-bad29abdf0b5",
   "metadata": {},
   "outputs": [
    {
     "name": "stdout",
     "output_type": "stream",
     "text": [
      "142913828922\n"
     ]
    }
   ],
   "source": [
    "print(euler010(2000000))"
   ]
  },
  {
   "cell_type": "markdown",
   "id": "ca93722f-7907-4c94-a55e-08549038d2c0",
   "metadata": {},
   "source": [
    "Euler Problem 3\n",
    "The prime factors of 13195 are 5, 7, 13 and 29.\n",
    "What is the largest prime factor of the number 600851475143 ?"
   ]
  },
  {
   "cell_type": "code",
   "execution_count": 28,
   "id": "5908c351-ef62-408f-9a0b-4e86a3477111",
   "metadata": {},
   "outputs": [],
   "source": [
    "N = 600851475143"
   ]
  },
  {
   "cell_type": "code",
   "execution_count": null,
   "id": "5b6388e1-356a-4ab8-b5c8-6668e1d4a8de",
   "metadata": {},
   "outputs": [],
   "source": [
    "def factorize(n: int) -> list[int]:\n",
    "    factors = []\n",
    "    while n % 2 == 0:\n",
    "        factors.append(2)\n",
    "        n //= 2\n",
    "    r = 3\n",
    "    while r * r <= n:\n",
    "        while n % r == 0:\n",
    "            factors.append(r)\n",
    "            n //= r\n",
    "        r += 2\n",
    "    factors.append(n)\n",
    "    return factors"
   ]
  },
  {
   "cell_type": "markdown",
   "id": "9a20c453-89de-47d1-bc73-c1cad60aaa19",
   "metadata": {},
   "source": [
    "The FizzBuzz problem is a classic test given in coding interviews. The task is\n",
    "simple:\n",
    "Print integers 1 to N, but print “Fizz” if an integer is divisible by 3, “Buzz”\n",
    "if an integer is divisible by 5, and “FizzBuzz” if an integer is divisible by both\n",
    "3 and 5."
   ]
  },
  {
   "cell_type": "code",
   "execution_count": 59,
   "id": "8d629572-00ea-4a64-a1b4-ffd660f687ce",
   "metadata": {},
   "outputs": [],
   "source": [
    "def FizzBuzz(N: int) -> list:\n",
    "    numbers = []\n",
    "    for i in range(1, N+1):\n",
    "        if  i % 15 == 0:\n",
    "            numbers.append('FizzBuzz')\n",
    "        elif i % 5 == 0:\n",
    "            numbers.append('Buzz')\n",
    "        elif i % 3 == 0:\n",
    "            numbers.append('Fizz')\n",
    "        else:\n",
    "            numbers.append(i)\n",
    "    return numbers"
   ]
  },
  {
   "cell_type": "code",
   "execution_count": 37,
   "id": "db1772b4-3512-4ee7-ab55-f5e2f890ded1",
   "metadata": {},
   "outputs": [
    {
     "name": "stdout",
     "output_type": "stream",
     "text": [
      "yes\n"
     ]
    }
   ],
   "source": [
    "if type(10) == int:\n",
    "    print('yes')"
   ]
  },
  {
   "cell_type": "code",
   "execution_count": 42,
   "id": "210eb688-3ef8-48ad-b72b-67437793a8a6",
   "metadata": {},
   "outputs": [],
   "source": [
    "def divisibleby3(N:int) -> str:\n",
    "    if type(N) == int and N % 3 == 0:\n",
    "        return 'Fizz'\n",
    "    else:\n",
    "        return(N)"
   ]
  },
  {
   "cell_type": "code",
   "execution_count": 43,
   "id": "db1c8469-0abf-4e92-a143-dce0c99a8570",
   "metadata": {},
   "outputs": [],
   "source": [
    "def divisibleby5(N:int) -> str:\n",
    "    if type(N) == int and N % 5 == 0:\n",
    "        return 'Buzz'\n",
    "    else:\n",
    "        return(N)"
   ]
  },
  {
   "cell_type": "code",
   "execution_count": 44,
   "id": "f8e734ce-4034-469f-8b19-a8fcd2d8ef46",
   "metadata": {},
   "outputs": [],
   "source": [
    "def divisibleby15(N:int) -> str:\n",
    "    if type(N) == int and N % 15 == 0:\n",
    "        return 'FizzBuzz'\n",
    "    else:\n",
    "        return(N)"
   ]
  },
  {
   "cell_type": "code",
   "execution_count": 47,
   "id": "140a150c-7076-4e6f-ad98-f05858fefc77",
   "metadata": {},
   "outputs": [
    {
     "name": "stdout",
     "output_type": "stream",
     "text": [
      "[1, 2, 'Fizz', 4, 'Buzz', 'Fizz', 7, 8, 'Fizz', 'Buzz', 11, 'Fizz', 13, 14, 'FizzBuzz', 16, 17, 'Fizz', 19, 'Buzz']\n"
     ]
    }
   ],
   "source": [
    "numbers = list(range(1,21))\n",
    "print(list(map(divisibleby5, list(map(divisibleby3, list(map(divisibleby15,numbers)))))))"
   ]
  },
  {
   "cell_type": "code",
   "execution_count": 60,
   "id": "9f9601fd-5107-4245-a247-e3891c76914f",
   "metadata": {},
   "outputs": [
    {
     "name": "stdout",
     "output_type": "stream",
     "text": [
      "[1, 2, 'Fizz', 4, 'Buzz', 'Fizz', 7, 8, 'Fizz', 'Buzz', 11, 'Fizz', 13, 14, 'FizzBuzz', 16, 17, 'Fizz', 19, 'Buzz']\n"
     ]
    }
   ],
   "source": [
    "print(FizzBuzz(20))"
   ]
  },
  {
   "cell_type": "markdown",
   "id": "d45d65be-c321-4d1e-8d08-912edb158427",
   "metadata": {},
   "source": [
    "Kaprekar’s Constant\n",
    "Step 1: Choose any four digit number, say n. This is the first number of the\n",
    "sequence.\n",
    "Step 2: Create a new number α which is the largest number that can be\n",
    "formed by using the four digits of n.\n",
    "Step 3: Create a new number β which is the smallest number that can be\n",
    "formed by using the four digits of n.\n",
    "Step 4: α − β is the next number in the sequence.\n",
    "Step 5: Repeat from step 2.\n",
    "The sequence is called a Kaprekar sequence and the function K(n) = α − β\n",
    "is the Kaprekar mapping. Some numbers map to themselves; these are the fixed\n",
    "points of the Kaprekar mapping, and are called Kaprekar’s constants. Zero is\n",
    "a Kaprekar’s constant, and so is called a trivial Kaprekar’s constant. All other\n",
    "Kaprekar’s constant are nontrivial Kaprekar’s constants.\n",
    "For example, starting with 3524,\n",
    "K(3524) = 5432 − 2345 = 3087\n",
    "K(3087) = 8730 − 378 = 8352\n",
    "K(8352) = 8532 − 2358 = 6174 K(6174) = 7641 − 1467 = 6174\n",
    "with 6174 as a Kaprekar’s constant."
   ]
  },
  {
   "cell_type": "code",
   "execution_count": 11,
   "id": "5eeed51c-f954-4e51-b322-2045b1a76123",
   "metadata": {},
   "outputs": [],
   "source": [
    "def largestnumber(N : int) -> int:\n",
    "    return int(''.join(sorted(str(N),reverse = True)))\n"
   ]
  },
  {
   "cell_type": "code",
   "execution_count": 4,
   "id": "df5f41dd-6894-40ac-845a-3c572649a41f",
   "metadata": {},
   "outputs": [
    {
     "name": "stdout",
     "output_type": "stream",
     "text": [
      "76543\n"
     ]
    }
   ],
   "source": [
    "print(largestnumber(34567))"
   ]
  },
  {
   "cell_type": "code",
   "execution_count": 12,
   "id": "8a4cdd21-f06d-41ea-8dc3-6b8356318961",
   "metadata": {},
   "outputs": [],
   "source": [
    "def smallestnumber(N : int) -> int:\n",
    "    return int(''.join(sorted(str(N))))\n"
   ]
  },
  {
   "cell_type": "code",
   "execution_count": 7,
   "id": "6d20d942-1e73-45c8-858a-444a31358db2",
   "metadata": {},
   "outputs": [
    {
     "name": "stdout",
     "output_type": "stream",
     "text": [
      "34567\n"
     ]
    }
   ],
   "source": [
    "print(smallestnumber(34567))"
   ]
  },
  {
   "cell_type": "code",
   "execution_count": 13,
   "id": "72542dfe-ff76-47e5-8a7a-4f8ba23496ed",
   "metadata": {},
   "outputs": [],
   "source": [
    "def nextnumber(largest:int, smallest:int) -> int:\n",
    "    return largest - smallest"
   ]
  },
  {
   "cell_type": "code",
   "execution_count": 9,
   "id": "524b184e-d76c-4427-8051-9c2b0bfa4d6f",
   "metadata": {},
   "outputs": [
    {
     "name": "stdout",
     "output_type": "stream",
     "text": [
      "41976\n"
     ]
    }
   ],
   "source": [
    "print(nextnumber(76543,34567))"
   ]
  },
  {
   "cell_type": "code",
   "execution_count": 20,
   "id": "b07fe4d3-df48-4df7-9ca7-0a4dd7b05ea1",
   "metadata": {},
   "outputs": [],
   "source": [
    "def kaprekarConstant(N: int) -> list:\n",
    "    sequence = []\n",
    "    number = N\n",
    "    previousnumber = 0\n",
    "    while number != 0 and number != previousnumber:\n",
    "        sequence.append(number)\n",
    "        previousnumber = number\n",
    "        number = nextnumber(largestnumber(number),smallestnumber(number))\n",
    "        \n",
    "    return sequence\n",
    "    "
   ]
  },
  {
   "cell_type": "code",
   "execution_count": 21,
   "id": "b7ec1a5a-9782-40a9-9674-181737cbde85",
   "metadata": {},
   "outputs": [
    {
     "name": "stdout",
     "output_type": "stream",
     "text": [
      "[3524, 3087, 8352, 6174]\n"
     ]
    }
   ],
   "source": [
    "print(kaprekarConstant(3524))"
   ]
  },
  {
   "cell_type": "markdown",
   "id": "dd383f6f-8286-4ecf-b648-7d4768362001",
   "metadata": {},
   "source": [
    "# Number into Words"
   ]
  },
  {
   "cell_type": "markdown",
   "id": "e8121e9b-7463-4e4e-8cd8-84d972c308b2",
   "metadata": {},
   "source": [
    "If the number is 23456 -> Twenty three thousand four hundered and fifty six\n",
    "                        \n",
    "                 3456  -> Three thousand four hundered and fifty six\n",
    "                 123456 -> 1 lakh twenty three thousand four hundered and fifty six\n",
    "                 1023456 -> 1 million twenty three thousand four hundered and fifty six\n",
    "                         -> 10 lakhs twenty three thousand four hundered and fifty six"
   ]
  },
  {
   "cell_type": "code",
   "execution_count": 142,
   "id": "bada36e6-bcdd-4a11-bb8b-95c89666a3d4",
   "metadata": {},
   "outputs": [],
   "source": [
    "def digit_to_word(index: int, number: int, nomen: str) -> str:\n",
    "\n",
    "    ones = ['','one', 'two', 'three', 'four', 'five', 'six', 'seven', 'eight', 'nine','ten','eleven','tweleve','thirteen','fourteen','fiftieen','sixteen','seventeen','eighteen','nineteen']\n",
    "    tens = ['','', 'twenty ', 'thirty ', 'forty ', 'fifty ', 'sixty ', 'seventy ', 'eighty ', 'ninety ']\n",
    "    indian  = [None,None,' hundered ',' thousand ',None,' lakh ',None,' crore ']\n",
    "    western = [None,None,' hundered ',' thousand ',None,'hundered','million ',None,' billion ']\n",
    "    \n",
    "    # Handle the conversion logic based on nomenclature and number type\n",
    "    if nomen == 'I' and index <= 2 and number == 0:\n",
    "        return ' '\n",
    "    elif nomen == 'W' and index <= 3 and number == 0:\n",
    "        return ' '\n",
    "    elif index == 0:\n",
    "        return ones[number]\n",
    "    elif index == 1:\n",
    "        return tens[number]\n",
    "    else:\n",
    "        if nomen == 'I':\n",
    "            return ones[number] + ' ' + (indian[index] if indian[index] is not None else tens[number])\n",
    "        else:\n",
    "            return ones[number] + ' ' + (western[index] if western[index] is not None else tens[number])\n",
    "    "
   ]
  },
  {
   "cell_type": "code",
   "execution_count": 81,
   "id": "329ae23a-9d97-4cb6-94bb-a70ba767c57d",
   "metadata": {},
   "outputs": [],
   "source": [
    "def num_to_digits_in_reverse2(n: int) -> list[int]:\n",
    "    numlist = [int(ch) for ch in str(n)]\n",
    "    numlist.reverse()\n",
    "    return numlist"
   ]
  },
  {
   "cell_type": "code",
   "execution_count": 216,
   "id": "9baeda62-1467-4eb5-80f6-f7fb6b0d5b94",
   "metadata": {},
   "outputs": [],
   "source": [
    "def digit_to_word(index: int, number: int, nomen: str) -> str:\n",
    "\n",
    "    ones = ['','one', 'two', 'three', 'four', 'five', 'six', 'seven', 'eight', 'nine','ten','eleven','tweleve','thirteen','fourteen','fiftieen','sixteen','seventeen','eighteen','nineteen']\n",
    "    tens = ['','ten', 'twenty ', 'thirty ', 'forty ', 'fifty ', 'sixty ', 'seventy ', 'eighty ', 'ninety ']\n",
    "    indian  = [None,None,' hundered ',' thousand ',None,' lakh ',None,' crore ']\n",
    "    western = [None,None,' hundered ',' thousand ',None,' hundered ',' million ',None,' billion ']\n",
    "    \n",
    "    return (lambda index, number, nomen: (\n",
    "        ' ' if (nomen == 'I' and number == 0) else\n",
    "        ' ' if (nomen == 'W' and index <= 3 and number == 0) else\n",
    "        ones[number] if index == 0 else\n",
    "        tens[number] if index == 1 else\n",
    "        (ones[number] + ' ' + indian[index]  if indian[index]  is not None else ' ' + tens[number])  if nomen == 'I' else\n",
    "        (ones[number] + ' ' + western[index] if western[index] is not None else ' ' + tens[number])\n",
    "    ))(index, number, nomen)\n",
    "\n",
    "    "
   ]
  },
  {
   "cell_type": "code",
   "execution_count": 217,
   "id": "3e8da816-5dfd-4ac6-9ebd-596c9a842592",
   "metadata": {},
   "outputs": [],
   "source": [
    "def toWords2(number: int, nomenclature: str) -> str:\n",
    "\n",
    "    i = 0\n",
    "    index = 0\n",
    "    numberInWords = ''\n",
    "    length = len(str(number))\n",
    "    numberlist = num_to_digits_in_reverse2(number)\n",
    "\n",
    "    print(length)\n",
    "    while i in range(length):  \n",
    "        if i > 2 and i % 2 != 0 and i != length-1 and numberlist[i+1] == 1: # Take into consideration 11 - 19 number\n",
    "           num = int(str(numberlist[i+1])+str(numberlist[i]))\n",
    "           index = i\n",
    "           i += 2 \n",
    "        else:\n",
    "           num = numberlist[i]\n",
    "           index = i \n",
    "           i += 1 \n",
    "         # Convert the digit to words and append to the final string\n",
    "        numberInWords = digit_to_word(index, num, nomenclature) + numberInWords\n",
    "        \n",
    "\n",
    "    return numberInWords.strip()"
   ]
  },
  {
   "cell_type": "code",
   "execution_count": 218,
   "id": "ac8355f3-4f53-4128-a110-d27e2a868322",
   "metadata": {},
   "outputs": [
    {
     "name": "stdout",
     "output_type": "stream",
     "text": [
      "8\n",
      "Inside If 3\n",
      "ten  million one  hundered ten  thousand one  hundered ten\n"
     ]
    }
   ],
   "source": [
    "print(toWords2(10110110,'W'))"
   ]
  },
  {
   "cell_type": "code",
   "execution_count": 100,
   "id": "2c14aa72-d996-4124-b7f3-671cce5013b6",
   "metadata": {},
   "outputs": [],
   "source": [
    "def is_anagram(a: str, b: str) -> bool:\n",
    "    return sorted(a) == sorted(b)"
   ]
  },
  {
   "cell_type": "code",
   "execution_count": 102,
   "id": "79cb80ec-b576-4de1-b7bf-1fbefcf53c83",
   "metadata": {},
   "outputs": [
    {
     "name": "stdout",
     "output_type": "stream",
     "text": [
      "False\n"
     ]
    }
   ],
   "source": [
    "print(is_anagram('ShrUti','iturhS'))"
   ]
  },
  {
   "cell_type": "code",
   "execution_count": 2,
   "id": "509d7a09-bdbd-4e7d-94ed-81eaaa73281b",
   "metadata": {},
   "outputs": [],
   "source": [
    "def num_to_digits(n: int) -> list[int]:\n",
    "    numlist = [int(ch) for ch in str(n)]\n",
    "    return numlist"
   ]
  },
  {
   "cell_type": "code",
   "execution_count": 10,
   "id": "f7baaeb7-6bdf-4cd9-9404-5fdbd97f9e31",
   "metadata": {},
   "outputs": [],
   "source": [
    "def toRoman(number: int) -> str:\n",
    "    roman_numerals_dict = {\n",
    "    1: 'I',\n",
    "    2: 'II',\n",
    "    3: 'III',\n",
    "    4: 'IV',\n",
    "    5: 'V',\n",
    "    6: 'VI',\n",
    "    7: 'VII',\n",
    "    8: 'VIII',\n",
    "    9: 'IX',\n",
    "    10: 'X',\n",
    "    20: 'XX',\n",
    "    30: 'XXX',\n",
    "    40: 'XL',\n",
    "    50: 'L',\n",
    "    60: 'LX',\n",
    "    70: 'LXX',\n",
    "    80: 'LXXX',\n",
    "    90: 'XC',\n",
    "    100: 'C',\n",
    "    200: 'CC',\n",
    "    300: 'CCC',\n",
    "    400: 'CD',\n",
    "    500: 'D',\n",
    "    600: 'DC',\n",
    "    700: 'DCC',\n",
    "    800: 'DCCC',\n",
    "    900: 'CM',\n",
    "    1000: 'M'\n",
    "    }\n",
    "\n",
    "    i = 0\n",
    "    length = len(str(number))\n",
    "    numlist = num_to_digits(number)\n",
    "    print(numlist)\n",
    "    len1 = length\n",
    "    while i in range(length):\n",
    "       num = numlist[i] * (10**(len1-1))\n",
    "       len = len1-1\n",
    "       print(num)\n",
    "       i += 1 \n",
    "        \n",
    "\n",
    "  \n",
    "    "
   ]
  },
  {
   "cell_type": "code",
   "execution_count": 11,
   "id": "8c9727b5-98f8-4b18-ba5e-dd5d6c259aa6",
   "metadata": {},
   "outputs": [
    {
     "ename": "UnboundLocalError",
     "evalue": "local variable 'len' referenced before assignment",
     "output_type": "error",
     "traceback": [
      "\u001b[0;31m---------------------------------------------------------------------------\u001b[0m",
      "\u001b[0;31mUnboundLocalError\u001b[0m                         Traceback (most recent call last)",
      "Cell \u001b[0;32mIn[11], line 1\u001b[0m\n\u001b[0;32m----> 1\u001b[0m \u001b[38;5;28mprint\u001b[39m(\u001b[43mtoRoman\u001b[49m\u001b[43m(\u001b[49m\u001b[38;5;241;43m123\u001b[39;49m\u001b[43m)\u001b[49m)  \u001b[38;5;66;03m#100 + 20 + 3\u001b[39;00m\n",
      "Cell \u001b[0;32mIn[10], line 34\u001b[0m, in \u001b[0;36mtoRoman\u001b[0;34m(number)\u001b[0m\n\u001b[1;32m      2\u001b[0m roman_numerals_dict \u001b[38;5;241m=\u001b[39m {\n\u001b[1;32m      3\u001b[0m \u001b[38;5;241m1\u001b[39m: \u001b[38;5;124m'\u001b[39m\u001b[38;5;124mI\u001b[39m\u001b[38;5;124m'\u001b[39m,\n\u001b[1;32m      4\u001b[0m \u001b[38;5;241m2\u001b[39m: \u001b[38;5;124m'\u001b[39m\u001b[38;5;124mII\u001b[39m\u001b[38;5;124m'\u001b[39m,\n\u001b[0;32m   (...)\u001b[0m\n\u001b[1;32m     30\u001b[0m \u001b[38;5;241m1000\u001b[39m: \u001b[38;5;124m'\u001b[39m\u001b[38;5;124mM\u001b[39m\u001b[38;5;124m'\u001b[39m\n\u001b[1;32m     31\u001b[0m }\n\u001b[1;32m     33\u001b[0m i \u001b[38;5;241m=\u001b[39m \u001b[38;5;241m0\u001b[39m\n\u001b[0;32m---> 34\u001b[0m length \u001b[38;5;241m=\u001b[39m \u001b[38;5;28;43mlen\u001b[39;49m(\u001b[38;5;28mstr\u001b[39m(number))\n\u001b[1;32m     35\u001b[0m numlist \u001b[38;5;241m=\u001b[39m num_to_digits(number)\n\u001b[1;32m     36\u001b[0m \u001b[38;5;28mprint\u001b[39m(numlist)\n",
      "\u001b[0;31mUnboundLocalError\u001b[0m: local variable 'len' referenced before assignment"
     ]
    }
   ],
   "source": [
    "print(toRoman(123))  #100 + 20 + 3\n"
   ]
  },
  {
   "cell_type": "code",
   "execution_count": 8,
   "id": "83594057-1d2a-407f-9305-f6e9838d3636",
   "metadata": {},
   "outputs": [
    {
     "ename": "NameError",
     "evalue": "name 'len' is not defined",
     "output_type": "error",
     "traceback": [
      "\u001b[0;31m---------------------------------------------------------------------------\u001b[0m",
      "\u001b[0;31mNameError\u001b[0m                                 Traceback (most recent call last)",
      "Cell \u001b[0;32mIn[8], line 1\u001b[0m\n\u001b[0;32m----> 1\u001b[0m \u001b[38;5;28;01mdel\u001b[39;00m \u001b[38;5;28mlen\u001b[39m\n",
      "\u001b[0;31mNameError\u001b[0m: name 'len' is not defined"
     ]
    }
   ],
   "source": [
    "del len"
   ]
  },
  {
   "cell_type": "code",
   "execution_count": null,
   "id": "c2e4809d-bac7-497d-86fe-a7e4afb19b36",
   "metadata": {},
   "outputs": [],
   "source": [
    "print(toInteger('XI'))"
   ]
  }
 ],
 "metadata": {
  "kernelspec": {
   "display_name": "Python 3 (ipykernel)",
   "language": "python",
   "name": "python3"
  },
  "language_info": {
   "codemirror_mode": {
    "name": "ipython",
    "version": 3
   },
   "file_extension": ".py",
   "mimetype": "text/x-python",
   "name": "python",
   "nbconvert_exporter": "python",
   "pygments_lexer": "ipython3",
   "version": "3.10.0"
  }
 },
 "nbformat": 4,
 "nbformat_minor": 5
}
