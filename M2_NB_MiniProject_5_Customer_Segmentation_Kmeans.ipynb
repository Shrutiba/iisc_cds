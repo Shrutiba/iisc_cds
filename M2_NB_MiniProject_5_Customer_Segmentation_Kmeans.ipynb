{
  "nbformat": 4,
  "nbformat_minor": 0,
  "metadata": {
    "colab": {
      "provenance": [],
      "include_colab_link": true
    },
    "kernelspec": {
      "display_name": "Python 3",
      "language": "python",
      "name": "python3"
    },
    "language_info": {
      "codemirror_mode": {
        "name": "ipython",
        "version": 3
      },
      "file_extension": ".py",
      "mimetype": "text/x-python",
      "name": "python",
      "nbconvert_exporter": "python",
      "pygments_lexer": "ipython3",
      "version": "3.6.9"
    }
  },
  "cells": [
    {
      "cell_type": "markdown",
      "metadata": {
        "id": "view-in-github",
        "colab_type": "text"
      },
      "source": [
        "<a href=\"https://colab.research.google.com/github/Shrutiba/iisc_cds/blob/main/M2_NB_MiniProject_5_Customer_Segmentation_Kmeans.ipynb\" target=\"_parent\"><img src=\"https://colab.research.google.com/assets/colab-badge.svg\" alt=\"Open In Colab\"/></a>"
      ]
    },
    {
      "cell_type": "markdown",
      "metadata": {
        "id": "aUUu9l_JfJ92"
      },
      "source": [
        "# Advanced Certification Program in Computational Data Science\n",
        "\n",
        "##  A program by IISc and TalentSprint\n",
        "\n",
        "### Mini Project Notebook: Customer segmentation using clustering"
      ]
    },
    {
      "cell_type": "markdown",
      "metadata": {
        "id": "SL3yrUc-XrLS"
      },
      "source": [
        "## Learning Objectives"
      ]
    },
    {
      "cell_type": "markdown",
      "metadata": {
        "id": "7jZ3M2hjiyb0"
      },
      "source": [
        "At the end of the experiment, you will be able to :\n",
        "\n",
        "* extract summary level insight from a given customer dataset.\n",
        "\n",
        "* handle the missing data and identify the underlying pattern or structure of the data.\n",
        "\n",
        "* create an unsupervised model that generates the optimum number of segments for the customer base\n",
        "\n",
        "* identify customer segments based on the overall buying behaviour\n"
      ]
    },
    {
      "cell_type": "markdown",
      "metadata": {
        "id": "-EqvTSjZZIUE"
      },
      "source": [
        "## Dataset"
      ]
    },
    {
      "cell_type": "markdown",
      "metadata": {
        "id": "interior-simple"
      },
      "source": [
        "The dataset chosen for this mini project is the Online Retail dataset. It is a transnational data set which contains all the transactions occurring between 01/12/2010 and 09/12/2011 for a UK-based and registered non-store online retail.\n",
        "\n",
        "The dataset contains 541909 records, and each record is made up of 8 fields.\n",
        "\n",
        "To know more about the dataset : [click here](https://archive.ics.uci.edu/ml/datasets/Online+Retail)"
      ]
    },
    {
      "cell_type": "markdown",
      "metadata": {
        "id": "OnFlaGNVFJI3"
      },
      "source": [
        "## Information"
      ]
    },
    {
      "cell_type": "markdown",
      "metadata": {
        "id": "Pyj3MM1li34l"
      },
      "source": [
        "**Clustering** is the task of grouping together a set of objects so that the objects in the same cluster are more similar to each other than to objects in other clusters. Similarity is a measure that reflects the strength of the relationship between two data objects.\n",
        "\n",
        "In the clustering calculation, K-Means is a very popular algorithm. In this analysis, this method is used to cluster the similar data items.\n",
        "\n",
        "In Retail and E-Commerce (B2C), and more broadly in B2B, one of the key elements shaping the business strategy of a firm is understanding of customer behaviour. More specifically, understanding the customers based on different business metrics: how much they spend (revenue), how often they spend (frequency), are they new or existing customers, what are their favorite products, etc... Such understanding in turn helps direct marketing, sales, account management and product teams to support customers on a personalized level and improve the product offering.\n",
        "\n",
        "Furthermore, segmenting customers into different categories based on similar/cyclical buying pattern over a period of 1 year helps the retail shops manage their inventory better, thereby lowering costs and raising revenues by placing the orders in sync with the buying cycles."
      ]
    },
    {
      "cell_type": "markdown",
      "metadata": {
        "id": "eY8QnQQ_i8oy"
      },
      "source": [
        "## Problem Statement"
      ]
    },
    {
      "cell_type": "markdown",
      "metadata": {
        "id": "MhyOGhrYi8oz"
      },
      "source": [
        "Perform customer segmentation for an Online Retail using an Unsupervised Clustering technique"
      ]
    },
    {
      "cell_type": "markdown",
      "metadata": {
        "id": "operating-latter"
      },
      "source": [
        "## Grading = 10 Points"
      ]
    },
    {
      "cell_type": "markdown",
      "metadata": {
        "id": "abstract-stocks"
      },
      "source": [
        "### Import Required packages"
      ]
    },
    {
      "cell_type": "code",
      "metadata": {
        "id": "advisory-knowing"
      },
      "source": [
        "from matplotlib import pyplot as plt\n",
        "import numpy as np\n",
        "import pandas as pd\n",
        "import seaborn as sns\n",
        "import scipy\n",
        "from sklearn.cluster import KMeans\n",
        "from sklearn.model_selection import train_test_split\n",
        "from sklearn.preprocessing import StandardScaler\n",
        "from sklearn.cluster import DBSCAN\n",
        "from scipy import stats"
      ],
      "execution_count": 1,
      "outputs": []
    },
    {
      "cell_type": "markdown",
      "metadata": {
        "id": "bound-basement"
      },
      "source": [
        "## Data Wrangling"
      ]
    },
    {
      "cell_type": "code",
      "metadata": {
        "cellView": "form",
        "id": "PXJixnAljGfN"
      },
      "source": [
        "#@title Download the data\n",
        "!wget -qq https://cdn.iisc.talentsprint.com/CDS/MiniProjects/Online_Retail.zip\n",
        "!unzip -qq Online_Retail.zip"
      ],
      "execution_count": 2,
      "outputs": []
    },
    {
      "cell_type": "markdown",
      "metadata": {
        "id": "7Vu9jhC5jJHs"
      },
      "source": [
        "## Load the data"
      ]
    },
    {
      "cell_type": "code",
      "metadata": {
        "id": "RdvmgyZRdZup"
      },
      "source": [
        "# YOUR CODE HERE\n",
        "df = pd.read_csv('Online_Retail_Train.csv', encoding = 'unicode_escape')\n",
        "# Change the data type of CustomerID to object as it is categorical variable\n",
        "df['CustomerID'] = df['CustomerID'].astype(str)\n",
        "# Replace empty strings and 'nan' strings with actual NaN\n",
        "df['CustomerID'] = df['CustomerID'].replace({'': np.nan, 'nan': np.nan})\n"
      ],
      "execution_count": 160,
      "outputs": []
    },
    {
      "cell_type": "code",
      "source": [
        "df_test = pd.read_csv('Online_Retail_Test.csv', encoding = 'unicode_escape')\n",
        "# Change the data type of CustomerID to object as it is categorical variable\n",
        "df_test['CustomerID'] = df_test['CustomerID'].astype(str)\n",
        "# Replace empty strings and 'nan' strings with actual NaN\n",
        "df_test['CustomerID'] = df_test['CustomerID'].replace({'': np.nan, 'nan': np.nan})"
      ],
      "metadata": {
        "id": "u7-tave16oFm"
      },
      "execution_count": 162,
      "outputs": []
    },
    {
      "cell_type": "code",
      "source": [
        "df.head()"
      ],
      "metadata": {
        "id": "VHSe8QFcS92w",
        "outputId": "49a06f25-15b8-402f-a597-1c11d537e6ad",
        "colab": {
          "base_uri": "https://localhost:8080/",
          "height": 380
        }
      },
      "execution_count": 166,
      "outputs": [
        {
          "output_type": "execute_result",
          "data": {
            "text/plain": [
              "  InvoiceNo StockCode                         Description  Quantity  \\\n",
              "0    579427     22636  CHILDS BREAKFAST SET CIRCUS PARADE         2   \n",
              "1    554092     21916     SET 12 RETRO WHITE CHALK STICKS        24   \n",
              "2    577774     84692         BOX OF 24 COCKTAIL PARASOLS         6   \n",
              "5    579668     23575             SNACK TRAY PAISLEY PARK         8   \n",
              "7    547684     23176              ABC TREASURE BOOK BOX          8   \n",
              "\n",
              "          InvoiceDate  UnitPrice CustomerID         Country  DayOfWeek  \n",
              "0 2011-11-29 13:04:00       8.50    16479.0  United Kingdom    Tuesday  \n",
              "1 2011-05-22 12:41:00       0.42    17176.0  United Kingdom     Sunday  \n",
              "2 2011-11-21 15:57:00       0.42    16712.0  United Kingdom     Monday  \n",
              "5 2011-11-30 12:32:00       1.95    15152.0  United Kingdom  Wednesday  \n",
              "7 2011-03-24 14:46:00       2.25    12408.0         Belgium   Thursday  "
            ],
            "text/html": [
              "\n",
              "  <div id=\"df-966b880e-ca07-411a-96bb-d854f710df85\" class=\"colab-df-container\">\n",
              "    <div>\n",
              "<style scoped>\n",
              "    .dataframe tbody tr th:only-of-type {\n",
              "        vertical-align: middle;\n",
              "    }\n",
              "\n",
              "    .dataframe tbody tr th {\n",
              "        vertical-align: top;\n",
              "    }\n",
              "\n",
              "    .dataframe thead th {\n",
              "        text-align: right;\n",
              "    }\n",
              "</style>\n",
              "<table border=\"1\" class=\"dataframe\">\n",
              "  <thead>\n",
              "    <tr style=\"text-align: right;\">\n",
              "      <th></th>\n",
              "      <th>InvoiceNo</th>\n",
              "      <th>StockCode</th>\n",
              "      <th>Description</th>\n",
              "      <th>Quantity</th>\n",
              "      <th>InvoiceDate</th>\n",
              "      <th>UnitPrice</th>\n",
              "      <th>CustomerID</th>\n",
              "      <th>Country</th>\n",
              "      <th>DayOfWeek</th>\n",
              "    </tr>\n",
              "  </thead>\n",
              "  <tbody>\n",
              "    <tr>\n",
              "      <th>0</th>\n",
              "      <td>579427</td>\n",
              "      <td>22636</td>\n",
              "      <td>CHILDS BREAKFAST SET CIRCUS PARADE</td>\n",
              "      <td>2</td>\n",
              "      <td>2011-11-29 13:04:00</td>\n",
              "      <td>8.50</td>\n",
              "      <td>16479.0</td>\n",
              "      <td>United Kingdom</td>\n",
              "      <td>Tuesday</td>\n",
              "    </tr>\n",
              "    <tr>\n",
              "      <th>1</th>\n",
              "      <td>554092</td>\n",
              "      <td>21916</td>\n",
              "      <td>SET 12 RETRO WHITE CHALK STICKS</td>\n",
              "      <td>24</td>\n",
              "      <td>2011-05-22 12:41:00</td>\n",
              "      <td>0.42</td>\n",
              "      <td>17176.0</td>\n",
              "      <td>United Kingdom</td>\n",
              "      <td>Sunday</td>\n",
              "    </tr>\n",
              "    <tr>\n",
              "      <th>2</th>\n",
              "      <td>577774</td>\n",
              "      <td>84692</td>\n",
              "      <td>BOX OF 24 COCKTAIL PARASOLS</td>\n",
              "      <td>6</td>\n",
              "      <td>2011-11-21 15:57:00</td>\n",
              "      <td>0.42</td>\n",
              "      <td>16712.0</td>\n",
              "      <td>United Kingdom</td>\n",
              "      <td>Monday</td>\n",
              "    </tr>\n",
              "    <tr>\n",
              "      <th>5</th>\n",
              "      <td>579668</td>\n",
              "      <td>23575</td>\n",
              "      <td>SNACK TRAY PAISLEY PARK</td>\n",
              "      <td>8</td>\n",
              "      <td>2011-11-30 12:32:00</td>\n",
              "      <td>1.95</td>\n",
              "      <td>15152.0</td>\n",
              "      <td>United Kingdom</td>\n",
              "      <td>Wednesday</td>\n",
              "    </tr>\n",
              "    <tr>\n",
              "      <th>7</th>\n",
              "      <td>547684</td>\n",
              "      <td>23176</td>\n",
              "      <td>ABC TREASURE BOOK BOX</td>\n",
              "      <td>8</td>\n",
              "      <td>2011-03-24 14:46:00</td>\n",
              "      <td>2.25</td>\n",
              "      <td>12408.0</td>\n",
              "      <td>Belgium</td>\n",
              "      <td>Thursday</td>\n",
              "    </tr>\n",
              "  </tbody>\n",
              "</table>\n",
              "</div>\n",
              "    <div class=\"colab-df-buttons\">\n",
              "\n",
              "  <div class=\"colab-df-container\">\n",
              "    <button class=\"colab-df-convert\" onclick=\"convertToInteractive('df-966b880e-ca07-411a-96bb-d854f710df85')\"\n",
              "            title=\"Convert this dataframe to an interactive table.\"\n",
              "            style=\"display:none;\">\n",
              "\n",
              "  <svg xmlns=\"http://www.w3.org/2000/svg\" height=\"24px\" viewBox=\"0 -960 960 960\">\n",
              "    <path d=\"M120-120v-720h720v720H120Zm60-500h600v-160H180v160Zm220 220h160v-160H400v160Zm0 220h160v-160H400v160ZM180-400h160v-160H180v160Zm440 0h160v-160H620v160ZM180-180h160v-160H180v160Zm440 0h160v-160H620v160Z\"/>\n",
              "  </svg>\n",
              "    </button>\n",
              "\n",
              "  <style>\n",
              "    .colab-df-container {\n",
              "      display:flex;\n",
              "      gap: 12px;\n",
              "    }\n",
              "\n",
              "    .colab-df-convert {\n",
              "      background-color: #E8F0FE;\n",
              "      border: none;\n",
              "      border-radius: 50%;\n",
              "      cursor: pointer;\n",
              "      display: none;\n",
              "      fill: #1967D2;\n",
              "      height: 32px;\n",
              "      padding: 0 0 0 0;\n",
              "      width: 32px;\n",
              "    }\n",
              "\n",
              "    .colab-df-convert:hover {\n",
              "      background-color: #E2EBFA;\n",
              "      box-shadow: 0px 1px 2px rgba(60, 64, 67, 0.3), 0px 1px 3px 1px rgba(60, 64, 67, 0.15);\n",
              "      fill: #174EA6;\n",
              "    }\n",
              "\n",
              "    .colab-df-buttons div {\n",
              "      margin-bottom: 4px;\n",
              "    }\n",
              "\n",
              "    [theme=dark] .colab-df-convert {\n",
              "      background-color: #3B4455;\n",
              "      fill: #D2E3FC;\n",
              "    }\n",
              "\n",
              "    [theme=dark] .colab-df-convert:hover {\n",
              "      background-color: #434B5C;\n",
              "      box-shadow: 0px 1px 3px 1px rgba(0, 0, 0, 0.15);\n",
              "      filter: drop-shadow(0px 1px 2px rgba(0, 0, 0, 0.3));\n",
              "      fill: #FFFFFF;\n",
              "    }\n",
              "  </style>\n",
              "\n",
              "    <script>\n",
              "      const buttonEl =\n",
              "        document.querySelector('#df-966b880e-ca07-411a-96bb-d854f710df85 button.colab-df-convert');\n",
              "      buttonEl.style.display =\n",
              "        google.colab.kernel.accessAllowed ? 'block' : 'none';\n",
              "\n",
              "      async function convertToInteractive(key) {\n",
              "        const element = document.querySelector('#df-966b880e-ca07-411a-96bb-d854f710df85');\n",
              "        const dataTable =\n",
              "          await google.colab.kernel.invokeFunction('convertToInteractive',\n",
              "                                                    [key], {});\n",
              "        if (!dataTable) return;\n",
              "\n",
              "        const docLinkHtml = 'Like what you see? Visit the ' +\n",
              "          '<a target=\"_blank\" href=https://colab.research.google.com/notebooks/data_table.ipynb>data table notebook</a>'\n",
              "          + ' to learn more about interactive tables.';\n",
              "        element.innerHTML = '';\n",
              "        dataTable['output_type'] = 'display_data';\n",
              "        await google.colab.output.renderOutput(dataTable, element);\n",
              "        const docLink = document.createElement('div');\n",
              "        docLink.innerHTML = docLinkHtml;\n",
              "        element.appendChild(docLink);\n",
              "      }\n",
              "    </script>\n",
              "  </div>\n",
              "\n",
              "\n",
              "<div id=\"df-e33fe1f4-5104-4a3e-8423-d10090ab00a5\">\n",
              "  <button class=\"colab-df-quickchart\" onclick=\"quickchart('df-e33fe1f4-5104-4a3e-8423-d10090ab00a5')\"\n",
              "            title=\"Suggest charts\"\n",
              "            style=\"display:none;\">\n",
              "\n",
              "<svg xmlns=\"http://www.w3.org/2000/svg\" height=\"24px\"viewBox=\"0 0 24 24\"\n",
              "     width=\"24px\">\n",
              "    <g>\n",
              "        <path d=\"M19 3H5c-1.1 0-2 .9-2 2v14c0 1.1.9 2 2 2h14c1.1 0 2-.9 2-2V5c0-1.1-.9-2-2-2zM9 17H7v-7h2v7zm4 0h-2V7h2v10zm4 0h-2v-4h2v4z\"/>\n",
              "    </g>\n",
              "</svg>\n",
              "  </button>\n",
              "\n",
              "<style>\n",
              "  .colab-df-quickchart {\n",
              "      --bg-color: #E8F0FE;\n",
              "      --fill-color: #1967D2;\n",
              "      --hover-bg-color: #E2EBFA;\n",
              "      --hover-fill-color: #174EA6;\n",
              "      --disabled-fill-color: #AAA;\n",
              "      --disabled-bg-color: #DDD;\n",
              "  }\n",
              "\n",
              "  [theme=dark] .colab-df-quickchart {\n",
              "      --bg-color: #3B4455;\n",
              "      --fill-color: #D2E3FC;\n",
              "      --hover-bg-color: #434B5C;\n",
              "      --hover-fill-color: #FFFFFF;\n",
              "      --disabled-bg-color: #3B4455;\n",
              "      --disabled-fill-color: #666;\n",
              "  }\n",
              "\n",
              "  .colab-df-quickchart {\n",
              "    background-color: var(--bg-color);\n",
              "    border: none;\n",
              "    border-radius: 50%;\n",
              "    cursor: pointer;\n",
              "    display: none;\n",
              "    fill: var(--fill-color);\n",
              "    height: 32px;\n",
              "    padding: 0;\n",
              "    width: 32px;\n",
              "  }\n",
              "\n",
              "  .colab-df-quickchart:hover {\n",
              "    background-color: var(--hover-bg-color);\n",
              "    box-shadow: 0 1px 2px rgba(60, 64, 67, 0.3), 0 1px 3px 1px rgba(60, 64, 67, 0.15);\n",
              "    fill: var(--button-hover-fill-color);\n",
              "  }\n",
              "\n",
              "  .colab-df-quickchart-complete:disabled,\n",
              "  .colab-df-quickchart-complete:disabled:hover {\n",
              "    background-color: var(--disabled-bg-color);\n",
              "    fill: var(--disabled-fill-color);\n",
              "    box-shadow: none;\n",
              "  }\n",
              "\n",
              "  .colab-df-spinner {\n",
              "    border: 2px solid var(--fill-color);\n",
              "    border-color: transparent;\n",
              "    border-bottom-color: var(--fill-color);\n",
              "    animation:\n",
              "      spin 1s steps(1) infinite;\n",
              "  }\n",
              "\n",
              "  @keyframes spin {\n",
              "    0% {\n",
              "      border-color: transparent;\n",
              "      border-bottom-color: var(--fill-color);\n",
              "      border-left-color: var(--fill-color);\n",
              "    }\n",
              "    20% {\n",
              "      border-color: transparent;\n",
              "      border-left-color: var(--fill-color);\n",
              "      border-top-color: var(--fill-color);\n",
              "    }\n",
              "    30% {\n",
              "      border-color: transparent;\n",
              "      border-left-color: var(--fill-color);\n",
              "      border-top-color: var(--fill-color);\n",
              "      border-right-color: var(--fill-color);\n",
              "    }\n",
              "    40% {\n",
              "      border-color: transparent;\n",
              "      border-right-color: var(--fill-color);\n",
              "      border-top-color: var(--fill-color);\n",
              "    }\n",
              "    60% {\n",
              "      border-color: transparent;\n",
              "      border-right-color: var(--fill-color);\n",
              "    }\n",
              "    80% {\n",
              "      border-color: transparent;\n",
              "      border-right-color: var(--fill-color);\n",
              "      border-bottom-color: var(--fill-color);\n",
              "    }\n",
              "    90% {\n",
              "      border-color: transparent;\n",
              "      border-bottom-color: var(--fill-color);\n",
              "    }\n",
              "  }\n",
              "</style>\n",
              "\n",
              "  <script>\n",
              "    async function quickchart(key) {\n",
              "      const quickchartButtonEl =\n",
              "        document.querySelector('#' + key + ' button');\n",
              "      quickchartButtonEl.disabled = true;  // To prevent multiple clicks.\n",
              "      quickchartButtonEl.classList.add('colab-df-spinner');\n",
              "      try {\n",
              "        const charts = await google.colab.kernel.invokeFunction(\n",
              "            'suggestCharts', [key], {});\n",
              "      } catch (error) {\n",
              "        console.error('Error during call to suggestCharts:', error);\n",
              "      }\n",
              "      quickchartButtonEl.classList.remove('colab-df-spinner');\n",
              "      quickchartButtonEl.classList.add('colab-df-quickchart-complete');\n",
              "    }\n",
              "    (() => {\n",
              "      let quickchartButtonEl =\n",
              "        document.querySelector('#df-e33fe1f4-5104-4a3e-8423-d10090ab00a5 button');\n",
              "      quickchartButtonEl.style.display =\n",
              "        google.colab.kernel.accessAllowed ? 'block' : 'none';\n",
              "    })();\n",
              "  </script>\n",
              "</div>\n",
              "\n",
              "    </div>\n",
              "  </div>\n"
            ],
            "application/vnd.google.colaboratory.intrinsic+json": {
              "type": "dataframe",
              "variable_name": "df"
            }
          },
          "metadata": {},
          "execution_count": 166
        }
      ]
    },
    {
      "cell_type": "code",
      "source": [
        "df.info()"
      ],
      "metadata": {
        "id": "Pf2KUZY8QPuL"
      },
      "execution_count": null,
      "outputs": []
    },
    {
      "cell_type": "markdown",
      "metadata": {
        "id": "vtV_KWBLUzRk"
      },
      "source": [
        "## Data Pre-processing (2 points)"
      ]
    },
    {
      "cell_type": "markdown",
      "metadata": {
        "id": "VcCVvb_RjPxy"
      },
      "source": [
        "Explore the dataset by performing the following operations:\n",
        "\n",
        "* There is a lot of redundant data. Identify such data and take appropriate action.\n",
        "\n",
        "  **Hint:** refer to this [link](https://pandas.pydata.org/pandas-docs/stable/reference/api/pandas.DataFrame.drop_duplicates.html)\n",
        "\n",
        "* Most Invoices appear as normal transactions with positive quantity and prices, but there are some prefixed with \"C\" or \"A\" which denote different transaction types. Invoice starting with C represents cancelled order and A represents the Adjusted. Identify such data and take appropriate action.\n",
        "\n",
        "  **Hint:** Check the negative values in Quantity column for all cancelled orders\n",
        "\n",
        "* Handle the null values by dropping or filling with appropriate mean\n",
        "\n",
        "\n",
        "* Some of the transactions based on the `StockCode` variable are not actually products, but representing the costs or fees regarding to the post or bank or other tansactions. Find such data and handle it accordingly.\n",
        "\n",
        "  Hint:\n",
        "    - The transaction with `'POST' 'PADS' 'M' 'DOT' 'C2' 'BANK CHARGES'` as their `StockCodes` are considered as irrelevant transactions.\n",
        "\n",
        "* Identify the outliers in the UntiPrice and Quantity and handle them accordingly.\n",
        "\n",
        "  **Hint:** [link](https://thecleverprogrammer.com/2023/07/26/detect-and-remove-outliers-using-python/)\n",
        "\n",
        "* Create a DayOfWeek column using `InvoiceDate`, Hint: pd.to_datetime()\n",
        "\n",
        "**Note:** Perform all the above operations using a function to reuse and apply the same for test data."
      ]
    },
    {
      "cell_type": "code",
      "source": [
        "def get_duplicate_row_count(data):\n",
        "    invoice_count = data.groupby(['InvoiceNo','StockCode']).size().reset_index(name='count')\n",
        "    return invoice_count['count'].value_counts()"
      ],
      "metadata": {
        "id": "zBWL5J6yNgzg"
      },
      "execution_count": 7,
      "outputs": []
    },
    {
      "cell_type": "code",
      "source": [
        "def getRowCountWithNoCustomerID(data):\n",
        "    return len(data[data['CustomerID'].isnull()])"
      ],
      "metadata": {
        "id": "9O2JiJ0fOPTd"
      },
      "execution_count": 65,
      "outputs": []
    },
    {
      "cell_type": "code",
      "source": [
        "def getRowCountWithStockCodeS(data):\n",
        "    return ((data['StockCode'] == 'S') & (data['CustomerID'] != 'nan')).sum()"
      ],
      "metadata": {
        "id": "2u-ShQQYUEPV"
      },
      "execution_count": 9,
      "outputs": []
    },
    {
      "cell_type": "code",
      "source": [
        "def getRowCountWithIrrelevantStockCode(data):\n",
        "    return data['StockCode'].isin(['POST', 'PADS', 'M', 'DOT', 'C2', 'BANK CHARGES']).sum()"
      ],
      "metadata": {
        "id": "gH1DVD7BWril"
      },
      "execution_count": 10,
      "outputs": []
    },
    {
      "cell_type": "code",
      "source": [
        "def getRowsWithQuantityOutliers(data, threshold = 2):\n",
        "    z_scores = np.abs(stats.zscore(data['Quantity']))\n",
        "    # Filter the data based on z-score threshold\n",
        "    return data[z_scores > threshold]"
      ],
      "metadata": {
        "id": "WwEO5lF-cyUP"
      },
      "execution_count": 136,
      "outputs": []
    },
    {
      "cell_type": "code",
      "source": [
        "def getRowsWithUnitPriceOutliers(data, threshold = 2):\n",
        "    z_scores = np.abs(stats.zscore(data['UnitPrice']))\n",
        "    # Filter the data based on z-score threshold\n",
        "    return data[z_scores > threshold]"
      ],
      "metadata": {
        "id": "NWLg7ipgc_Pm"
      },
      "execution_count": 137,
      "outputs": []
    },
    {
      "cell_type": "code",
      "source": [
        "def data_preprocessing(data):\n",
        "\n",
        "# Drop duplicates by comparing all the fields\n",
        "    data.drop_duplicates(inplace=True)\n",
        "    data.drop(data[data['CustomerID'].isnull()].index, inplace=True)\n",
        "\n",
        "    rows = data[data['StockCode'].isin(['POST', 'PADS', 'M', 'DOT', 'C2', 'BANK CHARGES'])]\n",
        "    data.drop((rows).index, inplace=True)\n",
        "\n",
        "# As the no. of outliers is very small, I decided to remove the rows with outliers\n",
        "    outlier_index_quantity = getRowsWithQuantityOutliers(data).index\n",
        "    data.drop(outlier_index_quantity, inplace=True)\n",
        "\n",
        "    outlier_index_unitprice = getRowsWithUnitPriceOutliers(data).index\n",
        "    data.drop(outlier_index_unitprice, inplace=True)\n",
        "\n",
        "# Add DayOfWeek Column\n",
        "    # Convert 'InvoiceDate' to datetime objects\n",
        "    data['InvoiceDate'] = pd.to_datetime(data['InvoiceDate'])\n",
        "\n",
        "    # Create the 'DayOfWeek' column\n",
        "    data['DayOfWeek'] = data['InvoiceDate'].dt.day_name()\n"
      ],
      "metadata": {
        "id": "dOChfuicXl4R"
      },
      "execution_count": 129,
      "outputs": []
    },
    {
      "cell_type": "code",
      "source": [
        "def boxplot_preprocessing(original_quantity_range,original_unitprice_range,df):\n",
        "\n",
        "    # Box plot for Quantity\n",
        "    plt.figure(figsize=(5, 4))  # Adjust figure size if needed\n",
        "    sns.boxplot(x=df['Quantity'])\n",
        "    plt.title('Box Plot of Quantity Before Preprocessing')\n",
        "    plt.xlabel('Quantity')\n",
        "    plt.xlim(original_quantity_range)\n",
        "    plt.show()\n",
        "\n",
        "    # Box plot for UnitPrice\n",
        "    plt.figure(figsize=(5, 4))  # Adjust figure size if needed\n",
        "    sns.boxplot(x=df['UnitPrice'])\n",
        "    plt.title('Box Plot of UnitPrice Before Preprocessing')\n",
        "    plt.xlabel('UnitPrice')\n",
        "    plt.xlim(original_unitprice_range)\n",
        "    plt.show()"
      ],
      "metadata": {
        "id": "3dLCg59C3bwY"
      },
      "execution_count": 163,
      "outputs": []
    },
    {
      "cell_type": "code",
      "source": [
        "def before_preprocessing(df):\n",
        "    print(\"BEFORE PREPROCESSING\")\n",
        "    print(f\"No. of duplicate rows with count: {get_duplicate_row_count(df)}\")\n",
        "    print(f\"No. of rows with no customer ID: {getRowCountWithNoCustomerID(df)}\")\n",
        "    print(f\"No. of rows with Sample StockCode and customer ID is not null: {getRowCountWithStockCodeS(df)}\")\n",
        "    print(f\"No. of rows with irrelevant StockCodes: {getRowCountWithIrrelevantStockCode(df)}\")\n",
        "    print(f\"Z Score of Quantity: {getRowsWithQuantityOutliers(df)['Quantity'].count()}\")\n",
        "    print(f\"Z Score of UnitPrice: {getRowsWithUnitPriceOutliers(df)['UnitPrice'].count()}\")"
      ],
      "metadata": {
        "id": "7qrO30NIohvV"
      },
      "execution_count": 150,
      "outputs": []
    },
    {
      "cell_type": "code",
      "source": [
        "def after_preprocessing(df):\n",
        "\n",
        "    print(\"AFTER PREPROCESSING\")\n",
        "    print(f\"No. of duplicate rows with count: {get_duplicate_row_count(df)}\")\n",
        "    print(f\"No. of rows with no customer ID: {getRowCountWithNoCustomerID(df)}\")\n",
        "    print(f\"No. of rows with Sample StockCode and customer ID is not null: {getRowCountWithStockCodeS(df)}\")\n",
        "    print(f\"No. of rows with irrelevant StockCodes: {getRowCountWithIrrelevantStockCode(df)}\")\n"
      ],
      "metadata": {
        "id": "rXviBZxvO70a"
      },
      "execution_count": 149,
      "outputs": []
    },
    {
      "cell_type": "code",
      "source": [
        "# Process Training Data\n",
        "original_quantity_range = (df['Quantity'].min(), df['Quantity'].max())\n",
        "original_unitprice_range = (df['UnitPrice'].min(), df['UnitPrice'].max())\n",
        "\n",
        "boxplot_preprocessing(original_quantity_range,original_unitprice_range,df)\n",
        "before_preprocessing(df)\n",
        "data_preprocessing(df)\n",
        "after_preprocessing(df)\n",
        "boxplot_preprocessing(original_quantity_range,original_unitprice_range,df)"
      ],
      "metadata": {
        "id": "8D2fBFhEfYfY"
      },
      "execution_count": null,
      "outputs": []
    },
    {
      "cell_type": "code",
      "source": [
        "# Process Test Data\n",
        "original_quantity_range_test = (df_test['Quantity'].min(), df_test['Quantity'].max())\n",
        "original_unitprice_range_test = (df_test['UnitPrice'].min(), df_test['UnitPrice'].max())\n",
        "\n",
        "boxplot_preprocessing(original_quantity_range_test,original_unitprice_range_test,df_test)\n",
        "before_preprocessing(df_test)\n",
        "data_preprocessing(df_test)\n",
        "after_preprocessing(df_test)\n",
        "boxplot_preprocessing(original_quantity_range_test,original_unitprice_range_test,df_test)"
      ],
      "metadata": {
        "id": "f4fjsAkT600o",
        "outputId": "0d96f2b3-2c7e-4f2b-ecd3-9e26b2920da5",
        "colab": {
          "base_uri": "https://localhost:8080/",
          "height": 1000
        }
      },
      "execution_count": 165,
      "outputs": [
        {
          "output_type": "display_data",
          "data": {
            "text/plain": [
              "<Figure size 500x400 with 1 Axes>"
            ],
            "image/png": "[encoded data removed]"
          },
          "metadata": {}
        },
        {
          "output_type": "display_data",
          "data": {
            "text/plain": [
              "<Figure size 500x400 with 1 Axes>"
            ],
            "image/png": "[encoded data removed]"
          },
          "metadata": {}
        },
        {
          "output_type": "stream",
          "name": "stdout",
          "text": [
            "BEFORE PREPROCESSING\n",
            "No. of duplicate rows with count: count\n",
            "1    27047\n",
            "2       23\n",
            "3        1\n",
            "Name: count, dtype: int64\n",
            "No. of rows with no customer ID: 6817\n",
            "No. of rows with Sample StockCode and customer ID is not null: 1\n",
            "No. of rows with irrelevant StockCodes: 137\n",
            "Z Score of Quantity: 433\n",
            "Z Score of UnitPrice: 18\n",
            "AFTER PREPROCESSING\n",
            "No. of duplicate rows with count: count\n",
            "1    19811\n",
            "2        8\n",
            "Name: count, dtype: int64\n",
            "No. of rows with no customer ID: 0\n",
            "No. of rows with Sample StockCode and customer ID is not null: 0\n",
            "No. of rows with irrelevant StockCodes: 0\n"
          ]
        },
        {
          "output_type": "display_data",
          "data": {
            "text/plain": [
              "<Figure size 500x400 with 1 Axes>"
            ],
            "image/png": "[encoded data removed]"
          },
          "metadata": {}
        },
        {
          "output_type": "display_data",
          "data": {
            "text/plain": [
              "<Figure size 500x400 with 1 Axes>"
            ],
            "image/png": "[encoded data removed]"
          },
          "metadata": {}
        }
      ]
    },
    {
      "cell_type": "markdown",
      "metadata": {
        "id": "graphic-vampire"
      },
      "source": [
        "## Understanding new insights from the data (1 point)"
      ]
    },
    {
      "cell_type": "markdown",
      "metadata": {
        "id": "furnished-station"
      },
      "source": [
        "1.  Are there any free items in the data? How many are there?\n",
        "\n",
        "2.  Find the number of transactions per country and visualize using an appropriate plot\n",
        "\n",
        "3.  What is the ratio of customers who are repeat purchasers vs single-time purchasers? Visualize using an appropriate plot.\n",
        "\n",
        "4. Plot heatmap showing unit price per month and day of the week\n",
        "\n",
        "  **Hint:** Month name as index on Y-axis, Day of the week on X-axis\n",
        "\n",
        "5. Find the top 10 customers who bought the most no.of items. Also find the top 10 Items bought by most no.of customers."
      ]
    },
    {
      "cell_type": "code",
      "metadata": {
        "id": "Fe-6_IuzFJJM",
        "colab": {
          "base_uri": "https://localhost:8080/"
        },
        "outputId": "4cf4d303-0264-40c1-90b5-f4d67e3157b9"
      },
      "source": [
        "# YOUR CODE HERE\n",
        "# Check Free Items in the Data\n",
        "print(len(df[df['UnitPrice'] == 0]))\n",
        "#Answer : Yes"
      ],
      "execution_count": 167,
      "outputs": [
        {
          "output_type": "stream",
          "name": "stdout",
          "text": [
            "30\n"
          ]
        }
      ]
    },
    {
      "cell_type": "code",
      "source": [
        "#Transactions per Country\n",
        "transactions_per_country = df.groupby('Country')['InvoiceNo'].nunique().sort_values(ascending=False)\n"
      ],
      "metadata": {
        "id": "2Y7fzFxH87JE"
      },
      "execution_count": 169,
      "outputs": []
    },
    {
      "cell_type": "code",
      "source": [
        "# Bar Plot\n",
        "plt.figure(figsize=(12, 6))\n",
        "sns.barplot(x=transactions_per_country.index, y=transactions_per_country.values)\n",
        "plt.title('Number of Transactions per Country')\n",
        "plt.xlabel('Country')\n",
        "plt.ylabel('Number of Transactions')\n",
        "plt.xticks(rotation=90)  # Rotate x-axis labels for better readability\n",
        "plt.show()\n",
        "\n",
        "#Answer : Mostly Data is from UK. Data is Skewed w.r.t country"
      ],
      "metadata": {
        "id": "be-m6KdU9Qm2",
        "outputId": "87e5d22b-310c-4e90-bb98-f36b5f8606b1",
        "colab": {
          "base_uri": "https://localhost:8080/",
          "height": 625
        }
      },
      "execution_count": 170,
      "outputs": [
        {
          "output_type": "display_data",
          "data": {
            "text/plain": [
              "<Figure size 1200x600 with 1 Axes>"
            ],
            "image/png": "[encoded data removed]"
          },
          "metadata": {}
        }
      ]
    },
    {
      "cell_type": "code",
      "source": [
        "# Repeat purchase vs Single Time Purchase\n",
        "purchase_frequency = df.groupby('CustomerID')['InvoiceNo'].nunique()\n",
        "repeat_purchase = purchase_frequency[purchase_frequency > 1].count()\n",
        "single_time_purchase = purchase_frequency[purchase_frequency == 1].count()\n",
        "\n",
        "total_customer = repeat_purchase + single_time_purchase\n",
        "repeat_ratio = repeat_purchase / total_customer\n",
        "single_time_ratio = single_time_purchase / total_customer\n",
        "\n",
        "# Visualize using a pie chart\n",
        "labels = ['Repeat Purchasers', 'Single-time Purchasers']\n",
        "sizes = [repeat_ratio, single_time_ratio]\n",
        "colors = ['skyblue', 'lightcoral']\n",
        "explode = (0.1, 0)  # Explode the first slice (Repeat Purchasers)\n",
        "\n",
        "plt.figure(figsize=(4, 4))\n",
        "plt.pie(sizes, explode=explode, labels=labels, colors=colors, autopct='%1.1f%%', shadow=True, startangle=90)\n",
        "plt.title('Ratio of Repeat Purchasers vs. Single-time Purchasers')\n",
        "plt.axis('equal')  # Equal aspect ratio ensures that pie is drawn as a circle.\n",
        "plt.show()\n",
        "\n"
      ],
      "metadata": {
        "id": "qyD256NR-DMh",
        "outputId": "d29851a6-fca8-4205-f84f-3ce58d5d310c",
        "colab": {
          "base_uri": "https://localhost:8080/",
          "height": 367
        }
      },
      "execution_count": 179,
      "outputs": [
        {
          "output_type": "display_data",
          "data": {
            "text/plain": [
              "<Figure size 400x400 with 1 Axes>"
            ],
            "image/png": "[encoded data removed]"
          },
          "metadata": {}
        }
      ]
    },
    {
      "cell_type": "code",
      "source": [],
      "metadata": {
        "id": "hjUfVgpBDKuD"
      },
      "execution_count": null,
      "outputs": []
    },
    {
      "cell_type": "markdown",
      "metadata": {
        "id": "royal-chancellor"
      },
      "source": [
        "## Feature Engineering and Transformation (2 points)"
      ]
    },
    {
      "cell_type": "markdown",
      "metadata": {
        "id": "dietary-willow"
      },
      "source": [
        "### Create new features to uncover better insights and drop the unwanted columns\n",
        "\n",
        "* Create a new column which represents Total amount spent by each customer\n",
        "\n",
        "    **Hint:** Quantity * UnitPrice\n",
        "\n",
        "* Customer IDs are seen to be repeated. Maintain unique customer IDs by grouping and summing up all possible observations per customer.\n",
        "\n",
        "    **Hint:** [pandas.groupby.agg](https://pandas.pydata.org/pandas-docs/version/0.22/generated/pandas.core.groupby.DataFrameGroupBy.agg.html)\n",
        "\n",
        "**Note:** Perform the above operations in function, to reuse and apply the same for test data"
      ]
    },
    {
      "cell_type": "code",
      "metadata": {
        "id": "WCRODVjAdZuu"
      },
      "source": [
        "# YOUR CODE HERE"
      ],
      "execution_count": null,
      "outputs": []
    },
    {
      "cell_type": "markdown",
      "metadata": {
        "id": "respected-empire"
      },
      "source": [
        "### Scale the data\n",
        "\n",
        "Apply `StandardScaler` on the features."
      ]
    },
    {
      "cell_type": "code",
      "metadata": {
        "id": "jEsufbR_dZuv"
      },
      "source": [
        "# YOUR CODE HERE for scaling"
      ],
      "execution_count": null,
      "outputs": []
    },
    {
      "cell_type": "markdown",
      "metadata": {
        "id": "smooth-florist"
      },
      "source": [
        "## Clustering ( 5 points)"
      ]
    },
    {
      "cell_type": "markdown",
      "metadata": {
        "id": "rn1qD44PI0H_"
      },
      "source": [
        "### Apply k-means algorithm to identify a specific number of clusters\n",
        "\n",
        "\n",
        "* Fit the k-means model\n",
        "\n",
        "* Extract and store the cluster centroids\n",
        "\n",
        "Below are the parameters for k-means, which are helpful\n",
        "\n",
        "**n_clusters** is no. of clusters specified\n",
        "\n",
        "**k-means++** is a random initialization method for centroids to avoid random initialisation trap\n",
        "\n",
        "**max_iter** is max no of iterations defined when k-means is running\n",
        "\n",
        "**n_init** is no. of times k-means will run with different initial centroids\n",
        "\n",
        "[why-is-k-means-slower-than-random-initialization-k-means](https://stats.stackexchange.com/questions/185396/why-is-k-means-slower-than-random-initialization-k-means/185422)"
      ]
    },
    {
      "cell_type": "code",
      "metadata": {
        "id": "GDjIF0_4HiIM"
      },
      "source": [
        "# YOUR CODE HERE to apply KMeans"
      ],
      "execution_count": null,
      "outputs": []
    },
    {
      "cell_type": "markdown",
      "metadata": {
        "id": "bpmFFF3VdZux"
      },
      "source": [
        "#### Find the optimal number of clusters (K) by using the [Elbow method](https://pythonprogramminglanguage.com/kmeans-elbow-method/).\n",
        "\n",
        "Use the optimal no. of clusters and store the cluster centroids"
      ]
    },
    {
      "cell_type": "code",
      "metadata": {
        "id": "c3Db3IVBdZuy"
      },
      "source": [
        "# YOUR CODE HERE"
      ],
      "execution_count": null,
      "outputs": []
    },
    {
      "cell_type": "markdown",
      "metadata": {
        "id": "0q7nKnfVK_Yj"
      },
      "source": [
        "### Apply DBSCAN algorithm for clustering\n",
        "\n",
        "- Compare the results of clusters from k-means and DBSCAN\n"
      ]
    },
    {
      "cell_type": "code",
      "metadata": {
        "id": "O8ahr6ctjp9o"
      },
      "source": [
        "# YOUR CODE HERE"
      ],
      "execution_count": null,
      "outputs": []
    },
    {
      "cell_type": "markdown",
      "metadata": {
        "id": "FarGC20zgjHj"
      },
      "source": [
        "### Analyze the clusters\n",
        "\n",
        "\n",
        "- consider two features and visualize the clusters with different colors using the predicted cluster centers.\n",
        "\n",
        "  **Hint:** 2D plot\n",
        "\n",
        "- consider three features and visualize the clusters with different colors using the predicted cluster centers.\n",
        "\n",
        "  **Hint:** [3D plot](https://matplotlib.org/stable/gallery/mplot3d/scatter3d.html\n",
        ")"
      ]
    },
    {
      "cell_type": "code",
      "metadata": {
        "id": "07MVOFIidZuz"
      },
      "source": [
        "# YOUR CODE HERE"
      ],
      "execution_count": null,
      "outputs": []
    },
    {
      "cell_type": "markdown",
      "metadata": {
        "id": "zef_pWaE20pP"
      },
      "source": [
        "### Train a supervised algorithm on clustered data\n",
        "\n",
        "This will allow us to predict cluster numbers (label) for each test data instance\n",
        "\n",
        "* Create labelled data with k-means cluster labels\n",
        "  \n",
        "  **Hint**: [`kmeans.labels_`](https://scikit-learn.org/stable/modules/generated/sklearn.cluster.KMeans.html\n",
        ")\n",
        "* Split the data into train and validation sets\n",
        "* Train a supervised algorithm on the train data\n",
        "* Find the accuracy of the model using validation data"
      ]
    },
    {
      "cell_type": "code",
      "metadata": {
        "id": "YLCHn9-j5ooT"
      },
      "source": [
        "# YOUR CODE HERE"
      ],
      "execution_count": null,
      "outputs": []
    },
    {
      "cell_type": "markdown",
      "metadata": {
        "id": "cUWhJeDpzh7Z"
      },
      "source": [
        "### Evaluation of Test Data\n",
        "* Use the model to predict the labels for the Test data below\n",
        "* Format the test data in the same format as the train data.\n",
        "* Predict it with trained supervised ML model"
      ]
    },
    {
      "cell_type": "code",
      "metadata": {
        "id": "fvfXQ8JNkBZ3"
      },
      "source": [
        "# Test set provided as below\n",
        "test = pd.read_csv(\"Online_Retail_Test.csv\")\n",
        "test.head(3)"
      ],
      "execution_count": null,
      "outputs": []
    },
    {
      "cell_type": "code",
      "metadata": {
        "id": "B4rEobc5FSS_"
      },
      "source": [
        "# YOUR CODE HERE"
      ],
      "execution_count": null,
      "outputs": []
    },
    {
      "cell_type": "markdown",
      "metadata": {
        "id": "ZAXIXD9S7Jxx"
      },
      "source": [
        "### Report Analysis\n",
        "\n",
        "- Discuss the pros and cons of removing the missing values vs replacing with the mean values\n",
        "- Based on the visualization of clusters, comment on the difference in buying patterns of each cluster\n",
        "- What other methods could be used to determine the optimal no. of clusters?"
      ]
    }
  ]
}