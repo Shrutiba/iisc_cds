{
  "nbformat": 4,
  "nbformat_minor": 0,
  "metadata": {
    "kernelspec": {
      "display_name": "Python 3",
      "language": "python",
      "name": "python3"
    },
    "language_info": {
      "codemirror_mode": {
        "name": "ipython",
        "version": 3
      },
      "file_extension": ".py",
      "mimetype": "text/x-python",
      "name": "python",
      "nbconvert_exporter": "python",
      "pygments_lexer": "ipython3",
      "version": "3.8.5"
    },
    "colab": {
      "provenance": [],
      "collapsed_sections": [
        "Oj5K6S205zOr",
        "yGwgnBBK5zOr"
      ],
      "include_colab_link": true
    }
  },
  "cells": [
    {
      "cell_type": "markdown",
      "metadata": {
        "id": "view-in-github",
        "colab_type": "text"
      },
      "source": [
        "<a href=\"https://colab.research.google.com/github/Shrutiba/iisc_cds/blob/main/M1_AST_01_Probability_Basics_A.ipynb\" target=\"_parent\"><img src=\"https://colab.research.google.com/assets/colab-badge.svg\" alt=\"Open In Colab\"/></a>"
      ]
    },
    {
      "cell_type": "markdown",
      "metadata": {
        "id": "timuV6PR5zOW"
      },
      "source": [
        "# Advanced Certification Program in Computational Data Science\n",
        "## A program by IISc and TalentSprint\n",
        "### Assignment 1: Probability basics"
      ]
    },
    {
      "cell_type": "markdown",
      "metadata": {
        "id": "ouYCH7ct5zOe"
      },
      "source": [
        "## Learning Objectives"
      ]
    },
    {
      "cell_type": "markdown",
      "metadata": {
        "id": "AA0EDJOI5zOe"
      },
      "source": [
        "At the end of the experiment, you will be able to\n",
        "\n",
        "* understand the terms like experiment, outcome, sample space and event, as related to probability\n",
        "* check if the events are mutually exclusive events\n",
        "* understand the difference between dependent and independent events\n",
        "* understand the concepts of discrete and continuous random variables and distributions associated with them like PMF, PDF and joint distributions"
      ]
    },
    {
      "cell_type": "markdown",
      "metadata": {
        "id": "5znpFTjV5zOf"
      },
      "source": [
        "### Dataset"
      ]
    },
    {
      "cell_type": "markdown",
      "metadata": {
        "id": "j0B3FF3I5zOf"
      },
      "source": [
        "The dataset chosen for this assignment is [Productivity Prediction of Garment Employees](https://archive.ics.uci.edu/ml/datasets/Productivity+Prediction+of+Garment+Employees). The dataset is made up of 1197 records and 15 columns. It includes important attributes of the garment manufacturing process and the productivity of the employees. Some of the features are listed below\n",
        "- date : date\n",
        "- day : day of the Week\n",
        "- quarter : a portion of the month. A month was divided into four or five quarters\n",
        "- department : associated department with the instance\n",
        "- team : associated team number with the instance\n",
        "\n",
        "Here, we will be using four features which are *department*, *day* of week, *quarter* of month and *team* number to cover the learning objectives and see how selection from one feature affects the selection from other feature. Also we will check their dependency when they are occurring simultaneously as well as one after the other.\n",
        "\n",
        "To know more about other features of the dataset click [here](https://archive.ics.uci.edu/ml/datasets/Productivity+Prediction+of+Garment+Employees)."
      ]
    },
    {
      "cell_type": "markdown",
      "metadata": {
        "id": "R1O7mGoD5zOg"
      },
      "source": [
        "## Information"
      ]
    },
    {
      "cell_type": "markdown",
      "metadata": {
        "id": "eRy9hJpv5zOh"
      },
      "source": [
        "**Why do we need probability for Data Science?**\n",
        "\n",
        "Learning probability helps in making informed decisions about likelihood of events, based on a pattern of collected data. In the context of data science, statistical inferences are often used to analyze or predict trends from data and these inferences use probability distributions of data. Using probability, we can model elements of uncertainty such as risk in financial transactions and many other business processes such as risk evaluation, sales forecasting, market research etc.\n",
        "\n",
        "**Terminology**\n",
        "\n",
        "The basic terms related to probability are as follows:\n",
        "\n",
        "- **Experiment:** an action where the result is uncertain even though all the possible outcomes related to it are known in advance.\n",
        "- **Outcome:**  a possible result of an experiment or trial.\n",
        "- **Sample space:** the set of all possible outcomes associated with a random experiment.\n",
        "- **Event:** a subset of sample space or the single result of an experiment.\n",
        "- **Mutually exclusive events:** two events are mutually exclusive if the probability of occurrence of both events simultaneously is zero.\n",
        "- **Dependent events:** two events are dependent if the occurrence of the first affects the occurrence of the second, so the probability is changed.\n",
        "- **Independent events:** two events are independent if occurring or non-occurring of one does not affect the occurring or non-occurring of a second.\n",
        "- **Random variable:** a numerical quantity that is generated by a random experiment.\n",
        "- **Discrete random variable:** a random variable having either a finite or a countable number of possible values.\n",
        "- **Continuous random variable:**  a random variable having a whole interval of numbers of possible values.\n",
        "- **Probability mass function:** a probability function associated with a discrete random variable.\n",
        "- **Probability density function:** a probability function associated with a continuous random variable.\n",
        "- **Joint distributions:** the joint probability distribution for X, Y,.. is a probability distribution that gives the probability that each of X, Y,.. falls in any particular range or discrete set of values specified for that variable."
      ]
    },
    {
      "cell_type": "markdown",
      "metadata": {
        "id": "BNLA8HiKxQhc"
      },
      "source": [
        "### Setup Steps:"
      ]
    },
    {
      "cell_type": "code",
      "metadata": {
        "id": "2YzfoPvJDiTX"
      },
      "source": [
        "#@title Please enter your registration id to start: { run: \"auto\", display-mode: \"form\" }\n",
        "Id = \"2417774\" #@param {type:\"string\"}"
      ],
      "execution_count": 46,
      "outputs": []
    },
    {
      "cell_type": "code",
      "metadata": {
        "id": "AjoZJWGErxGf"
      },
      "source": [
        "#@title Please enter your password (your registered phone number) to continue: { run: \"auto\", display-mode: \"form\" }\n",
        "password = \"9886610342\" #@param {type:\"string\"}"
      ],
      "execution_count": 47,
      "outputs": []
    },
    {
      "cell_type": "code",
      "metadata": {
        "id": "WBPPuGmBlDIN",
        "cellView": "form",
        "colab": {
          "base_uri": "https://localhost:8080/",
          "height": 35
        },
        "outputId": "c16b169c-04c3-42aa-eb36-12d0a7771c55"
      },
      "source": [
        "#@title Run this cell to complete the setup for this Notebook\n",
        "from IPython import get_ipython\n",
        "\n",
        "ipython = get_ipython()\n",
        "\n",
        "notebook= \"M1_AST_01_Probability_Basics_A\" #name of the notebook\n",
        "\n",
        "def setup():\n",
        "#  ipython.magic(\"sx pip3 install torch\")\n",
        "    ipython.magic(\"sx wget https://cdn.iisc.talentsprint.com/CDS/Datasets/garments_worker_productivity.csv\")\n",
        "    from IPython.display import HTML, display\n",
        "    display(HTML('<script src=\"https://dashboard.talentsprint.com/aiml/record_ip.html?traineeId={0}&recordId={1}\"></script>'.format(getId(),submission_id)))\n",
        "    print(\"Setup completed successfully\")\n",
        "    return\n",
        "\n",
        "def submit_notebook():\n",
        "    ipython.magic(\"notebook -e \"+ notebook + \".ipynb\")\n",
        "\n",
        "    import requests, json, base64, datetime\n",
        "\n",
        "    url = \"https://dashboard.talentsprint.com/xp/app/save_notebook_attempts\"\n",
        "    if not submission_id:\n",
        "      data = {\"id\" : getId(), \"notebook\" : notebook, \"mobile\" : getPassword()}\n",
        "      r = requests.post(url, data = data)\n",
        "      r = json.loads(r.text)\n",
        "\n",
        "      if r[\"status\"] == \"Success\":\n",
        "          return r[\"record_id\"]\n",
        "      elif \"err\" in r:\n",
        "        print(r[\"err\"])\n",
        "        return None\n",
        "      else:\n",
        "        print (\"Something is wrong, the notebook will not be submitted for grading\")\n",
        "        return None\n",
        "\n",
        "    elif getAnswer() and getComplexity() and getAdditional() and getConcepts() and getComments() and getMentorSupport():\n",
        "      f = open(notebook + \".ipynb\", \"rb\")\n",
        "      file_hash = base64.b64encode(f.read())\n",
        "\n",
        "      data = {\"complexity\" : Complexity, \"additional\" :Additional,\n",
        "              \"concepts\" : Concepts, \"record_id\" : submission_id,\n",
        "              \"answer\" : Answer, \"id\" : Id, \"file_hash\" : file_hash,\n",
        "              \"notebook\" : notebook,\n",
        "              \"feedback_experiments_input\" : Comments,\n",
        "              \"feedback_mentor_support\": Mentor_support}\n",
        "      r = requests.post(url, data = data)\n",
        "      r = json.loads(r.text)\n",
        "      if \"err\" in r:\n",
        "        print(r[\"err\"])\n",
        "        return None\n",
        "      else:\n",
        "        print(\"Your submission is successful.\")\n",
        "        print(\"Ref Id:\", submission_id)\n",
        "        print(\"Date of submission: \", r[\"date\"])\n",
        "        print(\"Time of submission: \", r[\"time\"])\n",
        "        print(\"View your submissions: https://learn-iisc.talentsprint.com/notebook_submissions\")\n",
        "        #print(\"For any queries/discrepancies, please connect with mentors through the chat icon in LMS dashboard.\")\n",
        "        return submission_id\n",
        "    else: submission_id\n",
        "\n",
        "\n",
        "def getAdditional():\n",
        "  try:\n",
        "    if not Additional:\n",
        "      raise NameError\n",
        "    else:\n",
        "      return Additional\n",
        "  except NameError:\n",
        "    print (\"Please answer Additional Question\")\n",
        "    return None\n",
        "\n",
        "def getComplexity():\n",
        "  try:\n",
        "    if not Complexity:\n",
        "      raise NameError\n",
        "    else:\n",
        "      return Complexity\n",
        "  except NameError:\n",
        "    print (\"Please answer Complexity Question\")\n",
        "    return None\n",
        "\n",
        "def getConcepts():\n",
        "  try:\n",
        "    if not Concepts:\n",
        "      raise NameError\n",
        "    else:\n",
        "      return Concepts\n",
        "  except NameError:\n",
        "    print (\"Please answer Concepts Question\")\n",
        "    return None\n",
        "\n",
        "\n",
        "# def getWalkthrough():\n",
        "#   try:\n",
        "#     if not Walkthrough:\n",
        "#       raise NameError\n",
        "#     else:\n",
        "#       return Walkthrough\n",
        "#   except NameError:\n",
        "#     print (\"Please answer Walkthrough Question\")\n",
        "#     return None\n",
        "\n",
        "def getComments():\n",
        "  try:\n",
        "    if not Comments:\n",
        "      raise NameError\n",
        "    else:\n",
        "      return Comments\n",
        "  except NameError:\n",
        "    print (\"Please answer Comments Question\")\n",
        "    return None\n",
        "\n",
        "\n",
        "def getMentorSupport():\n",
        "  try:\n",
        "    if not Mentor_support:\n",
        "      raise NameError\n",
        "    else:\n",
        "      return Mentor_support\n",
        "  except NameError:\n",
        "    print (\"Please answer Mentor support Question\")\n",
        "    return None\n",
        "\n",
        "def getAnswer():\n",
        "  try:\n",
        "    if not Answer:\n",
        "      raise NameError\n",
        "    else:\n",
        "      return Answer\n",
        "  except NameError:\n",
        "    print (\"Please answer Question\")\n",
        "    return None\n",
        "\n",
        "\n",
        "def getId():\n",
        "  try:\n",
        "    return Id if Id else None\n",
        "  except NameError:\n",
        "    return None\n",
        "\n",
        "def getPassword():\n",
        "  try:\n",
        "    return password if password else None\n",
        "  except NameError:\n",
        "    return None\n",
        "\n",
        "submission_id = None\n",
        "### Setup\n",
        "if getPassword() and getId():\n",
        "  submission_id = submit_notebook()\n",
        "  if submission_id:\n",
        "    setup()\n",
        "else:\n",
        "  print (\"Please complete Id and Password cells before running setup\")\n",
        "\n"
      ],
      "execution_count": 48,
      "outputs": [
        {
          "output_type": "display_data",
          "data": {
            "text/plain": [
              "<IPython.core.display.HTML object>"
            ],
            "text/html": [
              "<script src=\"https://dashboard.talentsprint.com/aiml/record_ip.html?traineeId=2417774&recordId=143\"></script>"
            ]
          },
          "metadata": {}
        },
        {
          "output_type": "stream",
          "name": "stdout",
          "text": [
            "Setup completed successfully\n"
          ]
        }
      ]
    },
    {
      "cell_type": "markdown",
      "metadata": {
        "id": "5_lhEIsC5zOh"
      },
      "source": [
        "#### Importing required packages"
      ]
    },
    {
      "cell_type": "code",
      "metadata": {
        "id": "Xsob229tP4Yx"
      },
      "source": [
        "import numpy as np\n",
        "import pandas as pd\n",
        "import scipy                        # scientific computation library\n",
        "import matplotlib.pyplot as plt     # Visualization\n",
        "import seaborn as sns               # Advaced Visualization with high level interface\n",
        "from scipy import integrate         # several integration techniques\n",
        "sns.set_style('whitegrid')"
      ],
      "execution_count": 49,
      "outputs": []
    },
    {
      "cell_type": "markdown",
      "metadata": {
        "id": "kOrvGnNy5zOi"
      },
      "source": [
        "#### Loading the data"
      ]
    },
    {
      "cell_type": "code",
      "metadata": {
        "id": "AHWkmRplWXI1"
      },
      "source": [
        "df_ = pd.read_csv('garments_worker_productivity.csv')"
      ],
      "execution_count": 50,
      "outputs": []
    },
    {
      "cell_type": "markdown",
      "metadata": {
        "id": "Hc99xXQi5zOj"
      },
      "source": [
        "#### Explore and preprocess dataset"
      ]
    },
    {
      "cell_type": "code",
      "metadata": {
        "id": "chv-IMR15zOj",
        "colab": {
          "base_uri": "https://localhost:8080/",
          "height": 163
        },
        "outputId": "fc96d153-d5bb-4c80-dd8f-45e3ab8acbc9"
      },
      "source": [
        "df_.head(n=3)"
      ],
      "execution_count": 51,
      "outputs": [
        {
          "output_type": "execute_result",
          "data": {
            "text/plain": [
              "       date   quarter  department       day  team  targeted_productivity  \\\n",
              "0  1/1/2015  Quarter1      sweing  Thursday     8                   0.80   \n",
              "1  1/1/2015  Quarter1  finishing   Thursday     1                   0.75   \n",
              "2  1/1/2015  Quarter1      sweing  Thursday    11                   0.80   \n",
              "\n",
              "     smv     wip  over_time  incentive  idle_time  idle_men  \\\n",
              "0  26.16  1108.0       7080         98        0.0         0   \n",
              "1   3.94     NaN        960          0        0.0         0   \n",
              "2  11.41   968.0       3660         50        0.0         0   \n",
              "\n",
              "   no_of_style_change  no_of_workers  actual_productivity  \n",
              "0                   0           59.0             0.940725  \n",
              "1                   0            8.0             0.886500  \n",
              "2                   0           30.5             0.800570  "
            ],
            "text/html": [
              "\n",
              "  <div id=\"df-380c4b0c-0374-4ce8-ba65-0c9c58059872\" class=\"colab-df-container\">\n",
              "    <div>\n",
              "<style scoped>\n",
              "    .dataframe tbody tr th:only-of-type {\n",
              "        vertical-align: middle;\n",
              "    }\n",
              "\n",
              "    .dataframe tbody tr th {\n",
              "        vertical-align: top;\n",
              "    }\n",
              "\n",
              "    .dataframe thead th {\n",
              "        text-align: right;\n",
              "    }\n",
              "</style>\n",
              "<table border=\"1\" class=\"dataframe\">\n",
              "  <thead>\n",
              "    <tr style=\"text-align: right;\">\n",
              "      <th></th>\n",
              "      <th>date</th>\n",
              "      <th>quarter</th>\n",
              "      <th>department</th>\n",
              "      <th>day</th>\n",
              "      <th>team</th>\n",
              "      <th>targeted_productivity</th>\n",
              "      <th>smv</th>\n",
              "      <th>wip</th>\n",
              "      <th>over_time</th>\n",
              "      <th>incentive</th>\n",
              "      <th>idle_time</th>\n",
              "      <th>idle_men</th>\n",
              "      <th>no_of_style_change</th>\n",
              "      <th>no_of_workers</th>\n",
              "      <th>actual_productivity</th>\n",
              "    </tr>\n",
              "  </thead>\n",
              "  <tbody>\n",
              "    <tr>\n",
              "      <th>0</th>\n",
              "      <td>1/1/2015</td>\n",
              "      <td>Quarter1</td>\n",
              "      <td>sweing</td>\n",
              "      <td>Thursday</td>\n",
              "      <td>8</td>\n",
              "      <td>0.80</td>\n",
              "      <td>26.16</td>\n",
              "      <td>1108.0</td>\n",
              "      <td>7080</td>\n",
              "      <td>98</td>\n",
              "      <td>0.0</td>\n",
              "      <td>0</td>\n",
              "      <td>0</td>\n",
              "      <td>59.0</td>\n",
              "      <td>0.940725</td>\n",
              "    </tr>\n",
              "    <tr>\n",
              "      <th>1</th>\n",
              "      <td>1/1/2015</td>\n",
              "      <td>Quarter1</td>\n",
              "      <td>finishing</td>\n",
              "      <td>Thursday</td>\n",
              "      <td>1</td>\n",
              "      <td>0.75</td>\n",
              "      <td>3.94</td>\n",
              "      <td>NaN</td>\n",
              "      <td>960</td>\n",
              "      <td>0</td>\n",
              "      <td>0.0</td>\n",
              "      <td>0</td>\n",
              "      <td>0</td>\n",
              "      <td>8.0</td>\n",
              "      <td>0.886500</td>\n",
              "    </tr>\n",
              "    <tr>\n",
              "      <th>2</th>\n",
              "      <td>1/1/2015</td>\n",
              "      <td>Quarter1</td>\n",
              "      <td>sweing</td>\n",
              "      <td>Thursday</td>\n",
              "      <td>11</td>\n",
              "      <td>0.80</td>\n",
              "      <td>11.41</td>\n",
              "      <td>968.0</td>\n",
              "      <td>3660</td>\n",
              "      <td>50</td>\n",
              "      <td>0.0</td>\n",
              "      <td>0</td>\n",
              "      <td>0</td>\n",
              "      <td>30.5</td>\n",
              "      <td>0.800570</td>\n",
              "    </tr>\n",
              "  </tbody>\n",
              "</table>\n",
              "</div>\n",
              "    <div class=\"colab-df-buttons\">\n",
              "\n",
              "  <div class=\"colab-df-container\">\n",
              "    <button class=\"colab-df-convert\" onclick=\"convertToInteractive('df-380c4b0c-0374-4ce8-ba65-0c9c58059872')\"\n",
              "            title=\"Convert this dataframe to an interactive table.\"\n",
              "            style=\"display:none;\">\n",
              "\n",
              "  <svg xmlns=\"http://www.w3.org/2000/svg\" height=\"24px\" viewBox=\"0 -960 960 960\">\n",
              "    <path d=\"M120-120v-720h720v720H120Zm60-500h600v-160H180v160Zm220 220h160v-160H400v160Zm0 220h160v-160H400v160ZM180-400h160v-160H180v160Zm440 0h160v-160H620v160ZM180-180h160v-160H180v160Zm440 0h160v-160H620v160Z\"/>\n",
              "  </svg>\n",
              "    </button>\n",
              "\n",
              "  <style>\n",
              "    .colab-df-container {\n",
              "      display:flex;\n",
              "      gap: 12px;\n",
              "    }\n",
              "\n",
              "    .colab-df-convert {\n",
              "      background-color: #E8F0FE;\n",
              "      border: none;\n",
              "      border-radius: 50%;\n",
              "      cursor: pointer;\n",
              "      display: none;\n",
              "      fill: #1967D2;\n",
              "      height: 32px;\n",
              "      padding: 0 0 0 0;\n",
              "      width: 32px;\n",
              "    }\n",
              "\n",
              "    .colab-df-convert:hover {\n",
              "      background-color: #E2EBFA;\n",
              "      box-shadow: 0px 1px 2px rgba(60, 64, 67, 0.3), 0px 1px 3px 1px rgba(60, 64, 67, 0.15);\n",
              "      fill: #174EA6;\n",
              "    }\n",
              "\n",
              "    .colab-df-buttons div {\n",
              "      margin-bottom: 4px;\n",
              "    }\n",
              "\n",
              "    [theme=dark] .colab-df-convert {\n",
              "      background-color: #3B4455;\n",
              "      fill: #D2E3FC;\n",
              "    }\n",
              "\n",
              "    [theme=dark] .colab-df-convert:hover {\n",
              "      background-color: #434B5C;\n",
              "      box-shadow: 0px 1px 3px 1px rgba(0, 0, 0, 0.15);\n",
              "      filter: drop-shadow(0px 1px 2px rgba(0, 0, 0, 0.3));\n",
              "      fill: #FFFFFF;\n",
              "    }\n",
              "  </style>\n",
              "\n",
              "    <script>\n",
              "      const buttonEl =\n",
              "        document.querySelector('#df-380c4b0c-0374-4ce8-ba65-0c9c58059872 button.colab-df-convert');\n",
              "      buttonEl.style.display =\n",
              "        google.colab.kernel.accessAllowed ? 'block' : 'none';\n",
              "\n",
              "      async function convertToInteractive(key) {\n",
              "        const element = document.querySelector('#df-380c4b0c-0374-4ce8-ba65-0c9c58059872');\n",
              "        const dataTable =\n",
              "          await google.colab.kernel.invokeFunction('convertToInteractive',\n",
              "                                                    [key], {});\n",
              "        if (!dataTable) return;\n",
              "\n",
              "        const docLinkHtml = 'Like what you see? Visit the ' +\n",
              "          '<a target=\"_blank\" href=https://colab.research.google.com/notebooks/data_table.ipynb>data table notebook</a>'\n",
              "          + ' to learn more about interactive tables.';\n",
              "        element.innerHTML = '';\n",
              "        dataTable['output_type'] = 'display_data';\n",
              "        await google.colab.output.renderOutput(dataTable, element);\n",
              "        const docLink = document.createElement('div');\n",
              "        docLink.innerHTML = docLinkHtml;\n",
              "        element.appendChild(docLink);\n",
              "      }\n",
              "    </script>\n",
              "  </div>\n",
              "\n",
              "\n",
              "<div id=\"df-f100c32b-4f3f-4022-a85d-3a924d65a786\">\n",
              "  <button class=\"colab-df-quickchart\" onclick=\"quickchart('df-f100c32b-4f3f-4022-a85d-3a924d65a786')\"\n",
              "            title=\"Suggest charts\"\n",
              "            style=\"display:none;\">\n",
              "\n",
              "<svg xmlns=\"http://www.w3.org/2000/svg\" height=\"24px\"viewBox=\"0 0 24 24\"\n",
              "     width=\"24px\">\n",
              "    <g>\n",
              "        <path d=\"M19 3H5c-1.1 0-2 .9-2 2v14c0 1.1.9 2 2 2h14c1.1 0 2-.9 2-2V5c0-1.1-.9-2-2-2zM9 17H7v-7h2v7zm4 0h-2V7h2v10zm4 0h-2v-4h2v4z\"/>\n",
              "    </g>\n",
              "</svg>\n",
              "  </button>\n",
              "\n",
              "<style>\n",
              "  .colab-df-quickchart {\n",
              "      --bg-color: #E8F0FE;\n",
              "      --fill-color: #1967D2;\n",
              "      --hover-bg-color: #E2EBFA;\n",
              "      --hover-fill-color: #174EA6;\n",
              "      --disabled-fill-color: #AAA;\n",
              "      --disabled-bg-color: #DDD;\n",
              "  }\n",
              "\n",
              "  [theme=dark] .colab-df-quickchart {\n",
              "      --bg-color: #3B4455;\n",
              "      --fill-color: #D2E3FC;\n",
              "      --hover-bg-color: #434B5C;\n",
              "      --hover-fill-color: #FFFFFF;\n",
              "      --disabled-bg-color: #3B4455;\n",
              "      --disabled-fill-color: #666;\n",
              "  }\n",
              "\n",
              "  .colab-df-quickchart {\n",
              "    background-color: var(--bg-color);\n",
              "    border: none;\n",
              "    border-radius: 50%;\n",
              "    cursor: pointer;\n",
              "    display: none;\n",
              "    fill: var(--fill-color);\n",
              "    height: 32px;\n",
              "    padding: 0;\n",
              "    width: 32px;\n",
              "  }\n",
              "\n",
              "  .colab-df-quickchart:hover {\n",
              "    background-color: var(--hover-bg-color);\n",
              "    box-shadow: 0 1px 2px rgba(60, 64, 67, 0.3), 0 1px 3px 1px rgba(60, 64, 67, 0.15);\n",
              "    fill: var(--button-hover-fill-color);\n",
              "  }\n",
              "\n",
              "  .colab-df-quickchart-complete:disabled,\n",
              "  .colab-df-quickchart-complete:disabled:hover {\n",
              "    background-color: var(--disabled-bg-color);\n",
              "    fill: var(--disabled-fill-color);\n",
              "    box-shadow: none;\n",
              "  }\n",
              "\n",
              "  .colab-df-spinner {\n",
              "    border: 2px solid var(--fill-color);\n",
              "    border-color: transparent;\n",
              "    border-bottom-color: var(--fill-color);\n",
              "    animation:\n",
              "      spin 1s steps(1) infinite;\n",
              "  }\n",
              "\n",
              "  @keyframes spin {\n",
              "    0% {\n",
              "      border-color: transparent;\n",
              "      border-bottom-color: var(--fill-color);\n",
              "      border-left-color: var(--fill-color);\n",
              "    }\n",
              "    20% {\n",
              "      border-color: transparent;\n",
              "      border-left-color: var(--fill-color);\n",
              "      border-top-color: var(--fill-color);\n",
              "    }\n",
              "    30% {\n",
              "      border-color: transparent;\n",
              "      border-left-color: var(--fill-color);\n",
              "      border-top-color: var(--fill-color);\n",
              "      border-right-color: var(--fill-color);\n",
              "    }\n",
              "    40% {\n",
              "      border-color: transparent;\n",
              "      border-right-color: var(--fill-color);\n",
              "      border-top-color: var(--fill-color);\n",
              "    }\n",
              "    60% {\n",
              "      border-color: transparent;\n",
              "      border-right-color: var(--fill-color);\n",
              "    }\n",
              "    80% {\n",
              "      border-color: transparent;\n",
              "      border-right-color: var(--fill-color);\n",
              "      border-bottom-color: var(--fill-color);\n",
              "    }\n",
              "    90% {\n",
              "      border-color: transparent;\n",
              "      border-bottom-color: var(--fill-color);\n",
              "    }\n",
              "  }\n",
              "</style>\n",
              "\n",
              "  <script>\n",
              "    async function quickchart(key) {\n",
              "      const quickchartButtonEl =\n",
              "        document.querySelector('#' + key + ' button');\n",
              "      quickchartButtonEl.disabled = true;  // To prevent multiple clicks.\n",
              "      quickchartButtonEl.classList.add('colab-df-spinner');\n",
              "      try {\n",
              "        const charts = await google.colab.kernel.invokeFunction(\n",
              "            'suggestCharts', [key], {});\n",
              "      } catch (error) {\n",
              "        console.error('Error during call to suggestCharts:', error);\n",
              "      }\n",
              "      quickchartButtonEl.classList.remove('colab-df-spinner');\n",
              "      quickchartButtonEl.classList.add('colab-df-quickchart-complete');\n",
              "    }\n",
              "    (() => {\n",
              "      let quickchartButtonEl =\n",
              "        document.querySelector('#df-f100c32b-4f3f-4022-a85d-3a924d65a786 button');\n",
              "      quickchartButtonEl.style.display =\n",
              "        google.colab.kernel.accessAllowed ? 'block' : 'none';\n",
              "    })();\n",
              "  </script>\n",
              "</div>\n",
              "\n",
              "    </div>\n",
              "  </div>\n"
            ],
            "application/vnd.google.colaboratory.intrinsic+json": {
              "type": "dataframe",
              "variable_name": "df_",
              "summary": "{\n  \"name\": \"df_\",\n  \"rows\": 1197,\n  \"fields\": [\n    {\n      \"column\": \"date\",\n      \"properties\": {\n        \"dtype\": \"object\",\n        \"num_unique_values\": 59,\n        \"samples\": [\n          \"1/1/2015\",\n          \"1/7/2015\",\n          \"2/10/2015\"\n        ],\n        \"semantic_type\": \"\",\n        \"description\": \"\"\n      }\n    },\n    {\n      \"column\": \"quarter\",\n      \"properties\": {\n        \"dtype\": \"category\",\n        \"num_unique_values\": 5,\n        \"samples\": [\n          \"Quarter2\",\n          \"Quarter5\",\n          \"Quarter3\"\n        ],\n        \"semantic_type\": \"\",\n        \"description\": \"\"\n      }\n    },\n    {\n      \"column\": \"department\",\n      \"properties\": {\n        \"dtype\": \"category\",\n        \"num_unique_values\": 3,\n        \"samples\": [\n          \"sweing\",\n          \"finishing \",\n          \"finishing\"\n        ],\n        \"semantic_type\": \"\",\n        \"description\": \"\"\n      }\n    },\n    {\n      \"column\": \"day\",\n      \"properties\": {\n        \"dtype\": \"category\",\n        \"num_unique_values\": 6,\n        \"samples\": [\n          \"Thursday\",\n          \"Saturday\",\n          \"Wednesday\"\n        ],\n        \"semantic_type\": \"\",\n        \"description\": \"\"\n      }\n    },\n    {\n      \"column\": \"team\",\n      \"properties\": {\n        \"dtype\": \"number\",\n        \"std\": 3,\n        \"min\": 1,\n        \"max\": 12,\n        \"num_unique_values\": 12,\n        \"samples\": [\n          5,\n          10,\n          8\n        ],\n        \"semantic_type\": \"\",\n        \"description\": \"\"\n      }\n    },\n    {\n      \"column\": \"targeted_productivity\",\n      \"properties\": {\n        \"dtype\": \"number\",\n        \"std\": 0.09789096325790585,\n        \"min\": 0.07,\n        \"max\": 0.8,\n        \"num_unique_values\": 9,\n        \"samples\": [\n          0.07,\n          0.75,\n          0.35\n        ],\n        \"semantic_type\": \"\",\n        \"description\": \"\"\n      }\n    },\n    {\n      \"column\": \"smv\",\n      \"properties\": {\n        \"dtype\": \"number\",\n        \"std\": 10.943219199514333,\n        \"min\": 2.9,\n        \"max\": 54.56,\n        \"num_unique_values\": 70,\n        \"samples\": [\n          14.61,\n          26.16,\n          30.1\n        ],\n        \"semantic_type\": \"\",\n        \"description\": \"\"\n      }\n    },\n    {\n      \"column\": \"wip\",\n      \"properties\": {\n        \"dtype\": \"number\",\n        \"std\": 1837.4550011056342,\n        \"min\": 7.0,\n        \"max\": 23122.0,\n        \"num_unique_values\": 548,\n        \"samples\": [\n          1287.0,\n          970.0,\n          958.0\n        ],\n        \"semantic_type\": \"\",\n        \"description\": \"\"\n      }\n    },\n    {\n      \"column\": \"over_time\",\n      \"properties\": {\n        \"dtype\": \"number\",\n        \"std\": 3348,\n        \"min\": 0,\n        \"max\": 25920,\n        \"num_unique_values\": 143,\n        \"samples\": [\n          5820,\n          6780,\n          7470\n        ],\n        \"semantic_type\": \"\",\n        \"description\": \"\"\n      }\n    },\n    {\n      \"column\": \"incentive\",\n      \"properties\": {\n        \"dtype\": \"number\",\n        \"std\": 160,\n        \"min\": 0,\n        \"max\": 3600,\n        \"num_unique_values\": 48,\n        \"samples\": [\n          55,\n          65,\n          81\n        ],\n        \"semantic_type\": \"\",\n        \"description\": \"\"\n      }\n    },\n    {\n      \"column\": \"idle_time\",\n      \"properties\": {\n        \"dtype\": \"number\",\n        \"std\": 12.709756518546547,\n        \"min\": 0.0,\n        \"max\": 300.0,\n        \"num_unique_values\": 12,\n        \"samples\": [\n          4.0,\n          3.5,\n          0.0\n        ],\n        \"semantic_type\": \"\",\n        \"description\": \"\"\n      }\n    },\n    {\n      \"column\": \"idle_men\",\n      \"properties\": {\n        \"dtype\": \"number\",\n        \"std\": 3,\n        \"min\": 0,\n        \"max\": 45,\n        \"num_unique_values\": 10,\n        \"samples\": [\n          25,\n          10,\n          30\n        ],\n        \"semantic_type\": \"\",\n        \"description\": \"\"\n      }\n    },\n    {\n      \"column\": \"no_of_style_change\",\n      \"properties\": {\n        \"dtype\": \"number\",\n        \"std\": 0,\n        \"min\": 0,\n        \"max\": 2,\n        \"num_unique_values\": 3,\n        \"samples\": [\n          0,\n          1,\n          2\n        ],\n        \"semantic_type\": \"\",\n        \"description\": \"\"\n      }\n    },\n    {\n      \"column\": \"no_of_workers\",\n      \"properties\": {\n        \"dtype\": \"number\",\n        \"std\": 22.19768668225038,\n        \"min\": 2.0,\n        \"max\": 89.0,\n        \"num_unique_values\": 61,\n        \"samples\": [\n          59.0,\n          55.0,\n          26.0\n        ],\n        \"semantic_type\": \"\",\n        \"description\": \"\"\n      }\n    },\n    {\n      \"column\": \"actual_productivity\",\n      \"properties\": {\n        \"dtype\": \"number\",\n        \"std\": 0.17448790350939525,\n        \"min\": 0.233705476,\n        \"max\": 1.1204375,\n        \"num_unique_values\": 879,\n        \"samples\": [\n          0.750031447,\n          0.750031898,\n          0.927291667\n        ],\n        \"semantic_type\": \"\",\n        \"description\": \"\"\n      }\n    }\n  ]\n}"
            }
          },
          "metadata": {},
          "execution_count": 51
        }
      ]
    },
    {
      "cell_type": "code",
      "source": [
        "df_.sample(n=10)\n",
        "df_.columns"
      ],
      "metadata": {
        "colab": {
          "base_uri": "https://localhost:8080/"
        },
        "id": "Zqpc3YJCWpIb",
        "outputId": "df93dce5-63f2-4a4e-edd3-26dee3b55a8e"
      },
      "execution_count": 52,
      "outputs": [
        {
          "output_type": "execute_result",
          "data": {
            "text/plain": [
              "Index(['date', 'quarter', 'department', 'day', 'team', 'targeted_productivity',\n",
              "       'smv', 'wip', 'over_time', 'incentive', 'idle_time', 'idle_men',\n",
              "       'no_of_style_change', 'no_of_workers', 'actual_productivity'],\n",
              "      dtype='object')"
            ]
          },
          "metadata": {},
          "execution_count": 52
        }
      ]
    },
    {
      "cell_type": "code",
      "source": [
        "df_.info()"
      ],
      "metadata": {
        "colab": {
          "base_uri": "https://localhost:8080/"
        },
        "id": "v3ly4hMwXLXG",
        "outputId": "de472924-f51b-4c76-89d9-a4b20c9c4a67"
      },
      "execution_count": 15,
      "outputs": [
        {
          "output_type": "stream",
          "name": "stdout",
          "text": [
            "<class 'pandas.core.frame.DataFrame'>\n",
            "RangeIndex: 1197 entries, 0 to 1196\n",
            "Data columns (total 15 columns):\n",
            " #   Column                 Non-Null Count  Dtype  \n",
            "---  ------                 --------------  -----  \n",
            " 0   date                   1197 non-null   object \n",
            " 1   quarter                1197 non-null   object \n",
            " 2   department             1197 non-null   object \n",
            " 3   day                    1197 non-null   object \n",
            " 4   team                   1197 non-null   int64  \n",
            " 5   targeted_productivity  1197 non-null   float64\n",
            " 6   smv                    1197 non-null   float64\n",
            " 7   wip                    691 non-null    float64\n",
            " 8   over_time              1197 non-null   int64  \n",
            " 9   incentive              1197 non-null   int64  \n",
            " 10  idle_time              1197 non-null   float64\n",
            " 11  idle_men               1197 non-null   int64  \n",
            " 12  no_of_style_change     1197 non-null   int64  \n",
            " 13  no_of_workers          1197 non-null   float64\n",
            " 14  actual_productivity    1197 non-null   float64\n",
            "dtypes: float64(6), int64(5), object(4)\n",
            "memory usage: 140.4+ KB\n"
          ]
        }
      ]
    },
    {
      "cell_type": "code",
      "source": [
        "df_.describe()"
      ],
      "metadata": {
        "colab": {
          "base_uri": "https://localhost:8080/",
          "height": 320
        },
        "id": "kuppRQb1XZCy",
        "outputId": "2a35a363-39a0-4c6f-e242-0a9aee627b3e"
      },
      "execution_count": 16,
      "outputs": [
        {
          "output_type": "execute_result",
          "data": {
            "text/plain": [
              "              team  targeted_productivity          smv           wip  \\\n",
              "count  1197.000000            1197.000000  1197.000000    691.000000   \n",
              "mean      6.426901               0.729632    15.062172   1190.465991   \n",
              "std       3.463963               0.097891    10.943219   1837.455001   \n",
              "min       1.000000               0.070000     2.900000      7.000000   \n",
              "25%       3.000000               0.700000     3.940000    774.500000   \n",
              "50%       6.000000               0.750000    15.260000   1039.000000   \n",
              "75%       9.000000               0.800000    24.260000   1252.500000   \n",
              "max      12.000000               0.800000    54.560000  23122.000000   \n",
              "\n",
              "          over_time    incentive    idle_time     idle_men  \\\n",
              "count   1197.000000  1197.000000  1197.000000  1197.000000   \n",
              "mean    4567.460317    38.210526     0.730159     0.369256   \n",
              "std     3348.823563   160.182643    12.709757     3.268987   \n",
              "min        0.000000     0.000000     0.000000     0.000000   \n",
              "25%     1440.000000     0.000000     0.000000     0.000000   \n",
              "50%     3960.000000     0.000000     0.000000     0.000000   \n",
              "75%     6960.000000    50.000000     0.000000     0.000000   \n",
              "max    25920.000000  3600.000000   300.000000    45.000000   \n",
              "\n",
              "       no_of_style_change  no_of_workers  actual_productivity  \n",
              "count         1197.000000    1197.000000          1197.000000  \n",
              "mean             0.150376      34.609858             0.735091  \n",
              "std              0.427848      22.197687             0.174488  \n",
              "min              0.000000       2.000000             0.233705  \n",
              "25%              0.000000       9.000000             0.650307  \n",
              "50%              0.000000      34.000000             0.773333  \n",
              "75%              0.000000      57.000000             0.850253  \n",
              "max              2.000000      89.000000             1.120437  "
            ],
            "text/html": [
              "\n",
              "  <div id=\"df-df5c379f-3536-4d58-b675-de374241efa3\" class=\"colab-df-container\">\n",
              "    <div>\n",
              "<style scoped>\n",
              "    .dataframe tbody tr th:only-of-type {\n",
              "        vertical-align: middle;\n",
              "    }\n",
              "\n",
              "    .dataframe tbody tr th {\n",
              "        vertical-align: top;\n",
              "    }\n",
              "\n",
              "    .dataframe thead th {\n",
              "        text-align: right;\n",
              "    }\n",
              "</style>\n",
              "<table border=\"1\" class=\"dataframe\">\n",
              "  <thead>\n",
              "    <tr style=\"text-align: right;\">\n",
              "      <th></th>\n",
              "      <th>team</th>\n",
              "      <th>targeted_productivity</th>\n",
              "      <th>smv</th>\n",
              "      <th>wip</th>\n",
              "      <th>over_time</th>\n",
              "      <th>incentive</th>\n",
              "      <th>idle_time</th>\n",
              "      <th>idle_men</th>\n",
              "      <th>no_of_style_change</th>\n",
              "      <th>no_of_workers</th>\n",
              "      <th>actual_productivity</th>\n",
              "    </tr>\n",
              "  </thead>\n",
              "  <tbody>\n",
              "    <tr>\n",
              "      <th>count</th>\n",
              "      <td>1197.000000</td>\n",
              "      <td>1197.000000</td>\n",
              "      <td>1197.000000</td>\n",
              "      <td>691.000000</td>\n",
              "      <td>1197.000000</td>\n",
              "      <td>1197.000000</td>\n",
              "      <td>1197.000000</td>\n",
              "      <td>1197.000000</td>\n",
              "      <td>1197.000000</td>\n",
              "      <td>1197.000000</td>\n",
              "      <td>1197.000000</td>\n",
              "    </tr>\n",
              "    <tr>\n",
              "      <th>mean</th>\n",
              "      <td>6.426901</td>\n",
              "      <td>0.729632</td>\n",
              "      <td>15.062172</td>\n",
              "      <td>1190.465991</td>\n",
              "      <td>4567.460317</td>\n",
              "      <td>38.210526</td>\n",
              "      <td>0.730159</td>\n",
              "      <td>0.369256</td>\n",
              "      <td>0.150376</td>\n",
              "      <td>34.609858</td>\n",
              "      <td>0.735091</td>\n",
              "    </tr>\n",
              "    <tr>\n",
              "      <th>std</th>\n",
              "      <td>3.463963</td>\n",
              "      <td>0.097891</td>\n",
              "      <td>10.943219</td>\n",
              "      <td>1837.455001</td>\n",
              "      <td>3348.823563</td>\n",
              "      <td>160.182643</td>\n",
              "      <td>12.709757</td>\n",
              "      <td>3.268987</td>\n",
              "      <td>0.427848</td>\n",
              "      <td>22.197687</td>\n",
              "      <td>0.174488</td>\n",
              "    </tr>\n",
              "    <tr>\n",
              "      <th>min</th>\n",
              "      <td>1.000000</td>\n",
              "      <td>0.070000</td>\n",
              "      <td>2.900000</td>\n",
              "      <td>7.000000</td>\n",
              "      <td>0.000000</td>\n",
              "      <td>0.000000</td>\n",
              "      <td>0.000000</td>\n",
              "      <td>0.000000</td>\n",
              "      <td>0.000000</td>\n",
              "      <td>2.000000</td>\n",
              "      <td>0.233705</td>\n",
              "    </tr>\n",
              "    <tr>\n",
              "      <th>25%</th>\n",
              "      <td>3.000000</td>\n",
              "      <td>0.700000</td>\n",
              "      <td>3.940000</td>\n",
              "      <td>774.500000</td>\n",
              "      <td>1440.000000</td>\n",
              "      <td>0.000000</td>\n",
              "      <td>0.000000</td>\n",
              "      <td>0.000000</td>\n",
              "      <td>0.000000</td>\n",
              "      <td>9.000000</td>\n",
              "      <td>0.650307</td>\n",
              "    </tr>\n",
              "    <tr>\n",
              "      <th>50%</th>\n",
              "      <td>6.000000</td>\n",
              "      <td>0.750000</td>\n",
              "      <td>15.260000</td>\n",
              "      <td>1039.000000</td>\n",
              "      <td>3960.000000</td>\n",
              "      <td>0.000000</td>\n",
              "      <td>0.000000</td>\n",
              "      <td>0.000000</td>\n",
              "      <td>0.000000</td>\n",
              "      <td>34.000000</td>\n",
              "      <td>0.773333</td>\n",
              "    </tr>\n",
              "    <tr>\n",
              "      <th>75%</th>\n",
              "      <td>9.000000</td>\n",
              "      <td>0.800000</td>\n",
              "      <td>24.260000</td>\n",
              "      <td>1252.500000</td>\n",
              "      <td>6960.000000</td>\n",
              "      <td>50.000000</td>\n",
              "      <td>0.000000</td>\n",
              "      <td>0.000000</td>\n",
              "      <td>0.000000</td>\n",
              "      <td>57.000000</td>\n",
              "      <td>0.850253</td>\n",
              "    </tr>\n",
              "    <tr>\n",
              "      <th>max</th>\n",
              "      <td>12.000000</td>\n",
              "      <td>0.800000</td>\n",
              "      <td>54.560000</td>\n",
              "      <td>23122.000000</td>\n",
              "      <td>25920.000000</td>\n",
              "      <td>3600.000000</td>\n",
              "      <td>300.000000</td>\n",
              "      <td>45.000000</td>\n",
              "      <td>2.000000</td>\n",
              "      <td>89.000000</td>\n",
              "      <td>1.120437</td>\n",
              "    </tr>\n",
              "  </tbody>\n",
              "</table>\n",
              "</div>\n",
              "    <div class=\"colab-df-buttons\">\n",
              "\n",
              "  <div class=\"colab-df-container\">\n",
              "    <button class=\"colab-df-convert\" onclick=\"convertToInteractive('df-df5c379f-3536-4d58-b675-de374241efa3')\"\n",
              "            title=\"Convert this dataframe to an interactive table.\"\n",
              "            style=\"display:none;\">\n",
              "\n",
              "  <svg xmlns=\"http://www.w3.org/2000/svg\" height=\"24px\" viewBox=\"0 -960 960 960\">\n",
              "    <path d=\"M120-120v-720h720v720H120Zm60-500h600v-160H180v160Zm220 220h160v-160H400v160Zm0 220h160v-160H400v160ZM180-400h160v-160H180v160Zm440 0h160v-160H620v160ZM180-180h160v-160H180v160Zm440 0h160v-160H620v160Z\"/>\n",
              "  </svg>\n",
              "    </button>\n",
              "\n",
              "  <style>\n",
              "    .colab-df-container {\n",
              "      display:flex;\n",
              "      gap: 12px;\n",
              "    }\n",
              "\n",
              "    .colab-df-convert {\n",
              "      background-color: #E8F0FE;\n",
              "      border: none;\n",
              "      border-radius: 50%;\n",
              "      cursor: pointer;\n",
              "      display: none;\n",
              "      fill: #1967D2;\n",
              "      height: 32px;\n",
              "      padding: 0 0 0 0;\n",
              "      width: 32px;\n",
              "    }\n",
              "\n",
              "    .colab-df-convert:hover {\n",
              "      background-color: #E2EBFA;\n",
              "      box-shadow: 0px 1px 2px rgba(60, 64, 67, 0.3), 0px 1px 3px 1px rgba(60, 64, 67, 0.15);\n",
              "      fill: #174EA6;\n",
              "    }\n",
              "\n",
              "    .colab-df-buttons div {\n",
              "      margin-bottom: 4px;\n",
              "    }\n",
              "\n",
              "    [theme=dark] .colab-df-convert {\n",
              "      background-color: #3B4455;\n",
              "      fill: #D2E3FC;\n",
              "    }\n",
              "\n",
              "    [theme=dark] .colab-df-convert:hover {\n",
              "      background-color: #434B5C;\n",
              "      box-shadow: 0px 1px 3px 1px rgba(0, 0, 0, 0.15);\n",
              "      filter: drop-shadow(0px 1px 2px rgba(0, 0, 0, 0.3));\n",
              "      fill: #FFFFFF;\n",
              "    }\n",
              "  </style>\n",
              "\n",
              "    <script>\n",
              "      const buttonEl =\n",
              "        document.querySelector('#df-df5c379f-3536-4d58-b675-de374241efa3 button.colab-df-convert');\n",
              "      buttonEl.style.display =\n",
              "        google.colab.kernel.accessAllowed ? 'block' : 'none';\n",
              "\n",
              "      async function convertToInteractive(key) {\n",
              "        const element = document.querySelector('#df-df5c379f-3536-4d58-b675-de374241efa3');\n",
              "        const dataTable =\n",
              "          await google.colab.kernel.invokeFunction('convertToInteractive',\n",
              "                                                    [key], {});\n",
              "        if (!dataTable) return;\n",
              "\n",
              "        const docLinkHtml = 'Like what you see? Visit the ' +\n",
              "          '<a target=\"_blank\" href=https://colab.research.google.com/notebooks/data_table.ipynb>data table notebook</a>'\n",
              "          + ' to learn more about interactive tables.';\n",
              "        element.innerHTML = '';\n",
              "        dataTable['output_type'] = 'display_data';\n",
              "        await google.colab.output.renderOutput(dataTable, element);\n",
              "        const docLink = document.createElement('div');\n",
              "        docLink.innerHTML = docLinkHtml;\n",
              "        element.appendChild(docLink);\n",
              "      }\n",
              "    </script>\n",
              "  </div>\n",
              "\n",
              "\n",
              "<div id=\"df-47f566b7-0267-451a-a962-fcb446156521\">\n",
              "  <button class=\"colab-df-quickchart\" onclick=\"quickchart('df-47f566b7-0267-451a-a962-fcb446156521')\"\n",
              "            title=\"Suggest charts\"\n",
              "            style=\"display:none;\">\n",
              "\n",
              "<svg xmlns=\"http://www.w3.org/2000/svg\" height=\"24px\"viewBox=\"0 0 24 24\"\n",
              "     width=\"24px\">\n",
              "    <g>\n",
              "        <path d=\"M19 3H5c-1.1 0-2 .9-2 2v14c0 1.1.9 2 2 2h14c1.1 0 2-.9 2-2V5c0-1.1-.9-2-2-2zM9 17H7v-7h2v7zm4 0h-2V7h2v10zm4 0h-2v-4h2v4z\"/>\n",
              "    </g>\n",
              "</svg>\n",
              "  </button>\n",
              "\n",
              "<style>\n",
              "  .colab-df-quickchart {\n",
              "      --bg-color: #E8F0FE;\n",
              "      --fill-color: #1967D2;\n",
              "      --hover-bg-color: #E2EBFA;\n",
              "      --hover-fill-color: #174EA6;\n",
              "      --disabled-fill-color: #AAA;\n",
              "      --disabled-bg-color: #DDD;\n",
              "  }\n",
              "\n",
              "  [theme=dark] .colab-df-quickchart {\n",
              "      --bg-color: #3B4455;\n",
              "      --fill-color: #D2E3FC;\n",
              "      --hover-bg-color: #434B5C;\n",
              "      --hover-fill-color: #FFFFFF;\n",
              "      --disabled-bg-color: #3B4455;\n",
              "      --disabled-fill-color: #666;\n",
              "  }\n",
              "\n",
              "  .colab-df-quickchart {\n",
              "    background-color: var(--bg-color);\n",
              "    border: none;\n",
              "    border-radius: 50%;\n",
              "    cursor: pointer;\n",
              "    display: none;\n",
              "    fill: var(--fill-color);\n",
              "    height: 32px;\n",
              "    padding: 0;\n",
              "    width: 32px;\n",
              "  }\n",
              "\n",
              "  .colab-df-quickchart:hover {\n",
              "    background-color: var(--hover-bg-color);\n",
              "    box-shadow: 0 1px 2px rgba(60, 64, 67, 0.3), 0 1px 3px 1px rgba(60, 64, 67, 0.15);\n",
              "    fill: var(--button-hover-fill-color);\n",
              "  }\n",
              "\n",
              "  .colab-df-quickchart-complete:disabled,\n",
              "  .colab-df-quickchart-complete:disabled:hover {\n",
              "    background-color: var(--disabled-bg-color);\n",
              "    fill: var(--disabled-fill-color);\n",
              "    box-shadow: none;\n",
              "  }\n",
              "\n",
              "  .colab-df-spinner {\n",
              "    border: 2px solid var(--fill-color);\n",
              "    border-color: transparent;\n",
              "    border-bottom-color: var(--fill-color);\n",
              "    animation:\n",
              "      spin 1s steps(1) infinite;\n",
              "  }\n",
              "\n",
              "  @keyframes spin {\n",
              "    0% {\n",
              "      border-color: transparent;\n",
              "      border-bottom-color: var(--fill-color);\n",
              "      border-left-color: var(--fill-color);\n",
              "    }\n",
              "    20% {\n",
              "      border-color: transparent;\n",
              "      border-left-color: var(--fill-color);\n",
              "      border-top-color: var(--fill-color);\n",
              "    }\n",
              "    30% {\n",
              "      border-color: transparent;\n",
              "      border-left-color: var(--fill-color);\n",
              "      border-top-color: var(--fill-color);\n",
              "      border-right-color: var(--fill-color);\n",
              "    }\n",
              "    40% {\n",
              "      border-color: transparent;\n",
              "      border-right-color: var(--fill-color);\n",
              "      border-top-color: var(--fill-color);\n",
              "    }\n",
              "    60% {\n",
              "      border-color: transparent;\n",
              "      border-right-color: var(--fill-color);\n",
              "    }\n",
              "    80% {\n",
              "      border-color: transparent;\n",
              "      border-right-color: var(--fill-color);\n",
              "      border-bottom-color: var(--fill-color);\n",
              "    }\n",
              "    90% {\n",
              "      border-color: transparent;\n",
              "      border-bottom-color: var(--fill-color);\n",
              "    }\n",
              "  }\n",
              "</style>\n",
              "\n",
              "  <script>\n",
              "    async function quickchart(key) {\n",
              "      const quickchartButtonEl =\n",
              "        document.querySelector('#' + key + ' button');\n",
              "      quickchartButtonEl.disabled = true;  // To prevent multiple clicks.\n",
              "      quickchartButtonEl.classList.add('colab-df-spinner');\n",
              "      try {\n",
              "        const charts = await google.colab.kernel.invokeFunction(\n",
              "            'suggestCharts', [key], {});\n",
              "      } catch (error) {\n",
              "        console.error('Error during call to suggestCharts:', error);\n",
              "      }\n",
              "      quickchartButtonEl.classList.remove('colab-df-spinner');\n",
              "      quickchartButtonEl.classList.add('colab-df-quickchart-complete');\n",
              "    }\n",
              "    (() => {\n",
              "      let quickchartButtonEl =\n",
              "        document.querySelector('#df-47f566b7-0267-451a-a962-fcb446156521 button');\n",
              "      quickchartButtonEl.style.display =\n",
              "        google.colab.kernel.accessAllowed ? 'block' : 'none';\n",
              "    })();\n",
              "  </script>\n",
              "</div>\n",
              "\n",
              "    </div>\n",
              "  </div>\n"
            ],
            "application/vnd.google.colaboratory.intrinsic+json": {
              "type": "dataframe",
              "summary": "{\n  \"name\": \"df_\",\n  \"rows\": 8,\n  \"fields\": [\n    {\n      \"column\": \"team\",\n      \"properties\": {\n        \"dtype\": \"number\",\n        \"std\": 421.1525987837647,\n        \"min\": 1.0,\n        \"max\": 1197.0,\n        \"num_unique_values\": 8,\n        \"samples\": [\n          6.426900584795321,\n          6.0,\n          1197.0\n        ],\n        \"semantic_type\": \"\",\n        \"description\": \"\"\n      }\n    },\n    {\n      \"column\": \"targeted_productivity\",\n      \"properties\": {\n        \"dtype\": \"number\",\n        \"std\": 423.004138802404,\n        \"min\": 0.07,\n        \"max\": 1197.0,\n        \"num_unique_values\": 7,\n        \"samples\": [\n          1197.0,\n          0.7296324143692565,\n          0.75\n        ],\n        \"semantic_type\": \"\",\n        \"description\": \"\"\n      }\n    },\n    {\n      \"column\": \"smv\",\n      \"properties\": {\n        \"dtype\": \"number\",\n        \"std\": 417.1126021762678,\n        \"min\": 2.9,\n        \"max\": 1197.0,\n        \"num_unique_values\": 8,\n        \"samples\": [\n          15.062172096908938,\n          15.26,\n          1197.0\n        ],\n        \"semantic_type\": \"\",\n        \"description\": \"\"\n      }\n    },\n    {\n      \"column\": \"wip\",\n      \"properties\": {\n        \"dtype\": \"number\",\n        \"std\": 7849.391769111412,\n        \"min\": 7.0,\n        \"max\": 23122.0,\n        \"num_unique_values\": 8,\n        \"samples\": [\n          1190.4659913169319,\n          1039.0,\n          691.0\n        ],\n        \"semantic_type\": \"\",\n        \"description\": \"\"\n      }\n    },\n    {\n      \"column\": \"over_time\",\n      \"properties\": {\n        \"dtype\": \"number\",\n        \"std\": 8373.31562922651,\n        \"min\": 0.0,\n        \"max\": 25920.0,\n        \"num_unique_values\": 8,\n        \"samples\": [\n          4567.460317460317,\n          3960.0,\n          1197.0\n        ],\n        \"semantic_type\": \"\",\n        \"description\": \"\"\n      }\n    },\n    {\n      \"column\": \"incentive\",\n      \"properties\": {\n        \"dtype\": \"number\",\n        \"std\": 1267.191974096936,\n        \"min\": 0.0,\n        \"max\": 3600.0,\n        \"num_unique_values\": 6,\n        \"samples\": [\n          1197.0,\n          38.21052631578947,\n          3600.0\n        ],\n        \"semantic_type\": \"\",\n        \"description\": \"\"\n      }\n    },\n    {\n      \"column\": \"idle_time\",\n      \"properties\": {\n        \"dtype\": \"number\",\n        \"std\": 420.5086170079323,\n        \"min\": 0.0,\n        \"max\": 1197.0,\n        \"num_unique_values\": 5,\n        \"samples\": [\n          0.7301587301587301,\n          300.0,\n          12.709756518546547\n        ],\n        \"semantic_type\": \"\",\n        \"description\": \"\"\n      }\n    },\n    {\n      \"column\": \"idle_men\",\n      \"properties\": {\n        \"dtype\": \"number\",\n        \"std\": 421.0349482146399,\n        \"min\": 0.0,\n        \"max\": 1197.0,\n        \"num_unique_values\": 5,\n        \"samples\": [\n          0.3692564745196324,\n          45.0,\n          3.26898732417817\n        ],\n        \"semantic_type\": \"\",\n        \"description\": \"\"\n      }\n    },\n    {\n      \"column\": \"no_of_style_change\",\n      \"properties\": {\n        \"dtype\": \"number\",\n        \"std\": 423.07373830286184,\n        \"min\": 0.0,\n        \"max\": 1197.0,\n        \"num_unique_values\": 5,\n        \"samples\": [\n          0.15037593984962405,\n          2.0,\n          0.4278478565061976\n        ],\n        \"semantic_type\": \"\",\n        \"description\": \"\"\n      }\n    },\n    {\n      \"column\": \"no_of_workers\",\n      \"properties\": {\n        \"dtype\": \"number\",\n        \"std\": 411.6130246489885,\n        \"min\": 2.0,\n        \"max\": 1197.0,\n        \"num_unique_values\": 8,\n        \"samples\": [\n          34.60985797827903,\n          34.0,\n          1197.0\n        ],\n        \"semantic_type\": \"\",\n        \"description\": \"\"\n      }\n    },\n    {\n      \"column\": \"actual_productivity\",\n      \"properties\": {\n        \"dtype\": \"number\",\n        \"std\": 422.97433975712767,\n        \"min\": 0.17448790350939525,\n        \"max\": 1197.0,\n        \"num_unique_values\": 8,\n        \"samples\": [\n          0.7350910969791145,\n          0.773333333,\n          1197.0\n        ],\n        \"semantic_type\": \"\",\n        \"description\": \"\"\n      }\n    }\n  ]\n}"
            }
          },
          "metadata": {},
          "execution_count": 16
        }
      ]
    },
    {
      "cell_type": "code",
      "metadata": {
        "id": "qlAI856j5zOl"
      },
      "source": [
        "# Consider only five features from dataset\n",
        "df = df_[['date', 'quarter', 'department', 'day', 'team']]\n",
        "# Consider records where 'day' is Monday, Thursday or Saturday\n",
        "df_day = df[df['day'].isin(['Monday', 'Thursday', 'Saturday'])]\n",
        "\n",
        "# Consider records where 'team' number is 1, 2 or 3\n",
        "df_day_team = df_day[df_day['team'].isin([1, 2, 3])]\n",
        "# Consider records where 'quarter' is 'Quarter1' or 'Quarter2'\n",
        "df_day_team_quarter = df_day_team[df_day_team['quarter'].isin(['Quarter1', 'Quarter2'])]\n",
        "\n",
        "# Reset the index and store dataset to 'df'\n",
        "df = df_day_team_quarter.reset_index(drop= True)"
      ],
      "execution_count": 53,
      "outputs": []
    },
    {
      "cell_type": "code",
      "source": [
        "df.count()"
      ],
      "metadata": {
        "colab": {
          "base_uri": "https://localhost:8080/",
          "height": 241
        },
        "id": "S7ziJT7aaxiq",
        "outputId": "f558e54b-2ffc-4455-c6b6-11aeda8a5196"
      },
      "execution_count": 54,
      "outputs": [
        {
          "output_type": "execute_result",
          "data": {
            "text/plain": [
              "date          85\n",
              "quarter       85\n",
              "department    85\n",
              "day           85\n",
              "team          85\n",
              "dtype: int64"
            ],
            "text/html": [
              "<div>\n",
              "<style scoped>\n",
              "    .dataframe tbody tr th:only-of-type {\n",
              "        vertical-align: middle;\n",
              "    }\n",
              "\n",
              "    .dataframe tbody tr th {\n",
              "        vertical-align: top;\n",
              "    }\n",
              "\n",
              "    .dataframe thead th {\n",
              "        text-align: right;\n",
              "    }\n",
              "</style>\n",
              "<table border=\"1\" class=\"dataframe\">\n",
              "  <thead>\n",
              "    <tr style=\"text-align: right;\">\n",
              "      <th></th>\n",
              "      <th>0</th>\n",
              "    </tr>\n",
              "  </thead>\n",
              "  <tbody>\n",
              "    <tr>\n",
              "      <th>date</th>\n",
              "      <td>85</td>\n",
              "    </tr>\n",
              "    <tr>\n",
              "      <th>quarter</th>\n",
              "      <td>85</td>\n",
              "    </tr>\n",
              "    <tr>\n",
              "      <th>department</th>\n",
              "      <td>85</td>\n",
              "    </tr>\n",
              "    <tr>\n",
              "      <th>day</th>\n",
              "      <td>85</td>\n",
              "    </tr>\n",
              "    <tr>\n",
              "      <th>team</th>\n",
              "      <td>85</td>\n",
              "    </tr>\n",
              "  </tbody>\n",
              "</table>\n",
              "</div><br><label><b>dtype:</b> int64</label>"
            ]
          },
          "metadata": {},
          "execution_count": 54
        }
      ]
    },
    {
      "cell_type": "code",
      "metadata": {
        "id": "7B9y4SB95zOl",
        "colab": {
          "base_uri": "https://localhost:8080/"
        },
        "outputId": "16f6126a-400b-44cf-87d9-b1b1ccae86f3"
      },
      "source": [
        "# Check for unique values in department column\n",
        "# YOUR CODE HERE\n",
        "df['department'].unique()"
      ],
      "execution_count": 21,
      "outputs": [
        {
          "output_type": "execute_result",
          "data": {
            "text/plain": [
              "array(['finishing ', 'sweing', 'finishing'], dtype=object)"
            ]
          },
          "metadata": {},
          "execution_count": 21
        }
      ]
    },
    {
      "cell_type": "code",
      "metadata": {
        "id": "igWHKJxO5zOm"
      },
      "source": [
        "# Remove extra space from 'finishing ' department column\n",
        "# YOUR CODE HERE\n",
        "df['department'] = df['department'].apply(lambda x :x.replace(' ',''))\n",
        "\n",
        "# Change department from 'sweing' to 'sewing'\n",
        "# YOUR CODE HERE\n",
        "for i in range(len(df)):\n",
        "  if df.loc[i,'department']=='sweing':\n",
        "    df.loc[i,'department']='sewing'"
      ],
      "execution_count": 23,
      "outputs": []
    },
    {
      "cell_type": "code",
      "metadata": {
        "id": "M930FabR5zOm",
        "colab": {
          "base_uri": "https://localhost:8080/"
        },
        "outputId": "7ae10813-699a-42fb-f839-288e576b743f"
      },
      "source": [
        "# Check for unique values in department column\n",
        "# YOUR CODE HERE\n",
        "df['department'].unique()"
      ],
      "execution_count": 24,
      "outputs": [
        {
          "output_type": "execute_result",
          "data": {
            "text/plain": [
              "array(['finishing', 'sewing'], dtype=object)"
            ]
          },
          "metadata": {},
          "execution_count": 24
        }
      ]
    },
    {
      "cell_type": "code",
      "metadata": {
        "id": "GKvYrAPM5zOn",
        "colab": {
          "base_uri": "https://localhost:8080/",
          "height": 81
        },
        "outputId": "8f9f3307-faef-4c7b-ac57-15e126c617dc"
      },
      "source": [
        "# Display few rows of processed dataset\n",
        "# YOUR CODE HERE\n",
        "df.sample()"
      ],
      "execution_count": 25,
      "outputs": [
        {
          "output_type": "execute_result",
          "data": {
            "text/plain": [
              "         date   quarter department       day  team\n",
              "57  2/12/2015  Quarter2  finishing  Thursday     2"
            ],
            "text/html": [
              "\n",
              "  <div id=\"df-40023977-f6d0-457d-b4de-e22b612bbba3\" class=\"colab-df-container\">\n",
              "    <div>\n",
              "<style scoped>\n",
              "    .dataframe tbody tr th:only-of-type {\n",
              "        vertical-align: middle;\n",
              "    }\n",
              "\n",
              "    .dataframe tbody tr th {\n",
              "        vertical-align: top;\n",
              "    }\n",
              "\n",
              "    .dataframe thead th {\n",
              "        text-align: right;\n",
              "    }\n",
              "</style>\n",
              "<table border=\"1\" class=\"dataframe\">\n",
              "  <thead>\n",
              "    <tr style=\"text-align: right;\">\n",
              "      <th></th>\n",
              "      <th>date</th>\n",
              "      <th>quarter</th>\n",
              "      <th>department</th>\n",
              "      <th>day</th>\n",
              "      <th>team</th>\n",
              "    </tr>\n",
              "  </thead>\n",
              "  <tbody>\n",
              "    <tr>\n",
              "      <th>57</th>\n",
              "      <td>2/12/2015</td>\n",
              "      <td>Quarter2</td>\n",
              "      <td>finishing</td>\n",
              "      <td>Thursday</td>\n",
              "      <td>2</td>\n",
              "    </tr>\n",
              "  </tbody>\n",
              "</table>\n",
              "</div>\n",
              "    <div class=\"colab-df-buttons\">\n",
              "\n",
              "  <div class=\"colab-df-container\">\n",
              "    <button class=\"colab-df-convert\" onclick=\"convertToInteractive('df-40023977-f6d0-457d-b4de-e22b612bbba3')\"\n",
              "            title=\"Convert this dataframe to an interactive table.\"\n",
              "            style=\"display:none;\">\n",
              "\n",
              "  <svg xmlns=\"http://www.w3.org/2000/svg\" height=\"24px\" viewBox=\"0 -960 960 960\">\n",
              "    <path d=\"M120-120v-720h720v720H120Zm60-500h600v-160H180v160Zm220 220h160v-160H400v160Zm0 220h160v-160H400v160ZM180-400h160v-160H180v160Zm440 0h160v-160H620v160ZM180-180h160v-160H180v160Zm440 0h160v-160H620v160Z\"/>\n",
              "  </svg>\n",
              "    </button>\n",
              "\n",
              "  <style>\n",
              "    .colab-df-container {\n",
              "      display:flex;\n",
              "      gap: 12px;\n",
              "    }\n",
              "\n",
              "    .colab-df-convert {\n",
              "      background-color: #E8F0FE;\n",
              "      border: none;\n",
              "      border-radius: 50%;\n",
              "      cursor: pointer;\n",
              "      display: none;\n",
              "      fill: #1967D2;\n",
              "      height: 32px;\n",
              "      padding: 0 0 0 0;\n",
              "      width: 32px;\n",
              "    }\n",
              "\n",
              "    .colab-df-convert:hover {\n",
              "      background-color: #E2EBFA;\n",
              "      box-shadow: 0px 1px 2px rgba(60, 64, 67, 0.3), 0px 1px 3px 1px rgba(60, 64, 67, 0.15);\n",
              "      fill: #174EA6;\n",
              "    }\n",
              "\n",
              "    .colab-df-buttons div {\n",
              "      margin-bottom: 4px;\n",
              "    }\n",
              "\n",
              "    [theme=dark] .colab-df-convert {\n",
              "      background-color: #3B4455;\n",
              "      fill: #D2E3FC;\n",
              "    }\n",
              "\n",
              "    [theme=dark] .colab-df-convert:hover {\n",
              "      background-color: #434B5C;\n",
              "      box-shadow: 0px 1px 3px 1px rgba(0, 0, 0, 0.15);\n",
              "      filter: drop-shadow(0px 1px 2px rgba(0, 0, 0, 0.3));\n",
              "      fill: #FFFFFF;\n",
              "    }\n",
              "  </style>\n",
              "\n",
              "    <script>\n",
              "      const buttonEl =\n",
              "        document.querySelector('#df-40023977-f6d0-457d-b4de-e22b612bbba3 button.colab-df-convert');\n",
              "      buttonEl.style.display =\n",
              "        google.colab.kernel.accessAllowed ? 'block' : 'none';\n",
              "\n",
              "      async function convertToInteractive(key) {\n",
              "        const element = document.querySelector('#df-40023977-f6d0-457d-b4de-e22b612bbba3');\n",
              "        const dataTable =\n",
              "          await google.colab.kernel.invokeFunction('convertToInteractive',\n",
              "                                                    [key], {});\n",
              "        if (!dataTable) return;\n",
              "\n",
              "        const docLinkHtml = 'Like what you see? Visit the ' +\n",
              "          '<a target=\"_blank\" href=https://colab.research.google.com/notebooks/data_table.ipynb>data table notebook</a>'\n",
              "          + ' to learn more about interactive tables.';\n",
              "        element.innerHTML = '';\n",
              "        dataTable['output_type'] = 'display_data';\n",
              "        await google.colab.output.renderOutput(dataTable, element);\n",
              "        const docLink = document.createElement('div');\n",
              "        docLink.innerHTML = docLinkHtml;\n",
              "        element.appendChild(docLink);\n",
              "      }\n",
              "    </script>\n",
              "  </div>\n",
              "\n",
              "\n",
              "    </div>\n",
              "  </div>\n"
            ],
            "application/vnd.google.colaboratory.intrinsic+json": {
              "type": "dataframe",
              "repr_error": "0"
            }
          },
          "metadata": {},
          "execution_count": 25
        }
      ]
    },
    {
      "cell_type": "code",
      "source": [
        "df.describe()"
      ],
      "metadata": {
        "colab": {
          "base_uri": "https://localhost:8080/",
          "height": 300
        },
        "id": "fzhCVrxDdEJ1",
        "outputId": "5928fd0f-f48c-4000-b74c-0e415aab896f"
      },
      "execution_count": 27,
      "outputs": [
        {
          "output_type": "execute_result",
          "data": {
            "text/plain": [
              "            team\n",
              "count  85.000000\n",
              "mean    1.905882\n",
              "std     0.810989\n",
              "min     1.000000\n",
              "25%     1.000000\n",
              "50%     2.000000\n",
              "75%     3.000000\n",
              "max     3.000000"
            ],
            "text/html": [
              "\n",
              "  <div id=\"df-0a2328a2-1784-4628-9f90-7d739045ccef\" class=\"colab-df-container\">\n",
              "    <div>\n",
              "<style scoped>\n",
              "    .dataframe tbody tr th:only-of-type {\n",
              "        vertical-align: middle;\n",
              "    }\n",
              "\n",
              "    .dataframe tbody tr th {\n",
              "        vertical-align: top;\n",
              "    }\n",
              "\n",
              "    .dataframe thead th {\n",
              "        text-align: right;\n",
              "    }\n",
              "</style>\n",
              "<table border=\"1\" class=\"dataframe\">\n",
              "  <thead>\n",
              "    <tr style=\"text-align: right;\">\n",
              "      <th></th>\n",
              "      <th>team</th>\n",
              "    </tr>\n",
              "  </thead>\n",
              "  <tbody>\n",
              "    <tr>\n",
              "      <th>count</th>\n",
              "      <td>85.000000</td>\n",
              "    </tr>\n",
              "    <tr>\n",
              "      <th>mean</th>\n",
              "      <td>1.905882</td>\n",
              "    </tr>\n",
              "    <tr>\n",
              "      <th>std</th>\n",
              "      <td>0.810989</td>\n",
              "    </tr>\n",
              "    <tr>\n",
              "      <th>min</th>\n",
              "      <td>1.000000</td>\n",
              "    </tr>\n",
              "    <tr>\n",
              "      <th>25%</th>\n",
              "      <td>1.000000</td>\n",
              "    </tr>\n",
              "    <tr>\n",
              "      <th>50%</th>\n",
              "      <td>2.000000</td>\n",
              "    </tr>\n",
              "    <tr>\n",
              "      <th>75%</th>\n",
              "      <td>3.000000</td>\n",
              "    </tr>\n",
              "    <tr>\n",
              "      <th>max</th>\n",
              "      <td>3.000000</td>\n",
              "    </tr>\n",
              "  </tbody>\n",
              "</table>\n",
              "</div>\n",
              "    <div class=\"colab-df-buttons\">\n",
              "\n",
              "  <div class=\"colab-df-container\">\n",
              "    <button class=\"colab-df-convert\" onclick=\"convertToInteractive('df-0a2328a2-1784-4628-9f90-7d739045ccef')\"\n",
              "            title=\"Convert this dataframe to an interactive table.\"\n",
              "            style=\"display:none;\">\n",
              "\n",
              "  <svg xmlns=\"http://www.w3.org/2000/svg\" height=\"24px\" viewBox=\"0 -960 960 960\">\n",
              "    <path d=\"M120-120v-720h720v720H120Zm60-500h600v-160H180v160Zm220 220h160v-160H400v160Zm0 220h160v-160H400v160ZM180-400h160v-160H180v160Zm440 0h160v-160H620v160ZM180-180h160v-160H180v160Zm440 0h160v-160H620v160Z\"/>\n",
              "  </svg>\n",
              "    </button>\n",
              "\n",
              "  <style>\n",
              "    .colab-df-container {\n",
              "      display:flex;\n",
              "      gap: 12px;\n",
              "    }\n",
              "\n",
              "    .colab-df-convert {\n",
              "      background-color: #E8F0FE;\n",
              "      border: none;\n",
              "      border-radius: 50%;\n",
              "      cursor: pointer;\n",
              "      display: none;\n",
              "      fill: #1967D2;\n",
              "      height: 32px;\n",
              "      padding: 0 0 0 0;\n",
              "      width: 32px;\n",
              "    }\n",
              "\n",
              "    .colab-df-convert:hover {\n",
              "      background-color: #E2EBFA;\n",
              "      box-shadow: 0px 1px 2px rgba(60, 64, 67, 0.3), 0px 1px 3px 1px rgba(60, 64, 67, 0.15);\n",
              "      fill: #174EA6;\n",
              "    }\n",
              "\n",
              "    .colab-df-buttons div {\n",
              "      margin-bottom: 4px;\n",
              "    }\n",
              "\n",
              "    [theme=dark] .colab-df-convert {\n",
              "      background-color: #3B4455;\n",
              "      fill: #D2E3FC;\n",
              "    }\n",
              "\n",
              "    [theme=dark] .colab-df-convert:hover {\n",
              "      background-color: #434B5C;\n",
              "      box-shadow: 0px 1px 3px 1px rgba(0, 0, 0, 0.15);\n",
              "      filter: drop-shadow(0px 1px 2px rgba(0, 0, 0, 0.3));\n",
              "      fill: #FFFFFF;\n",
              "    }\n",
              "  </style>\n",
              "\n",
              "    <script>\n",
              "      const buttonEl =\n",
              "        document.querySelector('#df-0a2328a2-1784-4628-9f90-7d739045ccef button.colab-df-convert');\n",
              "      buttonEl.style.display =\n",
              "        google.colab.kernel.accessAllowed ? 'block' : 'none';\n",
              "\n",
              "      async function convertToInteractive(key) {\n",
              "        const element = document.querySelector('#df-0a2328a2-1784-4628-9f90-7d739045ccef');\n",
              "        const dataTable =\n",
              "          await google.colab.kernel.invokeFunction('convertToInteractive',\n",
              "                                                    [key], {});\n",
              "        if (!dataTable) return;\n",
              "\n",
              "        const docLinkHtml = 'Like what you see? Visit the ' +\n",
              "          '<a target=\"_blank\" href=https://colab.research.google.com/notebooks/data_table.ipynb>data table notebook</a>'\n",
              "          + ' to learn more about interactive tables.';\n",
              "        element.innerHTML = '';\n",
              "        dataTable['output_type'] = 'display_data';\n",
              "        await google.colab.output.renderOutput(dataTable, element);\n",
              "        const docLink = document.createElement('div');\n",
              "        docLink.innerHTML = docLinkHtml;\n",
              "        element.appendChild(docLink);\n",
              "      }\n",
              "    </script>\n",
              "  </div>\n",
              "\n",
              "\n",
              "<div id=\"df-4349950d-46a9-4214-bfd9-9594855c2d22\">\n",
              "  <button class=\"colab-df-quickchart\" onclick=\"quickchart('df-4349950d-46a9-4214-bfd9-9594855c2d22')\"\n",
              "            title=\"Suggest charts\"\n",
              "            style=\"display:none;\">\n",
              "\n",
              "<svg xmlns=\"http://www.w3.org/2000/svg\" height=\"24px\"viewBox=\"0 0 24 24\"\n",
              "     width=\"24px\">\n",
              "    <g>\n",
              "        <path d=\"M19 3H5c-1.1 0-2 .9-2 2v14c0 1.1.9 2 2 2h14c1.1 0 2-.9 2-2V5c0-1.1-.9-2-2-2zM9 17H7v-7h2v7zm4 0h-2V7h2v10zm4 0h-2v-4h2v4z\"/>\n",
              "    </g>\n",
              "</svg>\n",
              "  </button>\n",
              "\n",
              "<style>\n",
              "  .colab-df-quickchart {\n",
              "      --bg-color: #E8F0FE;\n",
              "      --fill-color: #1967D2;\n",
              "      --hover-bg-color: #E2EBFA;\n",
              "      --hover-fill-color: #174EA6;\n",
              "      --disabled-fill-color: #AAA;\n",
              "      --disabled-bg-color: #DDD;\n",
              "  }\n",
              "\n",
              "  [theme=dark] .colab-df-quickchart {\n",
              "      --bg-color: #3B4455;\n",
              "      --fill-color: #D2E3FC;\n",
              "      --hover-bg-color: #434B5C;\n",
              "      --hover-fill-color: #FFFFFF;\n",
              "      --disabled-bg-color: #3B4455;\n",
              "      --disabled-fill-color: #666;\n",
              "  }\n",
              "\n",
              "  .colab-df-quickchart {\n",
              "    background-color: var(--bg-color);\n",
              "    border: none;\n",
              "    border-radius: 50%;\n",
              "    cursor: pointer;\n",
              "    display: none;\n",
              "    fill: var(--fill-color);\n",
              "    height: 32px;\n",
              "    padding: 0;\n",
              "    width: 32px;\n",
              "  }\n",
              "\n",
              "  .colab-df-quickchart:hover {\n",
              "    background-color: var(--hover-bg-color);\n",
              "    box-shadow: 0 1px 2px rgba(60, 64, 67, 0.3), 0 1px 3px 1px rgba(60, 64, 67, 0.15);\n",
              "    fill: var(--button-hover-fill-color);\n",
              "  }\n",
              "\n",
              "  .colab-df-quickchart-complete:disabled,\n",
              "  .colab-df-quickchart-complete:disabled:hover {\n",
              "    background-color: var(--disabled-bg-color);\n",
              "    fill: var(--disabled-fill-color);\n",
              "    box-shadow: none;\n",
              "  }\n",
              "\n",
              "  .colab-df-spinner {\n",
              "    border: 2px solid var(--fill-color);\n",
              "    border-color: transparent;\n",
              "    border-bottom-color: var(--fill-color);\n",
              "    animation:\n",
              "      spin 1s steps(1) infinite;\n",
              "  }\n",
              "\n",
              "  @keyframes spin {\n",
              "    0% {\n",
              "      border-color: transparent;\n",
              "      border-bottom-color: var(--fill-color);\n",
              "      border-left-color: var(--fill-color);\n",
              "    }\n",
              "    20% {\n",
              "      border-color: transparent;\n",
              "      border-left-color: var(--fill-color);\n",
              "      border-top-color: var(--fill-color);\n",
              "    }\n",
              "    30% {\n",
              "      border-color: transparent;\n",
              "      border-left-color: var(--fill-color);\n",
              "      border-top-color: var(--fill-color);\n",
              "      border-right-color: var(--fill-color);\n",
              "    }\n",
              "    40% {\n",
              "      border-color: transparent;\n",
              "      border-right-color: var(--fill-color);\n",
              "      border-top-color: var(--fill-color);\n",
              "    }\n",
              "    60% {\n",
              "      border-color: transparent;\n",
              "      border-right-color: var(--fill-color);\n",
              "    }\n",
              "    80% {\n",
              "      border-color: transparent;\n",
              "      border-right-color: var(--fill-color);\n",
              "      border-bottom-color: var(--fill-color);\n",
              "    }\n",
              "    90% {\n",
              "      border-color: transparent;\n",
              "      border-bottom-color: var(--fill-color);\n",
              "    }\n",
              "  }\n",
              "</style>\n",
              "\n",
              "  <script>\n",
              "    async function quickchart(key) {\n",
              "      const quickchartButtonEl =\n",
              "        document.querySelector('#' + key + ' button');\n",
              "      quickchartButtonEl.disabled = true;  // To prevent multiple clicks.\n",
              "      quickchartButtonEl.classList.add('colab-df-spinner');\n",
              "      try {\n",
              "        const charts = await google.colab.kernel.invokeFunction(\n",
              "            'suggestCharts', [key], {});\n",
              "      } catch (error) {\n",
              "        console.error('Error during call to suggestCharts:', error);\n",
              "      }\n",
              "      quickchartButtonEl.classList.remove('colab-df-spinner');\n",
              "      quickchartButtonEl.classList.add('colab-df-quickchart-complete');\n",
              "    }\n",
              "    (() => {\n",
              "      let quickchartButtonEl =\n",
              "        document.querySelector('#df-4349950d-46a9-4214-bfd9-9594855c2d22 button');\n",
              "      quickchartButtonEl.style.display =\n",
              "        google.colab.kernel.accessAllowed ? 'block' : 'none';\n",
              "    })();\n",
              "  </script>\n",
              "</div>\n",
              "\n",
              "    </div>\n",
              "  </div>\n"
            ],
            "application/vnd.google.colaboratory.intrinsic+json": {
              "type": "dataframe",
              "summary": "{\n  \"name\": \"df\",\n  \"rows\": 8,\n  \"fields\": [\n    {\n      \"column\": \"team\",\n      \"properties\": {\n        \"dtype\": \"number\",\n        \"std\": 29.422335353087078,\n        \"min\": 0.8109889525958376,\n        \"max\": 85.0,\n        \"num_unique_values\": 6,\n        \"samples\": [\n          85.0,\n          1.9058823529411764,\n          3.0\n        ],\n        \"semantic_type\": \"\",\n        \"description\": \"\"\n      }\n    }\n  ]\n}"
            }
          },
          "metadata": {},
          "execution_count": 27
        }
      ]
    },
    {
      "cell_type": "code",
      "metadata": {
        "id": "O5WG4z5J5zOn",
        "colab": {
          "base_uri": "https://localhost:8080/"
        },
        "outputId": "1898ff0d-a908-4a77-912b-3bd1ab8836b5"
      },
      "source": [
        "print('Dataset shape before processing: ', df_.shape)\n",
        "print('Dataset shape after processing: ', df.shape)"
      ],
      "execution_count": 26,
      "outputs": [
        {
          "output_type": "stream",
          "name": "stdout",
          "text": [
            "Dataset shape before processing:  (1197, 15)\n",
            "Dataset shape after processing:  (85, 5)\n"
          ]
        }
      ]
    },
    {
      "cell_type": "markdown",
      "metadata": {
        "id": "JcbIlAhf5zOo"
      },
      "source": [
        "### Experiment"
      ]
    },
    {
      "cell_type": "markdown",
      "metadata": {
        "id": "iWXfPNHZ5zOo"
      },
      "source": [
        "An experiment or trial is any procedure that can be infinitely repeated and has a well-defined set of possible outcomes. An experiment is said to be *random* if it has more than one possible outcome, and *deterministic* if it has only one. For example, selecting a record from the above dataset, tossing a coin, rolling a die, etc are all random experiments."
      ]
    },
    {
      "cell_type": "markdown",
      "metadata": {
        "id": "jLC_C_NY5zOo"
      },
      "source": [
        "**Exercise 1:** Select a record from the above given dataset."
      ]
    },
    {
      "cell_type": "code",
      "metadata": {
        "id": "_PCuUwY05zOo",
        "colab": {
          "base_uri": "https://localhost:8080/",
          "height": 89
        },
        "outputId": "4462ba90-6ab5-4349-f235-b8f551239d59"
      },
      "source": [
        "i1 = np.random.randint(df.shape[0]-1)    # get any random index\n",
        "record = df.iloc[i1:i1+1, :]             # extract record for that index\n",
        "record"
      ],
      "execution_count": 28,
      "outputs": [
        {
          "output_type": "execute_result",
          "data": {
            "text/plain": [
              "        date   quarter department     day  team\n",
              "35  2/2/2015  Quarter1     sewing  Monday     1"
            ],
            "text/html": [
              "\n",
              "  <div id=\"df-fde5bfcc-3c4a-4dcd-a493-c32643d4c1a6\" class=\"colab-df-container\">\n",
              "    <div>\n",
              "<style scoped>\n",
              "    .dataframe tbody tr th:only-of-type {\n",
              "        vertical-align: middle;\n",
              "    }\n",
              "\n",
              "    .dataframe tbody tr th {\n",
              "        vertical-align: top;\n",
              "    }\n",
              "\n",
              "    .dataframe thead th {\n",
              "        text-align: right;\n",
              "    }\n",
              "</style>\n",
              "<table border=\"1\" class=\"dataframe\">\n",
              "  <thead>\n",
              "    <tr style=\"text-align: right;\">\n",
              "      <th></th>\n",
              "      <th>date</th>\n",
              "      <th>quarter</th>\n",
              "      <th>department</th>\n",
              "      <th>day</th>\n",
              "      <th>team</th>\n",
              "    </tr>\n",
              "  </thead>\n",
              "  <tbody>\n",
              "    <tr>\n",
              "      <th>35</th>\n",
              "      <td>2/2/2015</td>\n",
              "      <td>Quarter1</td>\n",
              "      <td>sewing</td>\n",
              "      <td>Monday</td>\n",
              "      <td>1</td>\n",
              "    </tr>\n",
              "  </tbody>\n",
              "</table>\n",
              "</div>\n",
              "    <div class=\"colab-df-buttons\">\n",
              "\n",
              "  <div class=\"colab-df-container\">\n",
              "    <button class=\"colab-df-convert\" onclick=\"convertToInteractive('df-fde5bfcc-3c4a-4dcd-a493-c32643d4c1a6')\"\n",
              "            title=\"Convert this dataframe to an interactive table.\"\n",
              "            style=\"display:none;\">\n",
              "\n",
              "  <svg xmlns=\"http://www.w3.org/2000/svg\" height=\"24px\" viewBox=\"0 -960 960 960\">\n",
              "    <path d=\"M120-120v-720h720v720H120Zm60-500h600v-160H180v160Zm220 220h160v-160H400v160Zm0 220h160v-160H400v160ZM180-400h160v-160H180v160Zm440 0h160v-160H620v160ZM180-180h160v-160H180v160Zm440 0h160v-160H620v160Z\"/>\n",
              "  </svg>\n",
              "    </button>\n",
              "\n",
              "  <style>\n",
              "    .colab-df-container {\n",
              "      display:flex;\n",
              "      gap: 12px;\n",
              "    }\n",
              "\n",
              "    .colab-df-convert {\n",
              "      background-color: #E8F0FE;\n",
              "      border: none;\n",
              "      border-radius: 50%;\n",
              "      cursor: pointer;\n",
              "      display: none;\n",
              "      fill: #1967D2;\n",
              "      height: 32px;\n",
              "      padding: 0 0 0 0;\n",
              "      width: 32px;\n",
              "    }\n",
              "\n",
              "    .colab-df-convert:hover {\n",
              "      background-color: #E2EBFA;\n",
              "      box-shadow: 0px 1px 2px rgba(60, 64, 67, 0.3), 0px 1px 3px 1px rgba(60, 64, 67, 0.15);\n",
              "      fill: #174EA6;\n",
              "    }\n",
              "\n",
              "    .colab-df-buttons div {\n",
              "      margin-bottom: 4px;\n",
              "    }\n",
              "\n",
              "    [theme=dark] .colab-df-convert {\n",
              "      background-color: #3B4455;\n",
              "      fill: #D2E3FC;\n",
              "    }\n",
              "\n",
              "    [theme=dark] .colab-df-convert:hover {\n",
              "      background-color: #434B5C;\n",
              "      box-shadow: 0px 1px 3px 1px rgba(0, 0, 0, 0.15);\n",
              "      filter: drop-shadow(0px 1px 2px rgba(0, 0, 0, 0.3));\n",
              "      fill: #FFFFFF;\n",
              "    }\n",
              "  </style>\n",
              "\n",
              "    <script>\n",
              "      const buttonEl =\n",
              "        document.querySelector('#df-fde5bfcc-3c4a-4dcd-a493-c32643d4c1a6 button.colab-df-convert');\n",
              "      buttonEl.style.display =\n",
              "        google.colab.kernel.accessAllowed ? 'block' : 'none';\n",
              "\n",
              "      async function convertToInteractive(key) {\n",
              "        const element = document.querySelector('#df-fde5bfcc-3c4a-4dcd-a493-c32643d4c1a6');\n",
              "        const dataTable =\n",
              "          await google.colab.kernel.invokeFunction('convertToInteractive',\n",
              "                                                    [key], {});\n",
              "        if (!dataTable) return;\n",
              "\n",
              "        const docLinkHtml = 'Like what you see? Visit the ' +\n",
              "          '<a target=\"_blank\" href=https://colab.research.google.com/notebooks/data_table.ipynb>data table notebook</a>'\n",
              "          + ' to learn more about interactive tables.';\n",
              "        element.innerHTML = '';\n",
              "        dataTable['output_type'] = 'display_data';\n",
              "        await google.colab.output.renderOutput(dataTable, element);\n",
              "        const docLink = document.createElement('div');\n",
              "        docLink.innerHTML = docLinkHtml;\n",
              "        element.appendChild(docLink);\n",
              "      }\n",
              "    </script>\n",
              "  </div>\n",
              "\n",
              "\n",
              "  <div id=\"id_bf531797-e60b-4a4b-bdb9-2971decec544\">\n",
              "    <style>\n",
              "      .colab-df-generate {\n",
              "        background-color: #E8F0FE;\n",
              "        border: none;\n",
              "        border-radius: 50%;\n",
              "        cursor: pointer;\n",
              "        display: none;\n",
              "        fill: #1967D2;\n",
              "        height: 32px;\n",
              "        padding: 0 0 0 0;\n",
              "        width: 32px;\n",
              "      }\n",
              "\n",
              "      .colab-df-generate:hover {\n",
              "        background-color: #E2EBFA;\n",
              "        box-shadow: 0px 1px 2px rgba(60, 64, 67, 0.3), 0px 1px 3px 1px rgba(60, 64, 67, 0.15);\n",
              "        fill: #174EA6;\n",
              "      }\n",
              "\n",
              "      [theme=dark] .colab-df-generate {\n",
              "        background-color: #3B4455;\n",
              "        fill: #D2E3FC;\n",
              "      }\n",
              "\n",
              "      [theme=dark] .colab-df-generate:hover {\n",
              "        background-color: #434B5C;\n",
              "        box-shadow: 0px 1px 3px 1px rgba(0, 0, 0, 0.15);\n",
              "        filter: drop-shadow(0px 1px 2px rgba(0, 0, 0, 0.3));\n",
              "        fill: #FFFFFF;\n",
              "      }\n",
              "    </style>\n",
              "    <button class=\"colab-df-generate\" onclick=\"generateWithVariable('record')\"\n",
              "            title=\"Generate code using this dataframe.\"\n",
              "            style=\"display:none;\">\n",
              "\n",
              "  <svg xmlns=\"http://www.w3.org/2000/svg\" height=\"24px\"viewBox=\"0 0 24 24\"\n",
              "       width=\"24px\">\n",
              "    <path d=\"M7,19H8.4L18.45,9,17,7.55,7,17.6ZM5,21V16.75L18.45,3.32a2,2,0,0,1,2.83,0l1.4,1.43a1.91,1.91,0,0,1,.58,1.4,1.91,1.91,0,0,1-.58,1.4L9.25,21ZM18.45,9,17,7.55Zm-12,3A5.31,5.31,0,0,0,4.9,8.1,5.31,5.31,0,0,0,1,6.5,5.31,5.31,0,0,0,4.9,4.9,5.31,5.31,0,0,0,6.5,1,5.31,5.31,0,0,0,8.1,4.9,5.31,5.31,0,0,0,12,6.5,5.46,5.46,0,0,0,6.5,12Z\"/>\n",
              "  </svg>\n",
              "    </button>\n",
              "    <script>\n",
              "      (() => {\n",
              "      const buttonEl =\n",
              "        document.querySelector('#id_bf531797-e60b-4a4b-bdb9-2971decec544 button.colab-df-generate');\n",
              "      buttonEl.style.display =\n",
              "        google.colab.kernel.accessAllowed ? 'block' : 'none';\n",
              "\n",
              "      buttonEl.onclick = () => {\n",
              "        google.colab.notebook.generateWithVariable('record');\n",
              "      }\n",
              "      })();\n",
              "    </script>\n",
              "  </div>\n",
              "\n",
              "    </div>\n",
              "  </div>\n"
            ],
            "application/vnd.google.colaboratory.intrinsic+json": {
              "type": "dataframe",
              "variable_name": "record",
              "repr_error": "0"
            }
          },
          "metadata": {},
          "execution_count": 28
        }
      ]
    },
    {
      "cell_type": "markdown",
      "metadata": {
        "id": "tvWEdBnS5zOp"
      },
      "source": [
        "### Outcome"
      ]
    },
    {
      "cell_type": "markdown",
      "metadata": {
        "id": "Ca7gOkz35zOp"
      },
      "source": [
        "Each possible outcome of a particular experiment is unique, and different outcomes are mutually exclusive (only one outcome will occur on each trial of the experiment).\n",
        "\n",
        "For the experiment where a coin is flipped twice, the four possible outcomes that make up the sample space are (H, T), (T, H), (T, T) and (H, H), where \"H\" represents a \"heads\", and \"T\" represents a \"tails\".\n",
        "\n",
        "Similarly, in an experiment of selecting a record from a dataset, the outcome will be that record which got selected."
      ]
    },
    {
      "cell_type": "markdown",
      "metadata": {
        "id": "oiBCkWeT5zOp"
      },
      "source": [
        "### Sample space"
      ]
    },
    {
      "cell_type": "markdown",
      "metadata": {
        "id": "4fstav8P5zOp"
      },
      "source": [
        "A sample space is usually denoted using set notation, and the possible ordered outcomes are listed as elements in the set. It is common to refer to a sample space by the labels S, Ω, or U (for \"universal set\"). The elements of a sample space may be numbers, words, letters, or symbols. They can also be finite, countably infinite, or uncountably infinite.\n",
        "\n",
        "For example, if the experiment is tossing a coin, the sample space is typically the set {head, tail}, commonly written {H, T}. For tossing two coins, the corresponding sample space would be {HH, HT, TH, TT}.\n",
        "Similarly, for a random experiment of selecting a record from a dataset, all the rows become it's sample space."
      ]
    },
    {
      "cell_type": "markdown",
      "metadata": {
        "id": "iSJUiF6J5zOq"
      },
      "source": [
        "**Exercise 2:** Calculate the length of sample space for a random experiment of selecting a record from the above given dataset."
      ]
    },
    {
      "cell_type": "code",
      "metadata": {
        "id": "l2Qm2TGg5zOq",
        "colab": {
          "base_uri": "https://localhost:8080/"
        },
        "outputId": "9fb4f041-6784-4691-ed42-64c39dcb282d"
      },
      "source": [
        "# YOUR CODE HERE to get length of dataframe index\n",
        "len(df.index)"
      ],
      "execution_count": 30,
      "outputs": [
        {
          "output_type": "execute_result",
          "data": {
            "text/plain": [
              "85"
            ]
          },
          "metadata": {},
          "execution_count": 30
        }
      ]
    },
    {
      "cell_type": "markdown",
      "metadata": {
        "id": "eZdpmBn35zOq"
      },
      "source": [
        "### Event"
      ]
    },
    {
      "cell_type": "markdown",
      "metadata": {
        "id": "YtXQJAoe5zOq"
      },
      "source": [
        "An event is a set of outcomes of an experiment to which a probability is assigned. A single outcome may be an element of many different events, and different events in an experiment are usually not equally likely, since they may include very different groups of outcomes. For example, getting an even number after rolling a die once, getting atleast one head after tossing a coin twice, etc."
      ]
    },
    {
      "cell_type": "markdown",
      "metadata": {
        "id": "rb7A7d7H5zOr"
      },
      "source": [
        "**Exercise 3:** Getting a *finishing* department record is an event related to the experiment of selecting a record from the whole dataset. Extract a *finishing* department record."
      ]
    },
    {
      "cell_type": "code",
      "source": [
        "df['department'].unique()"
      ],
      "metadata": {
        "colab": {
          "base_uri": "https://localhost:8080/"
        },
        "id": "V6_meaAofNg0",
        "outputId": "ba8fde8b-04f9-4b56-d9d0-8b00828ad94c"
      },
      "execution_count": 31,
      "outputs": [
        {
          "output_type": "execute_result",
          "data": {
            "text/plain": [
              "array(['finishing', 'sewing'], dtype=object)"
            ]
          },
          "metadata": {},
          "execution_count": 31
        }
      ]
    },
    {
      "cell_type": "code",
      "metadata": {
        "id": "ugMDwE4J5zOr",
        "colab": {
          "base_uri": "https://localhost:8080/",
          "height": 89
        },
        "outputId": "c08a48c4-b43e-4726-e7ba-d446acfd467d"
      },
      "source": [
        "df_finishing = df[df['department']=='finishing']\n",
        "i2 = np.random.randint(df_finishing.shape[0]-1)\n",
        "selection = df_finishing.iloc[i2:i2+1, :]\n",
        "selection"
      ],
      "execution_count": 32,
      "outputs": [
        {
          "output_type": "execute_result",
          "data": {
            "text/plain": [
              "        date   quarter department       day  team\n",
              "44  2/7/2015  Quarter1  finishing  Saturday     2"
            ],
            "text/html": [
              "\n",
              "  <div id=\"df-d5153b92-bdab-4691-8296-ef6f69064b50\" class=\"colab-df-container\">\n",
              "    <div>\n",
              "<style scoped>\n",
              "    .dataframe tbody tr th:only-of-type {\n",
              "        vertical-align: middle;\n",
              "    }\n",
              "\n",
              "    .dataframe tbody tr th {\n",
              "        vertical-align: top;\n",
              "    }\n",
              "\n",
              "    .dataframe thead th {\n",
              "        text-align: right;\n",
              "    }\n",
              "</style>\n",
              "<table border=\"1\" class=\"dataframe\">\n",
              "  <thead>\n",
              "    <tr style=\"text-align: right;\">\n",
              "      <th></th>\n",
              "      <th>date</th>\n",
              "      <th>quarter</th>\n",
              "      <th>department</th>\n",
              "      <th>day</th>\n",
              "      <th>team</th>\n",
              "    </tr>\n",
              "  </thead>\n",
              "  <tbody>\n",
              "    <tr>\n",
              "      <th>44</th>\n",
              "      <td>2/7/2015</td>\n",
              "      <td>Quarter1</td>\n",
              "      <td>finishing</td>\n",
              "      <td>Saturday</td>\n",
              "      <td>2</td>\n",
              "    </tr>\n",
              "  </tbody>\n",
              "</table>\n",
              "</div>\n",
              "    <div class=\"colab-df-buttons\">\n",
              "\n",
              "  <div class=\"colab-df-container\">\n",
              "    <button class=\"colab-df-convert\" onclick=\"convertToInteractive('df-d5153b92-bdab-4691-8296-ef6f69064b50')\"\n",
              "            title=\"Convert this dataframe to an interactive table.\"\n",
              "            style=\"display:none;\">\n",
              "\n",
              "  <svg xmlns=\"http://www.w3.org/2000/svg\" height=\"24px\" viewBox=\"0 -960 960 960\">\n",
              "    <path d=\"M120-120v-720h720v720H120Zm60-500h600v-160H180v160Zm220 220h160v-160H400v160Zm0 220h160v-160H400v160ZM180-400h160v-160H180v160Zm440 0h160v-160H620v160ZM180-180h160v-160H180v160Zm440 0h160v-160H620v160Z\"/>\n",
              "  </svg>\n",
              "    </button>\n",
              "\n",
              "  <style>\n",
              "    .colab-df-container {\n",
              "      display:flex;\n",
              "      gap: 12px;\n",
              "    }\n",
              "\n",
              "    .colab-df-convert {\n",
              "      background-color: #E8F0FE;\n",
              "      border: none;\n",
              "      border-radius: 50%;\n",
              "      cursor: pointer;\n",
              "      display: none;\n",
              "      fill: #1967D2;\n",
              "      height: 32px;\n",
              "      padding: 0 0 0 0;\n",
              "      width: 32px;\n",
              "    }\n",
              "\n",
              "    .colab-df-convert:hover {\n",
              "      background-color: #E2EBFA;\n",
              "      box-shadow: 0px 1px 2px rgba(60, 64, 67, 0.3), 0px 1px 3px 1px rgba(60, 64, 67, 0.15);\n",
              "      fill: #174EA6;\n",
              "    }\n",
              "\n",
              "    .colab-df-buttons div {\n",
              "      margin-bottom: 4px;\n",
              "    }\n",
              "\n",
              "    [theme=dark] .colab-df-convert {\n",
              "      background-color: #3B4455;\n",
              "      fill: #D2E3FC;\n",
              "    }\n",
              "\n",
              "    [theme=dark] .colab-df-convert:hover {\n",
              "      background-color: #434B5C;\n",
              "      box-shadow: 0px 1px 3px 1px rgba(0, 0, 0, 0.15);\n",
              "      filter: drop-shadow(0px 1px 2px rgba(0, 0, 0, 0.3));\n",
              "      fill: #FFFFFF;\n",
              "    }\n",
              "  </style>\n",
              "\n",
              "    <script>\n",
              "      const buttonEl =\n",
              "        document.querySelector('#df-d5153b92-bdab-4691-8296-ef6f69064b50 button.colab-df-convert');\n",
              "      buttonEl.style.display =\n",
              "        google.colab.kernel.accessAllowed ? 'block' : 'none';\n",
              "\n",
              "      async function convertToInteractive(key) {\n",
              "        const element = document.querySelector('#df-d5153b92-bdab-4691-8296-ef6f69064b50');\n",
              "        const dataTable =\n",
              "          await google.colab.kernel.invokeFunction('convertToInteractive',\n",
              "                                                    [key], {});\n",
              "        if (!dataTable) return;\n",
              "\n",
              "        const docLinkHtml = 'Like what you see? Visit the ' +\n",
              "          '<a target=\"_blank\" href=https://colab.research.google.com/notebooks/data_table.ipynb>data table notebook</a>'\n",
              "          + ' to learn more about interactive tables.';\n",
              "        element.innerHTML = '';\n",
              "        dataTable['output_type'] = 'display_data';\n",
              "        await google.colab.output.renderOutput(dataTable, element);\n",
              "        const docLink = document.createElement('div');\n",
              "        docLink.innerHTML = docLinkHtml;\n",
              "        element.appendChild(docLink);\n",
              "      }\n",
              "    </script>\n",
              "  </div>\n",
              "\n",
              "\n",
              "  <div id=\"id_c67a5c1a-67d8-4a70-b7ed-3feddc441cfd\">\n",
              "    <style>\n",
              "      .colab-df-generate {\n",
              "        background-color: #E8F0FE;\n",
              "        border: none;\n",
              "        border-radius: 50%;\n",
              "        cursor: pointer;\n",
              "        display: none;\n",
              "        fill: #1967D2;\n",
              "        height: 32px;\n",
              "        padding: 0 0 0 0;\n",
              "        width: 32px;\n",
              "      }\n",
              "\n",
              "      .colab-df-generate:hover {\n",
              "        background-color: #E2EBFA;\n",
              "        box-shadow: 0px 1px 2px rgba(60, 64, 67, 0.3), 0px 1px 3px 1px rgba(60, 64, 67, 0.15);\n",
              "        fill: #174EA6;\n",
              "      }\n",
              "\n",
              "      [theme=dark] .colab-df-generate {\n",
              "        background-color: #3B4455;\n",
              "        fill: #D2E3FC;\n",
              "      }\n",
              "\n",
              "      [theme=dark] .colab-df-generate:hover {\n",
              "        background-color: #434B5C;\n",
              "        box-shadow: 0px 1px 3px 1px rgba(0, 0, 0, 0.15);\n",
              "        filter: drop-shadow(0px 1px 2px rgba(0, 0, 0, 0.3));\n",
              "        fill: #FFFFFF;\n",
              "      }\n",
              "    </style>\n",
              "    <button class=\"colab-df-generate\" onclick=\"generateWithVariable('selection')\"\n",
              "            title=\"Generate code using this dataframe.\"\n",
              "            style=\"display:none;\">\n",
              "\n",
              "  <svg xmlns=\"http://www.w3.org/2000/svg\" height=\"24px\"viewBox=\"0 0 24 24\"\n",
              "       width=\"24px\">\n",
              "    <path d=\"M7,19H8.4L18.45,9,17,7.55,7,17.6ZM5,21V16.75L18.45,3.32a2,2,0,0,1,2.83,0l1.4,1.43a1.91,1.91,0,0,1,.58,1.4,1.91,1.91,0,0,1-.58,1.4L9.25,21ZM18.45,9,17,7.55Zm-12,3A5.31,5.31,0,0,0,4.9,8.1,5.31,5.31,0,0,0,1,6.5,5.31,5.31,0,0,0,4.9,4.9,5.31,5.31,0,0,0,6.5,1,5.31,5.31,0,0,0,8.1,4.9,5.31,5.31,0,0,0,12,6.5,5.46,5.46,0,0,0,6.5,12Z\"/>\n",
              "  </svg>\n",
              "    </button>\n",
              "    <script>\n",
              "      (() => {\n",
              "      const buttonEl =\n",
              "        document.querySelector('#id_c67a5c1a-67d8-4a70-b7ed-3feddc441cfd button.colab-df-generate');\n",
              "      buttonEl.style.display =\n",
              "        google.colab.kernel.accessAllowed ? 'block' : 'none';\n",
              "\n",
              "      buttonEl.onclick = () => {\n",
              "        google.colab.notebook.generateWithVariable('selection');\n",
              "      }\n",
              "      })();\n",
              "    </script>\n",
              "  </div>\n",
              "\n",
              "    </div>\n",
              "  </div>\n"
            ],
            "application/vnd.google.colaboratory.intrinsic+json": {
              "type": "dataframe",
              "variable_name": "selection",
              "repr_error": "0"
            }
          },
          "metadata": {},
          "execution_count": 32
        }
      ]
    },
    {
      "cell_type": "markdown",
      "metadata": {
        "id": "Oj5K6S205zOr"
      },
      "source": [
        "### Probability of an event"
      ]
    },
    {
      "cell_type": "markdown",
      "metadata": {
        "id": "yGwgnBBK5zOr"
      },
      "source": [
        "The probability of an event is a number between 0 and 1, where, roughly speaking, 0 indicates the impossibility of the event and 1 indicates certainty. The probability formula gives the possibility of an event to happen and is given as\n",
        "\n",
        "### $Probability\\ of\\ an\\ event\\ occurring = \\frac{favorable\\ outcomes}{total\\ outcomes}$"
      ]
    },
    {
      "cell_type": "markdown",
      "metadata": {
        "id": "b2CvdzTC5zOs"
      },
      "source": [
        "### Mutually exclusive events"
      ]
    },
    {
      "cell_type": "markdown",
      "metadata": {
        "id": "5IrIwRDG5zOs"
      },
      "source": [
        "Two events $A$ and $B$ are known as mutually exclusive if the probability of occurrence of both the events simultaneously is zero, i.e. $ P(A∩B) = 0 $.\n",
        "\n",
        "To know more about mutually exclusive events click [here](https://www.mathsisfun.com/data/probability-events-mutually-exclusive.html) ."
      ]
    },
    {
      "cell_type": "markdown",
      "metadata": {
        "id": "ZS6PvCgQ5zOs"
      },
      "source": [
        "**Exercise 4:** Show that selecting a *finishing* department record and selecting a *sewing* department record are two mutually exclusive events."
      ]
    },
    {
      "cell_type": "code",
      "metadata": {
        "id": "hNj2kKf85zOs",
        "colab": {
          "base_uri": "https://localhost:8080/",
          "height": 147
        },
        "outputId": "323209eb-d20f-41dc-b20f-efd049160277"
      },
      "source": [
        "# Select records where department is 'finishing' as well as 'sewing' simultaneously\n",
        "finishing_and_sewing = np.logical_and(df['department']=='finishing', df['department']=='sewing')\n",
        "finishing_and_sewing.value_counts()"
      ],
      "execution_count": 33,
      "outputs": [
        {
          "output_type": "execute_result",
          "data": {
            "text/plain": [
              "department\n",
              "False    85\n",
              "Name: count, dtype: int64"
            ],
            "text/html": [
              "<div>\n",
              "<style scoped>\n",
              "    .dataframe tbody tr th:only-of-type {\n",
              "        vertical-align: middle;\n",
              "    }\n",
              "\n",
              "    .dataframe tbody tr th {\n",
              "        vertical-align: top;\n",
              "    }\n",
              "\n",
              "    .dataframe thead th {\n",
              "        text-align: right;\n",
              "    }\n",
              "</style>\n",
              "<table border=\"1\" class=\"dataframe\">\n",
              "  <thead>\n",
              "    <tr style=\"text-align: right;\">\n",
              "      <th></th>\n",
              "      <th>count</th>\n",
              "    </tr>\n",
              "    <tr>\n",
              "      <th>department</th>\n",
              "      <th></th>\n",
              "    </tr>\n",
              "  </thead>\n",
              "  <tbody>\n",
              "    <tr>\n",
              "      <th>False</th>\n",
              "      <td>85</td>\n",
              "    </tr>\n",
              "  </tbody>\n",
              "</table>\n",
              "</div><br><label><b>dtype:</b> int64</label>"
            ]
          },
          "metadata": {},
          "execution_count": 33
        }
      ]
    },
    {
      "cell_type": "markdown",
      "metadata": {
        "id": "nhtDnIB15zOt"
      },
      "source": [
        "Seen from above there are no records where the department is *finishing* as well as *sewing* simultaneously.\n",
        "\n",
        "**Note:** The *True* values are treated as 1 and *False* values are treated as 0. For example, *True+True = 2*."
      ]
    },
    {
      "cell_type": "code",
      "metadata": {
        "id": "SlPRsTJd5zOt",
        "colab": {
          "base_uri": "https://localhost:8080/"
        },
        "outputId": "b60e1f67-2e27-4a19-fc47-f5df33a679e2"
      },
      "source": [
        "# Probability of selecting finishing and sewing department records simultaneously\n",
        "P = finishing_and_sewing.sum()/len(df)\n",
        "print('P(selecting finishing and sewing department records simultaneously)= ', P)"
      ],
      "execution_count": 34,
      "outputs": [
        {
          "output_type": "stream",
          "name": "stdout",
          "text": [
            "P(selecting finishing and sewing department records simultaneously)=  0.0\n"
          ]
        }
      ]
    },
    {
      "cell_type": "markdown",
      "metadata": {
        "id": "7HdR_swN5zOt"
      },
      "source": [
        "Seen that occurrence of both the events simultaneously is zero hence the above mentioned two events are mutually exclusive."
      ]
    },
    {
      "cell_type": "markdown",
      "metadata": {
        "id": "z-aQXr7D5zOt"
      },
      "source": [
        "Now, let's see the probability of selecting a *finishing* department record first and then a *sewing* department record."
      ]
    },
    {
      "cell_type": "markdown",
      "metadata": {
        "id": "FxAcjrKb5zOu"
      },
      "source": [
        "### Dependent events"
      ]
    },
    {
      "cell_type": "markdown",
      "metadata": {
        "id": "62-ro4Wl5zOu"
      },
      "source": [
        "Two events are called dependent, if the outcomes of the first affects the outcomes of the second, so that the probability is changed.\n",
        "\n",
        "To know more about dependent events click [here](https://corporatefinanceinstitute.com/resources/knowledge/other/dependent-events-vs-independent-events/#:~:text=Dependent%20events%20influence%20the%20probability,probability%20of%20another%20event%20happening.)."
      ]
    },
    {
      "cell_type": "markdown",
      "metadata": {
        "id": "AMxBRW2SU-CA"
      },
      "source": [
        "**Exercise 5:** A record is selected at random from the dataset. **Without replacing it, a second record is selected**. Show that getting a *finishing* department record in the first selection and getting a *sewing* department record in the second selection are dependent events.\n",
        "\n",
        "**Hint:** Take two cases, one for getting the *finishing* department and another for not getting the *finishing* department in the first selection then check if probability for the second selection changes."
      ]
    },
    {
      "cell_type": "markdown",
      "metadata": {
        "id": "ZNaAU7NXU-CD"
      },
      "source": [
        "*Case 1:* Getting *finishing* department record in first selection and *sewing* department record in the second selection"
      ]
    },
    {
      "cell_type": "code",
      "metadata": {
        "id": "SFYBTzHLU-CD",
        "colab": {
          "base_uri": "https://localhost:8080/",
          "height": 178
        },
        "outputId": "ad3d734b-5ca0-45ae-b948-0ff6e74664dc"
      },
      "source": [
        "# count of finishing department records\n",
        "finishing = df['department']=='finishing'\n",
        "# YOUR CODE HERE to count the different values in finishing\n",
        "finishing.value_counts()"
      ],
      "execution_count": 40,
      "outputs": [
        {
          "output_type": "execute_result",
          "data": {
            "text/plain": [
              "department\n",
              "False    47\n",
              "True     38\n",
              "Name: count, dtype: int64"
            ],
            "text/html": [
              "<div>\n",
              "<style scoped>\n",
              "    .dataframe tbody tr th:only-of-type {\n",
              "        vertical-align: middle;\n",
              "    }\n",
              "\n",
              "    .dataframe tbody tr th {\n",
              "        vertical-align: top;\n",
              "    }\n",
              "\n",
              "    .dataframe thead th {\n",
              "        text-align: right;\n",
              "    }\n",
              "</style>\n",
              "<table border=\"1\" class=\"dataframe\">\n",
              "  <thead>\n",
              "    <tr style=\"text-align: right;\">\n",
              "      <th></th>\n",
              "      <th>count</th>\n",
              "    </tr>\n",
              "    <tr>\n",
              "      <th>department</th>\n",
              "      <th></th>\n",
              "    </tr>\n",
              "  </thead>\n",
              "  <tbody>\n",
              "    <tr>\n",
              "      <th>False</th>\n",
              "      <td>47</td>\n",
              "    </tr>\n",
              "    <tr>\n",
              "      <th>True</th>\n",
              "      <td>38</td>\n",
              "    </tr>\n",
              "  </tbody>\n",
              "</table>\n",
              "</div><br><label><b>dtype:</b> int64</label>"
            ]
          },
          "metadata": {},
          "execution_count": 40
        }
      ]
    },
    {
      "cell_type": "code",
      "source": [
        "print(finishing)"
      ],
      "metadata": {
        "colab": {
          "base_uri": "https://localhost:8080/"
        },
        "id": "N5WaK8ezjYuM",
        "outputId": "05ce0096-50dd-4507-b1bc-4654f4988c4b"
      },
      "execution_count": 36,
      "outputs": [
        {
          "output_type": "stream",
          "name": "stdout",
          "text": [
            "0      True\n",
            "1      True\n",
            "2     False\n",
            "3     False\n",
            "4     False\n",
            "      ...  \n",
            "80    False\n",
            "81     True\n",
            "82     True\n",
            "83    False\n",
            "84     True\n",
            "Name: department, Length: 85, dtype: bool\n"
          ]
        }
      ]
    },
    {
      "cell_type": "code",
      "metadata": {
        "id": "P2WwVNNvU-CG",
        "colab": {
          "base_uri": "https://localhost:8080/"
        },
        "outputId": "1372c1b7-e7be-4c59-8459-c3089e1325d4"
      },
      "source": [
        "df_finishing = df[finishing]\n",
        "# Probability of selecting finishing department record first = count of finishing department records / all records count\n",
        "P_finishing_first = len(df_finishing) / len(df)    # 38 / 85 = 0.4471\n",
        "print('P(selecting a finishing department record first)= ', round(P_finishing_first,4))"
      ],
      "execution_count": 37,
      "outputs": [
        {
          "output_type": "stream",
          "name": "stdout",
          "text": [
            "P(selecting a finishing department record first)=  0.4471\n"
          ]
        }
      ]
    },
    {
      "cell_type": "code",
      "source": [
        "print(df_finishing)"
      ],
      "metadata": {
        "colab": {
          "base_uri": "https://localhost:8080/"
        },
        "id": "iUWPmKaxj6cG",
        "outputId": "719f45d7-bb23-484e-8daa-441d93075588"
      },
      "execution_count": 38,
      "outputs": [
        {
          "output_type": "stream",
          "name": "stdout",
          "text": [
            "         date   quarter department       day  team\n",
            "0    1/1/2015  Quarter1  finishing  Thursday     1\n",
            "1    1/1/2015  Quarter1  finishing  Thursday     2\n",
            "5    1/3/2015  Quarter1  finishing  Saturday     3\n",
            "6    1/3/2015  Quarter1  finishing  Saturday     1\n",
            "9    1/3/2015  Quarter1  finishing  Saturday     2\n",
            "11   1/5/2015  Quarter1  finishing    Monday     1\n",
            "12   1/5/2015  Quarter1  finishing    Monday     3\n",
            "13   1/5/2015  Quarter1  finishing    Monday     2\n",
            "17   1/8/2015  Quarter2  finishing  Thursday     1\n",
            "19   1/8/2015  Quarter2  finishing  Thursday     2\n",
            "22   1/8/2015  Quarter2  finishing  Thursday     3\n",
            "23  1/10/2015  Quarter2  finishing  Saturday     1\n",
            "24  1/10/2015  Quarter2  finishing  Saturday     3\n",
            "25  1/10/2015  Quarter2  finishing  Saturday     2\n",
            "29  1/12/2015  Quarter2  finishing    Monday     1\n",
            "30  1/12/2015  Quarter2  finishing    Monday     3\n",
            "31  1/12/2015  Quarter2  finishing    Monday     2\n",
            "38   2/2/2015  Quarter1  finishing    Monday     1\n",
            "41   2/5/2015  Quarter1  finishing  Thursday     2\n",
            "43   2/5/2015  Quarter1  finishing  Thursday     1\n",
            "44   2/7/2015  Quarter1  finishing  Saturday     2\n",
            "48   2/7/2015  Quarter1  finishing  Saturday     1\n",
            "49   2/9/2015  Quarter2  finishing    Monday     2\n",
            "50   2/9/2015  Quarter2  finishing    Monday     1\n",
            "56  2/12/2015  Quarter2  finishing  Thursday     1\n",
            "57  2/12/2015  Quarter2  finishing  Thursday     2\n",
            "61  2/14/2015  Quarter2  finishing  Saturday     1\n",
            "63   3/2/2015  Quarter1  finishing    Monday     2\n",
            "64   3/2/2015  Quarter1  finishing    Monday     3\n",
            "67   3/2/2015  Quarter1  finishing    Monday     1\n",
            "68   3/5/2015  Quarter1  finishing  Thursday     2\n",
            "69   3/5/2015  Quarter1  finishing  Thursday     1\n",
            "70   3/5/2015  Quarter1  finishing  Thursday     3\n",
            "76   3/7/2015  Quarter1  finishing  Saturday     1\n",
            "78   3/7/2015  Quarter1  finishing  Saturday     2\n",
            "81   3/9/2015  Quarter2  finishing    Monday     3\n",
            "82   3/9/2015  Quarter2  finishing    Monday     1\n",
            "84   3/9/2015  Quarter2  finishing    Monday     2\n"
          ]
        }
      ]
    },
    {
      "cell_type": "code",
      "metadata": {
        "id": "5QvRkgfqU-CH",
        "colab": {
          "base_uri": "https://localhost:8080/",
          "height": 89
        },
        "outputId": "88a2be73-a5f7-425c-bbd5-b2c907859810"
      },
      "source": [
        "# Randomly selecting any 'finishing' department record\n",
        "i = np.random.randint(len(df_finishing)-1)             # -1 is to start the index numbering at 0 instead of 1\n",
        "selection = df_finishing.iloc[i:i+1, :]                # obtaining a single record with index i\n",
        "selection"
      ],
      "execution_count": 41,
      "outputs": [
        {
          "output_type": "execute_result",
          "data": {
            "text/plain": [
              "        date   quarter department       day  team\n",
              "41  2/5/2015  Quarter1  finishing  Thursday     2"
            ],
            "text/html": [
              "\n",
              "  <div id=\"df-cfed73d2-09ad-4ac8-a81d-1efadf7bfb7b\" class=\"colab-df-container\">\n",
              "    <div>\n",
              "<style scoped>\n",
              "    .dataframe tbody tr th:only-of-type {\n",
              "        vertical-align: middle;\n",
              "    }\n",
              "\n",
              "    .dataframe tbody tr th {\n",
              "        vertical-align: top;\n",
              "    }\n",
              "\n",
              "    .dataframe thead th {\n",
              "        text-align: right;\n",
              "    }\n",
              "</style>\n",
              "<table border=\"1\" class=\"dataframe\">\n",
              "  <thead>\n",
              "    <tr style=\"text-align: right;\">\n",
              "      <th></th>\n",
              "      <th>date</th>\n",
              "      <th>quarter</th>\n",
              "      <th>department</th>\n",
              "      <th>day</th>\n",
              "      <th>team</th>\n",
              "    </tr>\n",
              "  </thead>\n",
              "  <tbody>\n",
              "    <tr>\n",
              "      <th>41</th>\n",
              "      <td>2/5/2015</td>\n",
              "      <td>Quarter1</td>\n",
              "      <td>finishing</td>\n",
              "      <td>Thursday</td>\n",
              "      <td>2</td>\n",
              "    </tr>\n",
              "  </tbody>\n",
              "</table>\n",
              "</div>\n",
              "    <div class=\"colab-df-buttons\">\n",
              "\n",
              "  <div class=\"colab-df-container\">\n",
              "    <button class=\"colab-df-convert\" onclick=\"convertToInteractive('df-cfed73d2-09ad-4ac8-a81d-1efadf7bfb7b')\"\n",
              "            title=\"Convert this dataframe to an interactive table.\"\n",
              "            style=\"display:none;\">\n",
              "\n",
              "  <svg xmlns=\"http://www.w3.org/2000/svg\" height=\"24px\" viewBox=\"0 -960 960 960\">\n",
              "    <path d=\"M120-120v-720h720v720H120Zm60-500h600v-160H180v160Zm220 220h160v-160H400v160Zm0 220h160v-160H400v160ZM180-400h160v-160H180v160Zm440 0h160v-160H620v160ZM180-180h160v-160H180v160Zm440 0h160v-160H620v160Z\"/>\n",
              "  </svg>\n",
              "    </button>\n",
              "\n",
              "  <style>\n",
              "    .colab-df-container {\n",
              "      display:flex;\n",
              "      gap: 12px;\n",
              "    }\n",
              "\n",
              "    .colab-df-convert {\n",
              "      background-color: #E8F0FE;\n",
              "      border: none;\n",
              "      border-radius: 50%;\n",
              "      cursor: pointer;\n",
              "      display: none;\n",
              "      fill: #1967D2;\n",
              "      height: 32px;\n",
              "      padding: 0 0 0 0;\n",
              "      width: 32px;\n",
              "    }\n",
              "\n",
              "    .colab-df-convert:hover {\n",
              "      background-color: #E2EBFA;\n",
              "      box-shadow: 0px 1px 2px rgba(60, 64, 67, 0.3), 0px 1px 3px 1px rgba(60, 64, 67, 0.15);\n",
              "      fill: #174EA6;\n",
              "    }\n",
              "\n",
              "    .colab-df-buttons div {\n",
              "      margin-bottom: 4px;\n",
              "    }\n",
              "\n",
              "    [theme=dark] .colab-df-convert {\n",
              "      background-color: #3B4455;\n",
              "      fill: #D2E3FC;\n",
              "    }\n",
              "\n",
              "    [theme=dark] .colab-df-convert:hover {\n",
              "      background-color: #434B5C;\n",
              "      box-shadow: 0px 1px 3px 1px rgba(0, 0, 0, 0.15);\n",
              "      filter: drop-shadow(0px 1px 2px rgba(0, 0, 0, 0.3));\n",
              "      fill: #FFFFFF;\n",
              "    }\n",
              "  </style>\n",
              "\n",
              "    <script>\n",
              "      const buttonEl =\n",
              "        document.querySelector('#df-cfed73d2-09ad-4ac8-a81d-1efadf7bfb7b button.colab-df-convert');\n",
              "      buttonEl.style.display =\n",
              "        google.colab.kernel.accessAllowed ? 'block' : 'none';\n",
              "\n",
              "      async function convertToInteractive(key) {\n",
              "        const element = document.querySelector('#df-cfed73d2-09ad-4ac8-a81d-1efadf7bfb7b');\n",
              "        const dataTable =\n",
              "          await google.colab.kernel.invokeFunction('convertToInteractive',\n",
              "                                                    [key], {});\n",
              "        if (!dataTable) return;\n",
              "\n",
              "        const docLinkHtml = 'Like what you see? Visit the ' +\n",
              "          '<a target=\"_blank\" href=https://colab.research.google.com/notebooks/data_table.ipynb>data table notebook</a>'\n",
              "          + ' to learn more about interactive tables.';\n",
              "        element.innerHTML = '';\n",
              "        dataTable['output_type'] = 'display_data';\n",
              "        await google.colab.output.renderOutput(dataTable, element);\n",
              "        const docLink = document.createElement('div');\n",
              "        docLink.innerHTML = docLinkHtml;\n",
              "        element.appendChild(docLink);\n",
              "      }\n",
              "    </script>\n",
              "  </div>\n",
              "\n",
              "\n",
              "  <div id=\"id_8837d650-7b71-4e53-8bcd-cc764c0f4117\">\n",
              "    <style>\n",
              "      .colab-df-generate {\n",
              "        background-color: #E8F0FE;\n",
              "        border: none;\n",
              "        border-radius: 50%;\n",
              "        cursor: pointer;\n",
              "        display: none;\n",
              "        fill: #1967D2;\n",
              "        height: 32px;\n",
              "        padding: 0 0 0 0;\n",
              "        width: 32px;\n",
              "      }\n",
              "\n",
              "      .colab-df-generate:hover {\n",
              "        background-color: #E2EBFA;\n",
              "        box-shadow: 0px 1px 2px rgba(60, 64, 67, 0.3), 0px 1px 3px 1px rgba(60, 64, 67, 0.15);\n",
              "        fill: #174EA6;\n",
              "      }\n",
              "\n",
              "      [theme=dark] .colab-df-generate {\n",
              "        background-color: #3B4455;\n",
              "        fill: #D2E3FC;\n",
              "      }\n",
              "\n",
              "      [theme=dark] .colab-df-generate:hover {\n",
              "        background-color: #434B5C;\n",
              "        box-shadow: 0px 1px 3px 1px rgba(0, 0, 0, 0.15);\n",
              "        filter: drop-shadow(0px 1px 2px rgba(0, 0, 0, 0.3));\n",
              "        fill: #FFFFFF;\n",
              "      }\n",
              "    </style>\n",
              "    <button class=\"colab-df-generate\" onclick=\"generateWithVariable('selection')\"\n",
              "            title=\"Generate code using this dataframe.\"\n",
              "            style=\"display:none;\">\n",
              "\n",
              "  <svg xmlns=\"http://www.w3.org/2000/svg\" height=\"24px\"viewBox=\"0 0 24 24\"\n",
              "       width=\"24px\">\n",
              "    <path d=\"M7,19H8.4L18.45,9,17,7.55,7,17.6ZM5,21V16.75L18.45,3.32a2,2,0,0,1,2.83,0l1.4,1.43a1.91,1.91,0,0,1,.58,1.4,1.91,1.91,0,0,1-.58,1.4L9.25,21ZM18.45,9,17,7.55Zm-12,3A5.31,5.31,0,0,0,4.9,8.1,5.31,5.31,0,0,0,1,6.5,5.31,5.31,0,0,0,4.9,4.9,5.31,5.31,0,0,0,6.5,1,5.31,5.31,0,0,0,8.1,4.9,5.31,5.31,0,0,0,12,6.5,5.46,5.46,0,0,0,6.5,12Z\"/>\n",
              "  </svg>\n",
              "    </button>\n",
              "    <script>\n",
              "      (() => {\n",
              "      const buttonEl =\n",
              "        document.querySelector('#id_8837d650-7b71-4e53-8bcd-cc764c0f4117 button.colab-df-generate');\n",
              "      buttonEl.style.display =\n",
              "        google.colab.kernel.accessAllowed ? 'block' : 'none';\n",
              "\n",
              "      buttonEl.onclick = () => {\n",
              "        google.colab.notebook.generateWithVariable('selection');\n",
              "      }\n",
              "      })();\n",
              "    </script>\n",
              "  </div>\n",
              "\n",
              "    </div>\n",
              "  </div>\n"
            ],
            "application/vnd.google.colaboratory.intrinsic+json": {
              "type": "dataframe",
              "variable_name": "selection",
              "repr_error": "0"
            }
          },
          "metadata": {},
          "execution_count": 41
        }
      ]
    },
    {
      "cell_type": "code",
      "metadata": {
        "id": "xbR9z18FU-CI"
      },
      "source": [
        "# As one record is already selected, the total records available becomes one less than total records\n",
        "df_new = df.drop(selection.index)"
      ],
      "execution_count": 42,
      "outputs": []
    },
    {
      "cell_type": "code",
      "metadata": {
        "id": "rAXmZJtuU-CJ",
        "colab": {
          "base_uri": "https://localhost:8080/",
          "height": 178
        },
        "outputId": "fe3c2f87-fc8e-4d23-87fc-563343c0f16c"
      },
      "source": [
        "# count of sewing department records\n",
        "sewing = df_new['department']=='sewing'\n",
        "# YOUR CODE HERE to count the different values in sewing\n",
        "sewing.value_counts()"
      ],
      "execution_count": 46,
      "outputs": [
        {
          "output_type": "execute_result",
          "data": {
            "text/plain": [
              "department\n",
              "True     47\n",
              "False    37\n",
              "Name: count, dtype: int64"
            ],
            "text/html": [
              "<div>\n",
              "<style scoped>\n",
              "    .dataframe tbody tr th:only-of-type {\n",
              "        vertical-align: middle;\n",
              "    }\n",
              "\n",
              "    .dataframe tbody tr th {\n",
              "        vertical-align: top;\n",
              "    }\n",
              "\n",
              "    .dataframe thead th {\n",
              "        text-align: right;\n",
              "    }\n",
              "</style>\n",
              "<table border=\"1\" class=\"dataframe\">\n",
              "  <thead>\n",
              "    <tr style=\"text-align: right;\">\n",
              "      <th></th>\n",
              "      <th>count</th>\n",
              "    </tr>\n",
              "    <tr>\n",
              "      <th>department</th>\n",
              "      <th></th>\n",
              "    </tr>\n",
              "  </thead>\n",
              "  <tbody>\n",
              "    <tr>\n",
              "      <th>True</th>\n",
              "      <td>47</td>\n",
              "    </tr>\n",
              "    <tr>\n",
              "      <th>False</th>\n",
              "      <td>37</td>\n",
              "    </tr>\n",
              "  </tbody>\n",
              "</table>\n",
              "</div><br><label><b>dtype:</b> int64</label>"
            ]
          },
          "metadata": {},
          "execution_count": 46
        }
      ]
    },
    {
      "cell_type": "code",
      "metadata": {
        "id": "TYWwDj1tU-CK",
        "colab": {
          "base_uri": "https://localhost:8080/"
        },
        "outputId": "fab8aade-8ee9-416f-af9d-79efba53592b"
      },
      "source": [
        "df_sewing = df_new[sewing]\n",
        "# Probability of selecting sewing department record second = count of sewing department records / (all records count - 1) = 47 / 84 = 0.5595.\n",
        "P_sewing_second_given_finishing_first = len(df_sewing) / len(df_new)\n",
        "print('P(selecting a sewing department record given finishing department record was selected first)= ', round(P_sewing_second_given_finishing_first,4))"
      ],
      "execution_count": 47,
      "outputs": [
        {
          "output_type": "stream",
          "name": "stdout",
          "text": [
            "P(selecting a sewing department record given finishing department record was selected first)=  0.5595\n"
          ]
        }
      ]
    },
    {
      "cell_type": "markdown",
      "metadata": {
        "id": "zXt63VgHuM8e"
      },
      "source": [
        "Note: In case that the first record was replaced before selecting the second record from the sewing department, the probability for the second selection would remain as 47/85, not affecting the original probability of selecting a sewing department record (indicating Independent events)"
      ]
    },
    {
      "cell_type": "code",
      "metadata": {
        "id": "1eCZO8-BU-CL"
      },
      "source": [
        "P_finishing_sewing = P_finishing_first * P_sewing_second_given_finishing_first\n",
        "print('P(finishing record first and sewing record second)= ', round(P_finishing_sewing,4))"
      ],
      "execution_count": null,
      "outputs": []
    },
    {
      "cell_type": "markdown",
      "metadata": {
        "id": "tgL19779U-CM"
      },
      "source": [
        "*Case 2:* Getting non-*finishing* department record in first selection and *sewing* department record in the second selection"
      ]
    },
    {
      "cell_type": "code",
      "metadata": {
        "id": "RMf3PAGjU-CM"
      },
      "source": [
        "# count of non-finishing department records\n",
        "non_finishing = df['department']!='finishing'\n",
        "non_finishing.value_counts()"
      ],
      "execution_count": null,
      "outputs": []
    },
    {
      "cell_type": "code",
      "metadata": {
        "id": "9Ketg6JcU-CN"
      },
      "source": [
        "df_non_finishing = df[non_finishing]\n",
        "# Probability of selecting non-finishing department record first = count of non-finishing department records / all records count\n",
        "P_non_finishing_first = len(df_non_finishing) / len(df)           # 47 / 85 = 0.5529\n",
        "print('P(selecting a non-finishing department record first)= ', round(P_non_finishing_first,4))"
      ],
      "execution_count": null,
      "outputs": []
    },
    {
      "cell_type": "code",
      "metadata": {
        "id": "wfRcdfOrU-CO"
      },
      "source": [
        "# Randomly selecting any non-'finishing' department record\n",
        "i = np.random.randint(len(df_non_finishing)-1)\n",
        "selection = df_non_finishing.iloc[i:i+1, :]\n",
        "selection"
      ],
      "execution_count": null,
      "outputs": []
    },
    {
      "cell_type": "code",
      "metadata": {
        "id": "VhyDmkLEU-CP"
      },
      "source": [
        "# As one record is already selected, the records available becomes one less than total records\n",
        "# YOUR CODE HERE to drop record"
      ],
      "execution_count": null,
      "outputs": []
    },
    {
      "cell_type": "code",
      "metadata": {
        "id": "x0IEOCVgU-CP"
      },
      "source": [
        "# count of sewing department records\n",
        "sewing = df_new['department']=='sewing'\n",
        "sewing.value_counts()"
      ],
      "execution_count": null,
      "outputs": []
    },
    {
      "cell_type": "code",
      "metadata": {
        "id": "yWCsz1jHU-CQ"
      },
      "source": [
        "# YOUR CODE HERE to create df_sewing\n",
        "\n",
        "# Probability of selecting sewing department record second = count of sewing department records / (all records count - 1) = 46 / 84 = 0.5476\n",
        "# YOUR CODE HERE to create P_sewing_second_given_non_finishing_first\n",
        "\n",
        "print('P(selecting a sewing department record given non-finishing department record was selected first)= ', round(P_sewing_second_given_non_finishing_first,4))"
      ],
      "execution_count": null,
      "outputs": []
    },
    {
      "cell_type": "code",
      "metadata": {
        "id": "5OmJVdFBU-CR"
      },
      "source": [
        "# YOUR CODE HERE for P_non_finishing_sewing"
      ],
      "execution_count": null,
      "outputs": []
    },
    {
      "cell_type": "code",
      "metadata": {
        "id": "H87mT9HkU-CR"
      },
      "source": [
        "# Check for dependency\n",
        "P_finishing_sewing != P_non_finishing_sewing"
      ],
      "execution_count": null,
      "outputs": []
    },
    {
      "cell_type": "markdown",
      "metadata": {
        "id": "-aN3QmulpLWA"
      },
      "source": [
        "As we see, selecting the second record without replacing the first record in the dataset changed the probability of the selection of the second record. This indicates that these are dependent events."
      ]
    },
    {
      "cell_type": "markdown",
      "metadata": {
        "id": "TUY6V-I05zO3"
      },
      "source": [
        "Till now the selections were made from a common dataset. Let's see what will happen if it is to be made from different subsets of the dataset."
      ]
    },
    {
      "cell_type": "markdown",
      "metadata": {
        "id": "FYn1OCft5zO3"
      },
      "source": [
        "### Independent events"
      ]
    },
    {
      "cell_type": "markdown",
      "metadata": {
        "id": "glj_EizK5zO4"
      },
      "source": [
        "Two events $A$ and $B$ are called independent, if the happening of $A$ does not affect the happening of $B$. Also, for independent events,\n",
        "\n",
        "$ P(A∩B) = P(A).P(B) $ will hold true\n",
        "\n",
        "To know more about independent events click [here](https://corporatefinanceinstitute.com/resources/knowledge/other/dependent-events-vs-independent-events/#:~:text=Dependent%20events%20influence%20the%20probability,probability%20of%20another%20event%20happening.)."
      ]
    },
    {
      "cell_type": "markdown",
      "metadata": {
        "id": "54Yh7piT5zO4"
      },
      "source": [
        "**Exercise 6:** A record is selected among those whose day of week is *Monday* and also another record is selected among those whose day of week is *Saturday*. Find the probability of getting a *finishing* department record from the first selection and a *sewing* department record from the second selection given both events are independent of each other?"
      ]
    },
    {
      "cell_type": "code",
      "metadata": {
        "id": "pyGFpE2Q5zO4",
        "colab": {
          "base_uri": "https://localhost:8080/"
        },
        "outputId": "d6805831-c129-48c8-c41d-8b1d99510450"
      },
      "source": [
        "# Display different department and day of week\n",
        "print('Department: ',df['department'].unique())\n",
        "# YOUR CODE HERE to display unique weekdays"
      ],
      "execution_count": 48,
      "outputs": [
        {
          "output_type": "stream",
          "name": "stdout",
          "text": [
            "Department:  ['finishing' 'sewing']\n"
          ]
        }
      ]
    },
    {
      "cell_type": "code",
      "metadata": {
        "id": "8xxsDFRZ5zO5",
        "colab": {
          "base_uri": "https://localhost:8080/"
        },
        "outputId": "a9daff88-f36f-40e2-ad75-d12e32733073"
      },
      "source": [
        "# Select records having day = 'Monday'\n",
        "df_monday = df[df['day']=='Monday']\n",
        "\n",
        "P_finishing_from_monday = len(df_monday[df_monday['department']=='finishing']) / len(df_monday)\n",
        "print('P(selecting finishing department record from Monday records)= ', round(P_finishing_from_monday,4))"
      ],
      "execution_count": 49,
      "outputs": [
        {
          "output_type": "stream",
          "name": "stdout",
          "text": [
            "P(selecting finishing department record from Monday records)=  0.4688\n"
          ]
        }
      ]
    },
    {
      "cell_type": "code",
      "metadata": {
        "id": "Bj8RfRA55zO5",
        "colab": {
          "base_uri": "https://localhost:8080/"
        },
        "outputId": "599370cc-b1d2-48ba-b33b-7d1d6bd27d0c"
      },
      "source": [
        "# Select records having day = 'Saturday'\n",
        "# YOUR CODE HERE to create df_saturday\n",
        "df_saturday = df[df['day']=='Saturday']\n",
        "P_sewing_from_saturday = len(df_saturday[df_saturday['department']=='sewing']) / len(df_saturday)\n",
        "print('P(selecting sewing department record from Saturday records)= ', round(P_sewing_from_saturday,4))"
      ],
      "execution_count": 51,
      "outputs": [
        {
          "output_type": "stream",
          "name": "stdout",
          "text": [
            "P(selecting sewing department record from Saturday records)=  0.5769\n"
          ]
        }
      ]
    },
    {
      "cell_type": "code",
      "metadata": {
        "id": "whvP2new5zO5",
        "colab": {
          "base_uri": "https://localhost:8080/"
        },
        "outputId": "9c1f2e08-2ef3-4cea-e88d-513b8c300080"
      },
      "source": [
        "# As events are independent,\n",
        "P_finishing_and_sewing = P_finishing_from_monday * P_sewing_from_saturday\n",
        "print('P(getting finishing department from first selection and sewing department from second selection)= ', round(P_finishing_and_sewing,4))"
      ],
      "execution_count": 52,
      "outputs": [
        {
          "output_type": "stream",
          "name": "stdout",
          "text": [
            "P(getting finishing department from first selection and sewing department from second selection)=  0.2704\n"
          ]
        }
      ]
    },
    {
      "cell_type": "markdown",
      "metadata": {
        "id": "3MuAq_Y_5zO5"
      },
      "source": [
        "Earlier we saw that the elements of a sample space can be numbers, words, letters, or symbols. Let's see how we can map them to set of real numbers."
      ]
    },
    {
      "cell_type": "markdown",
      "metadata": {
        "id": "tKOBS3au5zO6"
      },
      "source": [
        "### Random Variables"
      ]
    },
    {
      "cell_type": "markdown",
      "metadata": {
        "id": "a9M0xh7J5zO6"
      },
      "source": [
        "Random variable is basically a function which maps from the set of sample space to set of real numbers. The purpose is to get an idea about result of a particular situation where we are given probabilities of different outcomes.\n",
        "\n",
        "   Formal definition :   $ X: S -> R $\n",
        "\n",
        "where,  $X$ = random variable, $S$ = set of sample space, $R$ = set of real numbers\n",
        "   \n",
        "To know more about random variables click [here](http://www.stat.yale.edu/Courses/1997-98/101/ranvar.htm).\n",
        "   \n",
        "There are mainly two types of random variables: discrete and continuous as shown in figure below\n",
        "\n",
        "![image](https://cdn.iisc.talentsprint.com/CDS/Images/Random_variables.jpg)"
      ]
    },
    {
      "cell_type": "markdown",
      "metadata": {
        "id": "DF0-VaT65zO6"
      },
      "source": [
        "#### Discrete Random Variable and PMF"
      ]
    },
    {
      "cell_type": "markdown",
      "metadata": {
        "id": "86-826Xj5zO6"
      },
      "source": [
        "A random variable $X$ is said to be discrete if it takes on finite number of values. The probability function associated with it is said to be probability mass function or PMF.\n",
        "$P(x_i)$ = Probability that $(X = x_i)$ = PMF of $X = p_i$.\n",
        "\n",
        "* $ 0 ≤ p_i ≤ 1 $\n",
        "* $ ∑p_i = 1 $ where the sum is taken over all possible values of X"
      ]
    },
    {
      "cell_type": "markdown",
      "metadata": {
        "id": "5PoB__2v5zO7"
      },
      "source": [
        "**Exercise 7:** Let $S$ is the sample space given below and corresponding $P(X=x_i)$ is also given, where $X$ is a discrete random variable. Find the probability at $X=0$."
      ]
    },
    {
      "cell_type": "code",
      "metadata": {
        "id": "S9g02iug5zO7",
        "colab": {
          "base_uri": "https://localhost:8080/",
          "height": 89
        },
        "outputId": "5d672399-5b3a-4f55-cba2-cc4981f1d13c"
      },
      "source": [
        "df1 = pd.DataFrame({'X=0': '?', 'X=1':0.2, 'X=3': 0.3, 'X=4': 0.1}, index= ['P(X=xi)'])\n",
        "df1"
      ],
      "execution_count": 53,
      "outputs": [
        {
          "output_type": "execute_result",
          "data": {
            "text/plain": [
              "        X=0  X=1  X=3  X=4\n",
              "P(X=xi)   ?  0.2  0.3  0.1"
            ],
            "text/html": [
              "\n",
              "  <div id=\"df-700c3908-65cd-4d83-b1cf-18b78dc367e8\" class=\"colab-df-container\">\n",
              "    <div>\n",
              "<style scoped>\n",
              "    .dataframe tbody tr th:only-of-type {\n",
              "        vertical-align: middle;\n",
              "    }\n",
              "\n",
              "    .dataframe tbody tr th {\n",
              "        vertical-align: top;\n",
              "    }\n",
              "\n",
              "    .dataframe thead th {\n",
              "        text-align: right;\n",
              "    }\n",
              "</style>\n",
              "<table border=\"1\" class=\"dataframe\">\n",
              "  <thead>\n",
              "    <tr style=\"text-align: right;\">\n",
              "      <th></th>\n",
              "      <th>X=0</th>\n",
              "      <th>X=1</th>\n",
              "      <th>X=3</th>\n",
              "      <th>X=4</th>\n",
              "    </tr>\n",
              "  </thead>\n",
              "  <tbody>\n",
              "    <tr>\n",
              "      <th>P(X=xi)</th>\n",
              "      <td>?</td>\n",
              "      <td>0.2</td>\n",
              "      <td>0.3</td>\n",
              "      <td>0.1</td>\n",
              "    </tr>\n",
              "  </tbody>\n",
              "</table>\n",
              "</div>\n",
              "    <div class=\"colab-df-buttons\">\n",
              "\n",
              "  <div class=\"colab-df-container\">\n",
              "    <button class=\"colab-df-convert\" onclick=\"convertToInteractive('df-700c3908-65cd-4d83-b1cf-18b78dc367e8')\"\n",
              "            title=\"Convert this dataframe to an interactive table.\"\n",
              "            style=\"display:none;\">\n",
              "\n",
              "  <svg xmlns=\"http://www.w3.org/2000/svg\" height=\"24px\" viewBox=\"0 -960 960 960\">\n",
              "    <path d=\"M120-120v-720h720v720H120Zm60-500h600v-160H180v160Zm220 220h160v-160H400v160Zm0 220h160v-160H400v160ZM180-400h160v-160H180v160Zm440 0h160v-160H620v160ZM180-180h160v-160H180v160Zm440 0h160v-160H620v160Z\"/>\n",
              "  </svg>\n",
              "    </button>\n",
              "\n",
              "  <style>\n",
              "    .colab-df-container {\n",
              "      display:flex;\n",
              "      gap: 12px;\n",
              "    }\n",
              "\n",
              "    .colab-df-convert {\n",
              "      background-color: #E8F0FE;\n",
              "      border: none;\n",
              "      border-radius: 50%;\n",
              "      cursor: pointer;\n",
              "      display: none;\n",
              "      fill: #1967D2;\n",
              "      height: 32px;\n",
              "      padding: 0 0 0 0;\n",
              "      width: 32px;\n",
              "    }\n",
              "\n",
              "    .colab-df-convert:hover {\n",
              "      background-color: #E2EBFA;\n",
              "      box-shadow: 0px 1px 2px rgba(60, 64, 67, 0.3), 0px 1px 3px 1px rgba(60, 64, 67, 0.15);\n",
              "      fill: #174EA6;\n",
              "    }\n",
              "\n",
              "    .colab-df-buttons div {\n",
              "      margin-bottom: 4px;\n",
              "    }\n",
              "\n",
              "    [theme=dark] .colab-df-convert {\n",
              "      background-color: #3B4455;\n",
              "      fill: #D2E3FC;\n",
              "    }\n",
              "\n",
              "    [theme=dark] .colab-df-convert:hover {\n",
              "      background-color: #434B5C;\n",
              "      box-shadow: 0px 1px 3px 1px rgba(0, 0, 0, 0.15);\n",
              "      filter: drop-shadow(0px 1px 2px rgba(0, 0, 0, 0.3));\n",
              "      fill: #FFFFFF;\n",
              "    }\n",
              "  </style>\n",
              "\n",
              "    <script>\n",
              "      const buttonEl =\n",
              "        document.querySelector('#df-700c3908-65cd-4d83-b1cf-18b78dc367e8 button.colab-df-convert');\n",
              "      buttonEl.style.display =\n",
              "        google.colab.kernel.accessAllowed ? 'block' : 'none';\n",
              "\n",
              "      async function convertToInteractive(key) {\n",
              "        const element = document.querySelector('#df-700c3908-65cd-4d83-b1cf-18b78dc367e8');\n",
              "        const dataTable =\n",
              "          await google.colab.kernel.invokeFunction('convertToInteractive',\n",
              "                                                    [key], {});\n",
              "        if (!dataTable) return;\n",
              "\n",
              "        const docLinkHtml = 'Like what you see? Visit the ' +\n",
              "          '<a target=\"_blank\" href=https://colab.research.google.com/notebooks/data_table.ipynb>data table notebook</a>'\n",
              "          + ' to learn more about interactive tables.';\n",
              "        element.innerHTML = '';\n",
              "        dataTable['output_type'] = 'display_data';\n",
              "        await google.colab.output.renderOutput(dataTable, element);\n",
              "        const docLink = document.createElement('div');\n",
              "        docLink.innerHTML = docLinkHtml;\n",
              "        element.appendChild(docLink);\n",
              "      }\n",
              "    </script>\n",
              "  </div>\n",
              "\n",
              "\n",
              "  <div id=\"id_5039e2c3-ed5e-4730-93f0-2c70cdfeb5f8\">\n",
              "    <style>\n",
              "      .colab-df-generate {\n",
              "        background-color: #E8F0FE;\n",
              "        border: none;\n",
              "        border-radius: 50%;\n",
              "        cursor: pointer;\n",
              "        display: none;\n",
              "        fill: #1967D2;\n",
              "        height: 32px;\n",
              "        padding: 0 0 0 0;\n",
              "        width: 32px;\n",
              "      }\n",
              "\n",
              "      .colab-df-generate:hover {\n",
              "        background-color: #E2EBFA;\n",
              "        box-shadow: 0px 1px 2px rgba(60, 64, 67, 0.3), 0px 1px 3px 1px rgba(60, 64, 67, 0.15);\n",
              "        fill: #174EA6;\n",
              "      }\n",
              "\n",
              "      [theme=dark] .colab-df-generate {\n",
              "        background-color: #3B4455;\n",
              "        fill: #D2E3FC;\n",
              "      }\n",
              "\n",
              "      [theme=dark] .colab-df-generate:hover {\n",
              "        background-color: #434B5C;\n",
              "        box-shadow: 0px 1px 3px 1px rgba(0, 0, 0, 0.15);\n",
              "        filter: drop-shadow(0px 1px 2px rgba(0, 0, 0, 0.3));\n",
              "        fill: #FFFFFF;\n",
              "      }\n",
              "    </style>\n",
              "    <button class=\"colab-df-generate\" onclick=\"generateWithVariable('df1')\"\n",
              "            title=\"Generate code using this dataframe.\"\n",
              "            style=\"display:none;\">\n",
              "\n",
              "  <svg xmlns=\"http://www.w3.org/2000/svg\" height=\"24px\"viewBox=\"0 0 24 24\"\n",
              "       width=\"24px\">\n",
              "    <path d=\"M7,19H8.4L18.45,9,17,7.55,7,17.6ZM5,21V16.75L18.45,3.32a2,2,0,0,1,2.83,0l1.4,1.43a1.91,1.91,0,0,1,.58,1.4,1.91,1.91,0,0,1-.58,1.4L9.25,21ZM18.45,9,17,7.55Zm-12,3A5.31,5.31,0,0,0,4.9,8.1,5.31,5.31,0,0,0,1,6.5,5.31,5.31,0,0,0,4.9,4.9,5.31,5.31,0,0,0,6.5,1,5.31,5.31,0,0,0,8.1,4.9,5.31,5.31,0,0,0,12,6.5,5.46,5.46,0,0,0,6.5,12Z\"/>\n",
              "  </svg>\n",
              "    </button>\n",
              "    <script>\n",
              "      (() => {\n",
              "      const buttonEl =\n",
              "        document.querySelector('#id_5039e2c3-ed5e-4730-93f0-2c70cdfeb5f8 button.colab-df-generate');\n",
              "      buttonEl.style.display =\n",
              "        google.colab.kernel.accessAllowed ? 'block' : 'none';\n",
              "\n",
              "      buttonEl.onclick = () => {\n",
              "        google.colab.notebook.generateWithVariable('df1');\n",
              "      }\n",
              "      })();\n",
              "    </script>\n",
              "  </div>\n",
              "\n",
              "    </div>\n",
              "  </div>\n"
            ],
            "application/vnd.google.colaboratory.intrinsic+json": {
              "type": "dataframe",
              "variable_name": "df1",
              "summary": "{\n  \"name\": \"df1\",\n  \"rows\": 1,\n  \"fields\": [\n    {\n      \"column\": \"X=0\",\n      \"properties\": {\n        \"dtype\": \"string\",\n        \"num_unique_values\": 1,\n        \"samples\": [\n          \"?\"\n        ],\n        \"semantic_type\": \"\",\n        \"description\": \"\"\n      }\n    },\n    {\n      \"column\": \"X=1\",\n      \"properties\": {\n        \"dtype\": \"number\",\n        \"std\": null,\n        \"min\": 0.2,\n        \"max\": 0.2,\n        \"num_unique_values\": 1,\n        \"samples\": [\n          0.2\n        ],\n        \"semantic_type\": \"\",\n        \"description\": \"\"\n      }\n    },\n    {\n      \"column\": \"X=3\",\n      \"properties\": {\n        \"dtype\": \"number\",\n        \"std\": null,\n        \"min\": 0.3,\n        \"max\": 0.3,\n        \"num_unique_values\": 1,\n        \"samples\": [\n          0.3\n        ],\n        \"semantic_type\": \"\",\n        \"description\": \"\"\n      }\n    },\n    {\n      \"column\": \"X=4\",\n      \"properties\": {\n        \"dtype\": \"number\",\n        \"std\": null,\n        \"min\": 0.1,\n        \"max\": 0.1,\n        \"num_unique_values\": 1,\n        \"samples\": [\n          0.1\n        ],\n        \"semantic_type\": \"\",\n        \"description\": \"\"\n      }\n    }\n  ]\n}"
            }
          },
          "metadata": {},
          "execution_count": 53
        }
      ]
    },
    {
      "cell_type": "code",
      "metadata": {
        "id": "POHiSIfz5zO7",
        "colab": {
          "base_uri": "https://localhost:8080/",
          "height": 89
        },
        "outputId": "1a897fe6-834f-488a-c8b4-14a6bcba5be0"
      },
      "source": [
        "# For a discrete random variable we know that sum of all P(X=xi) = 1,\n",
        "# YOUR CODE HERE to calculate df1['X=0']\n",
        "df1['X=0'] = 1 - ( df1['X=1']+df1['X=3']+ df1['X=4'] )\n",
        "df1"
      ],
      "execution_count": 56,
      "outputs": [
        {
          "output_type": "execute_result",
          "data": {
            "text/plain": [
              "         X=0  X=1  X=3  X=4\n",
              "P(X=xi)  0.4  0.2  0.3  0.1"
            ],
            "text/html": [
              "\n",
              "  <div id=\"df-69893262-2bd9-4da8-a000-563fa4238dc1\" class=\"colab-df-container\">\n",
              "    <div>\n",
              "<style scoped>\n",
              "    .dataframe tbody tr th:only-of-type {\n",
              "        vertical-align: middle;\n",
              "    }\n",
              "\n",
              "    .dataframe tbody tr th {\n",
              "        vertical-align: top;\n",
              "    }\n",
              "\n",
              "    .dataframe thead th {\n",
              "        text-align: right;\n",
              "    }\n",
              "</style>\n",
              "<table border=\"1\" class=\"dataframe\">\n",
              "  <thead>\n",
              "    <tr style=\"text-align: right;\">\n",
              "      <th></th>\n",
              "      <th>X=0</th>\n",
              "      <th>X=1</th>\n",
              "      <th>X=3</th>\n",
              "      <th>X=4</th>\n",
              "    </tr>\n",
              "  </thead>\n",
              "  <tbody>\n",
              "    <tr>\n",
              "      <th>P(X=xi)</th>\n",
              "      <td>0.4</td>\n",
              "      <td>0.2</td>\n",
              "      <td>0.3</td>\n",
              "      <td>0.1</td>\n",
              "    </tr>\n",
              "  </tbody>\n",
              "</table>\n",
              "</div>\n",
              "    <div class=\"colab-df-buttons\">\n",
              "\n",
              "  <div class=\"colab-df-container\">\n",
              "    <button class=\"colab-df-convert\" onclick=\"convertToInteractive('df-69893262-2bd9-4da8-a000-563fa4238dc1')\"\n",
              "            title=\"Convert this dataframe to an interactive table.\"\n",
              "            style=\"display:none;\">\n",
              "\n",
              "  <svg xmlns=\"http://www.w3.org/2000/svg\" height=\"24px\" viewBox=\"0 -960 960 960\">\n",
              "    <path d=\"M120-120v-720h720v720H120Zm60-500h600v-160H180v160Zm220 220h160v-160H400v160Zm0 220h160v-160H400v160ZM180-400h160v-160H180v160Zm440 0h160v-160H620v160ZM180-180h160v-160H180v160Zm440 0h160v-160H620v160Z\"/>\n",
              "  </svg>\n",
              "    </button>\n",
              "\n",
              "  <style>\n",
              "    .colab-df-container {\n",
              "      display:flex;\n",
              "      gap: 12px;\n",
              "    }\n",
              "\n",
              "    .colab-df-convert {\n",
              "      background-color: #E8F0FE;\n",
              "      border: none;\n",
              "      border-radius: 50%;\n",
              "      cursor: pointer;\n",
              "      display: none;\n",
              "      fill: #1967D2;\n",
              "      height: 32px;\n",
              "      padding: 0 0 0 0;\n",
              "      width: 32px;\n",
              "    }\n",
              "\n",
              "    .colab-df-convert:hover {\n",
              "      background-color: #E2EBFA;\n",
              "      box-shadow: 0px 1px 2px rgba(60, 64, 67, 0.3), 0px 1px 3px 1px rgba(60, 64, 67, 0.15);\n",
              "      fill: #174EA6;\n",
              "    }\n",
              "\n",
              "    .colab-df-buttons div {\n",
              "      margin-bottom: 4px;\n",
              "    }\n",
              "\n",
              "    [theme=dark] .colab-df-convert {\n",
              "      background-color: #3B4455;\n",
              "      fill: #D2E3FC;\n",
              "    }\n",
              "\n",
              "    [theme=dark] .colab-df-convert:hover {\n",
              "      background-color: #434B5C;\n",
              "      box-shadow: 0px 1px 3px 1px rgba(0, 0, 0, 0.15);\n",
              "      filter: drop-shadow(0px 1px 2px rgba(0, 0, 0, 0.3));\n",
              "      fill: #FFFFFF;\n",
              "    }\n",
              "  </style>\n",
              "\n",
              "    <script>\n",
              "      const buttonEl =\n",
              "        document.querySelector('#df-69893262-2bd9-4da8-a000-563fa4238dc1 button.colab-df-convert');\n",
              "      buttonEl.style.display =\n",
              "        google.colab.kernel.accessAllowed ? 'block' : 'none';\n",
              "\n",
              "      async function convertToInteractive(key) {\n",
              "        const element = document.querySelector('#df-69893262-2bd9-4da8-a000-563fa4238dc1');\n",
              "        const dataTable =\n",
              "          await google.colab.kernel.invokeFunction('convertToInteractive',\n",
              "                                                    [key], {});\n",
              "        if (!dataTable) return;\n",
              "\n",
              "        const docLinkHtml = 'Like what you see? Visit the ' +\n",
              "          '<a target=\"_blank\" href=https://colab.research.google.com/notebooks/data_table.ipynb>data table notebook</a>'\n",
              "          + ' to learn more about interactive tables.';\n",
              "        element.innerHTML = '';\n",
              "        dataTable['output_type'] = 'display_data';\n",
              "        await google.colab.output.renderOutput(dataTable, element);\n",
              "        const docLink = document.createElement('div');\n",
              "        docLink.innerHTML = docLinkHtml;\n",
              "        element.appendChild(docLink);\n",
              "      }\n",
              "    </script>\n",
              "  </div>\n",
              "\n",
              "\n",
              "  <div id=\"id_700e88cd-965b-448d-b5e6-e93067ac2f56\">\n",
              "    <style>\n",
              "      .colab-df-generate {\n",
              "        background-color: #E8F0FE;\n",
              "        border: none;\n",
              "        border-radius: 50%;\n",
              "        cursor: pointer;\n",
              "        display: none;\n",
              "        fill: #1967D2;\n",
              "        height: 32px;\n",
              "        padding: 0 0 0 0;\n",
              "        width: 32px;\n",
              "      }\n",
              "\n",
              "      .colab-df-generate:hover {\n",
              "        background-color: #E2EBFA;\n",
              "        box-shadow: 0px 1px 2px rgba(60, 64, 67, 0.3), 0px 1px 3px 1px rgba(60, 64, 67, 0.15);\n",
              "        fill: #174EA6;\n",
              "      }\n",
              "\n",
              "      [theme=dark] .colab-df-generate {\n",
              "        background-color: #3B4455;\n",
              "        fill: #D2E3FC;\n",
              "      }\n",
              "\n",
              "      [theme=dark] .colab-df-generate:hover {\n",
              "        background-color: #434B5C;\n",
              "        box-shadow: 0px 1px 3px 1px rgba(0, 0, 0, 0.15);\n",
              "        filter: drop-shadow(0px 1px 2px rgba(0, 0, 0, 0.3));\n",
              "        fill: #FFFFFF;\n",
              "      }\n",
              "    </style>\n",
              "    <button class=\"colab-df-generate\" onclick=\"generateWithVariable('df1')\"\n",
              "            title=\"Generate code using this dataframe.\"\n",
              "            style=\"display:none;\">\n",
              "\n",
              "  <svg xmlns=\"http://www.w3.org/2000/svg\" height=\"24px\"viewBox=\"0 0 24 24\"\n",
              "       width=\"24px\">\n",
              "    <path d=\"M7,19H8.4L18.45,9,17,7.55,7,17.6ZM5,21V16.75L18.45,3.32a2,2,0,0,1,2.83,0l1.4,1.43a1.91,1.91,0,0,1,.58,1.4,1.91,1.91,0,0,1-.58,1.4L9.25,21ZM18.45,9,17,7.55Zm-12,3A5.31,5.31,0,0,0,4.9,8.1,5.31,5.31,0,0,0,1,6.5,5.31,5.31,0,0,0,4.9,4.9,5.31,5.31,0,0,0,6.5,1,5.31,5.31,0,0,0,8.1,4.9,5.31,5.31,0,0,0,12,6.5,5.46,5.46,0,0,0,6.5,12Z\"/>\n",
              "  </svg>\n",
              "    </button>\n",
              "    <script>\n",
              "      (() => {\n",
              "      const buttonEl =\n",
              "        document.querySelector('#id_700e88cd-965b-448d-b5e6-e93067ac2f56 button.colab-df-generate');\n",
              "      buttonEl.style.display =\n",
              "        google.colab.kernel.accessAllowed ? 'block' : 'none';\n",
              "\n",
              "      buttonEl.onclick = () => {\n",
              "        google.colab.notebook.generateWithVariable('df1');\n",
              "      }\n",
              "      })();\n",
              "    </script>\n",
              "  </div>\n",
              "\n",
              "    </div>\n",
              "  </div>\n"
            ],
            "application/vnd.google.colaboratory.intrinsic+json": {
              "type": "dataframe",
              "variable_name": "df1",
              "summary": "{\n  \"name\": \"df1\",\n  \"rows\": 1,\n  \"fields\": [\n    {\n      \"column\": \"X=0\",\n      \"properties\": {\n        \"dtype\": \"number\",\n        \"std\": null,\n        \"min\": 0.4,\n        \"max\": 0.4,\n        \"num_unique_values\": 1,\n        \"samples\": [\n          0.4\n        ],\n        \"semantic_type\": \"\",\n        \"description\": \"\"\n      }\n    },\n    {\n      \"column\": \"X=1\",\n      \"properties\": {\n        \"dtype\": \"number\",\n        \"std\": null,\n        \"min\": 0.2,\n        \"max\": 0.2,\n        \"num_unique_values\": 1,\n        \"samples\": [\n          0.2\n        ],\n        \"semantic_type\": \"\",\n        \"description\": \"\"\n      }\n    },\n    {\n      \"column\": \"X=3\",\n      \"properties\": {\n        \"dtype\": \"number\",\n        \"std\": null,\n        \"min\": 0.3,\n        \"max\": 0.3,\n        \"num_unique_values\": 1,\n        \"samples\": [\n          0.3\n        ],\n        \"semantic_type\": \"\",\n        \"description\": \"\"\n      }\n    },\n    {\n      \"column\": \"X=4\",\n      \"properties\": {\n        \"dtype\": \"number\",\n        \"std\": null,\n        \"min\": 0.1,\n        \"max\": 0.1,\n        \"num_unique_values\": 1,\n        \"samples\": [\n          0.1\n        ],\n        \"semantic_type\": \"\",\n        \"description\": \"\"\n      }\n    }\n  ]\n}"
            }
          },
          "metadata": {},
          "execution_count": 56
        }
      ]
    },
    {
      "cell_type": "markdown",
      "metadata": {
        "id": "9rJtGOTZ5zO7"
      },
      "source": [
        "**Exercise 8:** Plot the PMF of the discrete random variable X defined as total number of heads while tossing a coin thrice."
      ]
    },
    {
      "cell_type": "code",
      "metadata": {
        "id": "dDYW_SYs5zO7"
      },
      "source": [
        "# Our sample space would consist of {HHH, HHT,HTH, THH, TTH, THT, HTT, TTT}\n",
        "X = [0, 1, 2, 3]   # Number of heads we can get are\n",
        "\n",
        "P_X0 = 1/8   # P(X=0)     {TTT}\n",
        "P_X1 = 3/8   # P(X=1)     {HTT, THT, TTH}\n",
        "# YOUR CODE HERE to create P_X2     # P(X=2)     {HHT, HTH, THH}\n",
        "P_X2 = 3/8\n",
        "# YOUR CODE HERE to create P_X3     # P(X=3)     {HHH}\n",
        "P_X3 = 1/8\n",
        "P_Xi = [P_X0, P_X1, P_X2, P_X3]"
      ],
      "execution_count": 1,
      "outputs": []
    },
    {
      "cell_type": "code",
      "metadata": {
        "id": "cTm289D65zO8",
        "colab": {
          "base_uri": "https://localhost:8080/",
          "height": 472
        },
        "outputId": "e99aa254-9fe7-4360-fe20-a0edf2dbebe7"
      },
      "source": [
        "# Plotting PMF\n",
        "sns.barplot(x= X, y= P_Xi)\n",
        "plt.title('PMF'); plt.xlabel('Number of heads'); plt.ylabel('Probability')\n",
        "plt.show()"
      ],
      "execution_count": 4,
      "outputs": [
        {
          "output_type": "display_data",
          "data": {
            "text/plain": [
              "<Figure size 640x480 with 1 Axes>"
            ],
            "image/png": "[encoded data removed]"
          },
          "metadata": {}
        }
      ]
    },
    {
      "cell_type": "code",
      "metadata": {
        "id": "WSCjhOO75zO8",
        "colab": {
          "base_uri": "https://localhost:8080/",
          "height": 490
        },
        "outputId": "522a2946-2cc5-42c9-88fe-766fe200f977"
      },
      "source": [
        "from itertools import accumulate as acc\n",
        "# Plotting CDF or cumulative distribution function\n",
        "# YOUR CODE HERE to plot cdf\n",
        "P_cumulate = list(acc(P_Xi))\n",
        "sns.barplot(x= X, y= P_cumulate)\n",
        "plt.title('CDF'); plt.xlabel('Number of heads'); plt.ylabel('Cumulative Probability')"
      ],
      "execution_count": 6,
      "outputs": [
        {
          "output_type": "execute_result",
          "data": {
            "text/plain": [
              "Text(0, 0.5, 'Cumulative Probability')"
            ]
          },
          "metadata": {},
          "execution_count": 6
        },
        {
          "output_type": "display_data",
          "data": {
            "text/plain": [
              "<Figure size 640x480 with 1 Axes>"
            ],
            "image/png": "[encoded data removed]"
          },
          "metadata": {}
        }
      ]
    },
    {
      "cell_type": "markdown",
      "metadata": {
        "id": "0Lhyqu4s5zO8"
      },
      "source": [
        "From above plot it can be seen that $ ∑p_i = 1 $."
      ]
    },
    {
      "cell_type": "markdown",
      "metadata": {
        "id": "LejakHM85zO8"
      },
      "source": [
        "#### Continuous Random Variable and PDF"
      ]
    },
    {
      "cell_type": "markdown",
      "metadata": {
        "id": "8ZoC2klV5zO8"
      },
      "source": [
        "A random variable $X$ is said to be continuous if it takes on the infinite number of values. The probability function associated with it is said to be PDF or probability density function.\n",
        "\n",
        "PDF: If $X$ is a continuous random variable.\n",
        "\n",
        "$ P (x < X < x + dx) = f(x).dx $\n",
        "\n",
        "* $ 0 ≤ f(x); $ for all $x$\n",
        "* $ ∫ f(x) dx = 1  $ over all values of $x$\n",
        "\n",
        "Then $P (X)$ is said to be a PDF of the distribution.\n",
        "\n",
        "The probability distribution of a continuous random variable $X$ is an assignment of probabilities to intervals of decimal numbers using a function $f(x)$, called a density function, in the following way: the probability that $X$ assumes a value in the interval $(a,b)$ is equal to the area of the region that is bounded above by the graph of the equation $y=f(x)$, bounded below by the $x$-axis, and bounded on the left and right by the vertical lines through $a$ and $b$, as shown in the figure below\n",
        "![image](https://cdn.iisc.talentsprint.com/CDS/Images/prob_density_function.png)"
      ]
    },
    {
      "cell_type": "markdown",
      "metadata": {
        "id": "jFa7LaLY5zO9"
      },
      "source": [
        "**Exercise 9:** Compute the value of $P (1 < X < 2)$.\n",
        "    Such that the density function is given by,\n",
        "    \n",
        "$$f(x)=\\begin{equation}\n",
        "\\left\\{\n",
        "  \\begin{aligned}\n",
        "    &k.x^3&  for\\ \\  0 ≤ x ≤ 3\\\\\n",
        "    &0&   \\  otherwise\\\\\n",
        "  \\end{aligned}\n",
        "  \\right.\n",
        "\\end{equation}\n",
        "$$\n",
        "     \n",
        "Also, plot the PDF and CDF for random variable $X$."
      ]
    },
    {
      "cell_type": "code",
      "metadata": {
        "id": "BY30ibOV5zO9",
        "colab": {
          "base_uri": "https://localhost:8080/"
        },
        "outputId": "044165cd-a843-4573-b892-5294eb2d527e"
      },
      "source": [
        "# ∫ f(x) dx = 1\n",
        "# Using the above property we find k,\n",
        "# ∫ (k*x**3)dx = 1\n",
        "# k = 1 / ∫ (x**3)dx\n",
        "k = 1 / (integrate.quad(lambda x: x**3, 0, 3)[0])        # integrate  x^3  w.r.t  x from 0 to 3\n",
        "print('k= ', round(k,4))"
      ],
      "execution_count": 7,
      "outputs": [
        {
          "output_type": "stream",
          "name": "stdout",
          "text": [
            "k=  0.0494\n"
          ]
        }
      ]
    },
    {
      "cell_type": "code",
      "metadata": {
        "id": "lOCIPRBm5zO9",
        "colab": {
          "base_uri": "https://localhost:8080/"
        },
        "outputId": "b72dc5a3-4393-4bca-d777-2a3ce5b189bc"
      },
      "source": [
        "# Now the probability density for 1<X<2 is given by,\n",
        "# ∫ 1->2 (k*x**3)dx =\n",
        "# YOUR CODE HERE to calculate P\n",
        "P = integrate.quad(lambda x: k*x**3, 1, 2)[0]\n",
        "print(integrate.quad(lambda x: k*x**3, 1, 2))\n",
        "print('P(1<X<2)= ', round(P, 4))"
      ],
      "execution_count": 9,
      "outputs": [
        {
          "output_type": "stream",
          "name": "stdout",
          "text": [
            "(0.18518518518518523, 2.0559685641206607e-15)\n",
            "P(1<X<2)=  0.1852\n"
          ]
        }
      ]
    },
    {
      "cell_type": "code",
      "metadata": {
        "id": "rcCFKiqA5zO9",
        "colab": {
          "base_uri": "https://localhost:8080/",
          "height": 206
        },
        "outputId": "6586a3ff-1a38-4709-9858-7393d489fdfb"
      },
      "source": [
        "# Create 100 values within 0 to 3 in order to plot PDF and CDF\n",
        "x = np.linspace(0,3,100)\n",
        "df2 = pd.DataFrame({'X':[], 'PDF':[], 'CDF':[]})\n",
        "df2['X'] = x\n",
        "df2['PDF'] = df2['X'].apply(lambda v: k*v**3)\n",
        "df2['CDF'] = df2['X'].apply(lambda v: integrate.quad(lambda u: k*u**3, 0, v)[0])\n",
        "# YOUR CODE HERE to display first five rows of df2\n",
        "df2.head(5)"
      ],
      "execution_count": 10,
      "outputs": [
        {
          "output_type": "execute_result",
          "data": {
            "text/plain": [
              "          X       PDF           CDF\n",
              "0  0.000000  0.000000  0.000000e+00\n",
              "1  0.030303  0.000001  1.041020e-08\n",
              "2  0.060606  0.000011  1.665633e-07\n",
              "3  0.090909  0.000037  8.432265e-07\n",
              "4  0.121212  0.000088  2.665012e-06"
            ],
            "text/html": [
              "\n",
              "  <div id=\"df-60a7d817-ff60-4668-8617-2ca4124a8c49\" class=\"colab-df-container\">\n",
              "    <div>\n",
              "<style scoped>\n",
              "    .dataframe tbody tr th:only-of-type {\n",
              "        vertical-align: middle;\n",
              "    }\n",
              "\n",
              "    .dataframe tbody tr th {\n",
              "        vertical-align: top;\n",
              "    }\n",
              "\n",
              "    .dataframe thead th {\n",
              "        text-align: right;\n",
              "    }\n",
              "</style>\n",
              "<table border=\"1\" class=\"dataframe\">\n",
              "  <thead>\n",
              "    <tr style=\"text-align: right;\">\n",
              "      <th></th>\n",
              "      <th>X</th>\n",
              "      <th>PDF</th>\n",
              "      <th>CDF</th>\n",
              "    </tr>\n",
              "  </thead>\n",
              "  <tbody>\n",
              "    <tr>\n",
              "      <th>0</th>\n",
              "      <td>0.000000</td>\n",
              "      <td>0.000000</td>\n",
              "      <td>0.000000e+00</td>\n",
              "    </tr>\n",
              "    <tr>\n",
              "      <th>1</th>\n",
              "      <td>0.030303</td>\n",
              "      <td>0.000001</td>\n",
              "      <td>1.041020e-08</td>\n",
              "    </tr>\n",
              "    <tr>\n",
              "      <th>2</th>\n",
              "      <td>0.060606</td>\n",
              "      <td>0.000011</td>\n",
              "      <td>1.665633e-07</td>\n",
              "    </tr>\n",
              "    <tr>\n",
              "      <th>3</th>\n",
              "      <td>0.090909</td>\n",
              "      <td>0.000037</td>\n",
              "      <td>8.432265e-07</td>\n",
              "    </tr>\n",
              "    <tr>\n",
              "      <th>4</th>\n",
              "      <td>0.121212</td>\n",
              "      <td>0.000088</td>\n",
              "      <td>2.665012e-06</td>\n",
              "    </tr>\n",
              "  </tbody>\n",
              "</table>\n",
              "</div>\n",
              "    <div class=\"colab-df-buttons\">\n",
              "\n",
              "  <div class=\"colab-df-container\">\n",
              "    <button class=\"colab-df-convert\" onclick=\"convertToInteractive('df-60a7d817-ff60-4668-8617-2ca4124a8c49')\"\n",
              "            title=\"Convert this dataframe to an interactive table.\"\n",
              "            style=\"display:none;\">\n",
              "\n",
              "  <svg xmlns=\"http://www.w3.org/2000/svg\" height=\"24px\" viewBox=\"0 -960 960 960\">\n",
              "    <path d=\"M120-120v-720h720v720H120Zm60-500h600v-160H180v160Zm220 220h160v-160H400v160Zm0 220h160v-160H400v160ZM180-400h160v-160H180v160Zm440 0h160v-160H620v160ZM180-180h160v-160H180v160Zm440 0h160v-160H620v160Z\"/>\n",
              "  </svg>\n",
              "    </button>\n",
              "\n",
              "  <style>\n",
              "    .colab-df-container {\n",
              "      display:flex;\n",
              "      gap: 12px;\n",
              "    }\n",
              "\n",
              "    .colab-df-convert {\n",
              "      background-color: #E8F0FE;\n",
              "      border: none;\n",
              "      border-radius: 50%;\n",
              "      cursor: pointer;\n",
              "      display: none;\n",
              "      fill: #1967D2;\n",
              "      height: 32px;\n",
              "      padding: 0 0 0 0;\n",
              "      width: 32px;\n",
              "    }\n",
              "\n",
              "    .colab-df-convert:hover {\n",
              "      background-color: #E2EBFA;\n",
              "      box-shadow: 0px 1px 2px rgba(60, 64, 67, 0.3), 0px 1px 3px 1px rgba(60, 64, 67, 0.15);\n",
              "      fill: #174EA6;\n",
              "    }\n",
              "\n",
              "    .colab-df-buttons div {\n",
              "      margin-bottom: 4px;\n",
              "    }\n",
              "\n",
              "    [theme=dark] .colab-df-convert {\n",
              "      background-color: #3B4455;\n",
              "      fill: #D2E3FC;\n",
              "    }\n",
              "\n",
              "    [theme=dark] .colab-df-convert:hover {\n",
              "      background-color: #434B5C;\n",
              "      box-shadow: 0px 1px 3px 1px rgba(0, 0, 0, 0.15);\n",
              "      filter: drop-shadow(0px 1px 2px rgba(0, 0, 0, 0.3));\n",
              "      fill: #FFFFFF;\n",
              "    }\n",
              "  </style>\n",
              "\n",
              "    <script>\n",
              "      const buttonEl =\n",
              "        document.querySelector('#df-60a7d817-ff60-4668-8617-2ca4124a8c49 button.colab-df-convert');\n",
              "      buttonEl.style.display =\n",
              "        google.colab.kernel.accessAllowed ? 'block' : 'none';\n",
              "\n",
              "      async function convertToInteractive(key) {\n",
              "        const element = document.querySelector('#df-60a7d817-ff60-4668-8617-2ca4124a8c49');\n",
              "        const dataTable =\n",
              "          await google.colab.kernel.invokeFunction('convertToInteractive',\n",
              "                                                    [key], {});\n",
              "        if (!dataTable) return;\n",
              "\n",
              "        const docLinkHtml = 'Like what you see? Visit the ' +\n",
              "          '<a target=\"_blank\" href=https://colab.research.google.com/notebooks/data_table.ipynb>data table notebook</a>'\n",
              "          + ' to learn more about interactive tables.';\n",
              "        element.innerHTML = '';\n",
              "        dataTable['output_type'] = 'display_data';\n",
              "        await google.colab.output.renderOutput(dataTable, element);\n",
              "        const docLink = document.createElement('div');\n",
              "        docLink.innerHTML = docLinkHtml;\n",
              "        element.appendChild(docLink);\n",
              "      }\n",
              "    </script>\n",
              "  </div>\n",
              "\n",
              "\n",
              "<div id=\"df-c0af96c0-c295-4a92-9975-6566c1f2d0ff\">\n",
              "  <button class=\"colab-df-quickchart\" onclick=\"quickchart('df-c0af96c0-c295-4a92-9975-6566c1f2d0ff')\"\n",
              "            title=\"Suggest charts\"\n",
              "            style=\"display:none;\">\n",
              "\n",
              "<svg xmlns=\"http://www.w3.org/2000/svg\" height=\"24px\"viewBox=\"0 0 24 24\"\n",
              "     width=\"24px\">\n",
              "    <g>\n",
              "        <path d=\"M19 3H5c-1.1 0-2 .9-2 2v14c0 1.1.9 2 2 2h14c1.1 0 2-.9 2-2V5c0-1.1-.9-2-2-2zM9 17H7v-7h2v7zm4 0h-2V7h2v10zm4 0h-2v-4h2v4z\"/>\n",
              "    </g>\n",
              "</svg>\n",
              "  </button>\n",
              "\n",
              "<style>\n",
              "  .colab-df-quickchart {\n",
              "      --bg-color: #E8F0FE;\n",
              "      --fill-color: #1967D2;\n",
              "      --hover-bg-color: #E2EBFA;\n",
              "      --hover-fill-color: #174EA6;\n",
              "      --disabled-fill-color: #AAA;\n",
              "      --disabled-bg-color: #DDD;\n",
              "  }\n",
              "\n",
              "  [theme=dark] .colab-df-quickchart {\n",
              "      --bg-color: #3B4455;\n",
              "      --fill-color: #D2E3FC;\n",
              "      --hover-bg-color: #434B5C;\n",
              "      --hover-fill-color: #FFFFFF;\n",
              "      --disabled-bg-color: #3B4455;\n",
              "      --disabled-fill-color: #666;\n",
              "  }\n",
              "\n",
              "  .colab-df-quickchart {\n",
              "    background-color: var(--bg-color);\n",
              "    border: none;\n",
              "    border-radius: 50%;\n",
              "    cursor: pointer;\n",
              "    display: none;\n",
              "    fill: var(--fill-color);\n",
              "    height: 32px;\n",
              "    padding: 0;\n",
              "    width: 32px;\n",
              "  }\n",
              "\n",
              "  .colab-df-quickchart:hover {\n",
              "    background-color: var(--hover-bg-color);\n",
              "    box-shadow: 0 1px 2px rgba(60, 64, 67, 0.3), 0 1px 3px 1px rgba(60, 64, 67, 0.15);\n",
              "    fill: var(--button-hover-fill-color);\n",
              "  }\n",
              "\n",
              "  .colab-df-quickchart-complete:disabled,\n",
              "  .colab-df-quickchart-complete:disabled:hover {\n",
              "    background-color: var(--disabled-bg-color);\n",
              "    fill: var(--disabled-fill-color);\n",
              "    box-shadow: none;\n",
              "  }\n",
              "\n",
              "  .colab-df-spinner {\n",
              "    border: 2px solid var(--fill-color);\n",
              "    border-color: transparent;\n",
              "    border-bottom-color: var(--fill-color);\n",
              "    animation:\n",
              "      spin 1s steps(1) infinite;\n",
              "  }\n",
              "\n",
              "  @keyframes spin {\n",
              "    0% {\n",
              "      border-color: transparent;\n",
              "      border-bottom-color: var(--fill-color);\n",
              "      border-left-color: var(--fill-color);\n",
              "    }\n",
              "    20% {\n",
              "      border-color: transparent;\n",
              "      border-left-color: var(--fill-color);\n",
              "      border-top-color: var(--fill-color);\n",
              "    }\n",
              "    30% {\n",
              "      border-color: transparent;\n",
              "      border-left-color: var(--fill-color);\n",
              "      border-top-color: var(--fill-color);\n",
              "      border-right-color: var(--fill-color);\n",
              "    }\n",
              "    40% {\n",
              "      border-color: transparent;\n",
              "      border-right-color: var(--fill-color);\n",
              "      border-top-color: var(--fill-color);\n",
              "    }\n",
              "    60% {\n",
              "      border-color: transparent;\n",
              "      border-right-color: var(--fill-color);\n",
              "    }\n",
              "    80% {\n",
              "      border-color: transparent;\n",
              "      border-right-color: var(--fill-color);\n",
              "      border-bottom-color: var(--fill-color);\n",
              "    }\n",
              "    90% {\n",
              "      border-color: transparent;\n",
              "      border-bottom-color: var(--fill-color);\n",
              "    }\n",
              "  }\n",
              "</style>\n",
              "\n",
              "  <script>\n",
              "    async function quickchart(key) {\n",
              "      const quickchartButtonEl =\n",
              "        document.querySelector('#' + key + ' button');\n",
              "      quickchartButtonEl.disabled = true;  // To prevent multiple clicks.\n",
              "      quickchartButtonEl.classList.add('colab-df-spinner');\n",
              "      try {\n",
              "        const charts = await google.colab.kernel.invokeFunction(\n",
              "            'suggestCharts', [key], {});\n",
              "      } catch (error) {\n",
              "        console.error('Error during call to suggestCharts:', error);\n",
              "      }\n",
              "      quickchartButtonEl.classList.remove('colab-df-spinner');\n",
              "      quickchartButtonEl.classList.add('colab-df-quickchart-complete');\n",
              "    }\n",
              "    (() => {\n",
              "      let quickchartButtonEl =\n",
              "        document.querySelector('#df-c0af96c0-c295-4a92-9975-6566c1f2d0ff button');\n",
              "      quickchartButtonEl.style.display =\n",
              "        google.colab.kernel.accessAllowed ? 'block' : 'none';\n",
              "    })();\n",
              "  </script>\n",
              "</div>\n",
              "\n",
              "    </div>\n",
              "  </div>\n"
            ],
            "application/vnd.google.colaboratory.intrinsic+json": {
              "type": "dataframe",
              "variable_name": "df2",
              "summary": "{\n  \"name\": \"df2\",\n  \"rows\": 100,\n  \"fields\": [\n    {\n      \"column\": \"X\",\n      \"properties\": {\n        \"dtype\": \"number\",\n        \"std\": 0.8791361204812732,\n        \"min\": 0.0,\n        \"max\": 3.0,\n        \"num_unique_values\": 100,\n        \"samples\": [\n          2.515151515151515,\n          1.6060606060606062,\n          2.121212121212121\n        ],\n        \"semantic_type\": \"\",\n        \"description\": \"\"\n      }\n    },\n    {\n      \"column\": \"PDF\",\n      \"properties\": {\n        \"dtype\": \"number\",\n        \"std\": 0.38538990788181005,\n        \"min\": 0.0,\n        \"max\": 1.3333333333333337,\n        \"num_unique_values\": 100,\n        \"samples\": [\n          0.7857193160733618,\n          0.20457886349121945,\n          0.47133237624003876\n        ],\n        \"semantic_type\": \"\",\n        \"description\": \"\"\n      }\n    },\n    {\n      \"column\": \"CDF\",\n      \"properties\": {\n        \"dtype\": \"number\",\n        \"std\": 0.2731127421588248,\n        \"min\": 0.0,\n        \"max\": 1.0000000000000002,\n        \"num_unique_values\": 100,\n        \"samples\": [\n          0.494050782076432,\n          0.08214151337147449,\n          0.24994898740002058\n        ],\n        \"semantic_type\": \"\",\n        \"description\": \"\"\n      }\n    }\n  ]\n}"
            }
          },
          "metadata": {},
          "execution_count": 10
        }
      ]
    },
    {
      "cell_type": "code",
      "metadata": {
        "id": "6xXZmScI5zO-",
        "colab": {
          "base_uri": "https://localhost:8080/",
          "height": 472
        },
        "outputId": "792bae75-2d7f-4742-db3b-3be01a63e11f"
      },
      "source": [
        "# Plotting PDF\n",
        "sns.lineplot(x= 'X', y= 'PDF', data= df2)\n",
        "plt.title('PDF'); plt.xlabel('X'); plt.ylabel('Probability density')\n",
        "plt.show()"
      ],
      "execution_count": 11,
      "outputs": [
        {
          "output_type": "display_data",
          "data": {
            "text/plain": [
              "<Figure size 640x480 with 1 Axes>"
            ],
            "image/png": "[encoded data removed]"
          },
          "metadata": {}
        }
      ]
    },
    {
      "cell_type": "code",
      "metadata": {
        "id": "aBYND0Wg5zO-",
        "colab": {
          "base_uri": "https://localhost:8080/",
          "height": 686
        },
        "outputId": "e42e533e-55d4-48d8-a482-5505e296e1b5"
      },
      "source": [
        "# Plotting CDF\n",
        "# YOUR CODE HERE to plot cdf\n",
        "sns.lineplot(x= 'X', y= 'CDF', data= df2)\n",
        "plt.title('CDF'); plt.xlabel('X'); plt.ylabel('Cumulative Probability density')\n",
        "print(\"CDF:\", df2['CDF'])\n",
        "plt.show()"
      ],
      "execution_count": 20,
      "outputs": [
        {
          "output_type": "stream",
          "name": "stdout",
          "text": [
            "CDF: 0     0.000000e+00\n",
            "1     1.041020e-08\n",
            "2     1.665633e-07\n",
            "3     8.432265e-07\n",
            "4     2.665012e-06\n",
            "          ...     \n",
            "95    8.479176e-01\n",
            "96    8.841871e-01\n",
            "97    9.216078e-01\n",
            "98    9.602040e-01\n",
            "99    1.000000e+00\n",
            "Name: CDF, Length: 100, dtype: float64\n"
          ]
        },
        {
          "output_type": "display_data",
          "data": {
            "text/plain": [
              "<Figure size 640x480 with 1 Axes>"
            ],
            "image/png": "[encoded data removed]"
          },
          "metadata": {}
        }
      ]
    },
    {
      "cell_type": "markdown",
      "metadata": {
        "id": "owb1kTfj5zO-"
      },
      "source": [
        "From above plot it can be seen that $ ∫f(x) dx = 1  $."
      ]
    },
    {
      "cell_type": "markdown",
      "source": [
        "### **Approach without using 'integrate'**\n",
        "\n",
        "The approach without 'scipy integrate' basically involves Riemann Sum. To know more about this, you can go through the [Riemann Sum](https://rikyperdana.medium.com/riemann-sum-calculus-with-functional-js-22ea7b8ea256)"
      ],
      "metadata": {
        "id": "oysXZ2pOaFuw"
      }
    },
    {
      "cell_type": "code",
      "source": [
        "# Defining the density function (given as per the question)\n",
        "def f(x):\n",
        "    if 0 <= x <= 3:\n",
        "        return x**3\n",
        "    else:\n",
        "        return 0\n",
        "\n",
        "# Numerically computing the integral to find k\n",
        "def compute_k():\n",
        "    k_approx = 0\n",
        "    dx = 0.001  # Small interval for numerical integration\n",
        "    x_values = np.arange(0, 3, dx)\n",
        "    for x in x_values:\n",
        "        k_approx += f(x) * dx\n",
        "    return 1 / k_approx\n",
        "\n",
        "# Computing k\n",
        "k = compute_k()\n",
        "print(\"Value of k:\", k)\n",
        "\n",
        "# Computing the probability P(1 < X < 2)\n",
        "P_1_to_2 = 0\n",
        "dx = 0.001  # Small interval for numerical integration\n",
        "x_values = np.arange(1, 2, dx)\n",
        "for x in x_values:\n",
        "    P_1_to_2 += k*f(x) * dx\n",
        "\n",
        "print(\"Probability P(1 < X < 2):\", P_1_to_2)"
      ],
      "metadata": {
        "id": "1DCM7HbgaL1J",
        "colab": {
          "base_uri": "https://localhost:8080/"
        },
        "outputId": "93d8eac3-62eb-41f2-aa33-75289a0fc4c1"
      },
      "execution_count": 13,
      "outputs": [
        {
          "output_type": "stream",
          "name": "stdout",
          "text": [
            "Value of k: 0.04941565432830661\n",
            "Probability P(1 < X < 2): 0.18513578600271835\n"
          ]
        }
      ]
    },
    {
      "cell_type": "code",
      "source": [
        "# Plotting the PDF\n",
        "import matplotlib.pyplot as plt\n",
        "import numpy as np\n",
        "\n",
        "dx = 0.001\n",
        "x_values = np.arange(0, 3, dx)\n",
        "y_values = [k*f(x) for x in x_values]\n",
        "plt.plot(x_values, y_values)\n",
        "plt.xlabel(\"x\")\n",
        "plt.ylabel(\"f(x)\")\n",
        "plt.title(\"Probability Density Function (PDF)\")\n",
        "plt.grid(True)\n",
        "plt.show()"
      ],
      "metadata": {
        "id": "EsY92ShYaPUm",
        "colab": {
          "base_uri": "https://localhost:8080/",
          "height": 472
        },
        "outputId": "77f15f64-78f8-4a67-b8d6-93388992858e"
      },
      "execution_count": 33,
      "outputs": [
        {
          "output_type": "display_data",
          "data": {
            "text/plain": [
              "<Figure size 640x480 with 1 Axes>"
            ],
            "image/png": "[encoded data removed]"
          },
          "metadata": {}
        }
      ]
    },
    {
      "cell_type": "code",
      "source": [
        "# Computing the CDF\n",
        "cdf_values = []\n",
        "cumulative_prob = 0\n",
        "for x in x_values:\n",
        "    cumulative_prob += k*f(x)*dx\n",
        "    cdf_values.append(cumulative_prob)\n",
        "print(\"CDF:\", cdf_values)"
      ],
      "metadata": {
        "id": "zBvCPAXZaTRg",
        "colab": {
          "base_uri": "https://localhost:8080/"
        },
        "outputId": "6598d9be-4ffd-487e-eb43-2cff16b4fdfb"
      },
      "execution_count": 34,
      "outputs": [
        {
          "output_type": "stream",
          "name": "stdout",
          "text": [
            "CDF: [0.0, 4.941565432830661e-14, 4.4474088895475946e-13, 1.7789635558190378e-12, 4.941565432830661e-12, 1.1118522223868987e-11, 2.1792303558783214e-11, 3.874187299339238e-11, 6.404268800948536e-11, 1.000667000148209e-10, 1.494823543431275e-10, 2.1525459025410358e-10, 3.006448409334174e-10, 4.092110334927071e-10, 5.448075889695804e-10, 7.115854223276152e-10, 9.139919424563591e-10, 1.1567710521713295e-09, 1.4449631482140138e-09, 1.7839051212518689e-09, 2.1792303558783216e-09, 2.6368687306127693e-09, 3.163046617900578e-09, 3.764286884113084e-09, 4.447408889547595e-09, 5.219528488427386e-09, 6.088058028901703e-09, 7.060706353045762e-09, 8.145478796860749e-09, 9.350677190273819e-09, 1.0684899857138097e-08, 1.215704161523268e-08, 1.3776293776262631e-08, 1.5552144145858986e-08, 1.749437702357875e-08, 1.9613073202904895e-08, 2.191860997124637e-08, 2.4421661109938083e-08, 2.7133196894240924e-08, 3.0064484093341746e-08, 3.322708597035337e-08, 3.663286228231459e-08, 4.029396928019017e-08, 4.4222859708870845e-08, 4.8432282807173314e-08, 5.2935284307840256e-08, 5.7745206437540307e-08, 6.287568791686808e-08, 6.834066396034416e-08, 7.41543662764151e-08, 8.033132306745343e-08, 8.688635902975762e-08, 9.383459535355217e-08, 1.0119144972298747e-07, 1.0897263631613994e-07, 1.1719416580501196e-07, 1.2587234535553185e-07, 1.3502377862755395e-07, 1.446653657748585e-07, 1.5481430344515177e-07, 1.65488084780066e-07, 1.7670449941515938e-07, 1.8848163347991606e-07, 2.0083786959774614e-07, 2.1379188688598574e-07, 2.2736266095589694e-07, 2.4156946391266775e-07, 2.5643186435541223e-07, 2.7196972737717036e-07, 2.8820321456490804e-07, 3.0515278399951723e-07, 3.228391902558158e-07, 3.4128348440254757e-07, 3.605070140023824e-07, 3.805314231119161e-07, 4.013786522816704e-07, 4.230709385560931e-07, 4.456308154735579e-07, 4.690811130663645e-07, 4.934449578607384e-07, 5.187457728768314e-07, 5.45007277628721e-07, 5.722534881244108e-07, 6.005087168658303e-07, 6.297975728488349e-07, 6.601449615632062e-07, 6.915760849926516e-07, 7.241164416148045e-07, 7.577918264012242e-07, 7.926283308173962e-07, 8.286523428227317e-07, 8.65890546870568e-07, 9.043699239081684e-07, 9.441177513767221e-07, 9.851616032113443e-07, 1.0275293498410761e-06, 1.0712491581888848e-06, 1.1163494916716633e-06, 1.1628591102002308e-06, 1.2108070701793323e-06, 1.2602227245076388e-06, 1.3111357225777474e-06, 1.363576010276181e-06, 1.4175738299833885e-06, 1.473159720573745e-06, 1.530364517415551e-06, 1.5892193523710333e-06, 1.649755653796345e-06, 1.7120051465415648e-06, 1.7759998519506975e-06, 1.8417720878616737e-06, 1.90935446860635e-06, 1.9787799050105094e-06, 2.05008160439386e-06, 2.1232930705700368e-06, 2.1984481038466002e-06, 2.2755808010250366e-06, 2.3547255554007585e-06, 2.435917056763105e-06, 2.51919029139534e-06, 2.6045805420746536e-06, 2.6921233880721627e-06, 2.7818547051529097e-06, 2.8738106655758625e-06, 2.968027738093916e-06, 3.0645426879538895e-06, 3.1633925768965304e-06, 3.26461476315651e-06, 3.368246901462427e-06, 3.474326943036805e-06, 3.582893135596095e-06, 3.6939840233506724e-06, 3.807638447004839e-06, 3.923895543756823e-06, 4.042794747298779e-06, 4.164375787816787e-06, 4.2886786919908515e-06, 4.415743782994906e-06, 4.545611680496807e-06, 4.678323300658339e-06, 4.8139198561352125e-06, 4.952442856077063e-06, 5.093934106127452e-06, 5.238435708423866e-06, 5.385990061597721e-06, 5.536639860774355e-06, 5.690428097573033e-06, 5.847398060106949e-06, 6.007593332983219e-06, 6.1710577973028865e-06, 6.337835630660922e-06, 6.5079713071462195e-06, 6.681509597341601e-06, 6.858495568323814e-06, 7.038974583663533e-06, 7.222992303425356e-06, 7.410594684167809e-06, 7.6018279789433426e-06, 7.796738737298335e-06, 7.995373805273089e-06, 8.197780325401833e-06, 8.404005736712723e-06, 8.61409777472784e-06, 8.82810447146319e-06, 9.046074155428708e-06, 9.268055451628253e-06, 9.494097281559608e-06, 9.724248863214486e-06, 9.958559711078522e-06, 1.0197079636131281e-05, 1.0439858745846252e-05, 1.0686947444190848e-05, 1.0938396431626412e-05, 1.1194256705108208e-05, 1.1454579558085431e-05, 1.17194165805012e-05, 1.1988819658792558e-05, 1.2262840975890477e-05, 1.2541533011219853e-05, 1.2824948540699509e-05, 1.3113140636742193e-05, 1.340616266825458e-05, 1.370406830063727e-05, 1.400691149578479e-05, 1.4314746512085594e-05, 1.4627627904422058e-05, 1.4945610524170488e-05, 1.5268749519201112e-05, 1.559710033387809e-05, 1.5930718709059502e-05, 1.626966068209736e-05, 1.661398258683759e-05, 1.696374105362006e-05, 1.7318993009278554e-05, 1.7679795677140784e-05, 1.8046206577028385e-05, 1.8418283525256924e-05, 1.8796084634635892e-05, 1.9179668314468704e-05, 1.9569093270552704e-05, 1.9964418505179158e-05, 2.0365703317133258e-05, 2.0773007301694127e-05, 2.1186390350634808e-05, 2.1605912652222277e-05, 2.203163469121743e-05, 2.2463617248875088e-05, 2.2901921402944004e-05, 2.3346608527666855e-05, 2.379774029378024e-05, 2.4255378668514687e-05, 2.4719585915594652e-05, 2.519042459523851e-05, 2.566795756415857e-05, 2.6152247975561065e-05, 2.664335927914615e-05, 2.714135522110791e-05, 2.764629984413435e-05, 2.815825748740741e-05, 2.8677292786602953e-05, 2.920347067389076e-05, 2.973685637793455e-05, 3.027751542389196e-05, 3.082551363341456e-05, 3.138091712464783e-05, 3.19437923122312e-05, 3.251420590729801e-05, 3.309222491747552e-05, 3.367791664688493e-05, 3.427134869614137e-05, 3.487258896235388e-05, 3.548170563912543e-05, 3.609876721655292e-05, 3.6723842481227184e-05, 3.735700051623296e-05, 3.799831070114893e-05, 3.86478427120477e-05, 3.9305666521495796e-05, 3.997185239855367e-05, 4.0646470908775716e-05, 4.1329592914210225e-05, 4.2021289573399435e-05, 4.272163234137951e-05, 4.343069296968053e-05, 4.4148543506326504e-05, 4.487525629583537e-05, 4.5610903979218994e-05, 4.635555949398316e-05, 4.710929607412758e-05, 4.787218725014591e-05, 4.86443068490257e-05, 4.9425728994248446e-05, 5.021652810578957e-05, 5.1016778900118415e-05, 5.182655639019825e-05, 5.264593588548628e-05, 5.347499299193361e-05, 5.4313803611985306e-05, 5.5162443944580334e-05, 5.6020990485151596e-05, 5.688952002562591e-05, 5.7768109654424036e-05, 5.865683675646065e-05, 5.9555779013144365e-05, 6.04650144023777e-05, 6.13846211985571e-05, 6.231467797257298e-05, 6.325526359180962e-05, 6.420645722014528e-05, 6.516833831795209e-05, 6.614098664209615e-05, 6.712448224593747e-05, 6.811890547932998e-05, 6.912433698862156e-05, 7.0140857716654e-05, 7.1168548902763e-05, 7.22074920827782e-05, 7.32577690890232e-05, 7.431946205031547e-05, 7.539265339196641e-05, 7.64774258357814e-05, 7.757386240005969e-05, 7.868204639959448e-05, 7.980206144567291e-05, 8.093399144607601e-05, 8.207792060507878e-05, 8.323393342345009e-05, 8.440211469845278e-05, 8.558254952384362e-05, 8.677532328987327e-05, 8.798052168328634e-05, 8.919823068732136e-05, 9.04285365817108e-05, 9.167152594268102e-05, 9.292728564295234e-05, 9.4195902851739e-05, 9.547746503474916e-05, 9.67720599541849e-05, 9.807977566874224e-05, 9.940070053361112e-05, 0.00010073492320047539, 0.00010208253261751287, 0.00010344361802939524, 0.00010481826897728818, 0.00010620657529885123, 0.00010760862712823791, 0.00010902451489609561, 0.0001104543293295657, 0.00011189816145228345, 0.00011335610258437805, 0.00011482824434247263, 0.00011631467863968424, 0.00011781549768562386, 0.00011933079398639639, 0.00012086066034460066, 0.00012240518985932942, 0.00012396447592616936, 0.00012553861223720108, 0.00012712769278099912, 0.00012873181184263192, 0.00013035106400366187, 0.0001319855441421453, 0.00013363534743263242, 0.0001353005693461674, 0.00013698130565028833, 0.00013867765240902722, 0.00014038970598291003, 0.0001421175630289566, 0.00014386132050068075, 0.00014562107564809016, 0.00014739692601768652, 0.00014918896945246538, 0.00015099730409191622, 0.00015282202837202247, 0.0001546632410252615, 0.00015652104108060456, 0.00015839552786351687, 0.00016028680099595754, 0.0001621949603963796, 0.00016412010627973007, 0.00016606233915744984, 0.00016802175983747373, 0.0001699984694242305, 0.00017199256931864284, 0.00017400416121812735, 0.00017603334711659456, 0.00017808022930444894, 0.00018014491036858886, 0.00018222749319240665, 0.00018432808095578853, 0.00018644677713511467, 0.00018858368550325917, 0.00019073891012959005, 0.00019291255537996923, 0.00019510472591675258, 0.0001973155266987899, 0.0001995450629814249, 0.00020179344031649523, 0.00020406076455233246, 0.0002063471418337621, 0.00020865267860210358, 0.00021097748159517023, 0.00021332165784726932, 0.00021568531468920207, 0.0002180685597482636, 0.00022047150094824295, 0.00022289424650942313, 0.00022533690494858102, 0.00022779958507898745, 0.00023028239601040717, 0.0002327854471490989, 0.0002353088481978152, 0.00023785270915580264, 0.00024041714031880168, 0.00024300225227904667, 0.00024560815592526594, 0.00024823496244268177, 0.0002508827833130103, 0.0002535517303144616, 0.0002562419155217397, 0.00025895345130604253, 0.000261686450335062, 0.00026444102557298386, 0.00026721729028048784, 0.0002700153580147476, 0.0002728353426294307, 0.00027567735827469864, 0.00027854151939720687, 0.0002814279407401047, 0.0002843367373430354, 0.00028726802454213626, 0.0002902219179700383, 0.00029319853355586664, 0.00029619798752524023, 0.000299220396400272, 0.00030226587699956874, 0.00030533454643823124, 0.0003084265221278542, 0.0003115419217765262, 0.00031468086338882974, 0.00031784346526584137, 0.0003210298460051314, 0.00032424012450076424, 0.00032747441994329803, 0.000330732851819785, 0.0003340155399137712, 0.00033732260430529665, 0.00034065416537089533, 0.0003440103437835951, 0.0003473912605129177, 0.00035079703682487894, 0.0003542277942819884, 0.0003576836547432497, 0.0003611647403641603, 0.00036467117359671166, 0.0003682030771893891, 0.0003717605741871719, 0.00037534378793153327, 0.00037895284206044036, 0.00038258786050835423, 0.0003862489675062298, 0.000389936287581516, 0.00039364994555815574, 0.00039739006655658567, 0.00040115677599373656, 0.000404950199583033, 0.00040877046333439345, 0.0004126176935542305, 0.0004164920168454504, 0.0004203935601074536, 0.00042432245053613426, 0.0004282788156238806, 0.00043226278315957467, 0.0004362744812285925, 0.00044031403821280404, 0.00044438158279057316, 0.00044847724393675764, 0.00045260115092270924, 0.00045675343331627355, 0.0004609342209817902, 0.00046514364408009265, 0.0004693818330685084, 0.0004736489187008587, 0.0004779450320274589, 0.0004822703043951182, 0.0004866248674471397, 0.0004910088531233205, 0.0004954223936599516, 0.0004998656215898178, 0.0005043386697421979, 0.0005088416712428649, 0.0005133747595140852, 0.0005179380682746197, 0.0005225317315397227, 0.0005271558836211428, 0.0005318106591271223, 0.0005364961929623976, 0.0005412126203281989, 0.0005459600767222504, 0.0005507386979387701, 0.0005555486200684701, 0.0005603899794985564, 0.0005652629129127288, 0.0005701675572911811, 0.000575104049910601, 0.0005800725283441702, 0.0005850731304615643, 0.0005901059944289527, 0.0005951712587089989, 0.0006002690620608603, 0.0006053995435401881, 0.0006105628424991275, 0.0006157590985863176, 0.0006209884517468916, 0.0006262510422224764, 0.0006315470105511928, 0.0006368764975676559, 0.0006422396444029742, 0.0006476365924847505, 0.0006530674835370815, 0.0006585324595805576, 0.0006640316629322633, 0.000669565236205777, 0.000675133322311171, 0.0006807360644550116, 0.0006863736061403589, 0.000692046091166767, 0.000697753663630284, 0.0007034964679234518, 0.0007092746487353062, 0.0007150883510513772, 0.0007209377201536884, 0.0007268229016207573, 0.0007327440413275958, 0.0007387012854457091, 0.0007446947804430968, 0.0007507246730842522, 0.0007567911104301626, 0.0007628942398383091, 0.0007690342089626671, 0.0007752111657537054, 0.000781425258458387, 0.0007876766356201691, 0.0007939654460790022, 0.0008002918389713312, 0.0008066559637300947, 0.0008130579700847255, 0.00081949800806115, 0.0008259762279817888, 0.0008324927804655561, 0.0008390478164278603, 0.0008456414870806037, 0.0008522739439321824, 0.0008589453387874865, 0.0008656558237479001, 0.000872405551211301, 0.0008791946738720613, 0.0008860233447210465, 0.0008928917170456166, 0.0008997999444296252, 0.0009067481807534197, 0.0009137365801938417, 0.0009207652972242267, 0.000927834486614404, 0.000934944303430697, 0.0009420949030359227, 0.0009492864410893924, 0.000956519073546911, 0.0009637929566607777, 0.0009711082469797853, 0.0009784651013492207, 0.0009858636769108644, 0.0009933041311029915, 0.0010007866216603704, 0.0010083113066142635, 0.0010158783442924275, 0.0010234878933191127, 0.0010311401126150634, 0.0010388351613975179, 0.0010465731991802082, 0.0010543543857733607, 0.0010621788812836953, 0.001070046846114426, 0.0010779584409652604, 0.0010859138268324005, 0.0010939131650085422, 0.0011019566170828749, 0.0011100443449410821, 0.0011181765107653415, 0.0011263532770343246, 0.0011345748065231967, 0.0011428412623036169, 0.0011511528077437386, 0.0011595096065082089, 0.0011679118225581687, 0.0011763596201512534, 0.0011848531638415914, 0.001193392618479806, 0.0012019781492130135, 0.001210609921484825, 0.0012192881010353448, 0.0012280128539011717, 0.001236784346415398, 0.0012456027452076102, 0.0012544682172038887, 0.0012633809296268075, 0.001272341049995435, 0.0012813487461253333, 0.001290404186128558, 0.0012995075384136597, 0.0013086589716856817, 0.001317858654946162, 0.0013271067574931327, 0.001336403448921119, 0.0013457488991211405, 0.001355143278280711, 0.0013645867568838378, 0.0013740795057110222, 0.0013836216958392593, 0.0013932134986420386, 0.0014028550857893432, 0.00141254662924765, 0.0014222883012799303, 0.0014320802744456488, 0.0014419227216007642, 0.0014518158158977293, 0.0014617597307854911, 0.00147175464000949, 0.0014818007176116608, 0.0014918981379304316, 0.001502047075600725, 0.001512247705553957, 0.0015225002030180383, 0.001532804743517373, 0.001543161502872859, 0.0015535706572018884, 0.0015640323829183471, 0.001574546856732615, 0.001585114255651566, 0.0015957347569785678, 0.001606408538313482, 0.0016171357775526642, 0.001627916652888964, 0.0016387513428117247, 0.0016496400261067838, 0.0016605828818564725, 0.0016715800894396159, 0.0016826318285315333, 0.0016937382791040378, 0.0017048996214254362, 0.0017161160360605295, 0.0017273877038706126, 0.0017387148060134742, 0.001750097523943397, 0.001761536039411158, 0.001773030534464027, 0.0017845811914457689, 0.001796188192996642, 0.001807851722053399, 0.0018195719618492856, 0.0018313490959140422, 0.001843183308073903, 0.0018550747824515959, 0.001867023703466343, 0.0018790302558338598, 0.0018910946245663566, 0.0019032169949725368, 0.0019153975526575982, 0.0019276364835232322, 0.0019399339737676247, 0.001952290209885455, 0.001964705378667896, 0.001977179667202615, 0.001989713262873774, 0.0020023063533620277, 0.0020149591266445254, 0.0020276717709949094, 0.002040444474983317, 0.0020532774274763794, 0.002066170817637221, 0.0020791248349254607, 0.002092139669097211, 0.0021052155102050784, 0.0021183525485981634, 0.0021315509749220605, 0.0021448109801188576, 0.0021581327554271376, 0.0021715164923819764, 0.0021849623828149437, 0.002198470618854104, 0.002212041392924015, 0.002225674897745729, 0.0022393713263367913, 0.002253130872011242, 0.002266953728379615, 0.002280840089348937, 0.00229479014912273, 0.0023088041022010096, 0.002322882143380285, 0.0023370244677535595, 0.00235123127071033, 0.0023655027479365883, 0.002379839095414819, 0.0023942405094240014, 0.0024087071865396084, 0.0024232393236336062, 0.0024378371178744563, 0.002452500766727113, 0.0024672304679530252, 0.0024820264196101353, 0.00249688882005288, 0.002511817867932189, 0.0025268137621954874, 0.0025418767020866932, 0.0025570068871462186, 0.0025722045172109696, 0.002587469792414346, 0.0026028029131862423, 0.0026182040802530462, 0.0026336734946376394, 0.0026492113576593976, 0.0026648178709341905, 0.002680493236374382, 0.0026962376561888287, 0.0027120513328828828, 0.0027279344692583895, 0.0027438872684136884, 0.002759909933743612, 0.002776002668939488, 0.0027921656779891376, 0.0028083991651768753, 0.00282470333508351, 0.002841078392586345, 0.0028575245428591766, 0.002874041991372296, 0.0028906309438924875, 0.00290729160648303, 0.002924024185503695, 0.0029408288876107505, 0.0029577059197569556, 0.002974655489191565, 0.0029916778034603264, 0.0030087730704054824, 0.003025941498165769, 0.003043183295176416, 0.003060498670169147, 0.0030778878321721806, 0.003095350990510228, 0.0031128883548044947, 0.0031305001349726806, 0.003148186541228979, 0.0031659477840840777, 0.003183784074345158, 0.003201695623115895, 0.0032196826417964577, 0.0032377453420835097, 0.003255883935970208, 0.003274098635746203, 0.0032923896539976405, 0.0033107572036071586, 0.0033292014977538906, 0.003347722749913463, 0.003366321173857996, 0.003384996983656105, 0.0034037503936728978, 0.003422581618569977, 0.003441490873305439, 0.003460478373133874, 0.0034795443336063663, 0.0034986889705704936, 0.0035179125001703285, 0.0035372151388464368, 0.003556597103335878, 0.0035760586106722064, 0.0035955998781854693, 0.003615221123502209, 0.0036349225645454604, 0.0036547044195347532, 0.003674566906986111, 0.003694510245712051, 0.0037145346548215848, 0.003734640353720217, 0.0037548275621099476, 0.003775096499989269, 0.0037954473876531686, 0.003815880445693127, 0.003836395894997119, 0.003856993956749614, 0.003877674852431574, 0.0038984388038204557, 0.00391928603299021, 0.003940216762311281, 0.003961231214450607, 0.003982329612371622, 0.00400351217933425, 0.004024779138894912, 0.004046130714906522, 0.004067567131518489, 0.004089088613176714, 0.004110695384623593, 0.0041323876708980155, 0.004154165697335366, 0.0041760296895675215, 0.004197979873522854, 0.004220016475426229, 0.004242139721799006, 0.004264349839459038, 0.004286647055520672, 0.00430903159739475, 0.004331503692788606, 0.004354063569706071, 0.004376711456447467, 0.00439944758160961, 0.004422272174085812, 0.004445185463065878, 0.004468187678036106, 0.004491279048779289, 0.004514459805374712, 0.004537730178198158, 0.0045610903979219, 0.004584540695514706, 0.00460808130224184, 0.0046317124496650566, 0.004655434369642606, 0.004679247294329233, 0.004703151456176175, 0.004727147087931163, 0.004751234422638425, 0.0047754136936386795, 0.004799685134569139, 0.004824048979363513, 0.004848505462252003, 0.004873054817761303, 0.004897697280714603, 0.0049224330862315865, 0.004947262469728431, 0.004972185666917806, 0.004997202913808879, 0.005022314446707308, 0.005047520502215246, 0.005072821317231338, 0.005098217128950728, 0.005123708174865049, 0.0051492946927624295, 0.005174976920727492, 0.005200755097141354, 0.005226629460681624, 0.005252600250322407, 0.005278667705334303, 0.005304832065284403, 0.005331093570036292, 0.005357452459750052, 0.005383908974882255, 0.005410463356185971, 0.005437115844710761, 0.00546386668180268, 0.005490716109104278, 0.0055176643685545985, 0.00554471170238918, 0.005571858353140053, 0.005599104563635743, 0.005626450577001269, 0.005653896636658144, 0.005681442986324376, 0.005709089870014466, 0.00573683753203941, 0.0057646862170066945, 0.005792636169820304, 0.005820687635680714, 0.0058488408600848975, 0.005877096088826317, 0.005905453567994932, 0.005933913543977195, 0.005962476263456052, 0.005991141973410942, 0.006019910921117802, 0.0060487833541490585, 0.006077759520373634, 0.006106839667956945, 0.006136024045360901, 0.006165312901343906, 0.006194706484960857, 0.006224205045563147, 0.006253808832798661, 0.0062835180966117786, 0.006313333087243373, 0.0063432540552308125, 0.006373281251407958, 0.006403414926905165, 0.006433655333149282, 0.006464002721863654, 0.006494457345068116, 0.006525019455079, 0.0065556893045091305, 0.006586467146267826, 0.006617353233560901, 0.00664834781989066, 0.006679451159055906, 0.006710663505151931, 0.006741985112570526, 0.006773416235999971, 0.006804957130425044, 0.006836608051127015, 0.006868369253683648, 0.0069002409939692005, 0.006932223528154425, 0.006964317112706567, 0.006996522004389368, 0.00702883846026306, 0.007061266737684372, 0.007093807094306525, 0.007126459788079235, 0.007159225077248711, 0.007192103220357657, 0.007225094476245269, 0.00725819910404724, 0.007291417363195755, 0.007324749513419493, 0.007358195814743626, 0.007391756527489822, 0.007425431912276242, 0.00745922223001754, 0.007493127741924866, 0.007527148709505861, 0.007561285394564664, 0.0075955380592019036, 0.007629906965814705, 0.007664392377096686, 0.00769899455603796, 0.007733713765925133, 0.007768550270341305, 0.0078035043331660696, 0.007838576218575515, 0.007873766191042224, 0.007909074515335273, 0.00794450145652023, 0.007980047279959159, 0.008015712251310618, 0.008051496636529659, 0.008087400701867828, 0.008123424713873163, 0.008159568939390198, 0.008195833645559961, 0.008232219099819972, 0.008268725569904248, 0.008305353323843297, 0.008342102629964121, 0.008378973756890219, 0.00841596697354158, 0.008453082549134688, 0.008490320753182524, 0.008527681855494561, 0.008565166126176764, 0.008602773835631593, 0.008640505254558003, 0.008678360653951443, 0.008716340305103855, 0.008754444479603675, 0.008792673449335833, 0.008831027486481754, 0.008869506863519354, 0.008908111853223046, 0.008946842728663737, 0.008985699763208824, 0.009024683230522202, 0.009063793404564261, 0.00910303055959188, 0.009142394970158434, 0.009181886911113794, 0.009221506657604323, 0.009261254485072876, 0.009301130669258806, 0.009341135486197959, 0.009381269212222673, 0.00942153212396178, 0.009461924498340608, 0.009502446612580978, 0.009543098744201204, 0.009583881171016094, 0.009624794171136953, 0.009665838022971576, 0.009707013005224252, 0.009748319396895768, 0.0097897574772834, 0.009831327525980921, 0.009873029822878597, 0.009914864648163189, 0.009956832282317949, 0.009998933006122626, 0.010041167100653463, 0.010083534847283195, 0.010126036527681051, 0.010168672423812756, 0.010211442817940525, 0.010254347992623073, 0.010297388230715602, 0.010340563815369812, 0.010383875030033898, 0.010427322158452546, 0.010470905484666936, 0.010514625293014744, 0.01055848186813014, 0.010602475494943786, 0.010646606458682838, 0.010690875044870948, 0.01073528153932826, 0.010779826228171412, 0.010824509397813537, 0.010869331334964262, 0.010914292326629707, 0.010959392660112486, 0.011004632623011707, 0.011050012503222972, 0.011095532588938377, 0.011141193168646514, 0.011186994531132465, 0.011232936965477808, 0.011279020761060615, 0.011325246207555451, 0.011371613594933376, 0.011418123213461943, 0.0114647753537052, 0.011511570306523689, 0.011558508363074444, 0.011605589814810996, 0.011652814953483368, 0.011700184071138075, 0.011747697460118129, 0.011795355413063036, 0.011843158222908793, 0.011891106182887894, 0.011939199586529326, 0.01198743872765857, 0.0120358239003976, 0.012084355399164883, 0.012133033518675384, 0.012181858553940557, 0.012230830800268353, 0.012279950553263216, 0.012329218108826085, 0.012378633763154392, 0.012428197812742063, 0.012477910554379516, 0.012527772285153668, 0.012577783302447923, 0.012627943903942186, 0.012678254387612851, 0.012728715051732809, 0.01277932619487144, 0.012830088115894625, 0.012881001113964735, 0.012932065488540633, 0.012983281539377679, 0.013034649566527726, 0.013086169870339122, 0.013137842751456708, 0.013189668510821817, 0.013241647449672279, 0.013293779869542418, 0.013346066072263048, 0.013398506359961482, 0.013451101035061523, 0.01350385040028347, 0.013556754758644115, 0.013609814413456744, 0.013663029668331139, 0.013716400827173571, 0.013769928194186811, 0.013823612073870119, 0.013877452771019252, 0.013931450590726459, 0.013985605838380485, 0.014039918819666566, 0.014094389840566435, 0.014149019207358317, 0.01420380722661693, 0.01425875420521349, 0.014313860450315704, 0.014369126269387772, 0.014424551970190389, 0.014480137860780746, 0.014535884249512524, 0.0145917914450359, 0.014647859756297546, 0.014704089492540626, 0.0147604809633048, 0.014817034478426219, 0.01487375034803753, 0.014930628882567873, 0.014987670392742883, 0.01504487518958469, 0.015102243584411913, 0.01515977588883967, 0.015217472414779573, 0.015275333474439722, 0.015333359380324717, 0.01539155044523565, 0.015449906982270108, 0.015508429304822168, 0.015567117726582405, 0.015625972561537887, 0.015684994123972177, 0.01574418272846533, 0.01580353868989389, 0.015863062323430908, 0.015922753944545915, 0.015982613869004944, 0.016042642412870522, 0.016102839892501667, 0.01616320662455389, 0.016223742925979202, 0.0162844491140261, 0.016345325506239582, 0.016406372420461134, 0.01646759017482874, 0.016528979087776875, 0.01659053947803651, 0.01665227166463511, 0.016714175966896633, 0.01677625270444153, 0.01683850219718675, 0.016900924765345732, 0.01696352072942841, 0.01702629041024121, 0.017089234128887052, 0.017152352206765357, 0.017215644965572034, 0.017279112727299484, 0.017342755814236607, 0.01740657454896879, 0.017470569254377923, 0.017534740253642385, 0.017599087870237045, 0.017663612427933274, 0.017728314250798932, 0.017793193663198374, 0.01785825098979245, 0.0179234865555385, 0.017988900685690364, 0.018054493705798372, 0.01812026594170935, 0.018186217719566612, 0.018252349365809974, 0.018318661207175742, 0.018385153570696717, 0.01845182678370219, 0.01851868117381795, 0.018585717068966286, 0.018652934797365964, 0.018720334687532262, 0.018787917068276937, 0.018855682268708252, 0.018923630618230956, 0.018991762446546295, 0.01906007808365201, 0.019128577859842334, 0.019197262105707994, 0.019266131152136212, 0.019335185330310704, 0.019404424971711676, 0.019473850408115837, 0.019543461971596378, 0.019613259994522993, 0.019683244809561865, 0.019753416749675675, 0.019823776148123595, 0.019894323338461292, 0.019965058654540926, 0.020035982430511152, 0.02010709500081712, 0.02017839670020047, 0.02024988786369934, 0.02032156882664836, 0.020393439924678652, 0.020465501493717838, 0.020537753869990027, 0.020610197390015825, 0.020682832390612332, 0.020755659208893145, 0.02082867818226835, 0.020901889648444527, 0.02097529394542475, 0.021048891411508595, 0.02112268238529212, 0.021196667205667884, 0.02127084621182494, 0.02134521974324883, 0.021419788139721594, 0.02149455174132177, 0.021569510888424376, 0.021644665921700938, 0.021720017182119473, 0.021795565010944488, 0.021871309749736983, 0.021947251740354456, 0.0220233913249509, 0.022099728845976798, 0.02217626464617913, 0.022252999068601363, 0.02232993245658347, 0.022407065153761906, 0.02248439750406963, 0.022561929851736086, 0.022639662541287214, 0.022717595917545456, 0.02279573032562974, 0.022874066110955486, 0.022952603619234617, 0.02303134319647554, 0.023110285188983164, 0.023189429943358885, 0.0232687778065006, 0.023348329125602692, 0.023428084248156046, 0.023508043521948036, 0.023588207295062533, 0.023668575915879897, 0.023749149733076985, 0.02382992909562715, 0.02391091435280024, 0.023992105854162584, 0.024073503949577024, 0.02415510898920288, 0.024236921323495978, 0.02431894130320863, 0.02440116927938964, 0.024483605603384317, 0.024566250626834454, 0.024649104701678342, 0.024732168180150765, 0.024815441414783, 0.02489892475840282, 0.024982618564134487, 0.025066523185398766, 0.02515063897591291, 0.025234966289690665, 0.025319505481042275, 0.02540425690457447, 0.025489220915190486, 0.025574397868090043, 0.02565978811876936, 0.025745392023021143, 0.0258312099369346, 0.025917242216895432, 0.02600348921958583, 0.026089951301984483, 0.02617662882136657, 0.026263522135303762, 0.026350631601664235, 0.02643795757861265, 0.026525500424610157, 0.026613260498414414, 0.02670123815907956, 0.026789433765956237, 0.026877847678691575, 0.0269664802572292, 0.027055331861809237, 0.027144402852968295, 0.027233693591539484, 0.027323204438652403, 0.02741293575573315, 0.027502887904504312, 0.027593061246984976, 0.02768345614549072, 0.027774072962633612, 0.02786491206132222, 0.027955973804761603, 0.028047258556453313, 0.0281387666801954, 0.028230498540082402, 0.028322454500505356, 0.02841463492615179, 0.028507040182005724, 0.02859967063334768, 0.028692526645754668, 0.028785608585100188, 0.028878916817554244, 0.028972451709583326, 0.029066213627950418, 0.029160202939715003, 0.029254420012233058, 0.029348865213157046, 0.029443538910435933, 0.02953844147231517, 0.029633573267336715, 0.029728934664339006, 0.029824526032456982, 0.029920347741122073, 0.03001640016006221, 0.030112683659301805, 0.03020919860916178, 0.030305945380259536, 0.03040292434350898, 0.0305001358701205, 0.030597580331600992, 0.030695258099753837, 0.03079316954667891, 0.030891315044772584, 0.030989694966727724, 0.031088309685533687, 0.031187159574476327, 0.03128624500713799, 0.03138556635739752, 0.031485123999430244, 0.031584918307708, 0.031684949656999105, 0.03178521842236838, 0.03188572497917713, 0.031986469703083165, 0.03208745297004077, 0.03218867515630075, 0.032290136638410384, 0.03239183779321346, 0.03249377899785024, 0.0325959606297575, 0.03269838306666851, 0.03280104668661301, 0.03290395186791725, 0.03300709898920399, 0.033110488429392446, 0.03321412056769836, 0.03331799578363396, 0.03342211445700796, 0.03352647696792558, 0.033631083696788515, 0.03373593502429498, 0.033841031331439654, 0.03394637299951374, 0.034051960410104914, 0.03415779394509735, 0.03426387398667173, 0.03437020091730521, 0.034476775119771444, 0.03458359697714059, 0.0346906668727793, 0.03479798519035071, 0.03490555231381445, 0.035013368627426655, 0.03512143451573994, 0.035229750363603415, 0.03533831655616271, 0.03544713347885991, 0.03555620151743362, 0.03566552105791893, 0.03577509248664743, 0.035884916190247196, 0.0359949925556428, 0.03610532197005531, 0.036215904821002294, 0.0363267414962978, 0.03643783238405238, 0.03654917787267307, 0.03666077835086341, 0.036772634207623445, 0.03688474583224968, 0.03699711361433514, 0.037109737943769344, 0.03722261921073829, 0.03733575780572449, 0.03744915411950693, 0.037562808543161096, 0.03767672146805898, 0.03779089328586904, 0.03790532438855627, 0.03802001516838211, 0.03813496601790454, 0.038250177329978, 0.03836564949775344, 0.03848138291467829, 0.0385973779744965, 0.03871363507124848, 0.038830154599271166, 0.038946936953197966, 0.03906398252795879, 0.03918129171878005, 0.03929886492118463, 0.03941670253099193, 0.039534804944317825, 0.03965317255757471, 0.03977180576747144, 0.039890704971013394, 0.04000987056550243, 0.04012930294853691, 0.04024900251801167, 0.04036896967211805, 0.040489204809343905, 0.04060970832847355, 0.04073048062858781, 0.040851522109064016, 0.040972833169575965, 0.04109441421009397, 0.04121626563088483, 0.04133838783251185, 0.0414607812158348, 0.041583446182009966, 0.04170638313249013, 0.04182959246902456, 0.04195307459365902, 0.04207682990873576, 0.04220085881689355, 0.04232516172106761, 0.042449739024489695, 0.04257459113068804, 0.04269971844348736, 0.04282512136700889, 0.042950800305670334, 0.04307675566418591, 0.043202987847566314, 0.043329497261118746, 0.043456284310446895, 0.04358334940145095, 0.04371069294032758, 0.04383831533356997, 0.04396621698796778, 0.04409439831060717, 0.0442228597088708, 0.04435160159043781, 0.044480624363283844, 0.04460992843568104, 0.044739514216198026, 0.044869382113699924, 0.044999532537348355, 0.04512996589660143, 0.04526068260121376, 0.04539168306123644, 0.045522967687017066, 0.04565453688919972, 0.04578639107872499, 0.045918530666829944, 0.04605095606504816, 0.04618366768520969, 0.0463166659394411, 0.04644995124016544, 0.04658352400010225, 0.04671738463226758, 0.04685153354997395, 0.04698597116683039, 0.047120697896742426, 0.04725571415391207, 0.04739102035283782, 0.047526616908314695, 0.04766250423543418, 0.04779868274958427, 0.047935152866449456, 0.048071915002010704, 0.04820896957254549, 0.048346316994627776, 0.04848395768512803, 0.04862189206121321, 0.04876012054034675, 0.0488986435402886, 0.04903746147909519, 0.049176574775119455, 0.049315983847010816, 0.049455689113715194, 0.049595690994475, 0.04973598990882913, 0.049876586276613, 0.050017480517958485, 0.05015867305329398, 0.05030016430334437, 0.05044195468913103, 0.05058404463197182, 0.0507264345534811, 0.05086912487556974, 0.051012116020445086, 0.05115540841061098, 0.05129900246886777, 0.05144289861831227, 0.05158709728233782, 0.05173159888463423, 0.051876403849187826, 0.05202151260028141, 0.05216692556249428, 0.05231264316070224, 0.05245866582007758, 0.05260499396608907, 0.052751628024502006, 0.052898568421378155, 0.05304581558307577, 0.053193369936249624, 0.053341231907850964, 0.05348940192512754, 0.0536378804156236, 0.05378666780717986, 0.05393576452793357, 0.05408517100631844, 0.05423488767106469, 0.054384914951199036, 0.05453525327604467, 0.0546859030752213, 0.05483686477864513, 0.05498813881652882, 0.055139725619381574, 0.05529162561800906, 0.05544383924351343, 0.05559636692729337, 0.05574920910104402, 0.05590236619675704, 0.05605583864672058, 0.056209626883519256, 0.056363731340034216, 0.05651815244944308, 0.05667289064521997, 0.0568279463611355, 0.05698332003125678, 0.05713901208994741, 0.057295022971867476, 0.05745135311197358, 0.0576080029455188, 0.057764972908052714, 0.057922263435421395, 0.05807987496376741, 0.05823780792952981, 0.05839606276944415, 0.05855463992054249, 0.05871353982015335, 0.05887276290590178, 0.0590323096157093, 0.05919218038779394, 0.05935237566067021, 0.059512895873149126, 0.05967374146433819, 0.05983491287364139, 0.059996410540759236, 0.0601582349056887, 0.060320386408723274, 0.060482865490452925, 0.06064567259176412, 0.06080880815383983, 0.0609722726181595, 0.061136066426499075, 0.06130019002093101, 0.061464643843824246, 0.061629428337844204, 0.061794543945952816, 0.0619599911114085, 0.06212577027776616, 0.062291881888877215, 0.06245832638888956, 0.0626251042222476, 0.06279221583369221, 0.06295966166826078, 0.06312744217128718, 0.06329555778840179, 0.06346400896553148, 0.06363279614889959, 0.06380191978502599, 0.06397138032072701, 0.0641411782031155, 0.0643113138796008, 0.06448178779788874, 0.06465260040598163, 0.06482375215217828, 0.06499524348507402, 0.06516707485356063, 0.06533924670682643, 0.06551175949435621, 0.06568461366593124, 0.06585780967162931, 0.0660313479618247, 0.06620522898718816, 0.06637945319868696, 0.06655402104758486, 0.06672893298544211, 0.06690418946411544, 0.0670797909357581, 0.06725573785281981, 0.06743203066804682, 0.06760866983448181, 0.06778565580546403, 0.06796298903462916, 0.06814066997590942, 0.0683186990835335, 0.06849707681202657, 0.06867580361621034, 0.06885487995120297, 0.06903430627241913, 0.06921408303556999, 0.0693942106966632, 0.06957468971200291, 0.06975552053818979, 0.06993670363212096, 0.07011823945099005, 0.0703001284522872, 0.07048237109379903, 0.07066496783360865, 0.07084791913009567, 0.07103122544193619, 0.07121488722810282, 0.07139890494786465, 0.07158327906078725, 0.0717680100267327, 0.0719530983058596, 0.07213854435862299, 0.07232434864577444, 0.07251051162836201, 0.07269703376773025, 0.07288391552552019, 0.07307115736366937, 0.07325875974441182, 0.07344672313027807, 0.07363504798409513, 0.07382373476898653, 0.07401278394837225, 0.07420219598596882, 0.07439197134578922, 0.07458211049214293, 0.07477261388963595, 0.07496348200317074, 0.07515471529794628, 0.07534631423945802, 0.07553827929349793, 0.07573061092615446, 0.07592330960381255, 0.07611637579315364, 0.07630980996115568, 0.07650361257509307, 0.07669778410253675, 0.07689232501135412, 0.07708723576970912, 0.07728251684606212, 0.07747816870917003, 0.07767419182808624, 0.07787058667216064, 0.07806735371103961, 0.07826449341466601, 0.07846200625327922, 0.07865989269741508, 0.07885815321790597, 0.07905678828588072, 0.07925579837276468, 0.07945518395027969, 0.07965494549044407, 0.07985508346557264, 0.08005559834827675, 0.08025649061146417, 0.08045776072833924, 0.08065940917240273, 0.08086143641745196, 0.0810638429375807, 0.08126662920717925, 0.08146979570093436, 0.08167334289382933, 0.08187727126114389, 0.08208158127845432, 0.08228627342163336, 0.08249134816685026, 0.08269680599057076, 0.08290264736955709, 0.08310887278086798, 0.08331548270185865, 0.08352247761018082, 0.08372985798378269, 0.08393762430090895, 0.08414577704010083, 0.084354316680196, 0.08456324370032864, 0.08477255857992944, 0.08498226179872556, 0.08519235383674068, 0.08540283517429495, 0.08561370629200503, 0.08582496767078406, 0.08603661979184168, 0.08624866313668404, 0.08646109818711377, 0.08667392542522998, 0.08688714533342828, 0.08710075839440082, 0.08731476509113617, 0.08752916590691945, 0.08774396132533223, 0.08795915183025262, 0.08817473790585519, 0.08839072003661101, 0.08860709870728765, 0.08882387440294919, 0.08904104760895616, 0.08925861881096564, 0.08947658849493116, 0.08969495714710275, 0.08991372525402697, 0.09013289330254681, 0.09035246177980182, 0.090572431173228, 0.09079280197055786, 0.0910135746598204, 0.09123474972934113, 0.09145632766774202, 0.09167830896394157, 0.09190069410715473, 0.09212348358689301, 0.09234667789296436, 0.09257027751547323, 0.09279428294482059, 0.09301869467170387, 0.09324351318711703, 0.09346873898235049, 0.09369437254899118, 0.09392041437892254, 0.09414686496432446, 0.09437372479767338, 0.09460099437174219, 0.09482867417960028, 0.09505676471461356, 0.09528526647044441, 0.09551417994105171, 0.09574350562069084, 0.09597324400391366, 0.09620339558556854, 0.09643396086080032, 0.09666494032505037, 0.09689633447405653, 0.09712814380385314, 0.09736036881077102, 0.09759300999143751, 0.09782606784277642, 0.09805954286200806, 0.09829343554664925, 0.09852774639451328, 0.09876247590370996, 0.09899762457264556, 0.09923319290002289, 0.0994691813848412, 0.09970559052639628, 0.0999424208242804, 0.1001796727783823, 0.10041734688888725, 0.10065544365627697, 0.10089396358132974, 0.10113290716512026, 0.10137227490901977, 0.101612067314696, 0.10185228488411317, 0.10209292811953198, 0.10233399752350963, 0.10257549359889984, 0.10281741684885277, 0.10305976777681514, 0.10330254688653011, 0.10354575468203736, 0.10378939166767306, 0.10403345834806987, 0.10427795522815694, 0.10452288281315993, 0.10476824160860097, 0.10501403212029871, 0.10526025485436828, 0.1055069103172213, 0.1057539990155659, 0.10600152145640668, 0.10624947814704476, 0.10649786959507773, 0.1067466963083997, 0.10699595879520124, 0.10724565756396945, 0.10749579312348789, 0.10774636598283664, 0.10799737665139227, 0.10824882563882783, 0.10850071345511288, 0.10875304061051345, 0.10900580761559212, 0.10925901498120788, 0.10951266321851628, 0.10976675283896935, 0.11002128435431559, 0.11027625827660001, 0.11053167511816411, 0.11078753539164592, 0.11104383960997989, 0.11130058828639704, 0.11155778193442482, 0.11181542106788722, 0.11207350620090471, 0.11233203784789425, 0.11259101652356929, 0.11285044274293977, 0.11311031702131216, 0.11337063987428939, 0.11363141181777088, 0.11389263336795255, 0.11415430504132684, 0.11441642735468265, 0.11467900082510538, 0.11494202596997694, 0.11520550330697572, 0.11546943335407663, 0.11573381662955103, 0.1159986536519668, 0.11626394494018831, 0.11652969101337643, 0.11679589239098852, 0.11706254959277841, 0.11732966313879648, 0.11759723354938954, 0.11786526134520095, 0.11813374704717051, 0.11840269117653457, 0.11867209425482593, 0.1189419568038739, 0.11921227934580429, 0.1194830624030394, 0.119754306498298, 0.12002601215459541, 0.12029817989524337, 0.12057081024385018, 0.12084390372432059, 0.12111746086085588, 0.1213914821779538, 0.12166596820040859, 0.12194091945331101, 0.12221633646204828, 0.12249221975230414, 0.1227685698500588, 0.123045387281589, 0.12332267257346793, 0.12360042625256532, 0.12387864884604735, 0.12415734088137673, 0.12443650288631264, 0.12471613538891076, 0.12499623891752326, 0.12527681400079882, 0.1255578611676826, 0.12583938094741628, 0.12612137386953798, 0.12640384046388237, 0.12668678126058058, 0.12697019679006025, 0.1272540875830455, 0.12753845417055693, 0.12782329708391169, 0.12810861685472336, 0.12839441401490206, 0.1286806890966544, 0.12896744263248344, 0.1292546751551888, 0.1295423871978665, 0.1298305792939092, 0.1301192519770059, 0.13040840578114218, 0.1306980412406001, 0.1309881588899582, 0.13127875926409155, 0.13156984289817164, 0.13186141032766652, 0.13215346208834072, 0.13244599871625526, 0.13273902074776764, 0.1330325287195319, 0.1333265231684985, 0.13362100463191443, 0.1339159736473232, 0.13421143075256478, 0.13450737648577565, 0.1348038113853888, 0.13510073599013367, 0.13539815083903622, 0.1356960564714189, 0.1359944534269007, 0.136293342245397, 0.13659272346711973, 0.13689259763257736, 0.13719296528257477, 0.1374938269582134, 0.13779518320089118, 0.13809703455230246, 0.13839938155443818, 0.1387022247495857, 0.13900556468032893, 0.1393094018895482, 0.13961373692042045, 0.13991857031641902, 0.14022390262131376, 0.14052973437917102, 0.14083606613435365, 0.141142898431521, 0.1414502318156289, 0.1417580668319297, 0.14206640402597223, 0.14237524394360176, 0.14268458713096013, 0.14299443413448565, 0.1433047855009131, 0.14361564177727382, 0.14392700351089555, 0.14423887124940257, 0.1445512455407157, 0.14486412693305215, 0.14517751597492573, 0.14549141321514666, 0.14580581920282173, 0.14612073448735416, 0.1464361596184437, 0.14675209514608656, 0.1470685416205755, 0.14738549959249972, 0.14770296961274496, 0.1480209522324934, 0.14833944800322374, 0.1486584574767112, 0.14897798120502742, 0.14929801974054063, 0.14961857363591552, 0.14993964344411323, 0.15026122971839143, 0.15058333301230428, 0.15090595387970246, 0.15122909287473307, 0.1515527505518398, 0.15187692746576276, 0.15220162417153857, 0.1525268412245004, 0.1528525791802778, 0.15317883859479695, 0.1535056200242804, 0.15383292402524726, 0.15416075115451314, 0.1544891019691901, 0.15481797702668676, 0.15514737688470817, 0.1554773021012559, 0.15580775323462803, 0.1561387308434191, 0.15647023548652014, 0.15680226772311873, 0.1571348281126989, 0.1574679172150412, 0.1578015355902226, 0.15813568379861667, 0.1584703624008934, 0.1588055719580193, 0.1591413130312574, 0.15947758618216715, 0.15981439197260458, 0.16015173096472216, 0.16048960372096885, 0.16082801080409015, 0.161166952777128, 0.16150643020342087, 0.16184644364660372, 0.162186993670608, 0.1625280808396616, 0.16286970571828904, 0.1632118688713112, 0.1635545708638455, 0.16389781226130587, 0.16424159362940272, 0.16458591553414295, 0.16493077854182997, 0.16527618321906365, 0.16562213013274038, 0.16596861985005307, 0.16631565293849107, 0.16666322996584024, 0.16701135150018295, 0.1673600181098981, 0.16770923036366098, 0.16805898883044346, 0.16840929407951385, 0.168760146680437, 0.16911154720307428, 0.16946349621758344, 0.16981599429441882, 0.17016904200433125, 0.170522639918368, 0.17087678860787286, 0.17123148864448615, 0.17158674060014464, 0.17194254504708162, 0.17229890255782684, 0.17265581370520658, 0.1730132790623436, 0.17337129920265712, 0.17372987469986292, 0.17408900612797323, 0.1744486940612968, 0.1748089390744388, 0.17516974174230104, 0.17553110264008168, 0.17589302234327545, 0.17625550142767354, 0.17661854046936368, 0.17698214004473, 0.17734630073045327, 0.17771102310351058, 0.17807630774117567, 0.17844215522101867, 0.17880856612090626, 0.1791755410190016, 0.17954308049376433, 0.1799111851239506, 0.18027985548861306, 0.18064909216710082, 0.1810188957390595, 0.18138926678443124, 0.18176020588345462, 0.1821317136166648, 0.18250379056489335, 0.18287643730926836, 0.18324965443121444, 0.18362344251245263, 0.18399780213500055, 0.18437273388117226, 0.1847482383335783, 0.18512431607512578, 0.1855009676890182, 0.1858781937587556, 0.18625599486813457, 0.18663437160124813, 0.1870133245424858, 0.18739285427653357, 0.18777296138837402, 0.1881536464632861, 0.18853491008684536, 0.18891675284492376, 0.18929917532368984, 0.18968217810960852, 0.19006576178944135, 0.19044992695024623, 0.1908346741793777, 0.19122000406448666, 0.1916059171935206, 0.19199241415472348, 0.19237949553663572, 0.19276716192809426, 0.19315541391823252, 0.19354425209648043, 0.19393367705256442, 0.1943236893765074, 0.19471428965862878, 0.19510547848954446, 0.19549725646016683, 0.19588962416170477, 0.1962825821856637, 0.19667613112384544, 0.1970702715683484, 0.19746500411156742, 0.19786032934619388, 0.19825624786521562, 0.19865276026191697, 0.1990498671298788, 0.19944756906297842, 0.19984586665538967, 0.20024476050158288, 0.20064425119632484, 0.20104433933467888, 0.2014450255120048, 0.2018463103239589, 0.20224819436649397, 0.20265067823585928, 0.20305376252860063, 0.20345744784156028, 0.203861734771877, 0.20426662391698605, 0.2046721158746192, 0.20507821124280468, 0.20548491061986723, 0.2058922146044281, 0.20630012379540502, 0.2067086387920122, 0.20711776019376038, 0.20752748860045675, 0.20793782461220503, 0.20834876882940542, 0.20876032185275462, 0.20917248428324578, 0.20958525672216863, 0.2099986397711093, 0.2104126340319505, 0.2108272401068714, 0.21124245859834762, 0.21165829010915133, 0.21207473524235115, 0.21249179460131226, 0.21290946878969627, 0.21332775841146132, 0.213746664070862, 0.2141661863724495, 0.21458632592107135, 0.21500708332187168, 0.21542845918029108, 0.21585045410206666, 0.21627306869323198, 0.21669630356011715, 0.21712015930934872, 0.21754463654784975, 0.21796973588283983, 0.21839545792183498, 0.21882180327264777, 0.21924877254338723, 0.2196763663424589, 0.22010458527856483, 0.22053342996070352, 0.22096290099816998, 0.22139299900055576, 0.22182372457774882, 0.2222550783399337, 0.22268706089759135, 0.2231196728614993, 0.22355291484273151, 0.22398678745265846, 0.2244212913029471, 0.22485642700556094, 0.2252921951727599, 0.2257285964171004, 0.22616563135143547, 0.22660330058891448, 0.2270416047429834, 0.22748054442738463, 0.22792012025615713, 0.22836033284363627, 0.22880118280445397, 0.22924267075353866, 0.2296847973061152, 0.23012756307770502, 0.23057096868412597, 0.2310150147414924, 0.23145970186621526, 0.23190503067500187, 0.2323510017848561, 0.23279761581307828, 0.2332448733772653, 0.23369277509531047, 0.23414132158540363, 0.23459051346603113, 0.23504035135597579, 0.2354908358743169, 0.2359419676404303, 0.23639374727398826, 0.2368461753949596, 0.23729925262360962, 0.23775297958050012, 0.23820735688648936, 0.2386623851627321, 0.23911806503067964, 0.23957439711207973, 0.24003138202897661, 0.24048902040371106, 0.24094731285892032, 0.24140626001753812, 0.24186586250279468, 0.24232612093821673, 0.24278703594762752, 0.24324860815514673, 0.2437108381851906, 0.2441737266624718, 0.24463727421199954, 0.2451014814590795, 0.24556634902931387, 0.24603187754860134, 0.24649806764313706, 0.24696491993941272, 0.24743243506421647, 0.24790061364463295, 0.24836945630804333, 0.24883896368212524, 0.2493091363948528, 0.24977997507449667, 0.25025148034962397, 0.25072365284909826, 0.2511964932020797, 0.2516700020380249, 0.252144179986687, 0.25261902767811545, 0.2530945457426565, 0.2535707348109526, 0.2540475955139429, 0.25452512848286296, 0.2550033343492448, 0.2554822137449171, 0.25596176730200476, 0.2564419956529294, 0.256922899430409, 0.2574044792674582, 0.2578867357973879, 0.2583696696538057, 0.2588532814706156, 0.2593375718820181, 0.2598225415225102, 0.2603081910268854, 0.2607945210302337, 0.26128153216794153, 0.26176922507569195, 0.2622576003894644, 0.26274665874553477, 0.2632364007804756, 0.26372682713115586, 0.26421793843474095, 0.2647097353286928, 0.2652022184507699, 0.2656953884390271, 0.2661892459318159, 0.2666837915677842, 0.2671790259858764, 0.2676749498253334, 0.2681715637256926, 0.2686688683267879, 0.26916686426874964, 0.2696655521920048, 0.2701649327372766, 0.27066500654558506, 0.27116577425824645, 0.2716672365168737, 0.2721693939633761, 0.2726722472399595, 0.27317579698912625, 0.27368004385367517, 0.2741849884767016, 0.27469063150159734, 0.27519697357205075, 0.2757040153320466, 0.2762117574258662, 0.2767202004980873, 0.2772293451935843, 0.27773919215752785, 0.27824974203538533, 0.27876099547292044, 0.2792729531161935, 0.27978561561156123, 0.2802989836056769, 0.28081305774549026, 0.28132783867824757, 0.2818433270514915, 0.2823595235130613, 0.28287642871109275, 0.283394043294018, 0.28391236791056584, 0.2844314032097614, 0.2849511498409264, 0.285471608453679, 0.28599277969793396, 0.28651466422390237, 0.28703726268209195, 0.28756057572330684, 0.28808460399864777, 0.28860934815951184, 0.2891348088575927, 0.2896609867448805, 0.2901878824736619, 0.29071549669651997, 0.2912438300663344, 0.2917728832362813, 0.29230265685983325, 0.2928331515907594, 0.2933643680831253, 0.2938963069912931, 0.2944289689699213, 0.2949623546739651, 0.29549646475867597, 0.2960312998796021, 0.2965668606925879, 0.29710314785377456, 0.2976401620195996, 0.29817790384679704, 0.2987163739923974, 0.2992555731137278, 0.2997955018684117, 0.3003361609143691, 0.30087755090981655, 0.30141967251326707, 0.30196252638353016, 0.3025061131797118, 0.3030504335612145, 0.30359548818773724, 0.30414127771927546, 0.3046878028161212, 0.30523506413886287, 0.3057830623483855, 0.30633179810587047, 0.30688127207279575, 0.3074314849109358, 0.3079824372823616, 0.30853412984944045, 0.3090865632748364, 0.3096397382215098, 0.3101936553527176, 0.3107483153320132, 0.3113037188232465, 0.31185986649056385, 0.3124167589984082, 0.3129743970115189, 0.31353278119493183, 0.31409191221397936, 0.31465179073429034, 0.3152124174217901, 0.31577379294270064, 0.31633591796354016, 0.3168987931511235, 0.31746241917256207, 0.3180267966952637, 0.3185919263869326, 0.3191578089155697, 0.3197244449494723, 0.3202918351572341, 0.3208599802077455, 0.3214288807701932, 0.3219985375140606, 0.3225689511091274, 0.3231401222254699, 0.32371205153346083, 0.32428473970376953, 0.32485818740736166, 0.32543239531549956, 0.3260073640997419, 0.32658309443194394, 0.3271595869842574, 0.32773684242913054, 0.32831486143930805, 0.32889364468783117, 0.32947319284803755, 0.3300535065935614, 0.3306345865983335, 0.3312164335365809, 0.3317990480828274, 0.3323824309118931, 0.33296658269889473, 0.33355150411924545, 0.33413719584865487, 0.33472365856312913, 0.33531089293897093, 0.3358988996527794, 0.3364876793814502, 0.33707723280217533, 0.3376675605924435, 0.33825866343003985, 0.338850541993046, 0.33944319695984, 0.3400366290090964, 0.3406308388197864, 0.34122582707117755, 0.3418215944428339, 0.342418141614616, 0.343015469266681, 0.34361357807948234, 0.3442124687337702, 0.34481214191059106, 0.34541259829128795, 0.34601383855750045, 0.34661586339116457, 0.34721867347451285, 0.3478222694900743, 0.34842665212067436, 0.34903182204943517, 0.34963777995977513, 0.3502445265354093, 0.35085206246034906, 0.3514603884189025, 0.35206950509567403, 0.35267941317556467, 0.35329011334377186, 0.35390160628578954, 0.3545138926874082, 0.3551269732347147, 0.35574084861409255, 0.3563555195122217, 0.35697098661607857, 0.357587250612936, 0.35820431219036347, 0.3588221720362269, 0.35944083083868866, 0.3600602892862077, 0.36068054806753935, 0.3613016078717355, 0.3619234693881445, 0.36254613330641133, 0.36316960031647727, 0.3637938711085802, 0.36441894637325445, 0.3650448268013309, 0.36567151308393686, 0.3662990059124962, 0.36692730597872925, 0.3675564139746528, 0.36818633059258016, 0.3688170565251212, 0.3694485924651822, 0.3700809391059659, 0.3707140971409717, 0.37134806726399533, 0.371982850169129, 0.3726184465507616, 0.37325485710357836, 0.373892082522561, 0.37453012350298787, 0.37516898074043364, 0.3758086549307696, 0.37644914677016345, 0.3770904569550794, 0.3777325861822783, 0.3783755351488172, 0.37901930455204996, 0.37966389508962667, 0.3803093074594941, 0.3809555423598954, 0.38160260048937034, 0.38225048254675503, 0.38289918923118216, 0.38354872124208095, 0.384199079279177, 0.3848502640424925, 0.3855022762323461, 0.386155116549353, 0.38680878569442473, 0.3874632843687695, 0.3881186132738919, 0.3887747731115931, 0.38943176458397066, 0.3900895883934188, 0.39074824524262797, 0.3914077358345854, 0.39206806087257456, 0.39272922106017566, 0.39339121710126523, 0.39405404970001634, 0.3947177195608986, 0.39538222738867795, 0.39604757388841705, 0.3967137597654749, 0.3973807857255071, 0.3980486524744657, 0.39871736071859915, 0.3993869111644525, 0.4000573045188673, 0.4007285414889815, 0.4014006227822297, 0.40207354910634285, 0.40274732116934847, 0.4034219396795705, 0.4040974053456295, 0.40477371887644237, 0.4054508809812226, 0.4061288923694802, 0.4068077537510216, 0.4074874658359497, 0.408168029334664, 0.40884944495786046, 0.4095317134165315, 0.410214835421966, 0.41089881168574943, 0.4115836429197637, 0.4122693298361872, 0.4129558731474949, 0.4136432735664581, 0.41433153180614474, 0.4150206485799192, 0.4157106246014424, 0.4164014605846717, 0.4170931572438609, 0.41778571529356046, 0.41847913544861715, 0.4191734184241743, 0.4198685649356719, 0.42056457569884614, 0.4212614514297299, 0.42195919284465255, 0.42265780066023984, 0.42335727559341413, 0.4240576183613942, 0.42475882968169537, 0.4254609102721294, 0.4261638608508046, 0.4268676821361258, 0.4275723748467942, 0.42827793970180766, 0.42898437742046036, 0.4296916887223431, 0.43039987432734306, 0.43110893495564406, 0.43181887132772634, 0.4325296841643666, 0.4332413741866381, 0.43395394211591054, 0.4346673886738502, 0.4353817145824197, 0.4360969205638783, 0.43681300734078166, 0.437529975635982, 0.438247826172628, 0.43896655967416476, 0.4396861768643341, 0.4404066784671741, 0.4411280652070194, 0.44185033780850125, 0.4425734969965472, 0.4432975434963814, 0.44402247803352457, 0.4447483013337938, 0.44547501412330265, 0.4462026171284613, 0.4469311110759764, 0.44766049669285096, 0.44839077470638466, 0.44912194584417353, 0.4498540108341102, 0.4505869704043838, 0.4513208252834798, 0.45205557620018033, 0.45279122388356396, 0.45352776906300574, 0.4542652124681772, 0.4550035548290464, 0.45574279687587793, 0.45648293933923273, 0.45722398294996835, 0.4579659284392389, 0.4587087765384948, 0.45945252797948305, 0.4601971834942472, 0.4609427438151273, 0.46168920967475974, 0.46243658180607755, 0.4631848609423102, 0.46393404781698366, 0.4646841431639204, 0.46543514771723943, 0.46618706221135614, 0.46693988738098247, 0.4676936239611269, 0.4684482726870944, 0.4692038342944863, 0.4699603095192006, 0.47071769909743166, 0.47147600376567045, 0.47223522426070436, 0.4729953613196173, 0.4737564156797896, 0.47451838807889823, 0.47528127925491653, 0.47604508994611444, 0.4768098208910582, 0.4775754728286108, 0.47834204649793155, 0.47910954263847627, 0.4798779619899974, 0.4806473052925436, 0.4814175732864604, 0.4821887667123895, 0.4829608863112693, 0.4837339328243346, 0.48450790699311663, 0.4852828095594433, 0.48605864126543885, 0.48683540285352406, 0.48761309506641626, 0.48839171864712916, 0.48917127433897306, 0.48995176288555475, 0.4907331850307775, 0.491515541518841, 0.4922988330942416, 0.493083060501772, 0.49386822448652135, 0.49465432579387547, 0.4954413651695166, 0.49622934335942337, 0.4970182611098711, 0.4978081191674314, 0.4985989182789725, 0.49939065919165915, 0.5001833426529525, 0.5009769694106102, 0.5017715402126864, 0.5025670558075319, 0.5033635169437938, 0.5041609243704156, 0.5049592788366376, 0.5057585810919965, 0.5065588318863253, 0.5073600319697538, 0.5081621820927079, 0.5089652830059105, 0.5097693354603805, 0.5105743402074335, 0.5113802979986818, 0.5121872095860338, 0.5129950757216947, 0.513803897158166, 0.5146136746482458, 0.5154244089450287, 0.5162361008019059, 0.5170487509725646, 0.5178623602109892, 0.5186769292714601, 0.5194924589085544, 0.5203089498771456, 0.5211264029324038, 0.5219448188297953, 0.5227641983250833, 0.5235845421743273, 0.5244058511338833, 0.5252281259604038, 0.5260513674108378, 0.5268755762424308, 0.5277007532127246, 0.5285268990795579, 0.5293540146010656, 0.530182100535679, 0.5310111576421264, 0.5318411866794319, 0.5326721884069168, 0.5335041635841982, 0.5343371129711901, 0.5351710373281031, 0.536005937415444, 0.5368418139940163, 0.5376786678249198, 0.538516499669551, 0.5393553102896026, 0.5401951004470642, 0.5410358709042217, 0.5418776224236573, 0.5427203557682501, 0.5435640717011752, 0.5444087709859046, 0.5452544543862066, 0.5461011226661461, 0.5469487765900845, 0.5477974169226795, 0.5486470444288855, 0.5494976598739533, 0.5503492640234302, 0.5512018576431601, 0.5520554414992832, 0.5529100163582364, 0.5537655829867529, 0.5546221421518626, 0.5554796946208916, 0.5563382411614629, 0.5571977825414957, 0.5580583195292056, 0.558919852893105, 0.5597823834020026, 0.5606459118250037, 0.56151043893151, 0.5623759654912197, 0.5632424922741276, 0.5641100200505248, 0.5649785495909991, 0.5658480816664347, 0.5667186170480124, 0.5675901565072092, 0.568462700815799, 0.5693362507458517, 0.5702108070697341, 0.5710863705601096, 0.5719629419899376, 0.5728405221324743, 0.5737191117612724, 0.5745987116501811, 0.5754793225733459, 0.5763609453052091, 0.5772435806205092, 0.5781272292942814, 0.5790118921018572, 0.5798975698188649, 0.5807842632212289, 0.5816719730851704, 0.582560700187207, 0.5834504453041528, 0.5843412092131184, 0.5852329926915107, 0.5861257965170336, 0.5870196214676868, 0.5879144683217671, 0.5888103378578674, 0.5897072308548773, 0.5906051480919828, 0.5915040903486666, 0.5924040584047074, 0.5933050530401811, 0.5942070750354594, 0.5951101251712111, 0.5960142042284009, 0.5969193129882905, 0.5978254522324378, 0.5987326227426972, 0.5996408253012199, 0.6005500606904532, 0.6014603296931412, 0.6023716330923242, 0.6032839716713393, 0.6041973462138198, 0.6051117575036957, 0.6060272063251935, 0.606943693462836, 0.6078612197014428, 0.6087797858261297, 0.6096993926223091, 0.61062004087569, 0.6115417313722776, 0.612464464898374, 0.6133882422405775, 0.614313064185783, 0.6152389315211818, 0.6161658450342619, 0.6170938055128075, 0.6180228137448995, 0.6189528705189155, 0.619883976623529, 0.6208161328477105, 0.6217493399807268, 0.6226835988121412, 0.6236189101318136, 0.6245552747299002, 0.6254926933968539, 0.6264311669234239, 0.6273706961006561, 0.6283112817198927, 0.6292529245727726, 0.630195625451231, 0.6311393851474997, 0.6320842044541068, 0.6330300841638773, 0.6339770250699324, 0.6349250279656897, 0.6358740936448636, 0.6368242229014647, 0.6377754165298003, 0.6387276753244742, 0.6396810000803864, 0.6406353915927339, 0.6415908506570096, 0.6425473780690034, 0.6435049746248015, 0.6444636411207865, 0.6454233783536376, 0.6463841871203305, 0.6473460682181373, 0.6483090224446267, 0.6492730505976639, 0.6502381534754105, 0.6512043318763245, 0.6521715865991609, 0.6531399184429705, 0.654109328207101, 0.6550798166911966, 0.656051384695198, 0.657024033019342, 0.6579977624641624, 0.6589725738304893, 0.6599484679194493, 0.6609254455324653, 0.6619035074712571, 0.6628826545378408, 0.6638628875345287, 0.6648442072639301, 0.6658266145289504, 0.6668101101327918, 0.6677946948789526, 0.668780369571228, 0.6697671350137095, 0.6707549920107853, 0.6717439413671396, 0.6727339838877535, 0.6737251203779047, 0.6747173516431669, 0.6757106784894108, 0.6767051017228033, 0.6777006221498079, 0.6786972405771846, 0.6796949578119899, 0.6806937746615765, 0.6816936919335942, 0.6826947104359888, 0.6836968309770027, 0.684700054365175, 0.685704381409341, 0.6867098129186325, 0.6877163497024782, 0.6887239925706028, 0.6897327423330277, 0.690742599800071, 0.6917535657823469, 0.6927656410907664, 0.6937788265365369, 0.6947931229311621, 0.6958085310864425, 0.696825051814475, 0.6978426859276528, 0.6988614342386659, 0.6998812975605005, 0.7009022767064397, 0.7019243724900626, 0.7029475857252451, 0.7039719172261595, 0.7049973678072746, 0.7060239382833557, 0.7070516294694648, 0.7080804421809599, 0.7091103772334959, 0.7101414354430242, 0.7111736176257925, 0.712206924598345, 0.7132413571775226, 0.7142769161804624, 0.7153136024245983, 0.7163514167276605, 0.7173903599076756, 0.7184304327829671, 0.7194716361721546, 0.7205139708941543, 0.7215574377681789, 0.7226020376137378, 0.7236477712506364, 0.7246946394989771, 0.7257426431791585, 0.7267917831118759, 0.7278420601181208, 0.7288934750191816, 0.7299460286366428, 0.7309997217923857, 0.7320545553085879, 0.7331105300077234, 0.7341676467125631, 0.7352259062461739, 0.7362853094319196, 0.7373458570934602, 0.7384075500547524, 0.7394703891400494, 0.7405343751739006, 0.7415995089811523, 0.7426657913869471, 0.7437332232167239, 0.7448018052962183, 0.7458715384514626, 0.7469424235087851, 0.7480144612948111, 0.749087652636462, 0.750161998360956, 0.7512374992958075, 0.7523141562688277, 0.753391970108124, 0.7544709416421004, 0.7555510716994575, 0.7566323611091923, 0.7577148107005983, 0.7587984213032656, 0.7598831937470806, 0.7609691288622262, 0.7620562274791821, 0.7631444904287242, 0.764233918541925, 0.7653245126501533, 0.7664162735850748, 0.7675092021786513, 0.7686032992631412, 0.7696985656710996, 0.7707950022353779, 0.771892609789124, 0.7729913891657824, 0.7740913411990938, 0.7751924667230959, 0.7762947665721225, 0.7773982415808038, 0.778502892584067, 0.7796087204171354, 0.7807157259155287, 0.7818239099150636, 0.7829332732518527, 0.7840438167623054, 0.7851555412831277, 0.7862684476513219, 0.7873825367041867, 0.7884978092793176, 0.7896142662146064, 0.7907319083482415, 0.7918507365187075, 0.7929707515647859, 0.7940919543255545, 0.7952143456403875, 0.7963379263489558, 0.7974626972912268, 0.798588659307464, 0.7997158132382279, 0.8008441599243752, 0.8019737002070592, 0.8031044349277295, 0.8042363649281327, 0.8053694910503112, 0.8065038141366044, 0.8076393350296481, 0.8087760545723744, 0.8099139736080121, 0.8110530929800864, 0.812193413532419, 0.8133349361091281, 0.8144776615546284, 0.8156215907136312, 0.8167667244311441, 0.8179130635524712, 0.8190606089232133, 0.8202093613892676, 0.8213593217968277, 0.8225104909923837, 0.8236628698227223, 0.8248164591349267, 0.8259712597763765, 0.8271272725947478, 0.8282844984380133, 0.829442938154442, 0.8306025925925997, 0.8317634626013484, 0.8329255490298466, 0.8340888527275496, 0.8352533745442089, 0.8364191153298726, 0.8375860759348852, 0.8387542572098879, 0.8399236600058183, 0.8410942851739103, 0.8422661335656945, 0.8434392060329979, 0.8446135034279443, 0.8457890266029534, 0.846965776410742, 0.8481437537043229, 0.8493229593370059, 0.8505033941623967, 0.8516850590343981, 0.8528679548072088, 0.8540520823353245, 0.8552374424735371, 0.8564240360769351, 0.8576118640009035, 0.8588009271011238, 0.8599912262335739, 0.8611827622545284, 0.862375536020558, 0.8635695483885304, 0.8647648002156093, 0.8659612923592553, 0.8671590256772254, 0.8683580010275728, 0.8695582192686475, 0.870759681259096, 0.8719623878578611, 0.8731663399241822, 0.8743715383175953, 0.8755779838979326, 0.8767856775253232, 0.8779946200601924, 0.8792048123632619, 0.8804162552955502, 0.8816289497183722, 0.8828428964933392, 0.8840580964823591, 0.8852745505476362, 0.8864922595516712, 0.8877112243572616, 0.888931445827501, 0.89015292482578, 0.8913756622157852, 0.8925996588615001, 0.8938249156272042, 0.8950514333774741, 0.8962792129771823, 0.8975082552914982, 0.8987385611858877, 0.8999701315261128, 0.9012029671782325, 0.9024370690086019, 0.9036724378838727, 0.9049090746709934, 0.9061469802372085, 0.9073861554500593, 0.9086266011773836, 0.9098683182873155, 0.9111113076482857, 0.9123555701290215, 0.9136011065985464, 0.9148479179261809, 0.9160960049815415, 0.9173453686345414, 0.9185960097553902, 0.9198479292145942, 0.9211011278829561, 0.9223556066315748, 0.9236113663318462, 0.9248684078554622, 0.9261267320744117, 0.9273863398609796, 0.9286472320877477, 0.929909409627594, 0.9311728733536933, 0.9324376241395165, 0.9337036628588312, 0.9349709903857016, 0.9362396075944883, 0.9375095153598483, 0.9387807145567352, 0.9400532060603991, 0.9413269907463865, 0.9426020694905405, 0.9438784431690006, 0.945156112658203, 0.9464350788348801, 0.9477153425760609, 0.9489969047590711, 0.9502797662615325, 0.9515639279613638, 0.95284939073678, 0.9541361554662925, 0.9554242230287093, 0.956713594303135, 0.9580042701689704, 0.9592962515059131, 0.9605895391939572, 0.9618841341133929, 0.9631800371448074, 0.964477249169084, 0.9657757710674026, 0.9670756037212398, 0.9683767480123685, 0.9696792048228581, 0.9709829750350745, 0.9722880595316801, 0.9735944591956338, 0.9749021749101912, 0.976211207558904, 0.9775215580256207, 0.9788332271944861, 0.9801462159499416, 0.9814605251767251, 0.982776155759871, 0.9840931085847101, 0.9854113845368698, 0.9867309845022739, 0.9880519093671428, 0.9893741600179933, 0.9906977373416387, 0.9920226422251889, 0.9933488755560502, 0.9946764382219254, 0.9960053311108139, 0.9973355551110114, 0.9986671111111102, 0.9999999999999991]\n"
          ]
        }
      ]
    },
    {
      "cell_type": "code",
      "source": [
        "# Plotting the CDF\n",
        "plt.plot(x_values, cdf_values)\n",
        "plt.xlabel(\"x\")\n",
        "plt.ylabel(\"Cumulative Probability\")\n",
        "plt.title(\"Cumulative Distribution Function (CDF)\")\n",
        "plt.grid(True)\n",
        "plt.show()"
      ],
      "metadata": {
        "id": "RzV-Qo4HaXz7",
        "colab": {
          "base_uri": "https://localhost:8080/",
          "height": 472
        },
        "outputId": "80cf5ce5-ceb8-46bd-9a1b-fea2a11ff8fe"
      },
      "execution_count": 35,
      "outputs": [
        {
          "output_type": "display_data",
          "data": {
            "text/plain": [
              "<Figure size 640x480 with 1 Axes>"
            ],
            "image/png": "[encoded data removed]"
          },
          "metadata": {}
        }
      ]
    },
    {
      "cell_type": "markdown",
      "metadata": {
        "id": "HLpoGPXQ5zO_"
      },
      "source": [
        "Let's see how the relationship vary when two or more random variables are defined on a probability space together."
      ]
    },
    {
      "cell_type": "markdown",
      "metadata": {
        "id": "n_e3NNQ05zO_"
      },
      "source": [
        "### Joint Distributions (Optional)"
      ]
    },
    {
      "cell_type": "markdown",
      "metadata": {
        "id": "Z9Okhkxa5zO_"
      },
      "source": [
        "Given random variables $X,Y,...,$ that are defined on a probability space, the joint probability distribution for $X,Y,...,$ is a probability distribution that gives the probability that each of $X,Y,...,$ falls in any particular range or discrete set of values specified for that variable. In the case of only two random variables, this is called a bivariate distribution, but the concept generalizes to any number of random variables, giving a multivariate distribution.\n",
        "\n",
        "The joint probability distribution can be expressed either in terms of a joint cumulative distribution function or in terms of a joint PDF (in the case of continuous variables) or joint PMF (in the case of discrete variables).\n",
        "\n",
        "To know more about joint distributions click [here](https://cdn.iisc.talentsprint.com/CDS/Assignments/Module1/Marg_Joint_Conditional_Probabilities.pdf)."
      ]
    },
    {
      "cell_type": "markdown",
      "metadata": {
        "id": "G55sacHk5zO_"
      },
      "source": [
        "#### Joint PMF"
      ]
    },
    {
      "cell_type": "markdown",
      "metadata": {
        "id": "oLb5AHb_5zO_"
      },
      "source": [
        "**Exercise 10:** Consider the probability experiment where a fair coin is tossed three times and the sequence of heads and tails are recorded. Let random variable $X$ denote the number of heads obtained and random variable $Y$ denote the winnings earned in a single play of a game with the following rules, based on the outcomes of the probability experiment:\n",
        "* a player wins 1 point if first head occurs on the first toss\n",
        "* a player wins 2 points if first head occurs on the second toss\n",
        "* a player wins 3 points if first head occurs on the third toss\n",
        "* a player loses 1 point if no head occur\n",
        "\n",
        "Represent the joint pmf of $X$ and $Y$ in tabular form."
      ]
    },
    {
      "cell_type": "code",
      "metadata": {
        "id": "ztYe9XYM5zPA",
        "colab": {
          "base_uri": "https://localhost:8080/",
          "height": 175
        },
        "outputId": "f63b44ac-366c-4fb2-d481-83e8bcb3972c"
      },
      "source": [
        "# The possible values of X and Y are\n",
        "x= [0,1,2,3]\n",
        "y= [-1, 1, 2, 3]\n",
        "\n",
        "# Represent joint pmf using table\n",
        "df3 = pd.DataFrame(columns= ['X=0', 'X=1', 'X=2', 'X=3'], index= ['Y=-1', 'Y=1', 'Y=2', 'Y=3'])\n",
        "df3"
      ],
      "execution_count": 36,
      "outputs": [
        {
          "output_type": "execute_result",
          "data": {
            "text/plain": [
              "      X=0  X=1  X=2  X=3\n",
              "Y=-1  NaN  NaN  NaN  NaN\n",
              "Y=1   NaN  NaN  NaN  NaN\n",
              "Y=2   NaN  NaN  NaN  NaN\n",
              "Y=3   NaN  NaN  NaN  NaN"
            ],
            "text/html": [
              "\n",
              "  <div id=\"df-c9c48309-8fcc-4533-b509-3e25315e9320\" class=\"colab-df-container\">\n",
              "    <div>\n",
              "<style scoped>\n",
              "    .dataframe tbody tr th:only-of-type {\n",
              "        vertical-align: middle;\n",
              "    }\n",
              "\n",
              "    .dataframe tbody tr th {\n",
              "        vertical-align: top;\n",
              "    }\n",
              "\n",
              "    .dataframe thead th {\n",
              "        text-align: right;\n",
              "    }\n",
              "</style>\n",
              "<table border=\"1\" class=\"dataframe\">\n",
              "  <thead>\n",
              "    <tr style=\"text-align: right;\">\n",
              "      <th></th>\n",
              "      <th>X=0</th>\n",
              "      <th>X=1</th>\n",
              "      <th>X=2</th>\n",
              "      <th>X=3</th>\n",
              "    </tr>\n",
              "  </thead>\n",
              "  <tbody>\n",
              "    <tr>\n",
              "      <th>Y=-1</th>\n",
              "      <td>NaN</td>\n",
              "      <td>NaN</td>\n",
              "      <td>NaN</td>\n",
              "      <td>NaN</td>\n",
              "    </tr>\n",
              "    <tr>\n",
              "      <th>Y=1</th>\n",
              "      <td>NaN</td>\n",
              "      <td>NaN</td>\n",
              "      <td>NaN</td>\n",
              "      <td>NaN</td>\n",
              "    </tr>\n",
              "    <tr>\n",
              "      <th>Y=2</th>\n",
              "      <td>NaN</td>\n",
              "      <td>NaN</td>\n",
              "      <td>NaN</td>\n",
              "      <td>NaN</td>\n",
              "    </tr>\n",
              "    <tr>\n",
              "      <th>Y=3</th>\n",
              "      <td>NaN</td>\n",
              "      <td>NaN</td>\n",
              "      <td>NaN</td>\n",
              "      <td>NaN</td>\n",
              "    </tr>\n",
              "  </tbody>\n",
              "</table>\n",
              "</div>\n",
              "    <div class=\"colab-df-buttons\">\n",
              "\n",
              "  <div class=\"colab-df-container\">\n",
              "    <button class=\"colab-df-convert\" onclick=\"convertToInteractive('df-c9c48309-8fcc-4533-b509-3e25315e9320')\"\n",
              "            title=\"Convert this dataframe to an interactive table.\"\n",
              "            style=\"display:none;\">\n",
              "\n",
              "  <svg xmlns=\"http://www.w3.org/2000/svg\" height=\"24px\" viewBox=\"0 -960 960 960\">\n",
              "    <path d=\"M120-120v-720h720v720H120Zm60-500h600v-160H180v160Zm220 220h160v-160H400v160Zm0 220h160v-160H400v160ZM180-400h160v-160H180v160Zm440 0h160v-160H620v160ZM180-180h160v-160H180v160Zm440 0h160v-160H620v160Z\"/>\n",
              "  </svg>\n",
              "    </button>\n",
              "\n",
              "  <style>\n",
              "    .colab-df-container {\n",
              "      display:flex;\n",
              "      gap: 12px;\n",
              "    }\n",
              "\n",
              "    .colab-df-convert {\n",
              "      background-color: #E8F0FE;\n",
              "      border: none;\n",
              "      border-radius: 50%;\n",
              "      cursor: pointer;\n",
              "      display: none;\n",
              "      fill: #1967D2;\n",
              "      height: 32px;\n",
              "      padding: 0 0 0 0;\n",
              "      width: 32px;\n",
              "    }\n",
              "\n",
              "    .colab-df-convert:hover {\n",
              "      background-color: #E2EBFA;\n",
              "      box-shadow: 0px 1px 2px rgba(60, 64, 67, 0.3), 0px 1px 3px 1px rgba(60, 64, 67, 0.15);\n",
              "      fill: #174EA6;\n",
              "    }\n",
              "\n",
              "    .colab-df-buttons div {\n",
              "      margin-bottom: 4px;\n",
              "    }\n",
              "\n",
              "    [theme=dark] .colab-df-convert {\n",
              "      background-color: #3B4455;\n",
              "      fill: #D2E3FC;\n",
              "    }\n",
              "\n",
              "    [theme=dark] .colab-df-convert:hover {\n",
              "      background-color: #434B5C;\n",
              "      box-shadow: 0px 1px 3px 1px rgba(0, 0, 0, 0.15);\n",
              "      filter: drop-shadow(0px 1px 2px rgba(0, 0, 0, 0.3));\n",
              "      fill: #FFFFFF;\n",
              "    }\n",
              "  </style>\n",
              "\n",
              "    <script>\n",
              "      const buttonEl =\n",
              "        document.querySelector('#df-c9c48309-8fcc-4533-b509-3e25315e9320 button.colab-df-convert');\n",
              "      buttonEl.style.display =\n",
              "        google.colab.kernel.accessAllowed ? 'block' : 'none';\n",
              "\n",
              "      async function convertToInteractive(key) {\n",
              "        const element = document.querySelector('#df-c9c48309-8fcc-4533-b509-3e25315e9320');\n",
              "        const dataTable =\n",
              "          await google.colab.kernel.invokeFunction('convertToInteractive',\n",
              "                                                    [key], {});\n",
              "        if (!dataTable) return;\n",
              "\n",
              "        const docLinkHtml = 'Like what you see? Visit the ' +\n",
              "          '<a target=\"_blank\" href=https://colab.research.google.com/notebooks/data_table.ipynb>data table notebook</a>'\n",
              "          + ' to learn more about interactive tables.';\n",
              "        element.innerHTML = '';\n",
              "        dataTable['output_type'] = 'display_data';\n",
              "        await google.colab.output.renderOutput(dataTable, element);\n",
              "        const docLink = document.createElement('div');\n",
              "        docLink.innerHTML = docLinkHtml;\n",
              "        element.appendChild(docLink);\n",
              "      }\n",
              "    </script>\n",
              "  </div>\n",
              "\n",
              "\n",
              "<div id=\"df-13044c41-aadd-4251-a49a-42c4255a9025\">\n",
              "  <button class=\"colab-df-quickchart\" onclick=\"quickchart('df-13044c41-aadd-4251-a49a-42c4255a9025')\"\n",
              "            title=\"Suggest charts\"\n",
              "            style=\"display:none;\">\n",
              "\n",
              "<svg xmlns=\"http://www.w3.org/2000/svg\" height=\"24px\"viewBox=\"0 0 24 24\"\n",
              "     width=\"24px\">\n",
              "    <g>\n",
              "        <path d=\"M19 3H5c-1.1 0-2 .9-2 2v14c0 1.1.9 2 2 2h14c1.1 0 2-.9 2-2V5c0-1.1-.9-2-2-2zM9 17H7v-7h2v7zm4 0h-2V7h2v10zm4 0h-2v-4h2v4z\"/>\n",
              "    </g>\n",
              "</svg>\n",
              "  </button>\n",
              "\n",
              "<style>\n",
              "  .colab-df-quickchart {\n",
              "      --bg-color: #E8F0FE;\n",
              "      --fill-color: #1967D2;\n",
              "      --hover-bg-color: #E2EBFA;\n",
              "      --hover-fill-color: #174EA6;\n",
              "      --disabled-fill-color: #AAA;\n",
              "      --disabled-bg-color: #DDD;\n",
              "  }\n",
              "\n",
              "  [theme=dark] .colab-df-quickchart {\n",
              "      --bg-color: #3B4455;\n",
              "      --fill-color: #D2E3FC;\n",
              "      --hover-bg-color: #434B5C;\n",
              "      --hover-fill-color: #FFFFFF;\n",
              "      --disabled-bg-color: #3B4455;\n",
              "      --disabled-fill-color: #666;\n",
              "  }\n",
              "\n",
              "  .colab-df-quickchart {\n",
              "    background-color: var(--bg-color);\n",
              "    border: none;\n",
              "    border-radius: 50%;\n",
              "    cursor: pointer;\n",
              "    display: none;\n",
              "    fill: var(--fill-color);\n",
              "    height: 32px;\n",
              "    padding: 0;\n",
              "    width: 32px;\n",
              "  }\n",
              "\n",
              "  .colab-df-quickchart:hover {\n",
              "    background-color: var(--hover-bg-color);\n",
              "    box-shadow: 0 1px 2px rgba(60, 64, 67, 0.3), 0 1px 3px 1px rgba(60, 64, 67, 0.15);\n",
              "    fill: var(--button-hover-fill-color);\n",
              "  }\n",
              "\n",
              "  .colab-df-quickchart-complete:disabled,\n",
              "  .colab-df-quickchart-complete:disabled:hover {\n",
              "    background-color: var(--disabled-bg-color);\n",
              "    fill: var(--disabled-fill-color);\n",
              "    box-shadow: none;\n",
              "  }\n",
              "\n",
              "  .colab-df-spinner {\n",
              "    border: 2px solid var(--fill-color);\n",
              "    border-color: transparent;\n",
              "    border-bottom-color: var(--fill-color);\n",
              "    animation:\n",
              "      spin 1s steps(1) infinite;\n",
              "  }\n",
              "\n",
              "  @keyframes spin {\n",
              "    0% {\n",
              "      border-color: transparent;\n",
              "      border-bottom-color: var(--fill-color);\n",
              "      border-left-color: var(--fill-color);\n",
              "    }\n",
              "    20% {\n",
              "      border-color: transparent;\n",
              "      border-left-color: var(--fill-color);\n",
              "      border-top-color: var(--fill-color);\n",
              "    }\n",
              "    30% {\n",
              "      border-color: transparent;\n",
              "      border-left-color: var(--fill-color);\n",
              "      border-top-color: var(--fill-color);\n",
              "      border-right-color: var(--fill-color);\n",
              "    }\n",
              "    40% {\n",
              "      border-color: transparent;\n",
              "      border-right-color: var(--fill-color);\n",
              "      border-top-color: var(--fill-color);\n",
              "    }\n",
              "    60% {\n",
              "      border-color: transparent;\n",
              "      border-right-color: var(--fill-color);\n",
              "    }\n",
              "    80% {\n",
              "      border-color: transparent;\n",
              "      border-right-color: var(--fill-color);\n",
              "      border-bottom-color: var(--fill-color);\n",
              "    }\n",
              "    90% {\n",
              "      border-color: transparent;\n",
              "      border-bottom-color: var(--fill-color);\n",
              "    }\n",
              "  }\n",
              "</style>\n",
              "\n",
              "  <script>\n",
              "    async function quickchart(key) {\n",
              "      const quickchartButtonEl =\n",
              "        document.querySelector('#' + key + ' button');\n",
              "      quickchartButtonEl.disabled = true;  // To prevent multiple clicks.\n",
              "      quickchartButtonEl.classList.add('colab-df-spinner');\n",
              "      try {\n",
              "        const charts = await google.colab.kernel.invokeFunction(\n",
              "            'suggestCharts', [key], {});\n",
              "      } catch (error) {\n",
              "        console.error('Error during call to suggestCharts:', error);\n",
              "      }\n",
              "      quickchartButtonEl.classList.remove('colab-df-spinner');\n",
              "      quickchartButtonEl.classList.add('colab-df-quickchart-complete');\n",
              "    }\n",
              "    (() => {\n",
              "      let quickchartButtonEl =\n",
              "        document.querySelector('#df-13044c41-aadd-4251-a49a-42c4255a9025 button');\n",
              "      quickchartButtonEl.style.display =\n",
              "        google.colab.kernel.accessAllowed ? 'block' : 'none';\n",
              "    })();\n",
              "  </script>\n",
              "</div>\n",
              "\n",
              "  <div id=\"id_2652b7f9-e75b-4727-b1de-cff7ea254ed6\">\n",
              "    <style>\n",
              "      .colab-df-generate {\n",
              "        background-color: #E8F0FE;\n",
              "        border: none;\n",
              "        border-radius: 50%;\n",
              "        cursor: pointer;\n",
              "        display: none;\n",
              "        fill: #1967D2;\n",
              "        height: 32px;\n",
              "        padding: 0 0 0 0;\n",
              "        width: 32px;\n",
              "      }\n",
              "\n",
              "      .colab-df-generate:hover {\n",
              "        background-color: #E2EBFA;\n",
              "        box-shadow: 0px 1px 2px rgba(60, 64, 67, 0.3), 0px 1px 3px 1px rgba(60, 64, 67, 0.15);\n",
              "        fill: #174EA6;\n",
              "      }\n",
              "\n",
              "      [theme=dark] .colab-df-generate {\n",
              "        background-color: #3B4455;\n",
              "        fill: #D2E3FC;\n",
              "      }\n",
              "\n",
              "      [theme=dark] .colab-df-generate:hover {\n",
              "        background-color: #434B5C;\n",
              "        box-shadow: 0px 1px 3px 1px rgba(0, 0, 0, 0.15);\n",
              "        filter: drop-shadow(0px 1px 2px rgba(0, 0, 0, 0.3));\n",
              "        fill: #FFFFFF;\n",
              "      }\n",
              "    </style>\n",
              "    <button class=\"colab-df-generate\" onclick=\"generateWithVariable('df3')\"\n",
              "            title=\"Generate code using this dataframe.\"\n",
              "            style=\"display:none;\">\n",
              "\n",
              "  <svg xmlns=\"http://www.w3.org/2000/svg\" height=\"24px\"viewBox=\"0 0 24 24\"\n",
              "       width=\"24px\">\n",
              "    <path d=\"M7,19H8.4L18.45,9,17,7.55,7,17.6ZM5,21V16.75L18.45,3.32a2,2,0,0,1,2.83,0l1.4,1.43a1.91,1.91,0,0,1,.58,1.4,1.91,1.91,0,0,1-.58,1.4L9.25,21ZM18.45,9,17,7.55Zm-12,3A5.31,5.31,0,0,0,4.9,8.1,5.31,5.31,0,0,0,1,6.5,5.31,5.31,0,0,0,4.9,4.9,5.31,5.31,0,0,0,6.5,1,5.31,5.31,0,0,0,8.1,4.9,5.31,5.31,0,0,0,12,6.5,5.46,5.46,0,0,0,6.5,12Z\"/>\n",
              "  </svg>\n",
              "    </button>\n",
              "    <script>\n",
              "      (() => {\n",
              "      const buttonEl =\n",
              "        document.querySelector('#id_2652b7f9-e75b-4727-b1de-cff7ea254ed6 button.colab-df-generate');\n",
              "      buttonEl.style.display =\n",
              "        google.colab.kernel.accessAllowed ? 'block' : 'none';\n",
              "\n",
              "      buttonEl.onclick = () => {\n",
              "        google.colab.notebook.generateWithVariable('df3');\n",
              "      }\n",
              "      })();\n",
              "    </script>\n",
              "  </div>\n",
              "\n",
              "    </div>\n",
              "  </div>\n"
            ],
            "application/vnd.google.colaboratory.intrinsic+json": {
              "type": "dataframe",
              "variable_name": "df3",
              "repr_error": "Out of range float values are not JSON compliant: nan"
            }
          },
          "metadata": {},
          "execution_count": 36
        }
      ]
    },
    {
      "cell_type": "code",
      "metadata": {
        "id": "0lMgU_MG5zPA"
      },
      "source": [
        "# Possible values : {HHH, HHT,HTH, THH, TTH, THT, HTT, TTT}\n",
        "\n",
        "df3.iloc[0,0] = 1/8    # P(X=0, Y=-1)  Cases when no heads has occur {TTT}\n",
        "# YOUR CODE HERE for   # P(X=1, Y=1)  Cases when first head occurs at first toss and number of heads occur is one {HTT}\n",
        "df3.iloc[1,1] = 1/8\n",
        "# YOUR CODE HERE for   # P(X=2, Y=1)  Cases when first head occurs at first toss and number of heads occur is two {HTH, HHT}\n",
        "df3.iloc[2,0] = 2/8\n",
        "# YOUR CODE HERE for   # P(X=3, Y=1)  Cases when first head occurs at first toss and number of heads occur is three {HHH}\n",
        "df3.iloc[3,1] = 1/8\n",
        "# YOUR CODE HERE for   # P(X=1, Y=2)  Cases when first head occurs at second toss and number of heads occur is one {THT}\n",
        "df3.iloc[1,2] = 1/8\n",
        "# YOUR CODE HERE for   # P(X=2, Y=2)  Cases when first head occurs at second toss and number of heads occur is two {THH}\n",
        "df3.iloc[2,2] = 1/8\n",
        "# YOUR CODE HERE for   # P(X=1, Y=3)  Cases when first head occurs at third toss and number of heads occur is one {TTH}\n",
        "df3.iloc[1,3] = 1/8"
      ],
      "execution_count": 38,
      "outputs": []
    },
    {
      "cell_type": "code",
      "metadata": {
        "id": "oYDc2qZu5zPA",
        "colab": {
          "base_uri": "https://localhost:8080/"
        },
        "outputId": "f807cce8-7ee1-4842-d35c-a9ca3a436d91"
      },
      "source": [
        "# For cases like, when first head occurs at first toss and number of heads occur is 0, the values will be 0, as no such outcomes are possible\n",
        "# YOUR CODE HERE to replace NaN with 0\n",
        "df3 = df3.fillna(0)"
      ],
      "execution_count": 39,
      "outputs": [
        {
          "output_type": "stream",
          "name": "stderr",
          "text": [
            "<ipython-input-39-45b0d84bd15f>:3: FutureWarning: Downcasting object dtype arrays on .fillna, .ffill, .bfill is deprecated and will change in a future version. Call result.infer_objects(copy=False) instead. To opt-in to the future behavior, set `pd.set_option('future.no_silent_downcasting', True)`\n",
            "  df3 = df3.fillna(0)\n"
          ]
        }
      ]
    },
    {
      "cell_type": "code",
      "metadata": {
        "id": "MdLDY0Kd5zPB",
        "colab": {
          "base_uri": "https://localhost:8080/"
        },
        "outputId": "8fb45f04-7755-4fcf-deaa-89991eaf13a0"
      },
      "source": [
        "# Cross check the total of Joint PMF should be = 1\n",
        "# YOUR CODE HERE\n",
        "sum(sum(df3.values))"
      ],
      "execution_count": 40,
      "outputs": [
        {
          "output_type": "execute_result",
          "data": {
            "text/plain": [
              "1.0"
            ]
          },
          "metadata": {},
          "execution_count": 40
        }
      ]
    },
    {
      "cell_type": "markdown",
      "metadata": {
        "id": "6VygUis35zPB"
      },
      "source": [
        "#### Joint PDF"
      ]
    },
    {
      "cell_type": "markdown",
      "metadata": {
        "id": "4lR9PlQh5zPC"
      },
      "source": [
        "The intuition behind the joint density $f(x,y)$ is similar to that of the PDF of a single random variable.\n",
        "For small positive $dx$ and $dy$, we can write\n",
        "\n",
        "$P(x ≤ X ≤ x+dx,\\  y ≤ Y ≤ y+dy) = f(x,y).dx.dy $\n",
        "\n",
        "Also, $ ∫∫ f(x,y)dxdy = 1 $"
      ]
    },
    {
      "cell_type": "markdown",
      "metadata": {
        "id": "O04KMXfK5zPC"
      },
      "source": [
        "**Exercise 11:** Let $X$ and $Y$ be two jointly continuous random variables with joint PDF given by\n",
        "\n",
        "$$f(x,y)=\\begin{equation}\n",
        "\\left\\{\n",
        "  \\begin{aligned}\n",
        "    &x + c.y^2&  for\\ \\  0 ≤ x ≤ 1,\\  0 ≤ y ≤ 1\\\\\n",
        "    &0&   \\ otherwise\\\\\n",
        "  \\end{aligned}\n",
        "  \\right.\n",
        "\\end{equation}\n",
        "$$\n",
        "                 \n",
        "Find the constant $c$."
      ]
    },
    {
      "cell_type": "code",
      "metadata": {
        "id": "VxgPuTqf5zPC",
        "colab": {
          "base_uri": "https://localhost:8080/"
        },
        "outputId": "b3584933-1ee8-439d-df96-eeae6aa180f5"
      },
      "source": [
        "# Using ∫∫ f(x,y)dxdy = 1\n",
        "\n",
        "# ∫∫ (x + c.y**2)dxdy = 1\n",
        "# ∫∫ x.dxdy + ∫∫ c.y**2.dxdy = 1\n",
        "# c = (1 - ∫∫ x.dxdy) / ∫∫ y**2.dxdy\n",
        "c = (1 - integrate.dblquad(lambda y,x: x, 0,1,0,1)[0]) / integrate.dblquad(lambda y,x: y**2, 0,1,0,1)[0]\n",
        "print('c= ', round(c,1))"
      ],
      "execution_count": 42,
      "outputs": [
        {
          "output_type": "stream",
          "name": "stdout",
          "text": [
            "c=  1.5\n"
          ]
        }
      ]
    },
    {
      "cell_type": "markdown",
      "metadata": {
        "id": "d0yQ3s_n5zPC"
      },
      "source": [
        "Find $ P(0 ≤ X ≤ 1/2,\\ 0 ≤ Y ≤ 1/2) $."
      ]
    },
    {
      "cell_type": "code",
      "metadata": {
        "id": "uetXsqtO5zPC"
      },
      "source": [
        "p = integrate.dblquad(lambda y,x: x + c*y**2, 0, 1/2, 0, 1/2)[0]\n",
        "print('P(0 ≤ X ≤ 1/2, 0 ≤ Y ≤ 1/2)= ', round(p,4))"
      ],
      "execution_count": null,
      "outputs": []
    },
    {
      "cell_type": "code",
      "metadata": {
        "id": "YM5pmkoo5zPD",
        "colab": {
          "base_uri": "https://localhost:8080/"
        },
        "outputId": "c9f37df2-4ab3-4d94-c909-d97cb3e041d2"
      },
      "source": [
        "# Cross check the total probability should be ≈ 1\n",
        "# YOUR CODE HERE\n",
        "p_full = integrate.dblquad(lambda y,x: x + c*y**2, 0, 1,0,1)[0]\n",
        "print('P(0 ≤ X ≤ 1, 0 ≤ Y ≤ 1)= ', round(p_full,4))"
      ],
      "execution_count": 44,
      "outputs": [
        {
          "output_type": "stream",
          "name": "stdout",
          "text": [
            "P(0 ≤ X ≤ 1, 0 ≤ Y ≤ 1)=  1.0\n"
          ]
        }
      ]
    },
    {
      "cell_type": "markdown",
      "source": [
        "#### Refrences:\n",
        "1. https://medium.com/@asnsamsniloy/difference-between-pdf-and-cdf-3d5427c12c65"
      ],
      "metadata": {
        "id": "ZvcQ2mxWa9E9"
      }
    },
    {
      "cell_type": "markdown",
      "metadata": {
        "id": "VHfHdGCP_n6Y"
      },
      "source": [
        "### Please answer the questions below to complete the experiment:\n",
        "\n",
        "\n"
      ]
    },
    {
      "cell_type": "code",
      "source": [
        "# Since A & B are independent P(A∩B) = P(A)*P(B)\n",
        "dfA = df[df['quarter']=='Quarter1']\n",
        "dfA_Team = dfA[dfA['team']==1]\n",
        "P_A = len(dfA_Team) / len(dfA)\n",
        "dfB = df[df['quarter']=='Quarter2']\n",
        "dfB_Team = dfB[dfB['team']==2]\n",
        "P_B = len(dfB_Team) / len(dfB)\n",
        "P_Joint_Prob = P_A * P_B\n",
        "print(P_Joint_Prob)"
      ],
      "metadata": {
        "id": "3fvh1Apr9Z0D",
        "outputId": "de060b6f-0142-4ede-84e3-aeeae023e458",
        "colab": {
          "base_uri": "https://localhost:8080/"
        }
      },
      "execution_count": 81,
      "outputs": [
        {
          "output_type": "stream",
          "name": "stdout",
          "text": [
            "0.13101903695408734\n"
          ]
        }
      ]
    },
    {
      "cell_type": "code",
      "source": [
        "total_Q1_Count = (df['quarter'] == 'Quarter1').sum()\n",
        "team1_Count = ((df['quarter'] == 'Quarter1') & (df['team'] == 1)).sum()\n",
        "total_Q2_Count = (df['quarter'] == 'Quarter2').sum()\n",
        "team2_Count = ((df['quarter'] == 'Quarter2') & (df['team'] == 2)).sum()\n",
        "print(team1_Count/total_Q1_Count*team2_Count/total_Q2_Count)"
      ],
      "metadata": {
        "id": "K2ugPRTuBK53",
        "outputId": "64ad81d3-ac94-4b03-8368-bdbb48af565f",
        "colab": {
          "base_uri": "https://localhost:8080/"
        }
      },
      "execution_count": 79,
      "outputs": [
        {
          "output_type": "stream",
          "name": "stdout",
          "text": [
            "0.13101903695408734\n"
          ]
        }
      ]
    },
    {
      "cell_type": "code",
      "source": [
        "total_Q1_Count = (df['quarter'] == 'Quarter1').sum()\n",
        "total_Q2_Count = (df['quarter'] == 'Quarter2').sum()\n",
        "counts = df.groupby(['quarter', 'team']).size()\n",
        "team1_Count = counts.get(('Quarter1',1),0)\n",
        "team2_Count = counts.get(('Quarter2',2),0)\n",
        "print(team1_Count/total_Q1_Count*team2_Count/total_Q2_Count)"
      ],
      "metadata": {
        "id": "jLz1DNCYCzcm",
        "outputId": "41ae2d81-883c-4ffe-8417-fc318d43e4f4",
        "colab": {
          "base_uri": "https://localhost:8080/"
        }
      },
      "execution_count": 85,
      "outputs": [
        {
          "output_type": "stream",
          "name": "stdout",
          "text": [
            "0.13101903695408734\n"
          ]
        }
      ]
    },
    {
      "cell_type": "code",
      "metadata": {
        "id": "VgSwVENIPcM6"
      },
      "source": [
        "# @title Based on the productivity prediction of garment employees dataset (df), let A represent the event of getting a team 1 record, given it is selected from Quarter1 records and B represent the event of getting a team 2 record, given it is selected from Quarter2 records. If A and B are independent events, find P(A∩B). { run: \"auto\", form-width: \"500px\", display-mode: \"form\" }\n",
        "Answer = \"0.131\" #@param [\"\",\"0.383\",\"0.3421\", \"0.131\"]"
      ],
      "execution_count": 86,
      "outputs": []
    },
    {
      "cell_type": "code",
      "metadata": {
        "id": "NMzKSbLIgFzQ"
      },
      "source": [
        "#@title How was the experiment? { run: \"auto\", form-width: \"500px\", display-mode: \"form\" }\n",
        "Complexity = \"Good, But Not Challenging for me\" #@param [\"\",\"Too Simple, I am wasting time\", \"Good, But Not Challenging for me\", \"Good and Challenging for me\", \"Was Tough, but I did it\", \"Too Difficult for me\"]\n"
      ],
      "execution_count": 87,
      "outputs": []
    },
    {
      "cell_type": "code",
      "metadata": {
        "id": "DjcH1VWSFI2l"
      },
      "source": [
        "#@title If it was too easy, what more would you have liked to be added? If it was very difficult, what would you have liked to have been removed? { run: \"auto\", display-mode: \"form\" }\n",
        "Additional = \"More Difficult Exercises\" #@param {type:\"string\"}\n"
      ],
      "execution_count": 93,
      "outputs": []
    },
    {
      "cell_type": "code",
      "metadata": {
        "id": "4VBk_4VTAxCM"
      },
      "source": [
        "#@title Can you identify the concepts from the lecture which this experiment covered? { run: \"auto\", vertical-output: true, display-mode: \"form\" }\n",
        "Concepts = \"Yes\" #@param [\"\",\"Yes\", \"No\"]\n"
      ],
      "execution_count": 88,
      "outputs": []
    },
    {
      "cell_type": "code",
      "metadata": {
        "id": "XH91cL1JWH7m"
      },
      "source": [
        "#@title  Text and image description/explanation and code comments within the experiment: { run: \"auto\", vertical-output: true, display-mode: \"form\" }\n",
        "Comments = \"Somewhat Useful\" #@param [\"\",\"Very Useful\", \"Somewhat Useful\", \"Not Useful\", \"Didn't use\"]\n"
      ],
      "execution_count": 89,
      "outputs": []
    },
    {
      "cell_type": "code",
      "metadata": {
        "id": "z8xLqj7VWIKW"
      },
      "source": [
        "#@title Mentor Support: { run: \"auto\", vertical-output: true, display-mode: \"form\" }\n",
        "Mentor_support = \"Not Useful\" #@param [\"\",\"Very Useful\", \"Somewhat Useful\", \"Not Useful\", \"Didn't use\"]\n"
      ],
      "execution_count": 90,
      "outputs": []
    },
    {
      "cell_type": "code",
      "metadata": {
        "id": "FzAZHt1zw-Y-",
        "cellView": "form",
        "colab": {
          "base_uri": "https://localhost:8080/"
        },
        "outputId": "16f5bfa7-2693-4fcc-ad6a-8cdda04f3dcd"
      },
      "source": [
        "#@title Run this cell to submit your notebook for grading { vertical-output: true }\n",
        "try:\n",
        "  if submission_id:\n",
        "      return_id = submit_notebook()\n",
        "      if return_id : submission_id = return_id\n",
        "  else:\n",
        "      print(\"Please complete the setup first.\")\n",
        "except NameError:\n",
        "  print (\"Please complete the setup first.\")"
      ],
      "execution_count": 94,
      "outputs": [
        {
          "output_type": "stream",
          "name": "stdout",
          "text": [
            "Your submission is successful.\n",
            "Ref Id: 143\n",
            "Date of submission:  09 Nov 2024\n",
            "Time of submission:  23:34:14\n",
            "View your submissions: https://learn-iisc.talentsprint.com/notebook_submissions\n"
          ]
        }
      ]
    }
  ]
}