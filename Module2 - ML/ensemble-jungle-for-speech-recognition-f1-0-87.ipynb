{
 "cells": [
  {
   "cell_type": "markdown",
   "id": "ab1fda2b",
   "metadata": {
    "id": "handled-tooth",
    "papermill": {
     "duration": 0.012998,
     "end_time": "2025-01-16T12:24:56.700755",
     "exception": false,
     "start_time": "2025-01-16T12:24:56.687757",
     "status": "completed"
    },
    "tags": []
   },
   "source": [
    "## Problem Statement"
   ]
  },
  {
   "cell_type": "markdown",
   "id": "48306db5",
   "metadata": {
    "id": "accessory-watts",
    "papermill": {
     "duration": 0.010483,
     "end_time": "2025-01-16T12:24:56.722875",
     "exception": false,
     "start_time": "2025-01-16T12:24:56.712392",
     "status": "completed"
    },
    "tags": []
   },
   "source": [
    "Build a model to recognize emotion from speech using Ensemble learning"
   ]
  },
  {
   "cell_type": "markdown",
   "id": "cf8550ff",
   "metadata": {
    "id": "twenty-indonesia",
    "papermill": {
     "duration": 0.010464,
     "end_time": "2025-01-16T12:24:56.743918",
     "exception": false,
     "start_time": "2025-01-16T12:24:56.733454",
     "status": "completed"
    },
    "tags": []
   },
   "source": [
    "## Learning Objectives"
   ]
  },
  {
   "cell_type": "markdown",
   "id": "d020516a",
   "metadata": {
    "id": "lesbian-bottom",
    "papermill": {
     "duration": 0.010653,
     "end_time": "2025-01-16T12:24:56.765231",
     "exception": false,
     "start_time": "2025-01-16T12:24:56.754578",
     "status": "completed"
    },
    "tags": []
   },
   "source": [
    "## Dataset"
   ]
  },
  {
   "cell_type": "markdown",
   "id": "0603ab1f",
   "metadata": {
    "id": "fixed-trainer",
    "papermill": {
     "duration": 0.010739,
     "end_time": "2025-01-16T12:24:56.787098",
     "exception": false,
     "start_time": "2025-01-16T12:24:56.776359",
     "status": "completed"
    },
    "tags": []
   },
   "source": [
    "**TESS Dataset**\n",
    "\n",
    "The first dataset chosen for this mini-project is the [TESS](https://dataverse.scholarsportal.info/dataset.xhtml?persistentId=doi:10.5683/SP2/E8H2MF) (Toronto emotional speech set) dataset. It contains 2880 files.  A set of 200 target words were spoken in the carrier phrase \"Say the word _____' by two actresses and the sets were recorded in seven different emotions (anger, disgust, fear, happiness, pleasant surprise, sadness, and neutral). Both actresses spoke English as their first language, were university educated, and had musical training. Audiometric testing indicated that both actresses had thresholds within the normal range."
   ]
  },
  {
   "cell_type": "markdown",
   "id": "5394f6e1",
   "metadata": {
    "id": "Roo5A2aLVI07",
    "papermill": {
     "duration": 0.010419,
     "end_time": "2025-01-16T12:24:56.808365",
     "exception": false,
     "start_time": "2025-01-16T12:24:56.797946",
     "status": "completed"
    },
    "tags": []
   },
   "source": [
    "**Ravdess Dataset**\n",
    "\n",
    "The second dataset chosen for this mini-project is [Ravdess](https://zenodo.org/record/1188976#.YLczy4XivIU) (The Ryerson Audio-Visual Database of Emotional Speech and Song). This dataset contains 1440 files: 60 trials per actor x 24 actors = 1440. The RAVDESS contains 24 professional actors (12 female, 12 male), vocalizing two lexically-matched statements in a neutral North American accent. Speech emotions includes calm, happy, sad, angry, fearful, surprise, and disgust expressions. Each expression is produced at two levels of emotional intensity (normal, strong), with an additional neutral expression.\n",
    "\n",
    "**File naming convention**\n",
    "\n",
    "Each of the 1440 files has a unique filename. The filename consists of a 7-part numerical identifier (e.g., 03-01-06-01-02-01-12.wav). These identifiers define the stimulus characteristics:\n",
    "\n",
    "**Filename identifiers**\n",
    "\n",
    "* Modality (01 = full-AV, 02 = video-only, 03 = audio-only).\n",
    "* Vocal channel (01 = speech, 02 = song).\n",
    "* Emotion (01 = neutral, 02 = calm, 03 = happy, 04 = sad, 05 = angry, 06 = fearful, 07 = disgust, 08 = surprised).\n",
    "* Emotional intensity (01 = normal, 02 = strong). NOTE: There is no strong intensity for the 'neutral' emotion.\n",
    "* Statement (01 = \"Kids are talking by the door\", 02 = \"Dogs are sitting by the door\").\n",
    "* Repetition (01 = 1st repetition, 02 = 2nd repetition).\n",
    "* Actor (01 to 24. Odd numbered actors are male, even numbered actors are female).\n",
    "\n",
    "Filename example: `03-01-06-01-02-01-12.wav`\n",
    "\n",
    "    - Audio-only - 03\n",
    "    - Speech - 01\n",
    "    - Fearful - 06\n",
    "    - Normal intensity - 01\n",
    "    - Statement \"dogs\" - 02\n",
    "    - 1st Repetition - 01\n",
    "    - 12th Actor - 12 Female, as the actor ID number is even."
   ]
  },
  {
   "cell_type": "markdown",
   "id": "c6a34bd4",
   "metadata": {
    "papermill": {
     "duration": 0.010539,
     "end_time": "2025-01-16T12:24:56.829710",
     "exception": false,
     "start_time": "2025-01-16T12:24:56.819171",
     "status": "completed"
    },
    "tags": []
   },
   "source": [
    "**SAVEE Dataset**\n",
    "\n",
    "The SAVEE database was recorded from four native English male speakers (identified as DC, JE, JK, KL), postgraduate students and researchers at the University of Surrey aged from 27 to 31 years. Emotion has been described psychologically in discrete categories: anger, disgust, fear, happiness, sadness and surprise. A neutral category is also added to provide recordings of 7 emotion categories.\n",
    "\n",
    "The text material consisted of 15 TIMIT sentences per emotion: 3 common, 2 emotion-specific and 10 generic sentences that were different for each emotion and phonetically-balanced. The 3 common and 2 × 6 = 12 emotion-specific sentences were recorded as neutral to give 30 neutral sentences. This resulted in a total of 120 utterances per speaker"
   ]
  },
  {
   "cell_type": "markdown",
   "id": "59df213b",
   "metadata": {
    "id": "GIR6a6TvVnRY",
    "papermill": {
     "duration": 0.010827,
     "end_time": "2025-01-16T12:24:56.851363",
     "exception": false,
     "start_time": "2025-01-16T12:24:56.840536",
     "status": "completed"
    },
    "tags": []
   },
   "source": [
    "## Information"
   ]
  },
  {
   "cell_type": "markdown",
   "id": "a11d6030",
   "metadata": {
    "id": "mediterranean-february",
    "papermill": {
     "duration": 0.011557,
     "end_time": "2025-01-16T12:24:56.874000",
     "exception": false,
     "start_time": "2025-01-16T12:24:56.862443",
     "status": "completed"
    },
    "tags": []
   },
   "source": [
    "**Speech Emotion Recognition (SER)** is the task of recognizing the emotion from  speech, irrespective of the semantics. Humans can efficiently perform this task as a natural part of speech communication, however, the ability to conduct it automatically using programmable devices is a field of active research.\n",
    "\n",
    "Studies of automatic emotion recognition systems aim to create efficient, real-time methods of detecting the emotions of mobile phone users, call center operators and customers, car drivers, pilots, and many other human-machine communication users. Adding emotions to machines forms an important aspect of making machines appear and act in a human-like manner\n",
    "\n",
    "Lets gain familiarity with some of the audio based features that are commonly used for SER.\n",
    "\n",
    "**Mel scale** — The mel scale (derived from the word *melody*) is a perceptual scale of pitches judged by listeners to be equal in distance from one another. The reference point between this scale and normal frequency measurement is defined by assigning a perceptual pitch of 1000 mels to a 1000 Hz tone, 40 dB above the listener's threshold. Above about 500 Hz, increasingly large intervals are judged by listeners to produce equal pitch increments. Refer [here](https://towardsdatascience.com/learning-from-audio-the-mel-scale-mel-spectrograms-and-mel-frequency-cepstral-coefficients-f5752b6324a8) for more detailed information.\n",
    "\n",
    "**Pitch** — how high or low a sound is. It depends on frequency, higher pitch is high frequency\n",
    "\n",
    "**Frequency** — speed of vibration of sound, measures wave cycles per second\n",
    "\n",
    "**Chroma** — Representation for audio where spectrum is projected onto 12 bins representing the 12 distinct semitones (or chroma). Computed by summing the log frequency magnitude spectrum across octaves.\n",
    "\n",
    "**Fourier Transforms** — used to convert from time domain to frequency domain. Time domain shows how signal changes over time. Frequency domain shows how much of the signal lies within each given frequency band over a range of frequencies"
   ]
  },
  {
   "cell_type": "markdown",
   "id": "d5df69f4",
   "metadata": {
    "id": "Q5a6Dz9wCxOc",
    "papermill": {
     "duration": 0.011459,
     "end_time": "2025-01-16T12:24:56.897070",
     "exception": false,
     "start_time": "2025-01-16T12:24:56.885611",
     "status": "completed"
    },
    "tags": []
   },
   "source": [
    "**Librosa**\n",
    "\n",
    "[Librosa](https://librosa.org/doc/latest/index.html) is a Python package, built for speech and audio analytics. It provides modular functions that simplify working with audio data and help in achieving a wide range of applications such as identification of the personal characteristics of different individuals' voice samples, detecting emotions from audio samples etc.\n",
    "\n",
    "For further details on the Librosa package, refer [here](https://proceedings.scipy.org/articles/Majora-7b98e3ed-003).\n"
   ]
  },
  {
   "cell_type": "markdown",
   "id": "60843226",
   "metadata": {
    "id": "3fjmaAe32Z_K",
    "papermill": {
     "duration": 0.010693,
     "end_time": "2025-01-16T12:24:56.918816",
     "exception": false,
     "start_time": "2025-01-16T12:24:56.908123",
     "status": "completed"
    },
    "tags": []
   },
   "source": [
    "### **Kaggle Competition**"
   ]
  },
  {
   "cell_type": "markdown",
   "id": "11203d2f",
   "metadata": {
    "id": "y4yw7Ewy09Ut",
    "papermill": {
     "duration": 0.010941,
     "end_time": "2025-01-16T12:24:56.940783",
     "exception": false,
     "start_time": "2025-01-16T12:24:56.929842",
     "status": "completed"
    },
    "tags": []
   },
   "source": [
    "Please refer to the link for viewing the\n",
    "[Kaggle Competition Document](https://drive.google.com/file/d/1M4LO6727OIpa4_IXeWQKmUbN9nMpfDDJ/view?usp=drive_link) and join the Kaggle Competition using the hyperlink given in this document under '*Kaggle* Competition site'.\n"
   ]
  },
  {
   "cell_type": "markdown",
   "id": "7120f603",
   "metadata": {
    "id": "operating-latter",
    "papermill": {
     "duration": 0.010546,
     "end_time": "2025-01-16T12:24:56.962215",
     "exception": false,
     "start_time": "2025-01-16T12:24:56.951669",
     "status": "completed"
    },
    "tags": []
   },
   "source": [
    "## Grading = 10 Points"
   ]
  },
  {
   "cell_type": "code",
   "execution_count": 1,
   "id": "352bf07a",
   "metadata": {
    "cellView": "form",
    "execution": {
     "iopub.execute_input": "2025-01-16T12:24:56.985670Z",
     "iopub.status.busy": "2025-01-16T12:24:56.985345Z",
     "iopub.status.idle": "2025-01-16T12:25:33.800691Z",
     "shell.execute_reply": "2025-01-16T12:25:33.799575Z"
    },
    "id": "talented-upset",
    "papermill": {
     "duration": 36.839723,
     "end_time": "2025-01-16T12:25:33.812966",
     "exception": false,
     "start_time": "2025-01-16T12:24:56.973243",
     "status": "completed"
    },
    "tags": []
   },
   "outputs": [
    {
     "name": "stdout",
     "output_type": "stream",
     "text": [
      "Datasets downloaded successfully!\n"
     ]
    }
   ],
   "source": [
    "#@title Download the datasets and install packages\n",
    "!wget -qq https://cdn.iisc.talentsprint.com/CDS/MiniProjects/Ravdess_Tess.zip\n",
    "!unzip -qq Ravdess_Tess.zip\n",
    "# Install packages\n",
    "!pip -qq install librosa soundfile\n",
    "!pip -qq install wavio\n",
    "print(\"Datasets downloaded successfully!\")"
   ]
  },
  {
   "cell_type": "code",
   "execution_count": 2,
   "id": "c52d7d03",
   "metadata": {
    "execution": {
     "iopub.execute_input": "2025-01-16T12:25:33.837695Z",
     "iopub.status.busy": "2025-01-16T12:25:33.837324Z",
     "iopub.status.idle": "2025-01-16T12:25:46.611321Z",
     "shell.execute_reply": "2025-01-16T12:25:46.610228Z"
    },
    "papermill": {
     "duration": 12.788378,
     "end_time": "2025-01-16T12:25:46.613117",
     "exception": false,
     "start_time": "2025-01-16T12:25:33.824739",
     "status": "completed"
    },
    "tags": []
   },
   "outputs": [],
   "source": [
    "!wget -qq https://cdn.iisc.talentsprint.com/CDS/MiniProjects/SaveeData.zip\n",
    "!unzip -qq SaveeData.zip"
   ]
  },
  {
   "cell_type": "code",
   "execution_count": 3,
   "id": "76539dbf",
   "metadata": {
    "execution": {
     "iopub.execute_input": "2025-01-16T12:25:46.637038Z",
     "iopub.status.busy": "2025-01-16T12:25:46.636769Z",
     "iopub.status.idle": "2025-01-16T12:25:50.029449Z",
     "shell.execute_reply": "2025-01-16T12:25:50.028486Z"
    },
    "papermill": {
     "duration": 3.406375,
     "end_time": "2025-01-16T12:25:50.031251",
     "exception": false,
     "start_time": "2025-01-16T12:25:46.624876",
     "status": "completed"
    },
    "tags": []
   },
   "outputs": [
    {
     "name": "stdout",
     "output_type": "stream",
     "text": [
      "Requirement already satisfied: optuna in /usr/local/lib/python3.10/dist-packages (4.1.0)\r\n",
      "Requirement already satisfied: alembic>=1.5.0 in /usr/local/lib/python3.10/dist-packages (from optuna) (1.14.0)\r\n",
      "Requirement already satisfied: colorlog in /usr/local/lib/python3.10/dist-packages (from optuna) (6.9.0)\r\n",
      "Requirement already satisfied: numpy in /usr/local/lib/python3.10/dist-packages (from optuna) (1.26.4)\r\n",
      "Requirement already satisfied: packaging>=20.0 in /usr/local/lib/python3.10/dist-packages (from optuna) (24.1)\r\n",
      "Requirement already satisfied: sqlalchemy>=1.4.2 in /usr/local/lib/python3.10/dist-packages (from optuna) (2.0.35)\r\n",
      "Requirement already satisfied: tqdm in /usr/local/lib/python3.10/dist-packages (from optuna) (4.66.5)\r\n",
      "Requirement already satisfied: PyYAML in /usr/local/lib/python3.10/dist-packages (from optuna) (6.0.2)\r\n",
      "Requirement already satisfied: Mako in /usr/local/lib/python3.10/dist-packages (from alembic>=1.5.0->optuna) (1.3.8)\r\n",
      "Requirement already satisfied: typing-extensions>=4 in /usr/local/lib/python3.10/dist-packages (from alembic>=1.5.0->optuna) (4.12.2)\r\n",
      "Requirement already satisfied: greenlet!=0.4.17 in /usr/local/lib/python3.10/dist-packages (from sqlalchemy>=1.4.2->optuna) (3.1.0)\r\n",
      "Requirement already satisfied: MarkupSafe>=0.9.2 in /usr/local/lib/python3.10/dist-packages (from Mako->alembic>=1.5.0->optuna) (2.1.5)\r\n"
     ]
    }
   ],
   "source": [
    "!pip install optuna"
   ]
  },
  {
   "cell_type": "markdown",
   "id": "026db059",
   "metadata": {
    "id": "appreciated-pattern",
    "papermill": {
     "duration": 0.011073,
     "end_time": "2025-01-16T12:25:50.053876",
     "exception": false,
     "start_time": "2025-01-16T12:25:50.042803",
     "status": "completed"
    },
    "tags": []
   },
   "source": [
    "### Import Neccesary Packages"
   ]
  },
  {
   "cell_type": "code",
   "execution_count": 4,
   "id": "b655cd2f",
   "metadata": {
    "execution": {
     "iopub.execute_input": "2025-01-16T12:25:50.077426Z",
     "iopub.status.busy": "2025-01-16T12:25:50.077137Z",
     "iopub.status.idle": "2025-01-16T12:25:55.421204Z",
     "shell.execute_reply": "2025-01-16T12:25:55.420253Z"
    },
    "id": "loose-marsh",
    "papermill": {
     "duration": 5.358072,
     "end_time": "2025-01-16T12:25:55.423048",
     "exception": false,
     "start_time": "2025-01-16T12:25:50.064976",
     "status": "completed"
    },
    "tags": []
   },
   "outputs": [],
   "source": [
    "import librosa\n",
    "import librosa.display\n",
    "import soundfile\n",
    "import os, glob, pickle\n",
    "import numpy as np\n",
    "import pandas as pd\n",
    "import IPython.display as ipd\n",
    "from matplotlib import pyplot as plt\n",
    "from datetime import datetime\n",
    "from IPython.display import Javascript\n",
    "from google.colab import output\n",
    "from base64 import b64decode\n",
    "import warnings\n",
    "warnings.filterwarnings('ignore')\n",
    "# sklearn\n",
    "from sklearn.model_selection import train_test_split\n",
    "from sklearn.metrics import accuracy_score\n",
    "from sklearn.linear_model import LogisticRegression\n",
    "from sklearn.ensemble import RandomForestClassifier\n",
    "from sklearn.svm import SVC\n",
    "from sklearn import tree\n",
    "from sklearn.ensemble import VotingClassifier\n",
    "from sklearn.preprocessing import StandardScaler\n",
    "import tqdm\n",
    "import optuna\n",
    "from lightgbm import Dataset, LGBMClassifier\n",
    "from sklearn.metrics import f1_score,make_scorer\n",
    "from sklearn.model_selection import StratifiedKFold"
   ]
  },
  {
   "cell_type": "markdown",
   "id": "8a43348a",
   "metadata": {
    "id": "medical-confidence",
    "papermill": {
     "duration": 0.010856,
     "end_time": "2025-01-16T12:25:55.445588",
     "exception": false,
     "start_time": "2025-01-16T12:25:55.434732",
     "status": "completed"
    },
    "tags": []
   },
   "source": [
    "### Feature Extraction Functions\n",
    "The feature extraction pipeline covers multiple aspects of audio analysis:\n",
    "\n",
    "extract_prosodic_features(audio, sr): Extracts features related to prosody:\n",
    "\n",
    "Pitch: Mean, standard deviation, max, min, and range of fundamental frequency.\n",
    "Energy (Loudness): Statistical metrics (mean, std, max, min, range) of Root Mean Square (RMS) energy.\n",
    "Speaking Rate: Measures the rate of pauses based on silence in the audio.\n",
    "extract_voice_quality_features(audio, sr): Captures features related to voice quality:\n",
    "\n",
    "Jitter: Variability in pitch (useful for capturing instability).\n",
    "Shimmer: Variability in loudness.\n",
    "Harmonic-to-Noise Ratio (HNR): Ratio of harmonic to percussive components.\n",
    "extract_frequency_features(audio, sr): Analyzes frequency-domain features:\n",
    "\n",
    "Spectral Centroid: Brightness of the sound.\n",
    "Spectral Bandwidth: Range of frequencies.\n",
    "Spectral Flatness: Tonality (flatness implies noise-like sound).\n",
    "extract_time_frequency_features(audio, sr): Extracts features in the time-frequency domain:\n",
    "\n",
    "Mel Spectrogram: Mean and std values of energy across Mel bands.\n",
    "Chromagram: Captures harmonic content and pitch class distribution.\n",
    "extract_cepstral_features(audio, sr): Extracts cepstral features:\n",
    "\n",
    "MFCCs: Mean and std of 40 Mel Frequency Cepstral Coefficients (MFCCs).\n",
    "Delta & Delta-Delta MFCCs: Captures dynamics in MFCCs over time.\n",
    "extract_rhythm_features(audio, sr): Captures rhythm-related features:\n",
    "\n",
    "Tempo: Estimated beats per minute.\n",
    "Beat Strength: Overall strength of rhythmic beats.\n",
    "### Audio Augmentation\n",
    "The augmentation pipeline adds diversity to the training data by simulating real-world variations:\n",
    "\n",
    "augment_audio(audio, sr, augmentations): Performs augmentations based on user-specified parameters:\n",
    "\n",
    "Time Stretching: Adjusts the playback speed without changing pitch.\n",
    "Pitch Shifting: Shifts the pitch up or down by semitones.\n",
    "Adding Noise: Injects Gaussian noise to simulate noisy environments.\n",
    "Speed Change: Alters playback speed while changing pitch.\n",
    "Reverb: Applies artificial reverberation for echo-like effects.\n",
    "random_augment_audio(audio, sr, seed=None): Randomly selects a combination of augmentations (e.g., pitch shift, noise) for a given audio file. Useful for creating diverse augmented datasets.\n",
    "\n",
    "### Integrated Feature Extraction\n",
    "extract_feature(file_path, augment=False):\n",
    "Loads an audio file and optionally applies random augmentation.\n",
    "Combines all extracted features (prosodic, voice quality, frequency, time-frequency, cepstral, and rhythm) into a unified dictionary."
   ]
  },
  {
   "cell_type": "code",
   "execution_count": 5,
   "id": "3aca449b",
   "metadata": {
    "execution": {
     "iopub.execute_input": "2025-01-16T12:25:55.470629Z",
     "iopub.status.busy": "2025-01-16T12:25:55.469994Z",
     "iopub.status.idle": "2025-01-16T12:25:55.540347Z",
     "shell.execute_reply": "2025-01-16T12:25:55.539540Z"
    },
    "id": "piano-accent",
    "papermill": {
     "duration": 0.084935,
     "end_time": "2025-01-16T12:25:55.541796",
     "exception": false,
     "start_time": "2025-01-16T12:25:55.456861",
     "status": "completed"
    },
    "tags": []
   },
   "outputs": [],
   "source": [
    "import librosa\n",
    "import numpy as np\n",
    "from IPython.display import Audio\n",
    "\n",
    "def extract_prosodic_features(audio, sr):\n",
    "    features = {}\n",
    "    \n",
    "    # Pitch (Fundamental Frequency)\n",
    "    pitches, magnitudes = librosa.piptrack(y=audio, sr=sr)\n",
    "    pitches = pitches[pitches > 0]  # Ignore zeros\n",
    "    features['pitch_mean'] = np.mean(pitches)\n",
    "    features['pitch_std'] = np.std(pitches)\n",
    "    features['pitch_max'] = np.max(pitches)\n",
    "    features['pitch_min'] = np.min(pitches)\n",
    "    features['pitch_range'] = np.max(pitches)- np.min(pitches)\n",
    "    \n",
    "    # Energy (Loudness)\n",
    "    rms = librosa.feature.rms(y=audio)\n",
    "    features['energy_mean'] = np.mean(rms)\n",
    "    features['energy_std'] = np.std(rms)\n",
    "    features['energy_max'] = np.max(rms)\n",
    "    features['energy_min'] = np.min(rms)\n",
    "    features['energy_range'] = np.max(rms)- np.min(rms)\n",
    "    \n",
    "    # Speaking Rate (using silence as a proxy for pauses)\n",
    "    intervals = librosa.effects.split(audio, top_db=20)\n",
    "    pause_durations = [(intervals[i][0] - intervals[i-1][1]) / sr for i in range(1, len(intervals))]\n",
    "    features['speaking_rate'] = len(pause_durations) / librosa.get_duration(y=audio, sr=sr)\n",
    "    \n",
    "    return features\n",
    "\n",
    "\n",
    "def extract_voice_quality_features(audio, sr):\n",
    "    features = {}\n",
    "    \n",
    "    # Jitter\n",
    "    pitches, _ = librosa.piptrack(y=audio, sr=sr)\n",
    "    pitches = pitches[pitches > 0]\n",
    "    features['jitter'] = np.std(np.diff(pitches))\n",
    "    \n",
    "    # Shimmer\n",
    "    frame_energy = librosa.feature.rms(y=audio)\n",
    "    features['shimmer'] = np.std(np.diff(frame_energy))\n",
    "    \n",
    "    # Harmonic-to-Noise Ratio (HNR)\n",
    "    harmonic, percussive = librosa.effects.hpss(audio)\n",
    "    features['hnr'] = np.sum(harmonic**2) / np.sum(percussive**2 + 1e-6)\n",
    "    \n",
    "    return features\n",
    "\n",
    "\n",
    "def extract_frequency_features(audio, sr):\n",
    "    features = {}\n",
    "    \n",
    "    # Spectral Centroid\n",
    "    spectral_centroid = librosa.feature.spectral_centroid(y=audio, sr=sr)\n",
    "    features['spectral_centroid_mean'] = np.mean(spectral_centroid)\n",
    "    features['spectral_centroid_std'] = np.std(spectral_centroid)\n",
    "    \n",
    "    # Spectral Bandwidth\n",
    "    spectral_bandwidth = librosa.feature.spectral_bandwidth(y=audio, sr=sr)\n",
    "    features['spectral_bandwidth_mean'] = np.mean(spectral_bandwidth)\n",
    "    features['spectral_bandwidth_std'] = np.std(spectral_bandwidth)\n",
    "    \n",
    "    # Spectral Flatness\n",
    "    spectral_flatness = librosa.feature.spectral_flatness(y=audio)\n",
    "    features['spectral_flatness_mean'] = np.mean(spectral_flatness)\n",
    "    \n",
    "    return features\n",
    "\n",
    "\n",
    "def extract_time_frequency_features(audio, sr):\n",
    "    features = {}\n",
    "    \n",
    "    # Mel-Spectrogram\n",
    "    mel_spectrogram = librosa.feature.melspectrogram(y=audio, sr=sr)\n",
    "    \n",
    "    values=np.mean(mel_spectrogram,axis=1)\n",
    "    keys=['mel_spectrogram_mean{}'.format(i) for i in range(len(values))]\n",
    "    \n",
    "    mss_values=np.std(mel_spectrogram,axis=1)\n",
    "    values=np.hstack([values,mss_values])\n",
    "    keys+=['mel_spectrogram_std{}'.format(i) for i in range(len(mss_values))]\n",
    "   \n",
    "    \n",
    "    # Chromagram\n",
    "    chroma = librosa.feature.chroma_stft(S=np.abs(librosa.stft(audio)), sr=sr)\n",
    "\n",
    "   \n",
    "    cm_values=np.mean(chroma,axis=1)\n",
    "    values=np.hstack([values,cm_values])\n",
    "    keys+=['chroma_mean{}'.format(i) for i in range(len(cm_values))]\n",
    "\n",
    "    \n",
    "    cs_values=np.std(chroma,axis=1)\n",
    "    values=np.hstack([values,cs_values])\n",
    "    keys+=['chroma_std{}'.format(i) for i in range(len(cs_values))]\n",
    "\n",
    "    \n",
    "    features={k:v for k,v in zip(keys,values)}\n",
    "    \n",
    "    return features\n",
    "\n",
    "\n",
    "def extract_cepstral_features(audio, sr):\n",
    "    features = {}\n",
    "    \n",
    "    # MFCCs\n",
    "    mfccs = librosa.feature.mfcc(y=audio, sr=sr, n_mfcc=40)\n",
    "    for i in range(mfccs.shape[0]):\n",
    "        features[f'mfcc_{i+1}_mean'] = np.mean(mfccs[i, :])\n",
    "        features[f'mfcc_{i+1}_std'] = np.std(mfccs[i, :])\n",
    "    \n",
    "    # Delta and Delta-Delta MFCCs\n",
    "    delta_mfccs = librosa.feature.delta(mfccs)\n",
    "    delta_delta_mfccs = librosa.feature.delta(mfccs, order=2)\n",
    "    for i in range(delta_mfccs.shape[0]):\n",
    "        features[f'delta_mfcc_{i+1}_mean'] = np.mean(delta_mfccs[i, :])\n",
    "        features[f'delta_delta_mfcc_{i+1}_mean'] = np.mean(delta_delta_mfccs[i, :])\n",
    "    \n",
    "    return features\n",
    "\n",
    "\n",
    "def extract_rhythm_features(audio, sr):\n",
    "    features = {}\n",
    "    \n",
    "    # Tempo\n",
    "    tempo, _ = librosa.beat.beat_track(y=audio, sr=sr)\n",
    "    features['tempo'] = tempo[0]\n",
    "    \n",
    "    # Beat Strength\n",
    "    onset_env = librosa.onset.onset_strength(y=audio, sr=sr)\n",
    "    features['beat_strength_mean'] = np.mean(onset_env)\n",
    "    \n",
    "    return features\n",
    "\n",
    "\n",
    "import random\n",
    "\n",
    "import librosa\n",
    "import numpy as np\n",
    "import random\n",
    "from scipy.signal import convolve\n",
    "\n",
    "def augment_audio(audio, sr, augmentations=None):\n",
    "    \"\"\"\n",
    "    Perform augmentations on an audio signal for Speech Emotion Recognition (SER).\n",
    "\n",
    "    Parameters:\n",
    "    - audio (numpy.ndarray): Input audio signal.\n",
    "    - sr (int): Sampling rate of the audio.\n",
    "    - augmentations (dict): Dictionary specifying augmentations to apply. Keys can include:\n",
    "        - \"time_stretch\": float, e.g., 0.9 to 1.1 (stretch factor).\n",
    "        - \"pitch_shift\": int, e.g., -2 to 2 (semitones).\n",
    "        - \"add_noise\": float, e.g., 0.01 to 0.05 (noise amplitude).\n",
    "        - \"speed_change\": float, e.g., 0.9 to 1.1 (speed factor).\n",
    "        - \"reverb\": bool, whether to apply reverb.\n",
    "\n",
    "    Returns:\n",
    "    - augmented_audio (numpy.ndarray): Augmented audio signal.\n",
    "    \"\"\"\n",
    "    \n",
    "    if augmentations is None:\n",
    "        augmentations = {}\n",
    "\n",
    "    augmented_audio = audio.copy()\n",
    "\n",
    "    # Time Stretching\n",
    "    if \"time_stretch\" in augmentations:\n",
    "        stretch_factor = augmentations.get(\"time_stretch\", 1.0)\n",
    "        augmented_audio = librosa.effects.time_stretch(augmented_audio, rate=stretch_factor)\n",
    "\n",
    "    # Pitch Shifting\n",
    "    if \"pitch_shift\" in augmentations:\n",
    "        pitch_shift_semitones = augmentations.get(\"pitch_shift\", 0)\n",
    "        augmented_audio = librosa.effects.pitch_shift(augmented_audio, sr=sr, n_steps=pitch_shift_semitones)\n",
    "\n",
    "    # Adding Noise\n",
    "    if \"add_noise\" in augmentations:\n",
    "        noise_amplitude = augmentations.get(\"add_noise\", 0.01)\n",
    "        noise = np.random.normal(0, noise_amplitude, len(augmented_audio))\n",
    "        augmented_audio = augmented_audio + noise\n",
    "\n",
    "    # Speed Change\n",
    "    if \"speed_change\" in augmentations:\n",
    "        speed_factor = augmentations.get(\"speed_change\", 1.0)\n",
    "        augmented_audio = librosa.effects.time_stretch(augmented_audio, rate=speed_factor)\n",
    "\n",
    "    # Adding Reverb\n",
    "    if \"reverb\" in augmentations and augmentations[\"reverb\"]:\n",
    "        reverb_impulse = np.random.normal(0, 1, sr // 10)  # Impulse response for reverb\n",
    "        reverb_impulse /= np.linalg.norm(reverb_impulse)  # Normalize impulse response\n",
    "        augmented_audio = convolve(augmented_audio, reverb_impulse, mode=\"full\")[:len(augmented_audio)]\n",
    "\n",
    "    # Ensure audio length remains the same\n",
    "    augmented_audio = librosa.util.fix_length(augmented_audio, size=len(audio))\n",
    "   \n",
    "   \n",
    "\n",
    "    return augmented_audio\n",
    "\n",
    "\n",
    "def random_augment_audio(audio, sr, seed=None):\n",
    "    \"\"\"\n",
    "    Randomly applies a combination of audio augmentations for diversity.\n",
    "\n",
    "    Parameters:\n",
    "    - audio (numpy.ndarray): Input audio signal.\n",
    "    - sr (int): Sampling rate of the audio.\n",
    "    - seed (int, optional): Random seed for reproducibility.\n",
    "\n",
    "    Returns:\n",
    "    - augmented_audio (numpy.ndarray): Augmented audio signal.\n",
    "    \"\"\"\n",
    "    if seed is not None:\n",
    "        random.seed(seed)\n",
    "        np.random.seed(seed)\n",
    "\n",
    "    augmentations = {}\n",
    "\n",
    "    # Randomly decide to include each augmentation\n",
    "    if random.choice([True, False]):  # Random chance for time stretching\n",
    "        augmentations[\"time_stretch\"] = random.uniform(0.95, 1.05)\n",
    "    if random.choice([True, False]):  # Random chance for pitch shifting\n",
    "        augmentations[\"pitch_shift\"] = random.randint(-1, 1)\n",
    "    if random.choice([True, False]):  # Random chance for adding noise\n",
    "        augmentations[\"add_noise\"] = random.uniform(0.005, 0.02)\n",
    "    if random.choice([True, False]):  # Random chance for speed change\n",
    "        augmentations[\"speed_change\"] = random.uniform(0.95, 1.05)\n",
    "    if random.choice([True, False]):  # Random chance for adding reverb\n",
    "        augmentations[\"reverb\"] = True\n",
    "\n",
    "    return augment_audio(audio, sr, augmentations)\n",
    "\n",
    "\n",
    "def extract_feature(file_path,augment=False):\n",
    "    audio, sr = librosa.load(file_path, sr=None)\n",
    "\n",
    "    if augment:\n",
    "        audio=random_augment_audio(audio,sr)\n",
    "    \n",
    "    features = {}\n",
    "    \n",
    "    # Prosodic Features\n",
    "    features.update(extract_prosodic_features(audio, sr))\n",
    "    \n",
    "    # Voice Quality Features\n",
    "    features.update(extract_voice_quality_features(audio, sr))\n",
    "    \n",
    "    # Frequency-Domain Features\n",
    "    features.update(extract_frequency_features(audio, sr))\n",
    "    \n",
    "    # Time-Frequency Features\n",
    "    features.update(extract_time_frequency_features(audio, sr))\n",
    "    \n",
    "    # Cepstral Features\n",
    "    features.update(extract_cepstral_features(audio, sr))\n",
    "    \n",
    "    # Rhythm Features\n",
    "    features.update(extract_rhythm_features(audio, sr))\n",
    "    \n",
    "    return features\n"
   ]
  },
  {
   "cell_type": "code",
   "execution_count": 6,
   "id": "e1f0b15f",
   "metadata": {
    "execution": {
     "iopub.execute_input": "2025-01-16T12:25:55.565368Z",
     "iopub.status.busy": "2025-01-16T12:25:55.564912Z",
     "iopub.status.idle": "2025-01-16T12:25:55.572528Z",
     "shell.execute_reply": "2025-01-16T12:25:55.571738Z"
    },
    "id": "c0c8d44d",
    "papermill": {
     "duration": 0.020681,
     "end_time": "2025-01-16T12:25:55.573984",
     "exception": false,
     "start_time": "2025-01-16T12:25:55.553303",
     "status": "completed"
    },
    "tags": []
   },
   "outputs": [],
   "source": [
    "# YOUR CODE HERE\n",
    "# y=\n",
    "import re\n",
    "savee_wav_files=glob.glob('/kaggle/working/SaveeData/*/*.wav')\n",
    "savee_wav_files\n",
    "\n",
    "emotions_ = []\n",
    "mapping = {'a': 'angry', 'f': 'fear', 'd': 'disgust', 'h': 'happy', 'sa': 'sad', 'su': 'surprised', 'n': 'neutral'}\n",
    "for file_name in savee_wav_files:\n",
    "    emotions_.append(mapping[re.sub('[0-9]*', '', file_name.split(\"/\")[-1].split(\".\")[0])])\n",
    "input_list=[]\n",
    "\n",
    "# for i in tqdm.tqdm(savee_wav_files):\n",
    "#     input_list+=[extract_feature(i)]\n",
    "\n"
   ]
  },
  {
   "cell_type": "code",
   "execution_count": 7,
   "id": "b9c845c8",
   "metadata": {
    "execution": {
     "iopub.execute_input": "2025-01-16T12:25:55.597184Z",
     "iopub.status.busy": "2025-01-16T12:25:55.596927Z",
     "iopub.status.idle": "2025-01-16T12:25:55.617167Z",
     "shell.execute_reply": "2025-01-16T12:25:55.616478Z"
    },
    "papermill": {
     "duration": 0.03322,
     "end_time": "2025-01-16T12:25:55.618503",
     "exception": false,
     "start_time": "2025-01-16T12:25:55.585283",
     "status": "completed"
    },
    "tags": []
   },
   "outputs": [
    {
     "data": {
      "text/html": [
       "<div>\n",
       "<style scoped>\n",
       "    .dataframe tbody tr th:only-of-type {\n",
       "        vertical-align: middle;\n",
       "    }\n",
       "\n",
       "    .dataframe tbody tr th {\n",
       "        vertical-align: top;\n",
       "    }\n",
       "\n",
       "    .dataframe thead th {\n",
       "        text-align: right;\n",
       "    }\n",
       "</style>\n",
       "<table border=\"1\" class=\"dataframe\">\n",
       "  <thead>\n",
       "    <tr style=\"text-align: right;\">\n",
       "      <th></th>\n",
       "      <th>0</th>\n",
       "      <th>target</th>\n",
       "    </tr>\n",
       "  </thead>\n",
       "  <tbody>\n",
       "    <tr>\n",
       "      <th>0</th>\n",
       "      <td>/kaggle/working/SaveeData/KL/n28.wav</td>\n",
       "      <td>neutral</td>\n",
       "    </tr>\n",
       "    <tr>\n",
       "      <th>1</th>\n",
       "      <td>/kaggle/working/SaveeData/KL/su02.wav</td>\n",
       "      <td>surprised</td>\n",
       "    </tr>\n",
       "    <tr>\n",
       "      <th>2</th>\n",
       "      <td>/kaggle/working/SaveeData/KL/a10.wav</td>\n",
       "      <td>angry</td>\n",
       "    </tr>\n",
       "    <tr>\n",
       "      <th>3</th>\n",
       "      <td>/kaggle/working/SaveeData/KL/n27.wav</td>\n",
       "      <td>neutral</td>\n",
       "    </tr>\n",
       "    <tr>\n",
       "      <th>4</th>\n",
       "      <td>/kaggle/working/SaveeData/KL/h10.wav</td>\n",
       "      <td>happy</td>\n",
       "    </tr>\n",
       "    <tr>\n",
       "      <th>...</th>\n",
       "      <td>...</td>\n",
       "      <td>...</td>\n",
       "    </tr>\n",
       "    <tr>\n",
       "      <th>475</th>\n",
       "      <td>/kaggle/working/SaveeData/JK/su09.wav</td>\n",
       "      <td>surprised</td>\n",
       "    </tr>\n",
       "    <tr>\n",
       "      <th>476</th>\n",
       "      <td>/kaggle/working/SaveeData/JK/n26.wav</td>\n",
       "      <td>neutral</td>\n",
       "    </tr>\n",
       "    <tr>\n",
       "      <th>477</th>\n",
       "      <td>/kaggle/working/SaveeData/JK/n29.wav</td>\n",
       "      <td>neutral</td>\n",
       "    </tr>\n",
       "    <tr>\n",
       "      <th>478</th>\n",
       "      <td>/kaggle/working/SaveeData/JK/su11.wav</td>\n",
       "      <td>surprised</td>\n",
       "    </tr>\n",
       "    <tr>\n",
       "      <th>479</th>\n",
       "      <td>/kaggle/working/SaveeData/JK/n15.wav</td>\n",
       "      <td>neutral</td>\n",
       "    </tr>\n",
       "  </tbody>\n",
       "</table>\n",
       "<p>480 rows × 2 columns</p>\n",
       "</div>"
      ],
      "text/plain": [
       "                                         0     target\n",
       "0     /kaggle/working/SaveeData/KL/n28.wav    neutral\n",
       "1    /kaggle/working/SaveeData/KL/su02.wav  surprised\n",
       "2     /kaggle/working/SaveeData/KL/a10.wav      angry\n",
       "3     /kaggle/working/SaveeData/KL/n27.wav    neutral\n",
       "4     /kaggle/working/SaveeData/KL/h10.wav      happy\n",
       "..                                     ...        ...\n",
       "475  /kaggle/working/SaveeData/JK/su09.wav  surprised\n",
       "476   /kaggle/working/SaveeData/JK/n26.wav    neutral\n",
       "477   /kaggle/working/SaveeData/JK/n29.wav    neutral\n",
       "478  /kaggle/working/SaveeData/JK/su11.wav  surprised\n",
       "479   /kaggle/working/SaveeData/JK/n15.wav    neutral\n",
       "\n",
       "[480 rows x 2 columns]"
      ]
     },
     "execution_count": 7,
     "metadata": {},
     "output_type": "execute_result"
    }
   ],
   "source": [
    "savee_X=pd.DataFrame(savee_wav_files)\n",
    "savee_X['target']=emotions_\n",
    "savee_X"
   ]
  },
  {
   "cell_type": "code",
   "execution_count": 8,
   "id": "0c8b51c2",
   "metadata": {
    "execution": {
     "iopub.execute_input": "2025-01-16T12:25:55.643088Z",
     "iopub.status.busy": "2025-01-16T12:25:55.642821Z",
     "iopub.status.idle": "2025-01-16T12:25:55.660843Z",
     "shell.execute_reply": "2025-01-16T12:25:55.660043Z"
    },
    "papermill": {
     "duration": 0.031332,
     "end_time": "2025-01-16T12:25:55.662156",
     "exception": false,
     "start_time": "2025-01-16T12:25:55.630824",
     "status": "completed"
    },
    "tags": []
   },
   "outputs": [
    {
     "data": {
      "text/html": [
       "<div>\n",
       "<style scoped>\n",
       "    .dataframe tbody tr th:only-of-type {\n",
       "        vertical-align: middle;\n",
       "    }\n",
       "\n",
       "    .dataframe tbody tr th {\n",
       "        vertical-align: top;\n",
       "    }\n",
       "\n",
       "    .dataframe thead th {\n",
       "        text-align: right;\n",
       "    }\n",
       "</style>\n",
       "<table border=\"1\" class=\"dataframe\">\n",
       "  <thead>\n",
       "    <tr style=\"text-align: right;\">\n",
       "      <th></th>\n",
       "      <th>0</th>\n",
       "      <th>target</th>\n",
       "    </tr>\n",
       "  </thead>\n",
       "  <tbody>\n",
       "    <tr>\n",
       "      <th>0</th>\n",
       "      <td>/kaggle/working/Tess/OAF_Sad/OAF_lore_sad.wav</td>\n",
       "      <td>sad</td>\n",
       "    </tr>\n",
       "    <tr>\n",
       "      <th>1</th>\n",
       "      <td>/kaggle/working/Tess/OAF_Sad/OAF_ripe_sad.wav</td>\n",
       "      <td>sad</td>\n",
       "    </tr>\n",
       "    <tr>\n",
       "      <th>2</th>\n",
       "      <td>/kaggle/working/Tess/OAF_Sad/OAF_knock_sad.wav</td>\n",
       "      <td>sad</td>\n",
       "    </tr>\n",
       "    <tr>\n",
       "      <th>3</th>\n",
       "      <td>/kaggle/working/Tess/OAF_Sad/OAF_hit_sad.wav</td>\n",
       "      <td>sad</td>\n",
       "    </tr>\n",
       "    <tr>\n",
       "      <th>4</th>\n",
       "      <td>/kaggle/working/Tess/OAF_Sad/OAF_mess_sad.wav</td>\n",
       "      <td>sad</td>\n",
       "    </tr>\n",
       "    <tr>\n",
       "      <th>...</th>\n",
       "      <td>...</td>\n",
       "      <td>...</td>\n",
       "    </tr>\n",
       "    <tr>\n",
       "      <th>2674</th>\n",
       "      <td>/kaggle/working/Tess/OAF_Fear/OAF_lean_fear.wav</td>\n",
       "      <td>fear</td>\n",
       "    </tr>\n",
       "    <tr>\n",
       "      <th>2675</th>\n",
       "      <td>/kaggle/working/Tess/OAF_Fear/OAF_bar_fear.wav</td>\n",
       "      <td>fear</td>\n",
       "    </tr>\n",
       "    <tr>\n",
       "      <th>2676</th>\n",
       "      <td>/kaggle/working/Tess/OAF_Fear/OAF_wife_fear.wav</td>\n",
       "      <td>fear</td>\n",
       "    </tr>\n",
       "    <tr>\n",
       "      <th>2677</th>\n",
       "      <td>/kaggle/working/Tess/OAF_Fear/OAF_dodge_fear.wav</td>\n",
       "      <td>fear</td>\n",
       "    </tr>\n",
       "    <tr>\n",
       "      <th>2678</th>\n",
       "      <td>/kaggle/working/Tess/OAF_Fear/OAF_hurl_fear.wav</td>\n",
       "      <td>fear</td>\n",
       "    </tr>\n",
       "  </tbody>\n",
       "</table>\n",
       "<p>2679 rows × 2 columns</p>\n",
       "</div>"
      ],
      "text/plain": [
       "                                                     0 target\n",
       "0        /kaggle/working/Tess/OAF_Sad/OAF_lore_sad.wav    sad\n",
       "1        /kaggle/working/Tess/OAF_Sad/OAF_ripe_sad.wav    sad\n",
       "2       /kaggle/working/Tess/OAF_Sad/OAF_knock_sad.wav    sad\n",
       "3         /kaggle/working/Tess/OAF_Sad/OAF_hit_sad.wav    sad\n",
       "4        /kaggle/working/Tess/OAF_Sad/OAF_mess_sad.wav    sad\n",
       "...                                                ...    ...\n",
       "2674   /kaggle/working/Tess/OAF_Fear/OAF_lean_fear.wav   fear\n",
       "2675    /kaggle/working/Tess/OAF_Fear/OAF_bar_fear.wav   fear\n",
       "2676   /kaggle/working/Tess/OAF_Fear/OAF_wife_fear.wav   fear\n",
       "2677  /kaggle/working/Tess/OAF_Fear/OAF_dodge_fear.wav   fear\n",
       "2678   /kaggle/working/Tess/OAF_Fear/OAF_hurl_fear.wav   fear\n",
       "\n",
       "[2679 rows x 2 columns]"
      ]
     },
     "execution_count": 8,
     "metadata": {},
     "output_type": "execute_result"
    }
   ],
   "source": [
    "# YOUR CODE HERE\n",
    "# y=\n",
    "import re\n",
    "tess_wav_files=glob.glob('/kaggle/working/Tess/*/*.wav')\n",
    "tess_wav_files\n",
    "\n",
    "emotions_ = []\n",
    "for file_name in tess_wav_files:\n",
    "    emotions_.append(file_name.split('_')[-1][:-4])\n",
    "    \n",
    "input_list=[]\n",
    "\n",
    "# for i in tqdm.tqdm(tess_wav_files):\n",
    "#     input_list+=[extract_feature(i)]\n",
    "\n",
    "tess_X=pd.DataFrame(tess_wav_files)\n",
    "tess_X['target']=emotions_\n",
    "tess_X"
   ]
  },
  {
   "cell_type": "code",
   "execution_count": 9,
   "id": "281b486f",
   "metadata": {
    "execution": {
     "iopub.execute_input": "2025-01-16T12:25:55.686233Z",
     "iopub.status.busy": "2025-01-16T12:25:55.685972Z",
     "iopub.status.idle": "2025-01-16T12:25:55.702322Z",
     "shell.execute_reply": "2025-01-16T12:25:55.701459Z"
    },
    "papermill": {
     "duration": 0.029657,
     "end_time": "2025-01-16T12:25:55.703810",
     "exception": false,
     "start_time": "2025-01-16T12:25:55.674153",
     "status": "completed"
    },
    "tags": []
   },
   "outputs": [
    {
     "data": {
      "text/html": [
       "<div>\n",
       "<style scoped>\n",
       "    .dataframe tbody tr th:only-of-type {\n",
       "        vertical-align: middle;\n",
       "    }\n",
       "\n",
       "    .dataframe tbody tr th {\n",
       "        vertical-align: top;\n",
       "    }\n",
       "\n",
       "    .dataframe thead th {\n",
       "        text-align: right;\n",
       "    }\n",
       "</style>\n",
       "<table border=\"1\" class=\"dataframe\">\n",
       "  <thead>\n",
       "    <tr style=\"text-align: right;\">\n",
       "      <th></th>\n",
       "      <th>0</th>\n",
       "      <th>target</th>\n",
       "    </tr>\n",
       "  </thead>\n",
       "  <tbody>\n",
       "    <tr>\n",
       "      <th>0</th>\n",
       "      <td>/kaggle/working/ravdess/Actor_19/03-01-06-02-0...</td>\n",
       "      <td>fear</td>\n",
       "    </tr>\n",
       "    <tr>\n",
       "      <th>1</th>\n",
       "      <td>/kaggle/working/ravdess/Actor_19/03-01-03-02-0...</td>\n",
       "      <td>happy</td>\n",
       "    </tr>\n",
       "    <tr>\n",
       "      <th>2</th>\n",
       "      <td>/kaggle/working/ravdess/Actor_19/03-01-01-01-0...</td>\n",
       "      <td>neutral</td>\n",
       "    </tr>\n",
       "    <tr>\n",
       "      <th>3</th>\n",
       "      <td>/kaggle/working/ravdess/Actor_19/03-01-05-01-0...</td>\n",
       "      <td>angry</td>\n",
       "    </tr>\n",
       "    <tr>\n",
       "      <th>4</th>\n",
       "      <td>/kaggle/working/ravdess/Actor_19/03-01-08-02-0...</td>\n",
       "      <td>surprised</td>\n",
       "    </tr>\n",
       "    <tr>\n",
       "      <th>...</th>\n",
       "      <td>...</td>\n",
       "      <td>...</td>\n",
       "    </tr>\n",
       "    <tr>\n",
       "      <th>1163</th>\n",
       "      <td>/kaggle/working/ravdess/Actor_13/03-01-06-02-0...</td>\n",
       "      <td>fear</td>\n",
       "    </tr>\n",
       "    <tr>\n",
       "      <th>1164</th>\n",
       "      <td>/kaggle/working/ravdess/Actor_13/03-01-06-01-0...</td>\n",
       "      <td>fear</td>\n",
       "    </tr>\n",
       "    <tr>\n",
       "      <th>1165</th>\n",
       "      <td>/kaggle/working/ravdess/Actor_13/03-01-08-02-0...</td>\n",
       "      <td>surprised</td>\n",
       "    </tr>\n",
       "    <tr>\n",
       "      <th>1166</th>\n",
       "      <td>/kaggle/working/ravdess/Actor_13/03-01-03-01-0...</td>\n",
       "      <td>happy</td>\n",
       "    </tr>\n",
       "    <tr>\n",
       "      <th>1167</th>\n",
       "      <td>/kaggle/working/ravdess/Actor_13/03-01-05-01-0...</td>\n",
       "      <td>angry</td>\n",
       "    </tr>\n",
       "  </tbody>\n",
       "</table>\n",
       "<p>1168 rows × 2 columns</p>\n",
       "</div>"
      ],
      "text/plain": [
       "                                                      0     target\n",
       "0     /kaggle/working/ravdess/Actor_19/03-01-06-02-0...       fear\n",
       "1     /kaggle/working/ravdess/Actor_19/03-01-03-02-0...      happy\n",
       "2     /kaggle/working/ravdess/Actor_19/03-01-01-01-0...    neutral\n",
       "3     /kaggle/working/ravdess/Actor_19/03-01-05-01-0...      angry\n",
       "4     /kaggle/working/ravdess/Actor_19/03-01-08-02-0...  surprised\n",
       "...                                                 ...        ...\n",
       "1163  /kaggle/working/ravdess/Actor_13/03-01-06-02-0...       fear\n",
       "1164  /kaggle/working/ravdess/Actor_13/03-01-06-01-0...       fear\n",
       "1165  /kaggle/working/ravdess/Actor_13/03-01-08-02-0...  surprised\n",
       "1166  /kaggle/working/ravdess/Actor_13/03-01-03-01-0...      happy\n",
       "1167  /kaggle/working/ravdess/Actor_13/03-01-05-01-0...      angry\n",
       "\n",
       "[1168 rows x 2 columns]"
      ]
     },
     "execution_count": 9,
     "metadata": {},
     "output_type": "execute_result"
    }
   ],
   "source": [
    "# YOUR CODE HERE\n",
    "# y=\n",
    "import re\n",
    "revdess_wav_files=glob.glob('/kaggle/working/ravdess/*/*.wav')\n",
    "revdess_wav_files\n",
    "\n",
    "emotions_ = []\n",
    "for file_name in revdess_wav_files:\n",
    "    emotions_.append(file_name.split('_')[-1][:-4])\n",
    "    \n",
    "input_list=[]\n",
    "\n",
    "# for i in tqdm.tqdm(revdess_wav_files):\n",
    "#     input_list+=[extract_feature(i)]\n",
    "\n",
    "revdess_X=pd.DataFrame(revdess_wav_files)\n",
    "revdess_X['target']=emotions_\n",
    "revdess_X"
   ]
  },
  {
   "cell_type": "code",
   "execution_count": 10,
   "id": "e69d23c2",
   "metadata": {
    "execution": {
     "iopub.execute_input": "2025-01-16T12:25:55.728663Z",
     "iopub.status.busy": "2025-01-16T12:25:55.728367Z",
     "iopub.status.idle": "2025-01-16T12:25:55.736222Z",
     "shell.execute_reply": "2025-01-16T12:25:55.735606Z"
    },
    "id": "9ec91c16",
    "papermill": {
     "duration": 0.021742,
     "end_time": "2025-01-16T12:25:55.737622",
     "exception": false,
     "start_time": "2025-01-16T12:25:55.715880",
     "status": "completed"
    },
    "tags": []
   },
   "outputs": [],
   "source": [
    "train=pd.concat([revdess_X,tess_X,savee_X]).reset_index(drop=True)"
   ]
  },
  {
   "cell_type": "code",
   "execution_count": 11,
   "id": "e8df13d7",
   "metadata": {
    "execution": {
     "iopub.execute_input": "2025-01-16T12:25:55.763202Z",
     "iopub.status.busy": "2025-01-16T12:25:55.762967Z",
     "iopub.status.idle": "2025-01-16T12:25:55.774267Z",
     "shell.execute_reply": "2025-01-16T12:25:55.773630Z"
    },
    "papermill": {
     "duration": 0.024897,
     "end_time": "2025-01-16T12:25:55.775491",
     "exception": false,
     "start_time": "2025-01-16T12:25:55.750594",
     "status": "completed"
    },
    "tags": []
   },
   "outputs": [
    {
     "data": {
      "text/plain": [
       "target\n",
       "disgust      631\n",
       "surprised    629\n",
       "sad          622\n",
       "fear         621\n",
       "angry        621\n",
       "happy        617\n",
       "neutral      586\n",
       "Name: count, dtype: int64"
      ]
     },
     "execution_count": 11,
     "metadata": {},
     "output_type": "execute_result"
    }
   ],
   "source": [
    "train['target'].value_counts()"
   ]
  },
  {
   "cell_type": "markdown",
   "id": "f73b9dd2",
   "metadata": {
    "id": "aggressive-cause",
    "papermill": {
     "duration": 0.011852,
     "end_time": "2025-01-16T12:25:55.799764",
     "exception": false,
     "start_time": "2025-01-16T12:25:55.787912",
     "status": "completed"
    },
    "tags": []
   },
   "source": [
    "#### Split the data into train and test"
   ]
  },
  {
   "cell_type": "code",
   "execution_count": 12,
   "id": "aae49ab1",
   "metadata": {
    "execution": {
     "iopub.execute_input": "2025-01-16T12:25:55.824324Z",
     "iopub.status.busy": "2025-01-16T12:25:55.824063Z",
     "iopub.status.idle": "2025-01-16T12:25:55.838253Z",
     "shell.execute_reply": "2025-01-16T12:25:55.837606Z"
    },
    "id": "nearby-angle",
    "papermill": {
     "duration": 0.02803,
     "end_time": "2025-01-16T12:25:55.839782",
     "exception": false,
     "start_time": "2025-01-16T12:25:55.811752",
     "status": "completed"
    },
    "tags": []
   },
   "outputs": [],
   "source": [
    "X_train,X_test,y_train,y_test=train_test_split(train.iloc[:,:-1],train['target'],test_size=.2,random_state=42,stratify=train['target'])"
   ]
  },
  {
   "cell_type": "markdown",
   "id": "acf57780",
   "metadata": {
    "papermill": {
     "duration": 0.012734,
     "end_time": "2025-01-16T12:25:55.865068",
     "exception": false,
     "start_time": "2025-01-16T12:25:55.852334",
     "status": "completed"
    },
    "tags": []
   },
   "source": [
    "### Extract Features and Augmenting on a proportion of data"
   ]
  },
  {
   "cell_type": "code",
   "execution_count": 13,
   "id": "3fb20d44",
   "metadata": {
    "execution": {
     "iopub.execute_input": "2025-01-16T12:25:55.890752Z",
     "iopub.status.busy": "2025-01-16T12:25:55.890411Z",
     "iopub.status.idle": "2025-01-16T12:25:55.893949Z",
     "shell.execute_reply": "2025-01-16T12:25:55.893212Z"
    },
    "papermill": {
     "duration": 0.017848,
     "end_time": "2025-01-16T12:25:55.895256",
     "exception": false,
     "start_time": "2025-01-16T12:25:55.877408",
     "status": "completed"
    },
    "tags": []
   },
   "outputs": [],
   "source": [
    "# X_train_extracted=[]\n",
    "# y_train_extracted=y_train.to_list()\n",
    "# X_test_extracted=[]\n",
    "# X_train_augmented=[]\n",
    "# y_train_augmented=[]\n",
    "# X_train_augmented_extracted=[]\n",
    "\n",
    "# for i in tqdm.tqdm(X_train.values):\n",
    "#     X_train_extracted+=[extract_feature(i[0])]\n",
    "\n",
    "# for class_name in y_train.unique():\n",
    "#     n=int(round(y_train[y_train==class_name].shape[0]/2,0))\n",
    "#     random_rows = y_train[y_train==class_name].sample(n=n)\n",
    "#     y_train_augmented+=[class_name]*n\n",
    "#     X_train_augmented+=[X_train.loc[random_rows.index]]\n",
    "# X_train_augmented=pd.concat(X_train_augmented)\n",
    "\n",
    "\n",
    "# for i in tqdm.tqdm(X_train_augmented.values):\n",
    "#     X_train_augmented_extracted+=[extract_feature(i[0],True)]\n",
    "\n",
    "# for i in tqdm.tqdm(X_test.values):\n",
    "#     X_test_extracted+=[extract_feature(i[0])]\n",
    "    \n"
   ]
  },
  {
   "cell_type": "code",
   "execution_count": 14,
   "id": "bb21db5e",
   "metadata": {
    "execution": {
     "iopub.execute_input": "2025-01-16T12:25:55.920724Z",
     "iopub.status.busy": "2025-01-16T12:25:55.920424Z",
     "iopub.status.idle": "2025-01-16T12:25:55.923469Z",
     "shell.execute_reply": "2025-01-16T12:25:55.922818Z"
    },
    "papermill": {
     "duration": 0.017422,
     "end_time": "2025-01-16T12:25:55.924867",
     "exception": false,
     "start_time": "2025-01-16T12:25:55.907445",
     "status": "completed"
    },
    "tags": []
   },
   "outputs": [],
   "source": [
    "# train_x=pd.concat([pd.DataFrame(X_train_extracted),pd.DataFrame(X_train_augmented_extracted)])\n",
    "# train_y=pd.concat([pd.DataFrame(y_train_extracted),pd.DataFrame(y_train_augmented)])\n",
    "# test_x=pd.DataFrame(X_test_extracted)\n",
    "# test_y=pd.DataFrame(y_test.to_list())"
   ]
  },
  {
   "cell_type": "markdown",
   "id": "103852bc",
   "metadata": {
    "papermill": {
     "duration": 0.011242,
     "end_time": "2025-01-16T12:25:55.947883",
     "exception": false,
     "start_time": "2025-01-16T12:25:55.936641",
     "status": "completed"
    },
    "tags": []
   },
   "source": [
    "### Save the test and train data for reusablity"
   ]
  },
  {
   "cell_type": "code",
   "execution_count": 15,
   "id": "a6351453",
   "metadata": {
    "execution": {
     "iopub.execute_input": "2025-01-16T12:25:55.972947Z",
     "iopub.status.busy": "2025-01-16T12:25:55.972687Z",
     "iopub.status.idle": "2025-01-16T12:25:55.975752Z",
     "shell.execute_reply": "2025-01-16T12:25:55.975001Z"
    },
    "papermill": {
     "duration": 0.016782,
     "end_time": "2025-01-16T12:25:55.976975",
     "exception": false,
     "start_time": "2025-01-16T12:25:55.960193",
     "status": "completed"
    },
    "tags": []
   },
   "outputs": [],
   "source": [
    "# pd.concat([train_x,train_y],axis=1).to_csv('training_file.csv',index=False)\n",
    "# pd.concat([test_x,test_y],axis=1).to_csv('testing_file.csv',index=False)"
   ]
  },
  {
   "cell_type": "markdown",
   "id": "b71a7e04",
   "metadata": {
    "papermill": {
     "duration": 0.013014,
     "end_time": "2025-01-16T12:25:56.002178",
     "exception": false,
     "start_time": "2025-01-16T12:25:55.989164",
     "status": "completed"
    },
    "tags": []
   },
   "source": [
    "### Load the train and test data"
   ]
  },
  {
   "cell_type": "code",
   "execution_count": 16,
   "id": "b4915d5c",
   "metadata": {
    "execution": {
     "iopub.execute_input": "2025-01-16T12:25:56.026803Z",
     "iopub.status.busy": "2025-01-16T12:25:56.026526Z",
     "iopub.status.idle": "2025-01-16T12:25:57.153988Z",
     "shell.execute_reply": "2025-01-16T12:25:57.152901Z"
    },
    "papermill": {
     "duration": 1.141403,
     "end_time": "2025-01-16T12:25:57.155536",
     "exception": false,
     "start_time": "2025-01-16T12:25:56.014133",
     "status": "completed"
    },
    "tags": []
   },
   "outputs": [],
   "source": [
    "train=pd.read_csv('/kaggle/input/preprocessed-ser-data/training_file (3).csv')\n",
    "train_x,train_y=train.iloc[:,:-1],train['0']\n",
    "test=pd.read_csv('/kaggle/input/preprocessed-ser-data/testing_file (3).csv')\n",
    "test_x,test_y=test.iloc[:,:-1],test['0']"
   ]
  },
  {
   "cell_type": "markdown",
   "id": "6a695f7c",
   "metadata": {
    "papermill": {
     "duration": 0.012689,
     "end_time": "2025-01-16T12:25:57.185448",
     "exception": false,
     "start_time": "2025-01-16T12:25:57.172759",
     "status": "completed"
    },
    "tags": []
   },
   "source": [
    "### Sacle the input data and Label Encode the Target Data"
   ]
  },
  {
   "cell_type": "code",
   "execution_count": 17,
   "id": "cda00964",
   "metadata": {
    "execution": {
     "iopub.execute_input": "2025-01-16T12:25:57.211073Z",
     "iopub.status.busy": "2025-01-16T12:25:57.210756Z",
     "iopub.status.idle": "2025-01-16T12:25:57.262295Z",
     "shell.execute_reply": "2025-01-16T12:25:57.261512Z"
    },
    "id": "EtlfZmtWSD_X",
    "papermill": {
     "duration": 0.066309,
     "end_time": "2025-01-16T12:25:57.264066",
     "exception": false,
     "start_time": "2025-01-16T12:25:57.197757",
     "status": "completed"
    },
    "tags": []
   },
   "outputs": [],
   "source": [
    "# YOUR CODE HERE\n",
    "from sklearn.preprocessing import LabelEncoder\n",
    "LE=LabelEncoder()\n",
    "train_y=LE.fit_transform(train_y)\n",
    "SS=StandardScaler()\n",
    "train_x=SS.fit_transform(train_x)"
   ]
  },
  {
   "cell_type": "markdown",
   "id": "07af0713",
   "metadata": {
    "papermill": {
     "duration": 0.012478,
     "end_time": "2025-01-16T12:25:57.289500",
     "exception": false,
     "start_time": "2025-01-16T12:25:57.277022",
     "status": "completed"
    },
    "tags": []
   },
   "source": [
    "### Finding the best Light Gradient Boosting Classifier Hyperparameters"
   ]
  },
  {
   "cell_type": "code",
   "execution_count": 18,
   "id": "70ca8375",
   "metadata": {
    "execution": {
     "iopub.execute_input": "2025-01-16T12:25:57.315663Z",
     "iopub.status.busy": "2025-01-16T12:25:57.315353Z",
     "iopub.status.idle": "2025-01-16T12:25:57.318681Z",
     "shell.execute_reply": "2025-01-16T12:25:57.317893Z"
    },
    "papermill": {
     "duration": 0.018008,
     "end_time": "2025-01-16T12:25:57.320086",
     "exception": false,
     "start_time": "2025-01-16T12:25:57.302078",
     "status": "completed"
    },
    "tags": []
   },
   "outputs": [],
   "source": [
    "# def objective(trial):\n",
    "  \n",
    "#   params={\n",
    "#       'objective':'multiclass',\n",
    "#       'num_leaves': trial.suggest_int('num_leaves', 2, 256),\n",
    "#       'max_depth': trial.suggest_int('max_depth', 3, 256),\n",
    "#       'learning_rate': trial.suggest_float('learning_rate', 0.001, 0.3),\n",
    "#       'n_estimators': trial.suggest_int('max_depth', -1, 256),\n",
    "#       'class_weight': 'balanced',\n",
    "#       'min_child_weight': trial.suggest_float('min_child_weight', 0.0005, 0.3),\n",
    "#       'min_child_samples': trial.suggest_int('min_child_samples', 5, 100),\n",
    "#       'reg_alpha': trial.suggest_float('reg_alpha', 0, 1),\n",
    "#       'reg_lambda':trial.suggest_float('reg_lambda', 0, 1),\n",
    "#       'subsample_freq':trial.suggest_int('subsample_freq', 0, 4),\n",
    "#       'subsample':trial.suggest_float('subsample', 0.7, 1),\n",
    "#       'colsample_bytree':trial.suggest_float('subsample', 0.7, 1),\n",
    "#       \"num_boost_round\": trial.suggest_int(\"num_boost_round\", 1, 1000),  # Set valid range\n",
    "#       \"verbosity\":-1\n",
    "#   }\n",
    "#   LGBC=LGBMClassifier(**params)\n",
    "#   LGBC.fit(train_x,train_y,eval_set=[(SS.transform(test_x),LE.transform(test_y))])\n",
    "#   return f1_score(LE.transform(test_y),LGBC.predict(SS.transform(test_x)),average='weighted')\n",
    "\n",
    "# study = optuna.create_study(direction='maximize')\n",
    "# study.optimize(objective, n_trials=100)\n",
    "# print('Number of finished trials:', len(study.trials))\n",
    "# print('Best trial:', study.best_trial.params)"
   ]
  },
  {
   "cell_type": "code",
   "execution_count": 19,
   "id": "5d46628d",
   "metadata": {
    "execution": {
     "iopub.execute_input": "2025-01-16T12:25:57.346214Z",
     "iopub.status.busy": "2025-01-16T12:25:57.345953Z",
     "iopub.status.idle": "2025-01-16T12:25:57.349577Z",
     "shell.execute_reply": "2025-01-16T12:25:57.348815Z"
    },
    "papermill": {
     "duration": 0.01819,
     "end_time": "2025-01-16T12:25:57.351196",
     "exception": false,
     "start_time": "2025-01-16T12:25:57.333006",
     "status": "completed"
    },
    "tags": []
   },
   "outputs": [],
   "source": [
    "# lgbm_params=study.best_trial.params\n",
    "lgbm_params={'num_leaves': 235, 'max_depth': 67, 'learning_rate': 0.1745777512272209, 'min_child_weight': 0.2824522669714243, 'min_child_samples': 69, 'reg_alpha': 0.0030285018453082286, 'reg_lambda': 0.5022298917070829, 'subsample_freq': 4, 'subsample': 0.8187799591970512, 'num_boost_round': 739}"
   ]
  },
  {
   "cell_type": "code",
   "execution_count": 20,
   "id": "8ad14c59",
   "metadata": {
    "execution": {
     "iopub.execute_input": "2025-01-16T12:25:57.376660Z",
     "iopub.status.busy": "2025-01-16T12:25:57.376370Z",
     "iopub.status.idle": "2025-01-16T12:25:57.884336Z",
     "shell.execute_reply": "2025-01-16T12:25:57.883364Z"
    },
    "papermill": {
     "duration": 0.522535,
     "end_time": "2025-01-16T12:25:57.886142",
     "exception": false,
     "start_time": "2025-01-16T12:25:57.363607",
     "status": "completed"
    },
    "tags": []
   },
   "outputs": [],
   "source": [
    "# from sklearn.metrics import classification_report\n",
    "from catboost import CatBoostClassifier"
   ]
  },
  {
   "cell_type": "markdown",
   "id": "6c92a382",
   "metadata": {
    "papermill": {
     "duration": 0.012432,
     "end_time": "2025-01-16T12:25:57.911829",
     "exception": false,
     "start_time": "2025-01-16T12:25:57.899397",
     "status": "completed"
    },
    "tags": []
   },
   "source": [
    "### Finding the best Catboost Classifier Hyperparameters"
   ]
  },
  {
   "cell_type": "code",
   "execution_count": 21,
   "id": "3502ba15",
   "metadata": {
    "execution": {
     "iopub.execute_input": "2025-01-16T12:25:57.937153Z",
     "iopub.status.busy": "2025-01-16T12:25:57.936907Z",
     "iopub.status.idle": "2025-01-16T12:25:57.940778Z",
     "shell.execute_reply": "2025-01-16T12:25:57.939852Z"
    },
    "papermill": {
     "duration": 0.01818,
     "end_time": "2025-01-16T12:25:57.942210",
     "exception": false,
     "start_time": "2025-01-16T12:25:57.924030",
     "status": "completed"
    },
    "tags": []
   },
   "outputs": [],
   "source": [
    "\n",
    "# def objective(trial):\n",
    "#     # Sample hyperparameters\n",
    "#     params = {\n",
    "#     'objective': 'MultiClass',  # Objective function\n",
    "#     'eval_metric': 'TotalF1',  # Evaluation metric\n",
    "#     'iterations': trial.suggest_int('iterations', 100, 1000),  # Number of boosting iterations\n",
    "#     'learning_rate': trial.suggest_float('learning_rate', 0.001, 0.3),  # Learning rate\n",
    "#     'depth': trial.suggest_int('depth', 1, 16),  # Tree depth\n",
    "#     'l2_leaf_reg': trial.suggest_float('l2_leaf_reg', 1e-2, 10, log=True),  # L2 regularization\n",
    "#     'bagging_temperature': trial.suggest_float('bagging_temperature', 0.0, 10.0),  # For Bayesian bootstrap\n",
    "#     'min_data_in_leaf': trial.suggest_int('min_data_in_leaf', 1, 100),  # Minimum samples per leaf\n",
    "#     'random_strength': trial.suggest_float('random_strength', 1e-9, 10, log=True),  # Random noise strength\n",
    "#     'boosting_type': trial.suggest_categorical('boosting_type', ['Plain']),  # Boosting type\n",
    "#     'bootstrap_type': trial.suggest_categorical('bootstrap_type', ['Bayesian', 'Bernoulli']),  # Sampling type\n",
    "#     'grow_policy': trial.suggest_categorical('grow_policy', [ 'Depthwise', 'Lossguide']),  \n",
    "#     'logging_level': 'Silent',  # Disable logs\n",
    "#     'use_best_model': True,  # Use the best model during evaluation\n",
    "#     'random_seed': 42,  # For reproducibility\n",
    "#     'task_type' :'GPU'\n",
    "# }\n",
    "\n",
    "#     # Handle `subsample` for Bernoulli bootstrap\n",
    "#     if params['bootstrap_type'] == 'Bernoulli':\n",
    "#         params['subsample'] = trial.suggest_float('subsample', 0.5, 1.0)\n",
    "#     else:\n",
    "#         params.pop('subsample', None)  # Remove `subsample` for incompatible bootstrap types\n",
    "\n",
    "#     if params['bootstrap_type'] != 'Bayesian':\n",
    "#         params.pop('bagging_temperature', None)  # Remove `subsample` for incompatible bootstrap types\n",
    "    \n",
    "#     if params['boosting_type'] == 'Ordered':\n",
    "#         params['grow_policy'] = 'SymmetricTree'\n",
    "\n",
    "#     # Train CatBoost model\n",
    "#     CBC = CatBoostClassifier(**params)\n",
    "#     CBC.fit(train_x,train_y,eval_set=[(SS.transform(test_x),LE.transform(test_y))], early_stopping_rounds=50, verbose=0)\n",
    "#     return f1_score(LE.transform(test_y),CBC.predict(SS.transform(test_x)),average='weighted')\n",
    "\n",
    "# study = optuna.create_study(direction='maximize')\n",
    "# study.optimize(objective, n_trials=100)\n",
    "# print('Number of finished trials:', len(study.trials))\n",
    "# print('Best trial:', study.best_trial.params)"
   ]
  },
  {
   "cell_type": "code",
   "execution_count": 22,
   "id": "ae3684f5",
   "metadata": {
    "execution": {
     "iopub.execute_input": "2025-01-16T12:25:57.967620Z",
     "iopub.status.busy": "2025-01-16T12:25:57.967337Z",
     "iopub.status.idle": "2025-01-16T12:25:57.971319Z",
     "shell.execute_reply": "2025-01-16T12:25:57.970425Z"
    },
    "papermill": {
     "duration": 0.017665,
     "end_time": "2025-01-16T12:25:57.972718",
     "exception": false,
     "start_time": "2025-01-16T12:25:57.955053",
     "status": "completed"
    },
    "tags": []
   },
   "outputs": [],
   "source": [
    "# CBC_params=study.best_trial.params\n",
    "CBC_params={'iterations': 981, 'learning_rate': 0.27781365683472875, 'depth': 10, 'l2_leaf_reg': 0.11520490973496983, 'min_data_in_leaf': 65, 'random_strength': 3.120999957475126e-07, 'boosting_type': 'Plain', 'bootstrap_type': 'Bernoulli', 'grow_policy': 'Lossguide', 'subsample': 0.9286237749708022}\n",
    "CBC_params['task_type']='GPU'"
   ]
  },
  {
   "attachments": {
    "6ce45262-e621-48ab-8c1e-1426fd72dee7.png": {
     "image/png": "[encoded data removed]"
    },
    "c11c5d94-9659-4f37-ac29-72205bb349b4.png": {
     "image/png": "[encoded data removed]"
    },
    "cdeb5b92-ecfe-456e-b60b-6faa09c46818.png": {
     "image/png": "[encoded data removed]"
    }
   },
   "cell_type": "markdown",
   "id": "01b805d5",
   "metadata": {
    "papermill": {
     "duration": 0.012339,
     "end_time": "2025-01-16T12:25:57.997204",
     "exception": false,
     "start_time": "2025-01-16T12:25:57.984865",
     "status": "completed"
    },
    "tags": []
   },
   "source": [
    "### Creating OOF prediction for train data set over 5 folds for all the models\n",
    "\n",
    "\n",
    "![](https://raw.githubusercontent.com/cleanlab/assets/master/cleanlab/pred_probs_cross_val.png)"
   ]
  },
  {
   "cell_type": "code",
   "execution_count": 23,
   "id": "09c3fee1",
   "metadata": {
    "execution": {
     "iopub.execute_input": "2025-01-16T12:25:58.022667Z",
     "iopub.status.busy": "2025-01-16T12:25:58.022324Z",
     "iopub.status.idle": "2025-01-16T12:30:54.887191Z",
     "shell.execute_reply": "2025-01-16T12:30:54.886253Z"
    },
    "papermill": {
     "duration": 296.902678,
     "end_time": "2025-01-16T12:30:54.912226",
     "exception": false,
     "start_time": "2025-01-16T12:25:58.009548",
     "status": "completed"
    },
    "tags": []
   },
   "outputs": [
    {
     "name": "stdout",
     "output_type": "stream",
     "text": [
      "Training LGBMClassifier\n",
      "Training CatBoostClassifier\n",
      "OOF predictions saved to 'oof_predictions.csv'\n"
     ]
    },
    {
     "data": {
      "text/plain": [
       "0       1\n",
       "1       3\n",
       "2       4\n",
       "3       4\n",
       "4       5\n",
       "       ..\n",
       "5184    6\n",
       "5185    6\n",
       "5186    6\n",
       "5187    6\n",
       "5188    6\n",
       "Name: target, Length: 5189, dtype: int64"
      ]
     },
     "execution_count": 23,
     "metadata": {},
     "output_type": "execute_result"
    }
   ],
   "source": [
    "from catboost import CatBoostClassifier\n",
    "f1_scorer = make_scorer(f1_score, average='weighted') \n",
    "# Define cross-validation strategy\n",
    "kf = StratifiedKFold(n_splits=5, shuffle=True, random_state=42)\n",
    "model_list=['LGBMClassifier','CatBoostClassifier']\n",
    "cols=[]\n",
    "for i in model_list:\n",
    "    cols+=['{}-{}'.format(i,j) for j in range(1,8)]\n",
    "    \n",
    "oof_predictions = pd.DataFrame(index=np.arange(len(train_y)), columns=cols)\n",
    "lgbm_params['verbosity']=-1\n",
    "params={\n",
    "    'LGBMClassifier': lgbm_params,\n",
    "    'CatBoostClassifier': CBC_params}\n",
    "models = {\n",
    "    'LGBMClassifier': LGBMClassifier(random_state=42,**params['LGBMClassifier']),\n",
    "    'CatBoostClassifier': CatBoostClassifier(random_state=42,**params['CatBoostClassifier'],)}\n",
    "\n",
    "# Compute OOF predictions\n",
    "for model_name, model in models.items():\n",
    "    # Generate OOF predictions\n",
    "    print('Training {}'.format(model_name))\n",
    "    oof_preds = np.zeros((len(train_y),7))\n",
    "    for train_idx, val_idx in kf.split(train_x, train_y ):\n",
    "        if model_name=='CatBoostClassifier':\n",
    "            model.fit(train_x[train_idx], train_y[train_idx],early_stopping_rounds=50,verbose=0)\n",
    "        else: \n",
    "            model.fit(train_x[train_idx], train_y[train_idx])\n",
    "        \n",
    "        oof_preds[val_idx] = model.predict_proba(train_x[val_idx])\n",
    "    \n",
    "    # Save OOF predictions\n",
    "    oof_proba_model_features=['{}-{}'.format(model_name,j) for j in range(1,8)]\n",
    "    oof_predictions[oof_proba_model_features] = oof_preds\n",
    "\n",
    "# Save OOF predictions for stacking\n",
    "oof_predictions.to_csv('oof_predictions.csv', index=False)\n",
    "print(\"OOF predictions saved to 'oof_predictions.csv'\")\n",
    "oof_predictions['target']=train_y\n",
    "oof_predictions['target']"
   ]
  },
  {
   "cell_type": "markdown",
   "id": "4d95b48f",
   "metadata": {
    "papermill": {
     "duration": 0.02317,
     "end_time": "2025-01-16T12:30:54.958357",
     "exception": false,
     "start_time": "2025-01-16T12:30:54.935187",
     "status": "completed"
    },
    "tags": []
   },
   "source": [
    "### Refitting the models on entire train data"
   ]
  },
  {
   "cell_type": "code",
   "execution_count": 24,
   "id": "5299a42b",
   "metadata": {
    "execution": {
     "iopub.execute_input": "2025-01-16T12:30:55.004436Z",
     "iopub.status.busy": "2025-01-16T12:30:55.004030Z",
     "iopub.status.idle": "2025-01-16T12:32:00.145010Z",
     "shell.execute_reply": "2025-01-16T12:32:00.144015Z"
    },
    "papermill": {
     "duration": 65.166218,
     "end_time": "2025-01-16T12:32:00.147003",
     "exception": false,
     "start_time": "2025-01-16T12:30:54.980785",
     "status": "completed"
    },
    "tags": []
   },
   "outputs": [
    {
     "name": "stdout",
     "output_type": "stream",
     "text": [
      "Training LGBMClassifier\n",
      "Training CatBoostClassifier\n"
     ]
    }
   ],
   "source": [
    "for model_name, model in models.items():\n",
    "    # Generate OOF predictions\n",
    "    print('Training {}'.format(model_name))\n",
    "    if model_name=='CatBoostClassifier':\n",
    "        model.fit(train_x, train_y,early_stopping_rounds=50,verbose=0)\n",
    "    else: \n",
    "        model.fit(train_x, train_y)\n",
    "        "
   ]
  },
  {
   "cell_type": "markdown",
   "id": "c7f2ea2c",
   "metadata": {
    "papermill": {
     "duration": 0.021399,
     "end_time": "2025-01-16T12:32:00.190607",
     "exception": false,
     "start_time": "2025-01-16T12:32:00.169208",
     "status": "completed"
    },
    "tags": []
   },
   "source": [
    "### Finding the best hyperparameter for LightGB stacker (met model) on the OOF predictions of each model"
   ]
  },
  {
   "cell_type": "code",
   "execution_count": 25,
   "id": "c4abcd1d",
   "metadata": {
    "execution": {
     "iopub.execute_input": "2025-01-16T12:32:00.234469Z",
     "iopub.status.busy": "2025-01-16T12:32:00.234068Z",
     "iopub.status.idle": "2025-01-16T12:32:00.246816Z",
     "shell.execute_reply": "2025-01-16T12:32:00.245966Z"
    },
    "papermill": {
     "duration": 0.036305,
     "end_time": "2025-01-16T12:32:00.248264",
     "exception": false,
     "start_time": "2025-01-16T12:32:00.211959",
     "status": "completed"
    },
    "tags": []
   },
   "outputs": [],
   "source": [
    "# YOUR CODE HERE\n",
    "X_train,X_test,y_train,y_test=train_test_split(oof_predictions.iloc[:,:-1],oof_predictions['target'],test_size=.2,random_state=42,stratify=oof_predictions['target'])\n",
    "\n",
    "# def objective(trial):\n",
    "  \n",
    "#   params={\n",
    "#       'objective':'multiclass',\n",
    "#       'num_leaves': trial.suggest_int('num_leaves', 2, 256),\n",
    "#       'max_depth': trial.suggest_int('max_depth', 2, 256),\n",
    "#       'learning_rate': trial.suggest_float('learning_rate', 0.001, 0.3),\n",
    "#       'n_estimators': trial.suggest_int('max_depth', 10, 256),\n",
    "#       'class_weight': 'balanced',\n",
    "#       'min_child_weight': trial.suggest_float('min_child_weight', 0.0005, 0.3),\n",
    "#       'min_child_samples': trial.suggest_int('min_child_samples', 5, 100),\n",
    "#       'reg_alpha': trial.suggest_float('reg_alpha', 0, 1),\n",
    "#       'reg_lambda':trial.suggest_float('reg_lambda', 0, 1),\n",
    "#       'subsample_freq':trial.suggest_int('subsample_freq', 0, 4),\n",
    "#       'subsample':trial.suggest_float('subsample', 0.7, 1),\n",
    "#       'colsample_bytree':trial.suggest_float('subsample', 0.7, 1),\n",
    "#       \"num_boost_round\": trial.suggest_int(\"num_boost_round\", 1, 1000),  # Set valid range\n",
    "#       \"verbosity\":-1\n",
    "#   }\n",
    "#   LGBC=LGBMClassifier(**params)\n",
    "#   LGBC.fit(X_train,y_train,eval_set=[(X_test,y_test)])\n",
    "#   return f1_score(y_test,LGBC.predict(X_test),average='weighted')\n",
    "\n",
    "# study = optuna.create_study(direction='maximize')\n",
    "# study.optimize(objective, n_trials=200)\n",
    "# print('Number of finished trials:', len(study.trials))\n",
    "# print('Best trial:', study.best_trial.params)"
   ]
  },
  {
   "cell_type": "markdown",
   "id": "e02d236c",
   "metadata": {
    "papermill": {
     "duration": 0.021151,
     "end_time": "2025-01-16T12:32:00.290433",
     "exception": false,
     "start_time": "2025-01-16T12:32:00.269282",
     "status": "completed"
    },
    "tags": []
   },
   "source": [
    "### Training the best Meta Model"
   ]
  },
  {
   "cell_type": "markdown",
   "id": "b6baad02",
   "metadata": {
    "papermill": {
     "duration": 0.022453,
     "end_time": "2025-01-16T12:32:00.334162",
     "exception": false,
     "start_time": "2025-01-16T12:32:00.311709",
     "status": "completed"
    },
    "tags": []
   },
   "source": [
    "#### Early Stopping introduced in the meta model to avoid overfitting\n",
    "\n",
    "![](data:image/png;base64,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)"
   ]
  },
  {
   "cell_type": "code",
   "execution_count": 26,
   "id": "171e5ee2",
   "metadata": {
    "execution": {
     "iopub.execute_input": "2025-01-16T12:32:00.381670Z",
     "iopub.status.busy": "2025-01-16T12:32:00.381267Z",
     "iopub.status.idle": "2025-01-16T12:32:00.387321Z",
     "shell.execute_reply": "2025-01-16T12:32:00.386503Z"
    },
    "papermill": {
     "duration": 0.031612,
     "end_time": "2025-01-16T12:32:00.388865",
     "exception": false,
     "start_time": "2025-01-16T12:32:00.357253",
     "status": "completed"
    },
    "tags": []
   },
   "outputs": [],
   "source": [
    "from lightgbm import early_stopping\n",
    "meta_model_params={'num_leaves': 51, 'max_depth': 82, 'learning_rate': 0.03256777965656722, 'min_child_weight': 0.1055076547368873, 'min_child_samples': 38, 'reg_alpha': 0.36961400810437234, 'reg_lambda': 0.5944031233609163, 'subsample_freq': 4, 'subsample': 0.9581646384408284, 'num_boost_round': 21}\n",
    "callback=early_stopping(stopping_rounds=50, first_metric_only=False, min_delta=[0.05])"
   ]
  },
  {
   "cell_type": "code",
   "execution_count": 27,
   "id": "af93856e",
   "metadata": {
    "execution": {
     "iopub.execute_input": "2025-01-16T12:32:00.433436Z",
     "iopub.status.busy": "2025-01-16T12:32:00.433103Z",
     "iopub.status.idle": "2025-01-16T12:32:00.684236Z",
     "shell.execute_reply": "2025-01-16T12:32:00.679874Z"
    },
    "papermill": {
     "duration": 0.274976,
     "end_time": "2025-01-16T12:32:00.686166",
     "exception": false,
     "start_time": "2025-01-16T12:32:00.411190",
     "status": "completed"
    },
    "tags": []
   },
   "outputs": [
    {
     "name": "stdout",
     "output_type": "stream",
     "text": [
      "Training until validation scores don't improve for 50 rounds\n",
      "Using 0.05 as min_delta for all metrics.\n",
      "Did not meet early stopping. Best iteration is:\n",
      "[19]\tvalid_0's multi_logloss: 0.826095\tvalid_0's f1_weighted: 0.845695\n"
     ]
    },
    {
     "data": {
      "text/html": [
       "<style>#sk-container-id-1 {color: black;background-color: white;}#sk-container-id-1 pre{padding: 0;}#sk-container-id-1 div.sk-toggleable {background-color: white;}#sk-container-id-1 label.sk-toggleable__label {cursor: pointer;display: block;width: 100%;margin-bottom: 0;padding: 0.3em;box-sizing: border-box;text-align: center;}#sk-container-id-1 label.sk-toggleable__label-arrow:before {content: \"▸\";float: left;margin-right: 0.25em;color: #696969;}#sk-container-id-1 label.sk-toggleable__label-arrow:hover:before {color: black;}#sk-container-id-1 div.sk-estimator:hover label.sk-toggleable__label-arrow:before {color: black;}#sk-container-id-1 div.sk-toggleable__content {max-height: 0;max-width: 0;overflow: hidden;text-align: left;background-color: #f0f8ff;}#sk-container-id-1 div.sk-toggleable__content pre {margin: 0.2em;color: black;border-radius: 0.25em;background-color: #f0f8ff;}#sk-container-id-1 input.sk-toggleable__control:checked~div.sk-toggleable__content {max-height: 200px;max-width: 100%;overflow: auto;}#sk-container-id-1 input.sk-toggleable__control:checked~label.sk-toggleable__label-arrow:before {content: \"▾\";}#sk-container-id-1 div.sk-estimator input.sk-toggleable__control:checked~label.sk-toggleable__label {background-color: #d4ebff;}#sk-container-id-1 div.sk-label input.sk-toggleable__control:checked~label.sk-toggleable__label {background-color: #d4ebff;}#sk-container-id-1 input.sk-hidden--visually {border: 0;clip: rect(1px 1px 1px 1px);clip: rect(1px, 1px, 1px, 1px);height: 1px;margin: -1px;overflow: hidden;padding: 0;position: absolute;width: 1px;}#sk-container-id-1 div.sk-estimator {font-family: monospace;background-color: #f0f8ff;border: 1px dotted black;border-radius: 0.25em;box-sizing: border-box;margin-bottom: 0.5em;}#sk-container-id-1 div.sk-estimator:hover {background-color: #d4ebff;}#sk-container-id-1 div.sk-parallel-item::after {content: \"\";width: 100%;border-bottom: 1px solid gray;flex-grow: 1;}#sk-container-id-1 div.sk-label:hover label.sk-toggleable__label {background-color: #d4ebff;}#sk-container-id-1 div.sk-serial::before {content: \"\";position: absolute;border-left: 1px solid gray;box-sizing: border-box;top: 0;bottom: 0;left: 50%;z-index: 0;}#sk-container-id-1 div.sk-serial {display: flex;flex-direction: column;align-items: center;background-color: white;padding-right: 0.2em;padding-left: 0.2em;position: relative;}#sk-container-id-1 div.sk-item {position: relative;z-index: 1;}#sk-container-id-1 div.sk-parallel {display: flex;align-items: stretch;justify-content: center;background-color: white;position: relative;}#sk-container-id-1 div.sk-item::before, #sk-container-id-1 div.sk-parallel-item::before {content: \"\";position: absolute;border-left: 1px solid gray;box-sizing: border-box;top: 0;bottom: 0;left: 50%;z-index: -1;}#sk-container-id-1 div.sk-parallel-item {display: flex;flex-direction: column;z-index: 1;position: relative;background-color: white;}#sk-container-id-1 div.sk-parallel-item:first-child::after {align-self: flex-end;width: 50%;}#sk-container-id-1 div.sk-parallel-item:last-child::after {align-self: flex-start;width: 50%;}#sk-container-id-1 div.sk-parallel-item:only-child::after {width: 0;}#sk-container-id-1 div.sk-dashed-wrapped {border: 1px dashed gray;margin: 0 0.4em 0.5em 0.4em;box-sizing: border-box;padding-bottom: 0.4em;background-color: white;}#sk-container-id-1 div.sk-label label {font-family: monospace;font-weight: bold;display: inline-block;line-height: 1.2em;}#sk-container-id-1 div.sk-label-container {text-align: center;}#sk-container-id-1 div.sk-container {/* jupyter's `normalize.less` sets `[hidden] { display: none; }` but bootstrap.min.css set `[hidden] { display: none !important; }` so we also need the `!important` here to be able to override the default hidden behavior on the sphinx rendered scikit-learn.org. See: https://github.com/scikit-learn/scikit-learn/issues/21755 */display: inline-block !important;position: relative;}#sk-container-id-1 div.sk-text-repr-fallback {display: none;}</style><div id=\"sk-container-id-1\" class=\"sk-top-container\"><div class=\"sk-text-repr-fallback\"><pre>LGBMClassifier(learning_rate=0.03256777965656722, max_depth=82,\n",
       "               min_child_samples=38, min_child_weight=0.1055076547368873,\n",
       "               num_boost_round=21, num_leaves=51, reg_alpha=0.36961400810437234,\n",
       "               reg_lambda=0.5944031233609163, subsample=0.9581646384408284,\n",
       "               subsample_freq=4)</pre><b>In a Jupyter environment, please rerun this cell to show the HTML representation or trust the notebook. <br />On GitHub, the HTML representation is unable to render, please try loading this page with nbviewer.org.</b></div><div class=\"sk-container\" hidden><div class=\"sk-item\"><div class=\"sk-estimator sk-toggleable\"><input class=\"sk-toggleable__control sk-hidden--visually\" id=\"sk-estimator-id-1\" type=\"checkbox\" checked><label for=\"sk-estimator-id-1\" class=\"sk-toggleable__label sk-toggleable__label-arrow\">LGBMClassifier</label><div class=\"sk-toggleable__content\"><pre>LGBMClassifier(learning_rate=0.03256777965656722, max_depth=82,\n",
       "               min_child_samples=38, min_child_weight=0.1055076547368873,\n",
       "               num_boost_round=21, num_leaves=51, reg_alpha=0.36961400810437234,\n",
       "               reg_lambda=0.5944031233609163, subsample=0.9581646384408284,\n",
       "               subsample_freq=4)</pre></div></div></div></div></div>"
      ],
      "text/plain": [
       "LGBMClassifier(learning_rate=0.03256777965656722, max_depth=82,\n",
       "               min_child_samples=38, min_child_weight=0.1055076547368873,\n",
       "               num_boost_round=21, num_leaves=51, reg_alpha=0.36961400810437234,\n",
       "               reg_lambda=0.5944031233609163, subsample=0.9581646384408284,\n",
       "               subsample_freq=4)"
      ]
     },
     "execution_count": 27,
     "metadata": {},
     "output_type": "execute_result"
    }
   ],
   "source": [
    "def custom_f1_metric(y_true, y_pred):\n",
    "    y_pred_labels = np.argmax(y_pred, axis=1)\n",
    "    f1 = f1_score(y_true, y_pred_labels, average='weighted')\n",
    "    return 'f1_weighted', f1, True\n",
    "meta_model=LGBMClassifier(**meta_model_params)\n",
    "meta_model.fit(X_train,y_train,eval_set=[(X_test,y_test)],callbacks=[callback],eval_metric=custom_f1_metric)"
   ]
  },
  {
   "cell_type": "markdown",
   "id": "3b79e093",
   "metadata": {
    "papermill": {
     "duration": 0.029278,
     "end_time": "2025-01-16T12:32:00.747381",
     "exception": false,
     "start_time": "2025-01-16T12:32:00.718103",
     "status": "completed"
    },
    "tags": []
   },
   "source": [
    "### Predicting the Accuracy on Test Set"
   ]
  },
  {
   "cell_type": "code",
   "execution_count": 28,
   "id": "45cc1155",
   "metadata": {
    "execution": {
     "iopub.execute_input": "2025-01-16T12:32:00.835932Z",
     "iopub.status.busy": "2025-01-16T12:32:00.835626Z",
     "iopub.status.idle": "2025-01-16T12:32:01.067721Z",
     "shell.execute_reply": "2025-01-16T12:32:01.066674Z"
    },
    "papermill": {
     "duration": 0.296169,
     "end_time": "2025-01-16T12:32:01.070038",
     "exception": false,
     "start_time": "2025-01-16T12:32:00.773869",
     "status": "completed"
    },
    "tags": []
   },
   "outputs": [
    {
     "name": "stdout",
     "output_type": "stream",
     "text": [
      "Predicting for LGBMClassifier\n",
      "Predicting for CatBoostClassifier\n"
     ]
    },
    {
     "data": {
      "text/plain": [
       "0.8960739030023095"
      ]
     },
     "execution_count": 28,
     "metadata": {},
     "output_type": "execute_result"
    }
   ],
   "source": [
    "final_predictions_per_model = pd.DataFrame(index=np.arange(len(test_y)), columns=cols)\n",
    "for model_name, model in models.items():\n",
    "    # Generate OOF predictions\n",
    "    print('Predicting for {}'.format(model_name))\n",
    "    proba_model_features=['{}-{}'.format(model_name,j) for j in range(1,8)]\n",
    "    final_predictions_per_model[proba_model_features] =  model.predict_proba(SS.transform(test_x))\n",
    "final_predictions_per_model['target']=LE.transform(test_y)\n",
    "meta_model.score(final_predictions_per_model.iloc[:,:-1],final_predictions_per_model['target'])"
   ]
  },
  {
   "cell_type": "markdown",
   "id": "72c1820e",
   "metadata": {
    "papermill": {
     "duration": 0.018147,
     "end_time": "2025-01-16T12:32:01.114368",
     "exception": false,
     "start_time": "2025-01-16T12:32:01.096221",
     "status": "completed"
    },
    "tags": []
   },
   "source": [
    "### Final Prediction and Submission"
   ]
  },
  {
   "cell_type": "code",
   "execution_count": 29,
   "id": "00457f37",
   "metadata": {
    "execution": {
     "iopub.execute_input": "2025-01-16T12:32:01.141345Z",
     "iopub.status.busy": "2025-01-16T12:32:01.141069Z",
     "iopub.status.idle": "2025-01-16T12:33:34.038220Z",
     "shell.execute_reply": "2025-01-16T12:33:34.037259Z"
    },
    "id": "4znf9-pcTbUB",
    "papermill": {
     "duration": 92.912425,
     "end_time": "2025-01-16T12:33:34.039679",
     "exception": false,
     "start_time": "2025-01-16T12:32:01.127254",
     "status": "completed"
    },
    "tags": []
   },
   "outputs": [
    {
     "name": "stderr",
     "output_type": "stream",
     "text": [
      "100%|██████████| 201/201 [01:32<00:00,  2.17it/s]\n"
     ]
    },
    {
     "data": {
      "text/html": [
       "<div>\n",
       "<style scoped>\n",
       "    .dataframe tbody tr th:only-of-type {\n",
       "        vertical-align: middle;\n",
       "    }\n",
       "\n",
       "    .dataframe tbody tr th {\n",
       "        vertical-align: top;\n",
       "    }\n",
       "\n",
       "    .dataframe thead th {\n",
       "        text-align: right;\n",
       "    }\n",
       "</style>\n",
       "<table border=\"1\" class=\"dataframe\">\n",
       "  <thead>\n",
       "    <tr style=\"text-align: right;\">\n",
       "      <th></th>\n",
       "      <th>pitch_mean</th>\n",
       "      <th>pitch_std</th>\n",
       "      <th>pitch_max</th>\n",
       "      <th>pitch_min</th>\n",
       "      <th>pitch_range</th>\n",
       "      <th>energy_mean</th>\n",
       "      <th>energy_std</th>\n",
       "      <th>energy_max</th>\n",
       "      <th>energy_min</th>\n",
       "      <th>energy_range</th>\n",
       "      <th>...</th>\n",
       "      <th>delta_delta_mfcc_37_mean</th>\n",
       "      <th>delta_mfcc_38_mean</th>\n",
       "      <th>delta_delta_mfcc_38_mean</th>\n",
       "      <th>delta_mfcc_39_mean</th>\n",
       "      <th>delta_delta_mfcc_39_mean</th>\n",
       "      <th>delta_mfcc_40_mean</th>\n",
       "      <th>delta_delta_mfcc_40_mean</th>\n",
       "      <th>tempo</th>\n",
       "      <th>beat_strength_mean</th>\n",
       "      <th>target</th>\n",
       "    </tr>\n",
       "  </thead>\n",
       "  <tbody>\n",
       "    <tr>\n",
       "      <th>0</th>\n",
       "      <td>1873.831665</td>\n",
       "      <td>1123.918457</td>\n",
       "      <td>3995.484863</td>\n",
       "      <td>154.985275</td>\n",
       "      <td>3840.499512</td>\n",
       "      <td>0.003014</td>\n",
       "      <td>0.004535</td>\n",
       "      <td>0.021641</td>\n",
       "      <td>0.000000e+00</td>\n",
       "      <td>0.021641</td>\n",
       "      <td>...</td>\n",
       "      <td>0.000083</td>\n",
       "      <td>-0.001308</td>\n",
       "      <td>0.000810</td>\n",
       "      <td>-0.002698</td>\n",
       "      <td>0.001352</td>\n",
       "      <td>-0.003655</td>\n",
       "      <td>0.001570</td>\n",
       "      <td>89.285714</td>\n",
       "      <td>1.322345</td>\n",
       "      <td>116</td>\n",
       "    </tr>\n",
       "    <tr>\n",
       "      <th>1</th>\n",
       "      <td>1819.772705</td>\n",
       "      <td>1340.301636</td>\n",
       "      <td>3992.672363</td>\n",
       "      <td>149.978577</td>\n",
       "      <td>3842.693848</td>\n",
       "      <td>0.036683</td>\n",
       "      <td>0.022262</td>\n",
       "      <td>0.082775</td>\n",
       "      <td>6.524798e-04</td>\n",
       "      <td>0.082122</td>\n",
       "      <td>...</td>\n",
       "      <td>-0.010941</td>\n",
       "      <td>-0.077588</td>\n",
       "      <td>-0.031503</td>\n",
       "      <td>0.015079</td>\n",
       "      <td>0.037818</td>\n",
       "      <td>0.072253</td>\n",
       "      <td>0.012335</td>\n",
       "      <td>81.743304</td>\n",
       "      <td>1.893842</td>\n",
       "      <td>66</td>\n",
       "    </tr>\n",
       "    <tr>\n",
       "      <th>2</th>\n",
       "      <td>1345.499512</td>\n",
       "      <td>1139.645874</td>\n",
       "      <td>3970.863525</td>\n",
       "      <td>156.734085</td>\n",
       "      <td>3814.129395</td>\n",
       "      <td>0.022711</td>\n",
       "      <td>0.017282</td>\n",
       "      <td>0.062520</td>\n",
       "      <td>8.070404e-04</td>\n",
       "      <td>0.061713</td>\n",
       "      <td>...</td>\n",
       "      <td>-0.067553</td>\n",
       "      <td>0.030837</td>\n",
       "      <td>-0.009668</td>\n",
       "      <td>-0.029916</td>\n",
       "      <td>-0.155917</td>\n",
       "      <td>0.000740</td>\n",
       "      <td>-0.129842</td>\n",
       "      <td>56.098346</td>\n",
       "      <td>2.318348</td>\n",
       "      <td>162</td>\n",
       "    </tr>\n",
       "    <tr>\n",
       "      <th>3</th>\n",
       "      <td>1841.795288</td>\n",
       "      <td>1154.939453</td>\n",
       "      <td>3995.754150</td>\n",
       "      <td>152.841003</td>\n",
       "      <td>3842.913086</td>\n",
       "      <td>0.010273</td>\n",
       "      <td>0.012454</td>\n",
       "      <td>0.040260</td>\n",
       "      <td>6.743496e-07</td>\n",
       "      <td>0.040259</td>\n",
       "      <td>...</td>\n",
       "      <td>0.000012</td>\n",
       "      <td>-0.000024</td>\n",
       "      <td>0.000010</td>\n",
       "      <td>-0.000020</td>\n",
       "      <td>0.000008</td>\n",
       "      <td>-0.000015</td>\n",
       "      <td>0.000007</td>\n",
       "      <td>93.750000</td>\n",
       "      <td>1.655067</td>\n",
       "      <td>17</td>\n",
       "    </tr>\n",
       "    <tr>\n",
       "      <th>4</th>\n",
       "      <td>1354.542969</td>\n",
       "      <td>1354.789185</td>\n",
       "      <td>3990.015625</td>\n",
       "      <td>158.130508</td>\n",
       "      <td>3831.885010</td>\n",
       "      <td>0.013708</td>\n",
       "      <td>0.008965</td>\n",
       "      <td>0.030089</td>\n",
       "      <td>6.342776e-04</td>\n",
       "      <td>0.029455</td>\n",
       "      <td>...</td>\n",
       "      <td>0.007946</td>\n",
       "      <td>-0.052319</td>\n",
       "      <td>0.035562</td>\n",
       "      <td>0.053386</td>\n",
       "      <td>0.018378</td>\n",
       "      <td>0.005282</td>\n",
       "      <td>0.039465</td>\n",
       "      <td>77.324747</td>\n",
       "      <td>1.582565</td>\n",
       "      <td>88</td>\n",
       "    </tr>\n",
       "    <tr>\n",
       "      <th>...</th>\n",
       "      <td>...</td>\n",
       "      <td>...</td>\n",
       "      <td>...</td>\n",
       "      <td>...</td>\n",
       "      <td>...</td>\n",
       "      <td>...</td>\n",
       "      <td>...</td>\n",
       "      <td>...</td>\n",
       "      <td>...</td>\n",
       "      <td>...</td>\n",
       "      <td>...</td>\n",
       "      <td>...</td>\n",
       "      <td>...</td>\n",
       "      <td>...</td>\n",
       "      <td>...</td>\n",
       "      <td>...</td>\n",
       "      <td>...</td>\n",
       "      <td>...</td>\n",
       "      <td>...</td>\n",
       "      <td>...</td>\n",
       "      <td>...</td>\n",
       "    </tr>\n",
       "    <tr>\n",
       "      <th>196</th>\n",
       "      <td>1842.653931</td>\n",
       "      <td>1090.894165</td>\n",
       "      <td>3994.990479</td>\n",
       "      <td>152.397186</td>\n",
       "      <td>3842.593262</td>\n",
       "      <td>0.006562</td>\n",
       "      <td>0.008696</td>\n",
       "      <td>0.038480</td>\n",
       "      <td>8.583069e-06</td>\n",
       "      <td>0.038472</td>\n",
       "      <td>...</td>\n",
       "      <td>0.009713</td>\n",
       "      <td>0.006973</td>\n",
       "      <td>-0.014720</td>\n",
       "      <td>-0.028061</td>\n",
       "      <td>-0.003161</td>\n",
       "      <td>-0.065628</td>\n",
       "      <td>0.019925</td>\n",
       "      <td>156.250000</td>\n",
       "      <td>2.085721</td>\n",
       "      <td>2</td>\n",
       "    </tr>\n",
       "    <tr>\n",
       "      <th>197</th>\n",
       "      <td>1767.739380</td>\n",
       "      <td>1105.866333</td>\n",
       "      <td>3993.980957</td>\n",
       "      <td>152.489349</td>\n",
       "      <td>3841.491699</td>\n",
       "      <td>0.016706</td>\n",
       "      <td>0.023369</td>\n",
       "      <td>0.081093</td>\n",
       "      <td>5.309834e-06</td>\n",
       "      <td>0.081088</td>\n",
       "      <td>...</td>\n",
       "      <td>-0.006291</td>\n",
       "      <td>0.000554</td>\n",
       "      <td>0.002318</td>\n",
       "      <td>-0.001381</td>\n",
       "      <td>-0.002022</td>\n",
       "      <td>0.010020</td>\n",
       "      <td>-0.007741</td>\n",
       "      <td>170.454545</td>\n",
       "      <td>1.917717</td>\n",
       "      <td>35</td>\n",
       "    </tr>\n",
       "    <tr>\n",
       "      <th>198</th>\n",
       "      <td>1433.222778</td>\n",
       "      <td>1113.292725</td>\n",
       "      <td>3992.198486</td>\n",
       "      <td>152.351089</td>\n",
       "      <td>3839.847412</td>\n",
       "      <td>0.009506</td>\n",
       "      <td>0.013922</td>\n",
       "      <td>0.052000</td>\n",
       "      <td>2.970202e-05</td>\n",
       "      <td>0.051970</td>\n",
       "      <td>...</td>\n",
       "      <td>-0.013453</td>\n",
       "      <td>-0.008837</td>\n",
       "      <td>-0.012877</td>\n",
       "      <td>-0.014162</td>\n",
       "      <td>-0.003194</td>\n",
       "      <td>-0.003727</td>\n",
       "      <td>-0.011101</td>\n",
       "      <td>75.000000</td>\n",
       "      <td>1.407638</td>\n",
       "      <td>134</td>\n",
       "    </tr>\n",
       "    <tr>\n",
       "      <th>199</th>\n",
       "      <td>1480.570801</td>\n",
       "      <td>1149.008911</td>\n",
       "      <td>3997.610352</td>\n",
       "      <td>150.852219</td>\n",
       "      <td>3846.758057</td>\n",
       "      <td>0.015749</td>\n",
       "      <td>0.010568</td>\n",
       "      <td>0.040906</td>\n",
       "      <td>1.208256e-03</td>\n",
       "      <td>0.039698</td>\n",
       "      <td>...</td>\n",
       "      <td>-0.014654</td>\n",
       "      <td>-0.020325</td>\n",
       "      <td>0.044292</td>\n",
       "      <td>-0.028406</td>\n",
       "      <td>0.024036</td>\n",
       "      <td>-0.024399</td>\n",
       "      <td>0.032452</td>\n",
       "      <td>110.039062</td>\n",
       "      <td>2.082729</td>\n",
       "      <td>189</td>\n",
       "    </tr>\n",
       "    <tr>\n",
       "      <th>200</th>\n",
       "      <td>1713.132324</td>\n",
       "      <td>1112.737671</td>\n",
       "      <td>3993.889160</td>\n",
       "      <td>152.542786</td>\n",
       "      <td>3841.346436</td>\n",
       "      <td>0.003036</td>\n",
       "      <td>0.003533</td>\n",
       "      <td>0.012342</td>\n",
       "      <td>2.023049e-06</td>\n",
       "      <td>0.012340</td>\n",
       "      <td>...</td>\n",
       "      <td>0.001839</td>\n",
       "      <td>-0.020103</td>\n",
       "      <td>0.002991</td>\n",
       "      <td>-0.026045</td>\n",
       "      <td>-0.006817</td>\n",
       "      <td>-0.014000</td>\n",
       "      <td>0.004558</td>\n",
       "      <td>170.454545</td>\n",
       "      <td>1.516217</td>\n",
       "      <td>188</td>\n",
       "    </tr>\n",
       "  </tbody>\n",
       "</table>\n",
       "<p>201 rows × 462 columns</p>\n",
       "</div>"
      ],
      "text/plain": [
       "      pitch_mean    pitch_std    pitch_max   pitch_min  pitch_range  \\\n",
       "0    1873.831665  1123.918457  3995.484863  154.985275  3840.499512   \n",
       "1    1819.772705  1340.301636  3992.672363  149.978577  3842.693848   \n",
       "2    1345.499512  1139.645874  3970.863525  156.734085  3814.129395   \n",
       "3    1841.795288  1154.939453  3995.754150  152.841003  3842.913086   \n",
       "4    1354.542969  1354.789185  3990.015625  158.130508  3831.885010   \n",
       "..           ...          ...          ...         ...          ...   \n",
       "196  1842.653931  1090.894165  3994.990479  152.397186  3842.593262   \n",
       "197  1767.739380  1105.866333  3993.980957  152.489349  3841.491699   \n",
       "198  1433.222778  1113.292725  3992.198486  152.351089  3839.847412   \n",
       "199  1480.570801  1149.008911  3997.610352  150.852219  3846.758057   \n",
       "200  1713.132324  1112.737671  3993.889160  152.542786  3841.346436   \n",
       "\n",
       "     energy_mean  energy_std  energy_max    energy_min  energy_range  ...  \\\n",
       "0       0.003014    0.004535    0.021641  0.000000e+00      0.021641  ...   \n",
       "1       0.036683    0.022262    0.082775  6.524798e-04      0.082122  ...   \n",
       "2       0.022711    0.017282    0.062520  8.070404e-04      0.061713  ...   \n",
       "3       0.010273    0.012454    0.040260  6.743496e-07      0.040259  ...   \n",
       "4       0.013708    0.008965    0.030089  6.342776e-04      0.029455  ...   \n",
       "..           ...         ...         ...           ...           ...  ...   \n",
       "196     0.006562    0.008696    0.038480  8.583069e-06      0.038472  ...   \n",
       "197     0.016706    0.023369    0.081093  5.309834e-06      0.081088  ...   \n",
       "198     0.009506    0.013922    0.052000  2.970202e-05      0.051970  ...   \n",
       "199     0.015749    0.010568    0.040906  1.208256e-03      0.039698  ...   \n",
       "200     0.003036    0.003533    0.012342  2.023049e-06      0.012340  ...   \n",
       "\n",
       "     delta_delta_mfcc_37_mean  delta_mfcc_38_mean  delta_delta_mfcc_38_mean  \\\n",
       "0                    0.000083           -0.001308                  0.000810   \n",
       "1                   -0.010941           -0.077588                 -0.031503   \n",
       "2                   -0.067553            0.030837                 -0.009668   \n",
       "3                    0.000012           -0.000024                  0.000010   \n",
       "4                    0.007946           -0.052319                  0.035562   \n",
       "..                        ...                 ...                       ...   \n",
       "196                  0.009713            0.006973                 -0.014720   \n",
       "197                 -0.006291            0.000554                  0.002318   \n",
       "198                 -0.013453           -0.008837                 -0.012877   \n",
       "199                 -0.014654           -0.020325                  0.044292   \n",
       "200                  0.001839           -0.020103                  0.002991   \n",
       "\n",
       "     delta_mfcc_39_mean  delta_delta_mfcc_39_mean  delta_mfcc_40_mean  \\\n",
       "0             -0.002698                  0.001352           -0.003655   \n",
       "1              0.015079                  0.037818            0.072253   \n",
       "2             -0.029916                 -0.155917            0.000740   \n",
       "3             -0.000020                  0.000008           -0.000015   \n",
       "4              0.053386                  0.018378            0.005282   \n",
       "..                  ...                       ...                 ...   \n",
       "196           -0.028061                 -0.003161           -0.065628   \n",
       "197           -0.001381                 -0.002022            0.010020   \n",
       "198           -0.014162                 -0.003194           -0.003727   \n",
       "199           -0.028406                  0.024036           -0.024399   \n",
       "200           -0.026045                 -0.006817           -0.014000   \n",
       "\n",
       "     delta_delta_mfcc_40_mean       tempo  beat_strength_mean  target  \n",
       "0                    0.001570   89.285714            1.322345     116  \n",
       "1                    0.012335   81.743304            1.893842      66  \n",
       "2                   -0.129842   56.098346            2.318348     162  \n",
       "3                    0.000007   93.750000            1.655067      17  \n",
       "4                    0.039465   77.324747            1.582565      88  \n",
       "..                        ...         ...                 ...     ...  \n",
       "196                  0.019925  156.250000            2.085721       2  \n",
       "197                 -0.007741  170.454545            1.917717      35  \n",
       "198                 -0.011101   75.000000            1.407638     134  \n",
       "199                  0.032452  110.039062            2.082729     189  \n",
       "200                  0.004558  170.454545            1.516217     188  \n",
       "\n",
       "[201 rows x 462 columns]"
      ]
     },
     "execution_count": 29,
     "metadata": {},
     "output_type": "execute_result"
    }
   ],
   "source": [
    "# choose the best working model and assign below\n",
    "test_wav_files=glob.glob('/kaggle/input/audio-emotion-classificationb9/Kaggle_Testset/Kaggle_Testset/*.wav')\n",
    "test_wav_files\n",
    "\n",
    "emotions_ = []\n",
    "for file_name in test_wav_files:\n",
    "    emotions_.append(file_name.split('.wav')[-2].split('/')[-1])\n",
    "    \n",
    "input_list=[]\n",
    "\n",
    "for i in tqdm.tqdm(test_wav_files):\n",
    "    input_list+=[extract_feature(i)]\n",
    "\n",
    "tess_X=pd.DataFrame(input_list)\n",
    "tess_X['target']=emotions_\n",
    "tess_X"
   ]
  },
  {
   "cell_type": "code",
   "execution_count": 30,
   "id": "7e18e347",
   "metadata": {
    "execution": {
     "iopub.execute_input": "2025-01-16T12:33:34.086967Z",
     "iopub.status.busy": "2025-01-16T12:33:34.086696Z",
     "iopub.status.idle": "2025-01-16T12:33:34.157600Z",
     "shell.execute_reply": "2025-01-16T12:33:34.156191Z"
    },
    "papermill": {
     "duration": 0.095338,
     "end_time": "2025-01-16T12:33:34.159034",
     "exception": false,
     "start_time": "2025-01-16T12:33:34.063696",
     "status": "completed"
    },
    "tags": []
   },
   "outputs": [
    {
     "name": "stdout",
     "output_type": "stream",
     "text": [
      "Predicting for LGBMClassifier\n",
      "Predicting for CatBoostClassifier\n"
     ]
    }
   ],
   "source": [
    "final_predictions_per_model = pd.DataFrame(index=np.arange(len(tess_X)), columns=cols)\n",
    "for model_name, model in models.items():\n",
    "    # Generate OOF predictions\n",
    "    print('Predicting for {}'.format(model_name))\n",
    "    proba_model_features=['{}-{}'.format(model_name,j) for j in range(1,8)]\n",
    "    final_predictions_per_model[proba_model_features] =  model.predict_proba(SS.transform(tess_X.iloc[:,:-1]))\n",
    "pred=meta_model.predict(final_predictions_per_model)"
   ]
  },
  {
   "cell_type": "code",
   "execution_count": 31,
   "id": "40cf8aa2",
   "metadata": {
    "execution": {
     "iopub.execute_input": "2025-01-16T12:33:34.208787Z",
     "iopub.status.busy": "2025-01-16T12:33:34.208454Z",
     "iopub.status.idle": "2025-01-16T12:33:34.219263Z",
     "shell.execute_reply": "2025-01-16T12:33:34.218633Z"
    },
    "papermill": {
     "duration": 0.035909,
     "end_time": "2025-01-16T12:33:34.220576",
     "exception": false,
     "start_time": "2025-01-16T12:33:34.184667",
     "status": "completed"
    },
    "tags": []
   },
   "outputs": [],
   "source": [
    "sub=pd.read_csv('/kaggle/input/audio-emotion-classificationb9/Sample_Submission.csv')"
   ]
  },
  {
   "cell_type": "code",
   "execution_count": 32,
   "id": "945677ba",
   "metadata": {
    "execution": {
     "iopub.execute_input": "2025-01-16T12:33:34.266930Z",
     "iopub.status.busy": "2025-01-16T12:33:34.266689Z",
     "iopub.status.idle": "2025-01-16T12:33:34.272345Z",
     "shell.execute_reply": "2025-01-16T12:33:34.271625Z"
    },
    "papermill": {
     "duration": 0.029721,
     "end_time": "2025-01-16T12:33:34.273760",
     "exception": false,
     "start_time": "2025-01-16T12:33:34.244039",
     "status": "completed"
    },
    "tags": []
   },
   "outputs": [],
   "source": [
    "sub['Label']=LE.inverse_transform(pred)\n",
    "sub['Id']=emotions_\n",
    "sub.to_csv('sub_feature_eng_aug_stack_lgbm_cbc.csv',index=False)"
   ]
  }
 ],
 "metadata": {
  "colab": {
   "provenance": []
  },
  "kaggle": {
   "accelerator": "nvidiaTeslaT4",
   "dataSources": [
    {
     "databundleVersionId": 10622861,
     "sourceId": 90854,
     "sourceType": "competition"
    },
    {
     "datasetId": 6493169,
     "sourceId": 10487162,
     "sourceType": "datasetVersion"
    }
   ],
   "dockerImageVersionId": 30822,
   "isGpuEnabled": true,
   "isInternetEnabled": true,
   "language": "python",
   "sourceType": "notebook"
  },
  "kernelspec": {
   "display_name": "Python 3",
   "language": "python",
   "name": "python3"
  },
  "language_info": {
   "codemirror_mode": {
    "name": "ipython",
    "version": 3
   },
   "file_extension": ".py",
   "mimetype": "text/x-python",
   "name": "python",
   "nbconvert_exporter": "python",
   "pygments_lexer": "ipython3",
   "version": "3.10.12"
  },
  "papermill": {
   "default_parameters": {},
   "duration": 521.570983,
   "end_time": "2025-01-16T12:33:35.919798",
   "environment_variables": {},
   "exception": null,
   "input_path": "__notebook__.ipynb",
   "output_path": "__notebook__.ipynb",
   "parameters": {},
   "start_time": "2025-01-16T12:24:54.348815",
   "version": "2.6.0"
  }
 },
 "nbformat": 4,
 "nbformat_minor": 5
}
