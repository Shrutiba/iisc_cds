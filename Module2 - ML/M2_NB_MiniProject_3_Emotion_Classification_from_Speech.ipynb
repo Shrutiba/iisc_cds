{
  "nbformat": 4,
  "nbformat_minor": 5,
  "metadata": {
    "colab": {
      "provenance": [],
      "include_colab_link": true
    },
    "kernelspec": {
      "display_name": "Python 3",
      "language": "python",
      "name": "python3"
    },
    "language_info": {
      "codemirror_mode": {
        "name": "ipython",
        "version": 3
      },
      "file_extension": ".py",
      "mimetype": "text/x-python",
      "name": "python",
      "nbconvert_exporter": "python",
      "pygments_lexer": "ipython3",
      "version": "3.6.9"
    }
  },
  "cells": [
    {
      "cell_type": "markdown",
      "metadata": {
        "id": "view-in-github",
        "colab_type": "text"
      },
      "source": [
        "<a href=\"https://colab.research.google.com/github/Shrutiba/iisc_cds/blob/main/M2_NB_MiniProject_3_Emotion_Classification_from_Speech.ipynb\" target=\"_parent\"><img src=\"https://colab.research.google.com/assets/colab-badge.svg\" alt=\"Open In Colab\"/></a>"
      ]
    },
    {
      "cell_type": "markdown",
      "metadata": {
        "id": "associate-sunset"
      },
      "source": [
        "# Advanced Certification Program in Computational Data Science\n",
        "## A program by IISc and TalentSprint\n",
        "### Mini-Project: Speech Emotion Classification"
      ],
      "id": "associate-sunset"
    },
    {
      "cell_type": "markdown",
      "metadata": {
        "id": "handled-tooth"
      },
      "source": [
        "## Problem Statement"
      ],
      "id": "handled-tooth"
    },
    {
      "cell_type": "markdown",
      "metadata": {
        "id": "accessory-watts"
      },
      "source": [
        "Build a model to recognize emotion from speech using Ensemble learning"
      ],
      "id": "accessory-watts"
    },
    {
      "cell_type": "markdown",
      "metadata": {
        "id": "twenty-indonesia"
      },
      "source": [
        "## Learning Objectives"
      ],
      "id": "twenty-indonesia"
    },
    {
      "cell_type": "markdown",
      "metadata": {
        "id": "honest-friendship"
      },
      "source": [
        "At the end of the mini-project, you will be able to :\n",
        "\n",
        "* extract the features from audio data\n",
        "* implement ML classification algorithms individually and as Ensembles, to classify emotions\n",
        "* record the voice sample and test it with trained model"
      ],
      "id": "honest-friendship"
    },
    {
      "cell_type": "markdown",
      "metadata": {
        "id": "lesbian-bottom"
      },
      "source": [
        "## Dataset"
      ],
      "id": "lesbian-bottom"
    },
    {
      "cell_type": "markdown",
      "metadata": {
        "id": "fixed-trainer"
      },
      "source": [
        "**TESS Dataset**\n",
        "\n",
        "The first dataset chosen for this mini-project is the [TESS](https://dataverse.scholarsportal.info/dataset.xhtml?persistentId=doi:10.5683/SP2/E8H2MF) (Toronto emotional speech set) dataset. It contains 2880 files.  A set of 200 target words were spoken in the carrier phrase \"Say the word _____' by two actresses and the sets were recorded in seven different emotions (anger, disgust, fear, happiness, pleasant surprise, sadness, and neutral). Both actresses spoke English as their first language, were university educated, and had musical training. Audiometric testing indicated that both actresses had thresholds within the normal range."
      ],
      "id": "fixed-trainer"
    },
    {
      "cell_type": "markdown",
      "metadata": {
        "id": "Roo5A2aLVI07"
      },
      "source": [
        "**Ravdess Dataset**\n",
        "\n",
        "The second dataset chosen for this mini-project is [Ravdess](https://zenodo.org/record/1188976#.YLczy4XivIU) (The Ryerson Audio-Visual Database of Emotional Speech and Song). This dataset contains 1440 files: 60 trials per actor x 24 actors = 1440. The RAVDESS contains 24 professional actors (12 female, 12 male), vocalizing two lexically-matched statements in a neutral North American accent. Speech emotions includes calm, happy, sad, angry, fearful, surprise, and disgust expressions. Each expression is produced at two levels of emotional intensity (normal, strong), with an additional neutral expression.\n",
        "\n",
        "**File naming convention**\n",
        "\n",
        "Each of the 1440 files has a unique filename. The filename consists of a 7-part numerical identifier (e.g., 03-01-06-01-02-01-12.wav). These identifiers define the stimulus characteristics:\n",
        "\n",
        "**Filename identifiers**\n",
        "\n",
        "* Modality (01 = full-AV, 02 = video-only, 03 = audio-only).\n",
        "* Vocal channel (01 = speech, 02 = song).\n",
        "* Emotion (01 = neutral, 02 = calm, 03 = happy, 04 = sad, 05 = angry, 06 = fearful, 07 = disgust, 08 = surprised).\n",
        "* Emotional intensity (01 = normal, 02 = strong). NOTE: There is no strong intensity for the 'neutral' emotion.\n",
        "* Statement (01 = \"Kids are talking by the door\", 02 = \"Dogs are sitting by the door\").\n",
        "* Repetition (01 = 1st repetition, 02 = 2nd repetition).\n",
        "* Actor (01 to 24. Odd numbered actors are male, even numbered actors are female).\n",
        "\n",
        "Filename example: `03-01-06-01-02-01-12.wav`\n",
        "\n",
        "    - Audio-only - 03\n",
        "    - Speech - 01\n",
        "    - Fearful - 06\n",
        "    - Normal intensity - 01\n",
        "    - Statement \"dogs\" - 02\n",
        "    - 1st Repetition - 01\n",
        "    - 12th Actor - 12 Female, as the actor ID number is even."
      ],
      "id": "Roo5A2aLVI07"
    },
    {
      "cell_type": "markdown",
      "metadata": {
        "id": "GIR6a6TvVnRY"
      },
      "source": [
        "## Information"
      ],
      "id": "GIR6a6TvVnRY"
    },
    {
      "cell_type": "markdown",
      "metadata": {
        "id": "mediterranean-february"
      },
      "source": [
        "**Speech Emotion Recognition (SER)** is the task of recognizing the emotion from  speech, irrespective of the semantics. Humans can efficiently perform this task as a natural part of speech communication, however, the ability to conduct it automatically using programmable devices is a field of active research.\n",
        "\n",
        "Studies of automatic emotion recognition systems aim to create efficient, real-time methods of detecting the emotions of mobile phone users, call center operators and customers, car drivers, pilots, and many other human-machine communication users. Adding emotions to machines forms an important aspect of making machines appear and act in a human-like manner\n",
        "\n",
        "Lets gain familiarity with some of the audio based features that are commonly used for SER.\n",
        "\n",
        "**Mel scale** — The mel scale (derived from the word *melody*) is a perceptual scale of pitches judged by listeners to be equal in distance from one another. The reference point between this scale and normal frequency measurement is defined by assigning a perceptual pitch of 1000 mels to a 1000 Hz tone, 40 dB above the listener's threshold. Above about 500 Hz, increasingly large intervals are judged by listeners to produce equal pitch increments. Refer [here](https://towardsdatascience.com/learning-from-audio-the-mel-scale-mel-spectrograms-and-mel-frequency-cepstral-coefficients-f5752b6324a8) for more detailed information.\n",
        "\n",
        "**Pitch** — how high or low a sound is. It depends on frequency, higher pitch is high frequency\n",
        "\n",
        "**Frequency** — speed of vibration of sound, measures wave cycles per second\n",
        "\n",
        "**Chroma** — Representation for audio where spectrum is projected onto 12 bins representing the 12 distinct semitones (or chroma). Computed by summing the log frequency magnitude spectrum across octaves.\n",
        "\n",
        "**Fourier Transforms** — used to convert from time domain to frequency domain. Time domain shows how signal changes over time. Frequency domain shows how much of the signal lies within each given frequency band over a range of frequencies"
      ],
      "id": "mediterranean-february"
    },
    {
      "cell_type": "markdown",
      "metadata": {
        "id": "Q5a6Dz9wCxOc"
      },
      "source": [
        "**Librosa**\n",
        "\n",
        "[Librosa](https://librosa.org/doc/latest/index.html) is a Python package, built for speech and audio analytics. It provides modular functions that simplify working with audio data and help in achieving a wide range of applications such as identification of the personal characteristics of different individuals' voice samples, detecting emotions from audio samples etc.\n",
        "\n",
        "For further details on the Librosa package, refer [here](https://conference.scipy.org/proceedings/scipy2015/pdfs/brian_mcfee.pdf).\n"
      ],
      "id": "Q5a6Dz9wCxOc"
    },
    {
      "cell_type": "markdown",
      "source": [
        "### **Kaggle Competition**"
      ],
      "metadata": {
        "id": "3fjmaAe32Z_K"
      },
      "id": "3fjmaAe32Z_K"
    },
    {
      "cell_type": "markdown",
      "source": [
        "Please refer to the link for viewing the\n",
        "[Kaggle Competition Document](https://drive.google.com/file/d/1M4LO6727OIpa4_IXeWQKmUbN9nMpfDDJ/view?usp=drive_link) and join the Kaggle Competition using the hyperlink given in this document under '*Kaggle* Competition site'.\n"
      ],
      "metadata": {
        "id": "y4yw7Ewy09Ut"
      },
      "id": "y4yw7Ewy09Ut"
    },
    {
      "cell_type": "markdown",
      "metadata": {
        "id": "operating-latter"
      },
      "source": [
        "## Grading = 10 Points"
      ],
      "id": "operating-latter"
    },
    {
      "cell_type": "code",
      "metadata": {
        "id": "talented-upset",
        "cellView": "form",
        "colab": {
          "base_uri": "https://localhost:8080/"
        },
        "outputId": "d364da52-c724-4d3a-960d-6ba4f3d51661"
      },
      "source": [
        "#@title Download the datasets and install packages\n",
        "!wget -qq https://cdn.iisc.talentsprint.com/CDS/MiniProjects/Ravdess_Tess.zip\n",
        "!unzip -qq Ravdess_Tess.zip\n",
        "# Install packages\n",
        "!pip -qq install librosa soundfile\n",
        "!pip -qq install wavio\n",
        "print(\"Datasets downloaded successfully!\")"
      ],
      "id": "talented-upset",
      "execution_count": 2,
      "outputs": [
        {
          "output_type": "stream",
          "name": "stdout",
          "text": [
            "Datasets downloaded successfully!\n"
          ]
        }
      ]
    },
    {
      "cell_type": "code",
      "source": [],
      "metadata": {
        "id": "f_ZgRnBmdmEE"
      },
      "id": "f_ZgRnBmdmEE",
      "execution_count": null,
      "outputs": []
    },
    {
      "cell_type": "markdown",
      "metadata": {
        "id": "appreciated-pattern"
      },
      "source": [
        "### Import Neccesary Packages"
      ],
      "id": "appreciated-pattern"
    },
    {
      "cell_type": "code",
      "metadata": {
        "id": "loose-marsh"
      },
      "source": [
        "import librosa\n",
        "import librosa.display\n",
        "import soundfile\n",
        "import os, glob, pickle\n",
        "import numpy as np\n",
        "import pandas as pd\n",
        "import IPython.display as ipd\n",
        "from matplotlib import pyplot as plt\n",
        "from datetime import datetime\n",
        "from IPython.display import Javascript\n",
        "from google.colab import output\n",
        "from base64 import b64decode\n",
        "import warnings\n",
        "warnings.filterwarnings('ignore')\n",
        "# sklearn\n",
        "from sklearn.model_selection import train_test_split\n",
        "from sklearn.metrics import accuracy_score\n",
        "from sklearn.linear_model import LogisticRegression\n",
        "from sklearn.ensemble import RandomForestClassifier\n",
        "from sklearn.svm import SVC\n",
        "from sklearn import tree\n",
        "from sklearn.tree import DecisionTreeClassifier\n",
        "from sklearn.ensemble import VotingClassifier\n",
        "from xgboost import XGBClassifier  # Import XGBClassifier\n",
        "from sklearn.metrics import precision_score, recall_score, f1_score"
      ],
      "id": "loose-marsh",
      "execution_count": 76,
      "outputs": []
    },
    {
      "cell_type": "markdown",
      "metadata": {
        "id": "2vxa85gvorY5"
      },
      "source": [
        "### Work-Flow\n",
        "\n",
        "* Load the TESS audio data and extract features and labels\n",
        "\n",
        "* Load the Ravdess audio data and extract features\n",
        "\n",
        "* Combine both the audio dataset features\n",
        "\n",
        "* Train and test the model with TESS + Ravdess Data\n",
        "\n",
        "* Record the team audio samples and add them to TESS + Ravdess data\n",
        "\n",
        "* Train and test the model with TESS + Ravdess + Team Recorded (combined) data\n",
        "\n",
        "* Test each of the models with live audio sample recording."
      ],
      "id": "2vxa85gvorY5"
    },
    {
      "cell_type": "markdown",
      "metadata": {
        "id": "compressed-reflection"
      },
      "source": [
        "### Load the Tess data and Ravdess data audio files (1 point)\n",
        "\n",
        "Hint: `glob.glob`"
      ],
      "id": "compressed-reflection"
    },
    {
      "cell_type": "code",
      "metadata": {
        "id": "518e945a",
        "colab": {
          "base_uri": "https://localhost:8080/"
        },
        "outputId": "c0c6c4e3-ea98-4cab-c22d-d83f6378c111"
      },
      "source": [
        "# YOUR CODE HERE\n",
        "# Audio_Data is the audio signal as a NumPy array\n",
        "# sr is the Sample rate of the audio file\n",
        "all_tess_files = glob.glob('/content/Tess/**/*.wav', recursive=True)\n",
        "\n",
        "len(all_tess_files)"
      ],
      "id": "518e945a",
      "execution_count": 11,
      "outputs": [
        {
          "output_type": "execute_result",
          "data": {
            "text/plain": [
              "2679"
            ]
          },
          "metadata": {},
          "execution_count": 11
        }
      ]
    },
    {
      "cell_type": "code",
      "source": [
        "all_ravdess_files = glob.glob('/content/ravdess/**/*.wav', recursive=True)\n",
        "len(all_ravdess_files)"
      ],
      "metadata": {
        "id": "Xgdk34T4FH5H",
        "outputId": "aafbc0f5-2e97-4eb2-f5f1-b4efcfc79124",
        "colab": {
          "base_uri": "https://localhost:8080/"
        }
      },
      "id": "Xgdk34T4FH5H",
      "execution_count": 15,
      "outputs": [
        {
          "output_type": "execute_result",
          "data": {
            "text/plain": [
              "1168"
            ]
          },
          "metadata": {},
          "execution_count": 15
        }
      ]
    },
    {
      "cell_type": "code",
      "source": [
        "tess_audio_files = []\n",
        "\n",
        "for file_path in all_tess_files:\n",
        "    audio_data, sr = librosa.load(file_path)\n",
        "    tess_audio_files.append((audio_data,sr))\n",
        "\n",
        "len(tess_audio_files)"
      ],
      "metadata": {
        "id": "C4OHD_tWETk1",
        "outputId": "7a9397b2-a124-4359-a658-19de8ed8440b",
        "colab": {
          "base_uri": "https://localhost:8080/"
        }
      },
      "id": "C4OHD_tWETk1",
      "execution_count": 8,
      "outputs": [
        {
          "output_type": "execute_result",
          "data": {
            "text/plain": [
              "2679"
            ]
          },
          "metadata": {},
          "execution_count": 8
        }
      ]
    },
    {
      "cell_type": "code",
      "source": [
        "ravdess_audio_files = []\n",
        "\n",
        "for file_path in all_ravdess_files:\n",
        "    audio_data, sr = librosa.load(file_path)\n",
        "    ravdess_audio_files.append((audio_data,sr))\n",
        "\n",
        "len(ravdess_audio_files)"
      ],
      "metadata": {
        "id": "XraPhjt-EtDW",
        "outputId": "909d9067-5e3d-47c1-d89e-d610b8cc69b0",
        "colab": {
          "base_uri": "https://localhost:8080/"
        }
      },
      "id": "XraPhjt-EtDW",
      "execution_count": 16,
      "outputs": [
        {
          "output_type": "execute_result",
          "data": {
            "text/plain": [
              "1168"
            ]
          },
          "metadata": {},
          "execution_count": 16
        }
      ]
    },
    {
      "cell_type": "markdown",
      "metadata": {
        "id": "sound-chest"
      },
      "source": [
        "#### Play the sample audio"
      ],
      "id": "sound-chest"
    },
    {
      "cell_type": "code",
      "metadata": {
        "id": "personalized-wildlife",
        "colab": {
          "base_uri": "https://localhost:8080/",
          "height": 75
        },
        "outputId": "1071f678-96b9-47e5-855e-d0482796402b"
      },
      "source": [
        "# YOUR CODE HERE\n",
        "audio_data_sample, sr_sample = tess_audio_files[0]\n",
        "ipd.Audio(audio_data_sample, rate=sr_sample)"
      ],
      "id": "personalized-wildlife",
      "execution_count": 18,
      "outputs": [
        {
          "output_type": "execute_result",
          "data": {
            "text/plain": [
              "<IPython.lib.display.Audio object>"
            ],
            "text/html": [
              "\n",
              "                <audio  controls=\"controls\" >\n",
              "                    <source src=\"data:audio/wav;base64,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\" type=\"audio/wav\" />\n",
              "                    Your browser does not support the audio element.\n",
              "                </audio>\n",
              "              "
            ]
          },
          "metadata": {},
          "execution_count": 18
        }
      ]
    },
    {
      "cell_type": "markdown",
      "metadata": {
        "id": "exposed-county"
      },
      "source": [
        "### Data Exploration and Visualization (1 point)"
      ],
      "id": "exposed-county"
    },
    {
      "cell_type": "markdown",
      "metadata": {
        "id": "hungry-cleaner"
      },
      "source": [
        "#### Visualize the distribution of all the labels"
      ],
      "id": "hungry-cleaner"
    },
    {
      "cell_type": "code",
      "metadata": {
        "id": "orange-taiwan"
      },
      "source": [
        "# YOUR CODE HERE\n",
        "def extract_label(file_name):\n",
        "    return os.path.basename(file_name).split('_')[-1].split('.')[0]"
      ],
      "id": "orange-taiwan",
      "execution_count": 20,
      "outputs": []
    },
    {
      "cell_type": "markdown",
      "source": [],
      "metadata": {
        "id": "a9ntbhQGogBP"
      },
      "id": "a9ntbhQGogBP"
    },
    {
      "cell_type": "code",
      "source": [
        "labels = [extract_label(file_name) for file_name in all_tess_files]\n",
        "unique_labels, counts = np.unique(labels, return_counts=True)\n",
        "\n",
        "print(counts)\n",
        "\n",
        "# Create a bar plot to visualize the distribution\n",
        "plt.figure(figsize=(10, 6))\n",
        "plt.bar(unique_labels, counts)\n",
        "plt.title('Distribution of Tess Labels')\n",
        "plt.xlabel('Labels')\n",
        "plt.ylabel('Count')\n",
        "plt.xticks(rotation=45, ha='right')  # Rotate x-axis labels if needed\n",
        "plt.tight_layout()\n",
        "plt.show()"
      ],
      "metadata": {
        "id": "9XvLF_floPFc",
        "outputId": "b668c00c-4685-4851-805a-67019ff3ce99",
        "colab": {
          "base_uri": "https://localhost:8080/",
          "height": 546
        }
      },
      "id": "9XvLF_floPFc",
      "execution_count": 21,
      "outputs": [
        {
          "output_type": "stream",
          "name": "stdout",
          "text": [
            "[382 391 379 383 378 379 387]\n"
          ]
        },
        {
          "output_type": "display_data",
          "data": {
            "text/plain": [
              "<Figure size 1000x600 with 1 Axes>"
            ],
            "image/png": "[encoded data removed]"
          },
          "metadata": {}
        }
      ]
    },
    {
      "cell_type": "code",
      "source": [
        "labels = [extract_label(file_name) for file_name in all_ravdess_files]\n",
        "unique_labels, counts = np.unique(labels, return_counts=True)\n",
        "\n",
        "print(counts)\n",
        "\n",
        "# Create a bar plot to visualize the distribution\n",
        "plt.figure(figsize=(10, 6))\n",
        "plt.bar(unique_labels, counts)\n",
        "plt.title('Distribution of Ravdess Labels')\n",
        "plt.xlabel('Labels')\n",
        "plt.ylabel('Count')\n",
        "plt.xticks(rotation=45, ha='right')  # Rotate x-axis labels if needed\n",
        "plt.tight_layout()\n",
        "plt.show()"
      ],
      "metadata": {
        "id": "5jWaUzLTGWG1",
        "outputId": "65bb460a-4a01-4938-eb19-329de217ce98",
        "colab": {
          "base_uri": "https://localhost:8080/",
          "height": 546
        }
      },
      "id": "5jWaUzLTGWG1",
      "execution_count": 23,
      "outputs": [
        {
          "output_type": "stream",
          "name": "stdout",
          "text": [
            "[179 180 182 174  88 183 182]\n"
          ]
        },
        {
          "output_type": "display_data",
          "data": {
            "text/plain": [
              "<Figure size 1000x600 with 1 Axes>"
            ],
            "image/png": "[encoded data removed]"
          },
          "metadata": {}
        }
      ]
    },
    {
      "cell_type": "markdown",
      "metadata": {
        "id": "established-airfare"
      },
      "source": [
        "#### Visualize sample audio signal using librosa"
      ],
      "id": "established-airfare"
    },
    {
      "cell_type": "code",
      "metadata": {
        "id": "outstanding-caribbean",
        "colab": {
          "base_uri": "https://localhost:8080/",
          "height": 348
        },
        "outputId": "097a737c-0a0a-44d9-f514-4d65dc09f858"
      },
      "source": [
        "# YOUR CODE HERE\n",
        "audio_data_sample2, sr2 = tess_audio_files[0]\n",
        "\n",
        "plt.figure(figsize=(12,4))\n",
        "librosa.display.waveshow(audio_data, sr=sr)\n",
        "\n",
        "# Add labels and title\n",
        "plt.title('Audio Waveform')\n",
        "plt.xlabel('Time (s)')\n",
        "plt.ylabel('Amplitude')\n",
        "\n",
        "# Show the plot\n",
        "plt.show()"
      ],
      "id": "outstanding-caribbean",
      "execution_count": 24,
      "outputs": [
        {
          "output_type": "display_data",
          "data": {
            "text/plain": [
              "<Figure size 1200x400 with 1 Axes>"
            ],
            "image/png": "[encoded data removed]"
          },
          "metadata": {}
        }
      ]
    },
    {
      "cell_type": "markdown",
      "metadata": {
        "id": "medical-confidence"
      },
      "source": [
        "### Feature extraction (2 points)\n",
        "\n",
        "Read one WAV file at a time using `Librosa`. An audio time series in the form of a 1-dimensional array for mono or 2-dimensional array for stereo, along with time sampling rate (which defines the length of the array), where the elements within each of the arrays represent the amplitude of the sound waves is returned by `librosa.load()` function. Refer to the supplementary notebook ('Audio feature extraction')\n",
        "\n",
        "To know more about Librosa, explore the [link](https://librosa.org/doc/latest/feature.html)"
      ],
      "id": "medical-confidence"
    },
    {
      "cell_type": "code",
      "metadata": {
        "id": "piano-accent"
      },
      "source": [
        "# YOUR CODE HERE\n",
        "def extract_feature(file_name):\n",
        "\n",
        "    result = []\n",
        "    # load audio\n",
        "    X, sample_rate = librosa.load(file_name)\n",
        "    len(X)\n",
        "    # apply stft()\n",
        "    stft=np.abs(librosa.stft(X))\n",
        "    # compute mfcc\n",
        "    mfccs=np.mean(librosa.feature.mfcc(y=X, sr=sample_rate, n_mfcc=40).T,axis=0)\n",
        "    # combine the features\n",
        "    result=np.hstack((result, mfccs))\n",
        "    # compute chroma features and combine\n",
        "    chroma=np.mean(librosa.feature.chroma_stft(S=stft, sr=sample_rate).T,axis=0)\n",
        "    result=np.hstack((result, chroma))\n",
        "    # compute melspectrogram and combine\n",
        "    mel=np.mean(librosa.feature.melspectrogram(y=X, sr=sample_rate).T,axis=0)\n",
        "    result=np.hstack((result, mel))\n",
        "\n",
        "    return result"
      ],
      "id": "piano-accent",
      "execution_count": 53,
      "outputs": []
    },
    {
      "cell_type": "code",
      "source": [
        "all_tess_files[0]\n",
        "features = extract_feature(all_tess_files[0])\n",
        "#features = [extract_feature(file_name) for file_name in all_tess_files]"
      ],
      "metadata": {
        "id": "jkqQzCvWvQ0j",
        "outputId": "f7325060-d412-4165-e1b8-9d4e418e5727",
        "colab": {
          "base_uri": "https://localhost:8080/"
        }
      },
      "id": "jkqQzCvWvQ0j",
      "execution_count": 49,
      "outputs": [
        {
          "output_type": "stream",
          "name": "stdout",
          "text": [
            "(40,)\n",
            "(40,)\n",
            "(12,)\n",
            "(52,)\n",
            "(128,)\n",
            "(180,)\n"
          ]
        }
      ]
    },
    {
      "cell_type": "code",
      "source": [
        "features"
      ],
      "metadata": {
        "id": "G7FEz3hAvwnt",
        "outputId": "c515a61a-b6fb-48aa-fea3-f4c3c9e67219",
        "colab": {
          "base_uri": "https://localhost:8080/"
        }
      },
      "id": "G7FEz3hAvwnt",
      "execution_count": 50,
      "outputs": [
        {
          "output_type": "execute_result",
          "data": {
            "text/plain": [
              "array([-4.32685852e+02,  6.64235153e+01,  3.57298508e+01,  4.16794968e+01,\n",
              "        5.03700876e+00,  9.06456947e+00,  5.81999636e+00, -8.22979069e+00,\n",
              "        4.05004025e+00, -3.42027044e+00, -2.89808893e+00,  3.75096023e-01,\n",
              "       -3.52276945e+00,  9.84590721e+00, -4.90507174e+00,  3.53991926e-01,\n",
              "        2.19008899e+00,  6.75863922e-01, -6.65554380e+00, -1.63644457e+00,\n",
              "       -5.78164005e+00, -4.03655195e+00, -3.59366512e+00,  1.82059452e-01,\n",
              "        2.60271043e-01,  4.64875412e+00,  4.13120270e+00,  3.10155511e+00,\n",
              "        1.77626014e+00,  4.51256275e+00,  2.87531424e+00,  9.83393574e+00,\n",
              "        4.33293486e+00,  3.86054945e+00,  6.23826325e-01,  1.38207689e-01,\n",
              "        1.54571033e+00,  3.09700012e+00,  2.51346159e+00,  1.29629147e+00,\n",
              "        6.03227675e-01,  6.06641948e-01,  5.16421437e-01,  5.06509006e-01,\n",
              "        4.95660841e-01,  4.49078560e-01,  4.98499542e-01,  5.12626529e-01,\n",
              "        5.46832204e-01,  6.18616164e-01,  5.75269818e-01,  5.61147928e-01,\n",
              "        1.11661410e+00,  2.38683033e+00,  2.35539746e+00,  8.00928235e-01,\n",
              "        1.24748334e-01,  4.36598361e-01,  4.62589455e+00,  6.04663754e+00,\n",
              "        4.78228331e+00,  8.17268467e+00,  5.53773355e+00,  2.51584888e-01,\n",
              "        1.39045253e-01,  4.36489522e-01,  1.90389678e-01,  2.14180326e+00,\n",
              "        5.97327709e+00,  1.29213631e+00,  3.72139382e+00,  3.10933661e+00,\n",
              "        2.20752430e+00,  6.43693447e-01,  4.12597299e-01,  1.84724003e-01,\n",
              "        3.14744204e-01,  1.61817268e-01,  2.39498410e-02,  3.33449170e-02,\n",
              "        8.19189325e-02,  6.51060864e-02,  3.88322249e-02,  5.11730649e-02,\n",
              "        5.02247475e-02,  4.41511869e-02,  3.93408956e-03,  1.94741332e-03,\n",
              "        3.94731807e-03,  5.88493934e-03,  1.29270377e-02,  9.57215205e-03,\n",
              "        9.87538137e-03,  3.64523344e-02,  1.67228244e-02,  3.88265308e-03,\n",
              "        1.13870902e-03,  1.19193143e-03,  2.00220058e-03,  4.67238203e-03,\n",
              "        2.00969223e-02,  1.19663011e-02,  1.37372268e-03,  3.32479627e-04,\n",
              "        5.19161287e-04,  6.12575840e-03,  8.89046676e-03,  7.82788149e-04,\n",
              "        1.20628776e-03,  1.11129996e-03,  1.15238549e-02,  8.70886259e-03,\n",
              "        3.69961071e-03,  8.77722108e-04,  2.19068420e-03,  3.32627399e-03,\n",
              "        4.43518069e-03,  3.39147681e-03,  3.35074193e-03,  4.96724807e-03,\n",
              "        3.75897856e-03,  4.45811637e-03,  1.65700610e-03,  3.64967948e-03,\n",
              "        3.63993226e-03,  3.48923774e-03,  3.32037057e-03,  6.10914454e-03,\n",
              "        2.53490382e-03,  2.57937144e-03,  6.06109714e-03,  1.37960967e-02,\n",
              "        1.50196729e-02,  1.60747468e-02,  1.16767669e-02,  4.21553198e-03,\n",
              "        2.67256610e-03,  2.33756681e-03,  1.88958901e-03,  2.18217983e-03,\n",
              "        1.59461703e-03,  1.66019215e-03,  3.16526508e-03,  3.77032952e-03,\n",
              "        9.14083049e-03,  9.20182373e-03,  9.31235310e-03,  1.04539497e-02,\n",
              "        1.14398487e-02,  8.56473763e-03,  7.56369345e-03,  5.54186804e-03,\n",
              "        1.94342504e-03,  1.25646312e-03,  9.57503798e-04,  1.22298428e-03,\n",
              "        1.42349349e-03,  1.45506614e-03,  1.54286379e-03,  1.96601963e-03,\n",
              "        1.85674382e-03,  8.43613583e-04,  1.17331545e-03,  1.20005850e-03,\n",
              "        2.20078253e-03,  3.56943649e-03,  3.44161363e-03,  3.54921259e-03,\n",
              "        5.03864186e-03,  5.05438447e-03,  7.39372335e-03,  6.09750766e-03,\n",
              "        6.83058985e-03,  6.22097775e-03,  3.84137500e-03,  2.57283123e-03,\n",
              "        5.05002309e-03,  5.60573116e-03,  2.80001201e-03,  1.69403080e-04])"
            ]
          },
          "metadata": {},
          "execution_count": 50
        }
      ]
    },
    {
      "cell_type": "markdown",
      "metadata": {
        "id": "7d3bd640"
      },
      "source": [
        "#### Create a dictionary or a function to encode the emotions"
      ],
      "id": "7d3bd640"
    },
    {
      "cell_type": "code",
      "metadata": {
        "id": "c0c8d44d"
      },
      "source": [
        "# YOUR CODE HERE\n",
        "emotions_savee = {\"angry\":0, \"disgust\":1, \"fear\":2, \"happy\":3, \"neutral\":4, \"sad\":5, \"surprised\":6}"
      ],
      "id": "c0c8d44d",
      "execution_count": 51,
      "outputs": []
    },
    {
      "cell_type": "markdown",
      "metadata": {
        "id": "coupled-villa"
      },
      "source": [
        "#### TESS data feature extraction"
      ],
      "id": "coupled-villa"
    },
    {
      "cell_type": "code",
      "metadata": {
        "id": "quarterly-adrian"
      },
      "source": [
        "# YOUR CODE HERE\n",
        "tess_features = [extract_feature(file_name) for file_name in all_tess_files]"
      ],
      "id": "quarterly-adrian",
      "execution_count": 54,
      "outputs": []
    },
    {
      "cell_type": "code",
      "source": [
        "len(tess_features)"
      ],
      "metadata": {
        "id": "o7rPK3vvRqBw",
        "outputId": "44076736-eecf-438e-e02e-c05302dd7b36",
        "colab": {
          "base_uri": "https://localhost:8080/"
        }
      },
      "id": "o7rPK3vvRqBw",
      "execution_count": 56,
      "outputs": [
        {
          "output_type": "execute_result",
          "data": {
            "text/plain": [
              "2679"
            ]
          },
          "metadata": {},
          "execution_count": 56
        }
      ]
    },
    {
      "cell_type": "markdown",
      "metadata": {
        "id": "qKzclsG-FnW6"
      },
      "source": [
        "#### Ravdess data feature extraction"
      ],
      "id": "qKzclsG-FnW6"
    },
    {
      "cell_type": "code",
      "metadata": {
        "id": "iDwNOgKEIH3w"
      },
      "source": [
        "# YOUR CODE HERE\n",
        "ravdess_features = [extract_feature(file_name) for file_name in all_ravdess_files]"
      ],
      "id": "iDwNOgKEIH3w",
      "execution_count": 55,
      "outputs": []
    },
    {
      "cell_type": "code",
      "source": [
        "len(ravdess_features)"
      ],
      "metadata": {
        "id": "2cArMkz6Rszi",
        "outputId": "f4639245-11ad-42dd-c295-bb0d41847fa6",
        "colab": {
          "base_uri": "https://localhost:8080/"
        }
      },
      "id": "2cArMkz6Rszi",
      "execution_count": 57,
      "outputs": [
        {
          "output_type": "execute_result",
          "data": {
            "text/plain": [
              "1168"
            ]
          },
          "metadata": {},
          "execution_count": 57
        }
      ]
    },
    {
      "cell_type": "code",
      "source": [
        "# Tess Labels\n",
        "Tess_labels = [extract_label(file_name) for file_name in all_tess_files]"
      ],
      "metadata": {
        "id": "2LK48nZCRxQp"
      },
      "id": "2LK48nZCRxQp",
      "execution_count": 58,
      "outputs": []
    },
    {
      "cell_type": "code",
      "source": [
        "len(Tess_labels)"
      ],
      "metadata": {
        "id": "upFJmunpSKKd",
        "outputId": "4ae66018-90f1-4b6d-8ebe-787cb24cb6a6",
        "colab": {
          "base_uri": "https://localhost:8080/"
        }
      },
      "id": "upFJmunpSKKd",
      "execution_count": 59,
      "outputs": [
        {
          "output_type": "execute_result",
          "data": {
            "text/plain": [
              "2679"
            ]
          },
          "metadata": {},
          "execution_count": 59
        }
      ]
    },
    {
      "cell_type": "code",
      "source": [
        "# revdess Labels\n",
        "ravdess_labels = [extract_label(file_name) for file_name in all_ravdess_files]"
      ],
      "metadata": {
        "id": "iPZDBg3FSOoS"
      },
      "id": "iPZDBg3FSOoS",
      "execution_count": 60,
      "outputs": []
    },
    {
      "cell_type": "code",
      "source": [
        "len(ravdess_labels)"
      ],
      "metadata": {
        "id": "cpWB7CIUSaLZ",
        "outputId": "993e8bb1-d94e-4150-bbaf-b34235f82892",
        "colab": {
          "base_uri": "https://localhost:8080/"
        }
      },
      "id": "cpWB7CIUSaLZ",
      "execution_count": 61,
      "outputs": [
        {
          "output_type": "execute_result",
          "data": {
            "text/plain": [
              "1168"
            ]
          },
          "metadata": {},
          "execution_count": 61
        }
      ]
    },
    {
      "cell_type": "markdown",
      "metadata": {
        "id": "2bb62f16"
      },
      "source": [
        "#### Save the features\n",
        "\n",
        "It is best advised to save the features in dataframe and maintain so that feature extraction step is not required to be performed every time.\n",
        "\n",
        "* Make a DataFrame with features and labels\n",
        "\n",
        "* Write dataframe into `.CSV` file and save it offline."
      ],
      "id": "2bb62f16"
    },
    {
      "cell_type": "code",
      "metadata": {
        "id": "9ec91c16"
      },
      "source": [
        "# YOUR CODE HERE\n",
        "all_features = tess_features + ravdess_features\n",
        "all_labels = [emotions_savee.get(label,-1) for label in Tess_labels + ravdess_labels]"
      ],
      "id": "9ec91c16",
      "execution_count": 62,
      "outputs": []
    },
    {
      "cell_type": "code",
      "source": [
        "df = pd.DataFrame(all_features)\n",
        "df['label'] = all_labels\n",
        "df.head(5)"
      ],
      "metadata": {
        "id": "HpgjsiXWSnSP",
        "outputId": "0ada5ca0-a8a4-4cfa-8448-11c29baece66",
        "colab": {
          "base_uri": "https://localhost:8080/",
          "height": 256
        }
      },
      "id": "HpgjsiXWSnSP",
      "execution_count": 63,
      "outputs": [
        {
          "output_type": "execute_result",
          "data": {
            "text/plain": [
              "            0          1          2          3         4         5         6  \\\n",
              "0 -432.685852  66.423515  35.729851  41.679497  5.037009  9.064569  5.819996   \n",
              "1 -377.235809  61.407970  25.594427  35.189175 -2.198201  1.807129 -6.850845   \n",
              "2 -414.417969  41.295948  24.758556  37.620247 -4.979134  6.826155 -3.645178   \n",
              "3 -392.246216  56.270042  29.559902  43.481831  1.667145  3.180357  2.530952   \n",
              "4 -387.642365  66.393913  23.748774  19.525841  0.320236  9.053211 -9.025151   \n",
              "\n",
              "           7         8         9  ...       171       172       173       174  \\\n",
              "0  -8.229791  4.050040 -3.420270  ...  0.006098  0.006831  0.006221  0.003841   \n",
              "1  -6.227483  3.120285 -7.274498  ...  0.011393  0.012997  0.015501  0.014174   \n",
              "2  -8.358351  3.052444 -4.245794  ...  0.010885  0.009880  0.009660  0.014609   \n",
              "3  -9.447951 -0.744949 -5.679958  ...  0.011994  0.016120  0.014393  0.011615   \n",
              "4 -13.177671  1.568034 -9.770269  ...  0.011960  0.013067  0.008007  0.006818   \n",
              "\n",
              "        175       176       177       178       179  label  \n",
              "0  0.002573  0.005050  0.005606  0.002800  0.000169      5  \n",
              "1  0.010629  0.005893  0.008876  0.005013  0.000468      5  \n",
              "2  0.010319  0.003492  0.003679  0.002739  0.000232      5  \n",
              "3  0.007514  0.007508  0.009239  0.005068  0.000443      5  \n",
              "4  0.004166  0.002867  0.003707  0.001845  0.000197      5  \n",
              "\n",
              "[5 rows x 181 columns]"
            ],
            "text/html": [
              "\n",
              "  <div id=\"df-cc9fc660-114a-44c7-b193-ac5fd4571219\" class=\"colab-df-container\">\n",
              "    <div>\n",
              "<style scoped>\n",
              "    .dataframe tbody tr th:only-of-type {\n",
              "        vertical-align: middle;\n",
              "    }\n",
              "\n",
              "    .dataframe tbody tr th {\n",
              "        vertical-align: top;\n",
              "    }\n",
              "\n",
              "    .dataframe thead th {\n",
              "        text-align: right;\n",
              "    }\n",
              "</style>\n",
              "<table border=\"1\" class=\"dataframe\">\n",
              "  <thead>\n",
              "    <tr style=\"text-align: right;\">\n",
              "      <th></th>\n",
              "      <th>0</th>\n",
              "      <th>1</th>\n",
              "      <th>2</th>\n",
              "      <th>3</th>\n",
              "      <th>4</th>\n",
              "      <th>5</th>\n",
              "      <th>6</th>\n",
              "      <th>7</th>\n",
              "      <th>8</th>\n",
              "      <th>9</th>\n",
              "      <th>...</th>\n",
              "      <th>171</th>\n",
              "      <th>172</th>\n",
              "      <th>173</th>\n",
              "      <th>174</th>\n",
              "      <th>175</th>\n",
              "      <th>176</th>\n",
              "      <th>177</th>\n",
              "      <th>178</th>\n",
              "      <th>179</th>\n",
              "      <th>label</th>\n",
              "    </tr>\n",
              "  </thead>\n",
              "  <tbody>\n",
              "    <tr>\n",
              "      <th>0</th>\n",
              "      <td>-432.685852</td>\n",
              "      <td>66.423515</td>\n",
              "      <td>35.729851</td>\n",
              "      <td>41.679497</td>\n",
              "      <td>5.037009</td>\n",
              "      <td>9.064569</td>\n",
              "      <td>5.819996</td>\n",
              "      <td>-8.229791</td>\n",
              "      <td>4.050040</td>\n",
              "      <td>-3.420270</td>\n",
              "      <td>...</td>\n",
              "      <td>0.006098</td>\n",
              "      <td>0.006831</td>\n",
              "      <td>0.006221</td>\n",
              "      <td>0.003841</td>\n",
              "      <td>0.002573</td>\n",
              "      <td>0.005050</td>\n",
              "      <td>0.005606</td>\n",
              "      <td>0.002800</td>\n",
              "      <td>0.000169</td>\n",
              "      <td>5</td>\n",
              "    </tr>\n",
              "    <tr>\n",
              "      <th>1</th>\n",
              "      <td>-377.235809</td>\n",
              "      <td>61.407970</td>\n",
              "      <td>25.594427</td>\n",
              "      <td>35.189175</td>\n",
              "      <td>-2.198201</td>\n",
              "      <td>1.807129</td>\n",
              "      <td>-6.850845</td>\n",
              "      <td>-6.227483</td>\n",
              "      <td>3.120285</td>\n",
              "      <td>-7.274498</td>\n",
              "      <td>...</td>\n",
              "      <td>0.011393</td>\n",
              "      <td>0.012997</td>\n",
              "      <td>0.015501</td>\n",
              "      <td>0.014174</td>\n",
              "      <td>0.010629</td>\n",
              "      <td>0.005893</td>\n",
              "      <td>0.008876</td>\n",
              "      <td>0.005013</td>\n",
              "      <td>0.000468</td>\n",
              "      <td>5</td>\n",
              "    </tr>\n",
              "    <tr>\n",
              "      <th>2</th>\n",
              "      <td>-414.417969</td>\n",
              "      <td>41.295948</td>\n",
              "      <td>24.758556</td>\n",
              "      <td>37.620247</td>\n",
              "      <td>-4.979134</td>\n",
              "      <td>6.826155</td>\n",
              "      <td>-3.645178</td>\n",
              "      <td>-8.358351</td>\n",
              "      <td>3.052444</td>\n",
              "      <td>-4.245794</td>\n",
              "      <td>...</td>\n",
              "      <td>0.010885</td>\n",
              "      <td>0.009880</td>\n",
              "      <td>0.009660</td>\n",
              "      <td>0.014609</td>\n",
              "      <td>0.010319</td>\n",
              "      <td>0.003492</td>\n",
              "      <td>0.003679</td>\n",
              "      <td>0.002739</td>\n",
              "      <td>0.000232</td>\n",
              "      <td>5</td>\n",
              "    </tr>\n",
              "    <tr>\n",
              "      <th>3</th>\n",
              "      <td>-392.246216</td>\n",
              "      <td>56.270042</td>\n",
              "      <td>29.559902</td>\n",
              "      <td>43.481831</td>\n",
              "      <td>1.667145</td>\n",
              "      <td>3.180357</td>\n",
              "      <td>2.530952</td>\n",
              "      <td>-9.447951</td>\n",
              "      <td>-0.744949</td>\n",
              "      <td>-5.679958</td>\n",
              "      <td>...</td>\n",
              "      <td>0.011994</td>\n",
              "      <td>0.016120</td>\n",
              "      <td>0.014393</td>\n",
              "      <td>0.011615</td>\n",
              "      <td>0.007514</td>\n",
              "      <td>0.007508</td>\n",
              "      <td>0.009239</td>\n",
              "      <td>0.005068</td>\n",
              "      <td>0.000443</td>\n",
              "      <td>5</td>\n",
              "    </tr>\n",
              "    <tr>\n",
              "      <th>4</th>\n",
              "      <td>-387.642365</td>\n",
              "      <td>66.393913</td>\n",
              "      <td>23.748774</td>\n",
              "      <td>19.525841</td>\n",
              "      <td>0.320236</td>\n",
              "      <td>9.053211</td>\n",
              "      <td>-9.025151</td>\n",
              "      <td>-13.177671</td>\n",
              "      <td>1.568034</td>\n",
              "      <td>-9.770269</td>\n",
              "      <td>...</td>\n",
              "      <td>0.011960</td>\n",
              "      <td>0.013067</td>\n",
              "      <td>0.008007</td>\n",
              "      <td>0.006818</td>\n",
              "      <td>0.004166</td>\n",
              "      <td>0.002867</td>\n",
              "      <td>0.003707</td>\n",
              "      <td>0.001845</td>\n",
              "      <td>0.000197</td>\n",
              "      <td>5</td>\n",
              "    </tr>\n",
              "  </tbody>\n",
              "</table>\n",
              "<p>5 rows × 181 columns</p>\n",
              "</div>\n",
              "    <div class=\"colab-df-buttons\">\n",
              "\n",
              "  <div class=\"colab-df-container\">\n",
              "    <button class=\"colab-df-convert\" onclick=\"convertToInteractive('df-cc9fc660-114a-44c7-b193-ac5fd4571219')\"\n",
              "            title=\"Convert this dataframe to an interactive table.\"\n",
              "            style=\"display:none;\">\n",
              "\n",
              "  <svg xmlns=\"http://www.w3.org/2000/svg\" height=\"24px\" viewBox=\"0 -960 960 960\">\n",
              "    <path d=\"M120-120v-720h720v720H120Zm60-500h600v-160H180v160Zm220 220h160v-160H400v160Zm0 220h160v-160H400v160ZM180-400h160v-160H180v160Zm440 0h160v-160H620v160ZM180-180h160v-160H180v160Zm440 0h160v-160H620v160Z\"/>\n",
              "  </svg>\n",
              "    </button>\n",
              "\n",
              "  <style>\n",
              "    .colab-df-container {\n",
              "      display:flex;\n",
              "      gap: 12px;\n",
              "    }\n",
              "\n",
              "    .colab-df-convert {\n",
              "      background-color: #E8F0FE;\n",
              "      border: none;\n",
              "      border-radius: 50%;\n",
              "      cursor: pointer;\n",
              "      display: none;\n",
              "      fill: #1967D2;\n",
              "      height: 32px;\n",
              "      padding: 0 0 0 0;\n",
              "      width: 32px;\n",
              "    }\n",
              "\n",
              "    .colab-df-convert:hover {\n",
              "      background-color: #E2EBFA;\n",
              "      box-shadow: 0px 1px 2px rgba(60, 64, 67, 0.3), 0px 1px 3px 1px rgba(60, 64, 67, 0.15);\n",
              "      fill: #174EA6;\n",
              "    }\n",
              "\n",
              "    .colab-df-buttons div {\n",
              "      margin-bottom: 4px;\n",
              "    }\n",
              "\n",
              "    [theme=dark] .colab-df-convert {\n",
              "      background-color: #3B4455;\n",
              "      fill: #D2E3FC;\n",
              "    }\n",
              "\n",
              "    [theme=dark] .colab-df-convert:hover {\n",
              "      background-color: #434B5C;\n",
              "      box-shadow: 0px 1px 3px 1px rgba(0, 0, 0, 0.15);\n",
              "      filter: drop-shadow(0px 1px 2px rgba(0, 0, 0, 0.3));\n",
              "      fill: #FFFFFF;\n",
              "    }\n",
              "  </style>\n",
              "\n",
              "    <script>\n",
              "      const buttonEl =\n",
              "        document.querySelector('#df-cc9fc660-114a-44c7-b193-ac5fd4571219 button.colab-df-convert');\n",
              "      buttonEl.style.display =\n",
              "        google.colab.kernel.accessAllowed ? 'block' : 'none';\n",
              "\n",
              "      async function convertToInteractive(key) {\n",
              "        const element = document.querySelector('#df-cc9fc660-114a-44c7-b193-ac5fd4571219');\n",
              "        const dataTable =\n",
              "          await google.colab.kernel.invokeFunction('convertToInteractive',\n",
              "                                                    [key], {});\n",
              "        if (!dataTable) return;\n",
              "\n",
              "        const docLinkHtml = 'Like what you see? Visit the ' +\n",
              "          '<a target=\"_blank\" href=https://colab.research.google.com/notebooks/data_table.ipynb>data table notebook</a>'\n",
              "          + ' to learn more about interactive tables.';\n",
              "        element.innerHTML = '';\n",
              "        dataTable['output_type'] = 'display_data';\n",
              "        await google.colab.output.renderOutput(dataTable, element);\n",
              "        const docLink = document.createElement('div');\n",
              "        docLink.innerHTML = docLinkHtml;\n",
              "        element.appendChild(docLink);\n",
              "      }\n",
              "    </script>\n",
              "  </div>\n",
              "\n",
              "\n",
              "<div id=\"df-024d603a-503b-4e31-a4be-f5443c144b2e\">\n",
              "  <button class=\"colab-df-quickchart\" onclick=\"quickchart('df-024d603a-503b-4e31-a4be-f5443c144b2e')\"\n",
              "            title=\"Suggest charts\"\n",
              "            style=\"display:none;\">\n",
              "\n",
              "<svg xmlns=\"http://www.w3.org/2000/svg\" height=\"24px\"viewBox=\"0 0 24 24\"\n",
              "     width=\"24px\">\n",
              "    <g>\n",
              "        <path d=\"M19 3H5c-1.1 0-2 .9-2 2v14c0 1.1.9 2 2 2h14c1.1 0 2-.9 2-2V5c0-1.1-.9-2-2-2zM9 17H7v-7h2v7zm4 0h-2V7h2v10zm4 0h-2v-4h2v4z\"/>\n",
              "    </g>\n",
              "</svg>\n",
              "  </button>\n",
              "\n",
              "<style>\n",
              "  .colab-df-quickchart {\n",
              "      --bg-color: #E8F0FE;\n",
              "      --fill-color: #1967D2;\n",
              "      --hover-bg-color: #E2EBFA;\n",
              "      --hover-fill-color: #174EA6;\n",
              "      --disabled-fill-color: #AAA;\n",
              "      --disabled-bg-color: #DDD;\n",
              "  }\n",
              "\n",
              "  [theme=dark] .colab-df-quickchart {\n",
              "      --bg-color: #3B4455;\n",
              "      --fill-color: #D2E3FC;\n",
              "      --hover-bg-color: #434B5C;\n",
              "      --hover-fill-color: #FFFFFF;\n",
              "      --disabled-bg-color: #3B4455;\n",
              "      --disabled-fill-color: #666;\n",
              "  }\n",
              "\n",
              "  .colab-df-quickchart {\n",
              "    background-color: var(--bg-color);\n",
              "    border: none;\n",
              "    border-radius: 50%;\n",
              "    cursor: pointer;\n",
              "    display: none;\n",
              "    fill: var(--fill-color);\n",
              "    height: 32px;\n",
              "    padding: 0;\n",
              "    width: 32px;\n",
              "  }\n",
              "\n",
              "  .colab-df-quickchart:hover {\n",
              "    background-color: var(--hover-bg-color);\n",
              "    box-shadow: 0 1px 2px rgba(60, 64, 67, 0.3), 0 1px 3px 1px rgba(60, 64, 67, 0.15);\n",
              "    fill: var(--button-hover-fill-color);\n",
              "  }\n",
              "\n",
              "  .colab-df-quickchart-complete:disabled,\n",
              "  .colab-df-quickchart-complete:disabled:hover {\n",
              "    background-color: var(--disabled-bg-color);\n",
              "    fill: var(--disabled-fill-color);\n",
              "    box-shadow: none;\n",
              "  }\n",
              "\n",
              "  .colab-df-spinner {\n",
              "    border: 2px solid var(--fill-color);\n",
              "    border-color: transparent;\n",
              "    border-bottom-color: var(--fill-color);\n",
              "    animation:\n",
              "      spin 1s steps(1) infinite;\n",
              "  }\n",
              "\n",
              "  @keyframes spin {\n",
              "    0% {\n",
              "      border-color: transparent;\n",
              "      border-bottom-color: var(--fill-color);\n",
              "      border-left-color: var(--fill-color);\n",
              "    }\n",
              "    20% {\n",
              "      border-color: transparent;\n",
              "      border-left-color: var(--fill-color);\n",
              "      border-top-color: var(--fill-color);\n",
              "    }\n",
              "    30% {\n",
              "      border-color: transparent;\n",
              "      border-left-color: var(--fill-color);\n",
              "      border-top-color: var(--fill-color);\n",
              "      border-right-color: var(--fill-color);\n",
              "    }\n",
              "    40% {\n",
              "      border-color: transparent;\n",
              "      border-right-color: var(--fill-color);\n",
              "      border-top-color: var(--fill-color);\n",
              "    }\n",
              "    60% {\n",
              "      border-color: transparent;\n",
              "      border-right-color: var(--fill-color);\n",
              "    }\n",
              "    80% {\n",
              "      border-color: transparent;\n",
              "      border-right-color: var(--fill-color);\n",
              "      border-bottom-color: var(--fill-color);\n",
              "    }\n",
              "    90% {\n",
              "      border-color: transparent;\n",
              "      border-bottom-color: var(--fill-color);\n",
              "    }\n",
              "  }\n",
              "</style>\n",
              "\n",
              "  <script>\n",
              "    async function quickchart(key) {\n",
              "      const quickchartButtonEl =\n",
              "        document.querySelector('#' + key + ' button');\n",
              "      quickchartButtonEl.disabled = true;  // To prevent multiple clicks.\n",
              "      quickchartButtonEl.classList.add('colab-df-spinner');\n",
              "      try {\n",
              "        const charts = await google.colab.kernel.invokeFunction(\n",
              "            'suggestCharts', [key], {});\n",
              "      } catch (error) {\n",
              "        console.error('Error during call to suggestCharts:', error);\n",
              "      }\n",
              "      quickchartButtonEl.classList.remove('colab-df-spinner');\n",
              "      quickchartButtonEl.classList.add('colab-df-quickchart-complete');\n",
              "    }\n",
              "    (() => {\n",
              "      let quickchartButtonEl =\n",
              "        document.querySelector('#df-024d603a-503b-4e31-a4be-f5443c144b2e button');\n",
              "      quickchartButtonEl.style.display =\n",
              "        google.colab.kernel.accessAllowed ? 'block' : 'none';\n",
              "    })();\n",
              "  </script>\n",
              "</div>\n",
              "\n",
              "    </div>\n",
              "  </div>\n"
            ],
            "application/vnd.google.colaboratory.intrinsic+json": {
              "type": "dataframe",
              "variable_name": "df"
            }
          },
          "metadata": {},
          "execution_count": 63
        }
      ]
    },
    {
      "cell_type": "code",
      "source": [
        "df.to_csv('audio_features.csv', index=False)"
      ],
      "metadata": {
        "id": "Ky--Y13MUhA-"
      },
      "id": "Ky--Y13MUhA-",
      "execution_count": 66,
      "outputs": []
    },
    {
      "cell_type": "markdown",
      "metadata": {
        "id": "aggressive-cause"
      },
      "source": [
        "#### Split the data into train and test"
      ],
      "id": "aggressive-cause"
    },
    {
      "cell_type": "code",
      "metadata": {
        "id": "nearby-angle"
      },
      "source": [
        "# YOUR CODE HERE\n",
        "df_new = pd.read_csv('audio_features.csv')\n",
        "X = df_new.drop('label', axis=1)  # Features (all columns except 'label')\n",
        "y = df_new['label']\n",
        "\n",
        "X_train, X_test, y_train, y_test = train_test_split(X, y, test_size=0.2, random_state=42)"
      ],
      "id": "nearby-angle",
      "execution_count": 68,
      "outputs": []
    },
    {
      "cell_type": "markdown",
      "metadata": {
        "id": "ordered-weapon"
      },
      "source": [
        "### Train the model with TESS + Ravdess data (2 points)\n",
        "\n",
        "* Apply different ML algorithms (eg. DecisionTree, RandomForest, etc.) and find the model with best performance"
      ],
      "id": "ordered-weapon"
    },
    {
      "cell_type": "code",
      "metadata": {
        "id": "EtlfZmtWSD_X",
        "outputId": "48888d7e-4282-46d9-f13e-eea8910e6e50",
        "colab": {
          "base_uri": "https://localhost:8080/"
        }
      },
      "source": [
        "# YOUR CODE HERE => LogisticRegression(max_iter=1000)\n",
        "model = LogisticRegression(max_iter=1000)\n",
        "model.fit(X_train, y_train)\n",
        "\n",
        "y_pred = model.predict(X_test)\n",
        "\n",
        "precision_log_reg = precision_score(y_test, y_pred, average='weighted')\n",
        "recall_log_reg = recall_score(y_test, y_pred, average='weighted')\n",
        "f1_log_reg = f1_score(y_test, y_pred, average='weighted')\n",
        "print(f\"Precision: {precision_log_reg}\")\n",
        "print(f\"Recall: {recall_log_reg}\")\n",
        "print(f\"F1-score: {f1_log_reg}\")"
      ],
      "id": "EtlfZmtWSD_X",
      "execution_count": 69,
      "outputs": [
        {
          "output_type": "stream",
          "name": "stdout",
          "text": [
            "Precision: 0.7824683892157819\n",
            "Recall: 0.7818181818181819\n",
            "F1-score: 0.7812719288948503\n"
          ]
        }
      ]
    },
    {
      "cell_type": "code",
      "source": [
        "#Decision Tree\n",
        "model2 = DecisionTreeClassifier(random_state=42)\n",
        "model2.fit(X_train,y_train)\n",
        "\n",
        "y_pred2 = model2.predict(X_test)\n",
        "\n",
        "precision_dtree = precision_score(y_test, y_pred2, average='weighted')\n",
        "recall_dtree = recall_score(y_test, y_pred2, average='weighted')\n",
        "f1_dtree = f1_score(y_test, y_pred2, average='weighted')\n",
        "print(f\"Precision: {precision_dtree}\")\n",
        "print(f\"Recall: {recall_dtree}\")\n",
        "print(f\"F1-score: {f1_dtree}\")"
      ],
      "metadata": {
        "id": "MpdaMwQ3YIq9",
        "outputId": "4bb5a37c-5b60-4ef8-93a3-537260b0a64a",
        "colab": {
          "base_uri": "https://localhost:8080/"
        }
      },
      "id": "MpdaMwQ3YIq9",
      "execution_count": 73,
      "outputs": [
        {
          "output_type": "stream",
          "name": "stdout",
          "text": [
            "Precision: 0.7595217544520677\n",
            "Recall: 0.7584415584415585\n",
            "F1-score: 0.7574469224800755\n"
          ]
        }
      ]
    },
    {
      "cell_type": "code",
      "source": [
        "#Random Forest\n",
        "model3 = RandomForestClassifier(n_estimators=100, random_state=42)  # Create RandomForestClassifier\n",
        "model3.fit(X_train, y_train)\n",
        "\n",
        "y_pred3 = model3.predict(X_test)\n",
        "\n",
        "precision_rforest = precision_score(y_test, y_pred3, average='weighted')\n",
        "recall_rforest = recall_score(y_test, y_pred3, average='weighted')\n",
        "f1_rforest = f1_score(y_test, y_pred3, average='weighted')\n",
        "print(f\"Precision: {precision_rforest}\")\n",
        "print(f\"Recall: {recall_rforest}\")\n",
        "print(f\"F1-score: {f1_rforest}\")\n"
      ],
      "metadata": {
        "id": "RcZvAwiXZHzd",
        "outputId": "e49e44cc-8bb6-4ecc-fc39-b2d62f0a5d30",
        "colab": {
          "base_uri": "https://localhost:8080/"
        }
      },
      "id": "RcZvAwiXZHzd",
      "execution_count": 74,
      "outputs": [
        {
          "output_type": "stream",
          "name": "stdout",
          "text": [
            "Precision: 0.85887628869681\n",
            "Recall: 0.8558441558441559\n",
            "F1-score: 0.8555561214867308\n"
          ]
        }
      ]
    },
    {
      "cell_type": "code",
      "source": [
        "!pip install xgboost"
      ],
      "metadata": {
        "id": "oQDBnDjrZvcO",
        "outputId": "26343084-a3ed-4987-f25d-6255e09f5101",
        "colab": {
          "base_uri": "https://localhost:8080/"
        }
      },
      "id": "oQDBnDjrZvcO",
      "execution_count": 75,
      "outputs": [
        {
          "output_type": "stream",
          "name": "stdout",
          "text": [
            "Requirement already satisfied: xgboost in /usr/local/lib/python3.10/dist-packages (2.1.3)\n",
            "Requirement already satisfied: numpy in /usr/local/lib/python3.10/dist-packages (from xgboost) (1.26.4)\n",
            "Requirement already satisfied: nvidia-nccl-cu12 in /usr/local/lib/python3.10/dist-packages (from xgboost) (2.24.3)\n",
            "Requirement already satisfied: scipy in /usr/local/lib/python3.10/dist-packages (from xgboost) (1.13.1)\n"
          ]
        }
      ]
    },
    {
      "cell_type": "code",
      "source": [
        "model4 = XGBClassifier(objective='multi:softprob', num_class=len(df['label'].unique()), random_state=42)\n",
        "model4.fit(X_train, y_train)\n",
        "\n",
        "y_pred4 = model.predict(X_test)\n",
        "\n",
        "precision_xgb = precision_score(y_test, y_pred4, average='weighted')\n",
        "recall_xgb = recall_score(y_test, y_pred4, average='weighted')\n",
        "f1_xgb = f1_score(y_test, y_pred4, average='weighted')\n",
        "print(f\"Precision: {precision_xgb}\")\n",
        "print(f\"Recall: {recall_xgb}\")\n",
        "print(f\"F1-score: {f1_xgb}\")\n"
      ],
      "metadata": {
        "id": "7e89dbj3aeEf",
        "outputId": "3981c940-d808-4084-d00e-69eeeb64b1db",
        "colab": {
          "base_uri": "https://localhost:8080/"
        }
      },
      "id": "7e89dbj3aeEf",
      "execution_count": 77,
      "outputs": [
        {
          "output_type": "stream",
          "name": "stdout",
          "text": [
            "Precision: 0.7824683892157819\n",
            "Recall: 0.7818181818181819\n",
            "F1-score: 0.7812719288948503\n"
          ]
        }
      ]
    },
    {
      "cell_type": "markdown",
      "metadata": {
        "id": "returning-bones"
      },
      "source": [
        "#### Apply the voting classifier"
      ],
      "id": "returning-bones"
    },
    {
      "cell_type": "code",
      "metadata": {
        "id": "fuzzy-respondent"
      },
      "source": [
        "# YOUR CODE HERE"
      ],
      "id": "fuzzy-respondent",
      "execution_count": null,
      "outputs": []
    },
    {
      "cell_type": "markdown",
      "metadata": {
        "id": "6p1MHeY9oYqB"
      },
      "source": [
        "### Train the model with TESS + Ravdess + Team recorded data (4 points)\n",
        "\n",
        "* Record the audio samples (team data), extract features and combine with TESS + Ravdess data features\n",
        "  - Record and gather all the team data samples with proper naming convention in separate folder\n",
        "\n",
        "    **Hint:** Follow the supplementary notebook to record team data\n",
        "\n",
        "  - Each team member must record 2 samples for each emotion (Use similar sentences as given in TESS data)\n",
        "\n",
        "* Train the different ML algorithms and find the model with best performance"
      ],
      "id": "6p1MHeY9oYqB"
    },
    {
      "cell_type": "markdown",
      "metadata": {
        "id": "M4In88rvtVmb"
      },
      "source": [
        "#### Load the team data"
      ],
      "id": "M4In88rvtVmb"
    },
    {
      "cell_type": "code",
      "metadata": {
        "id": "nna7EZMRaKCI"
      },
      "source": [
        "# YOUR CODE HERE"
      ],
      "id": "nna7EZMRaKCI",
      "execution_count": null,
      "outputs": []
    },
    {
      "cell_type": "markdown",
      "metadata": {
        "id": "awnyYAic36V0"
      },
      "source": [
        "#### Extracting features of team data and combine with TESS + Ravdess"
      ],
      "id": "awnyYAic36V0"
    },
    {
      "cell_type": "code",
      "metadata": {
        "id": "15br8qPwa2a6"
      },
      "source": [
        "# YOUR CODE HERE"
      ],
      "id": "15br8qPwa2a6",
      "execution_count": null,
      "outputs": []
    },
    {
      "cell_type": "markdown",
      "metadata": {
        "id": "w-ulIdIdtkDB"
      },
      "source": [
        "#### Train the different ML algorithms"
      ],
      "id": "w-ulIdIdtkDB"
    },
    {
      "cell_type": "code",
      "metadata": {
        "id": "xuUx7UTFtjIs"
      },
      "source": [
        "# YOUR CODE HERE"
      ],
      "id": "xuUx7UTFtjIs",
      "execution_count": null,
      "outputs": []
    },
    {
      "cell_type": "markdown",
      "metadata": {
        "id": "iMl0sRhXtXzL"
      },
      "source": [
        "#### Test the best working model with live audio recording"
      ],
      "id": "iMl0sRhXtXzL"
    },
    {
      "cell_type": "code",
      "metadata": {
        "id": "4znf9-pcTbUB"
      },
      "source": [
        "# choose the best working model and assign below\n",
        "MODEL ="
      ],
      "id": "4znf9-pcTbUB",
      "execution_count": null,
      "outputs": []
    },
    {
      "cell_type": "code",
      "metadata": {
        "cellView": "form",
        "id": "2d598770"
      },
      "source": [
        "#@title Speak the utterance and test\n",
        "from IPython.display import Javascript\n",
        "from google.colab import output\n",
        "from base64 import b64decode\n",
        "\n",
        "RECORD = \"\"\"\n",
        "const sleep  = time => new Promise(resolve => setTimeout(resolve, time))\n",
        "const b2text = blob => new Promise(resolve => {\n",
        "  const reader = new FileReader()\n",
        "  reader.onloadend = e => resolve(e.srcElement.result)\n",
        "  reader.readAsDataURL(blob)\n",
        "})\n",
        "var record = time => new Promise(async resolve => {\n",
        "  stream = await navigator.mediaDevices.getUserMedia({ audio: true })\n",
        "  recorder = new MediaRecorder(stream)\n",
        "  chunks = []\n",
        "  recorder.ondataavailable = e => chunks.push(e.data)\n",
        "  recorder.start()\n",
        "  await sleep(time)\n",
        "  recorder.onstop = async ()=>{\n",
        "    blob = new Blob(chunks)\n",
        "    text = await b2text(blob)\n",
        "    resolve(text)\n",
        "  }\n",
        "  recorder.stop()\n",
        "})\n",
        "\"\"\"\n",
        "\n",
        "if not os.path.exists('ModelTesting/'):\n",
        "    os.mkdir(\"ModelTesting/\")\n",
        "def record(sec=3):\n",
        "    print(\"Start speaking!\")\n",
        "    now = datetime.now()\n",
        "    current_time = now.strftime(\"%Y-%m-%d_%H-%M-%S\")\n",
        "    display(Javascript(RECORD))\n",
        "    s = output.eval_js('record(%d)' % (sec*1000))\n",
        "    b = b64decode(s.split(',')[1])\n",
        "    with open('ModelTesting/audio_'+current_time+'.wav','wb') as f:\n",
        "        f.write(b)\n",
        "    return 'ModelTesting/audio_'+current_time+'.wav'\n",
        "test_i = record()\n",
        "pred = MODEL.predict(extract_feature(test_i).reshape(1,-1))\n",
        "idx_emotion = list(emotions.values()).index(pred[0])\n",
        "print(list(emotions.keys())[idx_emotion])\n",
        "ipd.Audio(test_i)"
      ],
      "id": "2d598770",
      "execution_count": null,
      "outputs": []
    },
    {
      "cell_type": "markdown",
      "metadata": {
        "id": "K7n58VaeWKGu"
      },
      "source": [
        "### Report Analysis\n",
        "\n",
        "- Report the accuracy for 10 live samples using the model trained on TESS+Ravdess+Team data\n",
        "- Discuss with the team mentor regarding deep learnt audio features. Read a related article [here](https://ieeexplore.ieee.org/stamp/stamp.jsp?arnumber=8805181).\n"
      ],
      "id": "K7n58VaeWKGu"
    }
  ]
}