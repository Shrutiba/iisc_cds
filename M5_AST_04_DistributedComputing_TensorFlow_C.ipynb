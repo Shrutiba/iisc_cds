{
  "nbformat": 4,
  "nbformat_minor": 5,
  "metadata": {
    "kernelspec": {
      "display_name": "Python 3",
      "language": "python",
      "name": "python3"
    },
    "language_info": {
      "codemirror_mode": {
        "name": "ipython",
        "version": 3
      },
      "file_extension": ".py",
      "mimetype": "text/x-python",
      "name": "python",
      "nbconvert_exporter": "python",
      "pygments_lexer": "ipython3",
      "version": "3.6.7rc1"
    },
    "colab": {
      "provenance": [],
      "include_colab_link": true
    }
  },
  "cells": [
    {
      "cell_type": "markdown",
      "metadata": {
        "id": "view-in-github",
        "colab_type": "text"
      },
      "source": [
        "<a href=\"https://colab.research.google.com/github/Shrutiba/iisc_cds/blob/main/M5_AST_04_DistributedComputing_TensorFlow_C.ipynb\" target=\"_parent\"><img src=\"https://colab.research.google.com/assets/colab-badge.svg\" alt=\"Open In Colab\"/></a>"
      ]
    },
    {
      "cell_type": "markdown",
      "metadata": {
        "id": "abroad-blackjack"
      },
      "source": [
        "# Advanced Certification Program in Computational Data Science\n",
        "## A program by IISc and TalentSprint\n",
        "### Assignment 4: Distributed Computing using TensorFlow"
      ],
      "id": "abroad-blackjack"
    },
    {
      "cell_type": "markdown",
      "metadata": {
        "id": "planned-bibliography"
      },
      "source": [
        "## Learning Objectives"
      ],
      "id": "planned-bibliography"
    },
    {
      "cell_type": "markdown",
      "metadata": {
        "id": "collective-treaty"
      },
      "source": [
        "At the end of the experiment, you will be able to:\n",
        "\n",
        "* understand basics of TensorFlow and its components\n",
        "* understand Data parallelism and multiprocessing\n",
        "* create a computational and default graph in TensorFlow to be computed on different processes\n",
        "* create a cluster and implement the server"
      ],
      "id": "collective-treaty"
    },
    {
      "cell_type": "markdown",
      "metadata": {
        "id": "stretch-russell"
      },
      "source": [
        "## Information"
      ],
      "id": "stretch-russell"
    },
    {
      "cell_type": "markdown",
      "metadata": {
        "id": "possible-struggle"
      },
      "source": [
        "#### Tensorflow in a nutshell\n",
        "\n",
        "- TensorFlow was originally created by Google as an internal machine learning tool, but its implementation was open sourced under the Apache 2.0 License in November 2015.\n",
        "- TensorFlow is an open-source end-to-end platform for creating Machine Learning applications.\n",
        "- It is a symbolic math library that uses dataflow and differentiable programming to perform various tasks focused on training and inference of deep neural networks.\n",
        "- It allows developers to create machine learning applications using various tools, libraries and community resources.\n",
        "\n",
        "To know more about Tensorflow click  [here](https://towardsdatascience.com/a-beginner-introduction-to-tensorflow-part-1-6d139e038278)\n"
      ],
      "id": "possible-struggle"
    },
    {
      "cell_type": "markdown",
      "source": [
        "### Setup Steps:"
      ],
      "metadata": {
        "id": "pTre-Z4Lahnj"
      },
      "id": "pTre-Z4Lahnj"
    },
    {
      "cell_type": "code",
      "source": [
        "#@title Please enter your registration id to start: { run: \"auto\", display-mode: \"form\" }\n",
        "Id = \"2417774\" #@param {type:\"string\"}"
      ],
      "metadata": {
        "id": "mEBKMbG9alom"
      },
      "id": "mEBKMbG9alom",
      "execution_count": 1,
      "outputs": []
    },
    {
      "cell_type": "code",
      "source": [
        "#@title Please enter your password (your registered phone number) to continue: { run: \"auto\", display-mode: \"form\" }\n",
        "password = \"9886610342\" #@param {type:\"string\"}"
      ],
      "metadata": {
        "id": "b0OXHbP_ar9y"
      },
      "id": "b0OXHbP_ar9y",
      "execution_count": 2,
      "outputs": []
    },
    {
      "cell_type": "code",
      "source": [
        "#@title Run this cell to complete the setup for this Notebook\n",
        "from IPython import get_ipython\n",
        "\n",
        "ipython = get_ipython()\n",
        "\n",
        "notebook= \"M5_AST_04_DistributedComputing_TensorFlow_C\" #name of the notebook\n",
        "\n",
        "def setup():\n",
        "#  ipython.magic(\"sx pip3 install torch\")\n",
        "    from IPython.display import HTML, display\n",
        "    display(HTML('<script src=\"https://dashboard.talentsprint.com/aiml/record_ip.html?traineeId={0}&recordId={1}\"></script>'.format(getId(),submission_id)))\n",
        "    print(\"Setup completed successfully\")\n",
        "    return\n",
        "\n",
        "def submit_notebook():\n",
        "    ipython.magic(\"notebook -e \"+ notebook + \".ipynb\")\n",
        "\n",
        "    import requests, json, base64, datetime\n",
        "\n",
        "    url = \"https://dashboard.talentsprint.com/xp/app/save_notebook_attempts\"\n",
        "    if not submission_id:\n",
        "      data = {\"id\" : getId(), \"notebook\" : notebook, \"mobile\" : getPassword()}\n",
        "      r = requests.post(url, data = data)\n",
        "      r = json.loads(r.text)\n",
        "\n",
        "      if r[\"status\"] == \"Success\":\n",
        "          return r[\"record_id\"]\n",
        "      elif \"err\" in r:\n",
        "        print(r[\"err\"])\n",
        "        return None\n",
        "      else:\n",
        "        print (\"Something is wrong, the notebook will not be submitted for grading\")\n",
        "        return None\n",
        "\n",
        "    elif getAnswer() and getComplexity() and getAdditional() and getConcepts() and getComments() and getMentorSupport():\n",
        "      f = open(notebook + \".ipynb\", \"rb\")\n",
        "      file_hash = base64.b64encode(f.read())\n",
        "\n",
        "      data = {\"complexity\" : Complexity, \"additional\" :Additional,\n",
        "              \"concepts\" : Concepts, \"record_id\" : submission_id,\n",
        "              \"answer\" : Answer, \"id\" : Id, \"file_hash\" : file_hash,\n",
        "              \"notebook\" : notebook,\n",
        "              \"feedback_experiments_input\" : Comments,\n",
        "              \"feedback_mentor_support\": Mentor_support}\n",
        "      r = requests.post(url, data = data)\n",
        "      r = json.loads(r.text)\n",
        "      if \"err\" in r:\n",
        "        print(r[\"err\"])\n",
        "        return None\n",
        "      else:\n",
        "        print(\"Your submission is successful.\")\n",
        "        print(\"Ref Id:\", submission_id)\n",
        "        print(\"Date of submission: \", r[\"date\"])\n",
        "        print(\"Time of submission: \", r[\"time\"])\n",
        "        print(\"View your submissions: https://learn-iisc.talentsprint.com/notebook_submissions\")\n",
        "        #print(\"For any queries/discrepancies, please connect with mentors through the chat icon in LMS dashboard.\")\n",
        "        return submission_id\n",
        "    else: submission_id\n",
        "\n",
        "\n",
        "def getAdditional():\n",
        "  try:\n",
        "    if not Additional:\n",
        "      raise NameError\n",
        "    else:\n",
        "      return Additional\n",
        "  except NameError:\n",
        "    print (\"Please answer Additional Question\")\n",
        "    return None\n",
        "\n",
        "def getComplexity():\n",
        "  try:\n",
        "    if not Complexity:\n",
        "      raise NameError\n",
        "    else:\n",
        "      return Complexity\n",
        "  except NameError:\n",
        "    print (\"Please answer Complexity Question\")\n",
        "    return None\n",
        "\n",
        "def getConcepts():\n",
        "  try:\n",
        "    if not Concepts:\n",
        "      raise NameError\n",
        "    else:\n",
        "      return Concepts\n",
        "  except NameError:\n",
        "    print (\"Please answer Concepts Question\")\n",
        "    return None\n",
        "\n",
        "\n",
        "# def getWalkthrough():\n",
        "#   try:\n",
        "#     if not Walkthrough:\n",
        "#       raise NameError\n",
        "#     else:\n",
        "#       return Walkthrough\n",
        "#   except NameError:\n",
        "#     print (\"Please answer Walkthrough Question\")\n",
        "#     return None\n",
        "\n",
        "def getComments():\n",
        "  try:\n",
        "    if not Comments:\n",
        "      raise NameError\n",
        "    else:\n",
        "      return Comments\n",
        "  except NameError:\n",
        "    print (\"Please answer Comments Question\")\n",
        "    return None\n",
        "\n",
        "\n",
        "def getMentorSupport():\n",
        "  try:\n",
        "    if not Mentor_support:\n",
        "      raise NameError\n",
        "    else:\n",
        "      return Mentor_support\n",
        "  except NameError:\n",
        "    print (\"Please answer Mentor support Question\")\n",
        "    return None\n",
        "\n",
        "def getAnswer():\n",
        "  try:\n",
        "    if not Answer:\n",
        "      raise NameError\n",
        "    else:\n",
        "      return Answer\n",
        "  except NameError:\n",
        "    print (\"Please answer Question\")\n",
        "    return None\n",
        "\n",
        "\n",
        "def getId():\n",
        "  try:\n",
        "    return Id if Id else None\n",
        "  except NameError:\n",
        "    return None\n",
        "\n",
        "def getPassword():\n",
        "  try:\n",
        "    return password if password else None\n",
        "  except NameError:\n",
        "    return None\n",
        "\n",
        "submission_id = None\n",
        "### Setup\n",
        "if getPassword() and getId():\n",
        "  submission_id = submit_notebook()\n",
        "  if submission_id:\n",
        "    setup()\n",
        "else:\n",
        "  print (\"Please complete Id and Password cells before running setup\")"
      ],
      "metadata": {
        "cellView": "form",
        "id": "vBM5GMjdbDv7",
        "outputId": "8985cb81-53dd-40ff-c483-5b9310601e79",
        "colab": {
          "base_uri": "https://localhost:8080/",
          "height": 35
        }
      },
      "id": "vBM5GMjdbDv7",
      "execution_count": 3,
      "outputs": [
        {
          "output_type": "display_data",
          "data": {
            "text/plain": [
              "<IPython.core.display.HTML object>"
            ],
            "text/html": [
              "<script src=\"https://dashboard.talentsprint.com/aiml/record_ip.html?traineeId=2417774&recordId=5417\"></script>"
            ]
          },
          "metadata": {}
        },
        {
          "output_type": "stream",
          "name": "stdout",
          "text": [
            "Setup completed successfully\n"
          ]
        }
      ]
    },
    {
      "cell_type": "markdown",
      "metadata": {
        "id": "requested-patio"
      },
      "source": [
        "#### Importing required packages"
      ],
      "id": "requested-patio"
    },
    {
      "cell_type": "code",
      "metadata": {
        "id": "focal-fraction"
      },
      "source": [
        "# Importing Numpy package\n",
        "import numpy as np\n",
        "# Importing  pyplot module from matplotlib package\n",
        "from matplotlib import pyplot as plt\n",
        "# compat allows you to write code that works both in TensorFlow 1\n",
        "import tensorflow.compat.v1 as tf"
      ],
      "id": "focal-fraction",
      "execution_count": 4,
      "outputs": []
    },
    {
      "cell_type": "code",
      "metadata": {
        "id": "liberal-planner",
        "outputId": "d2a53632-c024-4a73-eb39-ce8d56aecf3b",
        "colab": {
          "base_uri": "https://localhost:8080/",
          "height": 35
        }
      },
      "source": [
        "# Check the version of TensorFlow\n",
        "tf.__version__"
      ],
      "id": "liberal-planner",
      "execution_count": 5,
      "outputs": [
        {
          "output_type": "execute_result",
          "data": {
            "text/plain": [
              "'2.18.0'"
            ],
            "application/vnd.google.colaboratory.intrinsic+json": {
              "type": "string"
            }
          },
          "metadata": {},
          "execution_count": 5
        }
      ]
    },
    {
      "cell_type": "markdown",
      "metadata": {
        "id": "moderate-yahoo"
      },
      "source": [
        "Now let us see how to define a tensor"
      ],
      "id": "moderate-yahoo"
    },
    {
      "cell_type": "code",
      "metadata": {
        "id": "friendly-kruger",
        "outputId": "bf2be42d-31cc-4e0d-b2e5-5dd3d0deb7aa",
        "colab": {
          "base_uri": "https://localhost:8080/"
        }
      },
      "source": [
        "# This will create an int32 tensor by default\n",
        "IntTensor = tf.constant(8) # Creates a constant tensor from a tensor-like object.\n",
        "# Displaying the value of IntTensor\n",
        "print(IntTensor)"
      ],
      "id": "friendly-kruger",
      "execution_count": 6,
      "outputs": [
        {
          "output_type": "stream",
          "name": "stdout",
          "text": [
            "tf.Tensor(8, shape=(), dtype=int32)\n"
          ]
        }
      ]
    },
    {
      "cell_type": "markdown",
      "metadata": {
        "id": "previous-viewer"
      },
      "source": [
        "To know more about tf.constant function click [here](https://docs.w3cub.com/tensorflow~python/tf/constant)"
      ],
      "id": "previous-viewer"
    },
    {
      "cell_type": "markdown",
      "metadata": {
        "id": "racial-charity"
      },
      "source": [
        "Now let us see how to define a **TensorFlow** variable. A TensorFlow variable maintains a shared, persistent state and can be manipulated by a program."
      ],
      "id": "racial-charity"
    },
    {
      "cell_type": "code",
      "metadata": {
        "id": "renewable-vitamin",
        "outputId": "b357cade-467b-489d-8572-962ddadb9bd7",
        "colab": {
          "base_uri": "https://localhost:8080/"
        }
      },
      "source": [
        "# Variables can be all kinds of types, just like tensors.\n",
        "# We will create two variables of float type\n",
        "# variable 1\n",
        "a = tf.Variable(3.0, dtype=tf.float32)\n",
        "# variable 2\n",
        "b = tf.Variable(-3.0, dtype=tf.float32)\n",
        "# Displaying the values of a and b variables\n",
        "print(a, b)"
      ],
      "id": "renewable-vitamin",
      "execution_count": 7,
      "outputs": [
        {
          "output_type": "stream",
          "name": "stdout",
          "text": [
            "<tf.Variable 'Variable:0' shape=() dtype=float32, numpy=3.0> <tf.Variable 'Variable:0' shape=() dtype=float32, numpy=-3.0>\n"
          ]
        }
      ]
    },
    {
      "cell_type": "markdown",
      "metadata": {
        "id": "nervous-damages"
      },
      "source": [
        "To know more about tf.Variable function click [here](https://docs.w3cub.com/tensorflow~python/tf/variable)"
      ],
      "id": "nervous-damages"
    },
    {
      "cell_type": "markdown",
      "metadata": {
        "id": "blond-extent"
      },
      "source": [
        "Now let us define a graph with a variable and perform below operations:\n",
        "  - *variable* returns the current value of our variable\n",
        "  - *initialize* assigns the initial value of 42 to that variable\n",
        "  - *assign* assigns the new value of 13 to that variable"
      ],
      "id": "blond-extent"
    },
    {
      "cell_type": "code",
      "metadata": {
        "id": "dependent-camera",
        "outputId": "3ad4a8e3-6cd5-40f6-cce1-19ccbd87f294",
        "colab": {
          "base_uri": "https://localhost:8080/"
        }
      },
      "source": [
        "# A TensorFlow computation, represented as a dataflow graph.\n",
        "# Creating the graph\n",
        "graph = tf.Graph()\n",
        "with graph.as_default():\n",
        "    # Creating the variable which returns the current value of the variable\n",
        "    variable = tf.Variable(42, name='number')\n",
        "    # Initializing the value\n",
        "    initialize = tf.global_variables_initializer()\n",
        "    # asssigning new value\n",
        "    assign = variable.assign(13)\n",
        "# Printing the variable\n",
        "print(variable)\n",
        "# Printing the variable after assigning a new value to it\n",
        "print(assign)"
      ],
      "id": "dependent-camera",
      "execution_count": 8,
      "outputs": [
        {
          "output_type": "stream",
          "name": "stdout",
          "text": [
            "<tf.Variable 'number:0' shape=() dtype=int32>\n",
            "<tf.Variable 'AssignVariableOp' shape=() dtype=int32>\n"
          ]
        }
      ]
    },
    {
      "cell_type": "markdown",
      "metadata": {
        "id": "undefined-mainland"
      },
      "source": [
        "To know more about tf.Graph function click [here](https://docs.w3cub.com/tensorflow~python/tf/graph)"
      ],
      "id": "undefined-mainland"
    },
    {
      "cell_type": "markdown",
      "metadata": {
        "id": "center-powell"
      },
      "source": [
        "**Note:** TensorFlow creates a default graph for you, so we don’t need the first two lines of the code above. The default graph is also what the sessions in the next section use when not manually specifying a graph."
      ],
      "id": "center-powell"
    },
    {
      "cell_type": "markdown",
      "metadata": {
        "id": "honey-thumb"
      },
      "source": [
        "#### Running Computations in a Session\n",
        "\n",
        "To run any of the three defined operations, we need to create a session for that graph. The session will also allocate memory to store the current value of the variable."
      ],
      "id": "honey-thumb"
    },
    {
      "cell_type": "code",
      "metadata": {
        "id": "narrow-thailand",
        "outputId": "3f1344ad-0adb-4bda-e806-64585b777ed1",
        "colab": {
          "base_uri": "https://localhost:8080/"
        }
      },
      "source": [
        "# Create the session\n",
        "with tf.Session(graph=graph) as sess:\n",
        "    # Using the graph variables\n",
        "    sess.run(initialize)\n",
        "    sess.run(assign)\n",
        "    # Displaying the result\n",
        "    print(sess.run(variable))"
      ],
      "id": "narrow-thailand",
      "execution_count": 9,
      "outputs": [
        {
          "output_type": "stream",
          "name": "stdout",
          "text": [
            "13\n"
          ]
        }
      ]
    },
    {
      "cell_type": "markdown",
      "metadata": {
        "id": "declared-hollywood"
      },
      "source": [
        "The value of our variable is only valid within one session.\n",
        "\n",
        "To know about tf.Session function click [here](https://docs.w3cub.com/tensorflow~python/tf/session)\n",
        "\n",
        "**Note:** If we try to query the value afterwards in a second session, TensorFlow will <font color=\"red\">raise an error</font> because the variable is not initialized there. Let us try this now"
      ],
      "id": "declared-hollywood"
    },
    {
      "cell_type": "code",
      "metadata": {
        "id": "surprising-birmingham",
        "outputId": "6c7b76e4-c7fa-4651-cb30-ae187cadc6a5",
        "colab": {
          "base_uri": "https://localhost:8080/"
        }
      },
      "source": [
        "# Error: Attempting to use uninitialized value\n",
        "# Using try-except block to catch the error\n",
        "try:\n",
        "    with tf.Session(graph=graph) as sess: # Creating a session 2\n",
        "        # Trying to access the variable defined in session 1\n",
        "        print(sess.run(variable))\n",
        "except:\n",
        "    print(\"This is an Error\")\n"
      ],
      "id": "surprising-birmingham",
      "execution_count": 10,
      "outputs": [
        {
          "output_type": "stream",
          "name": "stdout",
          "text": [
            "This is an Error\n"
          ]
        }
      ]
    },
    {
      "cell_type": "markdown",
      "metadata": {
        "id": "bored-snowboard"
      },
      "source": [
        "**Note:** we can use the graph in more than one session, we just have to initialize the variables again. The values in the new session will be completely independent from the first one:"
      ],
      "id": "bored-snowboard"
    },
    {
      "cell_type": "code",
      "metadata": {
        "id": "measured-material",
        "outputId": "bdee6b6a-3b11-45be-f628-4aa19d6ac0e3",
        "colab": {
          "base_uri": "https://localhost:8080/"
        }
      },
      "source": [
        "# Creating a session 3\n",
        "with tf.Session(graph=graph) as sess:\n",
        "    # Initializing the graph variables\n",
        "    sess.run(initialize)\n",
        "    # Displaing the result\n",
        "    print(sess.run(variable))"
      ],
      "id": "measured-material",
      "execution_count": 11,
      "outputs": [
        {
          "output_type": "stream",
          "name": "stdout",
          "text": [
            "42\n"
          ]
        }
      ]
    },
    {
      "cell_type": "code",
      "metadata": {
        "id": "educated-barrel",
        "outputId": "3e3fc584-f08e-42be-efdb-9613efba1314",
        "colab": {
          "base_uri": "https://localhost:8080/"
        }
      },
      "source": [
        "# Defining a matrix1 with all 2's\n",
        "matrix1 = np.array([(2,2,2),(2,2,2),(2,2,2)])\n",
        "# Defining a matrix2 with all 1's\n",
        "matrix2 = np.array([(1,1,1),(1,1,1),(1,1,1)])\n",
        "# Creating a session\n",
        "with tf.Session() as sess:\n",
        "    # Converting matrix i.e numpy array to tensor\n",
        "    matrix1 = tf.constant(matrix1)\n",
        "    # Converting matrix i.e numpy array to tensor\n",
        "    matrix2 = tf.constant(matrix2)\n",
        "    # Performing addition of two matrices\n",
        "    result = sess.run(tf.add(matrix1,matrix2))\n",
        "# Displaying the result\n",
        "print(result)"
      ],
      "id": "educated-barrel",
      "execution_count": 12,
      "outputs": [
        {
          "output_type": "stream",
          "name": "stdout",
          "text": [
            "[[3 3 3]\n",
            " [3 3 3]\n",
            " [3 3 3]]\n"
          ]
        }
      ]
    },
    {
      "cell_type": "markdown",
      "metadata": {
        "id": "motivated-applicant"
      },
      "source": [
        "### Distributed computing\n",
        "\n",
        "TensorFlow supports distributed computing, allowing portions of the graph to be computed on different processes, which may be on completely different servers! In addition, this can be used to distribute computation to servers with powerful GPUs, and have other computations done on servers with more memory, and so on."
      ],
      "id": "motivated-applicant"
    },
    {
      "cell_type": "code",
      "metadata": {
        "id": "toxic-lancaster",
        "outputId": "a8723c97-13e0-40e6-aaf6-e6b2db0cc268",
        "colab": {
          "base_uri": "https://localhost:8080/"
        }
      },
      "source": [
        "# Disable the eager execution\n",
        "tf.disable_eager_execution() # This function can only be called before any Graphs, Ops, or Tensors have been created.\n",
        "\n",
        "# creating a server\n",
        "server = tf.train.Server.create_local_server() # Creates a new single-process cluster running on the local host.\n",
        "# Create a session on the server\n",
        "sess = tf.Session(server.target)\n",
        "# Creating a tensor\n",
        "c = tf.constant(\"Hello, distributed TensorFlow!\")\n",
        "# Running the code in the session\n",
        "sess.run(c)"
      ],
      "id": "toxic-lancaster",
      "execution_count": 13,
      "outputs": [
        {
          "output_type": "execute_result",
          "data": {
            "text/plain": [
              "b'Hello, distributed TensorFlow!'"
            ]
          },
          "metadata": {},
          "execution_count": 13
        }
      ]
    },
    {
      "cell_type": "markdown",
      "metadata": {
        "id": "sealed-coaching"
      },
      "source": [
        "To know about click tf.train.Server.create_local_server function [here](https://docs1.w3cub.com/tensorflow~python/tf/train/server/create_local_server/)"
      ],
      "id": "sealed-coaching"
    },
    {
      "cell_type": "markdown",
      "metadata": {
        "id": "equal-cabin"
      },
      "source": [
        "TensorFlow works like a server-client model. The idea is to create a bunch of workers that will perform the heavy lifting. Then we create a session on one of those workers, and it will compute the graph, possibly distributing parts of it to other clusters on the server.\n",
        "\n",
        "Now let us create a cluster using ClusterSpec function, to pass information to all workers. A ClusterSpec is built using a dictionary, where the key is a “job name”, and each job contains many workers."
      ],
      "id": "equal-cabin"
    },
    {
      "cell_type": "code",
      "metadata": {
        "id": "published-newman"
      },
      "source": [
        "# Cluster holding the no.of workers\n",
        "# Represents a cluster as a set of \"tasks\", organized into \"jobs\".\n",
        "cluster = tf.train.ClusterSpec({\"ps\": [\"localhost:65062\"], \"local\": [\"localhost:65063\",\"localhost:65064\"]})"
      ],
      "id": "published-newman",
      "execution_count": 14,
      "outputs": []
    },
    {
      "cell_type": "markdown",
      "metadata": {
        "id": "copyrighted-bowling"
      },
      "source": [
        "To know about tf.train.ClusterSpec function click [here](https://docs.w3cub.com/tensorflow~python/tf/train/clusterspec)"
      ],
      "id": "copyrighted-bowling"
    },
    {
      "cell_type": "markdown",
      "metadata": {
        "id": "statutory-arrival"
      },
      "source": [
        "With Distributed TensorFlow, each process runs a special execution engine: a TensorFlow server. Servers are linked together as part of a cluster. (Each server in the cluster is also known as a task.)\n",
        "\n",
        "Now let us create servers and graph one of the worker from cluster by specifying the task_index. where job name `ps` species the parameters setting and `local` are the other workers."
      ],
      "id": "statutory-arrival"
    },
    {
      "cell_type": "code",
      "metadata": {
        "id": "filled-houston"
      },
      "source": [
        "# task_index in each server is associated with the job\n",
        "# Using try-except block to catch the errors\n",
        "try:\n",
        "    # Creating Server 1 with ps as its name\n",
        "    server1 = tf.train.Server(cluster, job_name=\"ps\", task_index=0)\n",
        "    # Creating Server 2 with local as its name\n",
        "    server2 = tf.train.Server(cluster, job_name=\"local\", task_index=0)\n",
        "    # Creating Server 3 with local as its name\n",
        "    server3 = tf.train.Server(cluster, job_name=\"local\", task_index=1)\n",
        "except:\n",
        "    # Displaying the message when the servers are already running\n",
        "    print(\"Servers started already\")"
      ],
      "id": "filled-houston",
      "execution_count": 15,
      "outputs": []
    },
    {
      "cell_type": "markdown",
      "metadata": {
        "id": "twelve-niger"
      },
      "source": [
        "From the above code, we can say that with the servers linked together in the same cluster, we can now experience the main magic of Distributed TensorFlow: any variable with the same name will be shared between all servers.\n",
        "\n",
        "Now let us create two constants a and b i.e tensors in server1"
      ],
      "id": "twelve-niger"
    },
    {
      "cell_type": "code",
      "metadata": {
        "id": "terminal-bedroom"
      },
      "source": [
        "# server1\n",
        "with tf.Session(server1.target) as sess: # Creating a session\n",
        "    # Initializing the values\n",
        "    a = tf.constant(3.0, dtype=tf.float32) # Tensor 1\n",
        "    b = tf.constant(4.0)  # Tensor 2\n",
        "    # Running the values on the session\n",
        "    sess.run(a)"
      ],
      "id": "terminal-bedroom",
      "execution_count": 16,
      "outputs": []
    },
    {
      "cell_type": "markdown",
      "metadata": {
        "id": "diagnostic-mobility"
      },
      "source": [
        "Now let us add up the two values that we have created in server1 and update them in server 2"
      ],
      "id": "diagnostic-mobility"
    },
    {
      "cell_type": "code",
      "metadata": {
        "id": "positive-reach",
        "outputId": "23118b56-7202-4a0e-a819-b71e0d59889f",
        "colab": {
          "base_uri": "https://localhost:8080/"
        }
      },
      "source": [
        "# server2\n",
        "with tf.Session(server2.target) as sess: # Creating a session\n",
        "    # Initializing the global values in server2\n",
        "    # init = tf.global_variables_initializer()\n",
        "    # Adding the values a, b we have created in server 1\n",
        "    add_node = tf.add(a,b)\n",
        "    # Running the values on session\n",
        "    # sess.run(init)\n",
        "    # Displaying the result\n",
        "    print(sess.run(add_node))"
      ],
      "id": "positive-reach",
      "execution_count": 17,
      "outputs": [
        {
          "output_type": "stream",
          "name": "stdout",
          "text": [
            "7.0\n"
          ]
        }
      ]
    },
    {
      "cell_type": "markdown",
      "metadata": {
        "id": "attached-throat"
      },
      "source": [
        "Now let us try to change the value of a in  server 3"
      ],
      "id": "attached-throat"
    },
    {
      "cell_type": "code",
      "metadata": {
        "id": "impossible-substitute",
        "outputId": "d356d285-3d99-42d3-f8d3-f9ce1998b504",
        "colab": {
          "base_uri": "https://localhost:8080/"
        }
      },
      "source": [
        "# server3\n",
        "with tf.Session(server3.target) as sess:\n",
        "    # Initializing the global values in server3\n",
        "    # init = tf.global_variables_initializer()\n",
        "    # changing the value of global variable a\n",
        "    a = tf.constant(9.0, dtype=tf.float32)\n",
        "    # Adding the values a, b we have created in server 1\n",
        "    add_node = tf.add(a,b)\n",
        "    # Running the values on session\n",
        "    # sess.run(init)\n",
        "    # change the values of a\n",
        "    a = add_node\n",
        "    # Displaying the result\n",
        "    print(sess.run(add_node))"
      ],
      "id": "impossible-substitute",
      "execution_count": 18,
      "outputs": [
        {
          "output_type": "stream",
          "name": "stdout",
          "text": [
            "13.0\n"
          ]
        }
      ]
    },
    {
      "cell_type": "markdown",
      "metadata": {
        "id": "supported-right"
      },
      "source": [
        "Now let us check the variable values of a and b in each server, after performing operations on a and b in different servers"
      ],
      "id": "supported-right"
    },
    {
      "cell_type": "code",
      "metadata": {
        "id": "medium-algorithm",
        "outputId": "62592a67-8494-4fca-f477-5f152abc44ae",
        "colab": {
          "base_uri": "https://localhost:8080/"
        }
      },
      "source": [
        "# server1 a and b values\n",
        "with tf.Session(server1.target) as sess: # Creating a session\n",
        "    print(sess.run(a)) # Prints value of variable a\n",
        "    print(sess.run(b)) # Prints value of variable b\n",
        "    print(sess.run(add_node))"
      ],
      "id": "medium-algorithm",
      "execution_count": 19,
      "outputs": [
        {
          "output_type": "stream",
          "name": "stdout",
          "text": [
            "13.0\n",
            "4.0\n",
            "13.0\n"
          ]
        }
      ]
    },
    {
      "cell_type": "code",
      "metadata": {
        "id": "unique-boutique",
        "outputId": "f9fbf6ad-1fda-4d6f-837e-45990857c980",
        "colab": {
          "base_uri": "https://localhost:8080/"
        }
      },
      "source": [
        "# values of a and b in server2\n",
        "with tf.Session(server2.target) as sess: # Creating a session\n",
        "    print(sess.run(a)) # Prints value of variable a\n",
        "    print(sess.run(b)) # Prints value of variable b\n",
        "    print(sess.run(add_node))"
      ],
      "id": "unique-boutique",
      "execution_count": 20,
      "outputs": [
        {
          "output_type": "stream",
          "name": "stdout",
          "text": [
            "13.0\n",
            "4.0\n",
            "13.0\n"
          ]
        }
      ]
    },
    {
      "cell_type": "markdown",
      "metadata": {
        "id": "sensitive-lightweight"
      },
      "source": [
        "### Map Reduce\n",
        "\n",
        "Map Reduce is a popular paradigm for performing large operations. It is composed of two major steps Map, Reduce"
      ],
      "id": "sensitive-lightweight"
    },
    {
      "cell_type": "code",
      "metadata": {
        "id": "permanent-furniture",
        "outputId": "df3ff8d5-7453-4b85-ddff-acba4827e355",
        "colab": {
          "base_uri": "https://localhost:8080/"
        }
      },
      "source": [
        "# take this list of things, and apply this function to each of them\n",
        "\n",
        "def myfunction(x):\n",
        "    # adding the value with 5\n",
        "    return x + 5\n",
        "# Appyling myfunction on a list [1, 2, 3]\n",
        "map_result = map(myfunction, [1, 2, 3])\n",
        "# Displaying the result\n",
        "print(list(map_result))"
      ],
      "id": "permanent-furniture",
      "execution_count": 21,
      "outputs": [
        {
          "output_type": "stream",
          "name": "stdout",
          "text": [
            "[6, 7, 8]\n"
          ]
        }
      ]
    },
    {
      "cell_type": "markdown",
      "metadata": {
        "id": "lesser-friend"
      },
      "source": [
        "To know more about python map function click [here](https://docs.python.org/3/library/functions.html#map)"
      ],
      "id": "lesser-friend"
    },
    {
      "cell_type": "markdown",
      "metadata": {
        "id": "aerial-signature"
      },
      "source": [
        "**reduce** means “take this list of things, and combine them using this function”. A common reduce operation is sum – i.e “take this list of numbers and combine them by adding them all up”, which can be performed by creating a function that adds two numbers. What reduce does is takes the first two values of the list, performs the function, takes the result, and then performs the function with the result and the next value. For sum, we add the first two numbers, take the result, add it with out next number, and so on until we hit the end of the list. Again, reduce is part of normal python (although it isn’t distributed):"
      ],
      "id": "aerial-signature"
    },
    {
      "cell_type": "code",
      "metadata": {
        "id": "flush-harrison",
        "outputId": "ed53be6c-8166-43b3-f880-1e35015a72c4",
        "colab": {
          "base_uri": "https://localhost:8080/"
        }
      },
      "source": [
        "from functools import reduce # Importing reduce function from the functools package\n",
        "# Defining a function to add two values\n",
        "def add(a, b):\n",
        "    # returning the sum of two values\n",
        "    return a + b\n",
        "# Applying add function on the list [1, 2, 3] and finding the cumulative sum using reduce function\n",
        "print(reduce(add, [1, 2, 3]))"
      ],
      "id": "flush-harrison",
      "execution_count": 22,
      "outputs": [
        {
          "output_type": "stream",
          "name": "stdout",
          "text": [
            "6\n"
          ]
        }
      ]
    },
    {
      "cell_type": "markdown",
      "metadata": {
        "id": "constant-workshop"
      },
      "source": [
        "To know more about python reduce function click [here](https://docs.python.org/3/library/functools.html#functools.reduce)"
      ],
      "id": "constant-workshop"
    },
    {
      "cell_type": "markdown",
      "metadata": {
        "id": "synthetic-think"
      },
      "source": [
        "In Distributed TensorFlow, performing map and reduce operations is a key building block of many non-trivial programs. For example, an ensemble learning may send individual machine learning models to multiple workers, and then combine the classifications to form the final result."
      ],
      "id": "synthetic-think"
    },
    {
      "cell_type": "code",
      "metadata": {
        "id": "religious-exposure",
        "outputId": "96f690b5-888f-4c3d-da2d-3b77e33bfc0d",
        "colab": {
          "base_uri": "https://localhost:8080/"
        }
      },
      "source": [
        "# Disabling the eager execution function\n",
        "tf.disable_eager_execution()\n",
        "\n",
        "# Inserts a placeholder for a tensor that will be always fed.\n",
        "x = tf.placeholder(tf.float32, 1000)\n",
        "# Creating a session\n",
        "with tf.Session() as sess:\n",
        "    # Computes the mean of elements across dimensions of a tensor.\n",
        "    result = sess.run(tf.reduce_mean(x), feed_dict={x: np.random.random(1000)})\n",
        "    # Displaying the result\n",
        "    print(result)"
      ],
      "id": "religious-exposure",
      "execution_count": 23,
      "outputs": [
        {
          "output_type": "stream",
          "name": "stdout",
          "text": [
            "0.5106675\n"
          ]
        }
      ]
    },
    {
      "cell_type": "markdown",
      "metadata": {
        "id": "manufactured-ladder"
      },
      "source": [
        "- To know more about tf.placeholder function click [here](https://docs.w3cub.com/tensorflow~python/tf/placeholder)\n",
        "- To know more about tf.reduce_mean function click [here](https://docs.w3cub.com/tensorflow~python/tf/reduce_mean)\n",
        "- To know more about map reduce click [here](https://cdn.exec.talentsprint.com/static/cds/content/mapreduce.pdf)"
      ],
      "id": "manufactured-ladder"
    },
    {
      "cell_type": "markdown",
      "metadata": {
        "id": "announced-focus"
      },
      "source": [
        "### Linear Model using TensorFlow\n",
        "\n",
        "We consider a simple equation y = 2 * x + 4"
      ],
      "id": "announced-focus"
    },
    {
      "cell_type": "code",
      "metadata": {
        "id": "based-processor",
        "outputId": "38541bd7-9bb7-4247-9192-9c8941711aa3",
        "colab": {
          "base_uri": "https://localhost:8080/",
          "height": 430
        }
      },
      "source": [
        "# creating an array\n",
        "x_train = np.random.rand(100).astype(np.float32)\n",
        "\n",
        "# noise is added to randomize the data\n",
        "noise = np.random.normal(scale=0.1, size=len(x_train))\n",
        "# applying the equation to store the ground truth\n",
        "y_train = 2*x_train + 4 + noise\n",
        "\n",
        "# plot the data\n",
        "plt.plot(x_train, y_train, '.');"
      ],
      "id": "based-processor",
      "execution_count": 24,
      "outputs": [
        {
          "output_type": "display_data",
          "data": {
            "text/plain": [
              "<Figure size 640x480 with 1 Axes>"
            ],
            "image/png": "[encoded data removed]"
          },
          "metadata": {}
        }
      ]
    },
    {
      "cell_type": "markdown",
      "metadata": {
        "id": "spare-doubt"
      },
      "source": [
        "#### Placeholders\n",
        "\n",
        "A placeholder is simply a variable that we will assign data to it later. It allows us to create our operations and build our computation graph, without needing the data. In TensorFlow terminology, we then feed data into the graph through these placeholders.\n",
        "\n",
        "Now let us define a placeholder to hold the values of weight and bias"
      ],
      "id": "spare-doubt"
    },
    {
      "cell_type": "code",
      "metadata": {
        "id": "described-burns"
      },
      "source": [
        "# place holder for input to use in the model\n",
        "x = tf.placeholder(tf.float64)\n",
        "\n",
        "# Weight, bias are defined (assumed)\n",
        "W = tf.placeholder(tf.float64)\n",
        "b = tf.placeholder(tf.float64)\n",
        "# Linear model\n",
        "linear_model = W * x + b"
      ],
      "id": "described-burns",
      "execution_count": 25,
      "outputs": []
    },
    {
      "cell_type": "markdown",
      "metadata": {
        "id": "interstate-cattle"
      },
      "source": [
        "#### Apply the linear model\n",
        "\n",
        "Now let us create a session and apply the linear model\n",
        "\n",
        "* Estimate coefficients using x_train and y_train\n",
        "\n",
        "* Feed the data  to place holders defined in linear model\n",
        "\n",
        "* Evaluate the model and get the predicted data"
      ],
      "id": "interstate-cattle"
    },
    {
      "cell_type": "code",
      "metadata": {
        "id": "signed-classification",
        "outputId": "5be40f45-0ce0-4a62-a95b-630b5e00d5c3",
        "colab": {
          "base_uri": "https://localhost:8080/"
        }
      },
      "source": [
        "# Creating a session\n",
        "with tf.Session() as sess:\n",
        "    # Initialize the global variables\n",
        "    sess.run(tf.global_variables_initializer())\n",
        "    # Estimating the coefficients\n",
        "    b1 = np.cov(x_train, y_train)[0][1] / np.var(x_train)\n",
        "    b0 = np.mean(y_train) - b1 * np.mean(x_train)\n",
        "    # evaluate the model to get predicted values\n",
        "    y_pred = linear_model.eval(feed_dict={x: x_train, W:b1, b:b0})\n",
        "    # Displaying the results\n",
        "    print(y_pred)"
      ],
      "id": "signed-classification",
      "execution_count": 26,
      "outputs": [
        {
          "output_type": "stream",
          "name": "stdout",
          "text": [
            "[5.825598   4.90061934 5.27493036 4.04340859 4.38421059 4.08378071\n",
            " 4.22264049 4.13721266 5.23870085 5.3934676  4.87483591 5.63164777\n",
            " 4.78974783 5.80405712 4.18107198 5.91246984 5.64968005 5.21491684\n",
            " 5.96930149 3.99639582 4.9237611  5.97328686 4.98028307 5.80884656\n",
            " 4.60537671 4.24280608 5.57889898 4.07056493 4.81341072 4.75713985\n",
            " 4.51517076 4.48569777 5.68385151 5.55427232 4.50819942 5.83576014\n",
            " 5.33631218 5.28244373 5.92808315 4.71430045 5.57195552 4.0080032\n",
            " 5.30848874 5.79963452 4.97081667 5.43593815 5.74161137 5.72151168\n",
            " 5.16623684 4.5561625  4.56302626 5.72320787 4.97334806 4.37831458\n",
            " 5.39335234 4.42419755 4.04413072 4.01480155 4.55750517 5.76499825\n",
            " 4.22735146 5.84782237 5.29499396 4.03628445 5.20779291 4.28737303\n",
            " 5.33210814 5.14280843 5.95909711 4.12842948 4.67183652 4.36652449\n",
            " 5.01476545 4.06770382 4.55965754 5.06016559 4.93507013 4.91862382\n",
            " 5.95096533 4.25197549 5.07839679 5.41214728 4.60719982 5.0075562\n",
            " 4.56312134 5.92943002 5.31448068 4.71816292 5.48948652 4.20755465\n",
            " 5.31739749 5.84135366 4.88402997 5.97755314 4.42613817 4.15611776\n",
            " 5.88689935 5.0207174  5.44265477 5.88080635]\n"
          ]
        }
      ]
    },
    {
      "cell_type": "markdown",
      "metadata": {
        "id": "passive-cameroon"
      },
      "source": [
        "#### Plot the predicted line on the data"
      ],
      "id": "passive-cameroon"
    },
    {
      "cell_type": "code",
      "metadata": {
        "id": "velvet-figure",
        "outputId": "0920fc5a-ba64-43dc-a425-46afabc502c5",
        "colab": {
          "base_uri": "https://localhost:8080/",
          "height": 430
        }
      },
      "source": [
        "plt.plot(x_train, y_train, '.')\n",
        "plt.plot(x_train, y_pred);"
      ],
      "id": "velvet-figure",
      "execution_count": 27,
      "outputs": [
        {
          "output_type": "display_data",
          "data": {
            "text/plain": [
              "<Figure size 640x480 with 1 Axes>"
            ],
            "image/png": "[encoded data removed]"
          },
          "metadata": {}
        }
      ]
    },
    {
      "cell_type": "markdown",
      "metadata": {
        "id": "reasonable-dragon"
      },
      "source": [
        "#### Calculate the loss\n",
        "\n",
        "Now lets calculate the loss of linear model and execute using another session"
      ],
      "id": "reasonable-dragon"
    },
    {
      "cell_type": "code",
      "metadata": {
        "id": "efficient-mount",
        "outputId": "b8b171a6-4a99-498b-fff7-3abc52d1b683",
        "colab": {
          "base_uri": "https://localhost:8080/"
        }
      },
      "source": [
        "# Subgraph to get a vector of sq. errs.\n",
        "squared_deltas = tf.square(linear_model - y_train, name=\"sq_err\")\n",
        "# calculate the loss\n",
        "loss = tf.reduce_sum(squared_deltas, name=\"sq_err_sum\")\n",
        "with tf.Session() as sess: # Creating a session 2\n",
        "    # Initialize the global variables\n",
        "    sess.run(tf.global_variables_initializer())\n",
        "    # Calculating the loss\n",
        "    los = sess.run(loss, {x:x_train, W:b1, b:b0})\n",
        "    # Displaying the loss value\n",
        "    print(los)"
      ],
      "id": "efficient-mount",
      "execution_count": 28,
      "outputs": [
        {
          "output_type": "stream",
          "name": "stdout",
          "text": [
            "0.8276506705062275\n"
          ]
        }
      ]
    },
    {
      "cell_type": "markdown",
      "metadata": {
        "id": "brown-sleeping"
      },
      "source": [
        "To know more about the tf.reduce_sum click [here](https://docs.w3cub.com/tensorflow~python/tf/reduce_sum)"
      ],
      "id": "brown-sleeping"
    },
    {
      "cell_type": "markdown",
      "source": [
        "###Simple XOR Logic operation using a Neural Network"
      ],
      "metadata": {
        "id": "aGf3S3aKY3nT"
      },
      "id": "aGf3S3aKY3nT"
    },
    {
      "cell_type": "markdown",
      "source": [
        "**Defining XOR Truth Table with input and output data:**"
      ],
      "metadata": {
        "id": "R1GPH7VyayRU"
      },
      "id": "R1GPH7VyayRU"
    },
    {
      "cell_type": "code",
      "source": [
        "import numpy as np\n",
        "\n",
        "# Defining input and output data\n",
        "X = np.array([[0, 0], [0, 1], [1, 0], [1, 1]])  # Input data (4 samples, 2 features)\n",
        "Y = np.array([[0], [1], [1], [0]])              # Output data (4 samples, 1 output)"
      ],
      "metadata": {
        "id": "vKlDWPgSZBVk"
      },
      "id": "vKlDWPgSZBVk",
      "execution_count": 30,
      "outputs": []
    },
    {
      "cell_type": "markdown",
      "source": [
        "**Define the Neural Network architecture:**"
      ],
      "metadata": {
        "id": "muJblmzraIOg"
      },
      "id": "muJblmzraIOg"
    },
    {
      "cell_type": "code",
      "source": [
        "input_size = 2\n",
        "hidden_size = 4\n",
        "output_size = 1"
      ],
      "metadata": {
        "id": "hMZuBEaGZJW2"
      },
      "id": "hMZuBEaGZJW2",
      "execution_count": 31,
      "outputs": []
    },
    {
      "cell_type": "markdown",
      "source": [
        "* input_size: This variable basically represents the number of input features. In this example, it indicates the number of columns in the input data matrix X.\n",
        "\n",
        "* hidden_size: This variable represents the number of neurons (or units) in the hidden layer of the neural network. In this particular implementation, we have 4 no. of neurons in the hidden layer. It determines the dimensionality of the hidden layer.\n",
        "\n",
        "* output_size: This variable represents the number of output neurons in the neural network. In this example, it indicates there is one output neuron present in the output layer.\n",
        "The no. of output neurons is typically determined by the number of classes in a classification task or the dimensionality of the output in a regression task.\n",
        "\n",
        "These variables help us to define the size and structure of the neural network, allowing us to specify the number of input features, the size of the hidden layer, and the number of output neurons in a Neural Network."
      ],
      "metadata": {
        "id": "Y5tUg3thet2_"
      },
      "id": "Y5tUg3thet2_"
    },
    {
      "cell_type": "markdown",
      "source": [
        "**Initialize the weights and biases for the Neural Network:**"
      ],
      "metadata": {
        "id": "TZFi1VagZ-iX"
      },
      "id": "TZFi1VagZ-iX"
    },
    {
      "cell_type": "code",
      "source": [
        "W1 = np.random.randn(input_size, hidden_size)  # Weights for input to hidden layer\n",
        "b1 = np.zeros((1, hidden_size))                # Biases for hidden layer\n",
        "W2 = np.random.randn(hidden_size, output_size) # Weights for hidden to output layer\n",
        "b2 = np.zeros((1, output_size))                # Biases for output layer\n",
        "print(\"W1:\", W1)"
      ],
      "metadata": {
        "id": "Qcto4xiSZNTm",
        "outputId": "83785c73-5143-4f9f-c107-d41e5bd1a239",
        "colab": {
          "base_uri": "https://localhost:8080/"
        }
      },
      "id": "Qcto4xiSZNTm",
      "execution_count": 32,
      "outputs": [
        {
          "output_type": "stream",
          "name": "stdout",
          "text": [
            "W1: [[-0.67707776  1.26238623 -1.36040532 -0.36892191]\n",
            " [ 1.75804956  0.1502188   1.16565621  0.38168048]]\n"
          ]
        }
      ]
    },
    {
      "cell_type": "markdown",
      "source": [
        "-- **W1** represents the weight matrix connecting the input layer to the hidden layer. It has dimensions [input_size x hidden_size], where input_size is the number of input features and hidden_size is the number of neurons in the hidden layer. Each element **W1[i, j]** represents the weight of the connection from input neuron i to hidden neuron j.\n",
        "\n",
        "-- **b1** is the bias vector for the hidden layer. It has dimensions [1 x hidden_size], where each element b1[0, j] represents the bias associated with hidden neuron j.\n",
        "\n",
        "-- **W2** represents the weight matrix connecting the hidden layer to the output layer. It has dimensions [hidden_size x output_size], where hidden_size is the number of neurons in the hidden layer and output_size is the number of output neurons. Each element W2[i, j] represents the weight of the connection from hidden neuron i to output neuron j.\n",
        "\n",
        "-- **b2** is the bias vector for the output layer. It has dimensions [1 x output_size], where each element b2[0, j] represents the bias associated with output neuron j."
      ],
      "metadata": {
        "id": "qRPEtofdhuHL"
      },
      "id": "qRPEtofdhuHL"
    },
    {
      "cell_type": "markdown",
      "source": [
        "**Define the activation function (sigmoid) used in the Neural Network:**"
      ],
      "metadata": {
        "id": "e9zQ_qnpZ1Dn"
      },
      "id": "e9zQ_qnpZ1Dn"
    },
    {
      "cell_type": "code",
      "source": [
        "def sigmoid(x):\n",
        "    return 1 / (1 + np.exp(-x))"
      ],
      "metadata": {
        "id": "Ket_0tWVZRDE"
      },
      "id": "Ket_0tWVZRDE",
      "execution_count": 33,
      "outputs": []
    },
    {
      "cell_type": "markdown",
      "source": [
        "* **Sigmoid activation function:** In Neural Network, there are many activation functions in use. Here we are using the activation function 'sigmoid'. This function takes an input x and returns its sigmoid activation value, which is a real number between 0 and 1, representing the probability of a binary outcome in machine learning tasks like binary classification."
      ],
      "metadata": {
        "id": "3kawIb_TpZKD"
      },
      "id": "3kawIb_TpZKD"
    },
    {
      "cell_type": "markdown",
      "source": [
        "**Forward pass through the Neural Network:**"
      ],
      "metadata": {
        "id": "-Skz2u9DZt-l"
      },
      "id": "-Skz2u9DZt-l"
    },
    {
      "cell_type": "code",
      "source": [
        "Z1 = np.dot(X, W1) + b1                        # Input to hidden layer\n",
        "A1 = sigmoid(Z1)                               # Activation for hidden layer\n",
        "Z2 = np.dot(A1, W2) + b2                       # Hidden to output layer\n",
        "A2 = sigmoid(Z2)                               # Activation for output layer"
      ],
      "metadata": {
        "id": "tXDPlVynZVl8"
      },
      "id": "tXDPlVynZVl8",
      "execution_count": 35,
      "outputs": []
    },
    {
      "cell_type": "markdown",
      "source": [
        "**Compute the loss (Mean Squared Error):**"
      ],
      "metadata": {
        "id": "rd_GYLeeZg48"
      },
      "id": "rd_GYLeeZg48"
    },
    {
      "cell_type": "code",
      "source": [
        "loss = np.mean((Y - A2)**2)"
      ],
      "metadata": {
        "id": "2zDcP3i1ZY40"
      },
      "id": "2zDcP3i1ZY40",
      "execution_count": 36,
      "outputs": []
    },
    {
      "cell_type": "markdown",
      "source": [
        "**Display the output:**"
      ],
      "metadata": {
        "id": "qmPt0N78ZdXD"
      },
      "id": "qmPt0N78ZdXD"
    },
    {
      "cell_type": "code",
      "source": [
        "# Print output\n",
        "print(\"Input:\")\n",
        "print(X)\n",
        "print(\"\\nPredicted Output:\")\n",
        "print(A2)\n",
        "print(\"\\nActual Output:\")\n",
        "print(Y)\n",
        "print(\"\\nLoss:\", loss)"
      ],
      "metadata": {
        "id": "zJrdPQNzZb7l",
        "outputId": "af031e2b-1396-4c01-a6ee-eb931b2732d0",
        "colab": {
          "base_uri": "https://localhost:8080/"
        }
      },
      "id": "zJrdPQNzZb7l",
      "execution_count": 37,
      "outputs": [
        {
          "output_type": "stream",
          "name": "stdout",
          "text": [
            "Input:\n",
            "[[0 0]\n",
            " [0 1]\n",
            " [1 0]\n",
            " [1 1]]\n",
            "\n",
            "Predicted Output:\n",
            "[[0.59864797]\n",
            " [0.60660726]\n",
            " [0.5239896 ]\n",
            " [0.5260772 ]]\n",
            "\n",
            "Actual Output:\n",
            "[[0]\n",
            " [1]\n",
            " [1]\n",
            " [0]]\n",
            "\n",
            "Loss: 0.25412009027878635\n"
          ]
        }
      ]
    },
    {
      "cell_type": "markdown",
      "source": [
        "### Please answer the questions below to complete the experiment:\n",
        "\n",
        "\n"
      ],
      "metadata": {
        "id": "IsSieWTQbZIe"
      },
      "id": "IsSieWTQbZIe"
    },
    {
      "cell_type": "code",
      "source": [
        "# @title A ClusterSpec is built using a dictionary, where the key is a { run: \"auto\", form-width: \"500px\", display-mode: \"form\" }\n",
        "Answer = \"job name\" #@param [\"\",\"node\",\"cluster\", \"job name\", \"none of the above\"]"
      ],
      "metadata": {
        "id": "9LIBJIOqdmFB"
      },
      "id": "9LIBJIOqdmFB",
      "execution_count": 38,
      "outputs": []
    },
    {
      "cell_type": "code",
      "source": [
        "#@title How was the experiment? { run: \"auto\", form-width: \"500px\", display-mode: \"form\" }\n",
        "Complexity = \"Good and Challenging for me\" #@param [\"\",\"Too Simple, I am wasting time\", \"Good, But Not Challenging for me\", \"Good and Challenging for me\", \"Was Tough, but I did it\", \"Too Difficult for me\"]"
      ],
      "metadata": {
        "id": "oCQjsuVZeP8v"
      },
      "id": "oCQjsuVZeP8v",
      "execution_count": 39,
      "outputs": []
    },
    {
      "cell_type": "code",
      "source": [
        "#@title If it was too easy, what more would you have liked to be added? If it was very difficult, what would you have liked to have been removed? { run: \"auto\", display-mode: \"form\" }\n",
        "Additional = \"..\" #@param {type:\"string\"}"
      ],
      "metadata": {
        "id": "rhmrXnbqeUSx"
      },
      "id": "rhmrXnbqeUSx",
      "execution_count": 40,
      "outputs": []
    },
    {
      "cell_type": "code",
      "source": [
        "#@title Can you identify the concepts from the lecture which this experiment covered? { run: \"auto\", vertical-output: true, display-mode: \"form\" }\n",
        "Concepts = \"Yes\" #@param [\"\",\"Yes\", \"No\"]"
      ],
      "metadata": {
        "id": "AK7WF5CHeZSe"
      },
      "id": "AK7WF5CHeZSe",
      "execution_count": 41,
      "outputs": []
    },
    {
      "cell_type": "code",
      "source": [
        "#@title  Text and image description/explanation and code comments within the experiment: { run: \"auto\", vertical-output: true, display-mode: \"form\" }\n",
        "Comments = \"Very Useful\" #@param [\"\",\"Very Useful\", \"Somewhat Useful\", \"Not Useful\", \"Didn't use\"]"
      ],
      "metadata": {
        "id": "HUeM67gPedkA"
      },
      "id": "HUeM67gPedkA",
      "execution_count": 42,
      "outputs": []
    },
    {
      "cell_type": "code",
      "source": [
        "#@title Mentor Support: { run: \"auto\", vertical-output: true, display-mode: \"form\" }\n",
        "Mentor_support = \"Didn't use\" #@param [\"\",\"Very Useful\", \"Somewhat Useful\", \"Not Useful\", \"Didn't use\"]"
      ],
      "metadata": {
        "id": "XQoZ1qhqeiVm"
      },
      "id": "XQoZ1qhqeiVm",
      "execution_count": 43,
      "outputs": []
    },
    {
      "cell_type": "code",
      "source": [
        "#@title Run this cell to submit your notebook for grading { vertical-output: true }\n",
        "try:\n",
        "  if submission_id:\n",
        "      return_id = submit_notebook()\n",
        "      if return_id : submission_id = return_id\n",
        "  else:\n",
        "      print(\"Please complete the setup first.\")\n",
        "except NameError:\n",
        "  print (\"Please complete the setup first.\")"
      ],
      "metadata": {
        "cellView": "form",
        "id": "pW1pJhG7eokO",
        "outputId": "a185d080-018e-4fe2-80e4-69d9e7c67006",
        "colab": {
          "base_uri": "https://localhost:8080/"
        }
      },
      "id": "pW1pJhG7eokO",
      "execution_count": 44,
      "outputs": [
        {
          "output_type": "stream",
          "name": "stdout",
          "text": [
            "Your submission is successful.\n",
            "Ref Id: 5417\n",
            "Date of submission:  31 May 2025\n",
            "Time of submission:  20:57:21\n",
            "View your submissions: https://learn-iisc.talentsprint.com/notebook_submissions\n"
          ]
        }
      ]
    }
  ]
}